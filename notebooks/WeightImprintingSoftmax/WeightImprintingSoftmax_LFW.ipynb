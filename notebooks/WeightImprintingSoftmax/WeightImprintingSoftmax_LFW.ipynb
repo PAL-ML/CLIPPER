{
  "nbformat": 4,
  "nbformat_minor": 0,
  "metadata": {
    "colab": {
      "name": "WeightImprintingSoftmax_LFW.ipynb",
      "provenance": [],
      "collapsed_sections": [
        "RGlVnbugxFK2",
        "3rKe3HqM523g",
        "OLU-gp7n8__E",
        "9z1WQnXdLHy2",
        "iLbRqaYxzbr7",
        "CR1kYmyMrU5m",
        "kyH9saS5rU5h",
        "ojrPPNgLrU5k",
        "dVZdgh9MrU5p",
        "KSa-atzfrU5t",
        "Tn0jXMft8yHQ",
        "UWJ4yizhrU5v",
        "vQTYVh3prU5w",
        "nuHQ00t-rU5y",
        "l6f6ksC9rU50",
        "P8Kzc8bCrU51",
        "qLTa85NIrU53",
        "gKONnL55rU54",
        "44Nw52GYzUQg",
        "cOdSfodivGga",
        "8kKBQlF6C2pM",
        "3WfqxT8TC3sN",
        "GpDsLlZgC4ZS",
        "XRktKMM1FBQj",
        "eUuQyU_pFBy5",
        "J9TjD20ZF--3",
        "tXWr6eU9zZAm",
        "XXOq4OSmfTHk",
        "ZIRV1Vd1fTHm",
        "jVe5zop2fTHo",
        "lB9CC7CPfTHp",
        "_5ERMS1EfTHr",
        "Ga_wqexZfTHs",
        "Lply8DvLfTHu",
        "qo4S-4XzzcPp"
      ],
      "toc_visible": true
    },
    "kernelspec": {
      "display_name": "Python 3",
      "name": "python3"
    },
    "accelerator": "GPU",
    "widgets": {
      "application/vnd.jupyter.widget-state+json": {
        "c8b15f7bf7414e63aa06bb045211f4f8": {
          "model_module": "@jupyter-widgets/controls",
          "model_name": "HBoxModel",
          "state": {
            "_view_name": "HBoxView",
            "_dom_classes": [],
            "_model_name": "HBoxModel",
            "_view_module": "@jupyter-widgets/controls",
            "_model_module_version": "1.5.0",
            "_view_count": null,
            "_view_module_version": "1.5.0",
            "box_style": "",
            "layout": "IPY_MODEL_db3c981cee0d4f5aa89526dee9858f12",
            "_model_module": "@jupyter-widgets/controls",
            "children": [
              "IPY_MODEL_dcfb60a7bdf74d9ba7c19b0a96b956ea",
              "IPY_MODEL_99f1274f52054fd0be4d884fb8526ab9"
            ]
          }
        },
        "db3c981cee0d4f5aa89526dee9858f12": {
          "model_module": "@jupyter-widgets/base",
          "model_name": "LayoutModel",
          "state": {
            "_view_name": "LayoutView",
            "grid_template_rows": null,
            "right": null,
            "justify_content": null,
            "_view_module": "@jupyter-widgets/base",
            "overflow": null,
            "_model_module_version": "1.2.0",
            "_view_count": null,
            "flex_flow": null,
            "width": null,
            "min_width": null,
            "border": null,
            "align_items": null,
            "bottom": null,
            "_model_module": "@jupyter-widgets/base",
            "top": null,
            "grid_column": null,
            "overflow_y": null,
            "overflow_x": null,
            "grid_auto_flow": null,
            "grid_area": null,
            "grid_template_columns": null,
            "flex": null,
            "_model_name": "LayoutModel",
            "justify_items": null,
            "grid_row": null,
            "max_height": null,
            "align_content": null,
            "visibility": null,
            "align_self": null,
            "height": null,
            "min_height": null,
            "padding": null,
            "grid_auto_rows": null,
            "grid_gap": null,
            "max_width": null,
            "order": null,
            "_view_module_version": "1.2.0",
            "grid_template_areas": null,
            "object_position": null,
            "object_fit": null,
            "grid_auto_columns": null,
            "margin": null,
            "display": null,
            "left": null
          }
        },
        "dcfb60a7bdf74d9ba7c19b0a96b956ea": {
          "model_module": "@jupyter-widgets/controls",
          "model_name": "FloatProgressModel",
          "state": {
            "_view_name": "ProgressView",
            "style": "IPY_MODEL_03c59f93920c4784933a8490614d3d48",
            "_dom_classes": [],
            "description": "Dl Completed...: 100%",
            "_model_name": "FloatProgressModel",
            "bar_style": "success",
            "max": 1,
            "_view_module": "@jupyter-widgets/controls",
            "_model_module_version": "1.5.0",
            "value": 1,
            "_view_count": null,
            "_view_module_version": "1.5.0",
            "orientation": "horizontal",
            "min": 0,
            "description_tooltip": null,
            "_model_module": "@jupyter-widgets/controls",
            "layout": "IPY_MODEL_583045e6386b4441a0462ce6cc119117"
          }
        },
        "99f1274f52054fd0be4d884fb8526ab9": {
          "model_module": "@jupyter-widgets/controls",
          "model_name": "HTMLModel",
          "state": {
            "_view_name": "HTMLView",
            "style": "IPY_MODEL_32932ff916394f58bcff5d3c08e93f07",
            "_dom_classes": [],
            "description": "",
            "_model_name": "HTMLModel",
            "placeholder": "​",
            "_view_module": "@jupyter-widgets/controls",
            "_model_module_version": "1.5.0",
            "value": " 1/1 [00:24&lt;00:00, 24.36s/ url]",
            "_view_count": null,
            "_view_module_version": "1.5.0",
            "description_tooltip": null,
            "_model_module": "@jupyter-widgets/controls",
            "layout": "IPY_MODEL_f8f73334d5b14fb48246fa91213e2c37"
          }
        },
        "03c59f93920c4784933a8490614d3d48": {
          "model_module": "@jupyter-widgets/controls",
          "model_name": "ProgressStyleModel",
          "state": {
            "_view_name": "StyleView",
            "_model_name": "ProgressStyleModel",
            "description_width": "initial",
            "_view_module": "@jupyter-widgets/base",
            "_model_module_version": "1.5.0",
            "_view_count": null,
            "_view_module_version": "1.2.0",
            "bar_color": null,
            "_model_module": "@jupyter-widgets/controls"
          }
        },
        "583045e6386b4441a0462ce6cc119117": {
          "model_module": "@jupyter-widgets/base",
          "model_name": "LayoutModel",
          "state": {
            "_view_name": "LayoutView",
            "grid_template_rows": null,
            "right": null,
            "justify_content": null,
            "_view_module": "@jupyter-widgets/base",
            "overflow": null,
            "_model_module_version": "1.2.0",
            "_view_count": null,
            "flex_flow": null,
            "width": null,
            "min_width": null,
            "border": null,
            "align_items": null,
            "bottom": null,
            "_model_module": "@jupyter-widgets/base",
            "top": null,
            "grid_column": null,
            "overflow_y": null,
            "overflow_x": null,
            "grid_auto_flow": null,
            "grid_area": null,
            "grid_template_columns": null,
            "flex": null,
            "_model_name": "LayoutModel",
            "justify_items": null,
            "grid_row": null,
            "max_height": null,
            "align_content": null,
            "visibility": null,
            "align_self": null,
            "height": null,
            "min_height": null,
            "padding": null,
            "grid_auto_rows": null,
            "grid_gap": null,
            "max_width": null,
            "order": null,
            "_view_module_version": "1.2.0",
            "grid_template_areas": null,
            "object_position": null,
            "object_fit": null,
            "grid_auto_columns": null,
            "margin": null,
            "display": null,
            "left": null
          }
        },
        "32932ff916394f58bcff5d3c08e93f07": {
          "model_module": "@jupyter-widgets/controls",
          "model_name": "DescriptionStyleModel",
          "state": {
            "_view_name": "StyleView",
            "_model_name": "DescriptionStyleModel",
            "description_width": "",
            "_view_module": "@jupyter-widgets/base",
            "_model_module_version": "1.5.0",
            "_view_count": null,
            "_view_module_version": "1.2.0",
            "_model_module": "@jupyter-widgets/controls"
          }
        },
        "f8f73334d5b14fb48246fa91213e2c37": {
          "model_module": "@jupyter-widgets/base",
          "model_name": "LayoutModel",
          "state": {
            "_view_name": "LayoutView",
            "grid_template_rows": null,
            "right": null,
            "justify_content": null,
            "_view_module": "@jupyter-widgets/base",
            "overflow": null,
            "_model_module_version": "1.2.0",
            "_view_count": null,
            "flex_flow": null,
            "width": null,
            "min_width": null,
            "border": null,
            "align_items": null,
            "bottom": null,
            "_model_module": "@jupyter-widgets/base",
            "top": null,
            "grid_column": null,
            "overflow_y": null,
            "overflow_x": null,
            "grid_auto_flow": null,
            "grid_area": null,
            "grid_template_columns": null,
            "flex": null,
            "_model_name": "LayoutModel",
            "justify_items": null,
            "grid_row": null,
            "max_height": null,
            "align_content": null,
            "visibility": null,
            "align_self": null,
            "height": null,
            "min_height": null,
            "padding": null,
            "grid_auto_rows": null,
            "grid_gap": null,
            "max_width": null,
            "order": null,
            "_view_module_version": "1.2.0",
            "grid_template_areas": null,
            "object_position": null,
            "object_fit": null,
            "grid_auto_columns": null,
            "margin": null,
            "display": null,
            "left": null
          }
        },
        "a2f0150a3ef048f4b51a88039ddd0515": {
          "model_module": "@jupyter-widgets/controls",
          "model_name": "HBoxModel",
          "state": {
            "_view_name": "HBoxView",
            "_dom_classes": [],
            "_model_name": "HBoxModel",
            "_view_module": "@jupyter-widgets/controls",
            "_model_module_version": "1.5.0",
            "_view_count": null,
            "_view_module_version": "1.5.0",
            "box_style": "",
            "layout": "IPY_MODEL_94ad72e010b441feb92e1eecc7099994",
            "_model_module": "@jupyter-widgets/controls",
            "children": [
              "IPY_MODEL_0c134309ee8e4344ae0b31441879e843",
              "IPY_MODEL_ce5a6ba0e83a4816a8c3d82151d0ae19"
            ]
          }
        },
        "94ad72e010b441feb92e1eecc7099994": {
          "model_module": "@jupyter-widgets/base",
          "model_name": "LayoutModel",
          "state": {
            "_view_name": "LayoutView",
            "grid_template_rows": null,
            "right": null,
            "justify_content": null,
            "_view_module": "@jupyter-widgets/base",
            "overflow": null,
            "_model_module_version": "1.2.0",
            "_view_count": null,
            "flex_flow": null,
            "width": null,
            "min_width": null,
            "border": null,
            "align_items": null,
            "bottom": null,
            "_model_module": "@jupyter-widgets/base",
            "top": null,
            "grid_column": null,
            "overflow_y": null,
            "overflow_x": null,
            "grid_auto_flow": null,
            "grid_area": null,
            "grid_template_columns": null,
            "flex": null,
            "_model_name": "LayoutModel",
            "justify_items": null,
            "grid_row": null,
            "max_height": null,
            "align_content": null,
            "visibility": null,
            "align_self": null,
            "height": null,
            "min_height": null,
            "padding": null,
            "grid_auto_rows": null,
            "grid_gap": null,
            "max_width": null,
            "order": null,
            "_view_module_version": "1.2.0",
            "grid_template_areas": null,
            "object_position": null,
            "object_fit": null,
            "grid_auto_columns": null,
            "margin": null,
            "display": null,
            "left": null
          }
        },
        "0c134309ee8e4344ae0b31441879e843": {
          "model_module": "@jupyter-widgets/controls",
          "model_name": "FloatProgressModel",
          "state": {
            "_view_name": "ProgressView",
            "style": "IPY_MODEL_1fe9aaa884fc451aad6178d393dfe89d",
            "_dom_classes": [],
            "description": "Dl Size...: 100%",
            "_model_name": "FloatProgressModel",
            "bar_style": "success",
            "max": 1,
            "_view_module": "@jupyter-widgets/controls",
            "_model_module_version": "1.5.0",
            "value": 1,
            "_view_count": null,
            "_view_module_version": "1.5.0",
            "orientation": "horizontal",
            "min": 0,
            "description_tooltip": null,
            "_model_module": "@jupyter-widgets/controls",
            "layout": "IPY_MODEL_c3b5d10cea6f439aa476eb8d18b9ac21"
          }
        },
        "ce5a6ba0e83a4816a8c3d82151d0ae19": {
          "model_module": "@jupyter-widgets/controls",
          "model_name": "HTMLModel",
          "state": {
            "_view_name": "HTMLView",
            "style": "IPY_MODEL_208a3938b2ad41ce97e13cb65e50240a",
            "_dom_classes": [],
            "description": "",
            "_model_name": "HTMLModel",
            "placeholder": "​",
            "_view_module": "@jupyter-widgets/controls",
            "_model_module_version": "1.5.0",
            "value": " 172/172 [00:24&lt;00:00,  7.07 MiB/s]",
            "_view_count": null,
            "_view_module_version": "1.5.0",
            "description_tooltip": null,
            "_model_module": "@jupyter-widgets/controls",
            "layout": "IPY_MODEL_42edd1450bbf4bdf87df8b5eba76466c"
          }
        },
        "1fe9aaa884fc451aad6178d393dfe89d": {
          "model_module": "@jupyter-widgets/controls",
          "model_name": "ProgressStyleModel",
          "state": {
            "_view_name": "StyleView",
            "_model_name": "ProgressStyleModel",
            "description_width": "initial",
            "_view_module": "@jupyter-widgets/base",
            "_model_module_version": "1.5.0",
            "_view_count": null,
            "_view_module_version": "1.2.0",
            "bar_color": null,
            "_model_module": "@jupyter-widgets/controls"
          }
        },
        "c3b5d10cea6f439aa476eb8d18b9ac21": {
          "model_module": "@jupyter-widgets/base",
          "model_name": "LayoutModel",
          "state": {
            "_view_name": "LayoutView",
            "grid_template_rows": null,
            "right": null,
            "justify_content": null,
            "_view_module": "@jupyter-widgets/base",
            "overflow": null,
            "_model_module_version": "1.2.0",
            "_view_count": null,
            "flex_flow": null,
            "width": null,
            "min_width": null,
            "border": null,
            "align_items": null,
            "bottom": null,
            "_model_module": "@jupyter-widgets/base",
            "top": null,
            "grid_column": null,
            "overflow_y": null,
            "overflow_x": null,
            "grid_auto_flow": null,
            "grid_area": null,
            "grid_template_columns": null,
            "flex": null,
            "_model_name": "LayoutModel",
            "justify_items": null,
            "grid_row": null,
            "max_height": null,
            "align_content": null,
            "visibility": null,
            "align_self": null,
            "height": null,
            "min_height": null,
            "padding": null,
            "grid_auto_rows": null,
            "grid_gap": null,
            "max_width": null,
            "order": null,
            "_view_module_version": "1.2.0",
            "grid_template_areas": null,
            "object_position": null,
            "object_fit": null,
            "grid_auto_columns": null,
            "margin": null,
            "display": null,
            "left": null
          }
        },
        "208a3938b2ad41ce97e13cb65e50240a": {
          "model_module": "@jupyter-widgets/controls",
          "model_name": "DescriptionStyleModel",
          "state": {
            "_view_name": "StyleView",
            "_model_name": "DescriptionStyleModel",
            "description_width": "",
            "_view_module": "@jupyter-widgets/base",
            "_model_module_version": "1.5.0",
            "_view_count": null,
            "_view_module_version": "1.2.0",
            "_model_module": "@jupyter-widgets/controls"
          }
        },
        "42edd1450bbf4bdf87df8b5eba76466c": {
          "model_module": "@jupyter-widgets/base",
          "model_name": "LayoutModel",
          "state": {
            "_view_name": "LayoutView",
            "grid_template_rows": null,
            "right": null,
            "justify_content": null,
            "_view_module": "@jupyter-widgets/base",
            "overflow": null,
            "_model_module_version": "1.2.0",
            "_view_count": null,
            "flex_flow": null,
            "width": null,
            "min_width": null,
            "border": null,
            "align_items": null,
            "bottom": null,
            "_model_module": "@jupyter-widgets/base",
            "top": null,
            "grid_column": null,
            "overflow_y": null,
            "overflow_x": null,
            "grid_auto_flow": null,
            "grid_area": null,
            "grid_template_columns": null,
            "flex": null,
            "_model_name": "LayoutModel",
            "justify_items": null,
            "grid_row": null,
            "max_height": null,
            "align_content": null,
            "visibility": null,
            "align_self": null,
            "height": null,
            "min_height": null,
            "padding": null,
            "grid_auto_rows": null,
            "grid_gap": null,
            "max_width": null,
            "order": null,
            "_view_module_version": "1.2.0",
            "grid_template_areas": null,
            "object_position": null,
            "object_fit": null,
            "grid_auto_columns": null,
            "margin": null,
            "display": null,
            "left": null
          }
        },
        "12af7aa05c3e46a082459911cfa02dc2": {
          "model_module": "@jupyter-widgets/controls",
          "model_name": "HBoxModel",
          "state": {
            "_view_name": "HBoxView",
            "_dom_classes": [],
            "_model_name": "HBoxModel",
            "_view_module": "@jupyter-widgets/controls",
            "_model_module_version": "1.5.0",
            "_view_count": null,
            "_view_module_version": "1.5.0",
            "box_style": "",
            "layout": "IPY_MODEL_6d5797c772254bcf99c93d8933b3473f",
            "_model_module": "@jupyter-widgets/controls",
            "children": [
              "IPY_MODEL_cae45386fd564b61b8d2fdb5a9da824e",
              "IPY_MODEL_1dfd2e8095814ae896ac2c6cb001ff0c"
            ]
          }
        },
        "6d5797c772254bcf99c93d8933b3473f": {
          "model_module": "@jupyter-widgets/base",
          "model_name": "LayoutModel",
          "state": {
            "_view_name": "LayoutView",
            "grid_template_rows": null,
            "right": null,
            "justify_content": null,
            "_view_module": "@jupyter-widgets/base",
            "overflow": null,
            "_model_module_version": "1.2.0",
            "_view_count": null,
            "flex_flow": null,
            "width": null,
            "min_width": null,
            "border": null,
            "align_items": null,
            "bottom": null,
            "_model_module": "@jupyter-widgets/base",
            "top": null,
            "grid_column": null,
            "overflow_y": null,
            "overflow_x": null,
            "grid_auto_flow": null,
            "grid_area": null,
            "grid_template_columns": null,
            "flex": null,
            "_model_name": "LayoutModel",
            "justify_items": null,
            "grid_row": null,
            "max_height": null,
            "align_content": null,
            "visibility": null,
            "align_self": null,
            "height": null,
            "min_height": null,
            "padding": null,
            "grid_auto_rows": null,
            "grid_gap": null,
            "max_width": null,
            "order": null,
            "_view_module_version": "1.2.0",
            "grid_template_areas": null,
            "object_position": null,
            "object_fit": null,
            "grid_auto_columns": null,
            "margin": null,
            "display": null,
            "left": null
          }
        },
        "cae45386fd564b61b8d2fdb5a9da824e": {
          "model_module": "@jupyter-widgets/controls",
          "model_name": "FloatProgressModel",
          "state": {
            "_view_name": "ProgressView",
            "style": "IPY_MODEL_76944fd6def44beeab1eb09b22e8f243",
            "_dom_classes": [],
            "description": "Extraction completed...: 100%",
            "_model_name": "FloatProgressModel",
            "bar_style": "success",
            "max": 1,
            "_view_module": "@jupyter-widgets/controls",
            "_model_module_version": "1.5.0",
            "value": 1,
            "_view_count": null,
            "_view_module_version": "1.5.0",
            "orientation": "horizontal",
            "min": 0,
            "description_tooltip": null,
            "_model_module": "@jupyter-widgets/controls",
            "layout": "IPY_MODEL_05fa7d81bf5749ad8fbc5654d218e9c6"
          }
        },
        "1dfd2e8095814ae896ac2c6cb001ff0c": {
          "model_module": "@jupyter-widgets/controls",
          "model_name": "HTMLModel",
          "state": {
            "_view_name": "HTMLView",
            "style": "IPY_MODEL_77447f9705ef40f08ba63066301385f6",
            "_dom_classes": [],
            "description": "",
            "_model_name": "HTMLModel",
            "placeholder": "​",
            "_view_module": "@jupyter-widgets/controls",
            "_model_module_version": "1.5.0",
            "value": " 1/1 [00:24&lt;00:00, 24.26s/ file]",
            "_view_count": null,
            "_view_module_version": "1.5.0",
            "description_tooltip": null,
            "_model_module": "@jupyter-widgets/controls",
            "layout": "IPY_MODEL_7bb050b0d1e048218bad698bfeb99ae9"
          }
        },
        "76944fd6def44beeab1eb09b22e8f243": {
          "model_module": "@jupyter-widgets/controls",
          "model_name": "ProgressStyleModel",
          "state": {
            "_view_name": "StyleView",
            "_model_name": "ProgressStyleModel",
            "description_width": "initial",
            "_view_module": "@jupyter-widgets/base",
            "_model_module_version": "1.5.0",
            "_view_count": null,
            "_view_module_version": "1.2.0",
            "bar_color": null,
            "_model_module": "@jupyter-widgets/controls"
          }
        },
        "05fa7d81bf5749ad8fbc5654d218e9c6": {
          "model_module": "@jupyter-widgets/base",
          "model_name": "LayoutModel",
          "state": {
            "_view_name": "LayoutView",
            "grid_template_rows": null,
            "right": null,
            "justify_content": null,
            "_view_module": "@jupyter-widgets/base",
            "overflow": null,
            "_model_module_version": "1.2.0",
            "_view_count": null,
            "flex_flow": null,
            "width": null,
            "min_width": null,
            "border": null,
            "align_items": null,
            "bottom": null,
            "_model_module": "@jupyter-widgets/base",
            "top": null,
            "grid_column": null,
            "overflow_y": null,
            "overflow_x": null,
            "grid_auto_flow": null,
            "grid_area": null,
            "grid_template_columns": null,
            "flex": null,
            "_model_name": "LayoutModel",
            "justify_items": null,
            "grid_row": null,
            "max_height": null,
            "align_content": null,
            "visibility": null,
            "align_self": null,
            "height": null,
            "min_height": null,
            "padding": null,
            "grid_auto_rows": null,
            "grid_gap": null,
            "max_width": null,
            "order": null,
            "_view_module_version": "1.2.0",
            "grid_template_areas": null,
            "object_position": null,
            "object_fit": null,
            "grid_auto_columns": null,
            "margin": null,
            "display": null,
            "left": null
          }
        },
        "77447f9705ef40f08ba63066301385f6": {
          "model_module": "@jupyter-widgets/controls",
          "model_name": "DescriptionStyleModel",
          "state": {
            "_view_name": "StyleView",
            "_model_name": "DescriptionStyleModel",
            "description_width": "",
            "_view_module": "@jupyter-widgets/base",
            "_model_module_version": "1.5.0",
            "_view_count": null,
            "_view_module_version": "1.2.0",
            "_model_module": "@jupyter-widgets/controls"
          }
        },
        "7bb050b0d1e048218bad698bfeb99ae9": {
          "model_module": "@jupyter-widgets/base",
          "model_name": "LayoutModel",
          "state": {
            "_view_name": "LayoutView",
            "grid_template_rows": null,
            "right": null,
            "justify_content": null,
            "_view_module": "@jupyter-widgets/base",
            "overflow": null,
            "_model_module_version": "1.2.0",
            "_view_count": null,
            "flex_flow": null,
            "width": null,
            "min_width": null,
            "border": null,
            "align_items": null,
            "bottom": null,
            "_model_module": "@jupyter-widgets/base",
            "top": null,
            "grid_column": null,
            "overflow_y": null,
            "overflow_x": null,
            "grid_auto_flow": null,
            "grid_area": null,
            "grid_template_columns": null,
            "flex": null,
            "_model_name": "LayoutModel",
            "justify_items": null,
            "grid_row": null,
            "max_height": null,
            "align_content": null,
            "visibility": null,
            "align_self": null,
            "height": null,
            "min_height": null,
            "padding": null,
            "grid_auto_rows": null,
            "grid_gap": null,
            "max_width": null,
            "order": null,
            "_view_module_version": "1.2.0",
            "grid_template_areas": null,
            "object_position": null,
            "object_fit": null,
            "grid_auto_columns": null,
            "margin": null,
            "display": null,
            "left": null
          }
        },
        "f98b9629ea7645e89b463b6f1bcde0bf": {
          "model_module": "@jupyter-widgets/controls",
          "model_name": "HBoxModel",
          "state": {
            "_view_name": "HBoxView",
            "_dom_classes": [],
            "_model_name": "HBoxModel",
            "_view_module": "@jupyter-widgets/controls",
            "_model_module_version": "1.5.0",
            "_view_count": null,
            "_view_module_version": "1.5.0",
            "box_style": "",
            "layout": "IPY_MODEL_7ac38a9aba84410f99856eeb7b462e05",
            "_model_module": "@jupyter-widgets/controls",
            "children": [
              "IPY_MODEL_adcc5111a4264ff39a79f47879789f26",
              "IPY_MODEL_5ee9467d51d3417da81e0df012aac655"
            ]
          }
        },
        "7ac38a9aba84410f99856eeb7b462e05": {
          "model_module": "@jupyter-widgets/base",
          "model_name": "LayoutModel",
          "state": {
            "_view_name": "LayoutView",
            "grid_template_rows": null,
            "right": null,
            "justify_content": null,
            "_view_module": "@jupyter-widgets/base",
            "overflow": null,
            "_model_module_version": "1.2.0",
            "_view_count": null,
            "flex_flow": null,
            "width": null,
            "min_width": null,
            "border": null,
            "align_items": null,
            "bottom": null,
            "_model_module": "@jupyter-widgets/base",
            "top": null,
            "grid_column": null,
            "overflow_y": null,
            "overflow_x": null,
            "grid_auto_flow": null,
            "grid_area": null,
            "grid_template_columns": null,
            "flex": null,
            "_model_name": "LayoutModel",
            "justify_items": null,
            "grid_row": null,
            "max_height": null,
            "align_content": null,
            "visibility": null,
            "align_self": null,
            "height": null,
            "min_height": null,
            "padding": null,
            "grid_auto_rows": null,
            "grid_gap": null,
            "max_width": null,
            "order": null,
            "_view_module_version": "1.2.0",
            "grid_template_areas": null,
            "object_position": null,
            "object_fit": null,
            "grid_auto_columns": null,
            "margin": null,
            "display": null,
            "left": null
          }
        },
        "adcc5111a4264ff39a79f47879789f26": {
          "model_module": "@jupyter-widgets/controls",
          "model_name": "FloatProgressModel",
          "state": {
            "_view_name": "ProgressView",
            "style": "IPY_MODEL_f28a5446b2d845d58354f563e5829c6e",
            "_dom_classes": [],
            "description": "",
            "_model_name": "FloatProgressModel",
            "bar_style": "info",
            "max": 1,
            "_view_module": "@jupyter-widgets/controls",
            "_model_module_version": "1.5.0",
            "value": 1,
            "_view_count": null,
            "_view_module_version": "1.5.0",
            "orientation": "horizontal",
            "min": 0,
            "description_tooltip": null,
            "_model_module": "@jupyter-widgets/controls",
            "layout": "IPY_MODEL_73ec9e93f6e94486835cd1115b088f0b"
          }
        },
        "5ee9467d51d3417da81e0df012aac655": {
          "model_module": "@jupyter-widgets/controls",
          "model_name": "HTMLModel",
          "state": {
            "_view_name": "HTMLView",
            "style": "IPY_MODEL_d134db0279f44d8f899f6993519f5b93",
            "_dom_classes": [],
            "description": "",
            "_model_name": "HTMLModel",
            "placeholder": "​",
            "_view_module": "@jupyter-widgets/controls",
            "_model_module_version": "1.5.0",
            "value": " 13233/0 [00:06&lt;00:00, 2277.06 examples/s]",
            "_view_count": null,
            "_view_module_version": "1.5.0",
            "description_tooltip": null,
            "_model_module": "@jupyter-widgets/controls",
            "layout": "IPY_MODEL_b6671edf62a942a3af29b17d23322e0c"
          }
        },
        "f28a5446b2d845d58354f563e5829c6e": {
          "model_module": "@jupyter-widgets/controls",
          "model_name": "ProgressStyleModel",
          "state": {
            "_view_name": "StyleView",
            "_model_name": "ProgressStyleModel",
            "description_width": "initial",
            "_view_module": "@jupyter-widgets/base",
            "_model_module_version": "1.5.0",
            "_view_count": null,
            "_view_module_version": "1.2.0",
            "bar_color": null,
            "_model_module": "@jupyter-widgets/controls"
          }
        },
        "73ec9e93f6e94486835cd1115b088f0b": {
          "model_module": "@jupyter-widgets/base",
          "model_name": "LayoutModel",
          "state": {
            "_view_name": "LayoutView",
            "grid_template_rows": null,
            "right": null,
            "justify_content": null,
            "_view_module": "@jupyter-widgets/base",
            "overflow": null,
            "_model_module_version": "1.2.0",
            "_view_count": null,
            "flex_flow": null,
            "width": null,
            "min_width": null,
            "border": null,
            "align_items": null,
            "bottom": null,
            "_model_module": "@jupyter-widgets/base",
            "top": null,
            "grid_column": null,
            "overflow_y": null,
            "overflow_x": null,
            "grid_auto_flow": null,
            "grid_area": null,
            "grid_template_columns": null,
            "flex": null,
            "_model_name": "LayoutModel",
            "justify_items": null,
            "grid_row": null,
            "max_height": null,
            "align_content": null,
            "visibility": null,
            "align_self": null,
            "height": null,
            "min_height": null,
            "padding": null,
            "grid_auto_rows": null,
            "grid_gap": null,
            "max_width": null,
            "order": null,
            "_view_module_version": "1.2.0",
            "grid_template_areas": null,
            "object_position": null,
            "object_fit": null,
            "grid_auto_columns": null,
            "margin": null,
            "display": null,
            "left": null
          }
        },
        "d134db0279f44d8f899f6993519f5b93": {
          "model_module": "@jupyter-widgets/controls",
          "model_name": "DescriptionStyleModel",
          "state": {
            "_view_name": "StyleView",
            "_model_name": "DescriptionStyleModel",
            "description_width": "",
            "_view_module": "@jupyter-widgets/base",
            "_model_module_version": "1.5.0",
            "_view_count": null,
            "_view_module_version": "1.2.0",
            "_model_module": "@jupyter-widgets/controls"
          }
        },
        "b6671edf62a942a3af29b17d23322e0c": {
          "model_module": "@jupyter-widgets/base",
          "model_name": "LayoutModel",
          "state": {
            "_view_name": "LayoutView",
            "grid_template_rows": null,
            "right": null,
            "justify_content": null,
            "_view_module": "@jupyter-widgets/base",
            "overflow": null,
            "_model_module_version": "1.2.0",
            "_view_count": null,
            "flex_flow": null,
            "width": null,
            "min_width": null,
            "border": null,
            "align_items": null,
            "bottom": null,
            "_model_module": "@jupyter-widgets/base",
            "top": null,
            "grid_column": null,
            "overflow_y": null,
            "overflow_x": null,
            "grid_auto_flow": null,
            "grid_area": null,
            "grid_template_columns": null,
            "flex": null,
            "_model_name": "LayoutModel",
            "justify_items": null,
            "grid_row": null,
            "max_height": null,
            "align_content": null,
            "visibility": null,
            "align_self": null,
            "height": null,
            "min_height": null,
            "padding": null,
            "grid_auto_rows": null,
            "grid_gap": null,
            "max_width": null,
            "order": null,
            "_view_module_version": "1.2.0",
            "grid_template_areas": null,
            "object_position": null,
            "object_fit": null,
            "grid_auto_columns": null,
            "margin": null,
            "display": null,
            "left": null
          }
        },
        "e32e4e74f62540aeb51d1a7b414ff6e0": {
          "model_module": "@jupyter-widgets/controls",
          "model_name": "HBoxModel",
          "state": {
            "_view_name": "HBoxView",
            "_dom_classes": [],
            "_model_name": "HBoxModel",
            "_view_module": "@jupyter-widgets/controls",
            "_model_module_version": "1.5.0",
            "_view_count": null,
            "_view_module_version": "1.5.0",
            "box_style": "",
            "layout": "IPY_MODEL_2f11663c35584df28362f16fd00aef1f",
            "_model_module": "@jupyter-widgets/controls",
            "children": [
              "IPY_MODEL_24db1357b24a43e1ba9d97f65e78de0e",
              "IPY_MODEL_783de9a375ad43bb92757eac0c02d901"
            ]
          }
        },
        "2f11663c35584df28362f16fd00aef1f": {
          "model_module": "@jupyter-widgets/base",
          "model_name": "LayoutModel",
          "state": {
            "_view_name": "LayoutView",
            "grid_template_rows": null,
            "right": null,
            "justify_content": null,
            "_view_module": "@jupyter-widgets/base",
            "overflow": null,
            "_model_module_version": "1.2.0",
            "_view_count": null,
            "flex_flow": null,
            "width": null,
            "min_width": null,
            "border": null,
            "align_items": null,
            "bottom": null,
            "_model_module": "@jupyter-widgets/base",
            "top": null,
            "grid_column": null,
            "overflow_y": null,
            "overflow_x": null,
            "grid_auto_flow": null,
            "grid_area": null,
            "grid_template_columns": null,
            "flex": null,
            "_model_name": "LayoutModel",
            "justify_items": null,
            "grid_row": null,
            "max_height": null,
            "align_content": null,
            "visibility": null,
            "align_self": null,
            "height": null,
            "min_height": null,
            "padding": null,
            "grid_auto_rows": null,
            "grid_gap": null,
            "max_width": null,
            "order": null,
            "_view_module_version": "1.2.0",
            "grid_template_areas": null,
            "object_position": null,
            "object_fit": null,
            "grid_auto_columns": null,
            "margin": null,
            "display": null,
            "left": null
          }
        },
        "24db1357b24a43e1ba9d97f65e78de0e": {
          "model_module": "@jupyter-widgets/controls",
          "model_name": "FloatProgressModel",
          "state": {
            "_view_name": "ProgressView",
            "style": "IPY_MODEL_dc1d75cf5b2e4e2a9668fd342f856996",
            "_dom_classes": [],
            "description": " 83%",
            "_model_name": "FloatProgressModel",
            "bar_style": "danger",
            "max": 13233,
            "_view_module": "@jupyter-widgets/controls",
            "_model_module_version": "1.5.0",
            "value": 10971,
            "_view_count": null,
            "_view_module_version": "1.5.0",
            "orientation": "horizontal",
            "min": 0,
            "description_tooltip": null,
            "_model_module": "@jupyter-widgets/controls",
            "layout": "IPY_MODEL_20c5534ec31b49bd90f6c4ce8e32322b"
          }
        },
        "783de9a375ad43bb92757eac0c02d901": {
          "model_module": "@jupyter-widgets/controls",
          "model_name": "HTMLModel",
          "state": {
            "_view_name": "HTMLView",
            "style": "IPY_MODEL_49bbe7fed8db4c51afd41840b3d3ecb7",
            "_dom_classes": [],
            "description": "",
            "_model_name": "HTMLModel",
            "placeholder": "​",
            "_view_module": "@jupyter-widgets/controls",
            "_model_module_version": "1.5.0",
            "value": " 10971/13233 [00:00&lt;00:00, 19898.01 examples/s]",
            "_view_count": null,
            "_view_module_version": "1.5.0",
            "description_tooltip": null,
            "_model_module": "@jupyter-widgets/controls",
            "layout": "IPY_MODEL_62c52828937f4048b2e0138fe3913cce"
          }
        },
        "dc1d75cf5b2e4e2a9668fd342f856996": {
          "model_module": "@jupyter-widgets/controls",
          "model_name": "ProgressStyleModel",
          "state": {
            "_view_name": "StyleView",
            "_model_name": "ProgressStyleModel",
            "description_width": "initial",
            "_view_module": "@jupyter-widgets/base",
            "_model_module_version": "1.5.0",
            "_view_count": null,
            "_view_module_version": "1.2.0",
            "bar_color": null,
            "_model_module": "@jupyter-widgets/controls"
          }
        },
        "20c5534ec31b49bd90f6c4ce8e32322b": {
          "model_module": "@jupyter-widgets/base",
          "model_name": "LayoutModel",
          "state": {
            "_view_name": "LayoutView",
            "grid_template_rows": null,
            "right": null,
            "justify_content": null,
            "_view_module": "@jupyter-widgets/base",
            "overflow": null,
            "_model_module_version": "1.2.0",
            "_view_count": null,
            "flex_flow": null,
            "width": null,
            "min_width": null,
            "border": null,
            "align_items": null,
            "bottom": null,
            "_model_module": "@jupyter-widgets/base",
            "top": null,
            "grid_column": null,
            "overflow_y": null,
            "overflow_x": null,
            "grid_auto_flow": null,
            "grid_area": null,
            "grid_template_columns": null,
            "flex": null,
            "_model_name": "LayoutModel",
            "justify_items": null,
            "grid_row": null,
            "max_height": null,
            "align_content": null,
            "visibility": null,
            "align_self": null,
            "height": null,
            "min_height": null,
            "padding": null,
            "grid_auto_rows": null,
            "grid_gap": null,
            "max_width": null,
            "order": null,
            "_view_module_version": "1.2.0",
            "grid_template_areas": null,
            "object_position": null,
            "object_fit": null,
            "grid_auto_columns": null,
            "margin": null,
            "display": null,
            "left": null
          }
        },
        "49bbe7fed8db4c51afd41840b3d3ecb7": {
          "model_module": "@jupyter-widgets/controls",
          "model_name": "DescriptionStyleModel",
          "state": {
            "_view_name": "StyleView",
            "_model_name": "DescriptionStyleModel",
            "description_width": "",
            "_view_module": "@jupyter-widgets/base",
            "_model_module_version": "1.5.0",
            "_view_count": null,
            "_view_module_version": "1.2.0",
            "_model_module": "@jupyter-widgets/controls"
          }
        },
        "62c52828937f4048b2e0138fe3913cce": {
          "model_module": "@jupyter-widgets/base",
          "model_name": "LayoutModel",
          "state": {
            "_view_name": "LayoutView",
            "grid_template_rows": null,
            "right": null,
            "justify_content": null,
            "_view_module": "@jupyter-widgets/base",
            "overflow": null,
            "_model_module_version": "1.2.0",
            "_view_count": null,
            "flex_flow": null,
            "width": null,
            "min_width": null,
            "border": null,
            "align_items": null,
            "bottom": null,
            "_model_module": "@jupyter-widgets/base",
            "top": null,
            "grid_column": null,
            "overflow_y": null,
            "overflow_x": null,
            "grid_auto_flow": null,
            "grid_area": null,
            "grid_template_columns": null,
            "flex": null,
            "_model_name": "LayoutModel",
            "justify_items": null,
            "grid_row": null,
            "max_height": null,
            "align_content": null,
            "visibility": null,
            "align_self": null,
            "height": null,
            "min_height": null,
            "padding": null,
            "grid_auto_rows": null,
            "grid_gap": null,
            "max_width": null,
            "order": null,
            "_view_module_version": "1.2.0",
            "grid_template_areas": null,
            "object_position": null,
            "object_fit": null,
            "grid_auto_columns": null,
            "margin": null,
            "display": null,
            "left": null
          }
        }
      }
    }
  },
  "cells": [
    {
      "cell_type": "markdown",
      "metadata": {
        "id": "WTY7kA7DOzpV"
      },
      "source": [
        "# Mount Drive"
      ]
    },
    {
      "cell_type": "code",
      "metadata": {
        "colab": {
          "base_uri": "https://localhost:8080/"
        },
        "id": "4-7JU3Q7q_XT",
        "outputId": "e75e70a2-c6d6-415b-e6bb-c1363ac3b4c0"
      },
      "source": [
        "from google.colab import drive\n",
        "drive.mount('/content/drive')"
      ],
      "execution_count": null,
      "outputs": [
        {
          "output_type": "stream",
          "text": [
            "Mounted at /content/drive\n"
          ],
          "name": "stdout"
        }
      ]
    },
    {
      "cell_type": "code",
      "metadata": {
        "colab": {
          "base_uri": "https://localhost:8080/"
        },
        "id": "DqqXI7Izk65p",
        "outputId": "a759a524-9af9-459e-91d4-abc124ade9d2"
      },
      "source": [
        "!pip install -U -q PyDrive\n",
        "!pip install httplib2==0.15.0\n",
        "import os\n",
        "from pydrive.auth import GoogleAuth\n",
        "from pydrive.drive import GoogleDrive\n",
        "from pydrive.files import GoogleDriveFileList\n",
        "from google.colab import auth\n",
        "from oauth2client.client import GoogleCredentials\n",
        "\n",
        "from getpass import getpass\n",
        "import urllib\n",
        "\n",
        "# 1. Authenticate and create the PyDrive client.\n",
        "auth.authenticate_user()\n",
        "gauth = GoogleAuth()\n",
        "gauth.credentials = GoogleCredentials.get_application_default()\n",
        "drive = GoogleDrive(gauth)\n",
        "\n",
        "# Cloning PAL_2021 to access modules.\n",
        "# Need password to access private repo.\n",
        "\n",
        "if 'CLIPPER' not in os.listdir():\n",
        "    cmd_string = 'git clone https://github.com/PAL-ML/CLIPPER.git'\n",
        "    os.system(cmd_string)"
      ],
      "execution_count": null,
      "outputs": [
        {
          "output_type": "stream",
          "text": [
            "Collecting httplib2==0.15.0\n",
            "\u001b[?25l  Downloading https://files.pythonhosted.org/packages/be/83/5e006e25403871ffbbf587c7aa4650158c947d46e89f2d50dcaf018464de/httplib2-0.15.0-py3-none-any.whl (94kB)\n",
            "\r\u001b[K     |███▌                            | 10kB 16.6MB/s eta 0:00:01\r\u001b[K     |███████                         | 20kB 21.4MB/s eta 0:00:01\r\u001b[K     |██████████▍                     | 30kB 22.2MB/s eta 0:00:01\r\u001b[K     |█████████████▉                  | 40kB 18.0MB/s eta 0:00:01\r\u001b[K     |█████████████████▎              | 51kB 13.4MB/s eta 0:00:01\r\u001b[K     |████████████████████▊           | 61kB 10.6MB/s eta 0:00:01\r\u001b[K     |████████████████████████▏       | 71kB 11.6MB/s eta 0:00:01\r\u001b[K     |███████████████████████████▋    | 81kB 12.5MB/s eta 0:00:01\r\u001b[K     |███████████████████████████████ | 92kB 13.5MB/s eta 0:00:01\r\u001b[K     |████████████████████████████████| 102kB 7.0MB/s \n",
            "\u001b[?25hInstalling collected packages: httplib2\n",
            "  Found existing installation: httplib2 0.17.4\n",
            "    Uninstalling httplib2-0.17.4:\n",
            "      Successfully uninstalled httplib2-0.17.4\n",
            "Successfully installed httplib2-0.15.0\n"
          ],
          "name": "stdout"
        }
      ]
    },
    {
      "cell_type": "markdown",
      "metadata": {
        "id": "RGlVnbugxFK2"
      },
      "source": [
        "# Installation"
      ]
    },
    {
      "cell_type": "markdown",
      "metadata": {
        "id": "gmgIrfT8hDNE"
      },
      "source": [
        "## Install multi label metrics dependencies"
      ]
    },
    {
      "cell_type": "code",
      "metadata": {
        "colab": {
          "base_uri": "https://localhost:8080/"
        },
        "id": "b6xXPAFbe6Gp",
        "outputId": "d1c794b4-d27a-4f86-8e85-6aa61badca23"
      },
      "source": [
        "! pip install scikit-learn==0.24"
      ],
      "execution_count": null,
      "outputs": [
        {
          "output_type": "stream",
          "text": [
            "Collecting scikit-learn==0.24\n",
            "\u001b[?25l  Downloading https://files.pythonhosted.org/packages/b1/ed/ab51a8da34d2b3f4524b21093081e7f9e2ddf1c9eac9f795dcf68ad0a57d/scikit_learn-0.24.0-cp37-cp37m-manylinux2010_x86_64.whl (22.3MB)\n",
            "\u001b[K     |████████████████████████████████| 22.3MB 1.5MB/s \n",
            "\u001b[?25hRequirement already satisfied: scipy>=0.19.1 in /usr/local/lib/python3.7/dist-packages (from scikit-learn==0.24) (1.4.1)\n",
            "Requirement already satisfied: joblib>=0.11 in /usr/local/lib/python3.7/dist-packages (from scikit-learn==0.24) (1.0.1)\n",
            "Requirement already satisfied: numpy>=1.13.3 in /usr/local/lib/python3.7/dist-packages (from scikit-learn==0.24) (1.19.5)\n",
            "Collecting threadpoolctl>=2.0.0\n",
            "  Downloading https://files.pythonhosted.org/packages/f7/12/ec3f2e203afa394a149911729357aa48affc59c20e2c1c8297a60f33f133/threadpoolctl-2.1.0-py3-none-any.whl\n",
            "Installing collected packages: threadpoolctl, scikit-learn\n",
            "  Found existing installation: scikit-learn 0.22.2.post1\n",
            "    Uninstalling scikit-learn-0.22.2.post1:\n",
            "      Successfully uninstalled scikit-learn-0.22.2.post1\n",
            "Successfully installed scikit-learn-0.24.0 threadpoolctl-2.1.0\n"
          ],
          "name": "stdout"
        }
      ]
    },
    {
      "cell_type": "markdown",
      "metadata": {
        "id": "3rKe3HqM523g"
      },
      "source": [
        "## Install CLIP dependencies"
      ]
    },
    {
      "cell_type": "code",
      "metadata": {
        "colab": {
          "base_uri": "https://localhost:8080/"
        },
        "id": "poS-WNDixIhY",
        "outputId": "e0ebb023-023b-476a-a23e-a8bf8c0a5701"
      },
      "source": [
        "import subprocess\n",
        "\n",
        "CUDA_version = [s for s in subprocess.check_output([\"nvcc\", \"--version\"]).decode(\"UTF-8\").split(\", \") if s.startswith(\"release\")][0].split(\" \")[-1]\n",
        "print(\"CUDA version:\", CUDA_version)\n",
        "\n",
        "if CUDA_version == \"10.0\":\n",
        "    torch_version_suffix = \"+cu100\"\n",
        "elif CUDA_version == \"10.1\":\n",
        "    torch_version_suffix = \"+cu101\"\n",
        "elif CUDA_version == \"10.2\":\n",
        "    torch_version_suffix = \"\"\n",
        "else:\n",
        "    torch_version_suffix = \"+cu110\""
      ],
      "execution_count": null,
      "outputs": [
        {
          "output_type": "stream",
          "text": [
            "CUDA version: 11.0\n"
          ],
          "name": "stdout"
        }
      ]
    },
    {
      "cell_type": "code",
      "metadata": {
        "colab": {
          "base_uri": "https://localhost:8080/"
        },
        "id": "uA-69W8M59nA",
        "outputId": "a9120681-6dee-47a8-d32f-a50de1aec259"
      },
      "source": [
        "! pip install torch==1.7.1{torch_version_suffix} torchvision==0.8.2{torch_version_suffix} -f https://download.pytorch.org/whl/torch_stable.html ftfy regex"
      ],
      "execution_count": null,
      "outputs": [
        {
          "output_type": "stream",
          "text": [
            "Looking in links: https://download.pytorch.org/whl/torch_stable.html\n",
            "Collecting torch==1.7.1+cu110\n",
            "\u001b[?25l  Downloading https://download.pytorch.org/whl/cu110/torch-1.7.1%2Bcu110-cp37-cp37m-linux_x86_64.whl (1156.8MB)\n",
            "\u001b[K     |███████████████████████         | 834.1MB 1.5MB/s eta 0:03:38tcmalloc: large alloc 1147494400 bytes == 0x561d282c4000 @  0x7f8b16cf4615 0x561cee453cdc 0x561cee53352a 0x561cee456afd 0x561cee547fed 0x561cee4ca988 0x561cee4c54ae 0x561cee4583ea 0x561cee4ca7f0 0x561cee4c54ae 0x561cee4583ea 0x561cee4c732a 0x561cee548e36 0x561cee4c6853 0x561cee548e36 0x561cee4c6853 0x561cee548e36 0x561cee4c6853 0x561cee548e36 0x561cee5cb3e1 0x561cee52b6a9 0x561cee496cc4 0x561cee457559 0x561cee4cb4f8 0x561cee45830a 0x561cee4c63b5 0x561cee4c57ad 0x561cee4583ea 0x561cee4c63b5 0x561cee45830a 0x561cee4c63b5\n",
            "\u001b[K     |█████████████████████████████▏  | 1055.7MB 1.5MB/s eta 0:01:08tcmalloc: large alloc 1434370048 bytes == 0x561d6c91a000 @  0x7f8b16cf4615 0x561cee453cdc 0x561cee53352a 0x561cee456afd 0x561cee547fed 0x561cee4ca988 0x561cee4c54ae 0x561cee4583ea 0x561cee4ca7f0 0x561cee4c54ae 0x561cee4583ea 0x561cee4c732a 0x561cee548e36 0x561cee4c6853 0x561cee548e36 0x561cee4c6853 0x561cee548e36 0x561cee4c6853 0x561cee548e36 0x561cee5cb3e1 0x561cee52b6a9 0x561cee496cc4 0x561cee457559 0x561cee4cb4f8 0x561cee45830a 0x561cee4c63b5 0x561cee4c57ad 0x561cee4583ea 0x561cee4c63b5 0x561cee45830a 0x561cee4c63b5\n",
            "\u001b[K     |████████████████████████████████| 1156.7MB 1.5MB/s eta 0:00:01tcmalloc: large alloc 1445945344 bytes == 0x561dc2106000 @  0x7f8b16cf4615 0x561cee453cdc 0x561cee53352a 0x561cee456afd 0x561cee547fed 0x561cee4ca988 0x561cee4c54ae 0x561cee4583ea 0x561cee4c660e 0x561cee4c54ae 0x561cee4583ea 0x561cee4c660e 0x561cee4c54ae 0x561cee4583ea 0x561cee4c660e 0x561cee4c54ae 0x561cee4583ea 0x561cee4c660e 0x561cee4c54ae 0x561cee4583ea 0x561cee4c660e 0x561cee45830a 0x561cee4c660e 0x561cee4c54ae 0x561cee4583ea 0x561cee4c732a 0x561cee4c54ae 0x561cee4583ea 0x561cee4c732a 0x561cee4c54ae 0x561cee458a81\n",
            "\u001b[K     |████████████████████████████████| 1156.8MB 16kB/s \n",
            "\u001b[?25hCollecting torchvision==0.8.2+cu110\n",
            "\u001b[?25l  Downloading https://download.pytorch.org/whl/cu110/torchvision-0.8.2%2Bcu110-cp37-cp37m-linux_x86_64.whl (12.9MB)\n",
            "\u001b[K     |████████████████████████████████| 12.9MB 203kB/s \n",
            "\u001b[?25hCollecting ftfy\n",
            "\u001b[?25l  Downloading https://files.pythonhosted.org/packages/ce/b5/5da463f9c7823e0e575e9908d004e2af4b36efa8d02d3d6dad57094fcb11/ftfy-6.0.1.tar.gz (63kB)\n",
            "\u001b[K     |████████████████████████████████| 71kB 3.3MB/s \n",
            "\u001b[?25hRequirement already satisfied: regex in /usr/local/lib/python3.7/dist-packages (2019.12.20)\n",
            "Requirement already satisfied: typing-extensions in /usr/local/lib/python3.7/dist-packages (from torch==1.7.1+cu110) (3.7.4.3)\n",
            "Requirement already satisfied: numpy in /usr/local/lib/python3.7/dist-packages (from torch==1.7.1+cu110) (1.19.5)\n",
            "Requirement already satisfied: pillow>=4.1.1 in /usr/local/lib/python3.7/dist-packages (from torchvision==0.8.2+cu110) (7.1.2)\n",
            "Requirement already satisfied: wcwidth in /usr/local/lib/python3.7/dist-packages (from ftfy) (0.2.5)\n",
            "Building wheels for collected packages: ftfy\n",
            "  Building wheel for ftfy (setup.py) ... \u001b[?25l\u001b[?25hdone\n",
            "  Created wheel for ftfy: filename=ftfy-6.0.1-cp37-none-any.whl size=41573 sha256=0e69a343f49b5c44652ea7fb8e6ff182c4a0d14fb22c5a1fcdbfb57ea05ca5f6\n",
            "  Stored in directory: /root/.cache/pip/wheels/ae/73/c7/9056e14b04919e5c262fe80b54133b1a88d73683d05d7ac65c\n",
            "Successfully built ftfy\n",
            "\u001b[31mERROR: torchtext 0.9.1 has requirement torch==1.8.1, but you'll have torch 1.7.1+cu110 which is incompatible.\u001b[0m\n",
            "Installing collected packages: torch, torchvision, ftfy\n",
            "  Found existing installation: torch 1.8.1+cu101\n",
            "    Uninstalling torch-1.8.1+cu101:\n",
            "      Successfully uninstalled torch-1.8.1+cu101\n",
            "  Found existing installation: torchvision 0.9.1+cu101\n",
            "    Uninstalling torchvision-0.9.1+cu101:\n",
            "      Successfully uninstalled torchvision-0.9.1+cu101\n",
            "Successfully installed ftfy-6.0.1 torch-1.7.1+cu110 torchvision-0.8.2+cu110\n"
          ],
          "name": "stdout"
        }
      ]
    },
    {
      "cell_type": "code",
      "metadata": {
        "colab": {
          "base_uri": "https://localhost:8080/"
        },
        "id": "sYwBZS1N6A3d",
        "outputId": "3731316a-5b13-444f-ef4d-46c66e4e80af"
      },
      "source": [
        "! pip install ftfy regex\n",
        "! wget https://openaipublic.azureedge.net/clip/bpe_simple_vocab_16e6.txt.gz -O bpe_simple_vocab_16e6.txt.gz"
      ],
      "execution_count": null,
      "outputs": [
        {
          "output_type": "stream",
          "text": [
            "Requirement already satisfied: ftfy in /usr/local/lib/python3.7/dist-packages (6.0.1)\n",
            "Requirement already satisfied: regex in /usr/local/lib/python3.7/dist-packages (2019.12.20)\n",
            "Requirement already satisfied: wcwidth in /usr/local/lib/python3.7/dist-packages (from ftfy) (0.2.5)\n",
            "--2021-05-17 16:12:33--  https://openaipublic.azureedge.net/clip/bpe_simple_vocab_16e6.txt.gz\n",
            "Resolving openaipublic.azureedge.net (openaipublic.azureedge.net)... 13.107.246.39, 13.107.213.39, 2620:1ec:bdf::39, ...\n",
            "Connecting to openaipublic.azureedge.net (openaipublic.azureedge.net)|13.107.246.39|:443... connected.\n",
            "HTTP request sent, awaiting response... 200 OK\n",
            "Length: 1356917 (1.3M) [application/octet-stream]\n",
            "Saving to: ‘bpe_simple_vocab_16e6.txt.gz’\n",
            "\n",
            "bpe_simple_vocab_16 100%[===================>]   1.29M  --.-KB/s    in 0.08s   \n",
            "\n",
            "2021-05-17 16:12:34 (16.5 MB/s) - ‘bpe_simple_vocab_16e6.txt.gz’ saved [1356917/1356917]\n",
            "\n"
          ],
          "name": "stdout"
        }
      ]
    },
    {
      "cell_type": "code",
      "metadata": {
        "colab": {
          "base_uri": "https://localhost:8080/"
        },
        "id": "9oIcNBYB8lz3",
        "outputId": "21e983a4-4357-46e2-d3d0-28dd55dd2755"
      },
      "source": [
        "!pip install git+https://github.com/Sri-vatsa/CLIP # using this fork because of visualization capabilities"
      ],
      "execution_count": null,
      "outputs": [
        {
          "output_type": "stream",
          "text": [
            "Collecting git+https://github.com/Sri-vatsa/CLIP\n",
            "  Cloning https://github.com/Sri-vatsa/CLIP to /tmp/pip-req-build-r5ufba0x\n",
            "  Running command git clone -q https://github.com/Sri-vatsa/CLIP /tmp/pip-req-build-r5ufba0x\n",
            "Requirement already satisfied: ftfy in /usr/local/lib/python3.7/dist-packages (from clip==1.0) (6.0.1)\n",
            "Requirement already satisfied: regex in /usr/local/lib/python3.7/dist-packages (from clip==1.0) (2019.12.20)\n",
            "Requirement already satisfied: tqdm in /usr/local/lib/python3.7/dist-packages (from clip==1.0) (4.41.1)\n",
            "Requirement already satisfied: torch~=1.7.1 in /usr/local/lib/python3.7/dist-packages (from clip==1.0) (1.7.1+cu110)\n",
            "Requirement already satisfied: torchvision~=0.8.2 in /usr/local/lib/python3.7/dist-packages (from clip==1.0) (0.8.2+cu110)\n",
            "Requirement already satisfied: wcwidth in /usr/local/lib/python3.7/dist-packages (from ftfy->clip==1.0) (0.2.5)\n",
            "Requirement already satisfied: numpy in /usr/local/lib/python3.7/dist-packages (from torch~=1.7.1->clip==1.0) (1.19.5)\n",
            "Requirement already satisfied: typing-extensions in /usr/local/lib/python3.7/dist-packages (from torch~=1.7.1->clip==1.0) (3.7.4.3)\n",
            "Requirement already satisfied: pillow>=4.1.1 in /usr/local/lib/python3.7/dist-packages (from torchvision~=0.8.2->clip==1.0) (7.1.2)\n",
            "Building wheels for collected packages: clip\n",
            "  Building wheel for clip (setup.py) ... \u001b[?25l\u001b[?25hdone\n",
            "  Created wheel for clip: filename=clip-1.0-cp37-none-any.whl size=1368623 sha256=163cf33cf5161cf5eae29c5c5a5e34233fba491af6b24bd357b8d0dc5b9cef62\n",
            "  Stored in directory: /tmp/pip-ephem-wheel-cache-mrooc3wn/wheels/cc/55/69/0d411dabbd5009fd069d47b47cf7839c54e595dc61725b307b\n",
            "Successfully built clip\n",
            "Installing collected packages: clip\n",
            "Successfully installed clip-1.0\n"
          ],
          "name": "stdout"
        }
      ]
    },
    {
      "cell_type": "markdown",
      "metadata": {
        "id": "OLU-gp7n8__E"
      },
      "source": [
        "## Install clustering dependencies"
      ]
    },
    {
      "cell_type": "code",
      "metadata": {
        "id": "6TLg9ozo9Hvc"
      },
      "source": [
        "!pip -q install umap-learn>=0.3.7"
      ],
      "execution_count": null,
      "outputs": []
    },
    {
      "cell_type": "markdown",
      "metadata": {
        "id": "9z1WQnXdLHy2"
      },
      "source": [
        "## Install dataset manager dependencies"
      ]
    },
    {
      "cell_type": "code",
      "metadata": {
        "id": "J1vvMx7_LLSp",
        "colab": {
          "base_uri": "https://localhost:8080/"
        },
        "outputId": "7ffe616e-0cb8-420d-9a3d-cce445a359fc"
      },
      "source": [
        "!pip install wget"
      ],
      "execution_count": null,
      "outputs": [
        {
          "output_type": "stream",
          "text": [
            "Collecting wget\n",
            "  Downloading https://files.pythonhosted.org/packages/47/6a/62e288da7bcda82b935ff0c6cfe542970f04e29c756b0e147251b2fb251f/wget-3.2.zip\n",
            "Building wheels for collected packages: wget\n",
            "  Building wheel for wget (setup.py) ... \u001b[?25l\u001b[?25hdone\n",
            "  Created wheel for wget: filename=wget-3.2-cp37-none-any.whl size=9681 sha256=7e448148860d1b41d62b774c386fbe77d8e420e73ce2e586a33d801733510a7f\n",
            "  Stored in directory: /root/.cache/pip/wheels/40/15/30/7d8f7cea2902b4db79e3fea550d7d7b85ecb27ef992b618f3f\n",
            "Successfully built wget\n",
            "Installing collected packages: wget\n",
            "Successfully installed wget-3.2\n"
          ],
          "name": "stdout"
        }
      ]
    },
    {
      "cell_type": "markdown",
      "metadata": {
        "id": "NzsubsEm72rr"
      },
      "source": [
        "# Imports"
      ]
    },
    {
      "cell_type": "code",
      "metadata": {
        "id": "KZI62a6G74kw"
      },
      "source": [
        "# ML Libraries\n",
        "import tensorflow as tf\n",
        "import tensorflow_hub as hub\n",
        "import torch\n",
        "import torch.nn as nn\n",
        "import torchvision.models as models\n",
        "import torchvision.transforms as transforms\n",
        "import keras\n",
        "\n",
        "# Data processing\n",
        "import PIL\n",
        "import base64\n",
        "import imageio\n",
        "import pandas as pd\n",
        "import numpy as np\n",
        "import json\n",
        "\n",
        "from PIL import Image\n",
        "import cv2\n",
        "from sklearn.feature_extraction.image import extract_patches_2d\n",
        "\n",
        "# Plotting\n",
        "import seaborn as sns\n",
        "import matplotlib.pyplot as plt\n",
        "import matplotlib.patches as patches\n",
        "\n",
        "from IPython.core.display import display, HTML\n",
        "from matplotlib import cm\n",
        "import matplotlib.image as mpimg\n",
        "\n",
        "# Models\n",
        "import clip\n",
        "\n",
        "# Datasets\n",
        "import tensorflow_datasets as tfds\n",
        "\n",
        "# Clustering\n",
        "# import umap\n",
        "\n",
        "from sklearn import metrics\n",
        "from sklearn.cluster import KMeans\n",
        "#from yellowbrick.cluster import KElbowVisualizer\n",
        "\n",
        "# Misc\n",
        "import progressbar\n",
        "import logging\n",
        "from abc import ABC, abstractmethod\n",
        "import time\n",
        "import urllib.request\n",
        "import os\n",
        "from sklearn.metrics import jaccard_score, hamming_loss, accuracy_score, f1_score\n",
        "from sklearn.preprocessing import MultiLabelBinarizer\n",
        "\n",
        "\n",
        "# Modules\n",
        "from CLIPPER.code.ExperimentModules import embedding_models\n",
        "from CLIPPER.code.ExperimentModules.dataset_manager import DatasetManager\n",
        "from CLIPPER.code.ExperimentModules.weight_imprinting_classifier import WeightImprintingClassifier\n",
        "from CLIPPER.code.ExperimentModules import simclr_data_augmentations\n",
        "from CLIPPER.code.ExperimentModules.utils import (save_npy, load_npy, \n",
        "                                                       get_folder_id, \n",
        "                                                       create_expt_dir, \n",
        "                                                       save_to_drive, \n",
        "                                                       load_all_from_drive_folder, \n",
        "                                                       download_file_by_name, \n",
        "                                                       delete_file_by_name)\n",
        "\n",
        "logging.getLogger('googleapicliet.discovery_cache').setLevel(logging.ERROR)"
      ],
      "execution_count": null,
      "outputs": []
    },
    {
      "cell_type": "markdown",
      "metadata": {
        "id": "zU_gxQ0KbwMh"
      },
      "source": [
        "# Initialization & Constants"
      ]
    },
    {
      "cell_type": "markdown",
      "metadata": {
        "id": "9HJcxEZc5wnQ"
      },
      "source": [
        "## Dataset details"
      ]
    },
    {
      "cell_type": "code",
      "metadata": {
        "id": "bih5tBPdbx3u",
        "colab": {
          "base_uri": "https://localhost:8080/"
        },
        "outputId": "af587f68-543c-4ee7-a210-c72b858b1a3b"
      },
      "source": [
        "dataset_name = \"LFW\"\n",
        "folder_name = \"LFW-Embeddings-28-02-21\"\n",
        "\n",
        "# Change parentid to match that of experiments root folder in gdrive\n",
        "parentid = '1bK72W-Um20EQDEyChNhNJthUNbmoSEjD'\n",
        "\n",
        "# Filepaths\n",
        "train_labels_filename = \"train_labels.npz\"\n",
        "\n",
        "train_embeddings_filename_suffix = \"_embeddings_train.npz\"\n",
        "\n",
        "# Initialize sepcific experiment folder in drive\n",
        "folderid = create_expt_dir(drive, parentid, folder_name)"
      ],
      "execution_count": null,
      "outputs": [
        {
          "output_type": "stream",
          "text": [
            "title: LFW-Embeddings-28-02-21, id: 18CcWLV0mDi9Iuk7rFquHa1jRQ5VI0BSx\n",
            "Experiment folder already exists. WARNING: Following with this run might overwrite existing results stored.\n"
          ],
          "name": "stdout"
        }
      ]
    },
    {
      "cell_type": "markdown",
      "metadata": {
        "id": "dTMseBlA-xyO"
      },
      "source": [
        "## Few shot learning parameters"
      ]
    },
    {
      "cell_type": "code",
      "metadata": {
        "id": "ks-9cfhX-wvz"
      },
      "source": [
        "num_ways = 5 # [5, 20]\n",
        "num_shot = 5 # [5, 1]\n",
        "num_eval = 15 # [5, 10, 15, 19]\n",
        "num_episodes = 100\n",
        "shuffle = False"
      ],
      "execution_count": null,
      "outputs": []
    },
    {
      "cell_type": "markdown",
      "metadata": {
        "id": "A2EubiVL_gRG"
      },
      "source": [
        "## Image embedding and augmentations"
      ]
    },
    {
      "cell_type": "code",
      "metadata": {
        "id": "wgkPidFD_frf"
      },
      "source": [
        "embedding_model = embedding_models.CLIPEmbeddingWrapper()\n",
        "num_augmentations = 0 # [0, 5, 10]\n",
        "trivial=False # [True, False]"
      ],
      "execution_count": null,
      "outputs": []
    },
    {
      "cell_type": "markdown",
      "metadata": {
        "id": "DpVmoi5pAW4K"
      },
      "source": [
        "## Training parameters"
      ]
    },
    {
      "cell_type": "code",
      "metadata": {
        "id": "2oki_jMyAXg-"
      },
      "source": [
        "# List of number of epochs to train over, e.g. [5, 10, 15, 20]. [0] indicates no training.\n",
        "train_epochs_arr = [0] \n",
        "\n",
        "# Single label (softmax) parameters\n",
        "multi_label= False # [True, False] i.e. sigmoid or softmax\n",
        "metrics_val = ['accuracy', 'ap', 'map', 'c_f1', 'o_f1', 'c_precision', 'o_precision', 'c_recall', 'o_recall', 'top1_accuracy', 'top5_accuracy', 'classwise_accuracy', 'c_accuracy']"
      ],
      "execution_count": null,
      "outputs": []
    },
    {
      "cell_type": "markdown",
      "metadata": {
        "id": "UxTa8MVsvQCN"
      },
      "source": [
        "# Load data"
      ]
    },
    {
      "cell_type": "code",
      "metadata": {
        "id": "n6S124Jfwuu5",
        "colab": {
          "base_uri": "https://localhost:8080/"
        },
        "outputId": "025f55a7-d494-47c5-a3bf-62d7bd25d6f3"
      },
      "source": [
        "def get_ndarray_from_drive(drive, folderid, filename):\n",
        "    download_file_by_name(drive, folderid, filename)\n",
        "    return np.load(filename)['data']\n",
        "\n",
        "train_labels = get_ndarray_from_drive(drive, folderid, train_labels_filename)"
      ],
      "execution_count": null,
      "outputs": [
        {
          "output_type": "stream",
          "text": [
            "Downloading train_labels.npz from GDrive\n",
            "Downloading train_labels.npz from GDrive\n"
          ],
          "name": "stdout"
        }
      ]
    },
    {
      "cell_type": "code",
      "metadata": {
        "id": "JzUQyu7tEysI"
      },
      "source": [
        "train_labels = train_labels.astype(str)"
      ],
      "execution_count": null,
      "outputs": []
    },
    {
      "cell_type": "code",
      "metadata": {
        "id": "4p2JpaGHmqbl",
        "colab": {
          "base_uri": "https://localhost:8080/",
          "height": 345,
          "referenced_widgets": [
            "c8b15f7bf7414e63aa06bb045211f4f8",
            "db3c981cee0d4f5aa89526dee9858f12",
            "dcfb60a7bdf74d9ba7c19b0a96b956ea",
            "99f1274f52054fd0be4d884fb8526ab9",
            "03c59f93920c4784933a8490614d3d48",
            "583045e6386b4441a0462ce6cc119117",
            "32932ff916394f58bcff5d3c08e93f07",
            "f8f73334d5b14fb48246fa91213e2c37",
            "a2f0150a3ef048f4b51a88039ddd0515",
            "94ad72e010b441feb92e1eecc7099994",
            "0c134309ee8e4344ae0b31441879e843",
            "ce5a6ba0e83a4816a8c3d82151d0ae19",
            "1fe9aaa884fc451aad6178d393dfe89d",
            "c3b5d10cea6f439aa476eb8d18b9ac21",
            "208a3938b2ad41ce97e13cb65e50240a",
            "42edd1450bbf4bdf87df8b5eba76466c",
            "12af7aa05c3e46a082459911cfa02dc2",
            "6d5797c772254bcf99c93d8933b3473f",
            "cae45386fd564b61b8d2fdb5a9da824e",
            "1dfd2e8095814ae896ac2c6cb001ff0c",
            "76944fd6def44beeab1eb09b22e8f243",
            "05fa7d81bf5749ad8fbc5654d218e9c6",
            "77447f9705ef40f08ba63066301385f6",
            "7bb050b0d1e048218bad698bfeb99ae9",
            "f98b9629ea7645e89b463b6f1bcde0bf",
            "7ac38a9aba84410f99856eeb7b462e05",
            "adcc5111a4264ff39a79f47879789f26",
            "5ee9467d51d3417da81e0df012aac655",
            "f28a5446b2d845d58354f563e5829c6e",
            "73ec9e93f6e94486835cd1115b088f0b",
            "d134db0279f44d8f899f6993519f5b93",
            "b6671edf62a942a3af29b17d23322e0c",
            "e32e4e74f62540aeb51d1a7b414ff6e0",
            "2f11663c35584df28362f16fd00aef1f",
            "24db1357b24a43e1ba9d97f65e78de0e",
            "783de9a375ad43bb92757eac0c02d901",
            "dc1d75cf5b2e4e2a9668fd342f856996",
            "20c5534ec31b49bd90f6c4ce8e32322b",
            "49bbe7fed8db4c51afd41840b3d3ecb7",
            "62c52828937f4048b2e0138fe3913cce"
          ]
        },
        "outputId": "8497ee05-464d-44b8-b9b9-8d7b8c4428b8"
      },
      "source": [
        "dm = DatasetManager()\n",
        "\n",
        "test_data_generator = dm.load_dataset('lfw', split='train')\n",
        "\n",
        "class_names = dm.get_class_names()\n",
        "print(class_names)"
      ],
      "execution_count": null,
      "outputs": [
        {
          "output_type": "stream",
          "text": [
            "\u001b[1mDownloading and preparing dataset lfw/0.1.0 (download: 172.20 MiB, generated: Unknown size, total: 172.20 MiB) to /root/tensorflow_datasets/lfw/0.1.0...\u001b[0m\n"
          ],
          "name": "stdout"
        },
        {
          "output_type": "display_data",
          "data": {
            "application/vnd.jupyter.widget-view+json": {
              "model_id": "c8b15f7bf7414e63aa06bb045211f4f8",
              "version_minor": 0,
              "version_major": 2
            },
            "text/plain": [
              "HBox(children=(FloatProgress(value=1.0, bar_style='info', description='Dl Completed...', max=1.0, style=Progre…"
            ]
          },
          "metadata": {
            "tags": []
          }
        },
        {
          "output_type": "display_data",
          "data": {
            "application/vnd.jupyter.widget-view+json": {
              "model_id": "a2f0150a3ef048f4b51a88039ddd0515",
              "version_minor": 0,
              "version_major": 2
            },
            "text/plain": [
              "HBox(children=(FloatProgress(value=1.0, bar_style='info', description='Dl Size...', max=1.0, style=ProgressSty…"
            ]
          },
          "metadata": {
            "tags": []
          }
        },
        {
          "output_type": "display_data",
          "data": {
            "application/vnd.jupyter.widget-view+json": {
              "model_id": "12af7aa05c3e46a082459911cfa02dc2",
              "version_minor": 0,
              "version_major": 2
            },
            "text/plain": [
              "HBox(children=(FloatProgress(value=1.0, bar_style='info', description='Extraction completed...', max=1.0, styl…"
            ]
          },
          "metadata": {
            "tags": []
          }
        },
        {
          "output_type": "stream",
          "text": [
            "\n",
            "\n",
            "\n",
            "\n",
            "\n",
            "\n"
          ],
          "name": "stdout"
        },
        {
          "output_type": "display_data",
          "data": {
            "application/vnd.jupyter.widget-view+json": {
              "model_id": "f98b9629ea7645e89b463b6f1bcde0bf",
              "version_minor": 0,
              "version_major": 2
            },
            "text/plain": [
              "HBox(children=(FloatProgress(value=1.0, bar_style='info', max=1.0), HTML(value='')))"
            ]
          },
          "metadata": {
            "tags": []
          }
        },
        {
          "output_type": "stream",
          "text": [
            "\rShuffling and writing examples to /root/tensorflow_datasets/lfw/0.1.0.incompleteX8PXHU/lfw-train.tfrecord\n"
          ],
          "name": "stdout"
        },
        {
          "output_type": "display_data",
          "data": {
            "application/vnd.jupyter.widget-view+json": {
              "model_id": "e32e4e74f62540aeb51d1a7b414ff6e0",
              "version_minor": 0,
              "version_major": 2
            },
            "text/plain": [
              "HBox(children=(FloatProgress(value=0.0, max=13233.0), HTML(value='')))"
            ]
          },
          "metadata": {
            "tags": []
          }
        },
        {
          "output_type": "stream",
          "text": [
            "\u001b[1mDataset lfw downloaded and prepared to /root/tensorflow_datasets/lfw/0.1.0. Subsequent calls will reuse this data.\u001b[0m\n",
            "\r['Samantha Daniels', 'Bustam A Zedan Aljanabi', 'Na Na Keum', 'Brett Hawke', 'Donald Hays', 'Vladimir Golovlyov', 'Alimzhan Tokhtakhounov', 'Pupi Avati', 'Madge Overhouse', 'Peter Mansbridge', 'Michael Shane Jolly', 'Jen Schefft', 'Jimmy Szymanski', 'Robert Witt', 'Chan Gailey', 'Eliza Dushku', 'Kate Moss', 'David Hanson', 'Dick Bennett', 'Harvey Wachsman', 'Mario Lemieux', 'Steve Rush', 'TA McLendon', 'Michael Michele', 'Malak Habbak', 'Sonia Lopez', 'Herta Daeubler-Gmelin', 'Christine Ebersole', 'Bill Walton', 'Stanley Tong', 'Bernard Landry', 'Jack Grubman', 'Michael Capellas', 'Dennis Erickson', 'Roberta Combs', 'William Hurt', 'Rodrigo Borja', 'Steve Ballmer', 'Jim Doyle', 'Rick Rickert', 'Donna Ralston', 'Xiang Xu', 'Frank Griswold', 'Chloe Sevigny', 'Tatyana Tomashova', 'Yasein Taher', 'Mark Dacey', 'Jane Walker Wood', 'Hamid Reza Asefi', 'John Garamendi', 'Sandy Wise', 'Jacob Frenkel', 'Lina Krasnoroutskaya', 'Vanessa Williams', 'Rachel Hunter', 'Nancy Greenlaw', 'Orlando Bloom', 'Nick Turner', 'Infanta Cristina', 'Brett Boone', 'Brandon Inge', 'Jim Beattie', 'Robert Schuller', 'Bill Simon', 'Javier Vazquez', 'Jose Carreras', 'Brad Garrett', 'Arthur Martinez', 'Hannah Stockbauer', 'Janusz Kaminski', 'Edward Norton', 'Ahmed Ahmed', 'Zhu Rongji', 'Ruben Sierra', 'Michelle Collins', 'Hamad Bin Jassim', 'Nikolay Davydenko', 'William Joppy', 'Edward Said', 'Rod Jong-il', 'Steve Nesbitt', 'Masahiko Nagasawa', 'Andy Griggs', 'Eric Christian Olsen', 'Charles Bronson', 'Yoon Jeong Cho', 'Bernard Law', 'Roger Penske', 'Hector Mitelman', 'Walter Woods', 'Isabella Rossellini', 'Aiysha Smith', 'Joshua Harapko', 'Paulie Ayala', 'Barbara Bach', 'Charles Lebois', 'Ralph Friedgen', 'Kaspar Villiger', 'Igor Trunov', 'Mark Rosenbaum', 'Allan Wagner', 'Jeff Bridges', 'Frank Van Ecke', 'David Beckham', 'Alfonso Cuaron', 'Wayne Gretzky', 'Rod Stewart', 'Bobby Kielty', 'Philip Zalewski', 'MC Hammer', 'Natasa Micic', 'Sean OKeefe', 'James Jones', 'Johannes Rau', 'Abdulaziz Kamilov', 'Kurt Russell', 'Qazi Afzal', 'Petro Symonenko', 'Marianne Stanley', 'Ismael Miranda', 'Svend Robinson', 'Maria Garcia', 'Henry Hilow', 'Svetoslav Todorov', 'Pete Aldridge', 'Eric Lindros', 'Samira Makhmalbaf', 'Franz Fischler', 'Mark Lazarus', 'Peter Harvey', 'Melvin Talbert', 'David Provost', 'Patty Duke', 'Jim Kelly', 'Arturo Gatti', 'Jose Viegas Filho', 'David Collenette', 'Maria Simon', 'Markus Beyer', 'Jose Cevallos', 'Jeb Bush', 'Kirsten Gilham', 'Giuseppe Morchio', 'Edward Lu', 'Jeff Feldman', 'Yuri Fedotov', 'Augustin Calleri', 'Tom Osborne', 'Tom Tunney', 'Cole Chapman', 'Rick Pitino', 'William Bulger', 'Dominick Dunne', 'Thomas Ulrich', 'Natasha Henstridge', 'Astrid Betancourt', 'Tamara Mowry', 'Jay Rasulo', 'Vincent Brooks', 'Mark Salter', 'Al Gore', 'Eli Rosenbaum', 'Carlos Paternina', 'Meg Wakeman', 'James May', 'Cristina Fernandez', 'Helen Alvare', 'Jacqueline Gold', 'Tzipora Obziler', 'Connie Chung', 'Chawki Armali', 'Henry Hyde', 'Wallace Capel', 'Andrea Kiser', 'Jake Gyllenhaal', 'Caroline Kennedy', 'James Murdoch', 'Derek Jeter', 'Boris Yeltsin', 'Wilton Gregory', 'Valentina Tereshkova', 'Albert Brooks', 'John Franco', 'Marion Fahnestock', 'Mohammaed Ahmad Al Jarallah', 'Jose Luis Rodriguez Zapatero', 'Roel Campos', 'Candace Sutton', 'John Moe', 'Phil Donahue', 'Helen Clark', 'Ray Nagin', 'Demetrin Veal', 'Halle Berry', 'Charles Taylor', 'Sandra Ceccarelli', 'Bashar Assad', 'Justine Henin', 'Thomas Klestil', 'Jan Ullrich', 'Peter Mullan', 'Roger Machado', 'Jorge Moreno', 'Thomas Ferguson', 'Hitoshi Tanaka', 'Darrell Royal', 'Vicente Fox de la Concha', 'Sharon Stone', 'Zydrunas Ilgauskas', 'Ed Book', 'Marisa Tomei', 'Joe Vandever', 'Teresa Worbis', 'Alison Lohman', 'Edward Kennedy', 'Mark Heller', 'Nick Markakis', 'Stan Kroenke', 'Nila Ferran', 'Maritza Macias Furano', 'Marsha Thomason', 'Raul Ibanez', 'Helio Castroneves', 'Magda Kertasz', 'Carlos De Abreu', 'Antonio Catania', 'Flavia Pennetta', 'Linda Amicangioli', 'Michelle Rodriguez', 'Isabela Moraes', 'Denise van Outen', 'Gretchen Mol', 'Charles Bell', 'Tracy McGrady', 'Martin Howard', 'Jane Rooney', 'Jack Goodman', 'Tom Ridge', 'Ricardo Monasterio', 'Dennis Oswald', 'Sam Torrance', 'Kirk Douglas', 'Rachel Wheatley', 'John Starks', 'Kosuke Kitajima', 'Tsutomu Takebe', 'Dan Reeves', 'Kay Behrensmeyer', 'Brian Pavlich', 'Hugh Campbell', 'Patrick Leahy', 'Nicole Kidman', 'Vin Diesel', 'Nicole', 'Zhang Wenkang', 'James Ivory', 'Ronald Kadish', 'Rainer Schuettler', 'Heather Locklear', 'Suzanne Haik Terrell', 'Ralph Fiennes', 'Victoria Beckham', 'Elton John', 'Sarah Weddington', 'Meghann Shaughnessy', 'JT Snow', 'Steve Lenard', 'Naoto Kan', 'Michael Friedman', 'Daniel Rouse', 'Rudi Voeller', 'Vanessa Incontrada', 'Eliane Karp', 'Don Hewitt', 'Irene Kahn', 'Laurent Jalabert', 'Rachel Griffiths', 'Candice Beatty', 'Gen Meredith', 'Chance Mock', 'James Kirtley', 'Mukesh Ambani', 'Andrew Weissmann', 'Eric Shinseki', 'Jean-Marc Olive', 'Raoul Ruiz', 'Andre Agassi', 'Tariq Aziz', 'Melina Kanakaredes', 'Joe DeLamielleure', 'Chris Andrews', 'Bob Stoops', 'Glenn Plummer', 'Chris Bell', 'Teddy Kollek', 'George Ryan', 'Carol Williams', 'Dominique de Villepin', 'Minnie Mendoza', 'Costas Simitis', 'Nikki McKibbin', 'Huan Chung Yi', 'James Barksdale', 'Adelina Avila', 'Roland Koch', 'Crispin Glover', 'Warren Beatty', 'Angelica Romero', 'Kathryn Bigelow', 'Bill Readdy', 'Charlie Coles', 'Ben Wallace', 'Romano Prodi', 'LeBron James', 'Justin Leonard', 'Momcilo Perisic', 'Bob Crippen', 'Raquel Welch', 'Amanda Coetzer', 'David Arquette', 'Maria Wetterstrand', 'Martina Hingis', 'Dustin Brown', 'Joseph Deiss', 'Alex Holmes', 'Freda Black', 'Stockard Channing', 'Tatiana Shchegoleva', 'Donald Keck', 'Jose Mourinho', 'Alicia Molik', 'Nikki Cascone', 'Lawrence Foley', 'Ziwang Xu', 'Jonathan Karsh', 'Michael Wayne', 'Lisa Stansfield', 'Prospero Pichay', 'Magui Serna', 'Anibal Ibarra', 'Lee Yuan-tseh', 'Torri Edwards', 'Thomas Cloyd', 'Jason Vale', 'Brenda van Dam', 'John Petty', 'Matt Morris', 'Todd MacCulloch', 'Jeremy Greenstock', 'Dorothy Lamour', 'Mike Smith', 'Noah Wyle', 'Wendell Bryant', 'Dieter Holzer', 'Tirunesh Dibaba', 'Fred Huff', 'David Ballantyne', 'Darin Erstad', 'Britney Spears', 'Charles Mathews', 'Alexandra Rozovskaya', 'David Braley', 'Joe Mantello', 'Thomas Day', 'Will Ferrell', 'John Mabry', 'Natalie Maines', 'Pascal Rheaume', 'Valentina Cervi', 'Jesse James Leija', 'Lope Mendoza', 'Andrew Niccol', 'Recep Tayyip Erdogan', 'William Delahunt', 'Bridget Fonda', 'Bill Self', 'Tara Kirk', 'Juan Sanchez', 'Steve Redgrave', 'James Lockhart', 'Edmund Stoiber', 'Harald Ringstorff', 'Dionne Warwick', 'Michael Clarke Duncan', 'Tim Pawlenty', 'Krishna Bhadur Mahara', 'Roberto Robaina', 'Erika Reyes', 'Li Peng', 'Li Changchun', 'Denys Arcand', 'Felix Sanchez', 'Dave Williams', 'Li Zhaoxing', 'Richard Greenberg', 'William Genego', 'Rashid Qureshi', 'David Wolf', 'Brian Lara', 'Spike Helmick', 'Vince Carter', 'Helo Pinheiro', 'Djabir Said-Guerni', 'Gennifer Flowers', 'Carlo Ancelotti', 'Laura Ziskin', 'George Brumley', 'Jonathan Schroeder', 'Mark Sacco', 'Penelope Taylor', 'Mary Steenburgen', 'Todd Parrott', 'Martin Scorsese', 'Boutros Boutros Ghali', 'Luis Ernesto Derbez Bautista', 'Roger Winter', 'Keith Bishop Jr', 'Missy Crider', 'Frank Solich', 'Lokendra Bahadur Chand', 'Ronald Brower', 'Natalia Vodonova', 'Harland Braun', 'Paul Johnson', 'Audrey Lacroix', 'Zeng Qinghong', 'Lew Rywin', 'Svetlana Belousova', 'Rachel Wadsworth', 'Olivier Rochus', 'Lena Olin', 'Rainer Geulen', 'Dorothy Loudon', 'Jorge Castaneda', 'Hal McCoy', 'Nestor Santillan', 'Brad Wilk', 'John Velazquez', 'Jon Kitna', 'Luis Figo', 'Alexandra Vodjanikova', 'Manuela Montebrun', 'Mathias Reichhold', 'Joseph LePore', 'Keith Foulke', 'Don King', 'Richard Butler', 'Peter Hillary', 'Jim Abbott', 'Gary Bergeron', 'Janine Pietsch', 'Jerelle Kraus', 'Shinzo Abe', 'Blythe Danner', 'Larry Harris', 'Lucio Stanca', 'Carlos Manuel Pruneda', 'Denise Johnson', 'Mohammad Mustapha Miro', 'Shaun Rusling', 'Wang Yingfan', 'Vaclav Havel', 'Jonathan Horton', 'Steve Waugh', 'James Carville', 'Robert Hanssen', 'Jim Anderson', 'Antje Buschschulte', 'Roberto Guaterroma', 'Phillip Fulmer', 'Annie-Jeanne Reynaud', 'Jeff Weaver', 'Ashley Olsen', 'Jennifer Murray', 'Farouk Kaddoumi', 'Chung Mong-hun', 'Tom Jones', 'Brian Meadors', 'Farouk al-Sharaa', 'Scott Wallach', 'Kai-Uwe Ricke', 'Dean Sheremet', 'Peter Goldmark', 'Brandon Larson', 'Yukio Hatoyama', 'Lee Chang-dong', 'Michael Milton', 'Catherine Bell', 'Mickey Sherman', 'Dario Camuffo', 'Carlos Menem', 'Ibrahim Jaafari', 'Wanda Ilene Barzee', 'Gary Bauer', 'Sebastien Grosjean', 'Antony Leung', 'Brandon Hammond', 'Steve Nash', 'Jane Kaczmarek', 'Aaron Sorkin', 'Colin Farrell', 'Daniele Nardello', 'Christopher Reeve', 'Mohamed Benaissa', 'Kevin Tarrant', 'James Traficant', 'Chistian Stahl', 'Ian Smith', 'Janet Leigh', 'Kevin Nealon', 'Paul-Henri Mathieu', 'Gary Sayler', 'David Coulthard', 'Miles Stewart', 'Tommy Lasorda', 'Rainer Gut', 'Sue Johnston', 'Robert DeFraites', 'Alexandra Jackson', 'Bill Bradley', 'Lauren Hutton', 'Fernando Vargas', 'Thomas Enqvist', 'Hubie Brown', 'Tommy Franks', 'Rod Thorn', 'Matt Damon', 'Karin Pilsaeter', 'Jerry Pauley', 'Ruth Harlow', 'Lisa Stone', 'Dominik Hrbaty', 'Henry Suazo', 'Jan Petersen', 'Peter Camejo', 'Brian Scalabrine', 'Diego Diego Lerman', 'Brad Banks', 'Raja Ibrahim', 'Stephen Keener', 'Gordon McDonald', 'Beecher Ray Kirby', 'Roger Lyons', 'Queen Latifah', 'Guangdong Ou Guangyuan', 'Vijay Nambiar', 'Mary Landrieu', 'Joxel Garcia', 'Mehmet Okur', 'Jerry Bruckheimer', 'Anthony Carter', 'Leticia Van de Putte', 'Elizabeth Regan', 'Lucio Gutierrez', 'Leandrinho Barbosa', 'Guillermo Coria', 'Tom Rouen', 'Sharon Osbourne', 'Judy Genshaft', 'Wayne Ferreira', 'John Philip Elkann', 'Taoufik Mathlouthi', 'Kirsten Clark', 'Manuel Jesus', 'Natalie Williams', 'Chris Whitney', 'Gerald Fitch', 'Juan Jose Lucas', 'Brad Miller', 'Scott Rolen', 'Toby Keith', 'Barbara Boxer', 'Hana Sadiq', 'Rod Paige', 'Jennifer Renee Short', 'Bertie Ahern', 'Jean-Luc Bideau', 'Harbhajan Singh', 'Stephen Push', 'Martin Brooke', 'Pedro Duque', 'Damon Stoudamire', 'Richard Parsons', 'William Martin', 'Ascencion Barajas', 'Mireya Moscoso', 'Manuel Poggiali', 'Raul Gonzalez', 'Jessica Simpson', 'Tom Koenigs', 'Jack Smith', 'Mike Davis', 'Heather Willson', 'Andrew Bunner', 'Derek Lowe', 'Margerry Bakley', 'Terrence Trammell', 'William Jackson', 'Kwame Kilpatrick', 'Jerry Oliver', 'Roy Romanow', 'Nikki Reed', 'Jeff Hornacek', 'Graeme Lloyd', 'Anthony Pisciotti', 'JJ Redick', 'Franco Dragone', 'Douglas Gansler', 'Robinson Stevenin', 'Dean Barkley', 'Soenarno', 'Abner Martinez', 'Marissa Jaret Winokur', 'Lionel Richie', 'Mohammad Fares', 'Patsy Hardy', 'Masatoshi Koshiba', 'Gianni Agnelli', 'Bill Frist', 'Gunilla Backman', 'Ali Abbas', 'Joshua Perper', 'Mother Teresa', 'Mary Matalin', 'Ellen Pompeo', 'Miguel Estrada', 'Tina Fey', 'Julien Boutter', 'Goran Persson', 'Carol Carmody', 'Hal Sellers', 'David Wells', 'Keith Bogans', 'Darvis Patton', 'Emma Watson', 'Alexandre Vinokourov', 'Elodie Bouchez', 'Bill McBride', 'Juan Carlos', 'Juergen Schrempp', 'Edgar Savisaar', 'Scott McNealy', 'Gene Keady', 'Robin Wright Penn', 'Dick Vermeil', 'Islam Karimov', 'Gene Hackman', 'Hoda Asfor', 'Sun Myung Moon', 'Antonio Elias Saca', 'Shireen Amir Begum', 'Ted Costa', 'Ronald Ito', 'Amber Frey', 'Tang Jiaxuan', 'Floyd Keith', 'John Edwards', 'Enrique Haroldo Gorriaran Merlo', 'Paul Wollnough', 'Dudley Rogers', 'Frank Beamer', 'Miguel Jimenez', 'Manuel Llorente', 'Marquis Estill', 'Thomas OBrien', 'Nicolas Lapentti', 'Steve Lavin', 'Billy Donovan', 'Xiang Huaicheng', 'Ms Dynamite', 'Bob Hayes', 'Ringo Starr', 'El Hadji Diouf', 'Michael Bolton', 'Robert Evans', 'Carla Moreno', 'Andy Hebb', 'Tom Christerson', 'Danny Green', 'Gina Gershon', 'Charlotte Church', 'Hans Corell', 'John Nimmo', 'Bela Karolyi', 'Luis Fonsi', 'Stefanie De Roux', 'Peter Hollingworth', 'Derek Parra', 'Andy Garcia', 'Robert Ehrlich', 'Joerg Haider', 'James Wallack', 'Greg Rusedski', 'Kevin Hearn', 'Steve Wariner', 'Steve Allee', 'Michelangelo Antonioni', 'Zumrati Juma', 'Judd Davies', 'Stephen Arigbabu', 'George Harrison', 'Alexa Vega', 'Joao Rocha', 'Calista Flockhart', 'Natasha Lyonne', 'Beth Blough', 'Takahiro Mori', 'Peter Hunt', 'Robert Tyrrell', 'Maria Bello', 'Juanes', 'Raul Castaneda', 'Charles Tannok', 'Leonard Hamilton', 'Horace Newcomb', 'Ruth Christofferson', 'Laura Marlow', 'Michael Pfleger', 'Akiko Morigami', 'Jose Luis Santiago Vasconcelos', 'Bob Menendez', 'David Leahy', 'Jacques Rogge', 'Leander Paes', 'Gerard de Cortanze', 'Fernando Alonso', 'Harvey Weinstein', 'Jason Kidd', 'Larry Brown', 'Tommy Tubberville', 'Will Ofenheusle', 'Elsa Zylberstein', 'Mark Swartz', 'Sterling Hitchcock', 'Craig Wilson', 'Donald Trump', 'Tom Glavine', 'Janice Abreu', 'Rob Moore', 'Colin Jackson', 'Marc Racicot', 'Stefano Gabbana', 'Chris Moore', 'Jim Wong', 'Ariel Sharon', 'Tom Scully', 'Alexander Lukashenko', 'Hitoshi Oshitani', 'Alex Cabrera', 'Ronald Kessler', 'Yuvraj Singh', 'Billy Beane', 'Kristin Davis', 'Zara Akhmadova', 'Robert Kipkoech Cheruiyot', 'Brian De Palma', 'Eric Hinske', 'Sergey Lavrov', 'Dan Dickau', 'John Rosa', 'James Parker', 'Fabricio Oberto', 'Andrea Yates', 'Daniel Radcliffe', 'Denis Fassou-Nguesso', 'Richard Penniman', 'Ted Turner', 'Miguel Hakim', 'Julie Taymor', 'Thomas Watjen', 'Tom Brennan', 'Red Auerbach', 'Eric Rosser', 'Dan LaCoutre', 'Manfred Stolpe', 'Tayyeb Abdel Rahim', 'Franklin Brown', 'Elias Attallah', 'Steny Hoyer', 'Simon Chalk', 'Laura Bush', 'Daniel Comisso Urdaneta', 'Queen Sofia', 'Mick McCarthy', 'Momir Nikolic', 'John Lawrence', 'Katie Smith', 'Hamad Bin Isa al-Khalifa', 'Rosemarie Stack', 'Christian Lirette', 'David Dorfman', 'Mitzi Gaynor', 'Elena Dementieva', 'Bryan Thomas', 'Jamie Dimon', 'Jacques Chirac', 'Jeremy Shockey', 'William Harrison', 'Peter Care', 'Rupert Murdoch', 'E Clay Shaw', 'Tom Welch', 'Alexis Dennisoff', 'Hugo Chavez', 'Rudolph Holton', 'Diana Renee Valdivieso Dubon', 'Sandra Bullock', 'JK Rowling', 'Parris Glendening', 'Kathleen Abernathy', 'Pierre Pettigrew', 'Jerry Regier', 'Elizabeth Hill', 'Koichiro Matsuura', 'Budd Schulberg', 'Lou Reed', 'Jason Statham', 'Robert Zoellick', 'Urmila Matondkar', 'Saadi Gadhafi', 'Ellen Engleman', 'Clint Eastwood', 'James Harris', 'Colleen Ryan', 'Marian Dolan', 'Jose Genoino', 'Billy Andrade', 'Giancarlo Fisichella', 'Chris Neil', 'Thabo Mbeki', 'Christy Turlington', 'Sheryl Crow', 'Paul Krueger', 'Maria Sanchez Lorenzo', 'Nina Pecari', 'Emmanuelle Beart', 'Boris Berezovsky', 'Mikhail Shvydkoi', 'Martha Martinez Flores', 'Edith Masai', 'Adrian Annus', 'Michael Sullivan', 'Charles Pouty', 'Talisa Bratt', 'David Myers', 'John Moxley', 'Thomas Scavone', 'Charlotte Chambers', 'Carroll Weimer', 'Afton Smith', 'Alejandro Lopez', 'Mitoji Yabunaka', 'Kristin Scott', 'Christopher Walken', 'Winston Churchill', 'George Papandreou', 'Peter Chan', 'Leon Silver', 'Ben Betts', 'Kimberly Stewart', 'Larry Wilmore', 'Ricky Cottrill', 'Wen Jiabao', 'Ghassan Elashi', 'Daniel Pearl', 'Don Lake', 'Mahendra Chaudhry', 'Gary Leon Ridgway', 'Kim Dong-tae', 'Edward Lohn', 'Ernest Hollings', 'Alexandra Stevenson', 'Dick Latessa', 'Robin McGraw', 'Georgi Parvanov', 'Sean Patrick OMalley', 'Bob Krueger', 'Carey Lowell', 'John Rigas', 'Tatjana Gsell', 'Filippo Volandri', 'Bruce Van De Velde', 'Jaromir Jagr', 'Saddam Hussein', 'Akbar Hashemi Rafsanjani', 'Patty Schnyder', 'Bob Geldof', 'Jeffrey Donaldson', 'Mauro Viza', 'Alexandre Daigle', 'Shia LaBeouf', 'Rowan Williams', 'Svetislav Pesic', 'Roger Clemens', 'Frank Hsieh', 'Hillary Clinton', 'Tracy Wyle', 'Robert Morvillo', 'Monique Gagnon-Tremblay', 'Shavon Earp', 'Larry Bowa', 'Katie Wagner', 'Mary Frances Seiter', 'Lech Walesa', 'Jeremy Gompertz', 'Javier Solana', 'Simon Cowell', 'Chita Rivera', 'Kim Hong-up', 'Frank Hilldrup', 'Pat DAmuro', 'Jeremy Wotherspoon', 'Bryan Adams', 'Amram Mitzna', 'John Walsh', 'Laura Hernandez', 'Sergio Vieira De Mello', 'Dick Clark', 'Ivan Lee', 'Robert Blake', 'Carina Lau Ka-ling', 'John Anderson', 'Marcelo Ebrard', 'Jose Acasuso', 'Wycliffe Grousbeck', 'Barry Switzer', 'Ciro Gomes', 'Takeo Fukui', 'Pablo Latras', 'Michael Weiss', 'John Burnett', 'Supachai Panitchpakdi', 'Mike Myers', 'Ismail Cem', 'Geovani Lapentti', 'Elin Nordegren', 'Sharon Davis', 'Brian Griese', 'Jeri Ryan', 'Ramon Ponce de Leon', 'Dereck Whittenburg', 'Albrecht Mentz', 'Debra Yang', 'Harry Kalas', 'Stanley Ho', 'Jim Thome', 'Garry Kasparov', 'John Lisowski', 'Laura Romero', 'Jerry McEntee', 'Mathilda Karel Spak', 'Monica Serra', 'Julie Infante', 'Tim Henman', 'Peter Rasch', 'Lindsey Graham', 'Cass Ballenger', 'Bijan Darvish', 'Syed Ibrahim', 'Brian Schneider', 'Dyana Calub', 'Craig David', 'Frank Abagnale Jr', 'David Trimble', 'Danis Tanovic', 'Dule Hill', 'Vince Dooley', 'Hutomo Mandala Putra', 'Prince Rainier III', 'Pete Gillen', 'Anthony Principi', 'Matt Doherty', 'George Robertson', 'Adam Freier', 'Rick Lu', 'Brian Billick', 'Nathan Lane', 'Pierre Van Hooijdonk', 'Trista Rehn', 'Jaqueline Godoy', 'Asif Ali Zardari', 'Queen Noor', 'Ester Canadas', 'David Tornberg', 'Yasser Arafat', 'Steven Briggs', 'Rosalyn Carter', 'Gilberto Simoni', 'Andres Pastrana', 'Stanley McChrystal', 'Roger Toussaint', 'Gabriella Bo', 'Peggy McGuinness', 'Bridgette Wilson-Sampras', 'Jodie Henry', 'Keith Tyson', 'David Caruso', 'Gerhard Schroeder', 'Philip Murtaugh', 'Audrey Sauret', 'Sepp Blatter', 'Zorica Radovic', 'James Cameron', 'Deepa Mehta', 'John Brady', 'Randy Jackson', 'Franko Simatovic', 'Maurice Cheeks', 'Bobby Goldwater', 'Hikmat al-Azzawi', 'Jonathan Mostow', 'Deb Santos', 'Andrea Bocelli', 'Karen Mok', 'Gabriel Jorge Ferreia', 'Alyse Beaupre', 'Shi Guangsheng', 'Jesus Cardenal', 'Ryan Newman', 'Wally Szczerbiak', 'Ralph Klein', 'Mark Everson', 'Richard Cohen', 'Chris Thomas', 'Stephen Daldry', 'Jason Jennings', 'Lea Fastow', 'Denise Locke', 'Dwayne Johnson', 'Terry Lynn Barton', 'Tatiana Paus', 'Kate Winslet', 'Johnnie Lynn', 'Suh Young-hoon', 'Luke Smith', 'Jeff Bzdelik', 'Tyler Grillo', 'Hermann Maier', 'Deece Eckstein', 'Darlene Garrettson', 'Janet Thorpe', 'Drew Bledsoe', 'Paul Celluci', 'Cindy Taylor', 'Florencia Kirchner', 'David Hannay', 'Dawna LoPiccolo', 'Emily Stevens', 'Adam Kennedy', 'Nathirah Hussein', 'William Overlin', 'Steven Hatfill', 'Eric Lloyd', 'David Hasselhoff', 'Joe Crede', 'Etta James', 'Rick Barnes', 'Valerie Thwaites', 'Nicanor Duarte Frutos', 'Cori Enghusen', 'Keith Fotta', 'Charles Moose', 'Mark Hurlbert', 'Darryl Stingley', 'Osrat Iosef', 'Maria Conchita Alonso', 'Yann Martel', 'Roy Moore', 'Julius Erving', 'Ahmad Masood', 'Sergio Castellitto', 'Geraldo Rivera', 'James Spalding', 'Tom OBrien', 'Michael Schumacher', 'William Rehnquist', 'Paula Prentiss', 'Michael Adams', 'Lisa Ling', 'Jalal Talabani', 'Amy Yasbeck', 'Tanya Holyk', 'Joe Gatti', 'Octavio Lara', 'Chris Cirino', 'Alexander Downer', 'Rose Linkins', 'Janette Husarova', 'Hector Babenco', 'Julia Glass', 'Yu Shyi-kun', 'Gerry Adams', 'Alison Krauss', 'Soon Yi', 'Leonard Glick', 'Larry Ralston', 'Tatiana Panova', 'Jason Mewes', 'Daniel Chin', 'Gorden Tallis', 'Hu Maoyuan', 'Steve Cox', 'Gerhard Schmid', 'Cameron Diaz', 'Masao Azuma', 'Taufik Kiemas', 'Eugene Teslovic', 'Scott Weiland', 'Gavyn Arthur', 'Bobby Bowden', 'Gus Van Sant', 'Otto Schily', 'Anne McLellan', 'Antonio Banderas', 'Richard Harris', 'Bruno Junquiera', 'Ivo Dubs', 'Andrew Firestone', 'Joe Leonard', 'Anette Hosoi', 'Hiroyuki Yoshino', 'Peter Greenaway', 'Shaukat Aziz', 'Sergei Ivanov', 'Sue Slavec', 'Kate Richardson', 'Brian Williams', 'Jason White', 'Kobe Bryant', 'Armando Avila Panchame', 'Rick Carlisle', 'George Bovell', 'Joseph Ganim', 'Debbie Reynolds', 'Mack Brown', 'Dinora Rosales', 'Eric Schacht', 'Georgina Papin', 'Lynn Redgrave', 'Bill Parcells', 'Mia Mottley', 'Brian Gregory', 'Billy Joel', 'Joey Buttafuoco', 'Patti Labelle', 'Tonino Guerra', 'Garry Trudeau', 'Lori Berenson', 'Manfred Reyes Villa', 'Alanis Morissette', 'Antonio Trillanes', 'Alejandro Gonzalez Inarritu', 'Sergei Alexandrovitch Ordzhonikidze', 'Des Brown', 'Chris Swecker', 'Wu Peng', 'Jamie Olis', 'Tomas Malik', 'Stephen Ambrose', 'Pat Burns', 'Eduardo Fischer', 'Bill OReilly', 'Bart Hendricks', 'Robert Redford', 'Patricia Medina', 'Aung San Suu Kyi', 'Vanessa Redgrave', 'Ian Knop', 'Alfonso Soriano', 'Eladio Larez', 'Randy Brown', 'Rosa Haywa de Condori', 'Hisashi Owada', 'Bill Fennelly', 'Justin Guarini', 'Floyd Mayweather', 'Jason Kapono', 'Mario Lobo Zagallo', 'Edward Arsenault', 'Chandrika Kumaratunga', 'Martin Brodeur', 'Lennox Lewis', 'Erin Hershey Presley', 'Desiree McKenzie', 'Agnes Bruckner', 'OJ Simpson', 'Brad Brownell', 'Guillermo Ortiz', 'Jennifer Tilly', 'David Heymann', 'Michael Deutsch', 'Lee Nam-shin', 'Jong Thae Hwa', 'Mark Sisk', 'Chris Klein', 'John Stockton', 'Mark Gangloff', 'Brendan Stai', 'Ray Morrough', 'Stipe Mesic', 'Tim Curley', 'Mona Rishmawi', 'Dominik Garcia-Lorido', 'Seth Gorney', 'Khalid Qazi', 'Reese Witherspoon', 'Elmar Brok', 'Bill Cartwright', 'Micheal Jourdain Jr', 'Jo Dee Messina', 'Spike Jonze', 'Meg Mallon', 'Cecilia Bolocco', 'Yana Klochkova', 'Wang Nan', 'David Hilt', 'Natalya Sazanovich', 'Aron Ralston', 'Jane Riley', 'Jim Nochols', 'Toshihiko Fukui', 'Diego Armando Maradona', 'James Coburn', 'Eurico Guterres', 'Martin Luther King III', 'Lee Tae-sik', 'Andres DAlessandro', 'Eva Amurri', 'Jeffrey Ashby', 'Lucie Lapovsky', 'Dariusz Michalczewski', 'Nadine Vinzens', 'Rupert Grint', 'Leon LaPorte', 'Raul Rivero', 'Tom Brady', 'Billy Graham', 'Tim Floyd', 'Melissa Gilbert', 'Raymond Odierno', 'Norodom Sihanouk', 'Luis Pujols', 'Eunice Barber', 'Lesia Burlak', 'Julian Battle', 'Alvaro Noboa', 'Marie-Reine Le Gougne', 'Doc Rivers', 'Abraham Foxman', 'Kim Jong-Il', 'John Cruz', 'Stefan Koubek', 'Charles Cope', 'Anne Heche', 'Patricia Heaton', 'Lionel Chalmers', 'Dennis Franchione', 'Eva Mendes', 'Duncan Fletcher', 'Mariana Gonzalez', 'Dennis Johnson', 'David Bell', 'David McCallum', 'Alan Greer', 'Kathryn Morris', 'Mona Locke', 'Amy Gale', 'Muhammad Ibrahim Bilal', 'Itamar Franco', 'Ruth Stubbs', 'Piotr Anderszewski', 'Lloyd Mudiwa', 'Boris Trajkovski', 'Paul Wolfowitz', 'Thomas Malchow', 'Jesse Harris', 'Frances Fisher', 'Maurice Strong', 'Christopher Whittle', 'Jason Petty', 'Mitsou Gelinas', 'SJ Twu', 'Martin Hoellwarth', 'Didier Defago', 'Dave McNealey', 'Lesley McCulloch', 'Hernan Diaz', 'Padraig Harrington', 'Paul ONeill', 'Don Nickles', 'Lou Lang', 'Rich Gannon', 'Ed Sullivan', 'Nick Rahall', 'Kate Capshaw', 'Jeanette Stauffer', 'Sean Hayes', 'Margaret Caruso', 'Keith Brown', 'Patsy Kensit', 'Robert Pollack', 'Rod Blagojevich', 'Maria Soledad Alvear Valenzuela', 'Della Clara', 'Allen Iverson', 'Sourav Ganguly', 'Jackie Chan', 'Carlos Juarez', 'Kenneth Branagh', 'Eli Broad', 'Tommy Amaker', 'Viktor Yushchenko', 'Dexter Jackson', 'Cheryl Little', 'Chris Penn', 'Sven Goran Eriksson', 'Bob Guccione', 'Joan Collins', 'Amy Redford', 'Seymour Cassell', 'Jack Osbourne', 'Hayley Tullett', 'Yang Hee Kim', 'Ai Sugiyama', 'Carla Sullivan', 'David Stern', 'Zeljko Rebraca', 'Alisha Richman', 'Yuri Luzhkov', 'Nicolas Cage', 'Julian Fantino', 'Terrell Suggs', 'Jean-Pierre Raffarin', 'Patti Balgojevich', 'Dennis Hastert', 'Yannos Papantoniou', 'Gil Cates', 'George Tenet', 'Alejandro Fernandez', 'Joan Dangerfield', 'Prince Naruhito', 'Mike Bryan', 'Karen Pereiras', 'Jakob Kellenberger', 'Amanda Beard', 'Ray Young', 'Damon van Dam', 'Minnie Driver', 'Celia Cruz', 'Dario Franchitti', 'Mike Martz', 'Lynne Slepian', 'Pete Beaudrault', 'Carlos Alberto Parreira', 'Mario Dominguez', 'Damon Dash', 'Christian Von Wernich', 'Gloria Trevi', 'Paul Brandt', 'Travis Rudolph', 'Andy Dick', 'Gore Vidal', 'Nan Wang', 'Margie Puente', 'Eric Taino', 'Jeanne Moreau', 'Donald Regan', 'Robert Stack', 'Mario Cipollini', 'Millicent Martin', 'Amy Brenneman', 'Eloy Gutierrez', 'Mile Mrksic', 'Christine Todd Whitman', 'Steve Blankenship', 'Bo Ryan', 'Zahir Shah', 'Damarius Bilbo', 'Antonio Bernardo', 'Ramon Santana', 'David Anderson', 'Terrence Kiel', 'Mitchell Swartz', 'Paul LeClerc', 'Ronnie Jagday', 'Pak Gil Yon', 'David Glenn', 'Hank Azaria', 'Ty Votaw', 'Colleen OClair', 'Craig OClair', 'Allen Rock', 'Carlos Ghosn', 'James Morris', 'Anthony Scott Miller', 'John Connolly', 'Dick Devine', 'Elizabeth Berkeley', 'Claire De Gryse', 'Milt Heflin', 'Makiko Tanaka', 'Park Na-kyong', 'Andrei Nikolishin', 'Valery Giscard dEstaing', 'Tim Duncan', 'Bernardo Segura', 'Tali Imani', 'Tyra Banks', 'Kamel Morjane', 'Pierre Png', 'Erin Brockovich', 'Paul Vathis', 'Brian Florence', 'Judy Locy', 'Bill Graham', 'Dave Ragone', 'Martin McGuinness', 'Paul Clark', 'Albert Costa', 'Nicolas Kiefer', 'Earl Campbell', 'Woodrow Stanley', 'Noel Forgeard', 'Ain Seppik', 'Sandra Day OConner', 'Agnelo Queiroz', 'Patrick Eaves', 'Ali Naimi', 'Gerrit Zalm', 'Nathalia Gillot', 'Art Hoffmann', 'Thomas Kelly', 'Kevin Satterfield', 'Don Siegelman', 'Namuddu Florence', 'Bill Clancy', 'Christian Olsson', 'Tian Liang', 'Kurt Warner', 'Melanie Griffith', 'Jimmy Smits', 'Naomi Hayashi', 'Teri Files', 'Evo Morales', 'Robert Bonner', 'Kim Ryong-sung', 'Ralph Goodale', 'Jose Carlo Fernandez', 'Jim Greenwood', 'Jack Valenti', 'Angie Arzola', 'David Caraway', 'Steve Largent', 'Alyson Hannigan', 'Gonzalo Barrientos', 'Eddie Sutton', 'Juergen Chrobog', 'Evan Marriott', 'Amelia Vega', 'Odai Hussein', 'Riek Blanjaar', 'Eileen Coparropa', 'Ilan Ramon', 'Miranda Otto', 'Chris Gratton', 'Franz Beckenbauer', 'Paula Abdul', 'Tommy Maddox', 'Mark Richt', 'Wayne Newton', 'Aly Wagner', 'Pablo Khulental', 'Mary Lou Markakis', 'Desiree Lemosi', 'Marina Silva', 'Rena Sofer', 'Cheryl Ford', 'Alexandra Pelosi', 'Robbie Fowler', 'James Young', 'Nelson Mandela', 'James Dingemans', 'Juan Fernandez', 'Marwan Muasher', 'Andy Griffith', 'Anthony Hopkins', 'Marco Archer Cardoso Moreira', 'Gordon Cooper', 'Iain Anderson', 'Greg Kinsey', 'David Howard', 'Kweisi Mfume', 'Flor Montulo', 'Fayssal Mekdad', 'Katerina Smrzova', 'Maureen Fanning', 'Daniell Sunjata', 'Jimmy Gobble', 'Gael Garcia Bermal', 'Mitchell Potter', 'Milt Palacio', 'Mireya Elisa Moscoso Rodriguez', 'Mikulas Dzurinda', 'Matthias Sammer', 'Scott Rudin', 'Stephen Oake', 'Eric Wedge', 'Ahmet Necdet Sezer', 'Bill Belichick', 'Caio Blat', 'Karen Clarkson', 'Julio Cesar Franco', 'Gary Dellaverson', 'Lou Piniella', 'Brad Alexander Smith', 'Abdullah Nasseef', 'Victor Kraatz', 'Thomas Gottschalk', 'Anthony Mazur', 'Fred Eckhard', 'Dale Earnhardt Jr', 'Guy Verhofstadt', 'Iain Richmond', 'Darcy Regier', 'Alfred Sant', 'Aldo Paredes', 'Kathryn Grayson', 'Darrell Porter', 'William Nessen', 'Matthew Ouimet', 'Donald Rumsfeld', 'Valentino Rossi', 'Angela Alvarado Rosa', 'Abid Hamid Mahmud Al-Tikriti', 'Sofia Milos', 'Bill Butler', 'Jennifer Gratz', 'Jeff Dederian', 'Horacio Julio Pina', 'Martha Burk', 'Princess Victoria', 'John Elway', 'Cherie Blair', 'Michelle Chiklis', 'Norm Macdonald', 'Jon Gruden', 'Patty Sheehan', 'Michael J Sheehan', 'Stacey Jones', 'Roberto Tovar', 'Fann Wong', 'Jason Sorens', 'Jerry Tarkanian', 'Richard Levin', 'John Banko', 'Georgia Giddings', 'Gray Davis', 'Francisco Maturana', 'Walt Harris', 'Thomas Van Essen', 'Russell Coutts', 'David Millar', 'Margaret Hoelzer', 'Joan Laporta', 'Sherry Fisher', 'Osmond Smith', 'Gunter Pleuger', 'Tono Suratman', 'Jay Leno', 'Craig Fitzgibbon', 'Felix Trinidad', 'Jane Menelaus', 'Lleyton Hewitt', 'Bill Hughes', 'Brandon Fails', 'George Murphy', 'Martin Landau', 'Camille Lewis', 'Ratna Sari Dewi Sukarno', 'Edward Flynn', 'Jose Vicente Rangel', 'Lee Hong-ki', 'Steve Phillips', 'Diana Krall', 'Diana Ross', 'Michel Kratochvil', 'Mohammad Khatami', 'Viola Davis', 'Patrick Stewart', 'Ken Wharfe', 'Shirley Jones', 'Tommy Haas', 'Allan Kemakeza', 'Dot Helms', 'Koichi Tanaka', 'Shane Phillips', 'Vaclav Klaus', 'Davey Johnson', 'Narayan Singh Pun', 'Alex Popov', 'Lisa Murkowski', 'Michael Doleac', 'Chung Mong-joon', 'Carly Fiorina', 'Roberto Cavalli', 'Bernard Kerik', 'Mary Bono', 'Whoopi Goldberg', 'Diana Silvius', 'Uzi Even', 'Terence Newman', 'Bo Pelini', 'Annika Sorenstam', 'Aicha El Ouafi', 'Thaksin Shinawatra', 'Aaron Peirsol', 'Anneli Jaatteenmaki', 'Gloria Allred', 'Pedro Velasquez', 'Jeane Kirkpatrick', 'Jean Carnahan', 'Gianna Angelopoulos-Daskalaki', 'Fatmir Limaj', 'Michael Keaton', 'Laila Ali', 'Angelo Genova', 'Gregorio Rosal', 'Benjamin Netanyahu', 'Pedro Mahecha', 'Chick Hearn', 'Nicholas Byron', 'Cristina Saralegui', 'Edmund Hillary', 'Tiger Woods', 'Earl Scruggs', 'Qusai Hussein', 'Chan Choi', 'Edward Albee', 'Mahdi Al Bassam', 'Joshua Gracin', 'Gary Doer', 'Melissa Etheridge', 'William Bratton', 'Jean-Pierre Bemba', 'Matt Dillon', 'Emma Thompson', 'Joy Lee Sadler', 'Yasushi Chimura', 'Jerry Sexton', 'Anne Donovan', 'Jason Sehorn', 'Charlton Heston', 'Ron Gonzales', 'Bryan Cooley', 'Paul Henderson', 'Mitch Kupchak', 'Aaron Pena', 'BB King', 'Nicole Parker', 'Kurt Tanabe', 'William McDonough', 'Edward Seaga', 'Jennifer Lopez', 'Paul Coppin', 'Jan Pronk', 'Michael Bloomberg', 'Edwina Currie', 'John Kerr', 'Phil Jackson', 'Paul Kagame', 'David Westerfield', 'Mark Hogan', 'Richard Norton-Taylor', 'Jennifer Aniston', 'Marie Haghal', 'Khum Bahadur Khadka', 'John Ruiz', 'Carlos Ruiz', 'Geoff Hoon', 'Silvio Berlusconi', 'Sonia Gandhi', 'Muwafak al-Ani', 'Dwayne Williams', 'Manuel Gehring', 'Nebojsa Pavkovic', 'Charlie Deane', 'Edina Batar', 'Bob Alper', 'Laurent Gbagbo', 'Graham Bentley', 'Sophia Loren', 'Alberta Lee', 'Mark Stuart', 'Ernie Els', 'Lim Dong-won', 'Raag Singhal', 'Yory Boy Campas', 'Bob Cantrell', 'Robert Douglas', 'Mark Butcher', 'Bill Richardson', 'Natasha McElhone', 'Karin Viard', 'Xanana Gusmao', 'Gina Lollobrigida', 'Melissa Stark', 'Daryl Jones', 'Ahmed Lopez', 'Dan Morales', 'Humberto Coelho', 'Tammy Lynn Michaels', 'Peter Mugyeni', 'Annette Lu', 'Mike Maroth', 'Morgan Freeman', 'Mercedes Amor', 'Avril Lavigne', 'Robert Bullock', 'Malcolm Jamal Warner', 'Ashanti', 'Dai Chul Chyung', 'Daniela Hantuchova', 'Donatella Versace', 'Monte Kiffin', 'Juergen Trittin', 'Randy Johnson', 'Will Self', 'Christine Baumgartner', 'Strom Thurmond', 'Heather Whitestone McCallum', 'Saeed Mortazavi', 'Sedigh Barmak', 'Penny Lancaster', 'Pat Cox', 'Robert Beck', 'John Allen Muhammad', 'Dave Tucker', 'Penny Dupuie', 'Sasha Cohen', 'Francisco Urenda', 'Timbul Silaen', 'Alicia Keys', 'Doug Duncan', 'Leon Lai', 'Brooke Shields', 'Thomas Bjorn', 'Antonio Palocci', 'Jim Spinoza', 'Bill Mauldin', 'DAngelo Jimenez', 'Richard Jefferson', 'Ricky Ponting', 'Timothy McVeigh', 'Kemal Dervis', 'Norbert van Heyst', 'Tommy Robredo', 'Landon Donovan', 'Gavyn Davies', 'Steve Park', 'Johnny Benson', 'Tina Sinatra', 'Hadley Bilger', 'Val Ackerman', 'Ali Hammoud', 'Julius Barnes', 'Brett Perry', 'Gregg Berhalter', 'Marsah Ambrosius', 'Kwon Yang-sook', 'Amelie Mauresmo', 'Johnny Hallyday', 'Jake Plummer', 'John Paul II', 'Jane Krakowski', 'Mark McClellan', 'Guillermo Ruiz Polanco', 'Dick Posthumus', 'Yoon Won-Sik', 'Paul Wellstone', 'Ozzie Smith', 'John Manley', 'Lee Jun', 'Colin Montgomerie', 'Bernice Wong', 'Kim Yong-il', 'Rocco Buttiglione', 'Rod Bryden', 'John Madden', 'Basdeo Panday', 'Mahima Chaudhari', 'Howard Dean', 'Ricky Martin', 'Jimmy Kimmel', 'Michael Dell', 'Dave Wannstedt', 'Hung Wan-ting', 'James Caan', 'Larry Templeton', 'Angie Martinez', 'George Brumley III', 'Bixente LIzarazu', 'Peri Gilpin', 'Henning Scherf', 'Sinead OConnor', 'James Cunningham', 'Pedro Almodovar', 'Natalie Cole', 'Elliott Mincberg', 'Jamie Villafane', 'Colin Cowie', 'Kenneth Dam', 'Itzhak Perlman', 'Courtney Love', 'Kyle McLaren', 'Leslie Caldwell', 'Alastair Johnston', 'Steve Mariucci', 'Matt Siebrandt', 'Mario Jardel', 'Alberto Sordi', 'Danny Morgan', 'Gary Stevens', 'John Dallager', 'Christiane Wulff', 'Hu Jintao', 'Bob Wright', 'Robert Blackwill', 'Dora Bakoyianni', 'Goh Kun', 'Junichiro Koizumi', 'Ed Case', 'Christopher Russell', 'Reina Hayes', 'Gary Winnick', 'Robert Altman', 'Michael Diekmann', 'Fabiola Zuluaga', 'Carly Gullickson', 'Christian Malcolm', 'Monica Seles', 'Neil Moritz', 'Sachiko Yamada', 'Michelle Kwan', 'Brian Campbell', 'Anthony Rackauckas', 'Tim Salmon', 'Skip Prosser', 'Rob Ramsay', 'Laurie Laychak', 'Jenna Elfman', 'Paul Ebert', 'Gene Orza', 'Jessica Alba', 'Fruit Chan', 'Troy Garity', 'Oxana Fedorova', 'Phillip Seymor Hoffmann', 'Loretta Lynn Harper', 'Heidi Klum', 'Ricardo Lagos', 'Kenny Chesney', 'Lord Hutton', 'Mel Gibson', 'Desmon Farmer', 'Hootie Johnson', 'Sara Elisabeth Ahmad', 'Paddy Torsney', 'Ruth Pearce', 'Elena Bereznaya', 'Yang Jianli', 'Mark Mulder', 'Laura Bozzo', 'Elijah Wood', 'Eddie Lucio', 'Andrew Sabey', 'Florencia Macri', 'Maura Tierney', 'Kelly Ripa', 'Bulent Ecevit', 'Leonid Kuchma', 'Eglis Yaima Cruz', 'Brad Johnson', 'John Daly Jr', 'Sam Rockwell', 'Mel Karmazin', 'Jane Leeves', 'Scott Dalton', 'Gabrielle Union', 'Barrett Jackman', 'Jim Carrey', 'George Gregan', 'David Alpay', 'Mickey Gilley', 'Stephen Webster', 'Rafael Vinoly', 'Nigel Redden', 'Ahmad Jbarah', 'Helen Darling', 'Tony Clement', 'Alex Wallau', 'Michael Andretti', 'Mohammed Ashraf Hafiz', 'Darren Campel', 'Robert Flodquist', 'Jim Ahern', 'Derek Bond', 'Neri Marcore', 'Claudine Farrell', 'Gregory Geoffroy', 'Steven Feldman', 'Prince Felipe', 'Camryn Manheim', 'Arthur Johnson', 'Jorge Valdano', 'Jeff George', 'Anthony Garotinho', 'Javier Saviola', 'Alan Dershowitz', 'Phil Gramm', 'Milan Milutinovic', 'Robert Torricelli', 'Steve Fehr', 'Janice Goldfinger', 'Oscar De La Hoya', 'Ahmed Ibrahim Bilal', 'Kathleen Kennedy Townsend', 'John McKay', 'Lily Tomlin', 'Kathy Gannon', 'Azmi Bishara', 'Stephanie Cohen Aloro', 'Lydia Shum', 'Irv Nathan', 'Serge Melac', 'Tom Kelly', 'Steve Valentine', 'Charlie Zaa', 'Candice Bergen', 'Nathalie Baye', 'Vassilis Xiros', 'Dave Potter', 'Astou Ndiaye-Diatta', 'Fujio Cho', 'Jia Qinglin', 'Susan Sarandon', 'Claire Hentzen', 'Gonzalo Sanchez de Lozada', 'Jim Hahn', 'Bison Dele', 'Craig Morgan', 'Sandra Milo', 'Michael Olowokandi', 'Joe Cravens', 'Ray Price', 'Charlie Sheen', 'Jose Maria Aznar', 'Pyar Jung Thapa', 'Ellen Martin', 'Rand Beers', 'John Lennon', 'Prince Harry', 'Lewis Booth', 'Dorthy Moxley', 'Clifford Robinson', 'Jan-Michael Gambill', 'Mike Helton', 'John McCormack', 'Tina Brown', 'Jon Stewart', 'Tubby Smith', 'Bernard Giraudeau', 'Wolfgang Schuessel', 'Alfonso Portillo', 'Carlos Salinas', 'Ann Veneman', 'Marco Pantani', 'Jelena Dokic', 'Charles Schumer', 'Tom Hanusik', 'Brian StPierre', 'Toutai Kefu', 'Shingo Katayama', 'Phil Morris', 'Milo Maestrecampo', 'Cha Yung-gu', 'Richard Paul Evans', 'Tyler Hamilton', 'Hilmi Ozkok', 'Razali Ismail', 'George Galloway', 'Ramon Delgado', 'Frederique van der Wal', 'Lisa Raymond', 'George Allen', 'Allyson Felix', 'Jessica Capshaw', 'Mark Bellhorn', 'Vincent Gallo', 'Mayumi Moriyama', 'Daisy Fuentes', 'Ramon Cardenas', 'Jaouad Gharib', 'Paula Radcliffe', 'Faye Dunaway', 'Kelly Osbourne', 'Nuon Chea', 'Matthew Vaughan', 'Miroljub', 'Javier Weber', 'Rita Wilson', 'Lloyd Novick', 'Stepan Demirchian', 'Naomi Campbell', 'Colleen Jones', 'Charles Chandler IV', 'Michelle Branch', 'Bill Kollar', 'Jake Brace', 'Howard Ross', 'Julia Tymoshenko', 'San Lan', 'Rebekah Chantay Revels', 'Hans Eichel', 'Kathryn Tucker', 'Brandon Lloyd', 'Drew Barrymore', 'Cliff Ellis', 'Cathy Cunningham', 'Gro Harlem Brundtland', 'Dalai Lama', 'Dagmar Dunlevy', 'Princess Stephanie', 'Elgin Baylor', 'Normand Legault', 'Ben Affleck', 'Christopher Patten', 'Amy Cotton', 'Sushma Swaraj', 'Larry Anderson', 'Todd Robbins', 'Peter Harrison', 'Pat Wharton', 'Raul Mondesi', 'Geoffrey Rush', 'Corey Maggette', 'Don Matthews', 'Alberto Acosta', 'Alex King', 'Phil McGraw', 'Dale Earnhardt', 'Tom Hanks', 'Donnie Brennan', 'Salman Rushdie', 'Theresa May', 'Buddy Ryan', 'Jade Jagger', 'Timothy Wirth', 'Richard Pennington', 'Hee-Won Han', 'Tim Norbeck', 'Ismail Merchant', 'Tony Blair', 'Pervez Musharraf', 'Mira Sorvino', 'Kristy Curry', 'Doug Racine', 'Marisol Martinez Sambran', 'Ray Liotta', 'Gwen Stefani', 'Rhett Warrener', 'Tim Jones', 'Roberto Carlos', 'Mariana Pollack', 'Anna Jones', 'Henk Bekedam', 'Camilla Parker Bowles', 'Garry Alejano', 'Sean Astin', 'Lucrecia Orozco', 'Joe Calzaghe', 'Horace Donovan Reid', 'Clifford Etienne', 'Ibrahim Rugova', 'Ruth Dreifuss', 'Eddy Hartenstein', 'Hassan Nasrallah', 'Joseph Biden', 'Melissa Mulloy', 'Marieta Chrousala', 'Pinar del Rio', 'Mona Ayoub', 'Federico Castelan Sayre', 'Steve McManaman', 'Kirk Johnson', 'Martin Keown', 'Aaron Patterson', 'Jada Pinkett Smith', 'Sophie', 'Jacqueline Marris', 'Arnie Boehm', 'Madeleine Webber', 'Guillermo Monroy', 'Margaret Hasley', 'Viara Vike-Freiberga', 'Hamid Efendi', 'William Hyde', 'Franklin Damann', 'Ruben Studdard', 'Princess Hisako', 'Billy Boyd', 'Stan Heath', 'Juan Carlos Ortega', 'Michael Patrick King', 'Steve Case', 'Peter Arnett', 'Jerry Sloan', 'Jamie King', 'Luis Horna', 'Gideon Yago', 'Michael Munoz', 'Wolfgang Clement', 'Vicente Fernandez', 'Robert Kocharian', 'Kurt Schottenheimer', 'Ibrahim Al-Marashi', 'Bruna Colosio', 'Imelda Marcos', 'Gerald Ford', 'Jim Hendry', 'Steve-O', 'Roger Cook', 'Ron Zook', 'Stephen Swindal', 'Kit Bond', 'Mufti Mohammad Syed', 'Peter Sejna', 'Jeremy Fogel', 'Kenneth Bowersox', 'Billy Crawford', 'Sonja Kesselschlager', 'David Ho', 'Leszek Miller', 'Gerard Kleisterlee', 'Vincent Cianci Jr', 'Mo Elleithee', 'Mohamed Hammam', 'Hanns Schumacher', 'Robert Towne', 'Barry Alvarez', 'Scott Ritter', 'Ali Khamenei', 'Ellen Saracini', 'Michael Peat', 'Muffet McGraw', 'Stanley Nelson', 'Michael Smith Foster', 'Carl Pope', 'Mike Samp', 'Retief Goosen', 'Lana Clarkson', 'Robin Wagner', 'Tamara Brooks', 'Tuncay Sanli', 'Liu Xiaoqing', 'Elvis Costello', 'Scott Peterson', 'Luciano Bovicelli', 'James Brosnahan', 'Matt Herden', 'Jean Nagel', 'Doug Moe', 'Oleksandr Moroz', 'John Engler', 'Kurt Suzuki', 'Martin Lawrence', 'Hermes Gamonal', 'Iain Duncan Smith', 'Daja Bedanova', 'Joseph Kabila', 'Tommy Shane Steiner', 'Paek Nam Sun', 'Beyonce Knowles', 'Richard Jewell', 'Barbara Walters', 'Julianne Moore', 'Martha Lucia Ramirez', 'Federico Trillo', 'Leon Barmore', 'Mike Matheny', 'Alejandro Lembo', 'Harold Brown', 'Bernadette Peters', 'Tom Coverdale', 'Brian Cook', 'Carl Reiner', 'Stephen Glassroth', 'Stella Keitel', 'Tony Cummo', 'Constance Marie', 'Andre Lange', 'Madonna', 'Cathy Chisholm', 'Franck Cerutti', 'Joaquin Sanchez', 'Suzanne Gaudet', 'Tristan Gretzky', 'Condoleezza Rice', 'Don Meredith', 'Luiz Inacio Lula da Silva', 'Mike Cunning', 'Kathie Louise Saunders', 'Donna Walker', 'Chris Terry', 'Darrell Dickey', 'Mikhail Youzhny', 'Steve Zahn', 'Paola Espinoza', 'Juan Carlos Ferrero', 'Ron Howard', 'Kurt Thomas', 'Eriko Tamura', 'James Williams', 'Carla Gay Balingit', 'Chang Dae-whan', 'Willis Roberts', 'Chris Tucker', 'Perry Gibbs', 'Tim Matheson', 'JP Suarez', 'Milton Berle', 'Peter Mackay', 'Hana Makhmalbaf', 'Meirion Evans', 'Yoon Young-kwan', 'Franz Muentefering', 'Monica Vergara', 'Toni Jennings', 'Prince Philippe', 'Rob Niedermayer', 'Robbie Mc Ewen', 'Mohammed Mehdi Saleh', 'Rita Grande', 'Carlos Arroyo', 'Daniel Montenegro', 'Craig MacTavish', 'Larry Campbell', 'Lane Odom', 'Donald Keyser', 'Thomas Weston', 'Patti Lank', 'Sam Brownback', 'Andrei Konchalovsky', 'Carlos Queiroz', 'Janet Chandler', 'Lin Yi-fu', 'Leuris Pupo', 'Jorge Marquez-Ruarte', 'Rogelio Montemayor', 'Iveta Benesova', 'Connie Freydell', 'Nastassia Kinski', 'John Goold', 'Tim Robbins', 'Zelma Novelo', 'Jose Bove', 'Lucio Angulo', 'Ren Qingjin', 'Al Pacino', 'Elena Bovina', 'Jim Freudenberg', 'Daniel Barenboim', 'Jiri Novak', 'Angelo Reyes', 'Troy Jenkins', 'Estella Warren', 'Atsushi Sato', 'Richard Virenque', 'Patricia Johnson', 'Maribel Dominguez', 'Helio Rubens Garcia', 'Alex Ferguson', 'Phoenix Chang', 'Ridley Scott', 'Augusto Pinochet', 'Makiya Ali Hassan', 'Anatoliy Kinakh', 'Ann Landers', 'Eliza Manningham-Buller', 'Mehdi Baala', 'Hiroki Gomi', 'Trisha Meili', 'David Kelley', 'Kevin Marshall', 'Rodrigo de la Cerna', 'Miguel Contreras', 'Tayshaun Prince', 'Paul Burrell', 'Joe Mendes', 'Joseph Estrada', 'Thomas Mesereau Jr', 'Abel Pacheco', 'John Jumper', 'Junko Tabei', 'Lisa Marie Presley', 'Almeida Baptista', 'Aitor Gonzalez', 'Enrique Iglesias', 'Steffeny Holtz', 'Compay Segundo', 'Martha Bowen', 'Piers Sellers', 'Wilbert Foy', 'Chadha Gurinder', 'Daryl Hannah', 'Dominique Perben', 'Antanas Valionis', 'Isidro Pastor', 'Takashi Sorimachi', 'Anwar Ibrahim', 'Jacqueline Obradors', 'Robert Weitzel', 'John Rusnak', 'Gus Frerotte', 'Stephen Cooper', 'Noer Moeis', 'Betsy Smith', 'Chuck Bednarik', 'Mike Thibault', 'Carin Koch', 'Sami Al-Arian', 'Kenny Brack', 'Anna Kournikova', 'Richard Branson', 'Brittany Snow', 'Joe Garner', 'Lawrence Roberts', 'Brennon Leighton', 'Jean-Claude Trichet', 'Micah Knorr', 'Larry Ellison', 'Kajsa Bergqvist', 'Robert Fico', 'Keith Rodriguez', 'Cemil Cicek', 'John Leguizamo', 'Terry Hoeppner', 'Roman Tam', 'Barry Bonds', 'Roberto Laratro', 'Laurie Pirtle', 'Serena Williams', 'Chuck Finley', 'Bonnie Hunt', 'Hector Grullon', 'Valerie Harper', 'Benjamin Neulander', 'Ken Kutaragi', 'Chuck Hagel', 'David Dewhurst', 'Lyle Vanclief', 'Franco Frattini', 'Nicolas Latorre', 'Nicklas Lidstrom', 'Johnson Panjaitan', 'Kathy Baker', 'James Gibson', 'Bettina Rheims', 'David Spade', 'Vince Vaughan', 'Vince Gill', 'Brian Cashman', 'Frank Marshall', 'Pham Sy Chien', 'Hana Urushima', 'James Sensenbrenner', 'Josh Childress', 'Debra Messing', 'Carlos Moya', 'Tom Crean', 'Dick Smothers', 'Brandon Webb', 'Roy Jones Jr', 'James Becker', 'Monica Gabrielle', 'Carlos Alberto', 'Cheryl James', 'Lyle Lovett', 'Francis George', 'Chuck Woolery', 'Barbara Bodine', 'Vyacheslav Fetisov', 'Stan Kasten', 'Giannina Facio', 'Stephane Rousseau', 'Michael Lechner', 'Alan Stonecipher', 'Se Hyuk Joo', 'Sara Silverman', 'Willie Nelson', 'Sam Gerald', 'Thalia', 'GL Peiris', 'Luiz Felipe Scolari', 'Lorraine Bracco', 'Steve Allan', 'Michael Rolinee', 'Tyrone Medley', 'Bob Bowlsby', 'Pernilla Bjorn', 'Toshi Izawa', 'Amanda Marsh', 'Robert Lee Yates Jr', 'Brock Berlin', 'Lee Baca', 'Zhang Yimou', 'Jawad Boulus', 'Kifah Ajouri', 'Brigitte Boisselier', 'Christian Wulff', 'Nicolas Sarkozy', 'Maggie Cheung', 'John Fox', 'Rey Sanchez', 'John Salazar', 'Hugo Colace', 'Gil de Ferran', 'Joe Glover', 'Francois Pienaar', 'Pierce Brosnan', 'Alexandre Herchcovitch', 'John Howard', 'Fred Thompson', 'Filip De Winter', 'King Abdullah II', 'Kim Yun-kyu', 'Erwin Abdullah', 'Turner Gill', 'Shawn Marion', 'Michael Lopez-Alegria', 'Jean-Marc de La Sabliere', 'Jacqueline Edwards', 'Paul Lockhart', 'Tim Blake Nelson', 'Jackie Dennis', 'Ismail Khan', 'Zach Parise', 'Rene Antonio Leon Rodriguez', 'Yoo Jay-Kun', 'Gabriel Hughes', 'Sarah Wynter', 'Lucy Liu', 'Mitt Romney', 'Riccardo Muti', 'Jodie Kidd', 'Courtney Cox', 'Mark Mishkin', 'Arminio Fraga', 'John Perrota', 'Dino Risi', 'Erika Christensen', 'Irfan Ahmed', 'Martin Verkerk', 'Eduard Shevardnadze', 'Henry Castellanos', 'Seydou Diarra', 'Percy Gibson', 'Dennis Miller', 'Pio Laghi', 'Bruce Willis', 'Rene Portland', 'Norman Mineta', 'Benjamin Martinez', 'David Bowie', 'Sonya Walger', 'Sanjay Chawla', 'Sarah Price', 'Richard Crenna', 'James Collinson', 'Mike Montgomery', 'Thomas Wyman', 'Atal Bihari Vajpayee', 'Tamika Catchings', 'Irina Framtsova', 'Wilson Alvarez', 'Haydar Aliyev', 'Jeffrey Immelt', 'Jeff Schiffner', 'Jimmy Lee', 'Barbara Roberts', 'Vicki Zhao Wei', 'Ilan Goldfajn', 'Richard Chamberlain', 'Keith Lowen', 'Jason Bentley', 'Mark Foley', 'John Cornyn', 'Donna Brazile', 'Dita Von Tesse', 'Leticia Dolera', 'Colleen Donovan', 'Ken Watanabe', 'Norman Jewison', 'Rose Marie', 'Eduardo Duhalde', 'Kaio Almeida', 'Chelsea Clinton', 'Tatiana Gratcheva', 'Tom Craddick', 'Gisele Bundchen', 'Cristina Torrens Valero', 'Eugene Melnyk', 'Tom Harkin', 'Trevor Watson', 'Donna Morrissey', 'Shania Twain', 'Richard Gephardt', 'Nona Gaye', 'Jason Keep', 'Claude Jorda', 'Misty Dawn Clymer', 'Catherine Woodard', 'Shoshana Johnson', 'Chris Kolanas', 'Joe Carnahan', 'Mary Descenza', 'Zach Safrin', 'Nick Rimando', 'Sherry Irving', 'Jose Santos', 'Pedro Alvarez', 'Bob Taft', 'Jeanne Anne Schroeder', 'Bill Callahan', 'Ronald Young Jr', 'Dianne Feinstein', 'Penelope Cruz', 'Ian McKellen', 'David Surrett', 'Christopher Conyers', 'Assad Ahmadi', 'Matt Anderson', 'Koichi Haraguchi', 'Rogelio Ramos', 'John Snow', 'Brenda Wilson', 'Phan Van Khai', 'Penelope Ann Miller', 'Rohinton Mistry', 'Abdullatif Sener', 'Mary Catherine Correll', 'Russ Ortiz', 'Wilma McNabb', 'Martha Smith', 'Amporn Falise', 'Benjamin Franklin', 'Juergen Braehmer', 'Bruce Lunsford', 'Billy Edelin', 'John Rowe', 'Jean-Rene Fourtou', 'Lee Byung-woong', 'Eric Benet', 'Prakash Hinduja', 'Anne Cavers', 'Iva Majoli', 'Olivier Boulay', 'Mikhail Gorbachev', 'Rafidah Aziz', 'Erick Barkley', 'Jose Luis Chilavert', 'Carmen Electra', 'Prince Claus', 'Nancy Demme', 'Todd Haynes', 'Ignatius Wang', 'Ed Wade', 'Larry Lucchino', 'Michael Leavitt', 'Bryan Chui', 'Roman Polanski', 'Brian Clemens', 'Evie Lazarou', 'Jim Calhoun', 'Zhang Ziyi', 'Jana Pittman', 'Roger Suarez', 'James Kopp', 'Phillipe Comtois', 'Joe Mantegna', 'Carlos Vives', 'Kenenisa Bekele', 'Mark Martin', 'Fabian Vargas', 'Aileen Riggin Soule', 'Julie Gerberding', 'Tavis Smiley', 'Pete Rose', 'Andy North', 'Chris Cornell', 'Mike Richter', 'Cristina Kirchner', 'Richard Haass', 'Lisa Gottsegen', 'Bryant Young', 'Peter Lundgren', 'Scott Yates', 'Astrid Eyzaguirre', 'Marilyn Monroe', 'Mark Andrew', 'Earl Counter', 'Nova Esther Guthrie', 'Frank Coraci', 'Olesya Bonabarenko', 'Hilary McKay', 'Doris Schroeder', 'Brady Rodgers', 'Sean Combs', 'Trent Lott', 'Richard Myers', 'Todd Wike', 'Kelly Clarkson', 'Anders Ebbeson', 'John Stallworth', 'Bill Kong', 'Princess Elisabeth', 'Fazal-ur-Rehman', 'Romario Farias', 'Hilmi Akin Zorlu', 'Alastair Campbell', 'Andrew Jarecki', 'Keiko Sofia Fujimori', 'Mohammed Abulhasan', 'Guy Ritchie', 'John Danforth', 'Michael Kostelnik', 'David Oh', 'Marvan Atapattu', 'Erika Harold', 'Jim Wall', 'Billy Bob Thornton', 'Miguel Aldana Ibarra', 'Suzanne Mubarak', 'Francois Ozon', 'Betty Garrison', 'Gary Williams', 'Jacky Cheung', 'Peter Max', 'Katrin Cartlidge', 'Lincoln Chafee', 'Ryan Goodman', 'Peter Costello', 'Adrian Nastase', 'Andy Benes', 'Freddy Garcia', 'Jerry Falwell', 'Lee Hoi-chang', 'Cherry Jones', 'Tung Chee-hwa', 'Bob Holden', 'Beth Jones', 'Oracene Williams', 'Cora Cambell', 'Scott Hubbard', 'Chanda Rubin', 'Trudi Lacey', 'Noel Niell', 'Danny Avalon', 'Alice Fisher', 'Qazi Hussain Ahmed', 'Yasushi Akashi', 'John Coomber', 'Robbie Naish', 'Tom Moss', 'Yishan Zhang', 'Dusty Baker', 'Oscar DLeon', 'Lara Logan', 'Kelly Leigh', 'Clive Lloyd', 'Katie Boone', 'Andy Wisecarver', 'James Hakett', 'Fernando Leon de Aranoa', 'Jamie Carey', 'Charley Armey', 'Eduardo Romero', 'Felix Mantilla', 'Fidel Castro', 'Louisa Baileche', 'Stephen Frears', 'Peter OToole', 'Dan Duquette', 'Oscar Bolanos', 'Nicolas Massu', 'Iran Brown', 'Danny Ainge', 'David Suazo', 'Bill Doba', 'Marta Dominguz', 'Reggie Lewis', 'Lars Burgsmuller', 'LeRoy Millette Jr', 'Pham Thi Mai Phuong', 'Joaquin Phoenix', 'Marcelo Bielsa', 'Eliott Spitzer', 'Dieter Zetsche', 'Tia Mowry', 'Emmanuelle Jagodsinski', 'Mary Maddux', 'Michael Piuze', 'Huang Suey-Sheng', 'Dennis Kucinich', 'Terry Semel', 'Kostya Tszyu', 'Joaquim Levy', 'Mauricio Pochetino', 'Silvan Shalom', 'Pele', 'Eddie Lewis', 'Nida Blanca', 'Kalpana Chawla', 'Suzanne Somers', 'Heinrich Wolfgang', 'Tony Elias', 'Alan Dreher', 'Ronde Barber', 'Irwan Fadzi Idris', 'Dave McGinnis', 'Gala Leon Garcia', 'Jim Taylor', 'Javier Vargas', 'Bill Byrne', 'Ben Stein', 'Enola Rice', 'Lucio Cecchinello', 'Gerhard Boekel', 'Frank Taylor', 'Jesse Ventura', 'Bob Newhart', 'Narendra Modi', 'Jose Rosado', 'Michael Kors', 'Mark Schweiker', 'Andre Techine', 'Rolf Eckrodt', 'John Williams', 'Mika Hakkinen', 'Michael Haneke', 'Stefan Holm', 'Paul Farley', 'Chen Kaige', 'Jason Gardner', 'Hermando Harton', 'TJ Ford', 'Mary Zorn', 'Laura Gobai', 'Joe Paterno', 'Einars Repse', 'Zulfiqar Ahmed', 'Nicole Hiltz', 'Daniel Ortega', 'Warren Truss', 'Duane Lee Chapman', 'Thomas Fargo', 'Grant Hackett', 'Andy Graves', 'Andrew Shutley', 'Harry Belafonte', 'Olivia Newton-John', 'Paul Greengrass', 'Heath Ledger', 'Matt Braker', 'Herbert Haupt', 'Louis Van Gaal', 'Cindy Zagorski', 'Jerry Seinfeld', 'Kofi Annan', 'Natalia Verbeke', 'Sally Clark', 'Jean-Francois Lemounier', 'Bob Curtis', 'Stephen Crampton', 'Cheryl Hines', 'Amanda Bynes', 'Sereyvuth Kem', 'Joseph Hoy', 'Hugh Grant', 'Marcella Anderson', 'Jim Wessling', 'Cynthia Nixon', 'Sammy Knight', 'Jennifer Garner', 'Alexandre Despatie', 'Julio Rossi', 'Hal Sutton', 'Maha Habib', 'Juan Manuel Marquez', 'John Blaney', 'Roy Halladay', 'Shae-Lynn Bourne', 'Andy Warhol', 'Giulio Andreotti', 'Takaloo', 'Katrin Susi', 'Hideki Sato', 'Linda Sanchez', 'Liza Minnelli', 'Kiki Vandeweghe', 'Barbra Streisand', 'Mitchell Garabedian', 'Joseph Galante', 'Theo Angelopoulos', 'Shoshannah Stern', 'Janet Crawford', 'Peter Shaw', 'Amy Pascal', 'Mohammed Baqir al-Hakim', 'Lauren Killian', 'Wan Yanhai', 'Gerry Kelly', 'Art Lopez', 'JC Chasez', 'Marisol Breton', 'Vytas Danelius', 'David Kelly', 'Cari Davis', 'Ray Bradbury', 'Sue Guevara', 'Claudia Cardinale', 'Jason Lezak', 'Colin Prescot', 'Bernard Lord', 'David Dewayne Williams', 'Calvin Joseph Coleman', 'Kristen Breitweiser', 'Shane Warne', 'Mstislav Rostropovich', 'David Zeplowitz', 'Ben Broussard', 'Martin Kristof', 'Enos Slaughter', 'James Hughes', 'Phil Cline', 'Gerald Calabrese', 'David Brent', 'Michel Charles Chretien', 'King Gyanendra', 'Paul Bettany', 'Dave Lewis', 'Monique Ferreira', 'Michael Hoffa', 'Solomon Passy', 'Takuma Sato', 'Marie-Josee Croze', 'Debra Rose', 'Charles Holzner', 'Sybille Schmid', 'Thomas Manger', 'Rick Caruso', 'Nicholas Tse', 'Ion Iliescu', 'Tonga', 'Jean-Claude Juncker', 'Rodney Dangerfield', 'Keith Snyder', 'Mukhtar Alytnbayev', 'Eminem', 'Scott OGrady', 'Marc Grossman', 'Matthew McConaughey', 'Ben Cohen', 'Patrick Rafter', 'Charla Moye', 'Pauline Phillips', 'Pamela Melroy', 'Tiago Splitter', 'Jose Theodore', 'Adolfo Rodriguez Saa', 'Graeme Smith', 'George Voinovich', 'Rand Miller', 'Chris Forsyth', 'Vladimir Meciar', 'Francisco Garcia', 'Greg Hennigar', 'William Perry', 'Angela Mascia-Frye', 'Kimora Lee', 'Steve Peace', 'David Obey', 'Bill Nelson', 'Thad Matta', 'Vladimiro Montesinos', 'Gregor Gysi', 'Ed Rendell', 'Ingrid Betancourt', 'John Taylor', 'Richard Ward', 'Cathryn Crawford', 'Beatrice Dalle', 'Joseph Nacchio', 'Kyra Sedgwick', 'S Jayakumar', 'Claudia Pechstein', 'Carlos Lordkipanitse', 'Thor Pedersen', 'Halbert Fillinger', 'Richard Barry', 'Zach Pillar', 'Yoriko Kawaguchi', 'James Ballenger', 'Gerald Barbarito', 'Kent McCord', 'Gwendal Peizerat', 'Kevin Crane', 'Richard Rodriguez', 'Dennis Kozlowski', 'Rodolfo Abalos', 'Sasha Alexander', 'Bartosz Kizierowski', 'Carolyn Kuhl', 'Portia de Rossi', 'Ana Claudia Talancon', 'Tim Chapman', 'Patrick Coleman', 'Chea Sophara', 'Lachlan Murdoch', 'William Morrow', 'Gustavo Franco', 'Ernie Harwell', 'David Blaine', 'Alek Wek', 'Kate Burton', 'Oswald Gruebel', 'Nur Jaafar', 'Nong Duc Manh', 'Severino Antinori', 'Greg Ostertag', 'Christine Gregoire', 'Phil Cullen', 'Elaine Stritch', 'Douglas Faneuil', 'Marlene Weingartner', 'Peter Ueberroth', 'John Geoghan', 'Keith Olbermann', 'Melana Scantlin', 'Michael J Fox', 'Nelson Acosta', 'John Burkett', 'Han Sung Joo', 'Leonardo DiCaprio', 'Sadam Hassan', 'Al Davis', 'Cedric Benson', 'Greg Kinnear', 'John Nash', 'Claire Tomalin', 'Ben Lee', 'Rob Schneider', 'Terry Gilliam', 'Noor Mohammed', 'Bode Miller', 'Goldie Hawn', 'Guillaume Depardieu', 'Faisal Saleh Hayat', 'Enrik Vendt', 'Sheila Taormina', 'Barbara De Brun', 'Roberto Benigni', 'Caroline Link', 'David Chase', 'Sarah Canale', 'Stephen Covey', 'Barry Williams', 'Sheila Wellstone', 'Carlos Quintanilla Schmidt', 'Julio De Brun', 'Josh Evans', 'Shaul Mofaz', 'Dustin Hoffman', 'Ted Maher', 'Zinedine Zidane', 'Judy Spreckels', 'Lindsay Davenport', 'Rogerio Romero', 'Jerry Springer', 'Jan Bjoerklund', 'Tori Amos', 'Jerry Angelo', 'Jamie Cooke', 'Hans-Christian Schmid', 'Peter Gilmour', 'Tony LaRussa', 'Veronica Lake', 'Carlos Barragan', 'Laurel Clark', 'Gary Barnett', 'Jen Bice', 'Gerard Tronche', 'Adam Mair', 'Mary McCarty', 'Matthew During', 'Bob Graham', 'Mary Jo Myers', 'Princess Diana', 'Tex Ritter', 'Patrick Bourrat', 'John Thune', 'Jim Paxson', 'Sheila Fraser', 'John Robbins', 'Alma Powell', 'Diane Lane', 'LeAnn Rimes', 'Bill Pryor', 'Nabil Shaath', 'Keith Urban', 'Adrian McPherson', 'Peter Schultz', 'Ashley Judd', 'Gillian Anderson', 'Kieran Prendergast', 'Juan Valencia Osorio', 'Donny Osmond', 'Erik Morales', 'Bilal Erdogan', 'Walter Annenberg', 'Milton Wynants', 'David Brinkley', 'Ivan Helguera', 'Matt LeBlanc', 'Shafal Mosed', 'Elijan Ingram', 'Jimmy Iovine', 'Ronald Harwood', 'Wolfgang Becker', 'Casey Crowder', 'Jose Lina', 'Bill Paxton', 'Sandra Banning', 'Robert Wiener', 'Victor Garber', 'Adam Rich', 'Joe Strummer', 'Shane Mosley', 'Lynn Abraham', 'Martin ONeill', 'Mark Warner', 'Park Jie-won', 'Marwan Barghouthi', 'Ali Mohammed Maher', 'Daniel Scioli', 'Paul Pierce', 'Jim Bollman', 'Buzz Hargrove', 'Peter Hartz', 'Johnny Unitas', 'Malcolm Wild', 'Talal Keenaan', 'Harold Scott', 'Dyab Abou Jahjah', 'Richard Armitage', 'Frank Pallone', 'Betty Williams', 'Holly Robinson Peete', 'Stephan Eberharter', 'Andy Madikians', 'Jose Miguel Aleman', 'Keizo Yamada', 'Craig Doblin', 'Daryl Smith', 'Ralph Firman', 'Abdullah Ahmad Badawi', 'Kevin James', 'Gina Torres', 'Juliette Binoche', 'Benjamin Bratt', 'Gilberto Rodriguez Orejuela', 'Brandon Knight', 'Sean Townsend', 'Sargis Sargsian', 'Bijan Namdar Zangeneh', 'Jana Henke', 'Kelli White', 'Jens Lehmann', 'Jim Edmonds', 'Taku Yamasaki', 'Alfred Ford', 'Guy Hemmings', 'Lesley Flood', 'Jennifer Capriati', 'Khin Nyunt', 'Richard Hellfant', 'Alan Jackson', 'Sally Kirkland', 'Kaye Young', 'David Przybyszewski', 'Alain Cervantes', 'Rolf Zimmermann', 'Hans Blix', 'Zarai Toledo', 'Jorge Enrique Jimenez', 'Tom Smothers', 'Rick Bland', 'Rafeeuddin Ahmed', 'Juljia Vysotskij', 'Tyron Garner', 'Larry Coker', 'Michelle Lecky', 'John F Kennedy Jr', 'Mike Brey', 'Jennie Finch', 'Fred Funk', 'Linda Baboolal', 'Arif Mardin', 'Jean Charest', 'Brian Kerr', 'Ralf Schumacher', 'Khatol Mohammad Zai', 'Alistair MacDonald', 'Allan Houston', 'Marcus Allen', 'Herb Dhaliwal', 'David Scott Morris', 'Thomas Stewart', 'Muhammad Ali', 'Helene Eksterowicz', 'Keith Lockhart', 'Robert Durst', 'Silvia Farina Elia', 'William Cocksedge', 'Stella McCartney', 'Joe Lieberman', 'Omar Vizquel', 'Kaisser Bazan', 'Surya Bahadur Thapa', 'Sarah Michelle Gellar', 'Nicolas Escude', 'Paulina Rodriguez Davila', 'William Ragland', 'Demetrius Ferraciu', 'Matthew Broderick', 'Edie Falco', 'Silvie Cabero', 'Patricia Wartusch', 'Pierre Boulanger', 'Chris Matthews', 'Elvis Presley', 'Jim Flaherty', 'Kieran Culkin', 'Kellie Greene', 'Mohammed Al-Douri', 'Robby Ginepri', 'Peter Greenspun', 'Sheila Copps', 'Aaron Eckhart', 'Patrick McEnroe', 'Judy Vassar', 'Nancy Smith', 'Pat Summitt', 'John Baldacci', 'Lon Kruger', 'Jiang Zemin', 'Brandon Boyd', 'Victor Hanescu', 'Marcus Garrettson', 'Mario Dumont', 'Ray Halbritter', 'Naomi Bronstein', 'Dave Odom', 'Zico', 'Columba Bush', 'Javier Delgado', 'Olene Walker', 'Esther Macklin', 'Jon Voight', 'Francis Ford Coppola', 'Johan Bruyneel', 'Sandra Shamas', 'Bruce Gebhardt', 'Eric Daze', 'Vincent Sombrotto', 'Cosmo Iacavazzi', 'Giselle Estefania Tavarelli', 'Queen Beatrix', 'Keith Osik', 'Frank Dunham Jr', 'Kristen Rivera', 'Camille Colvin', 'Hisham Halawi', 'Boris Becker', 'Aleksander Voloshin', 'Hipolito Mejia', 'Richard Sambrook', 'Joanne Duquette', 'Hank Aaron', 'Edward James Olmos', 'Robert Woody Johnson', 'Gong Ruina', 'James Hoffa', 'Arnold Palmer', 'Vanessa Laine', 'Charles Pickering', 'Emyr Jones Parry', 'Leigh Winchell', 'Ryan Leaf', 'Ashraf Ghani', 'Rodrigo Rato', 'Alvaro Silva Calderon', 'Fernando Gonzalez', 'John McEnroe', 'James Butts', 'Joel Gallen', 'Marcelo Rios', 'Stacy Dragila', 'Michel Minard', 'Dan Boyle', 'Harrison Ford', 'Emmy Rossum', 'Samantha Ledster', 'Ryan Nyquist', 'David Welch', 'John Malkovich', 'Pat Rochester', 'Mahmoud Al Zhar', 'Franco Cangele', 'Emmanuel Milingo', 'Gary Marshall', 'Xiang Liu', 'Lawrence MacAulay', 'David Shayler', 'Kyle Shewfelt', 'Massoud Barzani', 'Jules Asner', 'Hank Bass', 'Rulon Gardner', 'Charlene Barshefsky', 'Abba Eban', 'Monica Lewinsky', 'Amanda Plumer', 'Anastasia Myskina', 'Tammy Helm', 'Herb Ritts', 'Terunobu Maeda', 'Tom Poston', 'Mike Babcock', 'Natalie Stewart', 'Brett Hull', 'Jan Paul Miller', 'Heinz Feldmann', 'James Comey', 'Mike Johanns', 'Koji Uehara', 'Grady Little', 'Taufik Hidayat', 'Kareena Kapoor', 'Sam Bith', 'Micky Arison', 'Angela Bassett', 'Christian Fittipaldi', 'Suk Chung Hong', 'Eric Dubin', 'Bill Curry', 'Bobby Robson', 'Deniz Baykal', 'Ted Christopher', 'Mariana Ohata', 'Daniel Kurtzer', 'Chuck Yeager', 'Carolina Moraes', 'Sally Ride', 'Akbar Al Baker', 'Bob Petrino', 'Ray Lewis', 'Bob Riley', 'Peter Gabriel', 'Tabare Vazquez', 'Natalia Motuziuk', 'Dave Robertson', 'Richard Tubb', 'Ali Ahmeti', 'Yashwant Sinha', 'Martha Sahagun de Fox', 'Kirsten Dunst', 'Mike Flanagan', 'Edward Burns', 'Bertrand Bonello', 'Alfredo di Stefano', 'Brandon Jones', 'Robert Horan', 'Andre Smith', 'Ontario Lett', 'Anna Chicherova', 'Paul Lo Duca', 'Oleg Romantsev', 'Barzan al-Tikriti', 'Hashan Tillakaratne', 'James Coviello', 'David Gest', 'Cheryl Tiegs', 'Gordon Brown', 'Sue Grafton', 'Chris Simon', 'Richard Lugar', 'Dean Barker', 'Jerry Rice', 'Steven Van Zandt', 'Earl Fritts', 'Melchor Cob Castro', 'Eileen Spina', 'Placido Domingo', 'Renee Zellweger', 'Eric Bana', 'Chris Reitsma', 'Jessica Lynch', 'Paul Hogan', 'Troy Polamalu', 'Marricia Tate', 'Julia Ormond', 'Jan Peter Balkenende', 'Dolma Tsering', 'Mahmoud Abbas', 'Phil Johnson', 'Bob Beauprez', 'Jonathan Tiomkin', 'David Carradine', 'Jamie Lee Curtis', 'Gary Condit', 'Larry Tanenbaum', 'Takenori Kanzaki', 'Lynne Thigpen', 'Van Hilley', 'Manuel Rosendo', 'Jean Chretien', 'Harry Schmidt', 'Lindsay Benko', 'Robin McLaurin Williams', 'Mark Gottfried', 'Malcolm Glazer', 'Karen Lynn Gorney', 'Imad Moustapha', 'Linda Franklin', 'Bob Colvin', 'Bruce Springsteen', 'Inocencio Arias', 'Mara Georges', 'Daniel Zelman', 'Janet Napolitano', 'Frank Schmoekel', 'Mark Komara', 'Michele Placido', 'Catherine Deneuve', 'Greg Gilbert', 'Mesut Yilmaz', 'Simon Larose', 'Linda Ham', 'Barbara Becker', 'Natalie Juniardi', 'Carlton Dotson', 'Rick Husband', 'Lucas Wysocki', 'Imre Kertasz', 'Matt Roney', 'Ted Nolan', 'Andy Lau', 'Sean Patrick Thomas', 'Roberto Arguelles', 'Kent Rominger', 'James Schultz', 'Alex Gonzalez', 'Darla Moore', 'Aaron Tippin', 'Ahmed Qureia', 'Chip Knight', 'Nicola Bono', 'Marc Gold', 'Gordon Lightfoot', 'Christoph Daum', 'Kathy Bates', 'Richard Krajicek', 'Al Cardenas', 'Rudy Tomjanovich', 'Max Mayfield', 'Joseph Ralston', 'Laura Elena Harring', 'Raghad Saddam Hussein', 'Wes Craven', 'Maria Shkolnikova', 'Adrian Fernandez', 'Charlie Hunnam', 'Susan Collins', 'Ben Curtis', 'Philippe Noiret', 'Robert Marshall', 'Ray Lucas', 'Paul Tagliabue', 'Yoko Ono', 'Carla Tricoli', 'Ornella Muti', 'Mike Price', 'Jim Bunning', 'Scott McClellan', 'Bruce Arena', 'James Smith', 'Peter Struck', 'Timothy Goebel', 'Bob Goldman', 'Don Carcieri', 'Jim Ryan', 'Cabas', 'Kim Weeks', 'Saeb Erekat', 'Kim Dong-hwa', 'Eric Ryan Donnelly', 'Mark Philippoussis', 'Corliss Williamson', 'David Duke', 'Danny Glover', 'Ana Isabel Sanchez', 'Festus Mogae', 'Tom Sizemore', 'Vitali Klitschko', 'Alexis Bledel', 'Colin Phillips', 'Rafael Ramirez', 'Niall Connolly', 'Omar Sharif', 'Werner Schlager', 'Miyako Miyazaki', 'Anthony Fauci', 'Derrick Battie', 'John Gordnick', 'Habib Hisham', 'Paul McCartney', 'Michelle Pfeiffer', 'Darrell Issa', 'Wayne Brady', 'Butch Davis', 'Gustavo Kuerten', 'Roy Chaderton', 'Scott Gorelick', 'Nancy Pelosi', 'Mahathir Mohamad', 'Jorge Arce', 'Bobo Balde', 'Howard Schultz', 'Myung Yang', 'Bill Stein', 'Clara Harris', 'Jean-Francois Pontal', 'John Eder', 'Rollie Massimino', 'Choi Sung-hong', 'Thomas Daily', 'Romain Duris', 'Walter Mondale', 'Sofyan Dawood', 'King Bhumibol Adulyadej', 'Juan Pablo Montoya', 'Jason Alexander', 'Larenz Tate', 'Elisha Cuthbert', 'Al Leiter', 'Mike Leach', 'Carol Burnett', 'Edward Egan', 'Lesley Coppin', 'Terry Stotts', 'Kevin Millwood', 'Tamara Stokes', 'Lawrence Di Rita', 'Tim Lopes', 'Michael Kahn', 'Carlos Ruckauf', 'Aparna Pillai', 'Kang Gum-sil', 'Paula Dobriansky', 'Paradorn Srichaphan', 'Eric Robert Rudolph', 'Katherine Harris', 'Prince Willem-Alexander', 'Tom Amstutz', 'Benito Santiago', 'Larry Hagman', 'Osama bin Laden', 'Ludwig Ovalle', 'Pier Ferdinando Casini', 'Michael Jackson', 'Horst Koehler', 'Maureen Kanka', 'Hosni Mubarak', 'Taylor Twellman', 'Scott Hoch', 'Gene Sauers', 'Ben Braun', 'James Wattana', 'Queen Rania', 'Isabelle Huppert', 'Luther Htu', 'Bill Stapleton', 'Nadia Petrova', 'Mike Tyson', 'Larry Donald', 'Najib al-Salhi', 'Steve Stirling', 'Rob Morrow', 'Raja Zafar-ul-Haq', 'Eli Stutsman', 'Joey Harrington', 'Ethan Hawke', 'Helena Schneider', 'Simon Yam', 'John Jones', 'Fernando Velardez', 'Cho Myung-kyun', 'Ron Kirk', 'Yingfan Wang', 'Annie Chaplin', 'Diego Colorado', 'Laurent Woulzy', 'Lima Azimi', 'Richard Carl', 'Vladimir Voltchkov', 'Brendan Hansen', 'Saburo Kawabuchi', 'Dave McNally', 'Branko Crvenkovski', 'Princess Maxima', 'Bianca Jagger', 'Warren Buffett', 'Mario Alfaro-Lopez', 'Cindy Crawford', 'Ximena Bohorquez', 'Sven Ottke', 'Brian McIntyre', 'Rob Marshall', 'Micky Ward', 'Imam Samudra', 'William Pryor Jr', 'Sylvester Stallone', 'Gary Bettman', 'Adriana Lima', 'Anne ONeil', 'Lorraine Fenton', 'Austin Kearns', 'Patricia Hearst', 'Flavia Delaroli', 'Fabrice Santoro', 'Chris Byrd', 'Judith Nathan', 'Paula Zahn', 'Mick Jagger', 'Teresa Graves', 'Mitar Rasevic', 'Amr Moussa', 'Emilio Azcarraga Jean', 'Chin-Hui Tsao', 'Chyung Dai-chul', 'Shane Hmiel', 'Steve Alford', 'Zaini Abdullah', 'Dionyssis Georgiadis', 'Art Howe', 'Karin Stoiber', 'Joaquim Rodriguez', 'Claudio Abbado', 'Dan Bylsma', 'Isaiah Washington', 'Poala Suarez', 'Sharon Robinson', 'Natanaela Barnova', 'Tim Allen', 'Moon-So-ri', 'Stacey Yamaguchi', 'Dunn Lampton', 'Jessica Biel', 'Christian Longo', 'Jeffery Strelzin', 'Charlie Williams', 'Laura Morante', 'Felipe Fernandez', 'Patsy Mink', 'Katalin Kollat', 'Alonzo Mourning', 'Marc Anthony', 'Patricia Phillips', 'Elizabeth Dole', 'Sivan Klein', 'Mike Tice', 'Claudette Robinson', 'Roberto Lavagna', 'Scott Sullivan', 'Jamie Kellner', 'Lena Katina', 'Joanna Poitier', 'Stefaan Declerk', 'Kim Jin-sun', 'Jim Piper', 'Celso Amorim', 'Noelle Bush', 'John Norquist', 'Salman Khan', 'Richard Shelby', 'Ana Palacio', 'Phil Vassar', 'Janela Jara', 'Chan Ho Park', 'Humberto Espinoza', 'Bob Ferguson', 'Vojislav Seselj', 'Paul Wilson', 'Nora Bendijo', 'Martin Sheen', 'Pascal Quignard', 'Kaoru Hasuike', 'Bart Freundlich', 'George HW Bush', 'Inam-ul-Haq', 'Derrick Rodgers', 'Paul Bremer', 'Larry Pleau', 'Nastia Liukin', 'Curtis Rodriguez', 'Carolyn Dawn Johnson', 'Nathan Smith', 'James Roberts', 'John Bolton', 'Vladimir Spidla', 'Suzanne Torrance', 'Scott Blum', 'Lane Bryant', 'Jorma Huhtala', 'Sergei Yushenkov', 'Angel Maza', 'Justin Timberlake', 'Jamir Miller', 'Kelsey Grammer', 'Raja Ramani', 'Hitomi Soga', 'Kim Cattrall', 'Marcos Milinkovic', 'Barbara Brezigar', 'Suzie McConnell Serio', 'Jeffrey Jones', 'Adel Al-Jubeir', 'Steve Blake', 'Rhina Villatoro', 'Gordana Grubin', 'Mae Jemison', 'William Webster', 'Sultan Qaboos', 'Carolina Barco', 'Larry Beinfest', 'John Cusack', 'Albert Pujols', 'Howard Stern', 'Jimmy Carter', 'Gao Qiang', 'Fred Swan', 'Pierre Lacroix', 'Jonathan Fine', 'Tiffany Limos', 'Joe Finley', 'Frank Sinatra', 'Gerry Parsky', 'Shane Loux', 'Jo Joong-hyon', 'Tim Welsh', 'Ilie Nastase', 'Gary Bald', 'Lars Von Trier', 'Suh Chung-won', 'Maurice Papon', 'Rich Brooks', 'Juan Ignacio Chela', 'Pascal Lamy', 'Danny Elfman', 'Tom Daschle', 'Keira Knightley', 'Frank Bell', 'Nizar Trabelsi', 'Carol Niedermayer', 'Catherine Zeta-Jones', 'Tatiana Kennedy Schlossberg', 'Kurt Budke', 'Tara Reid', 'Paul Tracy', 'Jason Biggs', 'Ilham Aliev', 'Hans Leistritz', 'Shingo Suetsugu', 'Joschka Fischer', 'Fred Rogers', 'Joanne Woodward', 'Abdel Madi Shabneh', 'Claudia Coslovich', 'Gregorio Honasan', 'Andrei Mikhnevich', 'Hun Sen', 'Sharess Harrell', 'Herbie Hancock', 'Charles Grassley', 'Teresa Williams', 'Richard Sterner', 'Rudolf Schuster', 'Fred Durst', 'Roseanne Barr', 'Lyudmila Putin', 'Ivan Stambolic', 'Selma Phoenix', 'Maxim Afinogenov', 'Stephanie Moore', 'Max Baucus', 'George P Bush', 'Alvaro Uribe', 'Ben Chandler', 'Caroline Dhavernas', 'Lindy Ruff', 'Oscar Elias Biscet', 'Justin Marshall', 'Abdel Nasser Assidi', 'Kevin Stallings', 'Stephen Funk', 'Clemente de la Vega', 'Marat Safin', 'Chris Rock', 'Julio Cesar Chavez', 'Kenneth Carlsen', 'Roman Coppola', 'Judi Dench', 'Brendan Fraser', 'Faye Wong', 'Alex Sink', 'Katja Riemann', 'Brajesh Mishra', 'Fernando Henrique Cardoso', 'Marsha Sharp', 'Nancy Kerrigan', 'Robert Gallo', 'Emanuel Ginobili', 'Imran Khan', 'Jack Nicholson', 'Ricardo Mayorga', 'Laurie Chan', 'Jonathan Byrd', 'Amy Smart', 'Margaret Okayo', 'Khaled Sawalhi', 'Tanya Lindenmuth', 'Derek Abney', 'Johnny Carson', 'Fran Drescher', 'Kevin Costner', 'Tony Stewart', 'Otto Reich', 'Andre Bucher', 'Delphine Chuillot', 'Yukiko Okudo', 'Kevin Spacey', 'Natalie Coughlin', 'Carlos Ortega', 'Guillaume Cannet', 'Mary Robinson', 'Woody Allen', 'Jorge Rodolfo Canicoba Corral', 'Ann Morgan', 'Sureyya Ayhan', 'Eva Marie Saint', 'Hank Stram', 'Emilio Botin', 'Pedro Pauleta', 'Jaime Orti', 'Chang Sang', 'Masaru Hayami', 'Andrew Cuomo', 'George Maxwell Richards', 'Kelvin Sampson', 'Monica Bellucci', 'Habib Rizieq', 'Julio Toro', 'Sebastian Saja', 'Liliana Cavani', 'Uday Hussein', 'Winona Ryder', 'Eve Ensler', 'Bing Crosby', 'Michael Winterbottom', 'Christina Sawaya', 'Adriana Perez Navarro', 'Mark Polansky', 'Michael Douglas', 'Asif Hanif', 'Janis Ruth Coulter', 'Paige Fitzgerald', 'Mike Slive', 'Joe Metz', 'Colin Powell', 'Elizabeth Pena', 'Howard Smith', 'Alfredo Moreno', 'John Wayne', 'Jennifer McCoy', 'Hong Myung', 'Robert Mueller', 'Shobha De', 'Hartmut Mehdorn', 'Allison Searing', 'Celso Lafer', 'Pa Kou Hang', 'Elizabeth Shue', 'Mohammed Al Hindi', 'George Roy Hill', 'Kara Lynn Joyce', 'Jefferson Perez', 'Lenny Wilkens', 'Marcus Gronholm', 'Mike Carona', 'Rafael Bielsa', 'Brian Mulroney', 'Jan De Bont', 'Taha Yassin Ramadan', 'Ben Cahoon', 'George Karl', 'Laura Linney', 'Sung Hong Choi', 'Catherine Ndereba', 'Eduardo Chillida', 'Mamdouh Habib', 'Yao Ming', 'Kirk Ferentz', 'Vadim Strogalev', 'Jim Furyk', 'Priscilla Owen', 'Steven Spielberg', 'Marcos Daniel Jimenez', 'Mario Puzo', 'Mike Matthews', 'Rick Stansbury', 'Katie Holmes', 'Garry McCoy', 'Kimberly Bruckner', 'Azra Akin', 'Geoff Dixon', 'Prince Charles', 'Jim Talent', 'Yoshiyuki Kamei', 'Kristin Scott Thomas', 'Diana Munz', 'Grace Dodd', 'Jerome Golmard', 'Abdoulaye Wade', 'Lino Oviedo', 'Christy Ferer', 'Kate Lee', 'Victoria Clarke', 'Mohammad Hasanein', 'Debbie Allen', 'Brian Weaver', 'Fred Wilpon', 'Stephen Thompson', 'Tom Miller', 'Erskine Bowles', 'Sean Penn', 'Roy Rogers', 'Bill Sizemore', 'Frank Stallone', 'Slobodan Milosevic', 'Sid Caesar', 'Pieter Bouw', 'Adoor Gopalakarishnan', 'Adam Ant', 'Hugo Conte', 'Mary Blige', 'Yasar Yakis', 'Kellie Coffey', 'John McCallum', 'William Burns', 'Ed Smart', 'Andrew Bernard', 'Garth Drabinsky', 'Robert Gordon Card', 'Geoffrey Davis', 'Tony Fernandes', 'Anastasia Kelesidou', 'Alan Greenspan', 'Chris Cooper', 'Martha Beatriz Roque', 'Michael McNeely', 'John Lynch', 'Hugh Hefner', 'Vidar Helgesen', 'Jon Corzine', 'Sandy Smith', 'Hubert Green', 'Alexander Losyukov', 'Jennifer Furminger', 'Robert Nardelli', 'Max von Sydow', 'Alex Cejka', 'Ashton Kutcher', 'John Gruden', 'Brenda Magana', 'Dan Wheldon', 'Denis Coderre', 'Laurie Hobbs', 'Clint Howard', 'Amber Tamblyn', 'Dick Jauron', 'Elizabeth Taylor', 'Darko Milicic', 'Ricky Barnes', 'Glafcos Clerides', 'Wanda de la Jesus', 'Farida Ragoonanan', 'Samuel Waksal', 'Gilles Panizzi', 'Khader Rashid Rahim', 'Jeffrey Pfeffer', 'Benicio Del Toro', 'Jamling Norgay', 'Rafiq Hariri', 'Felix Doh', 'Jason Campbell', 'Satnarine Sharma', 'Steven Kinlock', 'Corinna Harfouch', 'Antonio Cassano', 'Shannon OBrien', 'Chok Tong Goh', 'Svetlana Koroleva', 'Richard Hamilton', 'Kultida Woods', 'Laurence Fishburne', 'Daniel Darnell', 'Michael Brandon', 'Arie Haan', 'Barry Hinson', 'Frank Lautenberg', 'Collis Temple III', 'Fujio Mitarai', 'Svend Aage Jensby', 'Ramona Rispton', 'Rosny Desroches', 'Larry Thompson', 'Chen Tsai-chin', 'Jim Fassel', 'Uri Lopolianski', 'Guido Westerwelle', 'Princess Anne', 'Roberto Marinho', 'Larry Lindsey', 'Claudia Schiffer', 'Pete Carroll', 'Jim Cantalupo', 'Ralph Sampson', 'Vinnie Jones', 'Wei Wu', 'Conan OBrien', 'Mikhail Kasyanov', 'Ruano Pascual', 'Sada Jacobson', 'Phil Mickelson', 'Eddie Murray', 'Rina Lazo', 'Pedro Solbes', 'Tom Curley', 'Todd Reid', 'Anthony LaPaglia', 'Oswaldo Paya', 'Wayne Allard', 'Darryl McDaniels', 'Angela Merkel', 'Richard Naughton', 'Natalia Dmitrieva', 'Robbie Coltrane', 'Howard Wilkinson', 'Igor Ivanov', 'Meryl Streep', 'Saoud Al Faisal', 'Chris Cookson', 'Larry Greene', 'Sanjay Gupta', 'Dan Monson', 'Alexander Payne', 'Glen Clark', 'Anthony Hazen', 'Paul Kariya', 'Dennis Archer', 'Federico Fellini', 'Max Biaggi', 'James Blake', 'John Wright', 'Eddie Compass', 'Rick Santorum', 'Michael Fitzgerald', 'Javier Zanetti', 'Greg Owen', 'Michael Caine', 'Daniel Montgomery', 'Dan Bartlett', 'Gerard Depardieu', 'Colleen Atwood', 'Shamai Leibowitz', 'Newt Gingrich', 'Qian Qichen', 'Hama Arba Diallo', 'Angela Lansbury', 'Rebecca Romijn-Stamos', 'Toni Braxton', 'Sheikh Ahmed Yassin', 'Kevin Borseth', 'Henrique Meirelles', 'Stephanie Zimbalist', 'Nikki Teasley', 'Mary Sue Coleman', 'Carlos Savedra', 'Ernie Eves', 'Michael Phelps', 'Ronald Perelman', 'Brad Gushue', 'Miguel Rosseto', 'Marina Anissina', 'Arianna Huffington', 'Feliciano Lopez', 'Jay Garner', 'Diane Ladd', 'Jimmy Gurule', 'Roy Blunt', 'Carlos Barra', 'Ricardo Lopez Murphy', 'Steve Austin', 'Hugh Miller', 'Emelie Loit', 'Stanislas Wawrinka', 'Masja Juel', 'Meles Zenawi', 'Tangra Riggle', 'Stephane Delajoux', 'Nathalie Dechy', 'Mike Eskew', 'Dino de Laurentis', 'Kurt Hellstrom', 'Phil Bennett', 'Alecos Markides', 'Claire Leger', 'Jose Serra', 'Richard Gere', 'Christian Gimenez', 'Joe Plumeri', 'Sabah Al-Ahmad Al-Jaber Al-Sabah', 'Shigeo Nagashima', 'Shane Reynolds', 'John Timoney', 'Juan Roman Carrasco', 'Sue Wicks', 'Ronaldo Luis Nazario de Lima', 'Ana Guevara', 'Justine Pasek', 'Wesley Clark', 'Terry McAuliffe', 'Cindy Klassen', 'Ian Campbell', 'Wim Duisenberg', 'Gloria Macapagal Arroyo', 'Ricardo Maduro', 'Leonardo Fernandez', 'James Mathis', 'Billy Rork', 'Ken Dorsey', 'Nasser al-Kidwa', 'Radovan Karadzic', 'Hamzah Haz', 'Sylvia Plachy', 'Karl-Heinz Rummenigge', 'Kathy Winters', 'Ben Davis', 'Pat Riley', 'Paul Walker', 'Giuseppe Gibilisco', 'Carolina Kluft', 'Mickey Rooney', 'Mary Lou Retton', 'John Spencer', 'Michael Shelby', 'David Montoya', 'Tino Martinez', 'John Hartson', 'Kim Clijsters', 'Matthew Perry', 'Ronald Post', 'Cruz Bustamante', 'Jim Sterk', 'Nestor Kirchner', 'Ahmed Chalabi', 'Lubomir Zaoralek', 'Nicoletta Braschi', 'Lindsay Lohan', 'Jeff Roehm', 'William Macy', 'George Lopez', 'Amer al-Saadi', 'John Tyson', 'Jim Jeffords', 'Ricardo Sanchez', 'Beatriz Merino', 'Francis Crick', 'Karen Allen', 'Tom Vilsack', 'Heather Chinnock', 'Jim Otto', 'Owen Wilson', 'Baburam Bhattari', 'Larry Johnson', 'Pedro Malan', 'Tracee Ellis Ross', 'Andy Roddick', 'Surakait Sathirathai', 'Klaus Zwickel', 'John Henry', 'Lynne Cheney', 'Ricky Ray', 'Mike Sherman', 'John Negroponte', 'Nate Huffman', 'Dewayne White', 'Izzat Ibrahim', 'Norman Mailer', 'Princess Aiko', 'Asmaa Assad', 'Ian Wilmut', 'Brian Olson', 'Calbert Cheaney', 'Ahmed Ghazi', 'Alejandro Toledo', 'Casy Preslar', 'Anil Ramsook', 'Jenny Romero', 'Ben Glisan', 'Dennis Powell', 'Leonardo Del Vecchio', 'Paul Sarbanes', 'Jaime Pressly', 'Clay Aiken', 'Steven Seagal', 'Steve Karsay', 'Roman Abramovich', 'Jewel Howard-Taylor', 'Joe Friedberg', 'Iban Mayo', 'Ellen Barkin', 'Kelly Santos', 'Ivana Trump', 'Oliver Neuville', 'Jim OBrien', 'Barry Diller', 'Wen Ho Lee', 'Alicia Witt', 'Yevgeny Kafelnikov', 'James Meredeth', 'James Brazelton', 'John Wolf', 'James McPherson', 'Evelyn Lauder', 'Ibrahim Hilal', 'Bonnie Fuller', 'Richard Perle', 'Magdalena Maleeva', 'Candie Kung', 'Patrick Roy', 'Cindy Moll', 'Fiona Milne', 'Hashim Thaci', 'Hayden Panettiere', 'Lou Ye', 'Jesper Parnevik', 'James Hallock', 'Robin Williams', 'Masum Turker', 'Evan Rachel Wood', 'Raymond Arthurs', 'Mark Broxmeyer', 'Chris Hernandez', 'Ernie Grunfeld', 'Roger Etchegaray', 'Marc-Andre Fleury', 'Tara Dawn Christensen', 'Aline Chretien', 'Juan Francisco Palencia', 'Mike Webster', 'Malik Mahmud', 'Uthai Pimchaichon', 'Patti Smith', 'Abdel Aziz Al-Hakim', 'Anders Fogh Rasmussen', 'Nancy Sinatra', 'Grace Kelly', 'Megawati Sukarnoputri', 'Chris Pronger', 'Vladimir Ustinov', 'Ajit Agarkar', 'Bono', 'Wu Yi', 'Tab Baldwin', 'AJ Cook', 'Jan van Breda Kolff', 'Wilbert Elki Meza Majino', 'Emily Mortimer', 'Stuart Knoll', 'Junichi Inamoto', 'James Brown', 'Priyanka Chopra', 'Szu Yu Chen', 'Michael Frayn', 'Ray Sherman', 'Askar Akayev', 'Jim Leach', 'Rio Ferdinand', 'Frederick Madden', 'Mireille Jospin-Dandieu', 'Mike Stefanik', 'Jesse James', 'George Blaney', 'Coretta Scott King', 'Nathalie Gagnon', 'Kamal Kharrazi', 'Jose Woldenberg', 'Michael Hagee', 'Giovanny Cordoba', 'Alanna Ubach', 'Rick Romley', 'Perry Compton', 'Barbora Strycova', 'Fernando Hierro', 'Doug Christie', 'Aidan Quinn', 'Tara VanDerveer', 'Rick Reed', 'Olympia Dukakis', 'Hernan Crespo', 'David Duval', 'Natalie Imbruglia', 'Hamid Karzai', 'Mark Hamister', 'Harriet Lessy', 'Dan Kellner', 'David Hyde Pierce', 'Peter Albertsen', 'Lene Espersen', 'Madeleine Albright', 'Mike Scioscia', 'Hedayat Amin Arsala', 'Talisa Soto', 'Ronald Reagan', 'Lily Safra', 'Spike Lee', 'Eric Staal', 'T Boone Pickens', 'Carlos Beltran', 'Joe Torre', 'Manuel Pellegrini', 'Roger King', 'Steven Craig', 'Arlen Specter', 'Xavier Malisse', 'David Dodge', 'David Sousa', 'Yusuf Misbac', 'Takashi Yamamoto', 'Ivan Shvedoff', 'Mike Alden', 'Paul Shanley', 'Zdravko Mucic', 'Shaun Pollock', 'Serge Tchuruk', 'David Heyman', 'Randy Dryer', 'Mark Wahlberg', 'Imad Khadduri', 'Frank Keating', 'Kirby Puckett', 'Alessandra Cerna', 'Thomas Franklin', 'Hermogenes Ebdane Jr', 'Paul McNulty', 'Rodney Rempt', 'Maria Callas', 'Gregory Peck', 'Bill King', 'Park Jung Sung', 'Katie Harman', 'Serge Klarsfeld', 'Robert Duvall', 'Alan Ball', 'Ron Dittemore', 'Derian Hatcher', 'Jose Lopez Beltran', 'Oliver Stone', 'Porter Goss', 'Dave Barr', 'Richard Regenhard', 'Jonathan Edwards', 'Bob Dole', 'Frank Murkowski', 'Lazaro Castro', 'Ken Loach', 'Doug Collins', 'Matt Walters', 'Nicholoas DiMarzio', 'Derek King', 'Charlotte Casiraghi', 'Brent Coles', 'Mary Katherine Smart', 'Carlos Mesa', 'Clare Short', 'Elena de Chavez', 'Gene Autry', 'Andres Manuel Lopez Obrador', 'Jose Canseco Sr', 'Job Cohen', 'Aretha Franklin', 'Atiabet Ijan Amabel', 'Martin Boryczewski', 'Robert Mugabe', 'Carl Levin', 'Larry Flynt', 'Sahim Alwan', 'Tommy Thompson', 'LK Advani', 'Brian Grazier', 'Lance Bass', 'Doug Wilson', 'Martin Rodriguez', 'Moby', 'Marc Shaiman', 'Curt Weldon', 'Hisao Oguchi', 'Billy Gilman', 'Tippi Hedren', 'Hrithik Roshan', 'Kate Starbird', 'Heather Mills', 'Benjamin McKenzie', 'Nancy Humbert', 'Paul Reiser', 'James Phelps', 'Martin Frost', 'John Barnett', 'Binyamin Ben-Eliezer', 'John Reilly', 'Abel Aguilar', 'John Darby', 'Hunter Bates', 'Tom Foy', 'Chakib Khelil', 'Ernie Fletcher', 'Eva Dimas', 'Arnaud Clement', 'Ulrich Kueperkoch', 'Claudio Lopez', 'Stephen Ebberharter', 'Francis Mer', 'Doris Roberts', 'Ruth Bader Ginsburg', 'Bob Melvin', 'Donald Pettit', 'Reggie Miller', 'Omar el-Heib', 'Emmit Smith', 'Jim Schwarz', 'Artieas Shanks', 'Bill Rainer', 'Robin Tunney', 'Tim Curry', 'Picabo Street', 'Jose Jose', 'Mel Brooks', 'Jim Haslett', 'Wilfredo Moreno', 'Ian Thorpe', 'Debra Shank', 'Alexander Rumyantsev', 'Casey Mears', 'Michael Broad', 'Yusaku Miyazato', 'Frank Cassell', 'Roberto Canessa', 'Linus Roache', 'Susan Walvius', 'Petria Thomas', 'Luke Ridnour', 'Leni Bjorklund', 'Daryl Sabara', 'Ira Einhorn', 'Yale Kamisar', 'Noer Muis', 'Din Samsudin', 'Gaston Gaudio', 'Rahul Dravid', 'Mariah Carey', 'Elaine Chao', 'Princess Masako', 'James Meeks', 'Alex Penelas', 'Daniel Coats', 'Princess Caroline', 'Josh Kronfeld', 'Mike Gable', 'Clare Latimer', 'Lennart Johansson', 'Mohamed Seineldin', 'Wendy Kennedy', 'Fernando Sanz', 'Wolfgang Schneiderhan', 'Liane Janda', 'Sim Yong', 'Nina Jacobson', 'Michel Therrien', 'Odilia Collazo', 'Javier Camara', 'Bob Hartley', 'Alan Zemaitis', 'Rita Moreno', 'Bryan Murray', 'Gabriel Batistuta', 'William Umbach', 'Mary Carey', 'Heidi Fleiss', 'AnFernce Negron', 'Mikhail Khodorkovsky', 'Saied Hadi al Mudarissi', 'Jean-Sebastien Giguere', 'Turner Stevenson', 'Adam Herbert', 'Jesse Jackson', 'Jafar Umar Thalib', 'Brandon Robinson', 'Joseph Lopez', 'Clive Woodward', 'Chuanyun Li', 'Dan Snyder', 'Lucia Kenny Anthony', 'Perry Farrell', 'Milo Djukanovic', 'Tony Parker', 'Colin Campbell', 'Kirk Franklin', 'Richard Langille', 'Brad Smith', 'Timothy Rigas', 'Michael Goldrich', 'Laurence Tribe', 'Uma Thurman', 'Jacques Villeneuve', 'Carson Palmer', 'Gustavo Cisneros', 'Carlos Bianchi', 'Ali Adbul Karim Madani', 'Roger Grimes', 'Sok An', 'Sebastian Cuattrin', 'Linda Lingle', 'Barbara Esbin', 'David McKiernan', 'James Franco', 'Dan Prinster', 'William Murabito', 'Dwain Kyles', 'Paul Schrader', 'Ron Lantz', 'Jane Russell', 'Reginald Hudlin', 'Alejandro Lerner', 'Roberto Cercelletta', 'Anthony Pico', 'James McGreevey', 'Edward Johnson', 'Adrianna Zuzic', 'Cesar Maia', 'Mike Farrar', 'Francis Collins', 'Wendy Selig', 'Ross Verba', 'Intisar Ajouri', 'Alain Ducasse', 'Daniele Bergamin', 'John Mayer', 'Makhdoom Amin Fahim', 'Ishaq Shahryar', 'Lee Hyung-taik', 'Michael Ballack', 'Janet Ecker', 'Art Cooper', 'Miguel Juarez Perez', 'Kirk Doerger', 'Jim Letten', 'Carlo Azeglio Ciampi', 'Buford Blount', 'Nicola Wells', 'Eric Snow', 'Karen Sharpe Kramer', 'Leslie Ann Woodward', 'Will Young', 'Joel Todd', 'Abdullah Gul', 'Joe Nichols', 'Gregg Popovich', 'Abdullah', 'Len Jenoff', 'Tina Conner', 'Daniel Patrick Moynihan', 'Biljana Plavsic', 'Elisabeth Schumacher', 'Ferenc Madl', 'Hichiro Naemura', 'Mickey Loomis', 'Catherine Donkers', 'Arnold Schwarzenegger', 'Thierry Falise', 'Dwayne Wade', 'Tony Curtis', 'John Ferguson', 'Charles Rogers', 'Paul Murphy', 'Gary Gero', 'Mahmoud Diyab al-Ahmed', 'Carla Gugino', 'Christopher Matero', 'Janica Kostelic', 'William Ford Jr', 'Cristiano da Matta', 'Leland Chapman', 'Jennifer Rodriguez', 'Ari Fleischer', 'Jalen Rose', 'Christina Aguilera', 'Jody Richards', 'Lionel Hampton', 'Jim Zorn', 'Tomomi Morita', 'Sharon Frey', 'Henry Kissinger', 'Tassos Papadopoulos', 'Jerry Hall', 'Stellan Skarsgard', 'Joe Dicaro', 'Isabel Orellana', 'Gabriel Farhi', 'Patricia Clarkson', 'John Belushi', 'Kevin Harvick', 'George Clooney', 'Michelle Yeoh', 'Faisal Iqbal', 'Susie Castillo', 'Celine Dion', 'Elinor Caplan', 'Calvin Harrison', 'Herman Moore', 'Hunter Kemper', 'Jackie Sherrill', 'Carla Del Ponte', 'Hwang Doo-yun', 'John Abizaid', 'Sergio Garcia', 'Steve Cutler', 'Michael Stark', 'Qais al-Kazali', 'David Brown', 'Jennie Garth', 'Nanni Moretti', 'Chante Jawan Mallard', 'Gabi Zimmer', 'Paul Li Calsi', 'Yolanda King', 'Orrin Hatch', 'Michael Jasny', 'Vicente Fox', 'Francis Ricciardone', 'Saeed Anwar', 'Sylvie Guillem', 'Tocker Pudwill', 'Lenny Kravitz', 'Irina Yatchenko', 'Hamza Atiya Muhsen', 'Teresa Heinz Kerry', 'Guillaume Soro', 'Rachel Roy', 'Saman Shali', 'Joshua Davey', 'Alejandro Avila', 'Demi Moore', 'Janet Horvath', 'David Modell', 'Terri Clark', 'Eddie Fenech Adami', 'Adisai Bodharamik', 'Carla Myers', 'Matt Welsh', 'Lidija Djukanovic', 'Reinhard Buetikofer', 'Valdas Adamkus', 'Joseph Safra', 'Tom Schnackenberg', 'Johnny Tapia', 'Nick Cassavetes', 'Paul Otellini', 'Tim Lobinger', 'Bruce Weber', 'Sergei Yastrzhembsky', 'Jorge Alberto Galindo', 'Arye Mekel', 'Dolly Parton', 'Jeffrey Katzenberg', 'Kenneth Evans', 'James Gandolfini', 'Mark Redman', 'Bill Gates', 'Leandro Andrade', 'Jeong Se-hyun', 'Perri Shaw', 'Dan Guerrero', 'Ray Romano', 'Morgan Hentzen', 'Cate Blanchett', 'Queen Silvia', 'Lutz Freitag', 'Tian Zhuang Zhuang', 'Christopher Amolsch', 'Pharrell Williams', 'Joey Mantia', 'Larry Nichols', 'Dragan Covic', 'Ally Sheedy', 'Laura Pausini', 'Gabriel Valdes', 'Sarah Hughes', 'Martin Bandier', 'Helmut Panke', 'Jayson Williams', 'Nobuyuki Idei', 'Naji Sabri', 'Melissa Joan Hart', 'Deena Burnett', 'Alan Mulally', 'Kenneth Cooper', 'Megan Mullally', 'Mladen Naletilic', 'Guillermo Canas', 'Julie Goodenough', 'Ellen DeGeneres', 'Tonya Payne', 'Luis Gonzalez', 'Luis Berrondo', 'Aram Adler', 'Raul Chacon', 'Billy Crystal', 'Alessandro Nesta', 'Chin-Feng Chen', 'Abdul Majeed Shobokshi', 'Jeffrey Scott Postell', 'Holly Hunter', 'Bertrand Delanoe', 'Jack Straw', 'Jessica Brungo', 'Annie Machon', 'Barry Zito', 'Christian Lacroix', 'Ali Fallahian', 'Quincy Jones', 'Anna Faris', 'John Sununu', 'Marcio de Souza', 'Miguel Angel Rodriguez', 'Cuba Gooding Jr', 'Hanan Ashrawi', 'Andrew Fastow', 'Nicolas Eyzaguirre', 'Mirela Manjani', 'John Herrington', 'Ted Washington', 'Gary Sinise', 'Norio Ohga', 'Luis Sanchez', 'Mike Miller', 'Baz Luhrmann', 'Jean-Claude Braquet', 'Tom Reilly', 'Sanja Papic', 'Mitchell Crooks', 'Julianna Margulies', 'Roh Moo-hyun', 'Hilda Fortune', 'Ruben Wolkowyski', 'Ian Moran', 'James McMahon', 'Ibrahim Haddad', 'George McCloud', 'Paul Patton', 'Lin Yung Hsi', 'Pauley Perrette', 'Brawley King', 'Tina Pisnik', 'Chang Jae On', 'Keith Van Horn', 'Ben Howland', 'Christine Arron', 'Mike Szymanczyk', 'Michael DeMinico', 'Ward Cuff', 'Elisabeth Welch', 'Munir Akram', 'Kim Chinn', 'Tony Shalhoub', 'Mike OConnell', 'Pat Summerall', 'Derrick Taylor', 'Nora Ephron', 'Johnny Depp', 'Ahmet Demir', 'Jolanta Kwasniewski', 'Peter Holmberg', 'Melissa Manchester', 'Ewan McGregor', 'Liam Neeson', 'Jennette Bradley', 'Nicolas Macrozonaris', 'Ronald White', 'Crandall Bowles', 'Paul Gannon', 'Kay Bailey Hutchison', 'Luciano Pavarotti', 'David Nalbandian', 'Ravan AG Farhadi', 'Don Henley', 'German Khan', 'Akmal Taher', 'Pete Sampras', 'Ken Macha', 'Manijeh Hekmat', 'Leah Remini', 'Ali Abdullah Saleh', 'Richard Daley', 'Reggie Sanders', 'Steven Tyler', 'Justin Wilson', 'Molly Sims', 'Mary Tyler Moore', 'Rachel Corrie', 'Lisa Girman', 'Michael Boyce', 'Jerry Colangelo', 'Ramiro Goben Reducindo', 'Mark Mariscal', 'Russell Crowe', 'Esad Landzo', 'John Bond', 'Anne Krueger', 'Lisa Leslie', 'Michael Guiler', 'Luc Montagnier', 'John Prescott', 'Ronnie Musgrove', 'Martin Gecht', 'Joseph Blatter', 'Prince William', 'Peter Fitzgerald', 'Sila Calderon', 'Bill Lerach', 'Hatsui Hasuike', 'Hugh Jessiman', 'Jim Parque', 'Jeff Van Gundy', 'Warren Granados', 'Chen Shui-bian', 'Nate Hybl', 'Roger Daltrey', 'Franz Gsell', 'Dave Matthews', 'Robert Hyatt', 'Patrick Ewing', 'Bernard Siegel', 'Chris Crocker', 'Gary Paer', 'Gary Coleman', 'Zoe Ball', 'Win Aung', 'Li Ka-shing', 'Ataollah Mohajerani', 'Dorothy Wilson', 'Jaymon Crabb', 'Nate Blackwell', 'Felicity Huffman', 'Kalid Kaid', 'Brian Cowen', 'Brooke Gordon', 'Paul Crake', 'Cristian Barros', 'Billy Tibbets', 'Christopher Speer', 'Enrique Oliu', 'Marion Barry', 'Agbani Darego', 'Mehmet Ali Sahin', 'Armando Calderon Sol', 'Fredric Seaman', 'Darren Clarke', 'Pierre Gagnon', 'Jane Fonda', 'Ed Rosenthal', 'Nathan Powell', 'Grady Irvin Jr', 'Gina Centrello', 'Zhong Nanshan', 'George Lucas', 'Kimi Raikkonen', 'Chhouk Rin', 'Valorie Brabazon', 'Claudio Ranieri', 'Leo Mullin', 'Jorge Quiroga', 'Bill Parsons', 'Santiago Botero', 'Dai Bachtiar', 'Oprah Winfrey', 'Carol Moseley Braun', 'Jessica Lange', 'Cesar Gaviria', 'Young Kim', 'Jack Welch', 'Wang Hailan', 'Ryan Drese', 'Juan Carlos Morales', 'Bill Herrion', 'Kyoko Nakayama', 'Roger Staubach', 'Emile Lahoud', 'Danielle Spencer', 'John McCain', 'Evander Holyfield', 'Jennifer Keller', 'Judi Patton', 'Prince Edward', 'Kathleen Glynn', 'Geraldine Chaplin', 'Patricia Garone', 'Aaron Guiel', 'Wolfgang Schwarz', 'Mark Podlesny', 'Devin Harris', 'Lemuel Montulo', 'Paul Cerjan', 'Steve Backley', 'Patrice Chereau', 'Steffi Graf', 'Kim Su Nam', 'Kristin Chenoweth', 'Eve Pelletier', 'Dalia Rabin-Pelosoff', 'Steve Spurrier', 'Lee Ann Terlaji', 'Li Ruihuan', 'Bak Chang-Ryun', 'Joe Dumars', 'Lance Armstrong', 'Susan Whelan', 'Philippe Gagnon', 'Shimon Peres', 'Faye Alibocus', 'Keanu Reeves', 'Charles Kartman', 'Julio Iglesias Jr', 'Syed Abdul Rahman Geelani', 'Kenneth Reichert', 'Douglas Paal', 'Silvio Fernandez', 'Filippo Inzaghi', 'Annette Bening', 'Troy Hudson', 'Jonathan Woodgate', 'Jim Harrick', 'Cynthia Rowley', 'Rob Lowe', 'Ozzy Osbourne', 'Zurab Tsereteli', 'Galen Rowell', 'Emily Robison', 'Norm Coleman', 'Diana Taylor', 'Aishwarya Rai', 'Jodie Foster', 'Brook Robinson', 'Peter Bacanovic', 'Mauricio Macri', 'Pilar Montenegro', 'Hal Gehman', 'Jose Canseco', 'Jennifer Pena', 'Jose Alencar', 'Grant Rossenmeyer', 'Osama Al Baz', 'Alex Corretja', 'Felipe De Borbon', 'Daniela Cicarelli', 'Stephen Friedman', 'Patrick Clawsen', 'Bob Herz', 'Rick Wagoner', 'Marty Mornhinweg', 'Teri ORourke', 'Jeffrey Archer', 'Lili Marinho', 'Christian Bale', 'Ralph Nader', 'Yossi Beilin', 'Jennifer Love Hewitt', 'John Scarlett', 'Charles Ingram', 'Curtis Joseph', 'Glenn Rivers', 'Barry Collier', 'Tony Bennett', 'Mike Bair', 'James Kelly', 'Ray Allen', 'Ken Balk', 'Cecile de France', 'Bronson Arroyo', 'Norodom Chakrapong', 'Anja Paerson', 'Billy Sollie', 'Salma Hayek', 'Kevin Garnett', 'Tessa Jowell', 'Janez Drnovsek', 'Harvey Fierstein', 'David Rivkin Jr', 'Morris Watts', 'Aleksander Kwasniewski', 'Paulo Cesar Pinheiro', 'Anton Balasingham', 'Stuart Whitman', 'Roger Federer', 'Michelle Bachelet', 'Suzanne Fox', 'Sam Mendes', 'Brad Pitt', 'Dale Bosworth', 'Scott Wittman', 'Ed Mekertichian', 'Will Smith', 'Glen Sather', 'Roger Mahony', 'Juliette Lewis', 'Anderson Varejao', 'Vivica Fox', 'Gerardo Gambala', 'Dimitri Perricos', 'Erin Runnion', 'Boris Jordan', 'Anjum Hussain', 'Nino DAngelo', 'Christian Patino', 'McGuire Gibson', 'Kurt Busch', 'Lee Soo-hyuck', 'Tab Turner', 'Mario Vasquez Rana', 'Dawn Staley', 'Michael Richards', 'Tom Gamboa', 'Owen Nolan', 'Dan Quayle', 'Nadia Forte', 'Conrad Black', 'Sammy Sosa', 'Scott Dickson', 'Chris Dodd', 'Carson Daly', 'Estelle Morris', 'Ray Evernham', 'Jorge Batlle', 'Fernando Valenzuela', 'James Maguire', 'Curtis Strange', 'Nursultan Nazarbayev', 'Richie Adubato', 'Tom Watson', 'Daniel Day-Lewis', 'Felipe Perez Roque', 'Atom Egoyan', 'Parthiv Patel', 'Bobby Jackson', 'Maryn McKenna', 'Eva Herzigova', 'Jamie Martin', 'Jason Clermont', 'Randall Tobias', 'Thierry Mariani', 'Mike Duke', 'Trevor McDonald', 'Robin Johansen', 'Heizo Takenaka', 'Kitin Munoz', 'Robert Korzeniowski', 'Lee Ann Knight', 'Robert F Kennedy Jr', 'Walid Al-Awadi', 'Michael Donovan', 'Tom Cruise', 'Don Boudria', 'Rick Dinse', 'Himmler Rebu', 'Ranil Wickremasinghe', 'Sachin Tendulkar', 'Hans Peter Briegel', 'Maria Shriver', 'Luo Linquan', 'Guus Hiddink', 'James Baker', 'Rohman al-Ghozi', 'Albaro Recoba', 'Vincent Spadea', 'Gloria Gaynor', 'Cathy Freeman', 'Johnny Htu', 'Mikhail Kalashnikov', 'Paul Gascoigne', 'Theo Epstein', 'Michael Killeen', 'Olivera Labus', 'Nathan Doudney', 'Marco Irizarry', 'Thomas Haeggstroem', 'Marina Hands', 'Michael Sheehan', 'Joe Darrell', 'Katie Couric', 'David Siegel', 'Hasan Wirayuda', 'Jean-Claude Van Damme', 'Karol Kucera', 'Gabrielle Rose', 'Adrian Murrell', 'Claire Danes', 'Robin Cook', 'Andy Bryant', 'Michel Duclos', 'Cecilia Cheung', 'Martina McBride', 'Angel Lockward', 'Michael Chang', 'Ion Tiriac', 'Jon Constance', 'Julie Andrews', 'Fatma Kusibeh', 'Kent Robinson', 'Mike Easley', 'Zakia Hakki', 'Gary Forsee', 'Robert McKee', 'Thanongsak Tuvinan', 'Adam Scott', 'Paul Michael Daniels', 'Takeo Hiranuma', 'Paddy Long', 'Monique Garbrecht-Enfeldt', 'Paul Desmarais', 'Francesco Totti', 'Jude Law', 'Al Sharpton', 'Francois Botha', 'Stephane Rochon', 'Michael Chiklis', 'Alberto Gonzales', 'Mike Weir', 'Chris Claiborne', 'Shigeru Ishiba', 'Tom Izzo', 'Jim Tressel', 'John Richardson', 'Mario Kreutzberger', 'Howard Stringer', 'Boris Henry', 'Simona Hradil', 'Russell Simmons', 'Yoon Jin-Sik', 'Hideki Matsui', 'Maria Luisa Mendonca', 'Brian Van Dusen', 'Eduard Limonov', 'Alejandro Atchugarry', 'Nick Nolte', 'Eric Idle', 'Dave Campo', 'Jennifer Granholm', 'John Duprey', 'Erwin Mapasseng', 'Leslie Wiser Jr', 'Joan Claybrook', 'Ricky Quick', 'Mark Hanson', 'Bob Sulkin', 'Kenneth Brill', 'Jason Priestley', 'Cassandra Heise', 'Jayne Yarris', 'AJ Lamas', 'Ludivine Sagnier', 'Donald Fehr', 'Jean-David Levitte', 'Kim Dae-jung', 'Charlotte Rampling', 'Lorne Michaels', 'Klaus Schwab', 'Ray Wasden', 'Gary Locke', 'Craig Burley', 'Chen Liang Yu', 'Paul Luvera', 'Steve Shiver', 'Blythe Hartley', 'Carlos Fasciolo', 'Jerry Jones', 'John Warner', 'Alex Barros', 'Brendan Gaughan', 'Stella Tennant', 'Laura Schlessinger', 'Stacy Nelson', 'Drew Gooden', 'Todd Petit', 'Michael Moore', 'Frank Wycheck', 'Omar Khan Sharif', 'Stefano Basalini', 'Hassanal Bolkiah', 'Michael Linscott', 'Taylyn Solomon', 'Adrien Brody', 'Fidel Castro Daiz-Balart', 'Margaret Thatcher', 'Liu Ye', 'Edward Belvin', 'Michael Jordan', 'Platon Lebedev', 'Nelson Shanks', 'Spencer Abraham', 'Sananda Maitreya', 'John Fenn', 'Martin Short', 'Morgan Fairchild', 'Dany Heatley', 'Jane Clayson', 'Alina Kabaeva', 'Paul Newman', 'Linda Dano', 'Herb Sendek', 'Robert De Niro', 'John Travolta', 'John Marburger', 'Mark Cuban', 'Adolfo Aguilar Zinser', 'Francisco Flores', 'Bill Carmody', 'Paul Kelleher', 'David Canary', 'Leisel Jones', 'Rosalie Perkov', 'Bryce Carmine', 'Kate Hudson', 'Linda Mason', 'Mikhail Wehbe', 'Marco Antonio Barrera', 'Henri Proglio', 'Diane Green', 'Martin Cauchon', 'Daniel Osorno', 'Brad Russ', 'Theodore Tweed Roosevelt', 'Mark Shapiro', 'Eddy Merckx', 'Alfredo Pena', 'Paul Martin', 'Kristanna Loken', 'Enrica Fico', 'Mekhi Phifer', 'Randy Ferbey', 'Dionigi Tettamanzi', 'Bob Hope', 'Laszlo Kovacs', 'Serena Karlan', 'Chuck Eidson', 'Peter Fisher', 'James W Kennedy', 'Randy Travis', 'Benedita da Silva', 'Bill Elliott', 'Herb Brooks', 'Neil Goldman', 'Renato Soru', 'Gian Marco', 'Oliver Phelps', 'Joseph Salgado', 'Shannyn Sossamon', 'James Layug', 'Mario Gallegos', 'Miranda Gaddis', 'William Rosenberg', 'Carrie-Anne Moss', 'Luca Cordero di Montezemolo', 'Antwun Echols', 'Kim Hong-gul', 'Mike Fisher', 'Coleen Rowley', 'Brooke Adams', 'Liv Tyler', 'Scott Fawell', 'Gideon Black', 'Peter Ahearn', 'Gerard Butler', 'Eddie Jordan', 'Stephen Silas', 'Idi Amin', 'Andrzej Tyszkiewicz', 'Nestor Gonzalez', 'Maria Guida', 'Armand Sargen', 'Queen Elizabeth II', 'Andrew Gilligan', 'Nick Reilly', 'Jose Sarney', 'Clay Campbell', 'John Swofford', 'Yoelbi Quesada', 'Adam Sandler', 'George Plimpton', 'Patrick Kron', 'Jose Manuel Durao Barroso', 'Geno Auriemma', 'Luke Walton', 'Sigourney Weaver', 'Richard Dreyfuss', 'Frank Shea', 'Jennifer Connelly', 'Hugh Carey', 'Yang Pao-yu', 'Gary Carter', 'Virgina Ruano Pascal', 'Lester Holt', 'Michelle Hofland', 'Andreas Vinciguerra', 'Richard Reid', 'Sohail Abbas', 'Vadim Devyatovskiy', 'Roger Moore', 'Mike Holmgren', 'Markus Naslund', 'Terje Roed-Larsen', 'Alan Trammell', 'Tora Takagi', 'Hank McKinnell', 'Vagit Alekperov', 'Rick Bragg', 'Kwon Young-gil', 'Jeanette Gray', 'Vernon Forrest', 'Anthony Corso', 'Bill Guerin', 'Albert Montanes', 'Raaf Schefter', 'Hilary Duff', 'Muammar Gaddafi', 'David Donohue', 'Douglas Meester', 'Leandro Garcia', 'Akhmed Zakayev', 'David Sibleyk', 'Greg Hodge', 'Brandon Spann', 'Catriona Le May Doan', 'Terry Bradshaw', 'Takeshi Kitano', 'Rolandas Paksas', 'Romeo Gigli', 'Mohammed Dahlan', 'Rustu Recber', 'Gustavo Terrazas', 'Mike Sweeney', 'Chuck Amato', 'Joe Cocker', 'Jong Wook Lee', 'William Shatner', 'Kevin Keegan', 'Paul William Hurley', 'Ian Huntley', 'Hushiar Zebari', 'Zavad Zarif', 'Bob Iger', 'Gore Verbinski', 'Cindy Margolis', 'Bob Huggins', 'Steve Patterson', 'Alicia Silverstone', 'Jerome Jenkins', 'Mary Elizabeth Mastrantonio', 'Jack LaLanne', 'Ekaterina Dmitriev', 'James Wolfensohn', 'Jennifer Thompson', 'Rachel Kempson', 'Pascal Affi Nguessan', 'Frank Zappa', 'Emma Nicholson', 'Jonathan Arden', 'Reyyan Uzuner', 'Ashley Postell', 'Michel Temer', 'Doug Melvin', 'Lawrence Vito', 'Jim Hardin', 'Venus Williams', 'Giulietta Masina', 'Stacey Dales-Schuman', 'Clark Randt', 'Mark Kelly', 'Lonnie Donegan', 'Anthony Ervin', 'Aby Har-Even', 'Mark Geragos', 'Coco dEste', 'Tom Lantos', 'Andrew Caldecott', 'Milan Kucan', 'Ainsworth Dyer', 'Guenter Verheugen', 'Rosie Perez', 'Norah Jones', 'Wang Yi', 'Rudolph Giuliani', 'Mohammed Salmane', 'Ambrose Lee', 'Mariano Zabaleta', 'Joe Pantoliano', 'Michalis Chrisohoides', 'Jennifer Reilly', 'Kim Gandy', 'Dinah Turner', 'Gerald Riley', 'Thomas Birmingham', 'Sheldon Silver', 'Lloyd Ward', 'Susilo Bambang Yudhoyono', 'Rick Perry', 'Morris Dees', 'Ted Williams', 'Arnold Scott', 'Javier Bardem', 'Garry Witherall', 'Andrew Wetzler', 'Kevin Sorbo', 'Theresa Gattung', 'Daniel Bruehl', 'Patricia Russo', 'Tom McClintock', 'Elvis Stojko', 'Dirk Kempthorne', 'Tomas Enge', 'Ernie Preate', 'Lois Smart', 'Brian Henson', 'John Eastman', 'Joan Jett', 'Willie Wilson', 'Pedro Martinez', 'Inga Hall', 'Yves Brodeur', 'Kevin Gil', 'Pamela Anderson', 'Andy Perez', 'Michael Taylor', 'Lela Rochon', 'James Robertson Jr', 'Pringe Ernst August', 'Tomoko Hagiwara', 'Eric Vigouroux', 'Babe Ruth', 'Corinne Coman', 'Quin Snyder', 'Marcelo Salas', 'Troy Aikman', 'Raul Cubas', 'Robbie Williams', 'Bill Maher', 'Paris Hilton', 'Rachel Leigh Cook', 'Elizabeth Smart', 'Paul Byrd', 'Barry Nakell', 'Peter Caruana', 'Juergen Peters', 'Horacio de Jesus Montoya', 'Mary-Kate Olsen', 'Valeri Bure', 'Patrik Kristiansson', 'Blas Ople', 'Bob Eskridge', 'Arnoldo Aleman', 'Marina Canetti', 'Maggie Smith', 'Donna Shalala', 'Priscilla Presley', 'Begum Khaleda Zia', 'Choi Yun-yong', 'Conchita Martinez', 'Dick Armey', 'Augusto Roa Bastos', 'Mitchell McLaughlin', 'Chris Columbus', 'Abdullah al-Attiyah', 'Polona Bas', 'Edouard Michelin', 'Shinya Taniguchi', 'Allison Janney', 'Mary Anne Souza', 'Du Qinglin', 'Mohammad Aktar', 'Andrea De Cruz', 'Philip Cummings', 'Zoran Djindjic', 'Duane Barber', 'Mario Austin', 'Mark Leno', 'Ana Sebastiao', 'Ashraf Alasmar', 'Ernie Stewart', 'Patrick Dennehy', 'Nancy Powell', 'Barbara Felt-Miller', 'Michael Powell', 'Joseph Fiennes', 'Mariangel Ruiz Torrealba', 'Alicia Hollowell', 'Robert Nillson', 'Griffin Colvin', 'Michael Bouchard', 'Steve Coogan', 'Jerry Lewis', 'Martin McCauley', 'Thomas Wilkens', 'Maria Burks', 'Michael Chertoff', 'Gong Li', 'Brian Wells', 'Kjell Magne Bondevik', 'Scott Wolf', 'Dustan Mohr', 'Efrain Rios Montt', 'Dave Johnson', 'Leo Ramirez', 'Lloyd Richards', 'Arnaud Lagardere', 'Charlie Garner', 'Gwyneth Paltrow', 'Laura Flessel', 'Abbas Kiarostami', 'Scott Verplank', 'John Kerry', 'Martin Burnham', 'Charlize Theron', 'George Foreman', 'Jean Todt', 'Robert Wagner', 'Ali Bin Hussein', 'Buck Rodgers', 'Chang Saio-yue', 'Latrell Sprewell', 'Larry Eustachy', 'Dimitar Berbatov', 'Nancy Reagan', 'Goran Zivkovic', 'Liu Mingkang', 'John Rowland', 'Leonard Schrank', 'Chang Tso', 'Raf Vallone', 'William Donaldson', 'Hidetoshi Nakata', 'Gregory Hines', 'Glenn Tilton', 'Glen DaSilva', 'Ignacio Antonio Velasco', 'Pauline Landers', 'Gavin Degraw', 'Enrique Bolanos', 'John Ashcroft', 'Debra Brown', 'John Lithgow', 'Steve Kerr', 'Nia Vardalos', 'Raja Qureshi', 'Marquier Montano Contreras', 'Peter Medgyessy', 'Stefan Tafrov', 'Rani Mukherjee', 'Jean-Patrick Nazon', 'Marcos Cafu', 'Vojislav Kostunica', 'Sidney Kimmel', 'Luis Gonzalez Macchi', 'Marc Bulger', 'Benazir Bhutto', 'Lee Yeo-jin', 'William Hochul', 'Ari Bousbib', 'Georgina Bardach', 'Teruaki Masumoto', 'Ana Paula Gerard', 'Alexa Loren', 'Enrique Medina Gomez', 'Roy Williams', 'Ian Gillan', 'Carlos Iturgaitz', 'Oscar de la Renta', 'Julien Varlet', 'Angelina Jolie', 'Brian Jordan', 'John White', 'Robert Lange', 'Shawn Bradley', 'Elva Hsiao', 'Chip Ganassi', 'William Swor', 'Edwin Edwards', 'Lili Taylor', 'Naomi Watts', 'Peter Rasmussen', 'Phillips Idowu', 'Gracia Burnham', 'Jack Knowlton', 'BJ Habibie', 'Zalmay Khalilzad', 'Larry Hahn', 'Herman Edwards', 'Jose Dirceu', 'Steve Coterill', 'Michael Arif', 'Dana Vollmer', 'Randall Terry', 'Donald Evans', 'Florecita Cobian', 'Jeannette Biedermann', 'Emily Mason', 'Elena Tihomirova', 'Jeffery Hendren', 'Timothy Coughlin', 'Andrew Luster', 'Emmanuel Filiberto', 'Michael Denzel', 'Thomas Rupprath', 'Esteban Cordoba-Velazquez', 'Phil Bredesen', 'Ann Godbehere', 'Alec Baldwin', 'Gene Robinson', 'Hussein Malik', 'Elizabeth Hurley', 'Ham Pong-sil', 'Joy Bryant', 'Jung Bong', 'Betsy Coffin', 'Eric Clapton', 'Tracee Treadwell', 'Arantxa Sanchez-Vicario', 'Anthony Lee Johnson', 'Katharine Hepburn', 'David Bisbal', 'Wang Fei', 'Charmaine Crooks', 'Mary Hill', 'Donald Carty', 'Shanna Zolman', 'Cecilia Chang', 'Mike Krzyzewski', 'Asa Hutchinson', 'John Reid', 'Barry Ford', 'Gholamreza Aghazadeh', 'Davis Love III', 'Marina Kuptsova', 'Sadie Frost', 'Irina Lobacheva', 'Toshimitsu Motegi', 'Byron Scott', 'Bruce Paltrow', 'Martha Stewart', 'Diana Taurasi', 'Linn Thornton', 'Gustavo Noboa', 'Francisco Santos', 'Richard Palmer', 'Armando Carrillo', 'James Watt', 'Judy Dean', 'Mariam Ali Hassan', 'Don Flanagan', 'Paula Locke', 'Sarah Jessica Parker', 'James Hill', 'Alberto Fujimori', 'John Paul DeJoria', 'Mohamed ElBaradei', 'Donald Anderson', 'Juan Roman Riquelme', 'Teri Garr', 'Elena Likhovtseva', 'Roger Corbett', 'Dean Jacek', 'Rien Long', 'Edward Greenspan', 'Donna Barrera', 'Nawabzada Nasrullah Khan', 'Evgeni Plushenko', 'Michael Kirby', 'John Sweeney', 'Sally Field', 'Abdul Rahman', 'Bill Duffey', 'Ellen MacArthur', 'Prem Kumar Nair', 'Miguel Cotto', 'Bud Selig', 'Raza Rabbani', 'Christine Rau', 'Carlton Baugh', 'Jimmy Jimenez', 'Melinda Czink', 'Stuart Townsend', 'Ekke Hard Forberg', 'Alex Zanardi', 'Hestrie Cloette', 'Steve Avery', 'Dominic Monaghan', 'Ismail Abu Shanab', 'Chris Noth', 'Arsinee Khanjian', 'Ciaran Hinds', 'Cyndi Thompson', 'Stephen Joseph', 'Taia Balk', 'Max Mosley', 'Ernesto Zedillo', 'George Pataki', 'Tim Conway', 'Martie Maguire', 'Rosario Dawson', 'Ben Kingsley', 'Shawn Kemp', 'Dick Cheney', 'Marc Leger', 'Rubens Barrichello', 'Tim Howard', 'Daniele Hypolito', 'Gary Gitnick', 'Bill Clinton', 'Denzel Washington', 'Mitchell Daniels', 'Dion Glover', 'Paul Wals', 'Juan Antonio Samaranch', 'Sidney Poitier', 'Luis Rosario Huertas', 'Charles Richardson', 'Daryl Parks', 'Jane Pauley', 'Tommy Lewis', 'Jean Brumley', 'Vladimir Putin', 'George W Bush', 'Moshe Katsav', 'Uzi Landau', 'Ralph Lauren', 'Andy Rooney', 'Freddy Vasques Kinchokpe', 'Hussam Mohammed Amin', 'Vecdi Gonul', 'Clint Lamebear', 'Alexandra Spann', 'Ashlea Talbot', 'Lee Ann Womack', 'Kong Quan', 'Jesse Helms', 'Tom DeLay', 'Alberto Ruiz Gallardon', 'Anzori Kikalishvili', 'Newton Carlton Slawson', 'Sherri Coale', 'Khalid Khannouchi', 'Graciano Rocchigiani', 'Yekaterina Guseva', 'Jaap de Hoop Scheffer', 'Bernard Ebbers', 'Stefano Accorsi', 'Brian Heidik', 'Yogi Berra', 'Yuri Malenchenko', 'Grace Brinell', 'Martin Torrijos', 'Justin Gatlin', 'Robert Downey Jr', 'Marlon Devonish', 'Richard Lennon', 'Luis Guzman', 'Hassan Wirajuda', 'Dianne Reeves', 'Tom Coughlin', 'Mian Khursheed Mehmood Kasuri', 'Leslie Moonves', 'Guennadi Chipouline', 'Scott Hamilton', 'Regina Ip', 'John Sidgmore', 'Anna Nicole Smith', 'Peter Fonda', 'Saparmurat Niyazov', 'David McCullough', 'Muhammad Saeed al-Sahhaf', 'Mohammad Al-Sharief', 'Chip Burrus', 'Gordon Campbell', 'Anita DeFrantz', 'Dan Ackroyd', 'David Eldon', 'Nick Price', 'Steve Pagliuca', 'Eric Fehr', 'Alan Tang Kwong-wing', 'Tatsuya Fuji', 'Steven Curtis Chapman', 'Greg Frers', 'Sebastian Porto', 'Jacques Kallis', 'Tina Andrews', 'Robert Vowler', 'Masamori Tokuyama', 'Mohammed Abu Sharia', 'Richard Fine', 'Zafarullah Khan Jamali']\n"
          ],
          "name": "stdout"
        }
      ]
    },
    {
      "cell_type": "markdown",
      "metadata": {
        "id": "iLbRqaYxzbr7"
      },
      "source": [
        "# Create label dictionary"
      ]
    },
    {
      "cell_type": "code",
      "metadata": {
        "id": "Emz85fNX0Vif",
        "colab": {
          "base_uri": "https://localhost:8080/"
        },
        "outputId": "48aa3c5a-dee3-4858-a5ff-be589debd985"
      },
      "source": [
        "unique_labels = np.unique(train_labels)\n",
        "print(len(unique_labels))"
      ],
      "execution_count": null,
      "outputs": [
        {
          "output_type": "stream",
          "text": [
            "5749\n"
          ],
          "name": "stdout"
        }
      ]
    },
    {
      "cell_type": "code",
      "metadata": {
        "id": "0TubS-RLzeVM"
      },
      "source": [
        "label_dictionary = {la:[] for la in unique_labels}\n",
        "\n",
        "for i in range(len(train_labels)):\n",
        "    la = train_labels[i]\n",
        "\n",
        "    label_dictionary[la].append(i)"
      ],
      "execution_count": null,
      "outputs": []
    },
    {
      "cell_type": "markdown",
      "metadata": {
        "id": "xP6ftkDCvKul"
      },
      "source": [
        "# Weight Imprinting models on train data embeddings"
      ]
    },
    {
      "cell_type": "markdown",
      "metadata": {
        "id": "fJIGo_R86GQi"
      },
      "source": [
        "## Function definitions"
      ]
    },
    {
      "cell_type": "code",
      "metadata": {
        "id": "pv68q8TH6tvG"
      },
      "source": [
        "def start_progress_bar(bar_len):\n",
        "    widgets = [\n",
        "        ' [', \n",
        "        progressbar.Timer(format= 'elapsed time: %(elapsed)s'), \n",
        "        '] ', \n",
        "        progressbar.Bar('*'),' (', \n",
        "        progressbar.ETA(), ') ', \n",
        "        ]\n",
        "    pbar = progressbar.ProgressBar(\n",
        "        max_value=bar_len, widgets=widgets\n",
        "        ).start()\n",
        "\n",
        "    return pbar"
      ],
      "execution_count": null,
      "outputs": []
    },
    {
      "cell_type": "code",
      "metadata": {
        "id": "DtoopzLRStTO"
      },
      "source": [
        "def prepare_indices(\n",
        "    num_ways,\n",
        "    num_shot,\n",
        "    num_eval,\n",
        "    num_episodes,\n",
        "    label_dictionary,\n",
        "    labels,\n",
        "    shuffle=False\n",
        "):\n",
        "    eval_indices = []\n",
        "    train_indices = []\n",
        "    wi_y = []\n",
        "    eval_y = []\n",
        "\n",
        "    label_dictionary = {la:label_dictionary[la] for la in label_dictionary if len(label_dictionary[la]) >= (num_shot+num_eval)}\n",
        "    unique_labels = list(label_dictionary.keys())\n",
        "\n",
        "    pbar = start_progress_bar(num_episodes)\n",
        "\n",
        "    for s in range(num_episodes):\n",
        "        # Setting random seed for replicability\n",
        "        np.random.seed(s)\n",
        "\n",
        "        _train_indices = []\n",
        "        _eval_indices = []\n",
        "\n",
        "        selected_labels = np.random.choice(unique_labels, size=num_ways, replace=False)\n",
        "        for la in selected_labels:\n",
        "            la_indices = label_dictionary[la]\n",
        "            select = np.random.choice(la_indices, size = num_shot+num_eval, replace=False)\n",
        "            tr_idx = list(select[:num_shot])\n",
        "            ev_idx = list(select[num_shot:])\n",
        "\n",
        "            _train_indices = _train_indices + tr_idx\n",
        "            _eval_indices = _eval_indices + ev_idx\n",
        "\n",
        "        if shuffle:\n",
        "            np.random.shuffle(_train_indices)\n",
        "            np.random.shuffle(_eval_indices)\n",
        "\n",
        "        train_indices.append(_train_indices)\n",
        "        eval_indices.append(_eval_indices)\n",
        "\n",
        "        _wi_y = labels[_train_indices]\n",
        "        _eval_y = labels[_eval_indices]\n",
        "\n",
        "        wi_y.append(_wi_y)\n",
        "        eval_y.append(_eval_y)\n",
        "\n",
        "        pbar.update(s+1)\n",
        "        \n",
        "    return train_indices, eval_indices, wi_y, eval_y"
      ],
      "execution_count": null,
      "outputs": []
    },
    {
      "cell_type": "code",
      "metadata": {
        "id": "4M5aHABX7k8a"
      },
      "source": [
        "def embed_images(\n",
        "    embedding_model, \n",
        "    train_indices, \n",
        "    num_augmentations,\n",
        "    trivial=False\n",
        "    ):\n",
        "\n",
        "    def augment_image(image, num_augmentations, trivial):\n",
        "        \"\"\" Perform SimCLR augmentations on the image\n",
        "        \"\"\"\n",
        "\n",
        "        if np.max(image) > 1:\n",
        "            image = image/255\n",
        "\n",
        "        augmented_images = [image]\n",
        "\n",
        "        def _run_filters(image):\n",
        "            width = image.shape[1]\n",
        "            height = image.shape[0]\n",
        "            image_aug = simclr_data_augmentations.random_crop_with_resize(\n",
        "                image,\n",
        "                height,\n",
        "                width\n",
        "                )\n",
        "            image_aug = tf.image.random_flip_left_right(image_aug)\n",
        "            image_aug = simclr_data_augmentations.random_color_jitter(image_aug)\n",
        "            image_aug = simclr_data_augmentations.random_blur(\n",
        "                image_aug,\n",
        "                height,\n",
        "                width\n",
        "                )\n",
        "            image_aug = tf.reshape(image_aug, [image.shape[0], image.shape[1], 3])\n",
        "            image_aug = tf.clip_by_value(image_aug, 0., 1.)\n",
        "\n",
        "            return image_aug.numpy()\n",
        "\n",
        "        for _ in range(num_augmentations):\n",
        "            if trivial:\n",
        "                aug_image = image\n",
        "            else:\n",
        "                aug_image = _run_filters(image)\n",
        "            augmented_images.append(aug_image)\n",
        "\n",
        "        augmented_images = np.stack(augmented_images)\n",
        "        return augmented_images\n",
        "\n",
        "    embedding_model.load_model()\n",
        "\n",
        "    unique_indices = np.unique(np.array(train_indices))\n",
        "\n",
        "    ds = dm.load_dataset('lfw', split='train')\n",
        "    embeddings = []\n",
        "    IMAGE_IDX = 'image'\n",
        "    pbar = start_progress_bar(unique_indices.size+1)\n",
        "    num_done=0\n",
        "    for idx, item in enumerate(ds):\n",
        "        if idx in unique_indices:\n",
        "            image = item[IMAGE_IDX]\n",
        "            if num_augmentations > 0:\n",
        "                aug_images = augment_image(image, num_augmentations, trivial)\n",
        "            else:\n",
        "                aug_images = image\n",
        "            \n",
        "            processed_images = embedding_model.preprocess_data(aug_images)\n",
        "            embedding = embedding_model.embed_images(processed_images)\n",
        "            embeddings.append(embedding)\n",
        "            \n",
        "            num_done += 1\n",
        "            pbar.update(num_done+1)\n",
        "\n",
        "        if idx == unique_indices[-1]:\n",
        "            break\n",
        "\n",
        "    embeddings = np.stack(embeddings)\n",
        "\n",
        "    return unique_indices, embeddings"
      ],
      "execution_count": null,
      "outputs": []
    },
    {
      "cell_type": "code",
      "metadata": {
        "id": "r3DO9vntM6sV"
      },
      "source": [
        "def train_model_for_episode(\n",
        "    indices_and_embeddings,\n",
        "    train_indices,\n",
        "    wi_y,\n",
        "    num_augmentations,\n",
        "    train_epochs=None,\n",
        "    train_batch_size=5,\n",
        "    multi_label=True\n",
        "):\n",
        "\n",
        "    train_embeddings = []\n",
        "    train_labels = []\n",
        "    ind = indices_and_embeddings[0]\n",
        "    emb = indices_and_embeddings[1]\n",
        "\n",
        "    for idx, tr_idx in enumerate(train_indices):\n",
        "        train_embeddings.append(emb[np.argwhere(ind==tr_idx)[0][0]])\n",
        "        train_labels += [wi_y[idx] for _ in range(num_augmentations+1)]\n",
        "    train_embeddings = np.concatenate(train_embeddings)\n",
        "    train_labels = np.array(train_labels)\n",
        "\n",
        "    train_embeddings = WeightImprintingClassifier.preprocess_input(train_embeddings)\n",
        "\n",
        "    wi_weights, label_mapping = WeightImprintingClassifier.get_imprinting_weights(\n",
        "        train_embeddings, train_labels, False, multi_label\n",
        "        )\n",
        "\n",
        "    wi_parameters = {\n",
        "        \"num_classes\": num_ways,\n",
        "        \"input_dims\": train_embeddings.shape[-1],\n",
        "        \"scale\": False,\n",
        "        \"dense_layer_weights\": wi_weights,\n",
        "        \"multi_label\": multi_label\n",
        "    }\n",
        "\n",
        "    wi_cls = WeightImprintingClassifier(wi_parameters)\n",
        "\n",
        "    if train_epochs:\n",
        "        # ep_y = train_labels\n",
        "        rev_label_mapping = {label_mapping[val]:val for val in label_mapping}\n",
        "        train_y = np.zeros((len(train_labels), num_ways))\n",
        "        for idx_y, l in enumerate(train_labels):\n",
        "            if multi_label:\n",
        "                for _l in l:\n",
        "                    train_y[idx_y, rev_label_mapping[_l]] = 1\n",
        "            else:\n",
        "                train_y[idx_y, rev_label_mapping[l]] = 1\n",
        "\n",
        "        wi_cls.train(train_embeddings, train_y, train_epochs, train_batch_size)\n",
        "\n",
        "    return wi_cls, label_mapping"
      ],
      "execution_count": null,
      "outputs": []
    },
    {
      "cell_type": "code",
      "metadata": {
        "id": "VrYMC-cTM6sW"
      },
      "source": [
        "def evaluate_model_for_episode(\n",
        "    model,\n",
        "    eval_x,\n",
        "    eval_y,\n",
        "    label_mapping,\n",
        "    metrics=['hamming', 'jaccard', 'subset_accuracy', 'ap', 'map', 'c_f1', 'o_f1', 'c_precision', 'o_precision', 'c_recall', 'o_recall', 'top1_accuracy', 'top5_accuracy', 'classwise_accuracy', 'c_accuracy'],\n",
        "    threshold=0.7,\n",
        "    multi_label=True\n",
        "):\n",
        "    eval_x = WeightImprintingClassifier.preprocess_input(eval_x)\n",
        "    logits = model.predict_scores(eval_x).tolist()\n",
        "\n",
        "    if multi_label:\n",
        "        pred_y = model.predict_multi_label(eval_x, threshold)\n",
        "        pred_y = [[label_mapping[v] for v in l] for l in pred_y]\n",
        "\n",
        "        met = model.evaluate_multi_label_metrics(\n",
        "            eval_x, eval_y, label_mapping, threshold, metrics\n",
        "            )\n",
        "    else:\n",
        "        pred_y = model.predict_single_label(eval_x)\n",
        "        pred_y = [label_mapping[l] for l in pred_y]\n",
        "\n",
        "        met = model.evaluate_single_label_metrics(\n",
        "            eval_x, eval_y, label_mapping, metrics\n",
        "            )\n",
        "    return pred_y, met, logits"
      ],
      "execution_count": null,
      "outputs": []
    },
    {
      "cell_type": "code",
      "metadata": {
        "id": "Fmp4SLVkM6sW"
      },
      "source": [
        "def run_episode_through_model(\n",
        "    indices_and_embeddings,\n",
        "    train_indices, \n",
        "    eval_indices, \n",
        "    wi_y, \n",
        "    eval_y,\n",
        "    thresholds=None,\n",
        "    num_augmentations=0,\n",
        "    train_epochs=None,\n",
        "    train_batch_size=5,\n",
        "    metrics=['hamming', 'jaccard', 'subset_accuracy', 'ap', 'map', 'c_f1', 'o_f1', 'c_precision', 'o_precision', 'c_recall', 'o_recall', 'top1_accuracy', 'top5_accuracy', 'classwise_accuracy', 'c_accuracy'],\n",
        "    embeddings=None,\n",
        "    multi_label=True\n",
        "):\n",
        "    metrics_values = {m:[] for m in metrics}\n",
        "\n",
        "    wi_cls, label_mapping = train_model_for_episode(\n",
        "        indices_and_embeddings,\n",
        "        train_indices,\n",
        "        wi_y,\n",
        "        num_augmentations,\n",
        "        train_epochs,\n",
        "        train_batch_size,\n",
        "        multi_label=multi_label\n",
        "    )\n",
        "\n",
        "    eval_x = embeddings[eval_indices]\n",
        "    ep_logits = []\n",
        "\n",
        "    if multi_label:\n",
        "        for t in thresholds:\n",
        "            pred_labels, met, logits = evaluate_model_for_episode(\n",
        "                wi_cls,\n",
        "                eval_x,\n",
        "                eval_y,\n",
        "                label_mapping,\n",
        "                threshold=t,\n",
        "                metrics=metrics,\n",
        "                multi_label=True\n",
        "            )\n",
        "            ep_logits.append(logits)\n",
        "            for m in metrics:\n",
        "                metrics_values[m].append(met[m])\n",
        "    else:\n",
        "        pred_labels, metrics_values, logits = evaluate_model_for_episode(\n",
        "            wi_cls,\n",
        "            eval_x,\n",
        "            eval_y,\n",
        "            label_mapping,\n",
        "            metrics=metrics,\n",
        "            multi_label=False\n",
        "        )\n",
        "        ep_logits = logits\n",
        "    return metrics_values, ep_logits"
      ],
      "execution_count": null,
      "outputs": []
    },
    {
      "cell_type": "code",
      "metadata": {
        "id": "iPyO6W5SM6sX"
      },
      "source": [
        "def run_evaluations(\n",
        "    indices_and_embeddings,\n",
        "    train_indices, \n",
        "    eval_indices, \n",
        "    wi_y, \n",
        "    eval_y, \n",
        "    num_episodes, \n",
        "    num_ways,\n",
        "    thresholds,\n",
        "    verbose=True,\n",
        "    normalize=True,\n",
        "    train_epochs=None,\n",
        "    train_batch_size=5,\n",
        "    metrics=['hamming', 'jaccard', 'subset_accuracy', 'ap', 'map', 'c_f1', 'o_f1', 'c_precision', 'o_precision', 'c_recall', 'o_recall', 'top1_accuracy', 'top5_accuracy', 'classwise_accuracy', 'c_accuracy'],\n",
        "    embeddings=None,\n",
        "    num_augmentations=0,\n",
        "    multi_label=True\n",
        "):\n",
        "    metrics_values = {m:[] for m in metrics}\n",
        "\n",
        "    all_logits = []\n",
        "\n",
        "    if verbose:\n",
        "        pbar = start_progress_bar(num_episodes)\n",
        "\n",
        "    for idx_ep in range(num_episodes):\n",
        "        _train_indices = train_indices[idx_ep]\n",
        "        _eval_indices = eval_indices[idx_ep]\n",
        "        if multi_label:\n",
        "            _wi_y = [[label] for label in wi_y[idx_ep]]\n",
        "            _eval_y = [[label] for label in eval_y[idx_ep]]\n",
        "        else:\n",
        "            _wi_y = wi_y[idx_ep]\n",
        "            _eval_y = eval_y[idx_ep]\n",
        "\n",
        "        met, ep_logits = run_episode_through_model(\n",
        "            indices_and_embeddings,\n",
        "            _train_indices, \n",
        "            _eval_indices, \n",
        "            _wi_y, \n",
        "            _eval_y,\n",
        "            num_augmentations=num_augmentations,\n",
        "            train_epochs=train_epochs,\n",
        "            train_batch_size=train_batch_size,\n",
        "            embeddings=embeddings,\n",
        "            thresholds=thresholds,\n",
        "            metrics=metrics,\n",
        "            multi_label=multi_label\n",
        "        )\n",
        "\n",
        "        all_logits.append(ep_logits)\n",
        "\n",
        "        for m in metrics:\n",
        "            metrics_values[m].append(met[m])\n",
        "\n",
        "        if verbose:\n",
        "            pbar.update(idx_ep+1)\n",
        "    return metrics_values, all_logits"
      ],
      "execution_count": null,
      "outputs": []
    },
    {
      "cell_type": "code",
      "metadata": {
        "id": "MzmivM_CtSbA"
      },
      "source": [
        "def get_max_mean_jaccard_index_by_threshold(metrics_thresholds):\n",
        "    max_mean_jaccard = np.max([np.mean(mt['jaccard']) for mt in metrics_thresholds])\n",
        "    return max_mean_jaccard"
      ],
      "execution_count": null,
      "outputs": []
    },
    {
      "cell_type": "code",
      "metadata": {
        "id": "UtLfeX4w8tEZ"
      },
      "source": [
        "def get_max_mean_jaccard_index_with_threshold(metrics_thresholds):\n",
        "    arr = np.array(metrics_thresholds['jaccard'])\n",
        "    max_mean_jaccard = np.max(np.mean(arr, 0))\n",
        "    threshold = np.argmax(np.mean(arr, 0))\n",
        "    return max_mean_jaccard, threshold\n",
        "\n",
        "def get_max_mean_f1_score_with_threshold(metrics_thresholds):\n",
        "    arr = np.array(metrics_thresholds['f1_score'])\n",
        "    max_mean_jaccard = np.max(np.mean(arr, 0))\n",
        "    threshold = np.argmax(np.mean(arr, 0))\n",
        "    return max_mean_jaccard, threshold"
      ],
      "execution_count": null,
      "outputs": []
    },
    {
      "cell_type": "code",
      "metadata": {
        "id": "wsKTx1h6tSbL"
      },
      "source": [
        "def get_mean_max_jaccard_index_by_episode(metrics_thresholds):\n",
        "    mean_max_jaccard = np.mean(np.max(np.array([mt['jaccard'] for mt in metrics_thresholds]), axis=0))\n",
        "    return mean_max_jaccard"
      ],
      "execution_count": null,
      "outputs": []
    },
    {
      "cell_type": "code",
      "metadata": {
        "id": "Y1mgLWl5N0hY"
      },
      "source": [
        "def plot_metrics_by_threshold(\n",
        "    metrics_thresholds, \n",
        "    thresholds, \n",
        "    metrics=['hamming', 'jaccard', 'subset_accuracy', 'ap', 'map', 'c_f1', 'o_f1', 'c_precision', 'o_precision', 'c_recall', 'o_recall', 'top1_accuracy', 'top5_accuracy', 'classwise_accuracy', 'c_accuracy'],\n",
        "    title_suffix=\"\"\n",
        "):\n",
        "    legend = []\n",
        "\n",
        "    fig = plt.figure(figsize=(10,10))\n",
        "    if 'jaccard' in metrics:\n",
        "        mean_jaccard_threshold = np.mean(np.array(metrics_thresholds['jaccard']), axis=0)\n",
        "        opt_threshold_jaccard = thresholds[np.argmax(mean_jaccard_threshold)]\n",
        "        plt.plot(thresholds, mean_jaccard_threshold, c='blue')\n",
        "        plt.axvline(opt_threshold_jaccard, ls=\"--\", c='blue')\n",
        "        legend.append(\"Jaccard Index\")\n",
        "        legend.append(opt_threshold_jaccard)\n",
        "    if 'hamming' in metrics:\n",
        "        mean_hamming_threshold = np.mean(np.array(metrics_thresholds['hamming']), axis=0)\n",
        "        opt_threshold_hamming = thresholds[np.argmin(mean_hamming_threshold)]\n",
        "        plt.plot(thresholds, mean_hamming_threshold, c='green')\n",
        "        plt.axvline(opt_threshold_hamming, ls=\"--\", c='green')\n",
        "        legend.append(\"Hamming Score\")\n",
        "        legend.append(opt_threshold_hamming)\n",
        "    if 'map' in metrics:\n",
        "        mean_f1_score_threshold = np.mean(np.array(metrics_thresholds['map']), axis=0)\n",
        "        opt_threshold_f1_score = thresholds[np.argmax(mean_f1_score_threshold)]\n",
        "        plt.plot(thresholds, mean_f1_score_threshold, c='red')\n",
        "        plt.axvline(opt_threshold_f1_score, ls=\"--\", c='red')\n",
        "        legend.append(\"mAP\")\n",
        "        legend.append(opt_threshold_f1_score)\n",
        "    if 'o_f1' in metrics:\n",
        "        mean_f1_score_threshold = np.mean(np.array(metrics_thresholds['o_f1']), axis=0)\n",
        "        opt_threshold_f1_score = thresholds[np.argmax(mean_f1_score_threshold)]\n",
        "        plt.plot(thresholds, mean_f1_score_threshold, c='yellow')\n",
        "        plt.axvline(opt_threshold_f1_score, ls=\"--\", c='yellow')\n",
        "        legend.append(\"OF1\")\n",
        "        legend.append(opt_threshold_f1_score)\n",
        "    if 'c_f1' in metrics:\n",
        "        mean_f1_score_threshold = np.mean(np.array(metrics_thresholds['c_f1']), axis=0)\n",
        "        opt_threshold_f1_score = thresholds[np.argmax(mean_f1_score_threshold)]\n",
        "        plt.plot(thresholds, mean_f1_score_threshold, c='orange')\n",
        "        plt.axvline(opt_threshold_f1_score, ls=\"--\", c='orange')\n",
        "        legend.append(\"CF1\")\n",
        "        legend.append(opt_threshold_f1_score)\n",
        "    if 'o_precision' in metrics:\n",
        "        mean_f1_score_threshold = np.mean(np.array(metrics_thresholds['o_precision']), axis=0)\n",
        "        opt_threshold_f1_score = thresholds[np.argmax(mean_f1_score_threshold)]\n",
        "        plt.plot(thresholds, mean_f1_score_threshold, c='purple')\n",
        "        plt.axvline(opt_threshold_f1_score, ls=\"--\", c='purple')\n",
        "        legend.append(\"OP\")\n",
        "        legend.append(opt_threshold_f1_score)\n",
        "    if 'c_precision' in metrics:\n",
        "        mean_f1_score_threshold = np.mean(np.array(metrics_thresholds['c_precision']), axis=0)\n",
        "        opt_threshold_f1_score = thresholds[np.argmax(mean_f1_score_threshold)]\n",
        "        plt.plot(thresholds, mean_f1_score_threshold, c='cyan')\n",
        "        plt.axvline(opt_threshold_f1_score, ls=\"--\", c='cyan')\n",
        "        legend.append(\"CP\")\n",
        "        legend.append(opt_threshold_f1_score)\n",
        "    if 'o_recall' in metrics:\n",
        "        mean_f1_score_threshold = np.mean(np.array(metrics_thresholds['o_recall']), axis=0)\n",
        "        opt_threshold_f1_score = thresholds[np.argmax(mean_f1_score_threshold)]\n",
        "        plt.plot(thresholds, mean_f1_score_threshold, c='brown')\n",
        "        plt.axvline(opt_threshold_f1_score, ls=\"--\", c='brown')\n",
        "        legend.append(\"OR\")\n",
        "        legend.append(opt_threshold_f1_score)\n",
        "    if 'c_recall' in metrics:\n",
        "        mean_f1_score_threshold = np.mean(np.array(metrics_thresholds['c_recall']), axis=0)\n",
        "        opt_threshold_f1_score = thresholds[np.argmax(mean_f1_score_threshold)]\n",
        "        plt.plot(thresholds, mean_f1_score_threshold, c='pink')\n",
        "        plt.axvline(opt_threshold_f1_score, ls=\"--\", c='pink')\n",
        "        legend.append(\"CR\")\n",
        "        legend.append(opt_threshold_f1_score)\n",
        "    if 'c_accuracy' in metrics:\n",
        "        mean_f1_score_threshold = np.mean(np.array(metrics_thresholds['c_accuracy']), axis=0)\n",
        "        opt_threshold_f1_score = thresholds[np.argmax(mean_f1_score_threshold)]\n",
        "        plt.plot(thresholds, mean_f1_score_threshold, c='maroon')\n",
        "        plt.axvline(opt_threshold_f1_score, ls=\"--\", c='maroon')\n",
        "        legend.append(\"CACC\")\n",
        "        legend.append(opt_threshold_f1_score)\n",
        "    if 'top1_accuracy' in metrics:\n",
        "        mean_f1_score_threshold = np.mean(np.array(metrics_thresholds['top1_accuracy']), axis=0)\n",
        "        opt_threshold_f1_score = thresholds[np.argmax(mean_f1_score_threshold)]\n",
        "        plt.plot(thresholds, mean_f1_score_threshold, c='magenta')\n",
        "        plt.axvline(opt_threshold_f1_score, ls=\"--\", c='magenta')\n",
        "        legend.append(\"TOP1\")\n",
        "        legend.append(opt_threshold_f1_score)\n",
        "    if 'top5_accuracy' in metrics:\n",
        "        mean_f1_score_threshold = np.mean(np.array(metrics_thresholds['top5_accuracy']), axis=0)\n",
        "        opt_threshold_f1_score = thresholds[np.argmax(mean_f1_score_threshold)]\n",
        "        plt.plot(thresholds, mean_f1_score_threshold, c='slategray')\n",
        "        plt.axvline(opt_threshold_f1_score, ls=\"--\", c='slategray')\n",
        "        legend.append(\"TOP5\")\n",
        "        legend.append(opt_threshold_f1_score)\n",
        "    \n",
        "    plt.xlabel('Threshold')\n",
        "    plt.ylabel('Value')\n",
        "    plt.legend(legend)\n",
        "    title = title_suffix+\"\\nMulti label metrics by threshold\"\n",
        "    plt.title(title)\n",
        "    plt.grid()\n",
        "\n",
        "    fname = os.path.join(PLOT_DIR, title_suffix)\n",
        "    plt.savefig(fname)\n",
        "    \n",
        "    plt.show()\n",
        "   "
      ],
      "execution_count": null,
      "outputs": []
    },
    {
      "cell_type": "markdown",
      "metadata": {
        "id": "hHs46yaOItTW"
      },
      "source": [
        "## Setting multiple thresholds"
      ]
    },
    {
      "cell_type": "code",
      "metadata": {
        "id": "vlo2bBCAIyQj"
      },
      "source": [
        "# No threshold for softmax\n",
        "thresholds = None"
      ],
      "execution_count": null,
      "outputs": []
    },
    {
      "cell_type": "markdown",
      "metadata": {
        "id": "g8CNr6I4rU5d"
      },
      "source": [
        "# Main"
      ]
    },
    {
      "cell_type": "markdown",
      "metadata": {
        "id": "g73bz0lqrU5e"
      },
      "source": [
        "## Picking indices"
      ]
    },
    {
      "cell_type": "code",
      "metadata": {
        "colab": {
          "base_uri": "https://localhost:8080/"
        },
        "id": "Fm6j-e0brU5f",
        "outputId": "c63f1c79-b736-4c4f-9911-6cf0a5feb612"
      },
      "source": [
        "train_indices, eval_indices, wi_y, eval_y = prepare_indices(\n",
        "    num_ways, num_shot, num_eval, num_episodes, label_dictionary, train_labels, shuffle\n",
        ")"
      ],
      "execution_count": null,
      "outputs": [
        {
          "output_type": "stream",
          "text": [
            "\r                                                                               \r\r [elapsed time: 0:00:00] |                                  | (ETA:  --:--:--) "
          ],
          "name": "stderr"
        }
      ]
    },
    {
      "cell_type": "code",
      "metadata": {
        "colab": {
          "base_uri": "https://localhost:8080/"
        },
        "id": "KgeLYlcPQVrP",
        "outputId": "27662799-b230-4941-f5a4-505e30799e2f"
      },
      "source": [
        "indices, embeddings = embed_images(\n",
        "    embedding_model, \n",
        "    train_indices, \n",
        "    num_augmentations,\n",
        "    trivial=trivial\n",
        "    )"
      ],
      "execution_count": null,
      "outputs": [
        {
          "output_type": "stream",
          "text": [
            "100%|███████████████████████████████████████| 354M/354M [00:05<00:00, 69.6MiB/s]\n",
            " [elapsed time: 0:01:27] |**********************************| (ETA:  00:00:00) "
          ],
          "name": "stderr"
        }
      ]
    },
    {
      "cell_type": "markdown",
      "metadata": {
        "id": "lLW-8vrbrU5f"
      },
      "source": [
        "## CLIP"
      ]
    },
    {
      "cell_type": "code",
      "metadata": {
        "id": "uK5qZA3mrU5g",
        "colab": {
          "base_uri": "https://localhost:8080/"
        },
        "outputId": "c8ec0c79-f50b-4c89-9126-28417ff15091"
      },
      "source": [
        "clip_embeddings_train_fn = \"clip\" + train_embeddings_filename_suffix\n",
        "clip_embeddings_train = get_ndarray_from_drive(drive, folderid, clip_embeddings_train_fn)"
      ],
      "execution_count": null,
      "outputs": [
        {
          "output_type": "stream",
          "text": [
            "Downloading clip_embeddings_train.npz from GDrive\n"
          ],
          "name": "stdout"
        }
      ]
    },
    {
      "cell_type": "code",
      "metadata": {
        "id": "iOLtOsBJHKS2",
        "colab": {
          "base_uri": "https://localhost:8080/",
          "height": 790
        },
        "outputId": "b9989cb0-4ba0-4399-b28b-2f023151d72e"
      },
      "source": [
        "import warnings\n",
        "\n",
        "warnings.filterwarnings('ignore')\n",
        "\n",
        "if train_epochs_arr == [0]:\n",
        "    if trivial:\n",
        "        results_filename = \"new_metrics\"+dataset_name+\"_softmax_0t\"+str(num_ways)+\"w\"+str(num_shot)+\"s\"+str(num_augmentations)+\"a_trivial_metrics_with_logits.json\"\n",
        "    else:\n",
        "        results_filename = \"new_metrics\"+dataset_name+\"_softmax_0t\"+str(num_ways)+\"w\"+str(num_shot)+\"s\"+str(num_augmentations)+\"a_metrics_with_logits.json\"\n",
        "else:\n",
        "    if trivial:\n",
        "        results_filename = \"new_metrics\"+dataset_name+\"_softmax_\"+str(num_ways)+\"w\"+str(num_shot)+\"s\"+str(num_augmentations)+\"a_trivial_metrics_with_logits.json\"\n",
        "    else:\n",
        "        results_filename = \"new_metrics\"+dataset_name+\"_softmax_\"+str(num_ways)+\"w\"+str(num_shot)+\"s\"+str(num_augmentations)+\"a_metrics_with_logits.json\"\n",
        "\n",
        "auth.authenticate_user()\n",
        "gauth = GoogleAuth()\n",
        "gauth.credentials = GoogleCredentials.get_application_default()\n",
        "drive = GoogleDrive(gauth)\n",
        "download_file_by_name(drive, folderid, results_filename)\n",
        "if results_filename in os.listdir():\n",
        "    with open(results_filename, 'r') as f:\n",
        "        json_loaded = json.load(f)\n",
        "        clip_metrics_over_train_epochs = json_loaded['metrics']\n",
        "        logits_over_train_epochs = json_loaded[\"logits\"]\n",
        "else:\n",
        "    clip_metrics_over_train_epochs = []  \n",
        "    logits_over_train_epochs = []   \n",
        "\n",
        "for idx, train_epochs in enumerate(train_epochs_arr):\n",
        "    if idx < len(clip_metrics_over_train_epochs):\n",
        "        continue\n",
        "    print(train_epochs)\n",
        "    clip_metrics_thresholds, all_logits = run_evaluations(\n",
        "        (indices, embeddings),\n",
        "        train_indices,\n",
        "        eval_indices,\n",
        "        wi_y,\n",
        "        eval_y,\n",
        "        num_episodes,\n",
        "        num_ways,\n",
        "        thresholds,\n",
        "        train_epochs=train_epochs,\n",
        "        num_augmentations=num_augmentations,\n",
        "        embeddings=clip_embeddings_train,\n",
        "        multi_label=multi_label,\n",
        "        metrics=metrics_val\n",
        "    )\n",
        "    clip_metrics_over_train_epochs.append(clip_metrics_thresholds)\n",
        "    logits_over_train_epochs.append(all_logits)\n",
        "\n",
        "    fin_list = []\n",
        "    for a1 in wi_y:\n",
        "      fin_a1_list = []\n",
        "      for a2 in a1:\n",
        "        new_val = a2.decode(\"utf-8\")\n",
        "        fin_a1_list.append(new_val)\n",
        "      fin_list.append(fin_a1_list)\n",
        "\n",
        "    with open(results_filename, 'w') as f:\n",
        "        results = {'metrics': clip_metrics_over_train_epochs,\n",
        "                   \"logits\": logits_over_train_epochs,\n",
        "                   \"true_labels\": fin_list}\n",
        "        json.dump(results, f)\n",
        "    auth.authenticate_user()\n",
        "    gauth = GoogleAuth()\n",
        "    gauth.credentials = GoogleCredentials.get_application_default()\n",
        "    drive = GoogleDrive(gauth)\n",
        "    delete_file_by_name(drive, folderid, results_filename)\n",
        "    save_to_drive(drive, folderid, results_filename)"
      ],
      "execution_count": null,
      "outputs": [
        {
          "output_type": "stream",
          "text": [
            "WARNING:googleapiclient.discovery_cache:file_cache is unavailable when using oauth2client >= 4.0.0 or google-auth\n",
            "Traceback (most recent call last):\n",
            "  File \"/usr/local/lib/python3.7/dist-packages/googleapiclient/discovery_cache/file_cache.py\", line 33, in <module>\n",
            "    from oauth2client.contrib.locked_file import LockedFile\n",
            "ModuleNotFoundError: No module named 'oauth2client.contrib.locked_file'\n",
            "\n",
            "During handling of the above exception, another exception occurred:\n",
            "\n",
            "Traceback (most recent call last):\n",
            "  File \"/usr/local/lib/python3.7/dist-packages/googleapiclient/discovery_cache/file_cache.py\", line 37, in <module>\n",
            "    from oauth2client.locked_file import LockedFile\n",
            "ModuleNotFoundError: No module named 'oauth2client.locked_file'\n",
            "\n",
            "During handling of the above exception, another exception occurred:\n",
            "\n",
            "Traceback (most recent call last):\n",
            "  File \"/usr/local/lib/python3.7/dist-packages/googleapiclient/discovery_cache/__init__.py\", line 44, in autodetect\n",
            "    from . import file_cache\n",
            "  File \"/usr/local/lib/python3.7/dist-packages/googleapiclient/discovery_cache/file_cache.py\", line 41, in <module>\n",
            "    \"file_cache is unavailable when using oauth2client >= 4.0.0 or google-auth\"\n",
            "ImportError: file_cache is unavailable when using oauth2client >= 4.0.0 or google-auth\n",
            " [elapsed time: 0:00:00] |                                  | (ETA:  --:--:--) "
          ],
          "name": "stderr"
        },
        {
          "output_type": "stream",
          "text": [
            "0\n"
          ],
          "name": "stdout"
        },
        {
          "output_type": "error",
          "ename": "TypeError",
          "evalue": "ignored",
          "traceback": [
            "\u001b[0;31m---------------------------------------------------------------------------\u001b[0m",
            "\u001b[0;31mTypeError\u001b[0m                                 Traceback (most recent call last)",
            "\u001b[0;32m<ipython-input-34-401acb14cec6>\u001b[0m in \u001b[0;36m<module>\u001b[0;34m()\u001b[0m\n\u001b[1;32m     70\u001b[0m         \u001b[0membeddings\u001b[0m\u001b[0;34m=\u001b[0m\u001b[0mclip_embeddings_train\u001b[0m\u001b[0;34m,\u001b[0m\u001b[0;34m\u001b[0m\u001b[0;34m\u001b[0m\u001b[0m\n\u001b[1;32m     71\u001b[0m         \u001b[0mmulti_label\u001b[0m\u001b[0;34m=\u001b[0m\u001b[0mmulti_label\u001b[0m\u001b[0;34m,\u001b[0m\u001b[0;34m\u001b[0m\u001b[0;34m\u001b[0m\u001b[0m\n\u001b[0;32m---> 72\u001b[0;31m         \u001b[0mmetrics\u001b[0m\u001b[0;34m=\u001b[0m\u001b[0mmetrics_val\u001b[0m\u001b[0;34m\u001b[0m\u001b[0;34m\u001b[0m\u001b[0m\n\u001b[0m\u001b[1;32m     73\u001b[0m     )\n\u001b[1;32m     74\u001b[0m     \u001b[0mclip_metrics_over_train_epochs\u001b[0m\u001b[0;34m.\u001b[0m\u001b[0mappend\u001b[0m\u001b[0;34m(\u001b[0m\u001b[0mclip_metrics_thresholds\u001b[0m\u001b[0;34m)\u001b[0m\u001b[0;34m\u001b[0m\u001b[0;34m\u001b[0m\u001b[0m\n",
            "\u001b[0;32m<ipython-input-22-6b929dd967b1>\u001b[0m in \u001b[0;36mrun_evaluations\u001b[0;34m(indices_and_embeddings, train_indices, eval_indices, wi_y, eval_y, num_episodes, num_ways, thresholds, verbose, normalize, train_epochs, train_batch_size, metrics, embeddings, num_augmentations, multi_label)\u001b[0m\n\u001b[1;32m     49\u001b[0m             \u001b[0mthresholds\u001b[0m\u001b[0;34m=\u001b[0m\u001b[0mthresholds\u001b[0m\u001b[0;34m,\u001b[0m\u001b[0;34m\u001b[0m\u001b[0;34m\u001b[0m\u001b[0m\n\u001b[1;32m     50\u001b[0m             \u001b[0mmetrics\u001b[0m\u001b[0;34m=\u001b[0m\u001b[0mmetrics\u001b[0m\u001b[0;34m,\u001b[0m\u001b[0;34m\u001b[0m\u001b[0;34m\u001b[0m\u001b[0m\n\u001b[0;32m---> 51\u001b[0;31m             \u001b[0mmulti_label\u001b[0m\u001b[0;34m=\u001b[0m\u001b[0mmulti_label\u001b[0m\u001b[0;34m\u001b[0m\u001b[0;34m\u001b[0m\u001b[0m\n\u001b[0m\u001b[1;32m     52\u001b[0m         )\n\u001b[1;32m     53\u001b[0m \u001b[0;34m\u001b[0m\u001b[0m\n",
            "\u001b[0;32m<ipython-input-21-0380eaf38af5>\u001b[0m in \u001b[0;36mrun_episode_through_model\u001b[0;34m(indices_and_embeddings, train_indices, eval_indices, wi_y, eval_y, thresholds, num_augmentations, train_epochs, train_batch_size, metrics, embeddings, multi_label)\u001b[0m\n\u001b[1;32m     23\u001b[0m         \u001b[0mtrain_epochs\u001b[0m\u001b[0;34m,\u001b[0m\u001b[0;34m\u001b[0m\u001b[0;34m\u001b[0m\u001b[0m\n\u001b[1;32m     24\u001b[0m         \u001b[0mtrain_batch_size\u001b[0m\u001b[0;34m,\u001b[0m\u001b[0;34m\u001b[0m\u001b[0;34m\u001b[0m\u001b[0m\n\u001b[0;32m---> 25\u001b[0;31m         \u001b[0mmulti_label\u001b[0m\u001b[0;34m=\u001b[0m\u001b[0mmulti_label\u001b[0m\u001b[0;34m\u001b[0m\u001b[0;34m\u001b[0m\u001b[0m\n\u001b[0m\u001b[1;32m     26\u001b[0m     )\n\u001b[1;32m     27\u001b[0m \u001b[0;34m\u001b[0m\u001b[0m\n",
            "\u001b[0;32m<ipython-input-19-814321682610>\u001b[0m in \u001b[0;36mtrain_model_for_episode\u001b[0;34m(indices_and_embeddings, train_indices, wi_y, num_augmentations, train_epochs, train_batch_size, multi_label)\u001b[0m\n\u001b[1;32m     33\u001b[0m     }\n\u001b[1;32m     34\u001b[0m \u001b[0;34m\u001b[0m\u001b[0m\n\u001b[0;32m---> 35\u001b[0;31m     \u001b[0mwi_cls\u001b[0m \u001b[0;34m=\u001b[0m \u001b[0mWeightImprintingClassifier\u001b[0m\u001b[0;34m(\u001b[0m\u001b[0mwi_parameters\u001b[0m\u001b[0;34m)\u001b[0m\u001b[0;34m\u001b[0m\u001b[0;34m\u001b[0m\u001b[0m\n\u001b[0m\u001b[1;32m     36\u001b[0m \u001b[0;34m\u001b[0m\u001b[0m\n\u001b[1;32m     37\u001b[0m     \u001b[0;32mif\u001b[0m \u001b[0mtrain_epochs\u001b[0m\u001b[0;34m:\u001b[0m\u001b[0;34m\u001b[0m\u001b[0;34m\u001b[0m\u001b[0m\n",
            "\u001b[0;32m/content/PAL_2021/PAL_HILL/ExperimentModules/weight_imprinting_classifier.py\u001b[0m in \u001b[0;36m__init__\u001b[0;34m(self, model_parameters)\u001b[0m\n\u001b[1;32m     19\u001b[0m             \u001b[0;31m# defaults to single label classifier\u001b[0m\u001b[0;34m\u001b[0m\u001b[0;34m\u001b[0m\u001b[0;34m\u001b[0m\u001b[0m\n\u001b[1;32m     20\u001b[0m             \u001b[0mself\u001b[0m\u001b[0;34m.\u001b[0m\u001b[0mmulti_label\u001b[0m \u001b[0;34m=\u001b[0m \u001b[0;32mFalse\u001b[0m\u001b[0;34m\u001b[0m\u001b[0;34m\u001b[0m\u001b[0m\n\u001b[0;32m---> 21\u001b[0;31m         \u001b[0mself\u001b[0m\u001b[0;34m.\u001b[0m\u001b[0mmodel\u001b[0m \u001b[0;34m=\u001b[0m \u001b[0mself\u001b[0m\u001b[0;34m.\u001b[0m\u001b[0mbuild_model\u001b[0m\u001b[0;34m(\u001b[0m\u001b[0mmodel_parameters\u001b[0m\u001b[0;34m)\u001b[0m\u001b[0;34m\u001b[0m\u001b[0;34m\u001b[0m\u001b[0m\n\u001b[0m\u001b[1;32m     22\u001b[0m         \u001b[0mself\u001b[0m\u001b[0;34m.\u001b[0m\u001b[0m_normalize_dense_layer\u001b[0m\u001b[0;34m(\u001b[0m\u001b[0;34m)\u001b[0m\u001b[0;34m\u001b[0m\u001b[0;34m\u001b[0m\u001b[0m\n\u001b[1;32m     23\u001b[0m \u001b[0;34m\u001b[0m\u001b[0m\n",
            "\u001b[0;32m/content/PAL_2021/PAL_HILL/ExperimentModules/weight_imprinting_classifier.py\u001b[0m in \u001b[0;36mbuild_model\u001b[0;34m(self, parameters)\u001b[0m\n\u001b[1;32m     44\u001b[0m             \u001b[0mkernel_initializer\u001b[0m\u001b[0;34m=\u001b[0m\u001b[0mdense_layer_initializer\u001b[0m\u001b[0;34m,\u001b[0m\u001b[0;34m\u001b[0m\u001b[0;34m\u001b[0m\u001b[0m\n\u001b[1;32m     45\u001b[0m             \u001b[0mname\u001b[0m\u001b[0;34m=\u001b[0m\u001b[0;34m\"dense_layer\"\u001b[0m\u001b[0;34m,\u001b[0m\u001b[0;34m\u001b[0m\u001b[0;34m\u001b[0m\u001b[0m\n\u001b[0;32m---> 46\u001b[0;31m             )(_input)\n\u001b[0m\u001b[1;32m     47\u001b[0m         \u001b[0;32mif\u001b[0m \u001b[0mscale\u001b[0m\u001b[0;34m:\u001b[0m\u001b[0;34m\u001b[0m\u001b[0;34m\u001b[0m\u001b[0m\n\u001b[1;32m     48\u001b[0m             \u001b[0moutput\u001b[0m \u001b[0;34m=\u001b[0m \u001b[0mtf\u001b[0m\u001b[0;34m.\u001b[0m\u001b[0mmath\u001b[0m\u001b[0;34m.\u001b[0m\u001b[0mmultiply\u001b[0m\u001b[0;34m(\u001b[0m\u001b[0mself\u001b[0m\u001b[0;34m.\u001b[0m\u001b[0ms\u001b[0m\u001b[0;34m,\u001b[0m \u001b[0moutput\u001b[0m\u001b[0;34m)\u001b[0m\u001b[0;34m\u001b[0m\u001b[0;34m\u001b[0m\u001b[0m\n",
            "\u001b[0;32m/usr/local/lib/python3.7/dist-packages/tensorflow/python/keras/engine/base_layer.py\u001b[0m in \u001b[0;36m__call__\u001b[0;34m(self, *args, **kwargs)\u001b[0m\n\u001b[1;32m    950\u001b[0m     \u001b[0;32mif\u001b[0m \u001b[0m_in_functional_construction_mode\u001b[0m\u001b[0;34m(\u001b[0m\u001b[0mself\u001b[0m\u001b[0;34m,\u001b[0m \u001b[0minputs\u001b[0m\u001b[0;34m,\u001b[0m \u001b[0margs\u001b[0m\u001b[0;34m,\u001b[0m \u001b[0mkwargs\u001b[0m\u001b[0;34m,\u001b[0m \u001b[0minput_list\u001b[0m\u001b[0;34m)\u001b[0m\u001b[0;34m:\u001b[0m\u001b[0;34m\u001b[0m\u001b[0;34m\u001b[0m\u001b[0m\n\u001b[1;32m    951\u001b[0m       return self._functional_construction_call(inputs, args, kwargs,\n\u001b[0;32m--> 952\u001b[0;31m                                                 input_list)\n\u001b[0m\u001b[1;32m    953\u001b[0m \u001b[0;34m\u001b[0m\u001b[0m\n\u001b[1;32m    954\u001b[0m     \u001b[0;31m# Maintains info about the `Layer.call` stack.\u001b[0m\u001b[0;34m\u001b[0m\u001b[0;34m\u001b[0m\u001b[0;34m\u001b[0m\u001b[0m\n",
            "\u001b[0;32m/usr/local/lib/python3.7/dist-packages/tensorflow/python/keras/engine/base_layer.py\u001b[0m in \u001b[0;36m_functional_construction_call\u001b[0;34m(self, inputs, args, kwargs, input_list)\u001b[0m\n\u001b[1;32m   1089\u001b[0m         \u001b[0;31m# Check input assumptions set after layer building, e.g. input shape.\u001b[0m\u001b[0;34m\u001b[0m\u001b[0;34m\u001b[0m\u001b[0;34m\u001b[0m\u001b[0m\n\u001b[1;32m   1090\u001b[0m         outputs = self._keras_tensor_symbolic_call(\n\u001b[0;32m-> 1091\u001b[0;31m             inputs, input_masks, args, kwargs)\n\u001b[0m\u001b[1;32m   1092\u001b[0m \u001b[0;34m\u001b[0m\u001b[0m\n\u001b[1;32m   1093\u001b[0m         \u001b[0;32mif\u001b[0m \u001b[0moutputs\u001b[0m \u001b[0;32mis\u001b[0m \u001b[0;32mNone\u001b[0m\u001b[0;34m:\u001b[0m\u001b[0;34m\u001b[0m\u001b[0;34m\u001b[0m\u001b[0m\n",
            "\u001b[0;32m/usr/local/lib/python3.7/dist-packages/tensorflow/python/keras/engine/base_layer.py\u001b[0m in \u001b[0;36m_keras_tensor_symbolic_call\u001b[0;34m(self, inputs, input_masks, args, kwargs)\u001b[0m\n\u001b[1;32m    820\u001b[0m       \u001b[0;32mreturn\u001b[0m \u001b[0mnest\u001b[0m\u001b[0;34m.\u001b[0m\u001b[0mmap_structure\u001b[0m\u001b[0;34m(\u001b[0m\u001b[0mkeras_tensor\u001b[0m\u001b[0;34m.\u001b[0m\u001b[0mKerasTensor\u001b[0m\u001b[0;34m,\u001b[0m \u001b[0moutput_signature\u001b[0m\u001b[0;34m)\u001b[0m\u001b[0;34m\u001b[0m\u001b[0;34m\u001b[0m\u001b[0m\n\u001b[1;32m    821\u001b[0m     \u001b[0;32melse\u001b[0m\u001b[0;34m:\u001b[0m\u001b[0;34m\u001b[0m\u001b[0;34m\u001b[0m\u001b[0m\n\u001b[0;32m--> 822\u001b[0;31m       \u001b[0;32mreturn\u001b[0m \u001b[0mself\u001b[0m\u001b[0;34m.\u001b[0m\u001b[0m_infer_output_signature\u001b[0m\u001b[0;34m(\u001b[0m\u001b[0minputs\u001b[0m\u001b[0;34m,\u001b[0m \u001b[0margs\u001b[0m\u001b[0;34m,\u001b[0m \u001b[0mkwargs\u001b[0m\u001b[0;34m,\u001b[0m \u001b[0minput_masks\u001b[0m\u001b[0;34m)\u001b[0m\u001b[0;34m\u001b[0m\u001b[0;34m\u001b[0m\u001b[0m\n\u001b[0m\u001b[1;32m    823\u001b[0m \u001b[0;34m\u001b[0m\u001b[0m\n\u001b[1;32m    824\u001b[0m   \u001b[0;32mdef\u001b[0m \u001b[0m_infer_output_signature\u001b[0m\u001b[0;34m(\u001b[0m\u001b[0mself\u001b[0m\u001b[0;34m,\u001b[0m \u001b[0minputs\u001b[0m\u001b[0;34m,\u001b[0m \u001b[0margs\u001b[0m\u001b[0;34m,\u001b[0m \u001b[0mkwargs\u001b[0m\u001b[0;34m,\u001b[0m \u001b[0minput_masks\u001b[0m\u001b[0;34m)\u001b[0m\u001b[0;34m:\u001b[0m\u001b[0;34m\u001b[0m\u001b[0;34m\u001b[0m\u001b[0m\n",
            "\u001b[0;32m/usr/local/lib/python3.7/dist-packages/tensorflow/python/keras/engine/base_layer.py\u001b[0m in \u001b[0;36m_infer_output_signature\u001b[0;34m(self, inputs, args, kwargs, input_masks)\u001b[0m\n\u001b[1;32m    860\u001b[0m           \u001b[0;31m# overridden).\u001b[0m\u001b[0;34m\u001b[0m\u001b[0;34m\u001b[0m\u001b[0;34m\u001b[0m\u001b[0m\n\u001b[1;32m    861\u001b[0m           \u001b[0;31m# TODO(kaftan): do we maybe_build here, or have we already done it?\u001b[0m\u001b[0;34m\u001b[0m\u001b[0;34m\u001b[0m\u001b[0;34m\u001b[0m\u001b[0m\n\u001b[0;32m--> 862\u001b[0;31m           \u001b[0mself\u001b[0m\u001b[0;34m.\u001b[0m\u001b[0m_maybe_build\u001b[0m\u001b[0;34m(\u001b[0m\u001b[0minputs\u001b[0m\u001b[0;34m)\u001b[0m\u001b[0;34m\u001b[0m\u001b[0;34m\u001b[0m\u001b[0m\n\u001b[0m\u001b[1;32m    863\u001b[0m           \u001b[0moutputs\u001b[0m \u001b[0;34m=\u001b[0m \u001b[0mcall_fn\u001b[0m\u001b[0;34m(\u001b[0m\u001b[0minputs\u001b[0m\u001b[0;34m,\u001b[0m \u001b[0;34m*\u001b[0m\u001b[0margs\u001b[0m\u001b[0;34m,\u001b[0m \u001b[0;34m**\u001b[0m\u001b[0mkwargs\u001b[0m\u001b[0;34m)\u001b[0m\u001b[0;34m\u001b[0m\u001b[0;34m\u001b[0m\u001b[0m\n\u001b[1;32m    864\u001b[0m \u001b[0;34m\u001b[0m\u001b[0m\n",
            "\u001b[0;32m/usr/local/lib/python3.7/dist-packages/tensorflow/python/keras/engine/base_layer.py\u001b[0m in \u001b[0;36m_maybe_build\u001b[0;34m(self, inputs)\u001b[0m\n\u001b[1;32m   2708\u001b[0m         \u001b[0;31m# operations.\u001b[0m\u001b[0;34m\u001b[0m\u001b[0;34m\u001b[0m\u001b[0;34m\u001b[0m\u001b[0m\n\u001b[1;32m   2709\u001b[0m         \u001b[0;32mwith\u001b[0m \u001b[0mtf_utils\u001b[0m\u001b[0;34m.\u001b[0m\u001b[0mmaybe_init_scope\u001b[0m\u001b[0;34m(\u001b[0m\u001b[0mself\u001b[0m\u001b[0;34m)\u001b[0m\u001b[0;34m:\u001b[0m\u001b[0;34m\u001b[0m\u001b[0;34m\u001b[0m\u001b[0m\n\u001b[0;32m-> 2710\u001b[0;31m           \u001b[0mself\u001b[0m\u001b[0;34m.\u001b[0m\u001b[0mbuild\u001b[0m\u001b[0;34m(\u001b[0m\u001b[0minput_shapes\u001b[0m\u001b[0;34m)\u001b[0m  \u001b[0;31m# pylint:disable=not-callable\u001b[0m\u001b[0;34m\u001b[0m\u001b[0;34m\u001b[0m\u001b[0m\n\u001b[0m\u001b[1;32m   2711\u001b[0m       \u001b[0;31m# We must set also ensure that the layer is marked as built, and the build\u001b[0m\u001b[0;34m\u001b[0m\u001b[0;34m\u001b[0m\u001b[0;34m\u001b[0m\u001b[0m\n\u001b[1;32m   2712\u001b[0m       \u001b[0;31m# shape is stored since user defined build functions may not be calling\u001b[0m\u001b[0;34m\u001b[0m\u001b[0;34m\u001b[0m\u001b[0;34m\u001b[0m\u001b[0m\n",
            "\u001b[0;32m/usr/local/lib/python3.7/dist-packages/tensorflow/python/keras/layers/core.py\u001b[0m in \u001b[0;36mbuild\u001b[0;34m(self, input_shape)\u001b[0m\n\u001b[1;32m   1190\u001b[0m         \u001b[0mconstraint\u001b[0m\u001b[0;34m=\u001b[0m\u001b[0mself\u001b[0m\u001b[0;34m.\u001b[0m\u001b[0mkernel_constraint\u001b[0m\u001b[0;34m,\u001b[0m\u001b[0;34m\u001b[0m\u001b[0;34m\u001b[0m\u001b[0m\n\u001b[1;32m   1191\u001b[0m         \u001b[0mdtype\u001b[0m\u001b[0;34m=\u001b[0m\u001b[0mself\u001b[0m\u001b[0;34m.\u001b[0m\u001b[0mdtype\u001b[0m\u001b[0;34m,\u001b[0m\u001b[0;34m\u001b[0m\u001b[0;34m\u001b[0m\u001b[0m\n\u001b[0;32m-> 1192\u001b[0;31m         trainable=True)\n\u001b[0m\u001b[1;32m   1193\u001b[0m     \u001b[0;32mif\u001b[0m \u001b[0mself\u001b[0m\u001b[0;34m.\u001b[0m\u001b[0muse_bias\u001b[0m\u001b[0;34m:\u001b[0m\u001b[0;34m\u001b[0m\u001b[0;34m\u001b[0m\u001b[0m\n\u001b[1;32m   1194\u001b[0m       self.bias = self.add_weight(\n",
            "\u001b[0;32m/usr/local/lib/python3.7/dist-packages/tensorflow/python/keras/engine/base_layer.py\u001b[0m in \u001b[0;36madd_weight\u001b[0;34m(self, name, shape, dtype, initializer, regularizer, trainable, constraint, use_resource, synchronization, aggregation, **kwargs)\u001b[0m\n\u001b[1;32m    637\u001b[0m         \u001b[0msynchronization\u001b[0m\u001b[0;34m=\u001b[0m\u001b[0msynchronization\u001b[0m\u001b[0;34m,\u001b[0m\u001b[0;34m\u001b[0m\u001b[0;34m\u001b[0m\u001b[0m\n\u001b[1;32m    638\u001b[0m         \u001b[0maggregation\u001b[0m\u001b[0;34m=\u001b[0m\u001b[0maggregation\u001b[0m\u001b[0;34m,\u001b[0m\u001b[0;34m\u001b[0m\u001b[0;34m\u001b[0m\u001b[0m\n\u001b[0;32m--> 639\u001b[0;31m         caching_device=caching_device)\n\u001b[0m\u001b[1;32m    640\u001b[0m     \u001b[0;32mif\u001b[0m \u001b[0mregularizer\u001b[0m \u001b[0;32mis\u001b[0m \u001b[0;32mnot\u001b[0m \u001b[0;32mNone\u001b[0m\u001b[0;34m:\u001b[0m\u001b[0;34m\u001b[0m\u001b[0;34m\u001b[0m\u001b[0m\n\u001b[1;32m    641\u001b[0m       \u001b[0;31m# TODO(fchollet): in the future, this should be handled at the\u001b[0m\u001b[0;34m\u001b[0m\u001b[0;34m\u001b[0m\u001b[0;34m\u001b[0m\u001b[0m\n",
            "\u001b[0;32m/usr/local/lib/python3.7/dist-packages/tensorflow/python/training/tracking/base.py\u001b[0m in \u001b[0;36m_add_variable_with_custom_getter\u001b[0;34m(self, name, shape, dtype, initializer, getter, overwrite, **kwargs_for_getter)\u001b[0m\n\u001b[1;32m    808\u001b[0m         \u001b[0mdtype\u001b[0m\u001b[0;34m=\u001b[0m\u001b[0mdtype\u001b[0m\u001b[0;34m,\u001b[0m\u001b[0;34m\u001b[0m\u001b[0;34m\u001b[0m\u001b[0m\n\u001b[1;32m    809\u001b[0m         \u001b[0minitializer\u001b[0m\u001b[0;34m=\u001b[0m\u001b[0minitializer\u001b[0m\u001b[0;34m,\u001b[0m\u001b[0;34m\u001b[0m\u001b[0;34m\u001b[0m\u001b[0m\n\u001b[0;32m--> 810\u001b[0;31m         **kwargs_for_getter)\n\u001b[0m\u001b[1;32m    811\u001b[0m \u001b[0;34m\u001b[0m\u001b[0m\n\u001b[1;32m    812\u001b[0m     \u001b[0;31m# If we set an initializer and the variable processed it, tracking will not\u001b[0m\u001b[0;34m\u001b[0m\u001b[0;34m\u001b[0m\u001b[0;34m\u001b[0m\u001b[0m\n",
            "\u001b[0;32m/usr/local/lib/python3.7/dist-packages/tensorflow/python/keras/engine/base_layer_utils.py\u001b[0m in \u001b[0;36mmake_variable\u001b[0;34m(name, shape, dtype, initializer, trainable, caching_device, validate_shape, constraint, use_resource, collections, synchronization, aggregation, partitioner)\u001b[0m\n\u001b[1;32m    140\u001b[0m       \u001b[0msynchronization\u001b[0m\u001b[0;34m=\u001b[0m\u001b[0msynchronization\u001b[0m\u001b[0;34m,\u001b[0m\u001b[0;34m\u001b[0m\u001b[0;34m\u001b[0m\u001b[0m\n\u001b[1;32m    141\u001b[0m       \u001b[0maggregation\u001b[0m\u001b[0;34m=\u001b[0m\u001b[0maggregation\u001b[0m\u001b[0;34m,\u001b[0m\u001b[0;34m\u001b[0m\u001b[0;34m\u001b[0m\u001b[0m\n\u001b[0;32m--> 142\u001b[0;31m       shape=variable_shape if variable_shape else None)\n\u001b[0m\u001b[1;32m    143\u001b[0m \u001b[0;34m\u001b[0m\u001b[0m\n\u001b[1;32m    144\u001b[0m \u001b[0;34m\u001b[0m\u001b[0m\n",
            "\u001b[0;32m/usr/local/lib/python3.7/dist-packages/tensorflow/python/ops/variables.py\u001b[0m in \u001b[0;36m__call__\u001b[0;34m(cls, *args, **kwargs)\u001b[0m\n\u001b[1;32m    258\u001b[0m   \u001b[0;32mdef\u001b[0m \u001b[0m__call__\u001b[0m\u001b[0;34m(\u001b[0m\u001b[0mcls\u001b[0m\u001b[0;34m,\u001b[0m \u001b[0;34m*\u001b[0m\u001b[0margs\u001b[0m\u001b[0;34m,\u001b[0m \u001b[0;34m**\u001b[0m\u001b[0mkwargs\u001b[0m\u001b[0;34m)\u001b[0m\u001b[0;34m:\u001b[0m\u001b[0;34m\u001b[0m\u001b[0;34m\u001b[0m\u001b[0m\n\u001b[1;32m    259\u001b[0m     \u001b[0;32mif\u001b[0m \u001b[0mcls\u001b[0m \u001b[0;32mis\u001b[0m \u001b[0mVariableV1\u001b[0m\u001b[0;34m:\u001b[0m\u001b[0;34m\u001b[0m\u001b[0;34m\u001b[0m\u001b[0m\n\u001b[0;32m--> 260\u001b[0;31m       \u001b[0;32mreturn\u001b[0m \u001b[0mcls\u001b[0m\u001b[0;34m.\u001b[0m\u001b[0m_variable_v1_call\u001b[0m\u001b[0;34m(\u001b[0m\u001b[0;34m*\u001b[0m\u001b[0margs\u001b[0m\u001b[0;34m,\u001b[0m \u001b[0;34m**\u001b[0m\u001b[0mkwargs\u001b[0m\u001b[0;34m)\u001b[0m\u001b[0;34m\u001b[0m\u001b[0;34m\u001b[0m\u001b[0m\n\u001b[0m\u001b[1;32m    261\u001b[0m     \u001b[0;32melif\u001b[0m \u001b[0mcls\u001b[0m \u001b[0;32mis\u001b[0m \u001b[0mVariable\u001b[0m\u001b[0;34m:\u001b[0m\u001b[0;34m\u001b[0m\u001b[0;34m\u001b[0m\u001b[0m\n\u001b[1;32m    262\u001b[0m       \u001b[0;32mreturn\u001b[0m \u001b[0mcls\u001b[0m\u001b[0;34m.\u001b[0m\u001b[0m_variable_v2_call\u001b[0m\u001b[0;34m(\u001b[0m\u001b[0;34m*\u001b[0m\u001b[0margs\u001b[0m\u001b[0;34m,\u001b[0m \u001b[0;34m**\u001b[0m\u001b[0mkwargs\u001b[0m\u001b[0;34m)\u001b[0m\u001b[0;34m\u001b[0m\u001b[0;34m\u001b[0m\u001b[0m\n",
            "\u001b[0;32m/usr/local/lib/python3.7/dist-packages/tensorflow/python/ops/variables.py\u001b[0m in \u001b[0;36m_variable_v1_call\u001b[0;34m(cls, initial_value, trainable, collections, validate_shape, caching_device, name, variable_def, dtype, expected_shape, import_scope, constraint, use_resource, synchronization, aggregation, shape)\u001b[0m\n\u001b[1;32m    219\u001b[0m         \u001b[0msynchronization\u001b[0m\u001b[0;34m=\u001b[0m\u001b[0msynchronization\u001b[0m\u001b[0;34m,\u001b[0m\u001b[0;34m\u001b[0m\u001b[0;34m\u001b[0m\u001b[0m\n\u001b[1;32m    220\u001b[0m         \u001b[0maggregation\u001b[0m\u001b[0;34m=\u001b[0m\u001b[0maggregation\u001b[0m\u001b[0;34m,\u001b[0m\u001b[0;34m\u001b[0m\u001b[0;34m\u001b[0m\u001b[0m\n\u001b[0;32m--> 221\u001b[0;31m         shape=shape)\n\u001b[0m\u001b[1;32m    222\u001b[0m \u001b[0;34m\u001b[0m\u001b[0m\n\u001b[1;32m    223\u001b[0m   def _variable_v2_call(cls,\n",
            "\u001b[0;32m/usr/local/lib/python3.7/dist-packages/tensorflow/python/ops/variables.py\u001b[0m in \u001b[0;36m<lambda>\u001b[0;34m(**kwargs)\u001b[0m\n\u001b[1;32m    197\u001b[0m                         shape=None):\n\u001b[1;32m    198\u001b[0m     \u001b[0;34m\"\"\"Call on Variable class. Useful to force the signature.\"\"\"\u001b[0m\u001b[0;34m\u001b[0m\u001b[0;34m\u001b[0m\u001b[0m\n\u001b[0;32m--> 199\u001b[0;31m     \u001b[0mprevious_getter\u001b[0m \u001b[0;34m=\u001b[0m \u001b[0;32mlambda\u001b[0m \u001b[0;34m**\u001b[0m\u001b[0mkwargs\u001b[0m\u001b[0;34m:\u001b[0m \u001b[0mdefault_variable_creator\u001b[0m\u001b[0;34m(\u001b[0m\u001b[0;32mNone\u001b[0m\u001b[0;34m,\u001b[0m \u001b[0;34m**\u001b[0m\u001b[0mkwargs\u001b[0m\u001b[0;34m)\u001b[0m\u001b[0;34m\u001b[0m\u001b[0;34m\u001b[0m\u001b[0m\n\u001b[0m\u001b[1;32m    200\u001b[0m     \u001b[0;32mfor\u001b[0m \u001b[0m_\u001b[0m\u001b[0;34m,\u001b[0m \u001b[0mgetter\u001b[0m \u001b[0;32min\u001b[0m \u001b[0mops\u001b[0m\u001b[0;34m.\u001b[0m\u001b[0mget_default_graph\u001b[0m\u001b[0;34m(\u001b[0m\u001b[0;34m)\u001b[0m\u001b[0;34m.\u001b[0m\u001b[0m_variable_creator_stack\u001b[0m\u001b[0;34m:\u001b[0m  \u001b[0;31m# pylint: disable=protected-access\u001b[0m\u001b[0;34m\u001b[0m\u001b[0;34m\u001b[0m\u001b[0m\n\u001b[1;32m    201\u001b[0m       \u001b[0mprevious_getter\u001b[0m \u001b[0;34m=\u001b[0m \u001b[0m_make_getter\u001b[0m\u001b[0;34m(\u001b[0m\u001b[0mgetter\u001b[0m\u001b[0;34m,\u001b[0m \u001b[0mprevious_getter\u001b[0m\u001b[0;34m)\u001b[0m\u001b[0;34m\u001b[0m\u001b[0;34m\u001b[0m\u001b[0m\n",
            "\u001b[0;32m/usr/local/lib/python3.7/dist-packages/tensorflow/python/ops/variable_scope.py\u001b[0m in \u001b[0;36mdefault_variable_creator\u001b[0;34m(next_creator, **kwargs)\u001b[0m\n\u001b[1;32m   2616\u001b[0m         \u001b[0msynchronization\u001b[0m\u001b[0;34m=\u001b[0m\u001b[0msynchronization\u001b[0m\u001b[0;34m,\u001b[0m\u001b[0;34m\u001b[0m\u001b[0;34m\u001b[0m\u001b[0m\n\u001b[1;32m   2617\u001b[0m         \u001b[0maggregation\u001b[0m\u001b[0;34m=\u001b[0m\u001b[0maggregation\u001b[0m\u001b[0;34m,\u001b[0m\u001b[0;34m\u001b[0m\u001b[0;34m\u001b[0m\u001b[0m\n\u001b[0;32m-> 2618\u001b[0;31m         shape=shape)\n\u001b[0m\u001b[1;32m   2619\u001b[0m   \u001b[0;32melse\u001b[0m\u001b[0;34m:\u001b[0m\u001b[0;34m\u001b[0m\u001b[0;34m\u001b[0m\u001b[0m\n\u001b[1;32m   2620\u001b[0m     return variables.RefVariable(\n",
            "\u001b[0;32m/usr/local/lib/python3.7/dist-packages/tensorflow/python/ops/variables.py\u001b[0m in \u001b[0;36m__call__\u001b[0;34m(cls, *args, **kwargs)\u001b[0m\n\u001b[1;32m    262\u001b[0m       \u001b[0;32mreturn\u001b[0m \u001b[0mcls\u001b[0m\u001b[0;34m.\u001b[0m\u001b[0m_variable_v2_call\u001b[0m\u001b[0;34m(\u001b[0m\u001b[0;34m*\u001b[0m\u001b[0margs\u001b[0m\u001b[0;34m,\u001b[0m \u001b[0;34m**\u001b[0m\u001b[0mkwargs\u001b[0m\u001b[0;34m)\u001b[0m\u001b[0;34m\u001b[0m\u001b[0;34m\u001b[0m\u001b[0m\n\u001b[1;32m    263\u001b[0m     \u001b[0;32melse\u001b[0m\u001b[0;34m:\u001b[0m\u001b[0;34m\u001b[0m\u001b[0;34m\u001b[0m\u001b[0m\n\u001b[0;32m--> 264\u001b[0;31m       \u001b[0;32mreturn\u001b[0m \u001b[0msuper\u001b[0m\u001b[0;34m(\u001b[0m\u001b[0mVariableMetaclass\u001b[0m\u001b[0;34m,\u001b[0m \u001b[0mcls\u001b[0m\u001b[0;34m)\u001b[0m\u001b[0;34m.\u001b[0m\u001b[0m__call__\u001b[0m\u001b[0;34m(\u001b[0m\u001b[0;34m*\u001b[0m\u001b[0margs\u001b[0m\u001b[0;34m,\u001b[0m \u001b[0;34m**\u001b[0m\u001b[0mkwargs\u001b[0m\u001b[0;34m)\u001b[0m\u001b[0;34m\u001b[0m\u001b[0;34m\u001b[0m\u001b[0m\n\u001b[0m\u001b[1;32m    265\u001b[0m \u001b[0;34m\u001b[0m\u001b[0m\n\u001b[1;32m    266\u001b[0m \u001b[0;34m\u001b[0m\u001b[0m\n",
            "\u001b[0;32m/usr/local/lib/python3.7/dist-packages/tensorflow/python/ops/resource_variable_ops.py\u001b[0m in \u001b[0;36m__init__\u001b[0;34m(self, initial_value, trainable, collections, validate_shape, caching_device, name, dtype, variable_def, import_scope, constraint, distribute_strategy, synchronization, aggregation, shape)\u001b[0m\n\u001b[1;32m   1583\u001b[0m           \u001b[0maggregation\u001b[0m\u001b[0;34m=\u001b[0m\u001b[0maggregation\u001b[0m\u001b[0;34m,\u001b[0m\u001b[0;34m\u001b[0m\u001b[0;34m\u001b[0m\u001b[0m\n\u001b[1;32m   1584\u001b[0m           \u001b[0mshape\u001b[0m\u001b[0;34m=\u001b[0m\u001b[0mshape\u001b[0m\u001b[0;34m,\u001b[0m\u001b[0;34m\u001b[0m\u001b[0;34m\u001b[0m\u001b[0m\n\u001b[0;32m-> 1585\u001b[0;31m           distribute_strategy=distribute_strategy)\n\u001b[0m\u001b[1;32m   1586\u001b[0m \u001b[0;34m\u001b[0m\u001b[0m\n\u001b[1;32m   1587\u001b[0m   def _init_from_args(self,\n",
            "\u001b[0;32m/usr/local/lib/python3.7/dist-packages/tensorflow/python/ops/resource_variable_ops.py\u001b[0m in \u001b[0;36m_init_from_args\u001b[0;34m(self, initial_value, trainable, collections, caching_device, name, dtype, constraint, synchronization, aggregation, distribute_strategy, shape)\u001b[0m\n\u001b[1;32m   1710\u001b[0m           \u001b[0;32mwith\u001b[0m \u001b[0mops\u001b[0m\u001b[0;34m.\u001b[0m\u001b[0mname_scope\u001b[0m\u001b[0;34m(\u001b[0m\u001b[0;34m\"Initializer\"\u001b[0m\u001b[0;34m)\u001b[0m\u001b[0;34m,\u001b[0m \u001b[0mdevice_context_manager\u001b[0m\u001b[0;34m(\u001b[0m\u001b[0;32mNone\u001b[0m\u001b[0;34m)\u001b[0m\u001b[0;34m:\u001b[0m\u001b[0;34m\u001b[0m\u001b[0;34m\u001b[0m\u001b[0m\n\u001b[1;32m   1711\u001b[0m             \u001b[0;32mif\u001b[0m \u001b[0minit_from_fn\u001b[0m\u001b[0;34m:\u001b[0m\u001b[0;34m\u001b[0m\u001b[0;34m\u001b[0m\u001b[0m\n\u001b[0;32m-> 1712\u001b[0;31m               \u001b[0minitial_value\u001b[0m \u001b[0;34m=\u001b[0m \u001b[0minitial_value\u001b[0m\u001b[0;34m(\u001b[0m\u001b[0;34m)\u001b[0m\u001b[0;34m\u001b[0m\u001b[0;34m\u001b[0m\u001b[0m\n\u001b[0m\u001b[1;32m   1713\u001b[0m             \u001b[0;32mif\u001b[0m \u001b[0misinstance\u001b[0m\u001b[0;34m(\u001b[0m\u001b[0minitial_value\u001b[0m\u001b[0;34m,\u001b[0m \u001b[0mtrackable\u001b[0m\u001b[0;34m.\u001b[0m\u001b[0mCheckpointInitialValue\u001b[0m\u001b[0;34m)\u001b[0m\u001b[0;34m:\u001b[0m\u001b[0;34m\u001b[0m\u001b[0;34m\u001b[0m\u001b[0m\n\u001b[1;32m   1714\u001b[0m               \u001b[0mself\u001b[0m\u001b[0;34m.\u001b[0m\u001b[0m_maybe_initialize_trackable\u001b[0m\u001b[0;34m(\u001b[0m\u001b[0;34m)\u001b[0m\u001b[0;34m\u001b[0m\u001b[0;34m\u001b[0m\u001b[0m\n",
            "\u001b[0;32m/usr/local/lib/python3.7/dist-packages/tensorflow/python/keras/initializers/initializers_v2.py\u001b[0m in \u001b[0;36m__call__\u001b[0;34m(***failed resolving arguments***)\u001b[0m\n\u001b[1;32m    213\u001b[0m     \u001b[0;32mdel\u001b[0m \u001b[0mkwargs\u001b[0m\u001b[0;34m\u001b[0m\u001b[0;34m\u001b[0m\u001b[0m\n\u001b[1;32m    214\u001b[0m     return constant_op.constant(\n\u001b[0;32m--> 215\u001b[0;31m         self.value, dtype=_get_dtype(dtype), shape=shape)\n\u001b[0m\u001b[1;32m    216\u001b[0m \u001b[0;34m\u001b[0m\u001b[0m\n\u001b[1;32m    217\u001b[0m   \u001b[0;32mdef\u001b[0m \u001b[0mget_config\u001b[0m\u001b[0;34m(\u001b[0m\u001b[0mself\u001b[0m\u001b[0;34m)\u001b[0m\u001b[0;34m:\u001b[0m\u001b[0;34m\u001b[0m\u001b[0;34m\u001b[0m\u001b[0m\n",
            "\u001b[0;32m/usr/local/lib/python3.7/dist-packages/tensorflow/python/framework/constant_op.py\u001b[0m in \u001b[0;36mconstant\u001b[0;34m(value, dtype, shape, name)\u001b[0m\n\u001b[1;32m    263\u001b[0m   \"\"\"\n\u001b[1;32m    264\u001b[0m   return _constant_impl(value, dtype, shape, name, verify_shape=False,\n\u001b[0;32m--> 265\u001b[0;31m                         allow_broadcast=True)\n\u001b[0m\u001b[1;32m    266\u001b[0m \u001b[0;34m\u001b[0m\u001b[0m\n\u001b[1;32m    267\u001b[0m \u001b[0;34m\u001b[0m\u001b[0m\n",
            "\u001b[0;32m/usr/local/lib/python3.7/dist-packages/tensorflow/python/framework/constant_op.py\u001b[0m in \u001b[0;36m_constant_impl\u001b[0;34m(value, dtype, shape, name, verify_shape, allow_broadcast)\u001b[0m\n\u001b[1;32m    274\u001b[0m       \u001b[0;32mwith\u001b[0m \u001b[0mtrace\u001b[0m\u001b[0;34m.\u001b[0m\u001b[0mTrace\u001b[0m\u001b[0;34m(\u001b[0m\u001b[0;34m\"tf.constant\"\u001b[0m\u001b[0;34m)\u001b[0m\u001b[0;34m:\u001b[0m\u001b[0;34m\u001b[0m\u001b[0;34m\u001b[0m\u001b[0m\n\u001b[1;32m    275\u001b[0m         \u001b[0;32mreturn\u001b[0m \u001b[0m_constant_eager_impl\u001b[0m\u001b[0;34m(\u001b[0m\u001b[0mctx\u001b[0m\u001b[0;34m,\u001b[0m \u001b[0mvalue\u001b[0m\u001b[0;34m,\u001b[0m \u001b[0mdtype\u001b[0m\u001b[0;34m,\u001b[0m \u001b[0mshape\u001b[0m\u001b[0;34m,\u001b[0m \u001b[0mverify_shape\u001b[0m\u001b[0;34m)\u001b[0m\u001b[0;34m\u001b[0m\u001b[0;34m\u001b[0m\u001b[0m\n\u001b[0;32m--> 276\u001b[0;31m     \u001b[0;32mreturn\u001b[0m \u001b[0m_constant_eager_impl\u001b[0m\u001b[0;34m(\u001b[0m\u001b[0mctx\u001b[0m\u001b[0;34m,\u001b[0m \u001b[0mvalue\u001b[0m\u001b[0;34m,\u001b[0m \u001b[0mdtype\u001b[0m\u001b[0;34m,\u001b[0m \u001b[0mshape\u001b[0m\u001b[0;34m,\u001b[0m \u001b[0mverify_shape\u001b[0m\u001b[0;34m)\u001b[0m\u001b[0;34m\u001b[0m\u001b[0;34m\u001b[0m\u001b[0m\n\u001b[0m\u001b[1;32m    277\u001b[0m \u001b[0;34m\u001b[0m\u001b[0m\n\u001b[1;32m    278\u001b[0m   \u001b[0mg\u001b[0m \u001b[0;34m=\u001b[0m \u001b[0mops\u001b[0m\u001b[0;34m.\u001b[0m\u001b[0mget_default_graph\u001b[0m\u001b[0;34m(\u001b[0m\u001b[0;34m)\u001b[0m\u001b[0;34m\u001b[0m\u001b[0;34m\u001b[0m\u001b[0m\n",
            "\u001b[0;32m/usr/local/lib/python3.7/dist-packages/tensorflow/python/framework/constant_op.py\u001b[0m in \u001b[0;36m_constant_eager_impl\u001b[0;34m(ctx, value, dtype, shape, verify_shape)\u001b[0m\n\u001b[1;32m    323\u001b[0m   raise TypeError(\"Eager execution of tf.constant with unsupported shape \"\n\u001b[1;32m    324\u001b[0m                   \u001b[0;34m\"(value has %d elements, shape is %s with %d elements).\"\u001b[0m \u001b[0;34m%\u001b[0m\u001b[0;34m\u001b[0m\u001b[0;34m\u001b[0m\u001b[0m\n\u001b[0;32m--> 325\u001b[0;31m                   (num_t, shape, shape.num_elements()))\n\u001b[0m\u001b[1;32m    326\u001b[0m \u001b[0;34m\u001b[0m\u001b[0m\n\u001b[1;32m    327\u001b[0m \u001b[0;34m\u001b[0m\u001b[0m\n",
            "\u001b[0;31mTypeError\u001b[0m: Eager execution of tf.constant with unsupported shape (value has 704000 elements, shape is (512, 5) with 2560 elements)."
          ]
        }
      ]
    },
    {
      "cell_type": "code",
      "metadata": {
        "id": "OOEEaXwn9GsR"
      },
      "source": [
        "def get_best_metric_and_threshold(mt, metric_name, thresholds, optimal='max'):\n",
        "    if optimal=='max':\n",
        "        opt_value = np.max(np.mean(np.array(mt[metric_name]), axis=0))\n",
        "        opt_threshold = thresholds[np.argmax(np.mean(np.array(mt[metric_name]), axis=0))]\n",
        "    if optimal=='min':\n",
        "        opt_value = np.min(np.mean(np.array(mt[metric_name]), axis=0))\n",
        "        opt_threshold = thresholds[np.argmin(np.mean(np.array(mt[metric_name]), axis=0))]\n",
        "\n",
        "    return opt_value, opt_threshold\n",
        "\n",
        "def get_avg_metric(mt, metric_name):\n",
        "    opt_value = np.mean(np.array(mt[metric_name]), axis=0)\n",
        "    \n",
        "    return opt_value"
      ],
      "execution_count": null,
      "outputs": []
    },
    {
      "cell_type": "code",
      "metadata": {
        "id": "BSnGOWuvuWBQ"
      },
      "source": [
        "all_metrics = ['accuracy', 'map', 'c_f1', 'o_f1', 'c_precision', 'o_precision', 'c_recall', 'o_recall', 'top1_accuracy', 'top5_accuracy', 'c_accuracy']\n",
        "\n",
        "f1_vals = []\n",
        "f1_t_vals = []\n",
        "jaccard_vals = []\n",
        "jaccard_t_vals = []\n",
        "\n",
        "final_dict = {}\n",
        "for ind_metric in all_metrics:\n",
        "  vals = []\n",
        "  t_vals = []\n",
        "  final_array = []\n",
        "  for mt in clip_metrics_over_train_epochs:\n",
        "    ret_val = get_avg_metric(mt,ind_metric)\n",
        "    vals.append(ret_val)\n",
        "\n",
        "  final_array.append(vals)\n",
        "  final_dict[ind_metric] = final_array\n",
        "\n",
        "if train_epochs_arr == [0]:\n",
        "    if trivial:\n",
        "        graph_filename = \"new_metrics\"+dataset_name+\"_softmax_0t\"+str(num_ways)+\"w\"+str(num_shot)+\"s\"+str(num_augmentations)+\"a_trivial_metrics_graphs.json\"\n",
        "    else:\n",
        "        graph_filename = \"new_metrics\"+dataset_name+\"_softmax_0t\"+str(num_ways)+\"w\"+str(num_shot)+\"s\"+str(num_augmentations)+\"a_metrics_graphs.json\"\n",
        "else:\n",
        "    if trivial:\n",
        "        graph_filename = \"new_metrics\"+dataset_name+\"_softmax_\"+str(num_ways)+\"w\"+str(num_shot)+\"s\"+str(num_augmentations)+\"a_trivial_metrics_graphs.json\"\n",
        "    else:\n",
        "        graph_filename = \"new_metrics\"+dataset_name+\"_softmax_\"+str(num_ways)+\"w\"+str(num_shot)+\"s\"+str(num_augmentations)+\"a_metrics_graphs.json\"\n",
        "\n",
        "with open(graph_filename, 'w') as f:\n",
        "        json.dump(final_dict, f)\n",
        "\n",
        "auth.authenticate_user()\n",
        "gauth = GoogleAuth()\n",
        "gauth.credentials = GoogleCredentials.get_application_default()\n",
        "drive = GoogleDrive(gauth)\n",
        "delete_file_by_name(drive, folderid, graph_filename)\n",
        "save_to_drive(drive, folderid, graph_filename)"
      ],
      "execution_count": null,
      "outputs": []
    },
    {
      "cell_type": "code",
      "metadata": {
        "id": "hYSG-WnGP8kF"
      },
      "source": [
        "final_dict"
      ],
      "execution_count": null,
      "outputs": []
    }
  ]
}