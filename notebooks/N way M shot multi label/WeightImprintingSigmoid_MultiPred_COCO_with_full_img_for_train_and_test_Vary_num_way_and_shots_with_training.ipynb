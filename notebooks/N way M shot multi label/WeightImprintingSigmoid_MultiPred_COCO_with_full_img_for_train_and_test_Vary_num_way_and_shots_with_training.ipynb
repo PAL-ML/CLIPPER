{
  "nbformat": 4,
  "nbformat_minor": 0,
  "metadata": {
    "accelerator": "GPU",
    "colab": {
      "name": "WeightImprintingSigmoid_MultiPred_COCO with full img for train and test Vary num_way and shots with training.ipynb",
      "provenance": [],
      "collapsed_sections": [
        "RGlVnbugxFK2",
        "gmgIrfT8hDNE",
        "3rKe3HqM523g",
        "OLU-gp7n8__E",
        "9z1WQnXdLHy2",
        "NzsubsEm72rr",
        "zU_gxQ0KbwMh",
        "F-f4BEcDgeVC",
        "iLbRqaYxzbr7",
        "fJIGo_R86GQi",
        "hHs46yaOItTW"
      ],
      "toc_visible": true
    },
    "kernelspec": {
      "display_name": "Python 3",
      "name": "python3"
    }
  },
  "cells": [
    {
      "cell_type": "markdown",
      "metadata": {
        "id": "2wCVCAfpyE0A"
      },
      "source": [
        "# Mount Drive"
      ]
    },
    {
      "cell_type": "code",
      "metadata": {
        "colab": {
          "base_uri": "https://localhost:8080/"
        },
        "id": "4-7JU3Q7q_XT",
        "outputId": "0dfbb62e-18c4-4ea3-d048-38ac54a97742"
      },
      "source": [
        "from google.colab import drive\n",
        "drive.mount('/content/drive')"
      ],
      "execution_count": null,
      "outputs": [
        {
          "output_type": "stream",
          "text": [
            "Mounted at /content/drive\n"
          ],
          "name": "stdout"
        }
      ]
    },
    {
      "cell_type": "code",
      "metadata": {
        "colab": {
          "base_uri": "https://localhost:8080/"
        },
        "id": "vXAPOzOK4mTl",
        "outputId": "2ce536fb-bf44-42d0-84a4-53032f09e580"
      },
      "source": [
        "!pip install -U -q PyDrive\n",
        "!pip install httplib2==0.15.0\n",
        "import os\n",
        "from pydrive.auth import GoogleAuth\n",
        "from pydrive.drive import GoogleDrive\n",
        "from pydrive.files import GoogleDriveFileList\n",
        "from google.colab import auth\n",
        "from oauth2client.client import GoogleCredentials\n",
        "\n",
        "from getpass import getpass\n",
        "import urllib\n",
        "\n",
        "# 1. Authenticate and create the PyDrive client.\n",
        "auth.authenticate_user()\n",
        "gauth = GoogleAuth()\n",
        "gauth.credentials = GoogleCredentials.get_application_default()\n",
        "drive = GoogleDrive(gauth)\n",
        "\n",
        "# Cloning PAL_2021 to access modules.\n",
        "# Need password to access private repo.\n",
        "\n",
        "if 'PAL_2021' not in os.listdir():\n",
        "    cmd_string = 'git clone https://github.com/PAL-ML/CLIPPER.git'\n",
        "    os.system(cmd_string)"
      ],
      "execution_count": null,
      "outputs": [
        {
          "output_type": "stream",
          "text": [
            "Collecting httplib2==0.15.0\n",
            "\u001b[?25l  Downloading https://files.pythonhosted.org/packages/be/83/5e006e25403871ffbbf587c7aa4650158c947d46e89f2d50dcaf018464de/httplib2-0.15.0-py3-none-any.whl (94kB)\n",
            "\r\u001b[K     |███▌                            | 10kB 19.6MB/s eta 0:00:01\r\u001b[K     |███████                         | 20kB 26.7MB/s eta 0:00:01\r\u001b[K     |██████████▍                     | 30kB 32.0MB/s eta 0:00:01\r\u001b[K     |█████████████▉                  | 40kB 29.3MB/s eta 0:00:01\r\u001b[K     |█████████████████▎              | 51kB 29.6MB/s eta 0:00:01\r\u001b[K     |████████████████████▊           | 61kB 31.8MB/s eta 0:00:01\r\u001b[K     |████████████████████████▏       | 71kB 33.0MB/s eta 0:00:01\r\u001b[K     |███████████████████████████▋    | 81kB 29.5MB/s eta 0:00:01\r\u001b[K     |███████████████████████████████ | 92kB 31.1MB/s eta 0:00:01\r\u001b[K     |████████████████████████████████| 102kB 11.0MB/s \n",
            "\u001b[?25hInstalling collected packages: httplib2\n",
            "  Found existing installation: httplib2 0.17.4\n",
            "    Uninstalling httplib2-0.17.4:\n",
            "      Successfully uninstalled httplib2-0.17.4\n",
            "Successfully installed httplib2-0.15.0\n",
            "Github User name: advaitrane\n",
            "Password: ··········\n"
          ],
          "name": "stdout"
        }
      ]
    },
    {
      "cell_type": "markdown",
      "metadata": {
        "id": "RGlVnbugxFK2"
      },
      "source": [
        "# Installation"
      ]
    },
    {
      "cell_type": "markdown",
      "metadata": {
        "id": "gmgIrfT8hDNE"
      },
      "source": [
        "## Install multi label metrics dependencies"
      ]
    },
    {
      "cell_type": "code",
      "metadata": {
        "colab": {
          "base_uri": "https://localhost:8080/"
        },
        "id": "b6xXPAFbe6Gp",
        "outputId": "b6b64a9c-24ee-4cee-ecae-13c0c9af65d8"
      },
      "source": [
        "! pip install scikit-learn==0.24"
      ],
      "execution_count": null,
      "outputs": [
        {
          "output_type": "stream",
          "text": [
            "Collecting scikit-learn==0.24\n",
            "\u001b[?25l  Downloading https://files.pythonhosted.org/packages/b1/ed/ab51a8da34d2b3f4524b21093081e7f9e2ddf1c9eac9f795dcf68ad0a57d/scikit_learn-0.24.0-cp37-cp37m-manylinux2010_x86_64.whl (22.3MB)\n",
            "\u001b[K     |████████████████████████████████| 22.3MB 59.5MB/s \n",
            "\u001b[?25hCollecting threadpoolctl>=2.0.0\n",
            "  Downloading https://files.pythonhosted.org/packages/f7/12/ec3f2e203afa394a149911729357aa48affc59c20e2c1c8297a60f33f133/threadpoolctl-2.1.0-py3-none-any.whl\n",
            "Requirement already satisfied: scipy>=0.19.1 in /usr/local/lib/python3.7/dist-packages (from scikit-learn==0.24) (1.4.1)\n",
            "Requirement already satisfied: joblib>=0.11 in /usr/local/lib/python3.7/dist-packages (from scikit-learn==0.24) (1.0.1)\n",
            "Requirement already satisfied: numpy>=1.13.3 in /usr/local/lib/python3.7/dist-packages (from scikit-learn==0.24) (1.19.5)\n",
            "Installing collected packages: threadpoolctl, scikit-learn\n",
            "  Found existing installation: scikit-learn 0.22.2.post1\n",
            "    Uninstalling scikit-learn-0.22.2.post1:\n",
            "      Successfully uninstalled scikit-learn-0.22.2.post1\n",
            "Successfully installed scikit-learn-0.24.0 threadpoolctl-2.1.0\n"
          ],
          "name": "stdout"
        }
      ]
    },
    {
      "cell_type": "markdown",
      "metadata": {
        "id": "3rKe3HqM523g"
      },
      "source": [
        "## Install CLIP dependencies"
      ]
    },
    {
      "cell_type": "code",
      "metadata": {
        "id": "poS-WNDixIhY"
      },
      "source": [
        "# import subprocess\n",
        "\n",
        "# CUDA_version = [s for s in subprocess.check_output([\"nvcc\", \"--version\"]).decode(\"UTF-8\").split(\", \") if s.startswith(\"release\")][0].split(\" \")[-1]\n",
        "# print(\"CUDA version:\", CUDA_version)\n",
        "\n",
        "# if CUDA_version == \"10.0\":\n",
        "#     torch_version_suffix = \"+cu100\"\n",
        "# elif CUDA_version == \"10.1\":\n",
        "#     torch_version_suffix = \"+cu101\"\n",
        "# elif CUDA_version == \"10.2\":\n",
        "#     torch_version_suffix = \"\"\n",
        "# else:\n",
        "#     torch_version_suffix = \"+cu110\""
      ],
      "execution_count": null,
      "outputs": []
    },
    {
      "cell_type": "code",
      "metadata": {
        "id": "uA-69W8M59nA"
      },
      "source": [
        "# ! pip install torch==1.7.1{torch_version_suffix} torchvision==0.8.2{torch_version_suffix} -f https://download.pytorch.org/whl/torch_stable.html ftfy regex"
      ],
      "execution_count": null,
      "outputs": []
    },
    {
      "cell_type": "code",
      "metadata": {
        "id": "sYwBZS1N6A3d"
      },
      "source": [
        "# ! pip install ftfy regex"
      ],
      "execution_count": null,
      "outputs": []
    },
    {
      "cell_type": "code",
      "metadata": {
        "colab": {
          "base_uri": "https://localhost:8080/"
        },
        "id": "9oIcNBYB8lz3",
        "outputId": "dad71e09-70af-4286-aa90-6841b5a4f3ee"
      },
      "source": [
        "!pip install git+https://github.com/openai/CLIP.git"
      ],
      "execution_count": null,
      "outputs": [
        {
          "output_type": "stream",
          "text": [
            "Collecting git+https://github.com/openai/CLIP.git\n",
            "  Cloning https://github.com/openai/CLIP.git to /tmp/pip-req-build-m6uhvf4m\n",
            "  Running command git clone -q https://github.com/openai/CLIP.git /tmp/pip-req-build-m6uhvf4m\n",
            "Collecting ftfy\n",
            "\u001b[?25l  Downloading https://files.pythonhosted.org/packages/ce/b5/5da463f9c7823e0e575e9908d004e2af4b36efa8d02d3d6dad57094fcb11/ftfy-6.0.1.tar.gz (63kB)\n",
            "\u001b[K     |████████████████████████████████| 71kB 9.7MB/s \n",
            "\u001b[?25hRequirement already satisfied: regex in /usr/local/lib/python3.7/dist-packages (from clip==1.0) (2019.12.20)\n",
            "Requirement already satisfied: tqdm in /usr/local/lib/python3.7/dist-packages (from clip==1.0) (4.41.1)\n",
            "Collecting torch~=1.7.1\n",
            "\u001b[?25l  Downloading https://files.pythonhosted.org/packages/90/5d/095ddddc91c8a769a68c791c019c5793f9c4456a688ddd235d6670924ecb/torch-1.7.1-cp37-cp37m-manylinux1_x86_64.whl (776.8MB)\n",
            "\u001b[K     |████████████████████████████████| 776.8MB 22kB/s \n",
            "\u001b[?25hCollecting torchvision~=0.8.2\n",
            "\u001b[?25l  Downloading https://files.pythonhosted.org/packages/94/df/969e69a94cff1c8911acb0688117f95e1915becc1e01c73e7960a2c76ec8/torchvision-0.8.2-cp37-cp37m-manylinux1_x86_64.whl (12.8MB)\n",
            "\u001b[K     |████████████████████████████████| 12.8MB 26.4MB/s \n",
            "\u001b[?25hRequirement already satisfied: wcwidth in /usr/local/lib/python3.7/dist-packages (from ftfy->clip==1.0) (0.2.5)\n",
            "Requirement already satisfied: numpy in /usr/local/lib/python3.7/dist-packages (from torch~=1.7.1->clip==1.0) (1.19.5)\n",
            "Requirement already satisfied: typing-extensions in /usr/local/lib/python3.7/dist-packages (from torch~=1.7.1->clip==1.0) (3.7.4.3)\n",
            "Requirement already satisfied: pillow>=4.1.1 in /usr/local/lib/python3.7/dist-packages (from torchvision~=0.8.2->clip==1.0) (7.1.2)\n",
            "Building wheels for collected packages: clip, ftfy\n",
            "  Building wheel for clip (setup.py) ... \u001b[?25l\u001b[?25hdone\n",
            "  Created wheel for clip: filename=clip-1.0-cp37-none-any.whl size=1368708 sha256=0be422444d21f11521415de37bbd3f3863c1ec88a492cb3e2fe473128aade0f8\n",
            "  Stored in directory: /tmp/pip-ephem-wheel-cache-oz787mcl/wheels/79/51/d7/69f91d37121befe21d9c52332e04f592e17d1cabc7319b3e09\n",
            "  Building wheel for ftfy (setup.py) ... \u001b[?25l\u001b[?25hdone\n",
            "  Created wheel for ftfy: filename=ftfy-6.0.1-cp37-none-any.whl size=41573 sha256=8e35a0bdfe2f9c37c58d34fcb5133263401a271382db7954ddfe23016e1a7098\n",
            "  Stored in directory: /root/.cache/pip/wheels/ae/73/c7/9056e14b04919e5c262fe80b54133b1a88d73683d05d7ac65c\n",
            "Successfully built clip ftfy\n",
            "\u001b[31mERROR: torchtext 0.9.1 has requirement torch==1.8.1, but you'll have torch 1.7.1 which is incompatible.\u001b[0m\n",
            "Installing collected packages: ftfy, torch, torchvision, clip\n",
            "  Found existing installation: torch 1.8.1+cu101\n",
            "    Uninstalling torch-1.8.1+cu101:\n",
            "      Successfully uninstalled torch-1.8.1+cu101\n",
            "  Found existing installation: torchvision 0.9.1+cu101\n",
            "    Uninstalling torchvision-0.9.1+cu101:\n",
            "      Successfully uninstalled torchvision-0.9.1+cu101\n",
            "Successfully installed clip-1.0 ftfy-6.0.1 torch-1.7.1 torchvision-0.8.2\n"
          ],
          "name": "stdout"
        }
      ]
    },
    {
      "cell_type": "markdown",
      "metadata": {
        "id": "OLU-gp7n8__E"
      },
      "source": [
        "## Install clustering dependencies"
      ]
    },
    {
      "cell_type": "code",
      "metadata": {
        "id": "6TLg9ozo9Hvc"
      },
      "source": [
        "!pip -q install umap-learn>=0.3.7"
      ],
      "execution_count": null,
      "outputs": []
    },
    {
      "cell_type": "markdown",
      "metadata": {
        "id": "9z1WQnXdLHy2"
      },
      "source": [
        "## Install dataset manager dependencies"
      ]
    },
    {
      "cell_type": "code",
      "metadata": {
        "colab": {
          "base_uri": "https://localhost:8080/"
        },
        "id": "J1vvMx7_LLSp",
        "outputId": "53f4ed46-ca8a-4733-f1a1-6eec80db189c"
      },
      "source": [
        "!pip install wget"
      ],
      "execution_count": null,
      "outputs": [
        {
          "output_type": "stream",
          "text": [
            "Collecting wget\n",
            "  Downloading https://files.pythonhosted.org/packages/47/6a/62e288da7bcda82b935ff0c6cfe542970f04e29c756b0e147251b2fb251f/wget-3.2.zip\n",
            "Building wheels for collected packages: wget\n",
            "  Building wheel for wget (setup.py) ... \u001b[?25l\u001b[?25hdone\n",
            "  Created wheel for wget: filename=wget-3.2-cp37-none-any.whl size=9681 sha256=53071ece9a0c8436952df64770dc410efe6cef34955944e31e62b844d17b63b1\n",
            "  Stored in directory: /root/.cache/pip/wheels/40/15/30/7d8f7cea2902b4db79e3fea550d7d7b85ecb27ef992b618f3f\n",
            "Successfully built wget\n",
            "Installing collected packages: wget\n",
            "Successfully installed wget-3.2\n"
          ],
          "name": "stdout"
        }
      ]
    },
    {
      "cell_type": "markdown",
      "metadata": {
        "id": "NzsubsEm72rr"
      },
      "source": [
        "# Imports"
      ]
    },
    {
      "cell_type": "code",
      "metadata": {
        "id": "KZI62a6G74kw"
      },
      "source": [
        "# ML Libraries\n",
        "import tensorflow as tf\n",
        "import tensorflow_hub as hub\n",
        "import torch\n",
        "import torch.nn as nn\n",
        "import torchvision.models as models\n",
        "import torchvision.transforms as transforms\n",
        "import keras\n",
        "\n",
        "# Data processing\n",
        "import PIL\n",
        "import base64\n",
        "import imageio\n",
        "import pandas as pd\n",
        "import numpy as np\n",
        "import json\n",
        "\n",
        "from PIL import Image\n",
        "import cv2\n",
        "from sklearn.feature_extraction.image import extract_patches_2d\n",
        "\n",
        "# Plotting\n",
        "import seaborn as sns\n",
        "import matplotlib.pyplot as plt\n",
        "import matplotlib.patches as patches\n",
        "\n",
        "from IPython.core.display import display, HTML\n",
        "from matplotlib import cm\n",
        "import matplotlib.image as mpimg\n",
        "\n",
        "# Models\n",
        "import clip\n",
        "\n",
        "# Datasets\n",
        "import tensorflow_datasets as tfds\n",
        "\n",
        "# Clustering\n",
        "# import umap\n",
        "\n",
        "from sklearn import metrics\n",
        "from sklearn.cluster import KMeans\n",
        "#from yellowbrick.cluster import KElbowVisualizer\n",
        "\n",
        "# Misc\n",
        "import progressbar\n",
        "import logging\n",
        "from abc import ABC, abstractmethod\n",
        "import time\n",
        "import urllib.request\n",
        "import os\n",
        "from sklearn.metrics import jaccard_score, hamming_loss, accuracy_score, f1_score\n",
        "from sklearn.preprocessing import MultiLabelBinarizer\n",
        "\n",
        "\n",
        "# Modules\n",
        "# from PAL_2021.PAL_HILL.ExperimentModules import embedding_models\n",
        "from CLIPPER.code.ExperimentModules.dataset_manager import DatasetManager\n",
        "from CLIPPER.code.ExperimentModules.weight_imprinting_classifier import WeightImprintingClassifier\n",
        "from CLIPPER.code.ExperimentModules import simclr_data_augmentations\n",
        "from CLIPPER.code.ExperimentModules.utils import (save_npy, load_npy, \n",
        "                                                       get_folder_id, \n",
        "                                                       create_expt_dir, \n",
        "                                                       save_to_drive, \n",
        "                                                       load_all_from_drive_folder, \n",
        "                                                       download_file_by_name, \n",
        "                                                       delete_file_by_name)\n",
        "\n",
        "logging.getLogger('googleapicliet.discovery_cache').setLevel(logging.ERROR)"
      ],
      "execution_count": null,
      "outputs": []
    },
    {
      "cell_type": "markdown",
      "metadata": {
        "id": "zU_gxQ0KbwMh"
      },
      "source": [
        "# Initialization & Constants\n",
        "\n",
        "**Edited**"
      ]
    },
    {
      "cell_type": "code",
      "metadata": {
        "colab": {
          "base_uri": "https://localhost:8080/"
        },
        "id": "bih5tBPdbx3u",
        "outputId": "6ce85cff-c6d8-4c39-ca3c-af0b3041b1c4"
      },
      "source": [
        "dataset_name = 'Coco'\n",
        "folder_name = \"Coco-Embeddings-28-02-21\"\n",
        "\n",
        "# Change parentid to match that of experiments root folder in gdrive\n",
        "parentid = '1bK72W-Um20EQDEyChNhNJthUNbmoSEjD'\n",
        "\n",
        "# Filepaths\n",
        "train_labels_filename = \"train_labels.npz\"\n",
        "val_labels_filename = \"val_labels.npz\"\n",
        "test_labels_filename = \"test_labels.npz\"\n",
        "\n",
        "train_embeddings_filename_suffix = \"_embeddings_train.npz\"\n",
        "val_embeddings_filename_suffix = \"_embeddings_val.npz\"\n",
        "test_embeddings_filename_suffix = \"_embeddings_test.npz\"\n",
        "\n",
        "\n",
        "# Initialize sepcific experiment folder in drive\n",
        "folderid = create_expt_dir(drive, parentid, folder_name)"
      ],
      "execution_count": null,
      "outputs": [
        {
          "output_type": "stream",
          "text": [
            "title: Coco-Embeddings-28-02-21, id: 11p_iQPU9rMy6SNE_uWeHjRKXyj8LszZb\n",
            "Experiment folder already exists. WARNING: Following with this run might overwrite existing results stored.\n"
          ],
          "name": "stdout"
        }
      ]
    },
    {
      "cell_type": "markdown",
      "metadata": {
        "id": "UxTa8MVsvQCN"
      },
      "source": [
        "# Load data"
      ]
    },
    {
      "cell_type": "code",
      "metadata": {
        "id": "uI-Sx_zz0-jc"
      },
      "source": [
        "LABEL_PATH = '/content/drive/MyDrive/PAL_HILL_2021/Datasets/Coco2017Train/labels.json'\n",
        "IMG_PATH = '/content/drive/MyDrive/PAL_HILL_2021/Datasets/Coco2017Train/train2017/'\n",
        "IMG_LIST_PATH = '/content/drive/MyDrive/PAL_HILL_2021/Datasets/Coco2017Train/img_list.npz'"
      ],
      "execution_count": null,
      "outputs": []
    },
    {
      "cell_type": "code",
      "metadata": {
        "id": "n6S124Jfwuu5"
      },
      "source": [
        "def get_ndarray_from_drive(drive, folderid, filename):\n",
        "    download_file_by_name(drive, folderid, filename)\n",
        "    return np.load(filename)['data']\n",
        "\n",
        "# train_labels = get_ndarray_from_drive(drive, folderid, train_labels_filename)\n",
        "# val_labels = get_ndarray_from_drive(drive, folderid, val_labels_filename)\n",
        "# test_labels = get_ndarray_from_drive(drive, folderid, test_labels_filename)"
      ],
      "execution_count": null,
      "outputs": []
    },
    {
      "cell_type": "code",
      "metadata": {
        "id": "X523WMP-77o7"
      },
      "source": [
        "with open(LABEL_PATH) as json_file:\n",
        "  labels = json.load(json_file)"
      ],
      "execution_count": null,
      "outputs": []
    },
    {
      "cell_type": "code",
      "metadata": {
        "id": "dRWfeQpl4sTG"
      },
      "source": [
        "img_list = np.load(IMG_LIST_PATH)['data']"
      ],
      "execution_count": null,
      "outputs": []
    },
    {
      "cell_type": "code",
      "metadata": {
        "id": "omORTQl-4ysh"
      },
      "source": [
        "dict_keys = list(labels.keys())\n",
        "\n",
        "for i in dict_keys:\n",
        "  name = i.zfill(12)+\".jpg\"\n",
        "  if name not in img_list:\n",
        "    del labels[i]"
      ],
      "execution_count": null,
      "outputs": []
    },
    {
      "cell_type": "code",
      "metadata": {
        "colab": {
          "base_uri": "https://localhost:8080/",
          "height": 35
        },
        "id": "e7_ZmqBbGafl",
        "outputId": "4c2fd123-3e8c-469a-ab40-ff2ef32efd69"
      },
      "source": [
        "dict_keys = list(labels.keys())\n",
        "dict_keys[2]"
      ],
      "execution_count": null,
      "outputs": [
        {
          "output_type": "execute_result",
          "data": {
            "application/vnd.google.colaboratory.intrinsic+json": {
              "type": "string"
            },
            "text/plain": [
              "'325969'"
            ]
          },
          "metadata": {
            "tags": []
          },
          "execution_count": 17
        }
      ]
    },
    {
      "cell_type": "code",
      "metadata": {
        "id": "y7WqTcC328ML"
      },
      "source": [
        "img = mpimg.imread(IMG_PATH + \"325969\".zfill(12) + '.jpg')"
      ],
      "execution_count": null,
      "outputs": []
    },
    {
      "cell_type": "markdown",
      "metadata": {
        "id": "F-f4BEcDgeVC"
      },
      "source": [
        "# Init model (Clip)"
      ]
    },
    {
      "cell_type": "code",
      "metadata": {
        "colab": {
          "base_uri": "https://localhost:8080/"
        },
        "id": "n3jcG0Bugh9R",
        "outputId": "e9ba6f0a-43da-4d21-cdd8-c7f2e239ed8f"
      },
      "source": [
        "device = \"cuda\" if torch.cuda.is_available() else \"cpu\"\n",
        "model, preprocess = clip.load(\"ViT-B/32\", device=device)"
      ],
      "execution_count": null,
      "outputs": [
        {
          "output_type": "stream",
          "text": [
            "100%|████████████████████████████████████████| 354M/354M [00:02<00:00, 124MiB/s]\n"
          ],
          "name": "stderr"
        }
      ]
    },
    {
      "cell_type": "markdown",
      "metadata": {
        "id": "iLbRqaYxzbr7"
      },
      "source": [
        "# Create label dictionary"
      ]
    },
    {
      "cell_type": "code",
      "metadata": {
        "colab": {
          "base_uri": "https://localhost:8080/"
        },
        "id": "Emz85fNX0Vif",
        "outputId": "cd7ba594-9663-475d-fc14-c732969ec9d8"
      },
      "source": [
        "unique_labels = range(91)\n",
        "print(len(unique_labels))"
      ],
      "execution_count": null,
      "outputs": [
        {
          "output_type": "stream",
          "text": [
            "91\n"
          ],
          "name": "stdout"
        }
      ]
    },
    {
      "cell_type": "code",
      "metadata": {
        "id": "0TubS-RLzeVM"
      },
      "source": [
        "label_dictionary = {la:[] for la in unique_labels}\n",
        "dict_keys = list(labels)\n",
        "for i in dict_keys:\n",
        "    for patch in labels[i]:\n",
        "      label_dictionary[patch['category_id']].append(i)"
      ],
      "execution_count": null,
      "outputs": []
    },
    {
      "cell_type": "markdown",
      "metadata": {
        "id": "xP6ftkDCvKul"
      },
      "source": [
        "# Weight Imprinting models on train data embeddings"
      ]
    },
    {
      "cell_type": "markdown",
      "metadata": {
        "id": "fJIGo_R86GQi"
      },
      "source": [
        "## Function definitions"
      ]
    },
    {
      "cell_type": "code",
      "metadata": {
        "id": "M1rYFOJQNnhd"
      },
      "source": [
        "def generate_patch_list(indices, episode):\n",
        "  patches_res = []\n",
        "  for i in indices:\n",
        "    img = mpimg.imread(IMG_PATH + i.zfill(12) + '.jpg')\n",
        "    # fig, ax = plt.subplots()\n",
        "    # ax.imshow(img)\n",
        "    for j in labels[i]:\n",
        "      if j['category_id'] in selected_labels_per_episode[episode]:\n",
        "        x = int(j['bbox'][0])\n",
        "        x1 = int(j['bbox'][0] + j['bbox'][2])\n",
        "        y = int(j['bbox'][1])\n",
        "        y1 = int(j['bbox'][1] + j['bbox'][3])\n",
        "        # rect = patches.Rectangle((j['bbox'][0], j['bbox'][1]), j['bbox'][2], j['bbox'][3], linewidth=1, edgecolor='r', facecolor='none')\n",
        "        # ax.add_patch(rect)\n",
        "        patches_res.append(img[y:y1, x:x1, :])\n",
        "  return patches_res"
      ],
      "execution_count": null,
      "outputs": []
    },
    {
      "cell_type": "code",
      "metadata": {
        "id": "fmwNhL0G-MS_"
      },
      "source": [
        "def encode_patch(patches):\n",
        "  embeddings = []\n",
        "  for p in patches:\n",
        "    # print(img.shape)\n",
        "    pil_img = Image.fromarray(p)\n",
        "    preproc_img = preprocess(pil_img).unsqueeze(0).to(device)\n",
        "    with torch.no_grad():\n",
        "      _emb = model.encode_image(preproc_img)  \n",
        "    embeddings.append(_emb.cpu().detach().numpy()[0])\n",
        "    del _emb\n",
        "    del pil_img\n",
        "    del preproc_img\n",
        "    #embeddings.append(np.array(emb_per_img))\n",
        "    #del emb_per_img\n",
        "  return np.array(embeddings)"
      ],
      "execution_count": null,
      "outputs": []
    },
    {
      "cell_type": "code",
      "metadata": {
        "id": "YeU4N5MBSjj-"
      },
      "source": [
        "# for full images we just need the index of the image eg '34'\n",
        "def encode_full_img(indices):\n",
        "  embeddings = []\n",
        "  for i in indices:\n",
        "    img = mpimg.imread(IMG_PATH + i.zfill(12) + '.jpg')\n",
        "    pil_img = Image.fromarray(img)\n",
        "    preproc_img = preprocess(pil_img).unsqueeze(0).to(device)\n",
        "    with torch.no_grad():\n",
        "      _emb = model.encode_image(preproc_img)  \n",
        "    embeddings.append(_emb.cpu().detach().numpy()[0])\n",
        "    del _emb\n",
        "    del pil_img\n",
        "    del preproc_img\n",
        "    #embeddings.append(np.array(emb_per_img))\n",
        "    #del emb_per_img\n",
        "  return np.array(embeddings)\n",
        "\n"
      ],
      "execution_count": null,
      "outputs": []
    },
    {
      "cell_type": "code",
      "metadata": {
        "id": "A56l3kYbV6XU"
      },
      "source": [
        "def encode_aug_img(images):\n",
        "  images *= 255\n",
        "  images = images.astype('uint8')\n",
        "  embeddings = []\n",
        "  for img in images:\n",
        "    pil_img = Image.fromarray(img.astype('uint8'))\n",
        "    preproc_img = preprocess(pil_img).unsqueeze(0).to(device)\n",
        "    with torch.no_grad():\n",
        "      _emb = model.encode_image(preproc_img)  \n",
        "    embeddings.append(_emb.cpu().detach().numpy()[0])\n",
        "    del _emb\n",
        "    del pil_img\n",
        "    del preproc_img\n",
        "  #embeddings.append(np.array(emb_per_img))\n",
        "    #del emb_per_img\n",
        "  return np.array(embeddings)"
      ],
      "execution_count": null,
      "outputs": []
    },
    {
      "cell_type": "code",
      "metadata": {
        "id": "pv68q8TH6tvG"
      },
      "source": [
        "def start_progress_bar(bar_len):\n",
        "    widgets = [\n",
        "        ' [', \n",
        "        progressbar.Timer(format= 'elapsed time: %(elapsed)s'), \n",
        "        '] ', \n",
        "        progressbar.Bar('*'),' (', \n",
        "        progressbar.ETA(), ') ', \n",
        "        ]\n",
        "    pbar = progressbar.ProgressBar(\n",
        "        max_value=bar_len, widgets=widgets\n",
        "        ).start()\n",
        "    return pbar"
      ],
      "execution_count": null,
      "outputs": []
    },
    {
      "cell_type": "code",
      "metadata": {
        "id": "6OjvSlqJHXDZ"
      },
      "source": [
        "def run_train_loop( \n",
        "    train_indices, \n",
        "    eval_indices, \n",
        "    wi_y, \n",
        "    eval_y, \n",
        "    num_episodes, \n",
        "    num_ways,\n",
        "    verbose=True,\n",
        "    normalize=True,\n",
        "    train_epochs_loop=[5],\n",
        "    train_batch_size=5,\n",
        "    metrics=['hamming', 'jaccard', 'subset_accuracy', 'ap', 'map', 'c_f1', 'o_f1', 'c_precision', 'o_precision', 'c_recall', 'o_recall', 'classwise_accuracy', 'c_accuracy'],\n",
        "    threshold=0.72\n",
        "):\n",
        "    metrics_values = [{m:[] for m in metrics} for _ in range(len(train_epochs_loop)+1)]\n",
        "\n",
        "    if verbose:\n",
        "        pbar = start_progress_bar(num_episodes)\n",
        "\n",
        "    all_logits = []   #cc\n",
        "\n",
        "    for idx_ep in range(num_episodes):\n",
        "        wi_x = train_emb_reshaped[idx_ep]\n",
        "        eval_x = eval_emb_per_episode[idx_ep]\n",
        "\n",
        "        ep_logits = []  #cc\n",
        "\n",
        "        _wi_y = wi_y[idx_ep]\n",
        "        wi_y_ = []\n",
        "        for i in range(len(_wi_y)):\n",
        "          for j in range(num_augmentations+1):\n",
        "            wi_y_.append(_wi_y[i])\n",
        "        \n",
        "        if normalize:\n",
        "            wi_x = WeightImprintingClassifier.preprocess_input(wi_x)\n",
        "            eval_x = WeightImprintingClassifier.preprocess_input(eval_x)\n",
        "\n",
        "        wi_weights, label_mapping = WeightImprintingClassifier.get_imprinting_weights(\n",
        "            wi_x, wi_y_, False, True\n",
        "            )\n",
        "\n",
        "        wi_parameters = {\n",
        "            \"num_classes\": num_ways,\n",
        "            \"input_dims\": wi_x.shape[-1],\n",
        "            \"scale\": False,\n",
        "            \"dense_layer_weights\": wi_weights,\n",
        "            \"multi_label\": True\n",
        "        }\n",
        "\n",
        "        wi_cls = WeightImprintingClassifier(wi_parameters)\n",
        "\n",
        "        met = wi_cls.evaluate_multi_label_metrics(\n",
        "            eval_x, eval_y[idx_ep], label_mapping, threshold, metrics\n",
        "            )\n",
        "        for m in met:\n",
        "            metrics_values[0][m].append(met[m])\n",
        "        \n",
        "\n",
        "        for idx_tr_ep in range(len(train_epochs_loop)):\n",
        "            ep_y = wi_y_\n",
        "            rev_label_mapping = {label_mapping[val]:val for val in label_mapping}\n",
        "            train_y = np.zeros((len(ep_y), num_ways))\n",
        "            for idx_y, _y in enumerate(ep_y):\n",
        "                for l in _y:\n",
        "                    train_y[idx_y, rev_label_mapping[l]] = 1\n",
        "\n",
        "\n",
        "            wi_cls.train(wi_x, train_y, train_epochs_loop[idx_tr_ep], train_batch_size)\n",
        "\n",
        "            logits = wi_cls.predict_scores(eval_x).tolist()  #cc\n",
        "            ep_logits.append(logits)  #cc\n",
        "\n",
        "            met = wi_cls.evaluate_multi_label_metrics(\n",
        "                eval_x, eval_y[idx_ep], label_mapping, threshold, metrics\n",
        "                )\n",
        "            for m in met:\n",
        "                metrics_values[idx_tr_ep+1][m].append(met[m])\n",
        "\n",
        "        all_logits.append(ep_logits)  #cc\n",
        "        # _pred_y = wi_cls.predict_multi_label(eval_x, threshold)\n",
        "        # for j in range(len(_eval_y)):\n",
        "        #     print([label_mapping[p] for p in _pred_y[j]], \" vs \", _eval_y[j])\n",
        "\n",
        "        # met = wi_cls.evaluate_multi_label_metrics(\n",
        "        #     eval_x, eval_y[idx_ep], label_mapping, threshold, metrics\n",
        "        #     )\n",
        "        \n",
        "        # for m in met:\n",
        "        #     metrics_values[m].append(met[m])\n",
        "\n",
        "        del wi_x\n",
        "        del eval_x\n",
        "        del wi_cls\n",
        "\n",
        "        if verbose:\n",
        "            pbar.update(idx_ep+1)\n",
        "\n",
        "    return metrics_values, all_logits #cc"
      ],
      "execution_count": null,
      "outputs": []
    },
    {
      "cell_type": "code",
      "metadata": {
        "id": "b_p3xln4SB0V"
      },
      "source": [
        "def get_max_mean_jaccard_index_by_threshold(metrics_thresholds):\n",
        "    max_mean_jaccard = np.max([np.mean(mt['jaccard']) for mt in metrics_thresholds])\n",
        "    return max_mean_jaccard"
      ],
      "execution_count": null,
      "outputs": []
    },
    {
      "cell_type": "code",
      "metadata": {
        "id": "Z0QL9HbXSHcN"
      },
      "source": [
        "def get_max_mean_jaccard_index_with_threshold(metrics_thresholds):\n",
        "    max_mean_jaccard = np.max([np.mean(mt['jaccard']) for mt in metrics_thresholds])\n",
        "    threshold = np.argmax([np.mean(mt['jaccard']) for mt in metrics_thresholds])\n",
        "    return max_mean_jaccard, threshold"
      ],
      "execution_count": null,
      "outputs": []
    },
    {
      "cell_type": "code",
      "metadata": {
        "id": "yhZxggaNt_S3"
      },
      "source": [
        "def get_max_mean_f1_score_with_threshold(metrics_thresholds):\n",
        "    max_mean_jaccard = np.max([np.mean(mt['o_f1']) for mt in metrics_thresholds])\n",
        "    threshold = np.argmax([np.mean(mt['o_f1']) for mt in metrics_thresholds])\n",
        "    return max_mean_jaccard, threshold"
      ],
      "execution_count": null,
      "outputs": []
    },
    {
      "cell_type": "code",
      "metadata": {
        "id": "ksMueTe9SKwb"
      },
      "source": [
        "def get_mean_max_jaccard_index_by_episode(metrics_thresholds):\n",
        "    mean_max_jaccard = np.mean(np.max(np.array([mt['jaccard'] for mt in metrics_thresholds]), axis=0))\n",
        "    return mean_max_jaccard"
      ],
      "execution_count": null,
      "outputs": []
    },
    {
      "cell_type": "code",
      "metadata": {
        "id": "tfL4tkTDUyJh"
      },
      "source": [
        "def embed_augmented_imgs(image, num_augmentations, trivial=False):\n",
        "  if np.max(image) > 1:\n",
        "    image = image/255\n",
        "    \n",
        "  def augment_image(image, num_augmentations, trivial=False):\n",
        "      \"\"\" Perform SimCLR augmentations on the image\n",
        "      \"\"\"\n",
        "\n",
        "      augmented_images = [image]\n",
        "\n",
        "      def _run_filters(image):\n",
        "          width = image.shape[1]\n",
        "          height = image.shape[0]\n",
        "          image_aug = simclr_data_augmentations.random_crop_with_resize(\n",
        "              image,\n",
        "              height,\n",
        "              width\n",
        "              )\n",
        "          image_aug = tf.image.random_flip_left_right(image_aug)\n",
        "          image_aug = simclr_data_augmentations.random_color_jitter(image_aug)\n",
        "          image_aug = simclr_data_augmentations.random_blur(\n",
        "              image_aug,\n",
        "              height,\n",
        "              width\n",
        "              )\n",
        "          image_aug = tf.reshape(image_aug, [image.shape[0], image.shape[1], 3])\n",
        "          image_aug = tf.clip_by_value(image_aug, 0., 1.)\n",
        "\n",
        "          return image_aug.numpy()\n",
        "\n",
        "      for _ in range(num_augmentations):\n",
        "          # aug_image = augmentations(image=image)\n",
        "          if trivial:\n",
        "              aug_image = image\n",
        "          else:\n",
        "              try:\n",
        "                aug_image = _run_filters(image)\n",
        "              except:\n",
        "                stacked_img = np.stack((image,)*3, axis=-1)\n",
        "                plt.imshow(stacked_img)\n",
        "                augmented_images = [stacked_img]\n",
        "                aug_image = _run_filters(stacked_img)\n",
        "                print(stacked_img.shape)\n",
        "                print(aug_image.shape)\n",
        "                # for i in aug_image:\n",
        "                #   plt.imshow(i)\n",
        "                #   plt.show()\n",
        "\n",
        "          augmented_images.append(aug_image)\n",
        "\n",
        "      augmented_images = np.stack(augmented_images)\n",
        "      return augmented_images\n",
        "\n",
        "  if num_augmentations > 0:\n",
        "      aug_images = augment_image(image, num_augmentations, trivial)\n",
        "  else:\n",
        "      aug_images = np.array([image])\n",
        "\n",
        "  embeddings = encode_aug_img(aug_images)\n",
        "  return embeddings"
      ],
      "execution_count": null,
      "outputs": []
    },
    {
      "cell_type": "code",
      "metadata": {
        "id": "XL_uwgcYPvJX"
      },
      "source": [
        " #cc whole block\n",
        "def save_results(num_ways, num_shots, num_aug, trivial, clip_metrics_thresholds, logits_thresholds):\n",
        "  if trivial:\n",
        "  #cc\n",
        "    results_filename = \"new_metrics\"+dataset_name+ \"_Full_Full\" +\"_\"+str(num_ways)+\"w\"+str(num_shot)+\"s\"+str(num_augmentations)+\"a_trivial_metrics_with_logits.json\"\n",
        "  else:\n",
        "    #cc\n",
        "    results_filename = \"new_metrics\"+dataset_name+ \"_Full_Full\" +\"_\"+str(num_ways)+\"w\"+str(num_shot)+\"s\"+str(num_augmentations)+\"a_metrics_with_logits.json\"\n",
        "\n",
        "  with open(results_filename, 'w') as f:\n",
        "    #cc\n",
        "    results = {'metrics': clip_metrics_thresholds,\n",
        "                \"logits\": logits_thresholds,\n",
        "                }\n",
        "    json.dump(results, f)\n",
        "  auth.authenticate_user()\n",
        "  gauth = GoogleAuth()\n",
        "  gauth.credentials = GoogleCredentials.get_application_default()\n",
        "  drive = GoogleDrive(gauth)\n",
        "  delete_file_by_name(drive, folderid, results_filename)\n",
        "  save_to_drive(drive, folderid, results_filename)"
      ],
      "execution_count": null,
      "outputs": []
    },
    {
      "cell_type": "code",
      "metadata": {
        "id": "YKwjbQQiQZMe"
      },
      "source": [
        "def save_trends(num_ways, num_shot, num_augmentations, trivial, clip_metrics_thresholds, logits_thresholds):\n",
        "  # chenni change whole block\n",
        "  all_metrics = ['hamming', 'jaccard', 'subset_accuracy', 'map', 'c_f1', 'o_f1', 'c_precision', 'o_precision', 'c_recall', 'o_recall', 'c_accuracy']\n",
        "\n",
        "  f1_vals = []\n",
        "  f1_t_vals = []\n",
        "  jaccard_vals = []\n",
        "  jaccard_t_vals = []\n",
        "\n",
        "  final_dict = {}\n",
        "  for ind_metric in all_metrics:\n",
        "    vals = []\n",
        "    t_vals = []\n",
        "    final_array = []\n",
        "    for mt in clip_metrics_thresholds:\n",
        "      if ind_metric == \"hamming\":\n",
        "        ret_val, ret_t_val = get_best_metric_and_threshold(mt,ind_metric,thresholds,\"min\")\n",
        "      else:\n",
        "        ret_val, ret_t_val = get_best_metric_and_threshold(mt,ind_metric,thresholds,\"max\")\n",
        "      vals.append(ret_val)\n",
        "      t_vals.append(ret_t_val)\n",
        "\n",
        "    final_array.append(vals)\n",
        "    final_array.append(t_vals)\n",
        "    final_dict[ind_metric] = final_array\n",
        "\n",
        "  if trivial:\n",
        "      graph_filename = \"new_metrics\"+dataset_name+ \"_Full_Full\"+\"_\"+str(num_ways)+\"w\"+str(num_shot)+\"s\"+str(num_augmentations)+\"a_trivial_metrics_graphs.json\"\n",
        "  else:\n",
        "      graph_filename = \"new_metrics\"+dataset_name+ \"_Full_Full\"+\"_\"+str(num_ways)+\"w\"+str(num_shot)+\"s\"+str(num_augmentations)+\"a_metrics_graphs.json\"\n",
        "\n",
        "  with open(graph_filename, 'w') as f:\n",
        "          json.dump(final_dict, f)\n",
        "\n",
        "  auth.authenticate_user()\n",
        "  gauth = GoogleAuth()\n",
        "  gauth.credentials = GoogleCredentials.get_application_default()\n",
        "  drive = GoogleDrive(gauth)\n",
        "  delete_file_by_name(drive, folderid, graph_filename)\n",
        "  save_to_drive(drive, folderid, graph_filename)"
      ],
      "execution_count": null,
      "outputs": []
    },
    {
      "cell_type": "code",
      "metadata": {
        "id": "mehg_2IzReK4"
      },
      "source": [
        "# chenni change whole block\n",
        "def get_best_metric_and_threshold(metrics_thresholds, metric_name, thresholds, optimal='max'):\n",
        "    if optimal=='max':\n",
        "        opt_value = np.max([np.mean(mt[metric_name]) for mt in metrics_thresholds])\n",
        "        opt_threshold = thresholds[np.argmax([np.mean(mt[metric_name]) for mt in metrics_thresholds])]\n",
        "    if optimal=='min':\n",
        "        opt_value = np.min([np.mean(mt[metric_name]) for mt in metrics_thresholds])\n",
        "        opt_threshold = thresholds[np.argmin([np.mean(mt[metric_name]) for mt in metrics_thresholds])]\n",
        "\n",
        "    return opt_value, opt_threshold"
      ],
      "execution_count": null,
      "outputs": []
    },
    {
      "cell_type": "markdown",
      "metadata": {
        "id": "hHs46yaOItTW"
      },
      "source": [
        "## Setting multiple thresholds"
      ]
    },
    {
      "cell_type": "code",
      "metadata": {
        "colab": {
          "base_uri": "https://localhost:8080/"
        },
        "id": "vlo2bBCAIyQj",
        "outputId": "4c878820-8710-4227-9080-e5e32173d19f"
      },
      "source": [
        "thresholds = np.arange(0.4, 0.72, 0.01)\n",
        "thresholds"
      ],
      "execution_count": null,
      "outputs": [
        {
          "output_type": "execute_result",
          "data": {
            "text/plain": [
              "array([0.4 , 0.41, 0.42, 0.43, 0.44, 0.45, 0.46, 0.47, 0.48, 0.49, 0.5 ,\n",
              "       0.51, 0.52, 0.53, 0.54, 0.55, 0.56, 0.57, 0.58, 0.59, 0.6 , 0.61,\n",
              "       0.62, 0.63, 0.64, 0.65, 0.66, 0.67, 0.68, 0.69, 0.7 , 0.71])"
            ]
          },
          "metadata": {
            "tags": []
          },
          "execution_count": 37
        }
      ]
    },
    {
      "cell_type": "code",
      "metadata": {
        "id": "Y1mgLWl5N0hY"
      },
      "source": [
        "def plot_metrics_by_threshold(\n",
        "    metrics_thresholds, \n",
        "    thresholds, \n",
        "    metrics=['hamming', 'jaccard', 'subset_accuracy', 'ap', 'map', 'c_f1', 'o_f1', 'c_precision', 'o_precision', 'c_recall', 'o_recall', 'classwise_accuracy', 'c_accuracy'],\n",
        "    title_suffix=\"\"\n",
        "):\n",
        "    legend = []\n",
        "    fig = plt.figure(figsize=(7,7))\n",
        "    plt.grid(True)\n",
        "\n",
        "    if 'jaccard' in metrics:\n",
        "        mean_jaccard_threshold = [np.mean(mt['jaccard']) for mt in metrics_thresholds]\n",
        "        opt_threshold_jaccard = thresholds[np.argmax(mean_jaccard_threshold)]\n",
        "        plt.plot(thresholds, mean_jaccard_threshold, c='blue')\n",
        "        plt.axvline(opt_threshold_jaccard, ls=\"--\", c='blue')\n",
        "        legend.append(\"Jaccard Index\")\n",
        "        legend.append(opt_threshold_jaccard)\n",
        "    if 'hamming' in metrics:\n",
        "        mean_hamming_threshold = [np.mean(mt['hamming']) for mt in metrics_thresholds]\n",
        "        opt_threshold_hamming = thresholds[np.argmin(mean_hamming_threshold)]\n",
        "        plt.plot(thresholds, mean_hamming_threshold, c='green')\n",
        "        plt.axvline(opt_threshold_hamming, ls=\"--\", c='green')\n",
        "        legend.append(\"Hamming Score\")\n",
        "        legend.append(opt_threshold_hamming)\n",
        "    if 'map' in metrics:\n",
        "        mean_hamming_threshold = [np.mean(mt['map']) for mt in metrics_thresholds]\n",
        "        opt_threshold_hamming = thresholds[np.argmin(mean_hamming_threshold)]\n",
        "        plt.plot(thresholds, mean_hamming_threshold, c='red')\n",
        "        plt.axvline(opt_threshold_hamming, ls=\"--\", c='red')\n",
        "        legend.append(\"mAP Score\")\n",
        "        legend.append(opt_threshold_hamming)\n",
        "    if 'o_f1' in metrics:\n",
        "        mean_hamming_threshold = [np.mean(mt['o_f1']) for mt in metrics_thresholds]\n",
        "        opt_threshold_hamming = thresholds[np.argmin(mean_hamming_threshold)]\n",
        "        plt.plot(thresholds, mean_hamming_threshold, c='yellow')\n",
        "        plt.axvline(opt_threshold_hamming, ls=\"--\", c='yellow')\n",
        "        legend.append(\"OF1\")\n",
        "        legend.append(opt_threshold_hamming)\n",
        "    if 'c_f1' in metrics:\n",
        "        mean_hamming_threshold = [np.mean(mt['c_f1']) for mt in metrics_thresholds]\n",
        "        opt_threshold_hamming = thresholds[np.argmin(mean_hamming_threshold)]\n",
        "        plt.plot(thresholds, mean_hamming_threshold, c='orange')\n",
        "        plt.axvline(opt_threshold_hamming, ls=\"--\", c='orange')\n",
        "        legend.append(\"CF1\")\n",
        "        legend.append(opt_threshold_hamming)\n",
        "    if 'o_precision' in metrics:\n",
        "        mean_hamming_threshold = [np.mean(mt['o_precision']) for mt in metrics_thresholds]\n",
        "        opt_threshold_hamming = thresholds[np.argmin(mean_hamming_threshold)]\n",
        "        plt.plot(thresholds, mean_hamming_threshold, c='purple')\n",
        "        plt.axvline(opt_threshold_hamming, ls=\"--\", c='purple')\n",
        "        legend.append(\"OP\")\n",
        "        legend.append(opt_threshold_hamming)\n",
        "    if 'c_precision' in metrics:\n",
        "        mean_hamming_threshold = [np.mean(mt['c_precision']) for mt in metrics_thresholds]\n",
        "        opt_threshold_hamming = thresholds[np.argmin(mean_hamming_threshold)]\n",
        "        plt.plot(thresholds, mean_hamming_threshold, c='cyan')\n",
        "        plt.axvline(opt_threshold_hamming, ls=\"--\", c='cyan')\n",
        "        legend.append(\"CP\")\n",
        "        legend.append(opt_threshold_hamming)\n",
        "    if 'o_recall' in metrics:\n",
        "        mean_hamming_threshold = [np.mean(mt['o_recall']) for mt in metrics_thresholds]\n",
        "        opt_threshold_hamming = thresholds[np.argmin(mean_hamming_threshold)]\n",
        "        plt.plot(thresholds, mean_hamming_threshold, c='brown')\n",
        "        plt.axvline(opt_threshold_hamming, ls=\"--\", c='brown')\n",
        "        legend.append(\"OR\")\n",
        "        legend.append(opt_threshold_hamming)\n",
        "    if 'c_precision' in metrics:\n",
        "        mean_hamming_threshold = [np.mean(mt['c_precision']) for mt in metrics_thresholds]\n",
        "        opt_threshold_hamming = thresholds[np.argmin(mean_hamming_threshold)]\n",
        "        plt.plot(thresholds, mean_hamming_threshold, c='pink')\n",
        "        plt.axvline(opt_threshold_hamming, ls=\"--\", c='pink')\n",
        "        legend.append(\"CR\")\n",
        "        legend.append(opt_threshold_hamming)\n",
        "    if 'c_accuracy' in metrics:\n",
        "        mean_hamming_threshold = [np.mean(mt['c_accuracy']) for mt in metrics_thresholds]\n",
        "        opt_threshold_hamming = thresholds[np.argmin(mean_hamming_threshold)]\n",
        "        plt.plot(thresholds, mean_hamming_threshold, c='maroon')\n",
        "        plt.axvline(opt_threshold_hamming, ls=\"--\", c='maroon')\n",
        "        legend.append(\"CACC\")\n",
        "        legend.append(opt_threshold_hamming)\n",
        "    \n",
        "    \n",
        "    \n",
        "    plt.xlabel('Threshold')\n",
        "    plt.ylabel('Value')\n",
        "    plt.legend(legend)\n",
        "    plt.title(title_suffix+\" Multi label metrics by threshold\")\n",
        "    plt.show()\n",
        "   "
      ],
      "execution_count": null,
      "outputs": []
    },
    {
      "cell_type": "markdown",
      "metadata": {
        "id": "g8CNr6I4rU5d"
      },
      "source": [
        "# 5 way 5 shot"
      ]
    },
    {
      "cell_type": "markdown",
      "metadata": {
        "id": "g73bz0lqrU5e"
      },
      "source": [
        "## Picking indices"
      ]
    },
    {
      "cell_type": "code",
      "metadata": {
        "id": "Fm6j-e0brU5f"
      },
      "source": [
        "def prepare_indices(num_ways, num_shot, label_dictionary, num_eval= 15):\n",
        "  eval_indices = []\n",
        "  train_indices = []\n",
        "  wi_y = []\n",
        "  eval_y = []\n",
        "  shuffle = False\n",
        "  sort = True\n",
        "  num_episodes = 10\n",
        "  selected_labels_per_episode = []\n",
        "\n",
        "  _label_dictionary = {la:label_dictionary[la] for la in label_dictionary if len(label_dictionary[la]) >= (num_shot+num_eval)}\n",
        "  unique_labels = list(_label_dictionary.keys())\n",
        "\n",
        "  pbar = start_progress_bar(num_episodes)\n",
        "\n",
        "  for s in range(num_episodes):\n",
        "      # Setting random seed for replicability\n",
        "      np.random.seed(s)\n",
        "\n",
        "      _train_indices = []\n",
        "      _eval_indices = []\n",
        "\n",
        "      selected_labels = np.random.choice(unique_labels, size=num_ways, replace=False)\n",
        "      selected_labels_per_episode.append(selected_labels)\n",
        "      for la in selected_labels:\n",
        "          la_indices = _label_dictionary[la]\n",
        "          # select = np.random.choice(la_indices, size = num_shot+num_eval, replace=False)\n",
        "          # tr_idx = list(select[:num_shot])\n",
        "          # ev_idx = list(select[num_shot:])\n",
        "\n",
        "          tr_idx = []\n",
        "          ev_idx = []\n",
        "          while len(tr_idx) < num_shot:\n",
        "              idx = np.random.choice(la_indices)\n",
        "              img = mpimg.imread(IMG_PATH + idx.zfill(12) + '.jpg')\n",
        "              if img.ndim != 3:\n",
        "                continue\n",
        "              if idx not in _train_indices and idx not in _eval_indices and idx not in tr_idx:\n",
        "                  tr_idx.append(idx)\n",
        "          while len(ev_idx) < num_eval:\n",
        "              idx = np.random.choice(la_indices)\n",
        "              img = mpimg.imread(IMG_PATH + idx.zfill(12) + '.jpg')\n",
        "              if img.ndim != 3:\n",
        "                continue\n",
        "              if idx not in _train_indices and idx not in _eval_indices and idx not in tr_idx and idx not in ev_idx:\n",
        "                  ev_idx.append(idx)\n",
        "\n",
        "          _train_indices = _train_indices + tr_idx\n",
        "          _eval_indices = _eval_indices + ev_idx\n",
        "\n",
        "      if shuffle:\n",
        "          np.random.shuffle(_train_indices)\n",
        "          np.random.shuffle(_eval_indices)\n",
        "\n",
        "      # if sort:\n",
        "      #   _train_indices.sort()\n",
        "      #   _eval_indices.sort()\n",
        "\n",
        "      train_indices.append(_train_indices)\n",
        "      eval_indices.append(_eval_indices)\n",
        "\n",
        "      _wi_y = []\n",
        "      for idx in _train_indices:\n",
        "          la = labels[idx]\n",
        "          _pa = set()\n",
        "          for patch in la:\n",
        "            if patch['category_id'] in selected_labels:\n",
        "              _pa.add(patch['category_id'])\n",
        "          _wi_y.append(list(_pa))\n",
        "          del _pa\n",
        "\n",
        "      _eval_y = []\n",
        "      for idx in _eval_indices:\n",
        "          la = labels[idx]\n",
        "          _p = set()\n",
        "          for patch in la:\n",
        "            if patch['category_id'] in selected_labels:\n",
        "              _p.add(patch['category_id'])\n",
        "          _eval_y.append(list(_p))\n",
        "          del _p\n",
        "\n",
        "      wi_y.append(_wi_y)\n",
        "      eval_y.append(_eval_y)\n",
        "\n",
        "      pbar.update(s+1)\n",
        "  return train_indices, eval_indices, wi_y, eval_y"
      ],
      "execution_count": null,
      "outputs": []
    },
    {
      "cell_type": "markdown",
      "metadata": {
        "id": "lLW-8vrbrU5f"
      },
      "source": [
        "## CLIP"
      ]
    },
    {
      "cell_type": "code",
      "metadata": {
        "id": "BcBzzmWqP20K"
      },
      "source": [
        "num_episodes = 10"
      ],
      "execution_count": null,
      "outputs": []
    },
    {
      "cell_type": "markdown",
      "metadata": {
        "id": "DIToiuDLS8n_"
      },
      "source": [
        "###5w1s"
      ]
    },
    {
      "cell_type": "code",
      "metadata": {
        "id": "8HxyrLidS8n_",
        "colab": {
          "base_uri": "https://localhost:8080/"
        },
        "outputId": "d6f1ef02-1250-4f4d-a0a6-d445745240e2"
      },
      "source": [
        "num_ways = 5\n",
        "num_shot = 1\n",
        "train_indices, eval_indices, wi_y, eval_y = prepare_indices(num_ways, num_shot, label_dictionary)"
      ],
      "execution_count": null,
      "outputs": [
        {
          "output_type": "stream",
          "text": [
            " [elapsed time: 0:03:56] |**********************************| (ETA:  00:00:00) "
          ],
          "name": "stderr"
        }
      ]
    },
    {
      "cell_type": "code",
      "metadata": {
        "colab": {
          "base_uri": "https://localhost:8080/"
        },
        "id": "Ij70E4hBS8n_",
        "outputId": "016ef849-8955-4470-9c33-65d72519727f"
      },
      "source": [
        "num_augmentations = 10\n",
        "Trivial = True\n",
        "train_emb_per_episode = []\n",
        "pbar = start_progress_bar(num_episodes)\n",
        "for i in range(num_episodes):\n",
        "  emb_per_img = []\n",
        "  for j in train_indices[i]:\n",
        "    img = mpimg.imread(IMG_PATH + j.zfill(12) + '.jpg')\n",
        "    emb = embed_augmented_imgs(img, num_augmentations, trivial=Trivial)\n",
        "    emb_per_img.append(emb)\n",
        "  train_emb_per_episode.append(np.array(emb_per_img))\n",
        "  del emb_per_img\n",
        "  del emb\n",
        "  pbar.update(i+1)"
      ],
      "execution_count": null,
      "outputs": [
        {
          "output_type": "stream",
          "text": [
            " [elapsed time: 0:00:14] |**********************************| (ETA:  00:00:00) "
          ],
          "name": "stderr"
        }
      ]
    },
    {
      "cell_type": "code",
      "metadata": {
        "id": "rBXuLklZS8oA"
      },
      "source": [
        "train_emb_reshaped = []\n",
        "for i in range(num_episodes):\n",
        "  train_emb_reshaped.append(train_emb_per_episode[i].reshape(train_emb_per_episode[i].shape[0]*train_emb_per_episode[i].shape[1], 512))"
      ],
      "execution_count": null,
      "outputs": []
    },
    {
      "cell_type": "code",
      "metadata": {
        "id": "cJWrEs6cS8oB",
        "colab": {
          "base_uri": "https://localhost:8080/"
        },
        "outputId": "17c14ddd-2bc3-47ef-870f-117b6cf912bf"
      },
      "source": [
        "eval_emb_per_episode = []\n",
        "pbar = start_progress_bar(num_episodes)\n",
        "for i in range(num_episodes):\n",
        "  emb = encode_full_img(eval_indices[i])\n",
        "  eval_emb_per_episode.append(emb)\n",
        "  del emb\n",
        "  pbar.update(i+1)"
      ],
      "execution_count": null,
      "outputs": [
        {
          "output_type": "stream",
          "text": [
            " [elapsed time: 0:00:14] |**********************************| (ETA:  00:00:00) "
          ],
          "name": "stderr"
        }
      ]
    },
    {
      "cell_type": "code",
      "metadata": {
        "colab": {
          "base_uri": "https://localhost:8080/"
        },
        "id": "xbV3R2XOS8oB",
        "outputId": "1f8a59b2-1fcc-466e-fa24-055d32fa32e8"
      },
      "source": [
        "train_epochs_loop = [5 for _ in range(16)]\n",
        "logits_thresholds = []    #cc\n",
        "clip_metrics_thresholds = []\n",
        "\n",
        "pbar = start_progress_bar(len(thresholds))\n",
        "for i, t in enumerate(thresholds):\n",
        "    clip_metrics_t,all_logits = run_train_loop(#cc\n",
        "        train_indices,\n",
        "        eval_indices,\n",
        "        wi_y,\n",
        "        eval_y,\n",
        "        num_episodes,\n",
        "        num_ways,\n",
        "        threshold=t,\n",
        "        verbose=False,\n",
        "        train_epochs_loop=train_epochs_loop\n",
        "    )\n",
        "    clip_metrics_thresholds.append(clip_metrics_t)\n",
        "    logits_thresholds.append(all_logits)#cc\n",
        "    pbar.update(i+1)"
      ],
      "execution_count": null,
      "outputs": [
        {
          "output_type": "stream",
          "text": [
            " [elapsed time: 0:19:44] |**********************************| (ETA:  00:00:00) "
          ],
          "name": "stderr"
        }
      ]
    },
    {
      "cell_type": "code",
      "metadata": {
        "id": "8cxQe0naS8oB",
        "colab": {
          "base_uri": "https://localhost:8080/"
        },
        "outputId": "3888e9ec-b230-460c-cb1b-5c89060f6654"
      },
      "source": [
        "save_results(num_ways, num_shot, num_augmentations, Trivial, clip_metrics_thresholds, logits_thresholds)\n",
        "save_trends(num_ways, num_shot, num_augmentations, Trivial, clip_metrics_thresholds, logits_thresholds)"
      ],
      "execution_count": null,
      "outputs": [
        {
          "output_type": "stream",
          "text": [
            "Uploaded new_metricsCoco_Full_Full_5w1s10a_trivial_metrics_with_logits.json to https://drive.google.com/drive/u/1/folders/11p_iQPU9rMy6SNE_uWeHjRKXyj8LszZb\n",
            "Uploaded new_metricsCoco_Full_Full_5w1s10a_trivial_metrics_graphs.json to https://drive.google.com/drive/u/1/folders/11p_iQPU9rMy6SNE_uWeHjRKXyj8LszZb\n"
          ],
          "name": "stdout"
        }
      ]
    },
    {
      "cell_type": "code",
      "metadata": {
        "id": "LImJrKlQS8oB",
        "colab": {
          "base_uri": "https://localhost:8080/",
          "height": 295
        },
        "outputId": "4eecdc0f-21fd-4821-ecf8-3587c8b312ed"
      },
      "source": [
        "max_mean_vals = []\n",
        "threshold_vals = []\n",
        "x_vals = [np.sum(train_epochs_loop[:i+1]) for i in range(len(train_epochs_loop))]\n",
        "for idx_tr_ep in range(len(train_epochs_loop)):\n",
        "  mt = []\n",
        "  for idx_t in range(len(clip_metrics_thresholds)):\n",
        "    mt.append(clip_metrics_thresholds[idx_t][idx_tr_ep])\n",
        "\n",
        "  mmv, t = get_max_mean_jaccard_index_with_threshold(mt)\n",
        "  max_mean_vals.append(mmv)\n",
        "  threshold_vals.append(thresholds[t])\n",
        "\n",
        "plt.plot(x_vals, max_mean_vals)\n",
        "plt.title(\"Jaccard index vs training epochs for {} way {} shot on {} with CLIP\".format(num_ways, num_shot, dataset_name))\n",
        "plt.xlabel(\"No. of training epochs\")\n",
        "plt.ylabel(\"Jaccard Index\")\n",
        "# plt.xticks(x_vals, x_vals)\n",
        "# plt.ylim([0, np.max(max_mean_vals)])\n",
        "\n",
        "plt.show()"
      ],
      "execution_count": null,
      "outputs": [
        {
          "output_type": "display_data",
          "data": {
            "image/png": "[encoded data removed]",
            "text/plain": [
              "<Figure size 432x288 with 1 Axes>"
            ]
          },
          "metadata": {
            "tags": [],
            "needs_background": "light"
          }
        }
      ]
    },
    {
      "cell_type": "code",
      "metadata": {
        "id": "fDCONLFCS8oC",
        "colab": {
          "base_uri": "https://localhost:8080/",
          "height": 312
        },
        "outputId": "c1d9bcad-2645-4a3a-be12-e239eb84b572"
      },
      "source": [
        "max_mean_vals = []\n",
        "threshold_vals = []\n",
        "x_vals = [np.sum(train_epochs_loop[:i+1]) for i in range(len(train_epochs_loop))]\n",
        "for idx_tr_ep in range(len(train_epochs_loop)):\n",
        "  mt = []\n",
        "  for idx_t in range(len(clip_metrics_thresholds)):\n",
        "    mt.append(clip_metrics_thresholds[idx_t][idx_tr_ep])\n",
        "\n",
        "  mmv, t = get_max_mean_f1_score_with_threshold(mt)\n",
        "  max_mean_vals.append(mmv)\n",
        "  threshold_vals.append(thresholds[t])\n",
        "\n",
        "plt.plot(x_vals, max_mean_vals)\n",
        "plt.title(\"F1 Score vs training epochs for {} way {} shot on {} with CLIP\".format(num_ways, num_shot, dataset_name))\n",
        "plt.xlabel(\"No. of training epochs\")\n",
        "plt.ylabel(\"F1 Score\")\n",
        "# plt.xticks(x_vals, x_vals)\n",
        "# plt.ylim([0, np.max(max_mean_vals)])\n",
        "\n",
        "plt.show()\n",
        "\n",
        "print(\"Best f1 score = {} at epoch = {}\".format(max(max_mean_vals), x_vals[np.argmax(max_mean_vals)]))"
      ],
      "execution_count": null,
      "outputs": [
        {
          "output_type": "display_data",
          "data": {
            "image/png": "[encoded data removed]",
            "text/plain": [
              "<Figure size 432x288 with 1 Axes>"
            ]
          },
          "metadata": {
            "tags": [],
            "needs_background": "light"
          }
        },
        {
          "output_type": "stream",
          "text": [
            "Best f1 score = 0.6292620126751781 at epoch = 15\n"
          ],
          "name": "stdout"
        }
      ]
    },
    {
      "cell_type": "code",
      "metadata": {
        "id": "Z6xgk8fwS8oC",
        "colab": {
          "base_uri": "https://localhost:8080/",
          "height": 295
        },
        "outputId": "bc946e8f-7208-422b-9553-c855f7b413d7"
      },
      "source": [
        "plt.plot(x_vals, threshold_vals)\n",
        "plt.title(\"Threshold vs training epochs for {} way {} shot on {} with CLIP\".format(num_ways, num_shot, dataset_name))\n",
        "plt.xlabel(\"No. of training epochs\")\n",
        "plt.ylabel(\"Threshold\")\n",
        "plt.xticks(x_vals, x_vals)\n",
        "# plt.ylim([0, np.max(max_mean_vals)])\n",
        "\n",
        "plt.show()"
      ],
      "execution_count": null,
      "outputs": [
        {
          "output_type": "display_data",
          "data": {
            "image/png": "[encoded data removed]",
            "text/plain": [
              "<Figure size 432x288 with 1 Axes>"
            ]
          },
          "metadata": {
            "tags": [],
            "needs_background": "light"
          }
        }
      ]
    },
    {
      "cell_type": "code",
      "metadata": {
        "id": "g-1vnM6pS8oC"
      },
      "source": [
        "# for i in range(0, 21, 5):\n",
        "#   plot_metrics_by_threshold([cmt[i] for cmt in clip_metrics_thresholds], thresholds, title_suffix=dataset_name + \" Clip {} way {} shot Train epochs = {}\\n\".format(num_ways, num_shot, i))"
      ],
      "execution_count": null,
      "outputs": []
    },
    {
      "cell_type": "code",
      "metadata": {
        "colab": {
          "base_uri": "https://localhost:8080/",
          "height": 312
        },
        "id": "FHOEloaqxCY5",
        "outputId": "147bd564-4c4f-4eb9-bf79-45705ee0fcb4"
      },
      "source": [
        "max_mean_vals = []\n",
        "threshold_vals = []\n",
        "x_vals = [np.sum(train_epochs_loop[:i+1]) for i in range(len(train_epochs_loop))]\n",
        "for idx_tr_ep in range(len(train_epochs_loop)):\n",
        "  mt = []\n",
        "  for idx_t in range(len(clip_metrics_thresholds)):\n",
        "    mt.append(clip_metrics_thresholds[idx_t][idx_tr_ep])\n",
        "\n",
        "  mmv, t = get_max_mean_f1_score_with_threshold(mt)\n",
        "  max_mean_vals.append(mmv)\n",
        "  threshold_vals.append(thresholds[t])\n",
        "\n",
        "plt.plot(x_vals, max_mean_vals)\n",
        "plt.title(\"F1 Score vs training epochs for {} way {} shot on {} with CLIP\".format(num_ways, num_shot, dataset_name))\n",
        "plt.xlabel(\"No. of training epochs\")\n",
        "plt.ylabel(\"F1 Score\")\n",
        "# plt.xticks(x_vals, x_vals)\n",
        "# plt.ylim([0, np.max(max_mean_vals)])\n",
        "\n",
        "plt.show()\n",
        "\n",
        "print(\"Best f1 score = {} at epoch = {}\".format(max(max_mean_vals), x_vals[np.argmax(max_mean_vals)]))"
      ],
      "execution_count": null,
      "outputs": [
        {
          "output_type": "display_data",
          "data": {
            "image/png": "[encoded data removed]",
            "text/plain": [
              "<Figure size 432x288 with 1 Axes>"
            ]
          },
          "metadata": {
            "tags": [],
            "needs_background": "light"
          }
        },
        {
          "output_type": "stream",
          "text": [
            "Best f1 score = 0.6292620126751781 at epoch = 15\n"
          ],
          "name": "stdout"
        }
      ]
    },
    {
      "cell_type": "markdown",
      "metadata": {
        "id": "Dd3gA1UyJIIM"
      },
      "source": [
        "###5w5s"
      ]
    },
    {
      "cell_type": "code",
      "metadata": {
        "id": "Q1G8QjnhQKWS"
      },
      "source": [
        "num_ways = 5\n",
        "num_shot = 5\n",
        "train_indices, eval_indices, wi_y, eval_y = prepare_indices(num_ways, num_shot, label_dictionary)"
      ],
      "execution_count": null,
      "outputs": []
    },
    {
      "cell_type": "code",
      "metadata": {
        "id": "V_Z7sa-EefOr"
      },
      "source": [
        "num_augmentations = 10\n",
        "Trivial = True\n",
        "train_emb_per_episode = []\n",
        "pbar = start_progress_bar(num_episodes)\n",
        "for i in range(num_episodes):\n",
        "  emb_per_img = []\n",
        "  for j in train_indices[i]:\n",
        "    img = mpimg.imread(IMG_PATH + j.zfill(12) + '.jpg')\n",
        "    emb = embed_augmented_imgs(img, num_augmentations, trivial=Trivial)\n",
        "    emb_per_img.append(emb)\n",
        "  train_emb_per_episode.append(np.array(emb_per_img))\n",
        "  del emb_per_img\n",
        "  del emb\n",
        "  pbar.update(i+1)"
      ],
      "execution_count": null,
      "outputs": []
    },
    {
      "cell_type": "code",
      "metadata": {
        "id": "WKsng-NSehPV"
      },
      "source": [
        "train_emb_reshaped = []\n",
        "for i in range(num_episodes):\n",
        "  train_emb_reshaped.append(train_emb_per_episode[i].reshape(train_emb_per_episode[i].shape[0]*train_emb_per_episode[i].shape[1], 512))"
      ],
      "execution_count": null,
      "outputs": []
    },
    {
      "cell_type": "code",
      "metadata": {
        "id": "hx2phF0DRLrm"
      },
      "source": [
        "eval_emb_per_episode = []\n",
        "pbar = start_progress_bar(num_episodes)\n",
        "for i in range(num_episodes):\n",
        "  emb = encode_full_img(eval_indices[i])\n",
        "  eval_emb_per_episode.append(emb)\n",
        "  del emb\n",
        "  pbar.update(i+1)"
      ],
      "execution_count": null,
      "outputs": []
    },
    {
      "cell_type": "code",
      "metadata": {
        "id": "ctUKmm_eJLYc"
      },
      "source": [
        "train_epochs_loop = [5 for _ in range(16)]\n",
        "logits_thresholds = []    #cc\n",
        "clip_metrics_thresholds = []\n",
        "\n",
        "pbar = start_progress_bar(len(thresholds))\n",
        "for i, t in enumerate(thresholds):\n",
        "    clip_metrics_t,all_logits = run_train_loop(#cc\n",
        "        train_indices,\n",
        "        eval_indices,\n",
        "        wi_y,\n",
        "        eval_y,\n",
        "        num_episodes,\n",
        "        num_ways,\n",
        "        threshold=t,\n",
        "        verbose=False,\n",
        "        train_epochs_loop=train_epochs_loop\n",
        "    )\n",
        "    clip_metrics_thresholds.append(clip_metrics_t)\n",
        "    logits_thresholds.append(all_logits)#cc\n",
        "    pbar.update(i+1)"
      ],
      "execution_count": null,
      "outputs": []
    },
    {
      "cell_type": "code",
      "metadata": {
        "id": "k4UbuCjDlrgs"
      },
      "source": [
        "save_results(num_ways, num_shot, num_augmentations, Trivial, clip_metrics_thresholds, logits_thresholds)\n",
        "save_trends(num_ways, num_shot, num_augmentations, Trivial, clip_metrics_thresholds, logits_thresholds)"
      ],
      "execution_count": null,
      "outputs": []
    },
    {
      "cell_type": "code",
      "metadata": {
        "id": "88kmwonPJa_h"
      },
      "source": [
        "max_mean_vals = []\n",
        "threshold_vals = []\n",
        "x_vals = [np.sum(train_epochs_loop[:i+1]) for i in range(len(train_epochs_loop))]\n",
        "for idx_tr_ep in range(len(train_epochs_loop)):\n",
        "  mt = []\n",
        "  for idx_t in range(len(clip_metrics_thresholds)):\n",
        "    mt.append(clip_metrics_thresholds[idx_t][idx_tr_ep])\n",
        "\n",
        "  mmv, t = get_max_mean_jaccard_index_with_threshold(mt)\n",
        "  max_mean_vals.append(mmv)\n",
        "  threshold_vals.append(thresholds[t])\n",
        "\n",
        "plt.plot(x_vals, max_mean_vals)\n",
        "plt.title(\"Jaccard index vs training epochs for {} way {} shot on {} with CLIP\".format(num_ways, num_shot, dataset_name))\n",
        "plt.xlabel(\"No. of training epochs\")\n",
        "plt.ylabel(\"Jaccard Index\")\n",
        "# plt.xticks(x_vals, x_vals)\n",
        "# plt.ylim([0, np.max(max_mean_vals)])\n",
        "\n",
        "plt.show()"
      ],
      "execution_count": null,
      "outputs": []
    },
    {
      "cell_type": "code",
      "metadata": {
        "id": "x-lpPWaSunsA"
      },
      "source": [
        "max_mean_vals = []\n",
        "threshold_vals = []\n",
        "x_vals = [np.sum(train_epochs_loop[:i+1]) for i in range(len(train_epochs_loop))]\n",
        "for idx_tr_ep in range(len(train_epochs_loop)):\n",
        "  mt = []\n",
        "  for idx_t in range(len(clip_metrics_thresholds)):\n",
        "    mt.append(clip_metrics_thresholds[idx_t][idx_tr_ep])\n",
        "\n",
        "  mmv, t = get_max_mean_f1_score_with_threshold(mt)\n",
        "  max_mean_vals.append(mmv)\n",
        "  threshold_vals.append(thresholds[t])\n",
        "\n",
        "plt.plot(x_vals, max_mean_vals)\n",
        "plt.title(\"F1 Score vs training epochs for {} way {} shot on {} with CLIP\".format(num_ways, num_shot, dataset_name))\n",
        "plt.xlabel(\"No. of training epochs\")\n",
        "plt.ylabel(\"F1 Score\")\n",
        "# plt.xticks(x_vals, x_vals)\n",
        "# plt.ylim([0, np.max(max_mean_vals)])\n",
        "\n",
        "plt.show()\n",
        "\n",
        "print(\"Best f1 score = {} at epoch = {}\".format(max(max_mean_vals), x_vals[np.argmax(max_mean_vals)]))"
      ],
      "execution_count": null,
      "outputs": []
    },
    {
      "cell_type": "code",
      "metadata": {
        "id": "gAbpPeHRJesC"
      },
      "source": [
        "plt.plot(x_vals, threshold_vals)\n",
        "plt.title(\"Threshold vs training epochs for {} way {} shot on {} with CLIP\".format(num_ways, num_shot, dataset_name))\n",
        "plt.xlabel(\"No. of training epochs\")\n",
        "plt.ylabel(\"Threshold\")\n",
        "plt.xticks(x_vals, x_vals)\n",
        "# plt.ylim([0, np.max(max_mean_vals)])\n",
        "\n",
        "plt.show()"
      ],
      "execution_count": null,
      "outputs": []
    },
    {
      "cell_type": "code",
      "metadata": {
        "id": "kaULa4s6Jijf"
      },
      "source": [
        "# for i in range(0, 21, 5):\n",
        "#   plot_metrics_by_threshold([cmt[i] for cmt in clip_metrics_thresholds], thresholds, title_suffix=dataset_name + \" Clip {} way {} shot Train epochs = {}\\n\".format(num_ways, num_shot, i))"
      ],
      "execution_count": null,
      "outputs": []
    },
    {
      "cell_type": "code",
      "metadata": {
        "id": "TY84NemsxFPf"
      },
      "source": [
        "max_mean_vals = []\n",
        "threshold_vals = []\n",
        "x_vals = [np.sum(train_epochs_loop[:i+1]) for i in range(len(train_epochs_loop))]\n",
        "for idx_tr_ep in range(len(train_epochs_loop)):\n",
        "  mt = []\n",
        "  for idx_t in range(len(clip_metrics_thresholds)):\n",
        "    mt.append(clip_metrics_thresholds[idx_t][idx_tr_ep])\n",
        "\n",
        "  mmv, t = get_max_mean_f1_score_with_threshold(mt)\n",
        "  max_mean_vals.append(mmv)\n",
        "  threshold_vals.append(thresholds[t])\n",
        "\n",
        "plt.plot(x_vals, max_mean_vals)\n",
        "plt.title(\"F1 Score vs training epochs for {} way {} shot on {} with CLIP\".format(num_ways, num_shot, dataset_name))\n",
        "plt.xlabel(\"No. of training epochs\")\n",
        "plt.ylabel(\"F1 Score\")\n",
        "# plt.xticks(x_vals, x_vals)\n",
        "# plt.ylim([0, np.max(max_mean_vals)])\n",
        "\n",
        "plt.show()\n",
        "\n",
        "print(\"Best f1 score = {} at epoch = {}\".format(max(max_mean_vals), x_vals[np.argmax(max_mean_vals)]))"
      ],
      "execution_count": null,
      "outputs": []
    },
    {
      "cell_type": "markdown",
      "metadata": {
        "id": "v1D4TXH1S9P6"
      },
      "source": [
        "###20w5s"
      ]
    },
    {
      "cell_type": "code",
      "metadata": {
        "id": "dmwKgBxUS9P6",
        "colab": {
          "base_uri": "https://localhost:8080/"
        },
        "outputId": "64a3e582-db0e-4e96-875d-ec05a1542154"
      },
      "source": [
        "num_ways = 20\n",
        "num_shot = 5\n",
        "train_indices, eval_indices, wi_y, eval_y = prepare_indices(num_ways, num_shot, label_dictionary)"
      ],
      "execution_count": null,
      "outputs": [
        {
          "output_type": "stream",
          "text": [
            " [elapsed time: 0:28:42] |**********************************| (ETA:  00:00:00) "
          ],
          "name": "stderr"
        }
      ]
    },
    {
      "cell_type": "code",
      "metadata": {
        "colab": {
          "base_uri": "https://localhost:8080/"
        },
        "id": "JcpAnqLnS9P7",
        "outputId": "3b0e7d01-80f2-408a-c588-5e1ddef6cbf2"
      },
      "source": [
        "num_augmentations = 10\n",
        "Trivial = True\n",
        "train_emb_per_episode = []\n",
        "pbar = start_progress_bar(num_episodes)\n",
        "for i in range(num_episodes):\n",
        "  emb_per_img = []\n",
        "  for j in train_indices[i]:\n",
        "    img = mpimg.imread(IMG_PATH + j.zfill(12) + '.jpg')\n",
        "    emb = embed_augmented_imgs(img, num_augmentations, trivial=Trivial)\n",
        "    emb_per_img.append(emb)\n",
        "  train_emb_per_episode.append(np.array(emb_per_img))\n",
        "  del emb_per_img\n",
        "  del emb\n",
        "  pbar.update(i+1)"
      ],
      "execution_count": null,
      "outputs": [
        {
          "output_type": "stream",
          "text": [
            " [elapsed time: 0:01:50] |**********************************| (ETA:  00:00:00) "
          ],
          "name": "stderr"
        }
      ]
    },
    {
      "cell_type": "code",
      "metadata": {
        "id": "FpCELEWOS9P7"
      },
      "source": [
        "train_emb_reshaped = []\n",
        "for i in range(num_episodes):\n",
        "  train_emb_reshaped.append(train_emb_per_episode[i].reshape(train_emb_per_episode[i].shape[0]*train_emb_per_episode[i].shape[1], 512))"
      ],
      "execution_count": null,
      "outputs": []
    },
    {
      "cell_type": "code",
      "metadata": {
        "id": "pqQdR0uxS9P7",
        "colab": {
          "base_uri": "https://localhost:8080/"
        },
        "outputId": "ae3cfa11-84c3-42f8-b668-efde2b9bedf3"
      },
      "source": [
        "eval_emb_per_episode = []\n",
        "pbar = start_progress_bar(num_episodes)\n",
        "for i in range(num_episodes):\n",
        "  emb = encode_full_img(eval_indices[i])\n",
        "  eval_emb_per_episode.append(emb)\n",
        "  del emb\n",
        "  pbar.update(i+1)"
      ],
      "execution_count": null,
      "outputs": [
        {
          "output_type": "stream",
          "text": [
            " [elapsed time: 0:04:18] |**********************************| (ETA:  00:00:00) "
          ],
          "name": "stderr"
        }
      ]
    },
    {
      "cell_type": "code",
      "metadata": {
        "colab": {
          "base_uri": "https://localhost:8080/"
        },
        "id": "yHkzwPesS9P7",
        "outputId": "9dc0c578-536e-49fd-8d99-3a538ffa5a5c"
      },
      "source": [
        "train_epochs_loop = [5 for _ in range(16)]\n",
        "logits_thresholds = []    #cc\n",
        "clip_metrics_thresholds = []\n",
        "\n",
        "pbar = start_progress_bar(len(thresholds))\n",
        "for i, t in enumerate(thresholds):\n",
        "    clip_metrics_t,all_logits = run_train_loop(#cc\n",
        "        train_indices,\n",
        "        eval_indices,\n",
        "        wi_y,\n",
        "        eval_y,\n",
        "        num_episodes,\n",
        "        num_ways,\n",
        "        threshold=t,\n",
        "        verbose=False,\n",
        "        train_epochs_loop=train_epochs_loop\n",
        "    )\n",
        "    clip_metrics_thresholds.append(clip_metrics_t)\n",
        "    logits_thresholds.append(all_logits)#cc\n",
        "    pbar.update(i+1)"
      ],
      "execution_count": null,
      "outputs": [
        {
          "output_type": "stream",
          "text": [
            " [elapsed time: 0:01:05] |**********************************| (ETA:  00:00:00) "
          ],
          "name": "stderr"
        }
      ]
    },
    {
      "cell_type": "code",
      "metadata": {
        "id": "9ymVtdoPS9P8",
        "colab": {
          "base_uri": "https://localhost:8080/"
        },
        "outputId": "cc1ed1e4-aeff-414c-bf88-a3f81013b56b"
      },
      "source": [
        "save_results(num_ways, num_shot, num_augmentations, Trivial, clip_metrics_thresholds, logits_thresholds)\n",
        "save_trends(num_ways, num_shot, num_augmentations, Trivial, clip_metrics_thresholds, logits_thresholds)"
      ],
      "execution_count": null,
      "outputs": [
        {
          "output_type": "stream",
          "text": [
            "Uploaded new_metricsCoco_20w5s0a_metrics_with_logits.json to https://drive.google.com/drive/u/1/folders/11p_iQPU9rMy6SNE_uWeHjRKXyj8LszZb\n",
            "Uploaded new_metricsCoco_0t_Full_Full_20w5s0a_metrics_graphs.json to https://drive.google.com/drive/u/1/folders/11p_iQPU9rMy6SNE_uWeHjRKXyj8LszZb\n"
          ],
          "name": "stdout"
        }
      ]
    },
    {
      "cell_type": "code",
      "metadata": {
        "id": "bQ19-u2HS9P8"
      },
      "source": [
        "max_mean_vals = []\n",
        "threshold_vals = []\n",
        "x_vals = [np.sum(train_epochs_loop[:i+1]) for i in range(len(train_epochs_loop))]\n",
        "for idx_tr_ep in range(len(train_epochs_loop)):\n",
        "  mt = []\n",
        "  for idx_t in range(len(clip_metrics_thresholds)):\n",
        "    mt.append(clip_metrics_thresholds[idx_t][idx_tr_ep])\n",
        "\n",
        "  mmv, t = get_max_mean_jaccard_index_with_threshold(mt)\n",
        "  max_mean_vals.append(mmv)\n",
        "  threshold_vals.append(thresholds[t])\n",
        "\n",
        "plt.plot(x_vals, max_mean_vals)\n",
        "plt.title(\"Jaccard index vs training epochs for {} way {} shot on {} with CLIP\".format(num_ways, num_shot, dataset_name))\n",
        "plt.xlabel(\"No. of training epochs\")\n",
        "plt.ylabel(\"Jaccard Index\")\n",
        "# plt.xticks(x_vals, x_vals)\n",
        "# plt.ylim([0, np.max(max_mean_vals)])\n",
        "\n",
        "plt.show()"
      ],
      "execution_count": null,
      "outputs": []
    },
    {
      "cell_type": "code",
      "metadata": {
        "id": "qaNWnActS9P8"
      },
      "source": [
        "max_mean_vals = []\n",
        "threshold_vals = []\n",
        "x_vals = [np.sum(train_epochs_loop[:i+1]) for i in range(len(train_epochs_loop))]\n",
        "for idx_tr_ep in range(len(train_epochs_loop)):\n",
        "  mt = []\n",
        "  for idx_t in range(len(clip_metrics_thresholds)):\n",
        "    mt.append(clip_metrics_thresholds[idx_t][idx_tr_ep])\n",
        "\n",
        "  mmv, t = get_max_mean_f1_score_with_threshold(mt)\n",
        "  max_mean_vals.append(mmv)\n",
        "  threshold_vals.append(thresholds[t])\n",
        "\n",
        "plt.plot(x_vals, max_mean_vals)\n",
        "plt.title(\"F1 Score vs training epochs for {} way {} shot on {} with CLIP\".format(num_ways, num_shot, dataset_name))\n",
        "plt.xlabel(\"No. of training epochs\")\n",
        "plt.ylabel(\"F1 Score\")\n",
        "# plt.xticks(x_vals, x_vals)\n",
        "# plt.ylim([0, np.max(max_mean_vals)])\n",
        "\n",
        "plt.show()\n",
        "\n",
        "print(\"Best f1 score = {} at epoch = {}\".format(max(max_mean_vals), x_vals[np.argmax(max_mean_vals)]))"
      ],
      "execution_count": null,
      "outputs": []
    },
    {
      "cell_type": "code",
      "metadata": {
        "id": "GJm4whOuS9P8"
      },
      "source": [
        "plt.plot(x_vals, threshold_vals)\n",
        "plt.title(\"Threshold vs training epochs for {} way {} shot on {} with CLIP\".format(num_ways, num_shot, dataset_name))\n",
        "plt.xlabel(\"No. of training epochs\")\n",
        "plt.ylabel(\"Threshold\")\n",
        "plt.xticks(x_vals, x_vals)\n",
        "# plt.ylim([0, np.max(max_mean_vals)])\n",
        "\n",
        "plt.show()"
      ],
      "execution_count": null,
      "outputs": []
    },
    {
      "cell_type": "code",
      "metadata": {
        "id": "ONwS6xphS9P8"
      },
      "source": [
        "# for i in range(0, 21, 5):\n",
        "#   plot_metrics_by_threshold([cmt[i] for cmt in clip_metrics_thresholds], thresholds, title_suffix=dataset_name + \" Clip {} way {} shot Train epochs = {}\\n\".format(num_ways, num_shot, i))"
      ],
      "execution_count": null,
      "outputs": []
    },
    {
      "cell_type": "code",
      "metadata": {
        "id": "0fcjPf8BxOql"
      },
      "source": [
        "max_mean_vals = []\n",
        "threshold_vals = []\n",
        "x_vals = [np.sum(train_epochs_loop[:i+1]) for i in range(len(train_epochs_loop))]\n",
        "for idx_tr_ep in range(len(train_epochs_loop)):\n",
        "  mt = []\n",
        "  for idx_t in range(len(clip_metrics_thresholds)):\n",
        "    mt.append(clip_metrics_thresholds[idx_t][idx_tr_ep])\n",
        "\n",
        "  mmv, t = get_max_mean_f1_score_with_threshold(mt)\n",
        "  max_mean_vals.append(mmv)\n",
        "  threshold_vals.append(thresholds[t])\n",
        "\n",
        "plt.plot(x_vals, max_mean_vals)\n",
        "plt.title(\"F1 Score vs training epochs for {} way {} shot on {} with CLIP\".format(num_ways, num_shot, dataset_name))\n",
        "plt.xlabel(\"No. of training epochs\")\n",
        "plt.ylabel(\"F1 Score\")\n",
        "# plt.xticks(x_vals, x_vals)\n",
        "# plt.ylim([0, np.max(max_mean_vals)])\n",
        "\n",
        "plt.show()\n",
        "\n",
        "print(\"Best f1 score = {} at epoch = {}\".format(max(max_mean_vals), x_vals[np.argmax(max_mean_vals)]))"
      ],
      "execution_count": null,
      "outputs": []
    },
    {
      "cell_type": "markdown",
      "metadata": {
        "id": "hU52S2i8S9s0"
      },
      "source": [
        "###20w1s"
      ]
    },
    {
      "cell_type": "code",
      "metadata": {
        "id": "NVrr7q4oS9s0",
        "colab": {
          "base_uri": "https://localhost:8080/"
        },
        "outputId": "51177fea-da79-4f33-f0e0-b2e540a8f3b9"
      },
      "source": [
        "num_ways = 20\n",
        "num_shot = 1\n",
        "train_indices, eval_indices, wi_y, eval_y = prepare_indices(num_ways, num_shot, label_dictionary)"
      ],
      "execution_count": null,
      "outputs": [
        {
          "output_type": "stream",
          "text": [
            " [elapsed time: 0:17:53] |**********************************| (ETA:  00:00:00) "
          ],
          "name": "stderr"
        }
      ]
    },
    {
      "cell_type": "code",
      "metadata": {
        "colab": {
          "base_uri": "https://localhost:8080/"
        },
        "id": "H-yaXpF4S9s0",
        "outputId": "c0362476-0c37-4151-d704-66edb6f35c1b"
      },
      "source": [
        "#asdv\n",
        "num_augmentations = 10\n",
        "Trivial = True\n",
        "train_emb_per_episode = []\n",
        "pbar = start_progress_bar(num_episodes)\n",
        "for i in range(num_episodes):\n",
        "  emb_per_img = []\n",
        "  for j in train_indices[i]:\n",
        "    img = mpimg.imread(IMG_PATH + j.zfill(12) + '.jpg')\n",
        "    emb = embed_augmented_imgs(img, num_augmentations, trivial=Trivial)\n",
        "    emb_per_img.append(emb)\n",
        "  train_emb_per_episode.append(np.array(emb_per_img))\n",
        "  del emb_per_img\n",
        "  del emb\n",
        "  pbar.update(i+1)"
      ],
      "execution_count": null,
      "outputs": [
        {
          "output_type": "stream",
          "text": [
            " [elapsed time: 0:00:19] |**********************************| (ETA:  00:00:00) "
          ],
          "name": "stderr"
        }
      ]
    },
    {
      "cell_type": "code",
      "metadata": {
        "id": "TPV57VEWS9s1"
      },
      "source": [
        "train_emb_reshaped = []\n",
        "for i in range(num_episodes):\n",
        "  train_emb_reshaped.append(train_emb_per_episode[i].reshape(train_emb_per_episode[i].shape[0]*train_emb_per_episode[i].shape[1], 512))"
      ],
      "execution_count": null,
      "outputs": []
    },
    {
      "cell_type": "code",
      "metadata": {
        "id": "SkPfiPTiS9s1",
        "colab": {
          "base_uri": "https://localhost:8080/"
        },
        "outputId": "29c6bde2-c617-4e2b-bf3b-bc7c25ec5798"
      },
      "source": [
        "eval_emb_per_episode = []\n",
        "pbar = start_progress_bar(num_episodes)\n",
        "for i in range(num_episodes):\n",
        "  emb = encode_full_img(eval_indices[i])\n",
        "  eval_emb_per_episode.append(emb)\n",
        "  del emb\n",
        "  pbar.update(i+1)"
      ],
      "execution_count": null,
      "outputs": [
        {
          "output_type": "stream",
          "text": [
            " [elapsed time: 0:02:55] |**********************************| (ETA:  00:00:00) "
          ],
          "name": "stderr"
        }
      ]
    },
    {
      "cell_type": "code",
      "metadata": {
        "colab": {
          "base_uri": "https://localhost:8080/"
        },
        "id": "ovBW7vffS9s1",
        "outputId": "7e5db56f-6fbd-4477-9d23-f15cf8293470"
      },
      "source": [
        "train_epochs_loop = [5 for _ in range(10)]\n",
        "logits_thresholds = []    #cc\n",
        "clip_metrics_thresholds = []\n",
        "\n",
        "pbar = start_progress_bar(len(thresholds))\n",
        "for i, t in enumerate(thresholds):\n",
        "    clip_metrics_t,all_logits = run_train_loop(#cc\n",
        "        train_indices,\n",
        "        eval_indices,\n",
        "        wi_y,\n",
        "        eval_y,\n",
        "        num_episodes,\n",
        "        num_ways,\n",
        "        threshold=t,\n",
        "        verbose=False,\n",
        "        train_epochs_loop=train_epochs_loop\n",
        "    )\n",
        "    clip_metrics_thresholds.append(clip_metrics_t)\n",
        "    logits_thresholds.append(all_logits)#cc\n",
        "    pbar.update(i+1)"
      ],
      "execution_count": null,
      "outputs": [
        {
          "output_type": "stream",
          "text": [
            " [elapsed time: 0:01:06] |**********************************| (ETA:  00:00:00) "
          ],
          "name": "stderr"
        }
      ]
    },
    {
      "cell_type": "code",
      "metadata": {
        "id": "q_haDKRKS9s1",
        "colab": {
          "base_uri": "https://localhost:8080/"
        },
        "outputId": "733885c6-95e9-4d4d-e1fa-3912a92e77da"
      },
      "source": [
        "save_results(num_ways, num_shot, num_augmentations, Trivial, clip_metrics_thresholds, logits_thresholds)\n",
        "save_trends(num_ways, num_shot, num_augmentations, Trivial, clip_metrics_thresholds, logits_thresholds)"
      ],
      "execution_count": null,
      "outputs": [
        {
          "output_type": "stream",
          "text": [
            "Uploaded new_metricsCoco_20w1s0a_metrics_with_logits.json to https://drive.google.com/drive/u/1/folders/11p_iQPU9rMy6SNE_uWeHjRKXyj8LszZb\n",
            "Uploaded new_metricsCoco_0t_Full_Full_20w1s0a_metrics_graphs.json to https://drive.google.com/drive/u/1/folders/11p_iQPU9rMy6SNE_uWeHjRKXyj8LszZb\n"
          ],
          "name": "stdout"
        }
      ]
    },
    {
      "cell_type": "code",
      "metadata": {
        "id": "dqx_F1UyS9s2"
      },
      "source": [
        "max_mean_vals = []\n",
        "threshold_vals = []\n",
        "x_vals = [np.sum(train_epochs_loop[:i+1]) for i in range(len(train_epochs_loop))]\n",
        "for idx_tr_ep in range(len(train_epochs_loop)):\n",
        "  mt = []\n",
        "  for idx_t in range(len(clip_metrics_thresholds)):\n",
        "    mt.append(clip_metrics_thresholds[idx_t][idx_tr_ep])\n",
        "\n",
        "  mmv, t = get_max_mean_jaccard_index_with_threshold(mt)\n",
        "  max_mean_vals.append(mmv)\n",
        "  threshold_vals.append(thresholds[t])\n",
        "\n",
        "plt.plot(x_vals, max_mean_vals)\n",
        "plt.title(\"Jaccard index vs training epochs for {} way {} shot on {} with CLIP\".format(num_ways, num_shot, dataset_name))\n",
        "plt.xlabel(\"No. of training epochs\")\n",
        "plt.ylabel(\"Jaccard Index\")\n",
        "# plt.xticks(x_vals, x_vals)\n",
        "# plt.ylim([0, np.max(max_mean_vals)])\n",
        "\n",
        "plt.show()"
      ],
      "execution_count": null,
      "outputs": []
    },
    {
      "cell_type": "code",
      "metadata": {
        "id": "sLovm2e2S9s2"
      },
      "source": [
        "max_mean_vals = []\n",
        "threshold_vals = []\n",
        "x_vals = [np.sum(train_epochs_loop[:i+1]) for i in range(len(train_epochs_loop))]\n",
        "for idx_tr_ep in range(len(train_epochs_loop)):\n",
        "  mt = []\n",
        "  for idx_t in range(len(clip_metrics_thresholds)):\n",
        "    mt.append(clip_metrics_thresholds[idx_t][idx_tr_ep])\n",
        "\n",
        "  mmv, t = get_max_mean_f1_score_with_threshold(mt)\n",
        "  max_mean_vals.append(mmv)\n",
        "  threshold_vals.append(thresholds[t])\n",
        "\n",
        "plt.plot(x_vals, max_mean_vals)\n",
        "plt.title(\"F1 Score vs training epochs for {} way {} shot on {} with CLIP\".format(num_ways, num_shot, dataset_name))\n",
        "plt.xlabel(\"No. of training epochs\")\n",
        "plt.ylabel(\"F1 Score\")\n",
        "# plt.xticks(x_vals, x_vals)\n",
        "# plt.ylim([0, np.max(max_mean_vals)])\n",
        "\n",
        "plt.show()\n",
        "\n",
        "print(\"Best f1 score = {} at epoch = {}\".format(max(max_mean_vals), x_vals[np.argmax(max_mean_vals)]))"
      ],
      "execution_count": null,
      "outputs": []
    },
    {
      "cell_type": "code",
      "metadata": {
        "id": "rqFhQr5mS9s2"
      },
      "source": [
        "plt.plot(x_vals, threshold_vals)\n",
        "plt.title(\"Threshold vs training epochs for {} way {} shot on {} with CLIP\".format(num_ways, num_shot, dataset_name))\n",
        "plt.xlabel(\"No. of training epochs\")\n",
        "plt.ylabel(\"Threshold\")\n",
        "plt.xticks(x_vals, x_vals)\n",
        "# plt.ylim([0, np.max(max_mean_vals)])\n",
        "\n",
        "plt.show()"
      ],
      "execution_count": null,
      "outputs": []
    },
    {
      "cell_type": "code",
      "metadata": {
        "id": "pQ8O_tpPS9s2"
      },
      "source": [
        "# for i in range(0, 21, 5):\n",
        "#   plot_metrics_by_threshold([cmt[i] for cmt in clip_metrics_thresholds], thresholds, title_suffix=dataset_name + \" Clip {} way {} shot Train epochs = {}\\n\".format(num_ways, num_shot, i))"
      ],
      "execution_count": null,
      "outputs": []
    },
    {
      "cell_type": "code",
      "metadata": {
        "id": "2fXm8bBqxQMJ"
      },
      "source": [
        "max_mean_vals = []\n",
        "threshold_vals = []\n",
        "x_vals = [np.sum(train_epochs_loop[:i+1]) for i in range(len(train_epochs_loop))]\n",
        "for idx_tr_ep in range(len(train_epochs_loop)):\n",
        "  mt = []\n",
        "  for idx_t in range(len(clip_metrics_thresholds)):\n",
        "    mt.append(clip_metrics_thresholds[idx_t][idx_tr_ep])\n",
        "\n",
        "  mmv, t = get_max_mean_f1_score_with_threshold(mt)\n",
        "  max_mean_vals.append(mmv)\n",
        "  threshold_vals.append(thresholds[t])\n",
        "\n",
        "plt.plot(x_vals, max_mean_vals)\n",
        "plt.title(\"F1 Score vs training epochs for {} way {} shot on {} with CLIP\".format(num_ways, num_shot, dataset_name))\n",
        "plt.xlabel(\"No. of training epochs\")\n",
        "plt.ylabel(\"F1 Score\")\n",
        "# plt.xticks(x_vals, x_vals)\n",
        "# plt.ylim([0, np.max(max_mean_vals)])\n",
        "\n",
        "plt.show()\n",
        "\n",
        "print(\"Best f1 score = {} at epoch = {}\".format(max(max_mean_vals), x_vals[np.argmax(max_mean_vals)]))"
      ],
      "execution_count": null,
      "outputs": []
    }
  ]
}