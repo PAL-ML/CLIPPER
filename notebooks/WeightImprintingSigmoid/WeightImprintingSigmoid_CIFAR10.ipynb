{
  "nbformat": 4,
  "nbformat_minor": 0,
  "metadata": {
    "accelerator": "GPU",
    "colab": {
      "name": "WeightImprintingSigmoid_CIFAR10.ipynb",
      "provenance": [],
      "collapsed_sections": [
        "RGlVnbugxFK2",
        "OLU-gp7n8__E",
        "9z1WQnXdLHy2"
      ],
      "toc_visible": true
    },
    "kernelspec": {
      "display_name": "Python 3",
      "name": "python3"
    },
    "widgets": {
      "application/vnd.jupyter.widget-state+json": {
        "7fc8d125a5e147759f45db3bc42ec7d0": {
          "model_module": "@jupyter-widgets/controls",
          "model_name": "HBoxModel",
          "state": {
            "_view_name": "HBoxView",
            "_dom_classes": [],
            "_model_name": "HBoxModel",
            "_view_module": "@jupyter-widgets/controls",
            "_model_module_version": "1.5.0",
            "_view_count": null,
            "_view_module_version": "1.5.0",
            "box_style": "",
            "layout": "IPY_MODEL_addeb74b82c74da39af83c6fed49fbbb",
            "_model_module": "@jupyter-widgets/controls",
            "children": [
              "IPY_MODEL_58d60783c0a94ec99ad4f433b06edede",
              "IPY_MODEL_0b57cf9dd6d445b9a2bbd3e8cdc4d0c1"
            ]
          }
        },
        "addeb74b82c74da39af83c6fed49fbbb": {
          "model_module": "@jupyter-widgets/base",
          "model_name": "LayoutModel",
          "state": {
            "_view_name": "LayoutView",
            "grid_template_rows": null,
            "right": null,
            "justify_content": null,
            "_view_module": "@jupyter-widgets/base",
            "overflow": null,
            "_model_module_version": "1.2.0",
            "_view_count": null,
            "flex_flow": null,
            "width": null,
            "min_width": null,
            "border": null,
            "align_items": null,
            "bottom": null,
            "_model_module": "@jupyter-widgets/base",
            "top": null,
            "grid_column": null,
            "overflow_y": null,
            "overflow_x": null,
            "grid_auto_flow": null,
            "grid_area": null,
            "grid_template_columns": null,
            "flex": null,
            "_model_name": "LayoutModel",
            "justify_items": null,
            "grid_row": null,
            "max_height": null,
            "align_content": null,
            "visibility": null,
            "align_self": null,
            "height": null,
            "min_height": null,
            "padding": null,
            "grid_auto_rows": null,
            "grid_gap": null,
            "max_width": null,
            "order": null,
            "_view_module_version": "1.2.0",
            "grid_template_areas": null,
            "object_position": null,
            "object_fit": null,
            "grid_auto_columns": null,
            "margin": null,
            "display": null,
            "left": null
          }
        },
        "58d60783c0a94ec99ad4f433b06edede": {
          "model_module": "@jupyter-widgets/controls",
          "model_name": "FloatProgressModel",
          "state": {
            "_view_name": "ProgressView",
            "style": "IPY_MODEL_22d35e1a3bfe4ea1aba3be71deaac570",
            "_dom_classes": [],
            "description": "Dl Completed...: 100%",
            "_model_name": "FloatProgressModel",
            "bar_style": "success",
            "max": 1,
            "_view_module": "@jupyter-widgets/controls",
            "_model_module_version": "1.5.0",
            "value": 1,
            "_view_count": null,
            "_view_module_version": "1.5.0",
            "orientation": "horizontal",
            "min": 0,
            "description_tooltip": null,
            "_model_module": "@jupyter-widgets/controls",
            "layout": "IPY_MODEL_1737979c0a8743e09ce4cc4c27173266"
          }
        },
        "0b57cf9dd6d445b9a2bbd3e8cdc4d0c1": {
          "model_module": "@jupyter-widgets/controls",
          "model_name": "HTMLModel",
          "state": {
            "_view_name": "HTMLView",
            "style": "IPY_MODEL_ff2d0061a9714072a6a3f65edd772845",
            "_dom_classes": [],
            "description": "",
            "_model_name": "HTMLModel",
            "placeholder": "​",
            "_view_module": "@jupyter-widgets/controls",
            "_model_module_version": "1.5.0",
            "value": " 1/1 [00:04&lt;00:00,  4.94s/ url]",
            "_view_count": null,
            "_view_module_version": "1.5.0",
            "description_tooltip": null,
            "_model_module": "@jupyter-widgets/controls",
            "layout": "IPY_MODEL_e446e6329a164425afda5bff3b9e8a57"
          }
        },
        "22d35e1a3bfe4ea1aba3be71deaac570": {
          "model_module": "@jupyter-widgets/controls",
          "model_name": "ProgressStyleModel",
          "state": {
            "_view_name": "StyleView",
            "_model_name": "ProgressStyleModel",
            "description_width": "initial",
            "_view_module": "@jupyter-widgets/base",
            "_model_module_version": "1.5.0",
            "_view_count": null,
            "_view_module_version": "1.2.0",
            "bar_color": null,
            "_model_module": "@jupyter-widgets/controls"
          }
        },
        "1737979c0a8743e09ce4cc4c27173266": {
          "model_module": "@jupyter-widgets/base",
          "model_name": "LayoutModel",
          "state": {
            "_view_name": "LayoutView",
            "grid_template_rows": null,
            "right": null,
            "justify_content": null,
            "_view_module": "@jupyter-widgets/base",
            "overflow": null,
            "_model_module_version": "1.2.0",
            "_view_count": null,
            "flex_flow": null,
            "width": null,
            "min_width": null,
            "border": null,
            "align_items": null,
            "bottom": null,
            "_model_module": "@jupyter-widgets/base",
            "top": null,
            "grid_column": null,
            "overflow_y": null,
            "overflow_x": null,
            "grid_auto_flow": null,
            "grid_area": null,
            "grid_template_columns": null,
            "flex": null,
            "_model_name": "LayoutModel",
            "justify_items": null,
            "grid_row": null,
            "max_height": null,
            "align_content": null,
            "visibility": null,
            "align_self": null,
            "height": null,
            "min_height": null,
            "padding": null,
            "grid_auto_rows": null,
            "grid_gap": null,
            "max_width": null,
            "order": null,
            "_view_module_version": "1.2.0",
            "grid_template_areas": null,
            "object_position": null,
            "object_fit": null,
            "grid_auto_columns": null,
            "margin": null,
            "display": null,
            "left": null
          }
        },
        "ff2d0061a9714072a6a3f65edd772845": {
          "model_module": "@jupyter-widgets/controls",
          "model_name": "DescriptionStyleModel",
          "state": {
            "_view_name": "StyleView",
            "_model_name": "DescriptionStyleModel",
            "description_width": "",
            "_view_module": "@jupyter-widgets/base",
            "_model_module_version": "1.5.0",
            "_view_count": null,
            "_view_module_version": "1.2.0",
            "_model_module": "@jupyter-widgets/controls"
          }
        },
        "e446e6329a164425afda5bff3b9e8a57": {
          "model_module": "@jupyter-widgets/base",
          "model_name": "LayoutModel",
          "state": {
            "_view_name": "LayoutView",
            "grid_template_rows": null,
            "right": null,
            "justify_content": null,
            "_view_module": "@jupyter-widgets/base",
            "overflow": null,
            "_model_module_version": "1.2.0",
            "_view_count": null,
            "flex_flow": null,
            "width": null,
            "min_width": null,
            "border": null,
            "align_items": null,
            "bottom": null,
            "_model_module": "@jupyter-widgets/base",
            "top": null,
            "grid_column": null,
            "overflow_y": null,
            "overflow_x": null,
            "grid_auto_flow": null,
            "grid_area": null,
            "grid_template_columns": null,
            "flex": null,
            "_model_name": "LayoutModel",
            "justify_items": null,
            "grid_row": null,
            "max_height": null,
            "align_content": null,
            "visibility": null,
            "align_self": null,
            "height": null,
            "min_height": null,
            "padding": null,
            "grid_auto_rows": null,
            "grid_gap": null,
            "max_width": null,
            "order": null,
            "_view_module_version": "1.2.0",
            "grid_template_areas": null,
            "object_position": null,
            "object_fit": null,
            "grid_auto_columns": null,
            "margin": null,
            "display": null,
            "left": null
          }
        },
        "b5b38e68a2974d26b217003ce5d4d178": {
          "model_module": "@jupyter-widgets/controls",
          "model_name": "HBoxModel",
          "state": {
            "_view_name": "HBoxView",
            "_dom_classes": [],
            "_model_name": "HBoxModel",
            "_view_module": "@jupyter-widgets/controls",
            "_model_module_version": "1.5.0",
            "_view_count": null,
            "_view_module_version": "1.5.0",
            "box_style": "",
            "layout": "IPY_MODEL_dec4f6d749a44843816a2e5ca0920488",
            "_model_module": "@jupyter-widgets/controls",
            "children": [
              "IPY_MODEL_c6422f253b364d3ba85b1173160a3feb",
              "IPY_MODEL_09cd64f330514546a638e2b7932faa20"
            ]
          }
        },
        "dec4f6d749a44843816a2e5ca0920488": {
          "model_module": "@jupyter-widgets/base",
          "model_name": "LayoutModel",
          "state": {
            "_view_name": "LayoutView",
            "grid_template_rows": null,
            "right": null,
            "justify_content": null,
            "_view_module": "@jupyter-widgets/base",
            "overflow": null,
            "_model_module_version": "1.2.0",
            "_view_count": null,
            "flex_flow": null,
            "width": null,
            "min_width": null,
            "border": null,
            "align_items": null,
            "bottom": null,
            "_model_module": "@jupyter-widgets/base",
            "top": null,
            "grid_column": null,
            "overflow_y": null,
            "overflow_x": null,
            "grid_auto_flow": null,
            "grid_area": null,
            "grid_template_columns": null,
            "flex": null,
            "_model_name": "LayoutModel",
            "justify_items": null,
            "grid_row": null,
            "max_height": null,
            "align_content": null,
            "visibility": null,
            "align_self": null,
            "height": null,
            "min_height": null,
            "padding": null,
            "grid_auto_rows": null,
            "grid_gap": null,
            "max_width": null,
            "order": null,
            "_view_module_version": "1.2.0",
            "grid_template_areas": null,
            "object_position": null,
            "object_fit": null,
            "grid_auto_columns": null,
            "margin": null,
            "display": null,
            "left": null
          }
        },
        "c6422f253b364d3ba85b1173160a3feb": {
          "model_module": "@jupyter-widgets/controls",
          "model_name": "FloatProgressModel",
          "state": {
            "_view_name": "ProgressView",
            "style": "IPY_MODEL_0a3e6ac766c942759c7c7ba375f467ad",
            "_dom_classes": [],
            "description": "Dl Size...: 100%",
            "_model_name": "FloatProgressModel",
            "bar_style": "success",
            "max": 1,
            "_view_module": "@jupyter-widgets/controls",
            "_model_module_version": "1.5.0",
            "value": 1,
            "_view_count": null,
            "_view_module_version": "1.5.0",
            "orientation": "horizontal",
            "min": 0,
            "description_tooltip": null,
            "_model_module": "@jupyter-widgets/controls",
            "layout": "IPY_MODEL_49c6589992344cf6b7a9793bb5a3a56d"
          }
        },
        "09cd64f330514546a638e2b7932faa20": {
          "model_module": "@jupyter-widgets/controls",
          "model_name": "HTMLModel",
          "state": {
            "_view_name": "HTMLView",
            "style": "IPY_MODEL_2691c01176c94576b8af6c08d7168393",
            "_dom_classes": [],
            "description": "",
            "_model_name": "HTMLModel",
            "placeholder": "​",
            "_view_module": "@jupyter-widgets/controls",
            "_model_module_version": "1.5.0",
            "value": " 162/162 [00:04&lt;00:00, 33.04 MiB/s]",
            "_view_count": null,
            "_view_module_version": "1.5.0",
            "description_tooltip": null,
            "_model_module": "@jupyter-widgets/controls",
            "layout": "IPY_MODEL_d6866bdea09e4e53acab976a548d6589"
          }
        },
        "0a3e6ac766c942759c7c7ba375f467ad": {
          "model_module": "@jupyter-widgets/controls",
          "model_name": "ProgressStyleModel",
          "state": {
            "_view_name": "StyleView",
            "_model_name": "ProgressStyleModel",
            "description_width": "initial",
            "_view_module": "@jupyter-widgets/base",
            "_model_module_version": "1.5.0",
            "_view_count": null,
            "_view_module_version": "1.2.0",
            "bar_color": null,
            "_model_module": "@jupyter-widgets/controls"
          }
        },
        "49c6589992344cf6b7a9793bb5a3a56d": {
          "model_module": "@jupyter-widgets/base",
          "model_name": "LayoutModel",
          "state": {
            "_view_name": "LayoutView",
            "grid_template_rows": null,
            "right": null,
            "justify_content": null,
            "_view_module": "@jupyter-widgets/base",
            "overflow": null,
            "_model_module_version": "1.2.0",
            "_view_count": null,
            "flex_flow": null,
            "width": null,
            "min_width": null,
            "border": null,
            "align_items": null,
            "bottom": null,
            "_model_module": "@jupyter-widgets/base",
            "top": null,
            "grid_column": null,
            "overflow_y": null,
            "overflow_x": null,
            "grid_auto_flow": null,
            "grid_area": null,
            "grid_template_columns": null,
            "flex": null,
            "_model_name": "LayoutModel",
            "justify_items": null,
            "grid_row": null,
            "max_height": null,
            "align_content": null,
            "visibility": null,
            "align_self": null,
            "height": null,
            "min_height": null,
            "padding": null,
            "grid_auto_rows": null,
            "grid_gap": null,
            "max_width": null,
            "order": null,
            "_view_module_version": "1.2.0",
            "grid_template_areas": null,
            "object_position": null,
            "object_fit": null,
            "grid_auto_columns": null,
            "margin": null,
            "display": null,
            "left": null
          }
        },
        "2691c01176c94576b8af6c08d7168393": {
          "model_module": "@jupyter-widgets/controls",
          "model_name": "DescriptionStyleModel",
          "state": {
            "_view_name": "StyleView",
            "_model_name": "DescriptionStyleModel",
            "description_width": "",
            "_view_module": "@jupyter-widgets/base",
            "_model_module_version": "1.5.0",
            "_view_count": null,
            "_view_module_version": "1.2.0",
            "_model_module": "@jupyter-widgets/controls"
          }
        },
        "d6866bdea09e4e53acab976a548d6589": {
          "model_module": "@jupyter-widgets/base",
          "model_name": "LayoutModel",
          "state": {
            "_view_name": "LayoutView",
            "grid_template_rows": null,
            "right": null,
            "justify_content": null,
            "_view_module": "@jupyter-widgets/base",
            "overflow": null,
            "_model_module_version": "1.2.0",
            "_view_count": null,
            "flex_flow": null,
            "width": null,
            "min_width": null,
            "border": null,
            "align_items": null,
            "bottom": null,
            "_model_module": "@jupyter-widgets/base",
            "top": null,
            "grid_column": null,
            "overflow_y": null,
            "overflow_x": null,
            "grid_auto_flow": null,
            "grid_area": null,
            "grid_template_columns": null,
            "flex": null,
            "_model_name": "LayoutModel",
            "justify_items": null,
            "grid_row": null,
            "max_height": null,
            "align_content": null,
            "visibility": null,
            "align_self": null,
            "height": null,
            "min_height": null,
            "padding": null,
            "grid_auto_rows": null,
            "grid_gap": null,
            "max_width": null,
            "order": null,
            "_view_module_version": "1.2.0",
            "grid_template_areas": null,
            "object_position": null,
            "object_fit": null,
            "grid_auto_columns": null,
            "margin": null,
            "display": null,
            "left": null
          }
        },
        "b84fca27976d41fb8c4440e2ed9d1761": {
          "model_module": "@jupyter-widgets/controls",
          "model_name": "HBoxModel",
          "state": {
            "_view_name": "HBoxView",
            "_dom_classes": [],
            "_model_name": "HBoxModel",
            "_view_module": "@jupyter-widgets/controls",
            "_model_module_version": "1.5.0",
            "_view_count": null,
            "_view_module_version": "1.5.0",
            "box_style": "",
            "layout": "IPY_MODEL_2232723ce22f491da15b3bea0957faee",
            "_model_module": "@jupyter-widgets/controls",
            "children": [
              "IPY_MODEL_207a7bfb2f6a4e338123c3442bed0faa",
              "IPY_MODEL_daf3400056e4497a9e2e725ea29e1b18"
            ]
          }
        },
        "2232723ce22f491da15b3bea0957faee": {
          "model_module": "@jupyter-widgets/base",
          "model_name": "LayoutModel",
          "state": {
            "_view_name": "LayoutView",
            "grid_template_rows": null,
            "right": null,
            "justify_content": null,
            "_view_module": "@jupyter-widgets/base",
            "overflow": null,
            "_model_module_version": "1.2.0",
            "_view_count": null,
            "flex_flow": null,
            "width": null,
            "min_width": null,
            "border": null,
            "align_items": null,
            "bottom": null,
            "_model_module": "@jupyter-widgets/base",
            "top": null,
            "grid_column": null,
            "overflow_y": null,
            "overflow_x": null,
            "grid_auto_flow": null,
            "grid_area": null,
            "grid_template_columns": null,
            "flex": null,
            "_model_name": "LayoutModel",
            "justify_items": null,
            "grid_row": null,
            "max_height": null,
            "align_content": null,
            "visibility": null,
            "align_self": null,
            "height": null,
            "min_height": null,
            "padding": null,
            "grid_auto_rows": null,
            "grid_gap": null,
            "max_width": null,
            "order": null,
            "_view_module_version": "1.2.0",
            "grid_template_areas": null,
            "object_position": null,
            "object_fit": null,
            "grid_auto_columns": null,
            "margin": null,
            "display": null,
            "left": null
          }
        },
        "207a7bfb2f6a4e338123c3442bed0faa": {
          "model_module": "@jupyter-widgets/controls",
          "model_name": "FloatProgressModel",
          "state": {
            "_view_name": "ProgressView",
            "style": "IPY_MODEL_2a099211037640fba3702a1b493aefa6",
            "_dom_classes": [],
            "description": "Extraction completed...: 100%",
            "_model_name": "FloatProgressModel",
            "bar_style": "success",
            "max": 1,
            "_view_module": "@jupyter-widgets/controls",
            "_model_module_version": "1.5.0",
            "value": 1,
            "_view_count": null,
            "_view_module_version": "1.5.0",
            "orientation": "horizontal",
            "min": 0,
            "description_tooltip": null,
            "_model_module": "@jupyter-widgets/controls",
            "layout": "IPY_MODEL_18660d9aedcb4edebe7bd5fe0e575e43"
          }
        },
        "daf3400056e4497a9e2e725ea29e1b18": {
          "model_module": "@jupyter-widgets/controls",
          "model_name": "HTMLModel",
          "state": {
            "_view_name": "HTMLView",
            "style": "IPY_MODEL_20088101e83c48d499adae97638412ac",
            "_dom_classes": [],
            "description": "",
            "_model_name": "HTMLModel",
            "placeholder": "​",
            "_view_module": "@jupyter-widgets/controls",
            "_model_module_version": "1.5.0",
            "value": " 1/1 [00:04&lt;00:00,  4.86s/ file]",
            "_view_count": null,
            "_view_module_version": "1.5.0",
            "description_tooltip": null,
            "_model_module": "@jupyter-widgets/controls",
            "layout": "IPY_MODEL_dd49725385544712a5f4a143b026cfe0"
          }
        },
        "2a099211037640fba3702a1b493aefa6": {
          "model_module": "@jupyter-widgets/controls",
          "model_name": "ProgressStyleModel",
          "state": {
            "_view_name": "StyleView",
            "_model_name": "ProgressStyleModel",
            "description_width": "initial",
            "_view_module": "@jupyter-widgets/base",
            "_model_module_version": "1.5.0",
            "_view_count": null,
            "_view_module_version": "1.2.0",
            "bar_color": null,
            "_model_module": "@jupyter-widgets/controls"
          }
        },
        "18660d9aedcb4edebe7bd5fe0e575e43": {
          "model_module": "@jupyter-widgets/base",
          "model_name": "LayoutModel",
          "state": {
            "_view_name": "LayoutView",
            "grid_template_rows": null,
            "right": null,
            "justify_content": null,
            "_view_module": "@jupyter-widgets/base",
            "overflow": null,
            "_model_module_version": "1.2.0",
            "_view_count": null,
            "flex_flow": null,
            "width": null,
            "min_width": null,
            "border": null,
            "align_items": null,
            "bottom": null,
            "_model_module": "@jupyter-widgets/base",
            "top": null,
            "grid_column": null,
            "overflow_y": null,
            "overflow_x": null,
            "grid_auto_flow": null,
            "grid_area": null,
            "grid_template_columns": null,
            "flex": null,
            "_model_name": "LayoutModel",
            "justify_items": null,
            "grid_row": null,
            "max_height": null,
            "align_content": null,
            "visibility": null,
            "align_self": null,
            "height": null,
            "min_height": null,
            "padding": null,
            "grid_auto_rows": null,
            "grid_gap": null,
            "max_width": null,
            "order": null,
            "_view_module_version": "1.2.0",
            "grid_template_areas": null,
            "object_position": null,
            "object_fit": null,
            "grid_auto_columns": null,
            "margin": null,
            "display": null,
            "left": null
          }
        },
        "20088101e83c48d499adae97638412ac": {
          "model_module": "@jupyter-widgets/controls",
          "model_name": "DescriptionStyleModel",
          "state": {
            "_view_name": "StyleView",
            "_model_name": "DescriptionStyleModel",
            "description_width": "",
            "_view_module": "@jupyter-widgets/base",
            "_model_module_version": "1.5.0",
            "_view_count": null,
            "_view_module_version": "1.2.0",
            "_model_module": "@jupyter-widgets/controls"
          }
        },
        "dd49725385544712a5f4a143b026cfe0": {
          "model_module": "@jupyter-widgets/base",
          "model_name": "LayoutModel",
          "state": {
            "_view_name": "LayoutView",
            "grid_template_rows": null,
            "right": null,
            "justify_content": null,
            "_view_module": "@jupyter-widgets/base",
            "overflow": null,
            "_model_module_version": "1.2.0",
            "_view_count": null,
            "flex_flow": null,
            "width": null,
            "min_width": null,
            "border": null,
            "align_items": null,
            "bottom": null,
            "_model_module": "@jupyter-widgets/base",
            "top": null,
            "grid_column": null,
            "overflow_y": null,
            "overflow_x": null,
            "grid_auto_flow": null,
            "grid_area": null,
            "grid_template_columns": null,
            "flex": null,
            "_model_name": "LayoutModel",
            "justify_items": null,
            "grid_row": null,
            "max_height": null,
            "align_content": null,
            "visibility": null,
            "align_self": null,
            "height": null,
            "min_height": null,
            "padding": null,
            "grid_auto_rows": null,
            "grid_gap": null,
            "max_width": null,
            "order": null,
            "_view_module_version": "1.2.0",
            "grid_template_areas": null,
            "object_position": null,
            "object_fit": null,
            "grid_auto_columns": null,
            "margin": null,
            "display": null,
            "left": null
          }
        },
        "c59afb8c36ad4267a7d8033a94e01647": {
          "model_module": "@jupyter-widgets/controls",
          "model_name": "HBoxModel",
          "state": {
            "_view_name": "HBoxView",
            "_dom_classes": [],
            "_model_name": "HBoxModel",
            "_view_module": "@jupyter-widgets/controls",
            "_model_module_version": "1.5.0",
            "_view_count": null,
            "_view_module_version": "1.5.0",
            "box_style": "",
            "layout": "IPY_MODEL_1ce7eb1648904fcfbd12f6302b130fc8",
            "_model_module": "@jupyter-widgets/controls",
            "children": [
              "IPY_MODEL_70b07caf11a5458baa0e85a39cdc1f25",
              "IPY_MODEL_28667dd8f73f4c8293e0e7a732b52903"
            ]
          }
        },
        "1ce7eb1648904fcfbd12f6302b130fc8": {
          "model_module": "@jupyter-widgets/base",
          "model_name": "LayoutModel",
          "state": {
            "_view_name": "LayoutView",
            "grid_template_rows": null,
            "right": null,
            "justify_content": null,
            "_view_module": "@jupyter-widgets/base",
            "overflow": null,
            "_model_module_version": "1.2.0",
            "_view_count": null,
            "flex_flow": null,
            "width": null,
            "min_width": null,
            "border": null,
            "align_items": null,
            "bottom": null,
            "_model_module": "@jupyter-widgets/base",
            "top": null,
            "grid_column": null,
            "overflow_y": null,
            "overflow_x": null,
            "grid_auto_flow": null,
            "grid_area": null,
            "grid_template_columns": null,
            "flex": null,
            "_model_name": "LayoutModel",
            "justify_items": null,
            "grid_row": null,
            "max_height": null,
            "align_content": null,
            "visibility": null,
            "align_self": null,
            "height": null,
            "min_height": null,
            "padding": null,
            "grid_auto_rows": null,
            "grid_gap": null,
            "max_width": null,
            "order": null,
            "_view_module_version": "1.2.0",
            "grid_template_areas": null,
            "object_position": null,
            "object_fit": null,
            "grid_auto_columns": null,
            "margin": null,
            "display": null,
            "left": null
          }
        },
        "70b07caf11a5458baa0e85a39cdc1f25": {
          "model_module": "@jupyter-widgets/controls",
          "model_name": "FloatProgressModel",
          "state": {
            "_view_name": "ProgressView",
            "style": "IPY_MODEL_4794c8f0602e4cc6b8f79dcb9eb185de",
            "_dom_classes": [],
            "description": "",
            "_model_name": "FloatProgressModel",
            "bar_style": "info",
            "max": 1,
            "_view_module": "@jupyter-widgets/controls",
            "_model_module_version": "1.5.0",
            "value": 1,
            "_view_count": null,
            "_view_module_version": "1.5.0",
            "orientation": "horizontal",
            "min": 0,
            "description_tooltip": null,
            "_model_module": "@jupyter-widgets/controls",
            "layout": "IPY_MODEL_b1dab0fe24024c55b216dff0fe5bd4fc"
          }
        },
        "28667dd8f73f4c8293e0e7a732b52903": {
          "model_module": "@jupyter-widgets/controls",
          "model_name": "HTMLModel",
          "state": {
            "_view_name": "HTMLView",
            "style": "IPY_MODEL_e5f27f2a625b4714ba38c2bd09effaac",
            "_dom_classes": [],
            "description": "",
            "_model_name": "HTMLModel",
            "placeholder": "​",
            "_view_module": "@jupyter-widgets/controls",
            "_model_module_version": "1.5.0",
            "value": " 50000/0 [00:33&lt;00:00, 1825.13 examples/s]",
            "_view_count": null,
            "_view_module_version": "1.5.0",
            "description_tooltip": null,
            "_model_module": "@jupyter-widgets/controls",
            "layout": "IPY_MODEL_384a66e836af40d1af8b1d90e556f61f"
          }
        },
        "4794c8f0602e4cc6b8f79dcb9eb185de": {
          "model_module": "@jupyter-widgets/controls",
          "model_name": "ProgressStyleModel",
          "state": {
            "_view_name": "StyleView",
            "_model_name": "ProgressStyleModel",
            "description_width": "initial",
            "_view_module": "@jupyter-widgets/base",
            "_model_module_version": "1.5.0",
            "_view_count": null,
            "_view_module_version": "1.2.0",
            "bar_color": null,
            "_model_module": "@jupyter-widgets/controls"
          }
        },
        "b1dab0fe24024c55b216dff0fe5bd4fc": {
          "model_module": "@jupyter-widgets/base",
          "model_name": "LayoutModel",
          "state": {
            "_view_name": "LayoutView",
            "grid_template_rows": null,
            "right": null,
            "justify_content": null,
            "_view_module": "@jupyter-widgets/base",
            "overflow": null,
            "_model_module_version": "1.2.0",
            "_view_count": null,
            "flex_flow": null,
            "width": null,
            "min_width": null,
            "border": null,
            "align_items": null,
            "bottom": null,
            "_model_module": "@jupyter-widgets/base",
            "top": null,
            "grid_column": null,
            "overflow_y": null,
            "overflow_x": null,
            "grid_auto_flow": null,
            "grid_area": null,
            "grid_template_columns": null,
            "flex": null,
            "_model_name": "LayoutModel",
            "justify_items": null,
            "grid_row": null,
            "max_height": null,
            "align_content": null,
            "visibility": null,
            "align_self": null,
            "height": null,
            "min_height": null,
            "padding": null,
            "grid_auto_rows": null,
            "grid_gap": null,
            "max_width": null,
            "order": null,
            "_view_module_version": "1.2.0",
            "grid_template_areas": null,
            "object_position": null,
            "object_fit": null,
            "grid_auto_columns": null,
            "margin": null,
            "display": null,
            "left": null
          }
        },
        "e5f27f2a625b4714ba38c2bd09effaac": {
          "model_module": "@jupyter-widgets/controls",
          "model_name": "DescriptionStyleModel",
          "state": {
            "_view_name": "StyleView",
            "_model_name": "DescriptionStyleModel",
            "description_width": "",
            "_view_module": "@jupyter-widgets/base",
            "_model_module_version": "1.5.0",
            "_view_count": null,
            "_view_module_version": "1.2.0",
            "_model_module": "@jupyter-widgets/controls"
          }
        },
        "384a66e836af40d1af8b1d90e556f61f": {
          "model_module": "@jupyter-widgets/base",
          "model_name": "LayoutModel",
          "state": {
            "_view_name": "LayoutView",
            "grid_template_rows": null,
            "right": null,
            "justify_content": null,
            "_view_module": "@jupyter-widgets/base",
            "overflow": null,
            "_model_module_version": "1.2.0",
            "_view_count": null,
            "flex_flow": null,
            "width": null,
            "min_width": null,
            "border": null,
            "align_items": null,
            "bottom": null,
            "_model_module": "@jupyter-widgets/base",
            "top": null,
            "grid_column": null,
            "overflow_y": null,
            "overflow_x": null,
            "grid_auto_flow": null,
            "grid_area": null,
            "grid_template_columns": null,
            "flex": null,
            "_model_name": "LayoutModel",
            "justify_items": null,
            "grid_row": null,
            "max_height": null,
            "align_content": null,
            "visibility": null,
            "align_self": null,
            "height": null,
            "min_height": null,
            "padding": null,
            "grid_auto_rows": null,
            "grid_gap": null,
            "max_width": null,
            "order": null,
            "_view_module_version": "1.2.0",
            "grid_template_areas": null,
            "object_position": null,
            "object_fit": null,
            "grid_auto_columns": null,
            "margin": null,
            "display": null,
            "left": null
          }
        },
        "ecd345521f7a414297ab37065632bfa5": {
          "model_module": "@jupyter-widgets/controls",
          "model_name": "HBoxModel",
          "state": {
            "_view_name": "HBoxView",
            "_dom_classes": [],
            "_model_name": "HBoxModel",
            "_view_module": "@jupyter-widgets/controls",
            "_model_module_version": "1.5.0",
            "_view_count": null,
            "_view_module_version": "1.5.0",
            "box_style": "",
            "layout": "IPY_MODEL_9a2d9ca82c9d4465ac3070b8ded1ed03",
            "_model_module": "@jupyter-widgets/controls",
            "children": [
              "IPY_MODEL_a574cb1ecdfe42d3964dc20d93b26758",
              "IPY_MODEL_933eddadd8d04748be89f1f294d4f6ad"
            ]
          }
        },
        "9a2d9ca82c9d4465ac3070b8ded1ed03": {
          "model_module": "@jupyter-widgets/base",
          "model_name": "LayoutModel",
          "state": {
            "_view_name": "LayoutView",
            "grid_template_rows": null,
            "right": null,
            "justify_content": null,
            "_view_module": "@jupyter-widgets/base",
            "overflow": null,
            "_model_module_version": "1.2.0",
            "_view_count": null,
            "flex_flow": null,
            "width": null,
            "min_width": null,
            "border": null,
            "align_items": null,
            "bottom": null,
            "_model_module": "@jupyter-widgets/base",
            "top": null,
            "grid_column": null,
            "overflow_y": null,
            "overflow_x": null,
            "grid_auto_flow": null,
            "grid_area": null,
            "grid_template_columns": null,
            "flex": null,
            "_model_name": "LayoutModel",
            "justify_items": null,
            "grid_row": null,
            "max_height": null,
            "align_content": null,
            "visibility": null,
            "align_self": null,
            "height": null,
            "min_height": null,
            "padding": null,
            "grid_auto_rows": null,
            "grid_gap": null,
            "max_width": null,
            "order": null,
            "_view_module_version": "1.2.0",
            "grid_template_areas": null,
            "object_position": null,
            "object_fit": null,
            "grid_auto_columns": null,
            "margin": null,
            "display": null,
            "left": null
          }
        },
        "a574cb1ecdfe42d3964dc20d93b26758": {
          "model_module": "@jupyter-widgets/controls",
          "model_name": "FloatProgressModel",
          "state": {
            "_view_name": "ProgressView",
            "style": "IPY_MODEL_df01f28b6eac4171adfde8177217a499",
            "_dom_classes": [],
            "description": " 69%",
            "_model_name": "FloatProgressModel",
            "bar_style": "danger",
            "max": 50000,
            "_view_module": "@jupyter-widgets/controls",
            "_model_module_version": "1.5.0",
            "value": 34420,
            "_view_count": null,
            "_view_module_version": "1.5.0",
            "orientation": "horizontal",
            "min": 0,
            "description_tooltip": null,
            "_model_module": "@jupyter-widgets/controls",
            "layout": "IPY_MODEL_f43b67b9a5124bcd84f34c866a52a3c3"
          }
        },
        "933eddadd8d04748be89f1f294d4f6ad": {
          "model_module": "@jupyter-widgets/controls",
          "model_name": "HTMLModel",
          "state": {
            "_view_name": "HTMLView",
            "style": "IPY_MODEL_fdb870728728412db32df3fb935b6aca",
            "_dom_classes": [],
            "description": "",
            "_model_name": "HTMLModel",
            "placeholder": "​",
            "_view_module": "@jupyter-widgets/controls",
            "_model_module_version": "1.5.0",
            "value": " 34420/50000 [00:19&lt;00:00, 50558.22 examples/s]",
            "_view_count": null,
            "_view_module_version": "1.5.0",
            "description_tooltip": null,
            "_model_module": "@jupyter-widgets/controls",
            "layout": "IPY_MODEL_64340c5a5db9498daa04ec0e708725e0"
          }
        },
        "df01f28b6eac4171adfde8177217a499": {
          "model_module": "@jupyter-widgets/controls",
          "model_name": "ProgressStyleModel",
          "state": {
            "_view_name": "StyleView",
            "_model_name": "ProgressStyleModel",
            "description_width": "initial",
            "_view_module": "@jupyter-widgets/base",
            "_model_module_version": "1.5.0",
            "_view_count": null,
            "_view_module_version": "1.2.0",
            "bar_color": null,
            "_model_module": "@jupyter-widgets/controls"
          }
        },
        "f43b67b9a5124bcd84f34c866a52a3c3": {
          "model_module": "@jupyter-widgets/base",
          "model_name": "LayoutModel",
          "state": {
            "_view_name": "LayoutView",
            "grid_template_rows": null,
            "right": null,
            "justify_content": null,
            "_view_module": "@jupyter-widgets/base",
            "overflow": null,
            "_model_module_version": "1.2.0",
            "_view_count": null,
            "flex_flow": null,
            "width": null,
            "min_width": null,
            "border": null,
            "align_items": null,
            "bottom": null,
            "_model_module": "@jupyter-widgets/base",
            "top": null,
            "grid_column": null,
            "overflow_y": null,
            "overflow_x": null,
            "grid_auto_flow": null,
            "grid_area": null,
            "grid_template_columns": null,
            "flex": null,
            "_model_name": "LayoutModel",
            "justify_items": null,
            "grid_row": null,
            "max_height": null,
            "align_content": null,
            "visibility": null,
            "align_self": null,
            "height": null,
            "min_height": null,
            "padding": null,
            "grid_auto_rows": null,
            "grid_gap": null,
            "max_width": null,
            "order": null,
            "_view_module_version": "1.2.0",
            "grid_template_areas": null,
            "object_position": null,
            "object_fit": null,
            "grid_auto_columns": null,
            "margin": null,
            "display": null,
            "left": null
          }
        },
        "fdb870728728412db32df3fb935b6aca": {
          "model_module": "@jupyter-widgets/controls",
          "model_name": "DescriptionStyleModel",
          "state": {
            "_view_name": "StyleView",
            "_model_name": "DescriptionStyleModel",
            "description_width": "",
            "_view_module": "@jupyter-widgets/base",
            "_model_module_version": "1.5.0",
            "_view_count": null,
            "_view_module_version": "1.2.0",
            "_model_module": "@jupyter-widgets/controls"
          }
        },
        "64340c5a5db9498daa04ec0e708725e0": {
          "model_module": "@jupyter-widgets/base",
          "model_name": "LayoutModel",
          "state": {
            "_view_name": "LayoutView",
            "grid_template_rows": null,
            "right": null,
            "justify_content": null,
            "_view_module": "@jupyter-widgets/base",
            "overflow": null,
            "_model_module_version": "1.2.0",
            "_view_count": null,
            "flex_flow": null,
            "width": null,
            "min_width": null,
            "border": null,
            "align_items": null,
            "bottom": null,
            "_model_module": "@jupyter-widgets/base",
            "top": null,
            "grid_column": null,
            "overflow_y": null,
            "overflow_x": null,
            "grid_auto_flow": null,
            "grid_area": null,
            "grid_template_columns": null,
            "flex": null,
            "_model_name": "LayoutModel",
            "justify_items": null,
            "grid_row": null,
            "max_height": null,
            "align_content": null,
            "visibility": null,
            "align_self": null,
            "height": null,
            "min_height": null,
            "padding": null,
            "grid_auto_rows": null,
            "grid_gap": null,
            "max_width": null,
            "order": null,
            "_view_module_version": "1.2.0",
            "grid_template_areas": null,
            "object_position": null,
            "object_fit": null,
            "grid_auto_columns": null,
            "margin": null,
            "display": null,
            "left": null
          }
        },
        "6fab7c91aa764a0680c2591d071eef8c": {
          "model_module": "@jupyter-widgets/controls",
          "model_name": "HBoxModel",
          "state": {
            "_view_name": "HBoxView",
            "_dom_classes": [],
            "_model_name": "HBoxModel",
            "_view_module": "@jupyter-widgets/controls",
            "_model_module_version": "1.5.0",
            "_view_count": null,
            "_view_module_version": "1.5.0",
            "box_style": "",
            "layout": "IPY_MODEL_4894d4e5ccdc416b8ed08020637b9630",
            "_model_module": "@jupyter-widgets/controls",
            "children": [
              "IPY_MODEL_1a2a40811b22429a8f53a23c1ebcd1f6",
              "IPY_MODEL_a345709323434fbfadb79a80cdf3a5ba"
            ]
          }
        },
        "4894d4e5ccdc416b8ed08020637b9630": {
          "model_module": "@jupyter-widgets/base",
          "model_name": "LayoutModel",
          "state": {
            "_view_name": "LayoutView",
            "grid_template_rows": null,
            "right": null,
            "justify_content": null,
            "_view_module": "@jupyter-widgets/base",
            "overflow": null,
            "_model_module_version": "1.2.0",
            "_view_count": null,
            "flex_flow": null,
            "width": null,
            "min_width": null,
            "border": null,
            "align_items": null,
            "bottom": null,
            "_model_module": "@jupyter-widgets/base",
            "top": null,
            "grid_column": null,
            "overflow_y": null,
            "overflow_x": null,
            "grid_auto_flow": null,
            "grid_area": null,
            "grid_template_columns": null,
            "flex": null,
            "_model_name": "LayoutModel",
            "justify_items": null,
            "grid_row": null,
            "max_height": null,
            "align_content": null,
            "visibility": null,
            "align_self": null,
            "height": null,
            "min_height": null,
            "padding": null,
            "grid_auto_rows": null,
            "grid_gap": null,
            "max_width": null,
            "order": null,
            "_view_module_version": "1.2.0",
            "grid_template_areas": null,
            "object_position": null,
            "object_fit": null,
            "grid_auto_columns": null,
            "margin": null,
            "display": null,
            "left": null
          }
        },
        "1a2a40811b22429a8f53a23c1ebcd1f6": {
          "model_module": "@jupyter-widgets/controls",
          "model_name": "FloatProgressModel",
          "state": {
            "_view_name": "ProgressView",
            "style": "IPY_MODEL_f4ee97f3f0f54fad99b17f3abc38007d",
            "_dom_classes": [],
            "description": "",
            "_model_name": "FloatProgressModel",
            "bar_style": "info",
            "max": 1,
            "_view_module": "@jupyter-widgets/controls",
            "_model_module_version": "1.5.0",
            "value": 1,
            "_view_count": null,
            "_view_module_version": "1.5.0",
            "orientation": "horizontal",
            "min": 0,
            "description_tooltip": null,
            "_model_module": "@jupyter-widgets/controls",
            "layout": "IPY_MODEL_7346a5f987334466bf23c9991afa8ad1"
          }
        },
        "a345709323434fbfadb79a80cdf3a5ba": {
          "model_module": "@jupyter-widgets/controls",
          "model_name": "HTMLModel",
          "state": {
            "_view_name": "HTMLView",
            "style": "IPY_MODEL_07de0108eb974c5aae51eefcb3cb454f",
            "_dom_classes": [],
            "description": "",
            "_model_name": "HTMLModel",
            "placeholder": "​",
            "_view_module": "@jupyter-widgets/controls",
            "_model_module_version": "1.5.0",
            "value": " 10000/0 [00:05&lt;00:00, 1774.36 examples/s]",
            "_view_count": null,
            "_view_module_version": "1.5.0",
            "description_tooltip": null,
            "_model_module": "@jupyter-widgets/controls",
            "layout": "IPY_MODEL_5e68e5cfacf54a969d0dd153f672645a"
          }
        },
        "f4ee97f3f0f54fad99b17f3abc38007d": {
          "model_module": "@jupyter-widgets/controls",
          "model_name": "ProgressStyleModel",
          "state": {
            "_view_name": "StyleView",
            "_model_name": "ProgressStyleModel",
            "description_width": "initial",
            "_view_module": "@jupyter-widgets/base",
            "_model_module_version": "1.5.0",
            "_view_count": null,
            "_view_module_version": "1.2.0",
            "bar_color": null,
            "_model_module": "@jupyter-widgets/controls"
          }
        },
        "7346a5f987334466bf23c9991afa8ad1": {
          "model_module": "@jupyter-widgets/base",
          "model_name": "LayoutModel",
          "state": {
            "_view_name": "LayoutView",
            "grid_template_rows": null,
            "right": null,
            "justify_content": null,
            "_view_module": "@jupyter-widgets/base",
            "overflow": null,
            "_model_module_version": "1.2.0",
            "_view_count": null,
            "flex_flow": null,
            "width": null,
            "min_width": null,
            "border": null,
            "align_items": null,
            "bottom": null,
            "_model_module": "@jupyter-widgets/base",
            "top": null,
            "grid_column": null,
            "overflow_y": null,
            "overflow_x": null,
            "grid_auto_flow": null,
            "grid_area": null,
            "grid_template_columns": null,
            "flex": null,
            "_model_name": "LayoutModel",
            "justify_items": null,
            "grid_row": null,
            "max_height": null,
            "align_content": null,
            "visibility": null,
            "align_self": null,
            "height": null,
            "min_height": null,
            "padding": null,
            "grid_auto_rows": null,
            "grid_gap": null,
            "max_width": null,
            "order": null,
            "_view_module_version": "1.2.0",
            "grid_template_areas": null,
            "object_position": null,
            "object_fit": null,
            "grid_auto_columns": null,
            "margin": null,
            "display": null,
            "left": null
          }
        },
        "07de0108eb974c5aae51eefcb3cb454f": {
          "model_module": "@jupyter-widgets/controls",
          "model_name": "DescriptionStyleModel",
          "state": {
            "_view_name": "StyleView",
            "_model_name": "DescriptionStyleModel",
            "description_width": "",
            "_view_module": "@jupyter-widgets/base",
            "_model_module_version": "1.5.0",
            "_view_count": null,
            "_view_module_version": "1.2.0",
            "_model_module": "@jupyter-widgets/controls"
          }
        },
        "5e68e5cfacf54a969d0dd153f672645a": {
          "model_module": "@jupyter-widgets/base",
          "model_name": "LayoutModel",
          "state": {
            "_view_name": "LayoutView",
            "grid_template_rows": null,
            "right": null,
            "justify_content": null,
            "_view_module": "@jupyter-widgets/base",
            "overflow": null,
            "_model_module_version": "1.2.0",
            "_view_count": null,
            "flex_flow": null,
            "width": null,
            "min_width": null,
            "border": null,
            "align_items": null,
            "bottom": null,
            "_model_module": "@jupyter-widgets/base",
            "top": null,
            "grid_column": null,
            "overflow_y": null,
            "overflow_x": null,
            "grid_auto_flow": null,
            "grid_area": null,
            "grid_template_columns": null,
            "flex": null,
            "_model_name": "LayoutModel",
            "justify_items": null,
            "grid_row": null,
            "max_height": null,
            "align_content": null,
            "visibility": null,
            "align_self": null,
            "height": null,
            "min_height": null,
            "padding": null,
            "grid_auto_rows": null,
            "grid_gap": null,
            "max_width": null,
            "order": null,
            "_view_module_version": "1.2.0",
            "grid_template_areas": null,
            "object_position": null,
            "object_fit": null,
            "grid_auto_columns": null,
            "margin": null,
            "display": null,
            "left": null
          }
        },
        "94c70471c4814ea7955c6a3b4641f34d": {
          "model_module": "@jupyter-widgets/controls",
          "model_name": "HBoxModel",
          "state": {
            "_view_name": "HBoxView",
            "_dom_classes": [],
            "_model_name": "HBoxModel",
            "_view_module": "@jupyter-widgets/controls",
            "_model_module_version": "1.5.0",
            "_view_count": null,
            "_view_module_version": "1.5.0",
            "box_style": "",
            "layout": "IPY_MODEL_3a5af25e0b2c4d0fb369909a0ed268a4",
            "_model_module": "@jupyter-widgets/controls",
            "children": [
              "IPY_MODEL_9f9ed1c364094c0ea8676427c05033c5",
              "IPY_MODEL_39bfd01f1f0c45f5a68b76721df6e3d8"
            ]
          }
        },
        "3a5af25e0b2c4d0fb369909a0ed268a4": {
          "model_module": "@jupyter-widgets/base",
          "model_name": "LayoutModel",
          "state": {
            "_view_name": "LayoutView",
            "grid_template_rows": null,
            "right": null,
            "justify_content": null,
            "_view_module": "@jupyter-widgets/base",
            "overflow": null,
            "_model_module_version": "1.2.0",
            "_view_count": null,
            "flex_flow": null,
            "width": null,
            "min_width": null,
            "border": null,
            "align_items": null,
            "bottom": null,
            "_model_module": "@jupyter-widgets/base",
            "top": null,
            "grid_column": null,
            "overflow_y": null,
            "overflow_x": null,
            "grid_auto_flow": null,
            "grid_area": null,
            "grid_template_columns": null,
            "flex": null,
            "_model_name": "LayoutModel",
            "justify_items": null,
            "grid_row": null,
            "max_height": null,
            "align_content": null,
            "visibility": null,
            "align_self": null,
            "height": null,
            "min_height": null,
            "padding": null,
            "grid_auto_rows": null,
            "grid_gap": null,
            "max_width": null,
            "order": null,
            "_view_module_version": "1.2.0",
            "grid_template_areas": null,
            "object_position": null,
            "object_fit": null,
            "grid_auto_columns": null,
            "margin": null,
            "display": null,
            "left": null
          }
        },
        "9f9ed1c364094c0ea8676427c05033c5": {
          "model_module": "@jupyter-widgets/controls",
          "model_name": "FloatProgressModel",
          "state": {
            "_view_name": "ProgressView",
            "style": "IPY_MODEL_1376c04e7bbd43f49da0dba876e1511d",
            "_dom_classes": [],
            "description": " 99%",
            "_model_name": "FloatProgressModel",
            "bar_style": "danger",
            "max": 10000,
            "_view_module": "@jupyter-widgets/controls",
            "_model_module_version": "1.5.0",
            "value": 9910,
            "_view_count": null,
            "_view_module_version": "1.5.0",
            "orientation": "horizontal",
            "min": 0,
            "description_tooltip": null,
            "_model_module": "@jupyter-widgets/controls",
            "layout": "IPY_MODEL_5087bc7dc642416d84aa0303cdf822b0"
          }
        },
        "39bfd01f1f0c45f5a68b76721df6e3d8": {
          "model_module": "@jupyter-widgets/controls",
          "model_name": "HTMLModel",
          "state": {
            "_view_name": "HTMLView",
            "style": "IPY_MODEL_c7465a33a86740b48663ed44b65aa51c",
            "_dom_classes": [],
            "description": "",
            "_model_name": "HTMLModel",
            "placeholder": "​",
            "_view_module": "@jupyter-widgets/controls",
            "_model_module_version": "1.5.0",
            "value": " 9910/10000 [00:00&lt;00:00, 99097.97 examples/s]",
            "_view_count": null,
            "_view_module_version": "1.5.0",
            "description_tooltip": null,
            "_model_module": "@jupyter-widgets/controls",
            "layout": "IPY_MODEL_d61944ab254242f88dae4ee0b651e009"
          }
        },
        "1376c04e7bbd43f49da0dba876e1511d": {
          "model_module": "@jupyter-widgets/controls",
          "model_name": "ProgressStyleModel",
          "state": {
            "_view_name": "StyleView",
            "_model_name": "ProgressStyleModel",
            "description_width": "initial",
            "_view_module": "@jupyter-widgets/base",
            "_model_module_version": "1.5.0",
            "_view_count": null,
            "_view_module_version": "1.2.0",
            "bar_color": null,
            "_model_module": "@jupyter-widgets/controls"
          }
        },
        "5087bc7dc642416d84aa0303cdf822b0": {
          "model_module": "@jupyter-widgets/base",
          "model_name": "LayoutModel",
          "state": {
            "_view_name": "LayoutView",
            "grid_template_rows": null,
            "right": null,
            "justify_content": null,
            "_view_module": "@jupyter-widgets/base",
            "overflow": null,
            "_model_module_version": "1.2.0",
            "_view_count": null,
            "flex_flow": null,
            "width": null,
            "min_width": null,
            "border": null,
            "align_items": null,
            "bottom": null,
            "_model_module": "@jupyter-widgets/base",
            "top": null,
            "grid_column": null,
            "overflow_y": null,
            "overflow_x": null,
            "grid_auto_flow": null,
            "grid_area": null,
            "grid_template_columns": null,
            "flex": null,
            "_model_name": "LayoutModel",
            "justify_items": null,
            "grid_row": null,
            "max_height": null,
            "align_content": null,
            "visibility": null,
            "align_self": null,
            "height": null,
            "min_height": null,
            "padding": null,
            "grid_auto_rows": null,
            "grid_gap": null,
            "max_width": null,
            "order": null,
            "_view_module_version": "1.2.0",
            "grid_template_areas": null,
            "object_position": null,
            "object_fit": null,
            "grid_auto_columns": null,
            "margin": null,
            "display": null,
            "left": null
          }
        },
        "c7465a33a86740b48663ed44b65aa51c": {
          "model_module": "@jupyter-widgets/controls",
          "model_name": "DescriptionStyleModel",
          "state": {
            "_view_name": "StyleView",
            "_model_name": "DescriptionStyleModel",
            "description_width": "",
            "_view_module": "@jupyter-widgets/base",
            "_model_module_version": "1.5.0",
            "_view_count": null,
            "_view_module_version": "1.2.0",
            "_model_module": "@jupyter-widgets/controls"
          }
        },
        "d61944ab254242f88dae4ee0b651e009": {
          "model_module": "@jupyter-widgets/base",
          "model_name": "LayoutModel",
          "state": {
            "_view_name": "LayoutView",
            "grid_template_rows": null,
            "right": null,
            "justify_content": null,
            "_view_module": "@jupyter-widgets/base",
            "overflow": null,
            "_model_module_version": "1.2.0",
            "_view_count": null,
            "flex_flow": null,
            "width": null,
            "min_width": null,
            "border": null,
            "align_items": null,
            "bottom": null,
            "_model_module": "@jupyter-widgets/base",
            "top": null,
            "grid_column": null,
            "overflow_y": null,
            "overflow_x": null,
            "grid_auto_flow": null,
            "grid_area": null,
            "grid_template_columns": null,
            "flex": null,
            "_model_name": "LayoutModel",
            "justify_items": null,
            "grid_row": null,
            "max_height": null,
            "align_content": null,
            "visibility": null,
            "align_self": null,
            "height": null,
            "min_height": null,
            "padding": null,
            "grid_auto_rows": null,
            "grid_gap": null,
            "max_width": null,
            "order": null,
            "_view_module_version": "1.2.0",
            "grid_template_areas": null,
            "object_position": null,
            "object_fit": null,
            "grid_auto_columns": null,
            "margin": null,
            "display": null,
            "left": null
          }
        }
      }
    }
  },
  "cells": [
    {
      "cell_type": "markdown",
      "metadata": {
        "id": "L4Nl18brPJ37"
      },
      "source": [
        "# Mount Drive"
      ]
    },
    {
      "cell_type": "code",
      "metadata": {
        "colab": {
          "base_uri": "https://localhost:8080/"
        },
        "id": "4-7JU3Q7q_XT",
        "outputId": "6cc74863-3650-45b5-a8a7-a16e40f9f1b7"
      },
      "source": [
        "from google.colab import drive\n",
        "drive.mount('/content/drive')"
      ],
      "execution_count": null,
      "outputs": [
        {
          "output_type": "stream",
          "text": [
            "Mounted at /content/drive\n"
          ],
          "name": "stdout"
        }
      ]
    },
    {
      "cell_type": "code",
      "metadata": {
        "colab": {
          "base_uri": "https://localhost:8080/"
        },
        "id": "DqqXI7Izk65p",
        "outputId": "be7f4527-ee34-4eba-e492-e567fc4c6e3e"
      },
      "source": [
        "!pip install -U -q PyDrive\n",
        "!pip install httplib2==0.15.0\n",
        "import os\n",
        "from pydrive.auth import GoogleAuth\n",
        "from pydrive.drive import GoogleDrive\n",
        "from pydrive.files import GoogleDriveFileList\n",
        "from google.colab import auth\n",
        "from oauth2client.client import GoogleCredentials\n",
        "\n",
        "from getpass import getpass\n",
        "import urllib\n",
        "\n",
        "# 1. Authenticate and create the PyDrive client.\n",
        "auth.authenticate_user()\n",
        "gauth = GoogleAuth()\n",
        "gauth.credentials = GoogleCredentials.get_application_default()\n",
        "drive = GoogleDrive(gauth)\n",
        "\n",
        "# Cloning PAL_2021 to access modules.\n",
        "# Need password to access private repo.\n",
        "\n",
        "if 'CLIPPER' not in os.listdir():\n",
        "    cmd_string = 'git clone https://github.com/PAL-ML/CLIPPER.git'\n",
        "    os.system(cmd_string)"
      ],
      "execution_count": null,
      "outputs": [
        {
          "output_type": "stream",
          "text": [
            "Collecting httplib2==0.15.0\n",
            "\u001b[?25l  Downloading https://files.pythonhosted.org/packages/be/83/5e006e25403871ffbbf587c7aa4650158c947d46e89f2d50dcaf018464de/httplib2-0.15.0-py3-none-any.whl (94kB)\n",
            "\r\u001b[K     |███▌                            | 10kB 21.1MB/s eta 0:00:01\r\u001b[K     |███████                         | 20kB 16.4MB/s eta 0:00:01\r\u001b[K     |██████████▍                     | 30kB 14.7MB/s eta 0:00:01\r\u001b[K     |█████████████▉                  | 40kB 13.6MB/s eta 0:00:01\r\u001b[K     |█████████████████▎              | 51kB 7.6MB/s eta 0:00:01\r\u001b[K     |████████████████████▊           | 61kB 7.3MB/s eta 0:00:01\r\u001b[K     |████████████████████████▏       | 71kB 8.3MB/s eta 0:00:01\r\u001b[K     |███████████████████████████▋    | 81kB 8.8MB/s eta 0:00:01\r\u001b[K     |███████████████████████████████ | 92kB 9.2MB/s eta 0:00:01\r\u001b[K     |████████████████████████████████| 102kB 6.4MB/s \n",
            "\u001b[?25hInstalling collected packages: httplib2\n",
            "  Found existing installation: httplib2 0.17.4\n",
            "    Uninstalling httplib2-0.17.4:\n",
            "      Successfully uninstalled httplib2-0.17.4\n",
            "Successfully installed httplib2-0.15.0\n"
          ],
          "name": "stdout"
        }
      ]
    },
    {
      "cell_type": "markdown",
      "metadata": {
        "id": "RGlVnbugxFK2"
      },
      "source": [
        "# Installation"
      ]
    },
    {
      "cell_type": "markdown",
      "metadata": {
        "id": "gmgIrfT8hDNE"
      },
      "source": [
        "## Install multi label metrics dependencies"
      ]
    },
    {
      "cell_type": "code",
      "metadata": {
        "colab": {
          "base_uri": "https://localhost:8080/"
        },
        "id": "b6xXPAFbe6Gp",
        "outputId": "87d5fdfc-d19e-4c22-a924-a88f171e1917"
      },
      "source": [
        "! pip install scikit-learn==0.24"
      ],
      "execution_count": null,
      "outputs": [
        {
          "output_type": "stream",
          "text": [
            "Collecting scikit-learn==0.24\n",
            "\u001b[?25l  Downloading https://files.pythonhosted.org/packages/b1/ed/ab51a8da34d2b3f4524b21093081e7f9e2ddf1c9eac9f795dcf68ad0a57d/scikit_learn-0.24.0-cp37-cp37m-manylinux2010_x86_64.whl (22.3MB)\n",
            "\u001b[K     |████████████████████████████████| 22.3MB 34.6MB/s \n",
            "\u001b[?25hRequirement already satisfied: numpy>=1.13.3 in /usr/local/lib/python3.7/dist-packages (from scikit-learn==0.24) (1.19.5)\n",
            "Requirement already satisfied: joblib>=0.11 in /usr/local/lib/python3.7/dist-packages (from scikit-learn==0.24) (1.0.1)\n",
            "Collecting threadpoolctl>=2.0.0\n",
            "  Downloading https://files.pythonhosted.org/packages/f7/12/ec3f2e203afa394a149911729357aa48affc59c20e2c1c8297a60f33f133/threadpoolctl-2.1.0-py3-none-any.whl\n",
            "Requirement already satisfied: scipy>=0.19.1 in /usr/local/lib/python3.7/dist-packages (from scikit-learn==0.24) (1.4.1)\n",
            "Installing collected packages: threadpoolctl, scikit-learn\n",
            "  Found existing installation: scikit-learn 0.22.2.post1\n",
            "    Uninstalling scikit-learn-0.22.2.post1:\n",
            "      Successfully uninstalled scikit-learn-0.22.2.post1\n",
            "Successfully installed scikit-learn-0.24.0 threadpoolctl-2.1.0\n"
          ],
          "name": "stdout"
        }
      ]
    },
    {
      "cell_type": "markdown",
      "metadata": {
        "id": "3rKe3HqM523g"
      },
      "source": [
        "## Install CLIP dependencies"
      ]
    },
    {
      "cell_type": "code",
      "metadata": {
        "colab": {
          "base_uri": "https://localhost:8080/"
        },
        "id": "poS-WNDixIhY",
        "outputId": "318104fb-9200-49f0-fd5b-22836860b973"
      },
      "source": [
        "import subprocess\n",
        "\n",
        "CUDA_version = [s for s in subprocess.check_output([\"nvcc\", \"--version\"]).decode(\"UTF-8\").split(\", \") if s.startswith(\"release\")][0].split(\" \")[-1]\n",
        "print(\"CUDA version:\", CUDA_version)\n",
        "\n",
        "if CUDA_version == \"10.0\":\n",
        "    torch_version_suffix = \"+cu100\"\n",
        "elif CUDA_version == \"10.1\":\n",
        "    torch_version_suffix = \"+cu101\"\n",
        "elif CUDA_version == \"10.2\":\n",
        "    torch_version_suffix = \"\"\n",
        "else:\n",
        "    torch_version_suffix = \"+cu110\""
      ],
      "execution_count": null,
      "outputs": [
        {
          "output_type": "stream",
          "text": [
            "CUDA version: 11.0\n"
          ],
          "name": "stdout"
        }
      ]
    },
    {
      "cell_type": "code",
      "metadata": {
        "colab": {
          "base_uri": "https://localhost:8080/"
        },
        "id": "uA-69W8M59nA",
        "outputId": "981fd84f-1efc-41aa-c0a4-90c99d62f2e7"
      },
      "source": [
        "! pip install torch==1.7.1{torch_version_suffix} torchvision==0.8.2{torch_version_suffix} -f https://download.pytorch.org/whl/torch_stable.html ftfy regex"
      ],
      "execution_count": null,
      "outputs": [
        {
          "output_type": "stream",
          "text": [
            "Looking in links: https://download.pytorch.org/whl/torch_stable.html\n",
            "Collecting torch==1.7.1+cu110\n",
            "\u001b[?25l  Downloading https://download.pytorch.org/whl/cu110/torch-1.7.1%2Bcu110-cp37-cp37m-linux_x86_64.whl (1156.8MB)\n",
            "\u001b[K     |███████████████████████         | 834.1MB 1.2MB/s eta 0:04:25tcmalloc: large alloc 1147494400 bytes == 0x55b390c48000 @  0x7efc9991b615 0x55b3568c7cdc 0x55b3569a752a 0x55b3568caafd 0x55b3569bbfed 0x55b35693e988 0x55b3569394ae 0x55b3568cc3ea 0x55b35693e7f0 0x55b3569394ae 0x55b3568cc3ea 0x55b35693b32a 0x55b3569bce36 0x55b35693a853 0x55b3569bce36 0x55b35693a853 0x55b3569bce36 0x55b35693a853 0x55b3569bce36 0x55b356a3f3e1 0x55b35699f6a9 0x55b35690acc4 0x55b3568cb559 0x55b35693f4f8 0x55b3568cc30a 0x55b35693a3b5 0x55b3569397ad 0x55b3568cc3ea 0x55b35693a3b5 0x55b3568cc30a 0x55b35693a3b5\n",
            "\u001b[K     |█████████████████████████████▏  | 1055.7MB 1.3MB/s eta 0:01:17tcmalloc: large alloc 1434370048 bytes == 0x55b3d529e000 @  0x7efc9991b615 0x55b3568c7cdc 0x55b3569a752a 0x55b3568caafd 0x55b3569bbfed 0x55b35693e988 0x55b3569394ae 0x55b3568cc3ea 0x55b35693e7f0 0x55b3569394ae 0x55b3568cc3ea 0x55b35693b32a 0x55b3569bce36 0x55b35693a853 0x55b3569bce36 0x55b35693a853 0x55b3569bce36 0x55b35693a853 0x55b3569bce36 0x55b356a3f3e1 0x55b35699f6a9 0x55b35690acc4 0x55b3568cb559 0x55b35693f4f8 0x55b3568cc30a 0x55b35693a3b5 0x55b3569397ad 0x55b3568cc3ea 0x55b35693a3b5 0x55b3568cc30a 0x55b35693a3b5\n",
            "\u001b[K     |████████████████████████████████| 1156.7MB 1.3MB/s eta 0:00:01tcmalloc: large alloc 1445945344 bytes == 0x55b42aa8a000 @  0x7efc9991b615 0x55b3568c7cdc 0x55b3569a752a 0x55b3568caafd 0x55b3569bbfed 0x55b35693e988 0x55b3569394ae 0x55b3568cc3ea 0x55b35693a60e 0x55b3569394ae 0x55b3568cc3ea 0x55b35693a60e 0x55b3569394ae 0x55b3568cc3ea 0x55b35693a60e 0x55b3569394ae 0x55b3568cc3ea 0x55b35693a60e 0x55b3569394ae 0x55b3568cc3ea 0x55b35693a60e 0x55b3568cc30a 0x55b35693a60e 0x55b3569394ae 0x55b3568cc3ea 0x55b35693b32a 0x55b3569394ae 0x55b3568cc3ea 0x55b35693b32a 0x55b3569394ae 0x55b3568cca81\n",
            "\u001b[K     |████████████████████████████████| 1156.8MB 16kB/s \n",
            "\u001b[33mWARNING: Retrying (Retry(total=4, connect=None, read=None, redirect=None, status=None)) after connection broken by 'ProtocolError('Connection aborted.', ConnectionResetError(104, 'Connection reset by peer'))': /simple/torchvision/\u001b[0m\n",
            "\u001b[?25hCollecting torchvision==0.8.2+cu110\n",
            "\u001b[?25l  Downloading https://download.pytorch.org/whl/cu110/torchvision-0.8.2%2Bcu110-cp37-cp37m-linux_x86_64.whl (12.9MB)\n",
            "\u001b[K     |████████████████████████████████| 12.9MB 235kB/s \n",
            "\u001b[?25hCollecting ftfy\n",
            "\u001b[?25l  Downloading https://files.pythonhosted.org/packages/ce/b5/5da463f9c7823e0e575e9908d004e2af4b36efa8d02d3d6dad57094fcb11/ftfy-6.0.1.tar.gz (63kB)\n",
            "\u001b[K     |████████████████████████████████| 71kB 8.9MB/s \n",
            "\u001b[?25hRequirement already satisfied: regex in /usr/local/lib/python3.7/dist-packages (2019.12.20)\n",
            "Requirement already satisfied: typing-extensions in /usr/local/lib/python3.7/dist-packages (from torch==1.7.1+cu110) (3.7.4.3)\n",
            "Requirement already satisfied: numpy in /usr/local/lib/python3.7/dist-packages (from torch==1.7.1+cu110) (1.19.5)\n",
            "Requirement already satisfied: pillow>=4.1.1 in /usr/local/lib/python3.7/dist-packages (from torchvision==0.8.2+cu110) (7.1.2)\n",
            "Requirement already satisfied: wcwidth in /usr/local/lib/python3.7/dist-packages (from ftfy) (0.2.5)\n",
            "Building wheels for collected packages: ftfy\n",
            "  Building wheel for ftfy (setup.py) ... \u001b[?25l\u001b[?25hdone\n",
            "  Created wheel for ftfy: filename=ftfy-6.0.1-cp37-none-any.whl size=41573 sha256=abb87de23eeee24585b4fc42959af20da5424b7758e42992e421b0e2efaa5292\n",
            "  Stored in directory: /root/.cache/pip/wheels/ae/73/c7/9056e14b04919e5c262fe80b54133b1a88d73683d05d7ac65c\n",
            "Successfully built ftfy\n",
            "\u001b[31mERROR: torchtext 0.9.1 has requirement torch==1.8.1, but you'll have torch 1.7.1+cu110 which is incompatible.\u001b[0m\n",
            "Installing collected packages: torch, torchvision, ftfy\n",
            "  Found existing installation: torch 1.8.1+cu101\n",
            "    Uninstalling torch-1.8.1+cu101:\n",
            "      Successfully uninstalled torch-1.8.1+cu101\n",
            "  Found existing installation: torchvision 0.9.1+cu101\n",
            "    Uninstalling torchvision-0.9.1+cu101:\n",
            "      Successfully uninstalled torchvision-0.9.1+cu101\n",
            "Successfully installed ftfy-6.0.1 torch-1.7.1+cu110 torchvision-0.8.2+cu110\n"
          ],
          "name": "stdout"
        }
      ]
    },
    {
      "cell_type": "code",
      "metadata": {
        "colab": {
          "base_uri": "https://localhost:8080/"
        },
        "id": "sYwBZS1N6A3d",
        "outputId": "69fe8243-04d5-4d3c-fbd9-a3b71541d06e"
      },
      "source": [
        "! pip install ftfy regex\n",
        "! wget https://openaipublic.azureedge.net/clip/bpe_simple_vocab_16e6.txt.gz -O bpe_simple_vocab_16e6.txt.gz"
      ],
      "execution_count": null,
      "outputs": [
        {
          "output_type": "stream",
          "text": [
            "Requirement already satisfied: ftfy in /usr/local/lib/python3.7/dist-packages (6.0.1)\n",
            "Requirement already satisfied: regex in /usr/local/lib/python3.7/dist-packages (2019.12.20)\n",
            "Requirement already satisfied: wcwidth in /usr/local/lib/python3.7/dist-packages (from ftfy) (0.2.5)\n",
            "--2021-05-15 12:51:54--  https://openaipublic.azureedge.net/clip/bpe_simple_vocab_16e6.txt.gz\n",
            "Resolving openaipublic.azureedge.net (openaipublic.azureedge.net)... 13.107.246.40, 13.107.213.40, 2620:1ec:bdf::40, ...\n",
            "Connecting to openaipublic.azureedge.net (openaipublic.azureedge.net)|13.107.246.40|:443... connected.\n",
            "HTTP request sent, awaiting response... 200 OK\n",
            "Length: 1356917 (1.3M) [application/octet-stream]\n",
            "Saving to: ‘bpe_simple_vocab_16e6.txt.gz’\n",
            "\n",
            "bpe_simple_vocab_16 100%[===================>]   1.29M  --.-KB/s    in 0.01s   \n",
            "\n",
            "2021-05-15 12:51:54 (100 MB/s) - ‘bpe_simple_vocab_16e6.txt.gz’ saved [1356917/1356917]\n",
            "\n"
          ],
          "name": "stdout"
        }
      ]
    },
    {
      "cell_type": "code",
      "metadata": {
        "colab": {
          "base_uri": "https://localhost:8080/"
        },
        "id": "9oIcNBYB8lz3",
        "outputId": "c4514417-383e-45d3-9d6f-22317a9f0571"
      },
      "source": [
        "!pip install git+https://github.com/Sri-vatsa/CLIP # using this fork because of visualization capabilities"
      ],
      "execution_count": null,
      "outputs": [
        {
          "output_type": "stream",
          "text": [
            "Collecting git+https://github.com/Sri-vatsa/CLIP\n",
            "  Cloning https://github.com/Sri-vatsa/CLIP to /tmp/pip-req-build-aal6nufx\n",
            "  Running command git clone -q https://github.com/Sri-vatsa/CLIP /tmp/pip-req-build-aal6nufx\n",
            "Requirement already satisfied: ftfy in /usr/local/lib/python3.7/dist-packages (from clip==1.0) (6.0.1)\n",
            "Requirement already satisfied: regex in /usr/local/lib/python3.7/dist-packages (from clip==1.0) (2019.12.20)\n",
            "Requirement already satisfied: tqdm in /usr/local/lib/python3.7/dist-packages (from clip==1.0) (4.41.1)\n",
            "Requirement already satisfied: torch~=1.7.1 in /usr/local/lib/python3.7/dist-packages (from clip==1.0) (1.7.1+cu110)\n",
            "Requirement already satisfied: torchvision~=0.8.2 in /usr/local/lib/python3.7/dist-packages (from clip==1.0) (0.8.2+cu110)\n",
            "Requirement already satisfied: wcwidth in /usr/local/lib/python3.7/dist-packages (from ftfy->clip==1.0) (0.2.5)\n",
            "Requirement already satisfied: typing-extensions in /usr/local/lib/python3.7/dist-packages (from torch~=1.7.1->clip==1.0) (3.7.4.3)\n",
            "Requirement already satisfied: numpy in /usr/local/lib/python3.7/dist-packages (from torch~=1.7.1->clip==1.0) (1.19.5)\n",
            "Requirement already satisfied: pillow>=4.1.1 in /usr/local/lib/python3.7/dist-packages (from torchvision~=0.8.2->clip==1.0) (7.1.2)\n",
            "Building wheels for collected packages: clip\n",
            "  Building wheel for clip (setup.py) ... \u001b[?25l\u001b[?25hdone\n",
            "  Created wheel for clip: filename=clip-1.0-cp37-none-any.whl size=1368623 sha256=1b774539e81b303ee2f74c97dc3b93fd2831d951c25ab184bc065989b32f7ae6\n",
            "  Stored in directory: /tmp/pip-ephem-wheel-cache-dii5j7j8/wheels/cc/55/69/0d411dabbd5009fd069d47b47cf7839c54e595dc61725b307b\n",
            "Successfully built clip\n",
            "Installing collected packages: clip\n",
            "Successfully installed clip-1.0\n"
          ],
          "name": "stdout"
        }
      ]
    },
    {
      "cell_type": "markdown",
      "metadata": {
        "id": "OLU-gp7n8__E"
      },
      "source": [
        "## Install clustering dependencies"
      ]
    },
    {
      "cell_type": "code",
      "metadata": {
        "id": "6TLg9ozo9Hvc"
      },
      "source": [
        "!pip -q install umap-learn>=0.3.7"
      ],
      "execution_count": null,
      "outputs": []
    },
    {
      "cell_type": "markdown",
      "metadata": {
        "id": "9z1WQnXdLHy2"
      },
      "source": [
        "## Install dataset manager dependencies"
      ]
    },
    {
      "cell_type": "code",
      "metadata": {
        "colab": {
          "base_uri": "https://localhost:8080/"
        },
        "id": "J1vvMx7_LLSp",
        "outputId": "d3380e14-71a0-44c5-e7e8-8cebb12ef03a"
      },
      "source": [
        "!pip install wget"
      ],
      "execution_count": null,
      "outputs": [
        {
          "output_type": "stream",
          "text": [
            "Collecting wget\n",
            "  Downloading https://files.pythonhosted.org/packages/47/6a/62e288da7bcda82b935ff0c6cfe542970f04e29c756b0e147251b2fb251f/wget-3.2.zip\n",
            "Building wheels for collected packages: wget\n",
            "  Building wheel for wget (setup.py) ... \u001b[?25l\u001b[?25hdone\n",
            "  Created wheel for wget: filename=wget-3.2-cp37-none-any.whl size=9681 sha256=3b036efd90c99c5a7684a28db73d8501279ba8b19a5c5d4cf857589c8bced204\n",
            "  Stored in directory: /root/.cache/pip/wheels/40/15/30/7d8f7cea2902b4db79e3fea550d7d7b85ecb27ef992b618f3f\n",
            "Successfully built wget\n",
            "Installing collected packages: wget\n",
            "Successfully installed wget-3.2\n"
          ],
          "name": "stdout"
        }
      ]
    },
    {
      "cell_type": "markdown",
      "metadata": {
        "id": "NzsubsEm72rr"
      },
      "source": [
        "# Imports"
      ]
    },
    {
      "cell_type": "code",
      "metadata": {
        "id": "KZI62a6G74kw"
      },
      "source": [
        "# ML Libraries\n",
        "import tensorflow as tf\n",
        "import tensorflow_hub as hub\n",
        "import torch\n",
        "import torch.nn as nn\n",
        "import torchvision.models as models\n",
        "import torchvision.transforms as transforms\n",
        "import keras\n",
        "\n",
        "# Data processing\n",
        "import PIL\n",
        "import base64\n",
        "import imageio\n",
        "import pandas as pd\n",
        "import numpy as np\n",
        "import json\n",
        "\n",
        "from PIL import Image\n",
        "import cv2\n",
        "from sklearn.feature_extraction.image import extract_patches_2d\n",
        "\n",
        "# Plotting\n",
        "import seaborn as sns\n",
        "import matplotlib.pyplot as plt\n",
        "import matplotlib.patches as patches\n",
        "\n",
        "from IPython.core.display import display, HTML\n",
        "from matplotlib import cm\n",
        "import matplotlib.image as mpimg\n",
        "\n",
        "# Models\n",
        "import clip\n",
        "\n",
        "# Datasets\n",
        "import tensorflow_datasets as tfds\n",
        "\n",
        "# Clustering\n",
        "# import umap\n",
        "\n",
        "from sklearn import metrics\n",
        "from sklearn.cluster import KMeans\n",
        "#from yellowbrick.cluster import KElbowVisualizer\n",
        "\n",
        "# Misc\n",
        "import progressbar\n",
        "import logging\n",
        "from abc import ABC, abstractmethod\n",
        "import time\n",
        "import urllib.request\n",
        "import os\n",
        "from sklearn.metrics import jaccard_score, hamming_loss, accuracy_score, f1_score\n",
        "from sklearn.preprocessing import MultiLabelBinarizer\n",
        "\n",
        "\n",
        "# Modules\n",
        "from CLIPPER.code.ExperimentModules import embedding_models\n",
        "from CLIPPER.code.ExperimentModules.dataset_manager import DatasetManager\n",
        "from CLIPPER.code.ExperimentModules.weight_imprinting_classifier import WeightImprintingClassifier\n",
        "from CLIPPER.code.ExperimentModules import simclr_data_augmentations\n",
        "from CLIPPER.code.ExperimentModules.utils import (save_npy, load_npy, \n",
        "                                                       get_folder_id, \n",
        "                                                       create_expt_dir, \n",
        "                                                       save_to_drive, \n",
        "                                                       load_all_from_drive_folder, \n",
        "                                                       download_file_by_name, \n",
        "                                                       delete_file_by_name)\n",
        "\n",
        "logging.getLogger('googleapicliet.discovery_cache').setLevel(logging.ERROR)"
      ],
      "execution_count": null,
      "outputs": []
    },
    {
      "cell_type": "markdown",
      "metadata": {
        "id": "zU_gxQ0KbwMh"
      },
      "source": [
        "# Initialization & Constants\n"
      ]
    },
    {
      "cell_type": "markdown",
      "metadata": {
        "id": "txBvu3lU-EVO"
      },
      "source": [
        "## Dataset details"
      ]
    },
    {
      "cell_type": "code",
      "metadata": {
        "colab": {
          "base_uri": "https://localhost:8080/"
        },
        "id": "bih5tBPdbx3u",
        "outputId": "87c6f1e8-a485-4907-ed66-46de094da355"
      },
      "source": [
        "dataset_name = 'CIFAR10'\n",
        "folder_name = \"CIFAR10-Embeddings-28-02-21\"\n",
        "\n",
        "# Change parentid to match that of experiments root folder in gdrive\n",
        "parentid = '1bK72W-Um20EQDEyChNhNJthUNbmoSEjD'\n",
        "\n",
        "# Filepaths\n",
        "test_labels_filename = \"test_labels.npz\"\n",
        "\n",
        "test_embeddings_filename_suffix = \"_embeddings_test.npz\"\n",
        "\n",
        "# Initialize sepcific experiment folder in drive\n",
        "folderid = create_expt_dir(drive, parentid, folder_name)"
      ],
      "execution_count": null,
      "outputs": [
        {
          "output_type": "stream",
          "text": [
            "title: CIFAR10-Embeddings-28-02-21, id: 1GKPlpMFB9DilMM4201GQAHVokIL94d_N\n",
            "Experiment folder already exists. WARNING: Following with this run might overwrite existing results stored.\n"
          ],
          "name": "stdout"
        }
      ]
    },
    {
      "cell_type": "markdown",
      "metadata": {
        "id": "7adeWKpB-Gdk"
      },
      "source": [
        "## Threshold range\n",
        "\n"
      ]
    },
    {
      "cell_type": "code",
      "metadata": {
        "id": "alpQcgdL-BTd"
      },
      "source": [
        "min_threshold = 0.44\n",
        "max_threshold = 0.72\n",
        "threshold_stepsize = 0.01"
      ],
      "execution_count": null,
      "outputs": []
    },
    {
      "cell_type": "markdown",
      "metadata": {
        "id": "dTMseBlA-xyO"
      },
      "source": [
        "## Few shot learning parameters"
      ]
    },
    {
      "cell_type": "code",
      "metadata": {
        "id": "ks-9cfhX-wvz"
      },
      "source": [
        "num_ways = 5 # [5, 10]\n",
        "num_shot = 5 # [5, 1]\n",
        "num_eval = 15 # [5, 10, 15, 19]\n",
        "num_episodes = 100\n",
        "shuffle = False"
      ],
      "execution_count": null,
      "outputs": []
    },
    {
      "cell_type": "markdown",
      "metadata": {
        "id": "A2EubiVL_gRG"
      },
      "source": [
        "## Image embedding and augmentations"
      ]
    },
    {
      "cell_type": "code",
      "metadata": {
        "id": "wgkPidFD_frf"
      },
      "source": [
        "embedding_model = embedding_models.CLIPEmbeddingWrapper()\n",
        "num_augmentations = 0 # [0, 5, 10]\n",
        "trivial=False # [True, False]"
      ],
      "execution_count": null,
      "outputs": []
    },
    {
      "cell_type": "markdown",
      "metadata": {
        "id": "DpVmoi5pAW4K"
      },
      "source": [
        "## Training parameters"
      ]
    },
    {
      "cell_type": "code",
      "metadata": {
        "id": "2oki_jMyAXg-"
      },
      "source": [
        "# List of number of epochs to train over, e.g. [5, 10, 15, 20]. [0] indicates no training.\n",
        "train_epochs_arr = [0] "
      ],
      "execution_count": null,
      "outputs": []
    },
    {
      "cell_type": "markdown",
      "metadata": {
        "id": "UxTa8MVsvQCN"
      },
      "source": [
        "# Load data"
      ]
    },
    {
      "cell_type": "code",
      "metadata": {
        "colab": {
          "base_uri": "https://localhost:8080/"
        },
        "id": "n6S124Jfwuu5",
        "outputId": "6200a5d1-7e5e-410e-95db-c91d7fb022e1"
      },
      "source": [
        "def get_ndarray_from_drive(drive, folderid, filename):\n",
        "    download_file_by_name(drive, folderid, filename)\n",
        "    return np.load(filename)['data']\n",
        "\n",
        "test_labels = get_ndarray_from_drive(drive, folderid, test_labels_filename)"
      ],
      "execution_count": null,
      "outputs": [
        {
          "output_type": "stream",
          "text": [
            "Downloading test_labels.npz from GDrive\n",
            "Downloading test_labels.npz from GDrive\n"
          ],
          "name": "stdout"
        }
      ]
    },
    {
      "cell_type": "code",
      "metadata": {
        "colab": {
          "base_uri": "https://localhost:8080/",
          "height": 384,
          "referenced_widgets": [
            "7fc8d125a5e147759f45db3bc42ec7d0",
            "addeb74b82c74da39af83c6fed49fbbb",
            "58d60783c0a94ec99ad4f433b06edede",
            "0b57cf9dd6d445b9a2bbd3e8cdc4d0c1",
            "22d35e1a3bfe4ea1aba3be71deaac570",
            "1737979c0a8743e09ce4cc4c27173266",
            "ff2d0061a9714072a6a3f65edd772845",
            "e446e6329a164425afda5bff3b9e8a57",
            "b5b38e68a2974d26b217003ce5d4d178",
            "dec4f6d749a44843816a2e5ca0920488",
            "c6422f253b364d3ba85b1173160a3feb",
            "09cd64f330514546a638e2b7932faa20",
            "0a3e6ac766c942759c7c7ba375f467ad",
            "49c6589992344cf6b7a9793bb5a3a56d",
            "2691c01176c94576b8af6c08d7168393",
            "d6866bdea09e4e53acab976a548d6589",
            "b84fca27976d41fb8c4440e2ed9d1761",
            "2232723ce22f491da15b3bea0957faee",
            "207a7bfb2f6a4e338123c3442bed0faa",
            "daf3400056e4497a9e2e725ea29e1b18",
            "2a099211037640fba3702a1b493aefa6",
            "18660d9aedcb4edebe7bd5fe0e575e43",
            "20088101e83c48d499adae97638412ac",
            "dd49725385544712a5f4a143b026cfe0",
            "c59afb8c36ad4267a7d8033a94e01647",
            "1ce7eb1648904fcfbd12f6302b130fc8",
            "70b07caf11a5458baa0e85a39cdc1f25",
            "28667dd8f73f4c8293e0e7a732b52903",
            "4794c8f0602e4cc6b8f79dcb9eb185de",
            "b1dab0fe24024c55b216dff0fe5bd4fc",
            "e5f27f2a625b4714ba38c2bd09effaac",
            "384a66e836af40d1af8b1d90e556f61f",
            "ecd345521f7a414297ab37065632bfa5",
            "9a2d9ca82c9d4465ac3070b8ded1ed03",
            "a574cb1ecdfe42d3964dc20d93b26758",
            "933eddadd8d04748be89f1f294d4f6ad",
            "df01f28b6eac4171adfde8177217a499",
            "f43b67b9a5124bcd84f34c866a52a3c3",
            "fdb870728728412db32df3fb935b6aca",
            "64340c5a5db9498daa04ec0e708725e0",
            "6fab7c91aa764a0680c2591d071eef8c",
            "4894d4e5ccdc416b8ed08020637b9630",
            "1a2a40811b22429a8f53a23c1ebcd1f6",
            "a345709323434fbfadb79a80cdf3a5ba",
            "f4ee97f3f0f54fad99b17f3abc38007d",
            "7346a5f987334466bf23c9991afa8ad1",
            "07de0108eb974c5aae51eefcb3cb454f",
            "5e68e5cfacf54a969d0dd153f672645a",
            "94c70471c4814ea7955c6a3b4641f34d",
            "3a5af25e0b2c4d0fb369909a0ed268a4",
            "9f9ed1c364094c0ea8676427c05033c5",
            "39bfd01f1f0c45f5a68b76721df6e3d8",
            "1376c04e7bbd43f49da0dba876e1511d",
            "5087bc7dc642416d84aa0303cdf822b0",
            "c7465a33a86740b48663ed44b65aa51c",
            "d61944ab254242f88dae4ee0b651e009"
          ]
        },
        "id": "4p2JpaGHmqbl",
        "outputId": "e25245d8-6313-4428-c584-3a2a82ad417f"
      },
      "source": [
        "dm = DatasetManager()\n",
        "\n",
        "test_data_generator = dm.load_dataset('cifar10', split='test')\n",
        "\n",
        "class_names = dm.get_class_names()\n",
        "print(class_names)"
      ],
      "execution_count": null,
      "outputs": [
        {
          "output_type": "stream",
          "text": [
            "\u001b[1mDownloading and preparing dataset cifar10/3.0.2 (download: 162.17 MiB, generated: 132.40 MiB, total: 294.58 MiB) to /root/tensorflow_datasets/cifar10/3.0.2...\u001b[0m\n"
          ],
          "name": "stdout"
        },
        {
          "output_type": "display_data",
          "data": {
            "application/vnd.jupyter.widget-view+json": {
              "model_id": "7fc8d125a5e147759f45db3bc42ec7d0",
              "version_minor": 0,
              "version_major": 2
            },
            "text/plain": [
              "HBox(children=(FloatProgress(value=1.0, bar_style='info', description='Dl Completed...', max=1.0, style=Progre…"
            ]
          },
          "metadata": {
            "tags": []
          }
        },
        {
          "output_type": "display_data",
          "data": {
            "application/vnd.jupyter.widget-view+json": {
              "model_id": "b5b38e68a2974d26b217003ce5d4d178",
              "version_minor": 0,
              "version_major": 2
            },
            "text/plain": [
              "HBox(children=(FloatProgress(value=1.0, bar_style='info', description='Dl Size...', max=1.0, style=ProgressSty…"
            ]
          },
          "metadata": {
            "tags": []
          }
        },
        {
          "output_type": "display_data",
          "data": {
            "application/vnd.jupyter.widget-view+json": {
              "model_id": "b84fca27976d41fb8c4440e2ed9d1761",
              "version_minor": 0,
              "version_major": 2
            },
            "text/plain": [
              "HBox(children=(FloatProgress(value=1.0, bar_style='info', description='Extraction completed...', max=1.0, styl…"
            ]
          },
          "metadata": {
            "tags": []
          }
        },
        {
          "output_type": "stream",
          "text": [
            "\n",
            "\n",
            "\n",
            "\n",
            "\n",
            "\n"
          ],
          "name": "stdout"
        },
        {
          "output_type": "display_data",
          "data": {
            "application/vnd.jupyter.widget-view+json": {
              "model_id": "c59afb8c36ad4267a7d8033a94e01647",
              "version_minor": 0,
              "version_major": 2
            },
            "text/plain": [
              "HBox(children=(FloatProgress(value=1.0, bar_style='info', max=1.0), HTML(value='')))"
            ]
          },
          "metadata": {
            "tags": []
          }
        },
        {
          "output_type": "stream",
          "text": [
            "\rShuffling and writing examples to /root/tensorflow_datasets/cifar10/3.0.2.incompleteRLTOPU/cifar10-train.tfrecord\n"
          ],
          "name": "stdout"
        },
        {
          "output_type": "display_data",
          "data": {
            "application/vnd.jupyter.widget-view+json": {
              "model_id": "ecd345521f7a414297ab37065632bfa5",
              "version_minor": 0,
              "version_major": 2
            },
            "text/plain": [
              "HBox(children=(FloatProgress(value=0.0, max=50000.0), HTML(value='')))"
            ]
          },
          "metadata": {
            "tags": []
          }
        },
        {
          "output_type": "display_data",
          "data": {
            "application/vnd.jupyter.widget-view+json": {
              "model_id": "6fab7c91aa764a0680c2591d071eef8c",
              "version_minor": 0,
              "version_major": 2
            },
            "text/plain": [
              "HBox(children=(FloatProgress(value=1.0, bar_style='info', max=1.0), HTML(value='')))"
            ]
          },
          "metadata": {
            "tags": []
          }
        },
        {
          "output_type": "stream",
          "text": [
            "Shuffling and writing examples to /root/tensorflow_datasets/cifar10/3.0.2.incompleteRLTOPU/cifar10-test.tfrecord\n"
          ],
          "name": "stdout"
        },
        {
          "output_type": "display_data",
          "data": {
            "application/vnd.jupyter.widget-view+json": {
              "model_id": "94c70471c4814ea7955c6a3b4641f34d",
              "version_minor": 0,
              "version_major": 2
            },
            "text/plain": [
              "HBox(children=(FloatProgress(value=0.0, max=10000.0), HTML(value='')))"
            ]
          },
          "metadata": {
            "tags": []
          }
        },
        {
          "output_type": "stream",
          "text": [
            "\u001b[1mDataset cifar10 downloaded and prepared to /root/tensorflow_datasets/cifar10/3.0.2. Subsequent calls will reuse this data.\u001b[0m\n",
            "['airplane', 'automobile', 'bird', 'cat', 'deer', 'dog', 'frog', 'horse', 'ship', 'truck']\n"
          ],
          "name": "stdout"
        }
      ]
    },
    {
      "cell_type": "markdown",
      "metadata": {
        "id": "iLbRqaYxzbr7"
      },
      "source": [
        "# Create label dictionary"
      ]
    },
    {
      "cell_type": "code",
      "metadata": {
        "colab": {
          "base_uri": "https://localhost:8080/"
        },
        "id": "Emz85fNX0Vif",
        "outputId": "1bba8834-0d0b-45b4-de5c-1bc8ac0cb6d8"
      },
      "source": [
        "unique_labels = np.unique(test_labels)\n",
        "print(len(unique_labels))"
      ],
      "execution_count": null,
      "outputs": [
        {
          "output_type": "stream",
          "text": [
            "10\n"
          ],
          "name": "stdout"
        }
      ]
    },
    {
      "cell_type": "code",
      "metadata": {
        "id": "0TubS-RLzeVM"
      },
      "source": [
        "label_dictionary = {la:[] for la in unique_labels}\n",
        "\n",
        "for i in range(len(test_labels)):\n",
        "    la = test_labels[i]\n",
        "\n",
        "    label_dictionary[la].append(i)"
      ],
      "execution_count": null,
      "outputs": []
    },
    {
      "cell_type": "markdown",
      "metadata": {
        "id": "xP6ftkDCvKul"
      },
      "source": [
        "# Weight Imprinting models on train data embeddings"
      ]
    },
    {
      "cell_type": "markdown",
      "metadata": {
        "id": "fJIGo_R86GQi"
      },
      "source": [
        "## Function definitions"
      ]
    },
    {
      "cell_type": "code",
      "metadata": {
        "id": "pv68q8TH6tvG"
      },
      "source": [
        "def start_progress_bar(bar_len):\n",
        "    widgets = [\n",
        "        ' [', \n",
        "        progressbar.Timer(format= 'elapsed time: %(elapsed)s'), \n",
        "        '] ', \n",
        "        progressbar.Bar('*'),' (', \n",
        "        progressbar.ETA(), ') ', \n",
        "        ]\n",
        "    pbar = progressbar.ProgressBar(\n",
        "        max_value=bar_len, widgets=widgets\n",
        "        ).start()\n",
        "\n",
        "    return pbar"
      ],
      "execution_count": null,
      "outputs": []
    },
    {
      "cell_type": "code",
      "metadata": {
        "id": "DtoopzLRStTO"
      },
      "source": [
        "def prepare_indices(\n",
        "    num_ways,\n",
        "    num_shot,\n",
        "    num_eval,\n",
        "    num_episodes,\n",
        "    label_dictionary,\n",
        "    labels,\n",
        "    shuffle=False\n",
        "):\n",
        "    eval_indices = []\n",
        "    train_indices = []\n",
        "    wi_y = []\n",
        "    eval_y = []\n",
        "\n",
        "    label_dictionary = {la:label_dictionary[la] for la in label_dictionary if len(label_dictionary[la]) >= (num_shot+num_eval)}\n",
        "    unique_labels = list(label_dictionary.keys())\n",
        "\n",
        "    pbar = start_progress_bar(num_episodes)\n",
        "\n",
        "    for s in range(num_episodes):\n",
        "        # Setting random seed for replicability\n",
        "        np.random.seed(s)\n",
        "\n",
        "        _train_indices = []\n",
        "        _eval_indices = []\n",
        "\n",
        "        selected_labels = np.random.choice(unique_labels, size=num_ways, replace=False)\n",
        "        for la in selected_labels:\n",
        "            la_indices = label_dictionary[la]\n",
        "            select = np.random.choice(la_indices, size = num_shot+num_eval, replace=False)\n",
        "            tr_idx = list(select[:num_shot])\n",
        "            ev_idx = list(select[num_shot:])\n",
        "\n",
        "            _train_indices = _train_indices + tr_idx\n",
        "            _eval_indices = _eval_indices + ev_idx\n",
        "\n",
        "        if shuffle:\n",
        "            np.random.shuffle(_train_indices)\n",
        "            np.random.shuffle(_eval_indices)\n",
        "\n",
        "        train_indices.append(_train_indices)\n",
        "        eval_indices.append(_eval_indices)\n",
        "\n",
        "        _wi_y = labels[_train_indices]\n",
        "        _eval_y = labels[_eval_indices]\n",
        "\n",
        "        wi_y.append(_wi_y)\n",
        "        eval_y.append(_eval_y)\n",
        "\n",
        "        pbar.update(s+1)\n",
        "        \n",
        "    return train_indices, eval_indices, wi_y, eval_y"
      ],
      "execution_count": null,
      "outputs": []
    },
    {
      "cell_type": "code",
      "metadata": {
        "id": "4M5aHABX7k8a"
      },
      "source": [
        "def embed_images(\n",
        "    embedding_model, \n",
        "    train_indices, \n",
        "    num_augmentations,\n",
        "    trivial=False\n",
        "    ):\n",
        "\n",
        "    def augment_image(image, num_augmentations, trivial):\n",
        "        \"\"\" Perform SimCLR augmentations on the image\n",
        "        \"\"\"\n",
        "\n",
        "        if np.max(image) > 1:\n",
        "            image = image/255\n",
        "\n",
        "        augmented_images = [image]\n",
        "\n",
        "        def _run_filters(image):\n",
        "            width = image.shape[1]\n",
        "            height = image.shape[0]\n",
        "            image_aug = simclr_data_augmentations.random_crop_with_resize(\n",
        "                image,\n",
        "                height,\n",
        "                width\n",
        "                )\n",
        "            image_aug = tf.image.random_flip_left_right(image_aug)\n",
        "            image_aug = simclr_data_augmentations.random_color_jitter(image_aug)\n",
        "            image_aug = simclr_data_augmentations.random_blur(\n",
        "                image_aug,\n",
        "                height,\n",
        "                width\n",
        "                )\n",
        "            image_aug = tf.reshape(image_aug, [image.shape[0], image.shape[1], 3])\n",
        "            image_aug = tf.clip_by_value(image_aug, 0., 1.)\n",
        "\n",
        "            return image_aug.numpy()\n",
        "\n",
        "        for _ in range(num_augmentations):\n",
        "            if trivial:\n",
        "                aug_image = image\n",
        "            else:\n",
        "                aug_image = _run_filters(image)\n",
        "            augmented_images.append(aug_image)\n",
        "\n",
        "        augmented_images = np.stack(augmented_images)\n",
        "        return augmented_images\n",
        "\n",
        "    embedding_model.load_model()\n",
        "\n",
        "    unique_indices = np.unique(np.array(train_indices))\n",
        "\n",
        "    ds = dm.load_dataset('cifar10', split='test')\n",
        "    embeddings = []\n",
        "    IMAGE_IDX = 'image'\n",
        "    pbar = start_progress_bar(unique_indices.size+1)\n",
        "    num_done=0\n",
        "    for idx, item in enumerate(ds):\n",
        "        if idx in unique_indices:\n",
        "            image = item[IMAGE_IDX]\n",
        "            if num_augmentations > 0:\n",
        "                aug_images = augment_image(image, num_augmentations, trivial)\n",
        "            else:\n",
        "                aug_images = image\n",
        "            \n",
        "            processed_images = embedding_model.preprocess_data(aug_images)\n",
        "            embedding = embedding_model.embed_images(processed_images)\n",
        "            embeddings.append(embedding)\n",
        "            \n",
        "            num_done += 1\n",
        "            pbar.update(num_done+1)\n",
        "\n",
        "        if idx == unique_indices[-1]:\n",
        "            break\n",
        "\n",
        "    embeddings = np.stack(embeddings)\n",
        "\n",
        "    return unique_indices, embeddings"
      ],
      "execution_count": null,
      "outputs": []
    },
    {
      "cell_type": "code",
      "metadata": {
        "id": "r3DO9vntM6sV"
      },
      "source": [
        "def train_model_for_episode(\n",
        "    indices_and_embeddings,\n",
        "    train_indices,\n",
        "    wi_y,\n",
        "    num_augmentations,\n",
        "    train_epochs=None,\n",
        "    train_batch_size=5,\n",
        "    multi_label=True\n",
        "):\n",
        "\n",
        "    train_embeddings = []\n",
        "    train_labels = []\n",
        "    ind = indices_and_embeddings[0]\n",
        "    emb = indices_and_embeddings[1]\n",
        "\n",
        "    for idx, tr_idx in enumerate(train_indices):\n",
        "        train_embeddings.append(emb[np.argwhere(ind==tr_idx)[0][0]])\n",
        "        train_labels += [wi_y[idx] for _ in range(num_augmentations+1)]\n",
        "    train_embeddings = np.concatenate(train_embeddings)\n",
        "\n",
        "    train_embeddings = WeightImprintingClassifier.preprocess_input(train_embeddings)\n",
        "\n",
        "    wi_weights, label_mapping = WeightImprintingClassifier.get_imprinting_weights(\n",
        "        train_embeddings, train_labels, False, multi_label\n",
        "        )\n",
        "\n",
        "    wi_parameters = {\n",
        "        \"num_classes\": num_ways,\n",
        "        \"input_dims\": train_embeddings.shape[-1],\n",
        "        \"scale\": False,\n",
        "        \"dense_layer_weights\": wi_weights,\n",
        "        \"multi_label\": multi_label\n",
        "    }\n",
        "\n",
        "    wi_cls = WeightImprintingClassifier(wi_parameters)\n",
        "\n",
        "    if train_epochs:\n",
        "        # ep_y = train_labels\n",
        "        rev_label_mapping = {label_mapping[val]:val for val in label_mapping}\n",
        "        train_y = np.zeros((len(train_labels), num_ways))\n",
        "        for idx_y, l in enumerate(train_labels):\n",
        "            if multi_label:\n",
        "                for _l in l:\n",
        "                    train_y[idx_y, rev_label_mapping[_l]] = 1\n",
        "            else:\n",
        "                train_y[idx_y, rev_label_mapping[l]] = 1\n",
        "\n",
        "        wi_cls.train(train_embeddings, train_y, train_epochs, train_batch_size)\n",
        "\n",
        "    return wi_cls, label_mapping"
      ],
      "execution_count": null,
      "outputs": []
    },
    {
      "cell_type": "code",
      "metadata": {
        "id": "VrYMC-cTM6sW"
      },
      "source": [
        "def evaluate_model_for_episode(\n",
        "    model,\n",
        "    eval_x,\n",
        "    eval_y,\n",
        "    label_mapping,\n",
        "    metrics=['hamming', 'jaccard', 'subset_accuracy', 'ap', 'map', 'c_f1', 'o_f1', 'c_precision', 'o_precision', 'c_recall', 'o_recall', 'top1_accuracy', 'top5_accuracy', 'classwise_accuracy', 'c_accuracy'],\n",
        "    threshold=0.7,\n",
        "    multi_label=True\n",
        "):\n",
        "    eval_x = WeightImprintingClassifier.preprocess_input(eval_x)\n",
        "    logits = model.predict_scores(eval_x).tolist()\n",
        "\n",
        "    if multi_label:\n",
        "        pred_y = model.predict_multi_label(eval_x, threshold)\n",
        "        pred_y = [[label_mapping[v] for v in l] for l in pred_y]\n",
        "\n",
        "        met = model.evaluate_multi_label_metrics(\n",
        "            eval_x, eval_y, label_mapping, threshold, metrics\n",
        "            )\n",
        "    else:\n",
        "        pred_y = model.predict_single_label(eval_x)\n",
        "        pred_y = [label_mapping[l] for l in pred_y]\n",
        "\n",
        "        met = model.evaluate_single_label_metrics(\n",
        "            eval_x, eval_y, label_mapping, metrics\n",
        "            )\n",
        "    return pred_y, met, logits"
      ],
      "execution_count": null,
      "outputs": []
    },
    {
      "cell_type": "code",
      "metadata": {
        "id": "Fmp4SLVkM6sW"
      },
      "source": [
        "def run_episode_through_model(\n",
        "    indices_and_embeddings,\n",
        "    train_indices, \n",
        "    eval_indices, \n",
        "    wi_y, \n",
        "    eval_y,\n",
        "    thresholds=None,\n",
        "    num_augmentations=0,\n",
        "    train_epochs=None,\n",
        "    train_batch_size=5,\n",
        "    metrics=['hamming', 'jaccard', 'subset_accuracy', 'ap', 'map', 'c_f1', 'o_f1', 'c_precision', 'o_precision', 'c_recall', 'o_recall', 'top1_accuracy', 'top5_accuracy', 'classwise_accuracy', 'c_accuracy'],\n",
        "    embeddings=None,\n",
        "    multi_label=True\n",
        "):\n",
        "    metrics_values = {m:[] for m in metrics}\n",
        "\n",
        "    wi_cls, label_mapping = train_model_for_episode(\n",
        "        indices_and_embeddings,\n",
        "        train_indices,\n",
        "        wi_y,\n",
        "        num_augmentations,\n",
        "        train_epochs,\n",
        "        train_batch_size,\n",
        "        multi_label=multi_label\n",
        "    )\n",
        "\n",
        "    eval_x = embeddings[eval_indices]\n",
        "    ep_logits = []\n",
        "\n",
        "    if multi_label:\n",
        "        for t in thresholds:\n",
        "            pred_labels, met, logits = evaluate_model_for_episode(\n",
        "                wi_cls,\n",
        "                eval_x,\n",
        "                eval_y,\n",
        "                label_mapping,\n",
        "                threshold=t,\n",
        "                metrics=metrics,\n",
        "                multi_label=True\n",
        "            )\n",
        "            ep_logits.append(logits)\n",
        "            for m in metrics:\n",
        "                metrics_values[m].append(met[m])\n",
        "    else:\n",
        "        pred_labels, metrics_values, logits = evaluate_model_for_episode(\n",
        "            wi_cls,\n",
        "            eval_x,\n",
        "            eval_y,\n",
        "            label_mapping,\n",
        "            metrics=['accuracy', 'f1_score'],\n",
        "            multi_label=False\n",
        "        )\n",
        "        ep_logits = logits\n",
        "    return metrics_values, ep_logits"
      ],
      "execution_count": null,
      "outputs": []
    },
    {
      "cell_type": "code",
      "metadata": {
        "id": "iPyO6W5SM6sX"
      },
      "source": [
        "def run_evaluations(\n",
        "    indices_and_embeddings,\n",
        "    train_indices, \n",
        "    eval_indices, \n",
        "    wi_y, \n",
        "    eval_y, \n",
        "    num_episodes, \n",
        "    num_ways,\n",
        "    thresholds,\n",
        "    verbose=True,\n",
        "    normalize=True,\n",
        "    train_epochs=None,\n",
        "    train_batch_size=5,\n",
        "    metrics=['hamming', 'jaccard', 'subset_accuracy', 'ap', 'map', 'c_f1', 'o_f1', 'c_precision', 'o_precision', 'c_recall', 'o_recall', 'top1_accuracy', 'top5_accuracy', 'classwise_accuracy', 'c_accuracy'],\n",
        "    embeddings=None,\n",
        "    num_augmentations=0,\n",
        "    multi_label=True\n",
        "):\n",
        "    metrics_values = {m:[] for m in metrics}\n",
        "\n",
        "    all_logits = []\n",
        "\n",
        "    if verbose:\n",
        "        pbar = start_progress_bar(num_episodes)\n",
        "\n",
        "    for idx_ep in range(num_episodes):\n",
        "        _train_indices = train_indices[idx_ep]\n",
        "        _eval_indices = eval_indices[idx_ep]\n",
        "        _wi_y = [[label] for label in wi_y[idx_ep]]\n",
        "        _eval_y = [[label] for label in eval_y[idx_ep]]\n",
        "\n",
        "        met, ep_logits = run_episode_through_model(\n",
        "            indices_and_embeddings,\n",
        "            _train_indices, \n",
        "            _eval_indices, \n",
        "            _wi_y, \n",
        "            _eval_y,\n",
        "            num_augmentations=num_augmentations,\n",
        "            train_epochs=train_epochs,\n",
        "            train_batch_size=train_batch_size,\n",
        "            embeddings=embeddings,\n",
        "            thresholds=thresholds,\n",
        "            metrics=metrics,\n",
        "            multi_label=multi_label\n",
        "        )\n",
        "\n",
        "        all_logits.append(ep_logits)\n",
        "\n",
        "        for m in metrics:\n",
        "            metrics_values[m].append(met[m])\n",
        "\n",
        "        if verbose:\n",
        "            pbar.update(idx_ep+1)\n",
        "    return metrics_values, all_logits"
      ],
      "execution_count": null,
      "outputs": []
    },
    {
      "cell_type": "code",
      "metadata": {
        "id": "MzmivM_CtSbA"
      },
      "source": [
        "def get_max_mean_jaccard_index_by_threshold(metrics_thresholds):\n",
        "    max_mean_jaccard = np.max([np.mean(mt['jaccard']) for mt in metrics_thresholds])\n",
        "    return max_mean_jaccard"
      ],
      "execution_count": null,
      "outputs": []
    },
    {
      "cell_type": "code",
      "metadata": {
        "id": "UtLfeX4w8tEZ"
      },
      "source": [
        "def get_max_mean_jaccard_index_with_threshold(metrics_thresholds):\n",
        "    arr = np.array(metrics_thresholds['jaccard'])\n",
        "    max_mean_jaccard = np.max(np.mean(arr, 0))\n",
        "    threshold = np.argmax(np.mean(arr, 0))\n",
        "    return max_mean_jaccard, threshold\n",
        "\n",
        "def get_max_mean_f1_score_with_threshold(metrics_thresholds):\n",
        "    arr = np.array(metrics_thresholds['f1_score'])\n",
        "    max_mean_jaccard = np.max(np.mean(arr, 0))\n",
        "    threshold = np.argmax(np.mean(arr, 0))\n",
        "    return max_mean_jaccard, threshold"
      ],
      "execution_count": null,
      "outputs": []
    },
    {
      "cell_type": "code",
      "metadata": {
        "id": "wsKTx1h6tSbL"
      },
      "source": [
        "def get_mean_max_jaccard_index_by_episode(metrics_thresholds):\n",
        "    mean_max_jaccard = np.mean(np.max(np.array([mt['jaccard'] for mt in metrics_thresholds]), axis=0))\n",
        "    return mean_max_jaccard"
      ],
      "execution_count": null,
      "outputs": []
    },
    {
      "cell_type": "code",
      "metadata": {
        "id": "Y1mgLWl5N0hY"
      },
      "source": [
        "def plot_metrics_by_threshold(\n",
        "    metrics_thresholds, \n",
        "    thresholds, \n",
        "    metrics=['hamming', 'jaccard', 'subset_accuracy', 'ap', 'map', 'c_f1', 'o_f1', 'c_precision', 'o_precision', 'c_recall', 'o_recall', 'top1_accuracy', 'top5_accuracy', 'classwise_accuracy', 'c_accuracy'],\n",
        "    title_suffix=\"\"\n",
        "):\n",
        "    legend = []\n",
        "\n",
        "    fig = plt.figure(figsize=(10,10))\n",
        "    if 'jaccard' in metrics:\n",
        "        mean_jaccard_threshold = np.mean(np.array(metrics_thresholds['jaccard']), axis=0)\n",
        "        opt_threshold_jaccard = thresholds[np.argmax(mean_jaccard_threshold)]\n",
        "        plt.plot(thresholds, mean_jaccard_threshold, c='blue')\n",
        "        plt.axvline(opt_threshold_jaccard, ls=\"--\", c='blue')\n",
        "        legend.append(\"Jaccard Index\")\n",
        "        legend.append(opt_threshold_jaccard)\n",
        "    if 'hamming' in metrics:\n",
        "        mean_hamming_threshold = np.mean(np.array(metrics_thresholds['hamming']), axis=0)\n",
        "        opt_threshold_hamming = thresholds[np.argmin(mean_hamming_threshold)]\n",
        "        plt.plot(thresholds, mean_hamming_threshold, c='green')\n",
        "        plt.axvline(opt_threshold_hamming, ls=\"--\", c='green')\n",
        "        legend.append(\"Hamming Score\")\n",
        "        legend.append(opt_threshold_hamming)\n",
        "    if 'map' in metrics:\n",
        "        mean_f1_score_threshold = np.mean(np.array(metrics_thresholds['map']), axis=0)\n",
        "        opt_threshold_f1_score = thresholds[np.argmax(mean_f1_score_threshold)]\n",
        "        plt.plot(thresholds, mean_f1_score_threshold, c='red')\n",
        "        plt.axvline(opt_threshold_f1_score, ls=\"--\", c='red')\n",
        "        legend.append(\"mAP\")\n",
        "        legend.append(opt_threshold_f1_score)\n",
        "    if 'o_f1' in metrics:\n",
        "        mean_f1_score_threshold = np.mean(np.array(metrics_thresholds['o_f1']), axis=0)\n",
        "        opt_threshold_f1_score = thresholds[np.argmax(mean_f1_score_threshold)]\n",
        "        plt.plot(thresholds, mean_f1_score_threshold, c='yellow')\n",
        "        plt.axvline(opt_threshold_f1_score, ls=\"--\", c='yellow')\n",
        "        legend.append(\"OF1\")\n",
        "        legend.append(opt_threshold_f1_score)\n",
        "    if 'c_f1' in metrics:\n",
        "        mean_f1_score_threshold = np.mean(np.array(metrics_thresholds['c_f1']), axis=0)\n",
        "        opt_threshold_f1_score = thresholds[np.argmax(mean_f1_score_threshold)]\n",
        "        plt.plot(thresholds, mean_f1_score_threshold, c='orange')\n",
        "        plt.axvline(opt_threshold_f1_score, ls=\"--\", c='orange')\n",
        "        legend.append(\"CF1\")\n",
        "        legend.append(opt_threshold_f1_score)\n",
        "    if 'o_precision' in metrics:\n",
        "        mean_f1_score_threshold = np.mean(np.array(metrics_thresholds['o_precision']), axis=0)\n",
        "        opt_threshold_f1_score = thresholds[np.argmax(mean_f1_score_threshold)]\n",
        "        plt.plot(thresholds, mean_f1_score_threshold, c='purple')\n",
        "        plt.axvline(opt_threshold_f1_score, ls=\"--\", c='purple')\n",
        "        legend.append(\"OP\")\n",
        "        legend.append(opt_threshold_f1_score)\n",
        "    if 'c_precision' in metrics:\n",
        "        mean_f1_score_threshold = np.mean(np.array(metrics_thresholds['c_precision']), axis=0)\n",
        "        opt_threshold_f1_score = thresholds[np.argmax(mean_f1_score_threshold)]\n",
        "        plt.plot(thresholds, mean_f1_score_threshold, c='cyan')\n",
        "        plt.axvline(opt_threshold_f1_score, ls=\"--\", c='cyan')\n",
        "        legend.append(\"CP\")\n",
        "        legend.append(opt_threshold_f1_score)\n",
        "    if 'o_recall' in metrics:\n",
        "        mean_f1_score_threshold = np.mean(np.array(metrics_thresholds['o_recall']), axis=0)\n",
        "        opt_threshold_f1_score = thresholds[np.argmin(mean_f1_score_threshold)]\n",
        "        plt.plot(thresholds, mean_f1_score_threshold, c='brown')\n",
        "        plt.axvline(opt_threshold_f1_score, ls=\"--\", c='brown')\n",
        "        legend.append(\"OR\")\n",
        "        legend.append(opt_threshold_f1_score)\n",
        "    if 'c_recall' in metrics:\n",
        "        mean_f1_score_threshold = np.mean(np.array(metrics_thresholds['c_recall']), axis=0)\n",
        "        opt_threshold_f1_score = thresholds[np.argmin(mean_f1_score_threshold)]\n",
        "        plt.plot(thresholds, mean_f1_score_threshold, c='pink')\n",
        "        plt.axvline(opt_threshold_f1_score, ls=\"--\", c='pink')\n",
        "        legend.append(\"CR\")\n",
        "        legend.append(opt_threshold_f1_score)\n",
        "    if 'c_accuracy' in metrics:\n",
        "        mean_f1_score_threshold = np.mean(np.array(metrics_thresholds['c_accuracy']), axis=0)\n",
        "        opt_threshold_f1_score = thresholds[np.argmax(mean_f1_score_threshold)]\n",
        "        plt.plot(thresholds, mean_f1_score_threshold, c='maroon')\n",
        "        plt.axvline(opt_threshold_f1_score, ls=\"--\", c='maroon')\n",
        "        legend.append(\"CACC\")\n",
        "        legend.append(opt_threshold_f1_score)\n",
        "    if 'top1_accuracy' in metrics:\n",
        "        mean_f1_score_threshold = np.mean(np.array(metrics_thresholds['top1_accuracy']), axis=0)\n",
        "        opt_threshold_f1_score = thresholds[np.argmax(mean_f1_score_threshold)]\n",
        "        plt.plot(thresholds, mean_f1_score_threshold, c='magenta')\n",
        "        plt.axvline(opt_threshold_f1_score, ls=\"--\", c='magenta')\n",
        "        legend.append(\"TOP1\")\n",
        "        legend.append(opt_threshold_f1_score)\n",
        "    if 'top5_accuracy' in metrics:\n",
        "        mean_f1_score_threshold = np.mean(np.array(metrics_thresholds['top5_accuracy']), axis=0)\n",
        "        opt_threshold_f1_score = thresholds[np.argmax(mean_f1_score_threshold)]\n",
        "        plt.plot(thresholds, mean_f1_score_threshold, c='slategray')\n",
        "        plt.axvline(opt_threshold_f1_score, ls=\"--\", c='slategray')\n",
        "        legend.append(\"TOP5\")\n",
        "        legend.append(opt_threshold_f1_score)\n",
        "    \n",
        "    plt.xlabel('Threshold')\n",
        "    plt.ylabel('Value')\n",
        "    plt.legend(legend)\n",
        "    title = title_suffix+\"\\nMulti label metrics by threshold\"\n",
        "    plt.title(title)\n",
        "    plt.grid()\n",
        "\n",
        "    fname = os.path.join(PLOT_DIR, title_suffix)\n",
        "    plt.savefig(fname)\n",
        "    \n",
        "    plt.show()\n",
        "   "
      ],
      "execution_count": null,
      "outputs": []
    },
    {
      "cell_type": "markdown",
      "metadata": {
        "id": "hHs46yaOItTW"
      },
      "source": [
        "## Setting multiple thresholds"
      ]
    },
    {
      "cell_type": "code",
      "metadata": {
        "colab": {
          "base_uri": "https://localhost:8080/"
        },
        "id": "vlo2bBCAIyQj",
        "outputId": "e812dfd6-00bb-4258-9f28-6f8a091ab86f"
      },
      "source": [
        "thresholds = np.arange(min_threshold, max_threshold, threshold_stepsize)\n",
        "thresholds"
      ],
      "execution_count": null,
      "outputs": [
        {
          "output_type": "execute_result",
          "data": {
            "text/plain": [
              "array([0.43, 0.44, 0.45, 0.46, 0.47, 0.48, 0.49, 0.5 , 0.51, 0.52, 0.53,\n",
              "       0.54, 0.55, 0.56, 0.57, 0.58, 0.59, 0.6 , 0.61, 0.62, 0.63, 0.64,\n",
              "       0.65, 0.66, 0.67, 0.68, 0.69, 0.7 , 0.71, 0.72, 0.73])"
            ]
          },
          "metadata": {
            "tags": []
          },
          "execution_count": 28
        }
      ]
    },
    {
      "cell_type": "markdown",
      "metadata": {
        "id": "g8CNr6I4rU5d"
      },
      "source": [
        "# Main"
      ]
    },
    {
      "cell_type": "markdown",
      "metadata": {
        "id": "g73bz0lqrU5e"
      },
      "source": [
        "## Picking indices"
      ]
    },
    {
      "cell_type": "code",
      "metadata": {
        "colab": {
          "base_uri": "https://localhost:8080/"
        },
        "id": "Fm6j-e0brU5f",
        "outputId": "982d78c5-b193-4df7-d07f-4926781e20b1"
      },
      "source": [
        "train_indices, eval_indices, wi_y, eval_y = prepare_indices(\n",
        "    num_ways, num_shot, num_eval, num_episodes, label_dictionary, test_labels, shuffle\n",
        ")"
      ],
      "execution_count": null,
      "outputs": [
        {
          "output_type": "stream",
          "text": [
            " [elapsed time: 0:00:00] |********************              | (ETA:   0:00:00) "
          ],
          "name": "stderr"
        }
      ]
    },
    {
      "cell_type": "code",
      "metadata": {
        "colab": {
          "base_uri": "https://localhost:8080/"
        },
        "id": "KgeLYlcPQVrP",
        "outputId": "b78b8ab7-793d-49a5-c4ee-2895a3a03390"
      },
      "source": [
        "indices, embeddings = embed_images(\n",
        "    embedding_model, \n",
        "    train_indices, \n",
        "    num_augmentations,\n",
        "    trivial=trivial\n",
        "    )"
      ],
      "execution_count": null,
      "outputs": [
        {
          "output_type": "stream",
          "text": [
            "100%|████████████████████████████████████████| 354M/354M [00:02<00:00, 132MiB/s]\n",
            " [elapsed time: 0:00:43] |**********************************| (ETA:  00:00:00) "
          ],
          "name": "stderr"
        }
      ]
    },
    {
      "cell_type": "markdown",
      "metadata": {
        "id": "lLW-8vrbrU5f"
      },
      "source": [
        "## CLIP"
      ]
    },
    {
      "cell_type": "code",
      "metadata": {
        "colab": {
          "base_uri": "https://localhost:8080/"
        },
        "id": "uK5qZA3mrU5g",
        "outputId": "6ac2fc62-a212-4477-9818-b9bbae1b7d86"
      },
      "source": [
        "clip_embeddings_test_fn = \"clip\" + test_embeddings_filename_suffix\n",
        "clip_embeddings_test = get_ndarray_from_drive(drive, folderid, clip_embeddings_test_fn)"
      ],
      "execution_count": null,
      "outputs": [
        {
          "output_type": "stream",
          "text": [
            "Downloading clip_embeddings_test.npz from GDrive\n"
          ],
          "name": "stdout"
        }
      ]
    },
    {
      "cell_type": "code",
      "metadata": {
        "id": "iOLtOsBJHKS2",
        "colab": {
          "base_uri": "https://localhost:8080/"
        },
        "outputId": "bfbe357e-681d-412b-d7ca-2c67506ac2dd"
      },
      "source": [
        "import warnings\n",
        "\n",
        "warnings.filterwarnings('ignore')\n",
        "\n",
        "if train_epochs_arr == [0]:\n",
        "    if trivial:\n",
        "        results_filename = \"new_metrics\"+dataset_name+\"_0t\"+str(num_ways)+\"w\"+str(num_shot)+\"s\"+str(num_augmentations)+\"a_trivial_metrics_with_logits.json\"\n",
        "    else:\n",
        "        results_filename = \"new_metrics\"+dataset_name+\"_0t\"+str(num_ways)+\"w\"+str(num_shot)+\"s\"+str(num_augmentations)+\"a_metrics_with_logits.json\"\n",
        "else:\n",
        "    if trivial:\n",
        "        results_filename = \"new_metrics\"+dataset_name+\"_\"+str(num_ways)+\"w\"+str(num_shot)+\"s\"+str(num_augmentations)+\"a_trivial_metrics_with_logits.json\"\n",
        "    else:\n",
        "        results_filename = \"new_metrics\"+dataset_name+\"_\"+str(num_ways)+\"w\"+str(num_shot)+\"s\"+str(num_augmentations)+\"a_metrics_with_logits.json\"\n",
        "\n",
        "auth.authenticate_user()\n",
        "gauth = GoogleAuth()\n",
        "gauth.credentials = GoogleCredentials.get_application_default()\n",
        "drive = GoogleDrive(gauth)\n",
        "download_file_by_name(drive, folderid, results_filename)\n",
        "if results_filename in os.listdir():\n",
        "    with open(results_filename, 'r') as f:\n",
        "        json_loaded = json.load(f)\n",
        "        clip_metrics_over_train_epochs = json_loaded['metrics']\n",
        "        logits_over_train_epochs = json_loaded[\"logits\"]\n",
        "else:\n",
        "    clip_metrics_over_train_epochs = []    \n",
        "    logits_over_train_epochs = []  \n",
        "\n",
        "multi_label=True\n",
        "thresholds_val = thresholds # None\n",
        "\n",
        "for idx, train_epochs in enumerate(train_epochs_arr):\n",
        "    if idx < len(clip_metrics_over_train_epochs):\n",
        "        continue\n",
        "    print(train_epochs)\n",
        "    clip_metrics_thresholds, all_logits = run_evaluations(\n",
        "        (indices, embeddings),\n",
        "        train_indices,\n",
        "        eval_indices,\n",
        "        wi_y,\n",
        "        eval_y,\n",
        "        num_episodes,\n",
        "        num_ways,\n",
        "        thresholds,\n",
        "        train_epochs=train_epochs,\n",
        "        num_augmentations=num_augmentations,\n",
        "        embeddings=clip_embeddings_test\n",
        "    )\n",
        "    clip_metrics_over_train_epochs.append(clip_metrics_thresholds)\n",
        "    logits_over_train_epochs.append(all_logits)\n",
        "\n",
        "    fin_list = []\n",
        "    for a1 in wi_y:\n",
        "      fin_a1_list = []\n",
        "      for a2 in a1:\n",
        "        # fin_a2_list = []\n",
        "        # for a3 in a2:\n",
        "        #   new_val = a3.decode(\"utf-8\")\n",
        "        #   fin_a2_list.append(new_val)\n",
        "        new_val = str(a2)\n",
        "        fin_a1_list.append(new_val)\n",
        "      fin_list.append(fin_a1_list)\n",
        "\n",
        "    with open(results_filename, 'w') as f:\n",
        "        results = {'metrics': clip_metrics_over_train_epochs,\n",
        "                   \"logits\": logits_over_train_epochs,\n",
        "                   \"true_labels\": fin_list}\n",
        "        json.dump(results, f)\n",
        "    auth.authenticate_user()\n",
        "    gauth = GoogleAuth()\n",
        "    gauth.credentials = GoogleCredentials.get_application_default()\n",
        "    drive = GoogleDrive(gauth)\n",
        "    delete_file_by_name(drive, folderid, results_filename)\n",
        "    save_to_drive(drive, folderid, results_filename)"
      ],
      "execution_count": null,
      "outputs": [
        {
          "output_type": "stream",
          "text": [
            "WARNING:googleapiclient.discovery_cache:file_cache is unavailable when using oauth2client >= 4.0.0 or google-auth\n",
            "Traceback (most recent call last):\n",
            "  File \"/usr/local/lib/python3.7/dist-packages/googleapiclient/discovery_cache/file_cache.py\", line 33, in <module>\n",
            "    from oauth2client.contrib.locked_file import LockedFile\n",
            "ModuleNotFoundError: No module named 'oauth2client.contrib.locked_file'\n",
            "\n",
            "During handling of the above exception, another exception occurred:\n",
            "\n",
            "Traceback (most recent call last):\n",
            "  File \"/usr/local/lib/python3.7/dist-packages/googleapiclient/discovery_cache/file_cache.py\", line 37, in <module>\n",
            "    from oauth2client.locked_file import LockedFile\n",
            "ModuleNotFoundError: No module named 'oauth2client.locked_file'\n",
            "\n",
            "During handling of the above exception, another exception occurred:\n",
            "\n",
            "Traceback (most recent call last):\n",
            "  File \"/usr/local/lib/python3.7/dist-packages/googleapiclient/discovery_cache/__init__.py\", line 44, in autodetect\n",
            "    from . import file_cache\n",
            "  File \"/usr/local/lib/python3.7/dist-packages/googleapiclient/discovery_cache/file_cache.py\", line 41, in <module>\n",
            "    \"file_cache is unavailable when using oauth2client >= 4.0.0 or google-auth\"\n",
            "ImportError: file_cache is unavailable when using oauth2client >= 4.0.0 or google-auth\n"
          ],
          "name": "stderr"
        },
        {
          "output_type": "stream",
          "text": [
            "Downloading new_metricsCIFAR10_5w5s0a_metrics_with_logits.json from GDrive\n"
          ],
          "name": "stdout"
        },
        {
          "output_type": "stream",
          "text": [
            "\r                                                                               \r\r [elapsed time: 0:00:00] |                                  | (ETA:  --:--:--) "
          ],
          "name": "stderr"
        },
        {
          "output_type": "stream",
          "text": [
            "40\n"
          ],
          "name": "stdout"
        },
        {
          "output_type": "stream",
          "text": [
            " [elapsed time: 0:08:23] |**********************************| (ETA:  00:00:00) WARNING:googleapiclient.discovery_cache:file_cache is unavailable when using oauth2client >= 4.0.0 or google-auth\n",
            "Traceback (most recent call last):\n",
            "  File \"/usr/local/lib/python3.7/dist-packages/googleapiclient/discovery_cache/file_cache.py\", line 33, in <module>\n",
            "    from oauth2client.contrib.locked_file import LockedFile\n",
            "ModuleNotFoundError: No module named 'oauth2client.contrib.locked_file'\n",
            "\n",
            "During handling of the above exception, another exception occurred:\n",
            "\n",
            "Traceback (most recent call last):\n",
            "  File \"/usr/local/lib/python3.7/dist-packages/googleapiclient/discovery_cache/file_cache.py\", line 37, in <module>\n",
            "    from oauth2client.locked_file import LockedFile\n",
            "ModuleNotFoundError: No module named 'oauth2client.locked_file'\n",
            "\n",
            "During handling of the above exception, another exception occurred:\n",
            "\n",
            "Traceback (most recent call last):\n",
            "  File \"/usr/local/lib/python3.7/dist-packages/googleapiclient/discovery_cache/__init__.py\", line 44, in autodetect\n",
            "    from . import file_cache\n",
            "  File \"/usr/local/lib/python3.7/dist-packages/googleapiclient/discovery_cache/file_cache.py\", line 41, in <module>\n",
            "    \"file_cache is unavailable when using oauth2client >= 4.0.0 or google-auth\"\n",
            "ImportError: file_cache is unavailable when using oauth2client >= 4.0.0 or google-auth\n"
          ],
          "name": "stderr"
        },
        {
          "output_type": "stream",
          "text": [
            "Deleting new_metricsCIFAR10_5w5s0a_metrics_with_logits.json from GDrive\n"
          ],
          "name": "stdout"
        },
        {
          "output_type": "stream",
          "text": [
            "\r                                                                               \r\r [elapsed time: 0:00:00] |                                  | (ETA:  --:--:--) "
          ],
          "name": "stderr"
        },
        {
          "output_type": "stream",
          "text": [
            "Uploaded new_metricsCIFAR10_5w5s0a_metrics_with_logits.json to https://drive.google.com/drive/u/1/folders/1GKPlpMFB9DilMM4201GQAHVokIL94d_N\n",
            "45\n"
          ],
          "name": "stdout"
        },
        {
          "output_type": "stream",
          "text": [
            " [elapsed time: 0:08:20] |**********************************| (ETA:  00:00:00) WARNING:googleapiclient.discovery_cache:file_cache is unavailable when using oauth2client >= 4.0.0 or google-auth\n",
            "Traceback (most recent call last):\n",
            "  File \"/usr/local/lib/python3.7/dist-packages/googleapiclient/discovery_cache/file_cache.py\", line 33, in <module>\n",
            "    from oauth2client.contrib.locked_file import LockedFile\n",
            "ModuleNotFoundError: No module named 'oauth2client.contrib.locked_file'\n",
            "\n",
            "During handling of the above exception, another exception occurred:\n",
            "\n",
            "Traceback (most recent call last):\n",
            "  File \"/usr/local/lib/python3.7/dist-packages/googleapiclient/discovery_cache/file_cache.py\", line 37, in <module>\n",
            "    from oauth2client.locked_file import LockedFile\n",
            "ModuleNotFoundError: No module named 'oauth2client.locked_file'\n",
            "\n",
            "During handling of the above exception, another exception occurred:\n",
            "\n",
            "Traceback (most recent call last):\n",
            "  File \"/usr/local/lib/python3.7/dist-packages/googleapiclient/discovery_cache/__init__.py\", line 44, in autodetect\n",
            "    from . import file_cache\n",
            "  File \"/usr/local/lib/python3.7/dist-packages/googleapiclient/discovery_cache/file_cache.py\", line 41, in <module>\n",
            "    \"file_cache is unavailable when using oauth2client >= 4.0.0 or google-auth\"\n",
            "ImportError: file_cache is unavailable when using oauth2client >= 4.0.0 or google-auth\n"
          ],
          "name": "stderr"
        },
        {
          "output_type": "stream",
          "text": [
            "Deleting new_metricsCIFAR10_5w5s0a_metrics_with_logits.json from GDrive\n"
          ],
          "name": "stdout"
        },
        {
          "output_type": "stream",
          "text": [
            "\r                                                                               \r\r [elapsed time: 0:00:00] |                                  | (ETA:  --:--:--) "
          ],
          "name": "stderr"
        },
        {
          "output_type": "stream",
          "text": [
            "Uploaded new_metricsCIFAR10_5w5s0a_metrics_with_logits.json to https://drive.google.com/drive/u/1/folders/1GKPlpMFB9DilMM4201GQAHVokIL94d_N\n",
            "50\n"
          ],
          "name": "stdout"
        },
        {
          "output_type": "stream",
          "text": [
            " [elapsed time: 0:08:13] |**********************************| (ETA:  00:00:00) WARNING:googleapiclient.discovery_cache:file_cache is unavailable when using oauth2client >= 4.0.0 or google-auth\n",
            "Traceback (most recent call last):\n",
            "  File \"/usr/local/lib/python3.7/dist-packages/googleapiclient/discovery_cache/file_cache.py\", line 33, in <module>\n",
            "    from oauth2client.contrib.locked_file import LockedFile\n",
            "ModuleNotFoundError: No module named 'oauth2client.contrib.locked_file'\n",
            "\n",
            "During handling of the above exception, another exception occurred:\n",
            "\n",
            "Traceback (most recent call last):\n",
            "  File \"/usr/local/lib/python3.7/dist-packages/googleapiclient/discovery_cache/file_cache.py\", line 37, in <module>\n",
            "    from oauth2client.locked_file import LockedFile\n",
            "ModuleNotFoundError: No module named 'oauth2client.locked_file'\n",
            "\n",
            "During handling of the above exception, another exception occurred:\n",
            "\n",
            "Traceback (most recent call last):\n",
            "  File \"/usr/local/lib/python3.7/dist-packages/googleapiclient/discovery_cache/__init__.py\", line 44, in autodetect\n",
            "    from . import file_cache\n",
            "  File \"/usr/local/lib/python3.7/dist-packages/googleapiclient/discovery_cache/file_cache.py\", line 41, in <module>\n",
            "    \"file_cache is unavailable when using oauth2client >= 4.0.0 or google-auth\"\n",
            "ImportError: file_cache is unavailable when using oauth2client >= 4.0.0 or google-auth\n"
          ],
          "name": "stderr"
        },
        {
          "output_type": "stream",
          "text": [
            "Deleting new_metricsCIFAR10_5w5s0a_metrics_with_logits.json from GDrive\n"
          ],
          "name": "stdout"
        },
        {
          "output_type": "stream",
          "text": [
            "\r                                                                               \r\r [elapsed time: 0:00:00] |                                  | (ETA:  --:--:--) "
          ],
          "name": "stderr"
        },
        {
          "output_type": "stream",
          "text": [
            "Uploaded new_metricsCIFAR10_5w5s0a_metrics_with_logits.json to https://drive.google.com/drive/u/1/folders/1GKPlpMFB9DilMM4201GQAHVokIL94d_N\n",
            "55\n"
          ],
          "name": "stdout"
        },
        {
          "output_type": "stream",
          "text": [
            " [elapsed time: 0:08:13] |**********************************| (ETA:  00:00:00) WARNING:googleapiclient.discovery_cache:file_cache is unavailable when using oauth2client >= 4.0.0 or google-auth\n",
            "Traceback (most recent call last):\n",
            "  File \"/usr/local/lib/python3.7/dist-packages/googleapiclient/discovery_cache/file_cache.py\", line 33, in <module>\n",
            "    from oauth2client.contrib.locked_file import LockedFile\n",
            "ModuleNotFoundError: No module named 'oauth2client.contrib.locked_file'\n",
            "\n",
            "During handling of the above exception, another exception occurred:\n",
            "\n",
            "Traceback (most recent call last):\n",
            "  File \"/usr/local/lib/python3.7/dist-packages/googleapiclient/discovery_cache/file_cache.py\", line 37, in <module>\n",
            "    from oauth2client.locked_file import LockedFile\n",
            "ModuleNotFoundError: No module named 'oauth2client.locked_file'\n",
            "\n",
            "During handling of the above exception, another exception occurred:\n",
            "\n",
            "Traceback (most recent call last):\n",
            "  File \"/usr/local/lib/python3.7/dist-packages/googleapiclient/discovery_cache/__init__.py\", line 44, in autodetect\n",
            "    from . import file_cache\n",
            "  File \"/usr/local/lib/python3.7/dist-packages/googleapiclient/discovery_cache/file_cache.py\", line 41, in <module>\n",
            "    \"file_cache is unavailable when using oauth2client >= 4.0.0 or google-auth\"\n",
            "ImportError: file_cache is unavailable when using oauth2client >= 4.0.0 or google-auth\n"
          ],
          "name": "stderr"
        },
        {
          "output_type": "stream",
          "text": [
            "Deleting new_metricsCIFAR10_5w5s0a_metrics_with_logits.json from GDrive\n"
          ],
          "name": "stdout"
        },
        {
          "output_type": "stream",
          "text": [
            "\r                                                                               \r\r [elapsed time: 0:00:00] |                                  | (ETA:  --:--:--) "
          ],
          "name": "stderr"
        },
        {
          "output_type": "stream",
          "text": [
            "Uploaded new_metricsCIFAR10_5w5s0a_metrics_with_logits.json to https://drive.google.com/drive/u/1/folders/1GKPlpMFB9DilMM4201GQAHVokIL94d_N\n",
            "60\n"
          ],
          "name": "stdout"
        },
        {
          "output_type": "stream",
          "text": [
            " [elapsed time: 0:08:16] |**********************************| (ETA:  00:00:00) WARNING:googleapiclient.discovery_cache:file_cache is unavailable when using oauth2client >= 4.0.0 or google-auth\n",
            "Traceback (most recent call last):\n",
            "  File \"/usr/local/lib/python3.7/dist-packages/googleapiclient/discovery_cache/file_cache.py\", line 33, in <module>\n",
            "    from oauth2client.contrib.locked_file import LockedFile\n",
            "ModuleNotFoundError: No module named 'oauth2client.contrib.locked_file'\n",
            "\n",
            "During handling of the above exception, another exception occurred:\n",
            "\n",
            "Traceback (most recent call last):\n",
            "  File \"/usr/local/lib/python3.7/dist-packages/googleapiclient/discovery_cache/file_cache.py\", line 37, in <module>\n",
            "    from oauth2client.locked_file import LockedFile\n",
            "ModuleNotFoundError: No module named 'oauth2client.locked_file'\n",
            "\n",
            "During handling of the above exception, another exception occurred:\n",
            "\n",
            "Traceback (most recent call last):\n",
            "  File \"/usr/local/lib/python3.7/dist-packages/googleapiclient/discovery_cache/__init__.py\", line 44, in autodetect\n",
            "    from . import file_cache\n",
            "  File \"/usr/local/lib/python3.7/dist-packages/googleapiclient/discovery_cache/file_cache.py\", line 41, in <module>\n",
            "    \"file_cache is unavailable when using oauth2client >= 4.0.0 or google-auth\"\n",
            "ImportError: file_cache is unavailable when using oauth2client >= 4.0.0 or google-auth\n"
          ],
          "name": "stderr"
        },
        {
          "output_type": "stream",
          "text": [
            "Deleting new_metricsCIFAR10_5w5s0a_metrics_with_logits.json from GDrive\n"
          ],
          "name": "stdout"
        },
        {
          "output_type": "stream",
          "text": [
            "\r                                                                               \r\r [elapsed time: 0:00:00] |                                  | (ETA:  --:--:--) "
          ],
          "name": "stderr"
        },
        {
          "output_type": "stream",
          "text": [
            "Uploaded new_metricsCIFAR10_5w5s0a_metrics_with_logits.json to https://drive.google.com/drive/u/1/folders/1GKPlpMFB9DilMM4201GQAHVokIL94d_N\n",
            "65\n"
          ],
          "name": "stdout"
        },
        {
          "output_type": "stream",
          "text": [
            " [elapsed time: 0:08:27] |**********************************| (ETA:  00:00:00) WARNING:googleapiclient.discovery_cache:file_cache is unavailable when using oauth2client >= 4.0.0 or google-auth\n",
            "Traceback (most recent call last):\n",
            "  File \"/usr/local/lib/python3.7/dist-packages/googleapiclient/discovery_cache/file_cache.py\", line 33, in <module>\n",
            "    from oauth2client.contrib.locked_file import LockedFile\n",
            "ModuleNotFoundError: No module named 'oauth2client.contrib.locked_file'\n",
            "\n",
            "During handling of the above exception, another exception occurred:\n",
            "\n",
            "Traceback (most recent call last):\n",
            "  File \"/usr/local/lib/python3.7/dist-packages/googleapiclient/discovery_cache/file_cache.py\", line 37, in <module>\n",
            "    from oauth2client.locked_file import LockedFile\n",
            "ModuleNotFoundError: No module named 'oauth2client.locked_file'\n",
            "\n",
            "During handling of the above exception, another exception occurred:\n",
            "\n",
            "Traceback (most recent call last):\n",
            "  File \"/usr/local/lib/python3.7/dist-packages/googleapiclient/discovery_cache/__init__.py\", line 44, in autodetect\n",
            "    from . import file_cache\n",
            "  File \"/usr/local/lib/python3.7/dist-packages/googleapiclient/discovery_cache/file_cache.py\", line 41, in <module>\n",
            "    \"file_cache is unavailable when using oauth2client >= 4.0.0 or google-auth\"\n",
            "ImportError: file_cache is unavailable when using oauth2client >= 4.0.0 or google-auth\n"
          ],
          "name": "stderr"
        },
        {
          "output_type": "stream",
          "text": [
            "Deleting new_metricsCIFAR10_5w5s0a_metrics_with_logits.json from GDrive\n"
          ],
          "name": "stdout"
        },
        {
          "output_type": "stream",
          "text": [
            "\r                                                                               \r\r [elapsed time: 0:00:00] |                                  | (ETA:  --:--:--) "
          ],
          "name": "stderr"
        },
        {
          "output_type": "stream",
          "text": [
            "Uploaded new_metricsCIFAR10_5w5s0a_metrics_with_logits.json to https://drive.google.com/drive/u/1/folders/1GKPlpMFB9DilMM4201GQAHVokIL94d_N\n",
            "70\n"
          ],
          "name": "stdout"
        },
        {
          "output_type": "stream",
          "text": [
            " [elapsed time: 0:08:34] |**********************************| (ETA:  00:00:00) WARNING:googleapiclient.discovery_cache:file_cache is unavailable when using oauth2client >= 4.0.0 or google-auth\n",
            "Traceback (most recent call last):\n",
            "  File \"/usr/local/lib/python3.7/dist-packages/googleapiclient/discovery_cache/file_cache.py\", line 33, in <module>\n",
            "    from oauth2client.contrib.locked_file import LockedFile\n",
            "ModuleNotFoundError: No module named 'oauth2client.contrib.locked_file'\n",
            "\n",
            "During handling of the above exception, another exception occurred:\n",
            "\n",
            "Traceback (most recent call last):\n",
            "  File \"/usr/local/lib/python3.7/dist-packages/googleapiclient/discovery_cache/file_cache.py\", line 37, in <module>\n",
            "    from oauth2client.locked_file import LockedFile\n",
            "ModuleNotFoundError: No module named 'oauth2client.locked_file'\n",
            "\n",
            "During handling of the above exception, another exception occurred:\n",
            "\n",
            "Traceback (most recent call last):\n",
            "  File \"/usr/local/lib/python3.7/dist-packages/googleapiclient/discovery_cache/__init__.py\", line 44, in autodetect\n",
            "    from . import file_cache\n",
            "  File \"/usr/local/lib/python3.7/dist-packages/googleapiclient/discovery_cache/file_cache.py\", line 41, in <module>\n",
            "    \"file_cache is unavailable when using oauth2client >= 4.0.0 or google-auth\"\n",
            "ImportError: file_cache is unavailable when using oauth2client >= 4.0.0 or google-auth\n"
          ],
          "name": "stderr"
        },
        {
          "output_type": "stream",
          "text": [
            "Deleting new_metricsCIFAR10_5w5s0a_metrics_with_logits.json from GDrive\n"
          ],
          "name": "stdout"
        },
        {
          "output_type": "stream",
          "text": [
            "\r                                                                               \r\r [elapsed time: 0:00:00] |                                  | (ETA:  --:--:--) "
          ],
          "name": "stderr"
        },
        {
          "output_type": "stream",
          "text": [
            "Uploaded new_metricsCIFAR10_5w5s0a_metrics_with_logits.json to https://drive.google.com/drive/u/1/folders/1GKPlpMFB9DilMM4201GQAHVokIL94d_N\n",
            "75\n"
          ],
          "name": "stdout"
        },
        {
          "output_type": "stream",
          "text": [
            " [elapsed time: 0:08:42] |**********************************| (ETA:  00:00:00) WARNING:googleapiclient.discovery_cache:file_cache is unavailable when using oauth2client >= 4.0.0 or google-auth\n",
            "Traceback (most recent call last):\n",
            "  File \"/usr/local/lib/python3.7/dist-packages/googleapiclient/discovery_cache/file_cache.py\", line 33, in <module>\n",
            "    from oauth2client.contrib.locked_file import LockedFile\n",
            "ModuleNotFoundError: No module named 'oauth2client.contrib.locked_file'\n",
            "\n",
            "During handling of the above exception, another exception occurred:\n",
            "\n",
            "Traceback (most recent call last):\n",
            "  File \"/usr/local/lib/python3.7/dist-packages/googleapiclient/discovery_cache/file_cache.py\", line 37, in <module>\n",
            "    from oauth2client.locked_file import LockedFile\n",
            "ModuleNotFoundError: No module named 'oauth2client.locked_file'\n",
            "\n",
            "During handling of the above exception, another exception occurred:\n",
            "\n",
            "Traceback (most recent call last):\n",
            "  File \"/usr/local/lib/python3.7/dist-packages/googleapiclient/discovery_cache/__init__.py\", line 44, in autodetect\n",
            "    from . import file_cache\n",
            "  File \"/usr/local/lib/python3.7/dist-packages/googleapiclient/discovery_cache/file_cache.py\", line 41, in <module>\n",
            "    \"file_cache is unavailable when using oauth2client >= 4.0.0 or google-auth\"\n",
            "ImportError: file_cache is unavailable when using oauth2client >= 4.0.0 or google-auth\n"
          ],
          "name": "stderr"
        },
        {
          "output_type": "stream",
          "text": [
            "Deleting new_metricsCIFAR10_5w5s0a_metrics_with_logits.json from GDrive\n"
          ],
          "name": "stdout"
        },
        {
          "output_type": "stream",
          "text": [
            "\r                                                                               \r\r [elapsed time: 0:00:00] |                                  | (ETA:  --:--:--) "
          ],
          "name": "stderr"
        },
        {
          "output_type": "stream",
          "text": [
            "Uploaded new_metricsCIFAR10_5w5s0a_metrics_with_logits.json to https://drive.google.com/drive/u/1/folders/1GKPlpMFB9DilMM4201GQAHVokIL94d_N\n",
            "80\n"
          ],
          "name": "stdout"
        },
        {
          "output_type": "stream",
          "text": [
            " [elapsed time: 0:08:45] |**********************************| (ETA:  00:00:00) WARNING:googleapiclient.discovery_cache:file_cache is unavailable when using oauth2client >= 4.0.0 or google-auth\n",
            "Traceback (most recent call last):\n",
            "  File \"/usr/local/lib/python3.7/dist-packages/googleapiclient/discovery_cache/file_cache.py\", line 33, in <module>\n",
            "    from oauth2client.contrib.locked_file import LockedFile\n",
            "ModuleNotFoundError: No module named 'oauth2client.contrib.locked_file'\n",
            "\n",
            "During handling of the above exception, another exception occurred:\n",
            "\n",
            "Traceback (most recent call last):\n",
            "  File \"/usr/local/lib/python3.7/dist-packages/googleapiclient/discovery_cache/file_cache.py\", line 37, in <module>\n",
            "    from oauth2client.locked_file import LockedFile\n",
            "ModuleNotFoundError: No module named 'oauth2client.locked_file'\n",
            "\n",
            "During handling of the above exception, another exception occurred:\n",
            "\n",
            "Traceback (most recent call last):\n",
            "  File \"/usr/local/lib/python3.7/dist-packages/googleapiclient/discovery_cache/__init__.py\", line 44, in autodetect\n",
            "    from . import file_cache\n",
            "  File \"/usr/local/lib/python3.7/dist-packages/googleapiclient/discovery_cache/file_cache.py\", line 41, in <module>\n",
            "    \"file_cache is unavailable when using oauth2client >= 4.0.0 or google-auth\"\n",
            "ImportError: file_cache is unavailable when using oauth2client >= 4.0.0 or google-auth\n"
          ],
          "name": "stderr"
        },
        {
          "output_type": "stream",
          "text": [
            "Deleting new_metricsCIFAR10_5w5s0a_metrics_with_logits.json from GDrive\n",
            "Uploaded new_metricsCIFAR10_5w5s0a_metrics_with_logits.json to https://drive.google.com/drive/u/1/folders/1GKPlpMFB9DilMM4201GQAHVokIL94d_N\n"
          ],
          "name": "stdout"
        }
      ]
    },
    {
      "cell_type": "code",
      "metadata": {
        "id": "udLTEWrd9ZaB"
      },
      "source": [
        "def get_best_metric_and_threshold(mt, metric_name, thresholds, optimal='max'):\n",
        "    if optimal=='max':\n",
        "        opt_value = np.max(np.mean(np.array(mt[metric_name]), axis=0))\n",
        "        opt_threshold = thresholds[np.argmax(np.mean(np.array(mt[metric_name]), axis=0))]\n",
        "    if optimal=='min':\n",
        "        opt_value = np.min(np.mean(np.array(mt[metric_name]), axis=0))\n",
        "        opt_threshold = thresholds[np.argmin(np.mean(np.array(mt[metric_name]), axis=0))]\n",
        "\n",
        "    return opt_value, opt_threshold"
      ],
      "execution_count": null,
      "outputs": []
    },
    {
      "cell_type": "code",
      "metadata": {
        "id": "BSnGOWuvuWBQ",
        "colab": {
          "base_uri": "https://localhost:8080/"
        },
        "outputId": "0f4013db-800e-443b-c68f-3b8521a3af44"
      },
      "source": [
        "all_metrics = ['hamming', 'jaccard', 'subset_accuracy', 'map', 'c_f1', 'o_f1', 'c_precision', 'o_precision', 'c_recall', 'o_recall', 'top1_accuracy', 'top5_accuracy', 'c_accuracy']\n",
        "\n",
        "f1_vals = []\n",
        "f1_t_vals = []\n",
        "jaccard_vals = []\n",
        "jaccard_t_vals = []\n",
        "\n",
        "final_dict = {}\n",
        "for ind_metric in all_metrics:\n",
        "  vals = []\n",
        "  t_vals = []\n",
        "  final_array = []\n",
        "  for mt in clip_metrics_over_train_epochs:\n",
        "    if ind_metric == \"hamming\":\n",
        "      ret_val, ret_t_val = get_best_metric_and_threshold(mt,ind_metric,thresholds,\"min\")\n",
        "    else:\n",
        "      ret_val, ret_t_val = get_best_metric_and_threshold(mt,ind_metric,thresholds,\"max\")\n",
        "    vals.append(ret_val)\n",
        "    t_vals.append(ret_t_val)\n",
        "\n",
        "  final_array.append(vals)\n",
        "  final_array.append(t_vals)\n",
        "  final_dict[ind_metric] = final_array\n",
        "\n",
        "if trivial:\n",
        "    graph_filename = \"new_metrics\"+dataset_name+\"_\"+str(num_ways)+\"w\"+str(num_shot)+\"s\"+str(num_augmentations)+\"a_trivial_metrics_graphs.json\"\n",
        "else:\n",
        "    graph_filename = \"new_metrics\"+dataset_name+\"_\"+str(num_ways)+\"w\"+str(num_shot)+\"s\"+str(num_augmentations)+\"a_metrics_graphs.json\"\n",
        "\n",
        "with open(graph_filename, 'w') as f:\n",
        "        json.dump(final_dict, f)\n",
        "\n",
        "auth.authenticate_user()\n",
        "gauth = GoogleAuth()\n",
        "gauth.credentials = GoogleCredentials.get_application_default()\n",
        "drive = GoogleDrive(gauth)\n",
        "delete_file_by_name(drive, folderid, graph_filename)\n",
        "save_to_drive(drive, folderid, graph_filename)\n"
      ],
      "execution_count": null,
      "outputs": [
        {
          "output_type": "stream",
          "text": [
            "WARNING:googleapiclient.discovery_cache:file_cache is unavailable when using oauth2client >= 4.0.0 or google-auth\n",
            "Traceback (most recent call last):\n",
            "  File \"/usr/local/lib/python3.7/dist-packages/googleapiclient/discovery_cache/file_cache.py\", line 33, in <module>\n",
            "    from oauth2client.contrib.locked_file import LockedFile\n",
            "ModuleNotFoundError: No module named 'oauth2client.contrib.locked_file'\n",
            "\n",
            "During handling of the above exception, another exception occurred:\n",
            "\n",
            "Traceback (most recent call last):\n",
            "  File \"/usr/local/lib/python3.7/dist-packages/googleapiclient/discovery_cache/file_cache.py\", line 37, in <module>\n",
            "    from oauth2client.locked_file import LockedFile\n",
            "ModuleNotFoundError: No module named 'oauth2client.locked_file'\n",
            "\n",
            "During handling of the above exception, another exception occurred:\n",
            "\n",
            "Traceback (most recent call last):\n",
            "  File \"/usr/local/lib/python3.7/dist-packages/googleapiclient/discovery_cache/__init__.py\", line 44, in autodetect\n",
            "    from . import file_cache\n",
            "  File \"/usr/local/lib/python3.7/dist-packages/googleapiclient/discovery_cache/file_cache.py\", line 41, in <module>\n",
            "    \"file_cache is unavailable when using oauth2client >= 4.0.0 or google-auth\"\n",
            "ImportError: file_cache is unavailable when using oauth2client >= 4.0.0 or google-auth\n"
          ],
          "name": "stderr"
        },
        {
          "output_type": "stream",
          "text": [
            "Uploaded new_metricsCIFAR10_5w5s0a_metrics_graphs.json to https://drive.google.com/drive/u/1/folders/1GKPlpMFB9DilMM4201GQAHVokIL94d_N\n"
          ],
          "name": "stdout"
        }
      ]
    },
    {
      "cell_type": "code",
      "metadata": {
        "id": "V8uyo_T8rU5h"
      },
      "source": [
        "if trivial:\n",
        "    PLOT_DIR = \"NewMetrics_WeightImprintingSigmoid_MultiPred_Train_Augmentations_CIFAR10\" + str(num_ways) + \"w\" + str(num_shot) + \"s\" + str(num_augmentations) + \"a_trivial_plots\"\n",
        "else:\n",
        "    PLOT_DIR = \"NewMetrics_WeightImprintingSigmoid_MultiPred_Train_Augmentations_CIFAR10\" + str(num_ways) + \"w\" + str(num_shot) + \"s\" + str(num_augmentations) + \"a_plots\"\n",
        "os.mkdir(PLOT_DIR)"
      ],
      "execution_count": null,
      "outputs": []
    },
    {
      "cell_type": "code",
      "metadata": {
        "id": "6mJV2p8aUG4d"
      },
      "source": [
        "for mt in clip_metrics_over_train_epochs:\n",
        "    plot_metrics_by_threshold(mt, thresholds, metrics=all_metrics)"
      ],
      "execution_count": null,
      "outputs": []
    }
  ]
}