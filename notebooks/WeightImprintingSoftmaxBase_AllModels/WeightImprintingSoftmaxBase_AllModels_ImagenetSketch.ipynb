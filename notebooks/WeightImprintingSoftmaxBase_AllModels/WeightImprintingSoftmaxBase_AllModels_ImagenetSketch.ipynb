{
  "nbformat": 4,
  "nbformat_minor": 0,
  "metadata": {
    "colab": {
      "name": "WeightImprintingSoftmax_AllModels_ImagenetSketch.ipynb",
      "provenance": [],
      "collapsed_sections": [
        "RGlVnbugxFK2",
        "3rKe3HqM523g",
        "9z1WQnXdLHy2",
        "NzsubsEm72rr",
        "UxTa8MVsvQCN",
        "xP6ftkDCvKul"
      ],
      "toc_visible": true
    },
    "kernelspec": {
      "display_name": "Python 3",
      "name": "python3"
    }
  },
  "cells": [
    {
      "cell_type": "markdown",
      "metadata": {
        "id": "WTY7kA7DOzpV"
      },
      "source": [
        "# Mount Drive"
      ]
    },
    {
      "cell_type": "code",
      "metadata": {
        "colab": {
          "base_uri": "https://localhost:8080/"
        },
        "id": "4-7JU3Q7q_XT",
        "outputId": "908b61be-c291-4313-e724-e909351f16b9"
      },
      "source": [
        "from google.colab import drive\n",
        "drive.mount('/content/drive')"
      ],
      "execution_count": null,
      "outputs": [
        {
          "output_type": "stream",
          "text": [
            "Drive already mounted at /content/drive; to attempt to forcibly remount, call drive.mount(\"/content/drive\", force_remount=True).\n"
          ],
          "name": "stdout"
        }
      ]
    },
    {
      "cell_type": "code",
      "metadata": {
        "colab": {
          "base_uri": "https://localhost:8080/"
        },
        "id": "DqqXI7Izk65p",
        "outputId": "490a6b78-2dd9-4f19-9eab-b35044f76cbd"
      },
      "source": [
        "!pip install -U -q PyDrive\n",
        "!pip install httplib2==0.15.0\n",
        "import os\n",
        "from pydrive.auth import GoogleAuth\n",
        "from pydrive.drive import GoogleDrive\n",
        "from pydrive.files import GoogleDriveFileList\n",
        "from google.colab import auth\n",
        "from oauth2client.client import GoogleCredentials\n",
        "\n",
        "from getpass import getpass\n",
        "import urllib\n",
        "\n",
        "# 1. Authenticate and create the PyDrive client.\n",
        "auth.authenticate_user()\n",
        "gauth = GoogleAuth()\n",
        "gauth.credentials = GoogleCredentials.get_application_default()\n",
        "drive = GoogleDrive(gauth)\n",
        "\n",
        "# Cloning PAL_2021 to access modules.\n",
        "# Need password to access private repo.\n",
        "\n",
        "if 'CLIPPER' not in os.listdir():\n",
        "    cmd_string = 'git clone https://github.com/PAL-ML/CLIPPER.git'\n",
        "    os.system(cmd_string)"
      ],
      "execution_count": null,
      "outputs": [
        {
          "output_type": "stream",
          "text": [
            "Requirement already satisfied: httplib2==0.15.0 in /usr/local/lib/python3.7/dist-packages (0.15.0)\n"
          ],
          "name": "stdout"
        }
      ]
    },
    {
      "cell_type": "markdown",
      "metadata": {
        "id": "RGlVnbugxFK2"
      },
      "source": [
        "# Installation"
      ]
    },
    {
      "cell_type": "markdown",
      "metadata": {
        "id": "gmgIrfT8hDNE"
      },
      "source": [
        "## Install multi label metrics dependencies"
      ]
    },
    {
      "cell_type": "code",
      "metadata": {
        "colab": {
          "base_uri": "https://localhost:8080/"
        },
        "id": "b6xXPAFbe6Gp",
        "outputId": "9bfbd423-f468-4cf5-cc4f-2262608ef95d"
      },
      "source": [
        "! pip install scikit-learn==0.24"
      ],
      "execution_count": null,
      "outputs": [
        {
          "output_type": "stream",
          "text": [
            "Requirement already satisfied: scikit-learn==0.24 in /usr/local/lib/python3.7/dist-packages (0.24.0)\n",
            "Requirement already satisfied: scipy>=0.19.1 in /usr/local/lib/python3.7/dist-packages (from scikit-learn==0.24) (1.4.1)\n",
            "Requirement already satisfied: numpy>=1.13.3 in /usr/local/lib/python3.7/dist-packages (from scikit-learn==0.24) (1.19.5)\n",
            "Requirement already satisfied: joblib>=0.11 in /usr/local/lib/python3.7/dist-packages (from scikit-learn==0.24) (1.0.1)\n",
            "Requirement already satisfied: threadpoolctl>=2.0.0 in /usr/local/lib/python3.7/dist-packages (from scikit-learn==0.24) (2.1.0)\n"
          ],
          "name": "stdout"
        }
      ]
    },
    {
      "cell_type": "markdown",
      "metadata": {
        "id": "3rKe3HqM523g"
      },
      "source": [
        "## Install CLIP dependencies"
      ]
    },
    {
      "cell_type": "code",
      "metadata": {
        "id": "poS-WNDixIhY"
      },
      "source": [
        "# import subprocess\n",
        "\n",
        "# CUDA_version = [s for s in subprocess.check_output([\"nvcc\", \"--version\"]).decode(\"UTF-8\").split(\", \") if s.startswith(\"release\")][0].split(\" \")[-1]\n",
        "# print(\"CUDA version:\", CUDA_version)\n",
        "\n",
        "# if CUDA_version == \"10.0\":\n",
        "#     torch_version_suffix = \"+cu100\"\n",
        "# elif CUDA_version == \"10.1\":\n",
        "#     torch_version_suffix = \"+cu101\"\n",
        "# elif CUDA_version == \"10.2\":\n",
        "#     torch_version_suffix = \"\"\n",
        "# else:\n",
        "#     torch_version_suffix = \"+cu110\""
      ],
      "execution_count": null,
      "outputs": []
    },
    {
      "cell_type": "code",
      "metadata": {
        "id": "uA-69W8M59nA"
      },
      "source": [
        "# ! pip install torch==1.7.1{torch_version_suffix} torchvision==0.8.2{torch_version_suffix} -f https://download.pytorch.org/whl/torch_stable.html ftfy regex"
      ],
      "execution_count": null,
      "outputs": []
    },
    {
      "cell_type": "code",
      "metadata": {
        "id": "sYwBZS1N6A3d"
      },
      "source": [
        "# ! pip install ftfy regex\n",
        "# ! wget https://openaipublic.azureedge.net/clip/bpe_simple_vocab_16e6.txt.gz -O bpe_simple_vocab_16e6.txt.gz"
      ],
      "execution_count": null,
      "outputs": []
    },
    {
      "cell_type": "code",
      "metadata": {
        "id": "9oIcNBYB8lz3"
      },
      "source": [
        "# !pip install git+https://github.com/Sri-vatsa/CLIP # using this fork because of visualization capabilities"
      ],
      "execution_count": null,
      "outputs": []
    },
    {
      "cell_type": "markdown",
      "metadata": {
        "id": "OLU-gp7n8__E"
      },
      "source": [
        "## Install clustering dependencies"
      ]
    },
    {
      "cell_type": "code",
      "metadata": {
        "id": "6TLg9ozo9Hvc"
      },
      "source": [
        "!pip -q install umap-learn>=0.3.7"
      ],
      "execution_count": null,
      "outputs": []
    },
    {
      "cell_type": "markdown",
      "metadata": {
        "id": "9z1WQnXdLHy2"
      },
      "source": [
        "## Install dataset manager dependencies"
      ]
    },
    {
      "cell_type": "code",
      "metadata": {
        "id": "J1vvMx7_LLSp"
      },
      "source": [
        "!pip install wget"
      ],
      "execution_count": null,
      "outputs": []
    },
    {
      "cell_type": "markdown",
      "metadata": {
        "id": "NzsubsEm72rr"
      },
      "source": [
        "# Imports"
      ]
    },
    {
      "cell_type": "code",
      "metadata": {
        "colab": {
          "base_uri": "https://localhost:8080/"
        },
        "id": "KZI62a6G74kw",
        "outputId": "b4625303-6597-4c46-dc4b-60d00c629011"
      },
      "source": [
        "# ML Libraries\n",
        "import tensorflow as tf\n",
        "import tensorflow_hub as hub\n",
        "import torch\n",
        "import torch.nn as nn\n",
        "import torchvision.models as models\n",
        "import torchvision.transforms as transforms\n",
        "import keras\n",
        "\n",
        "# Data processing\n",
        "import PIL\n",
        "import base64\n",
        "import imageio\n",
        "import pandas as pd\n",
        "import numpy as np\n",
        "import json\n",
        "\n",
        "from PIL import Image\n",
        "import cv2\n",
        "from sklearn.feature_extraction.image import extract_patches_2d\n",
        "\n",
        "# Plotting\n",
        "import seaborn as sns\n",
        "import matplotlib.pyplot as plt\n",
        "import matplotlib.patches as patches\n",
        "\n",
        "from IPython.core.display import display, HTML\n",
        "from matplotlib import cm\n",
        "import matplotlib.image as mpimg\n",
        "\n",
        "# Models\n",
        "# import clip\n",
        "\n",
        "# Datasets\n",
        "import tensorflow_datasets as tfds\n",
        "\n",
        "# Clustering\n",
        "# import umap\n",
        "\n",
        "from sklearn import metrics\n",
        "from sklearn.cluster import KMeans\n",
        "#from yellowbrick.cluster import KElbowVisualizer\n",
        "\n",
        "# Misc\n",
        "import progressbar\n",
        "import logging\n",
        "from abc import ABC, abstractmethod\n",
        "import time\n",
        "import urllib.request\n",
        "import os\n",
        "from sklearn.metrics import jaccard_score, hamming_loss, accuracy_score, f1_score\n",
        "from sklearn.preprocessing import MultiLabelBinarizer\n",
        "\n",
        "\n",
        "# Modules\n",
        "# from CLIPPER.code.ExperimentModules import embedding_models\n",
        "from CLIPPER.code.ExperimentModules.dataset_manager import DatasetManager\n",
        "from CLIPPER.code.ExperimentModules.weight_imprinting_classifier import WeightImprintingClassifier\n",
        "from CLIPPER.code.ExperimentModules import simclr_data_augmentations\n",
        "from CLIPPER.code.ExperimentModules.utils import (save_npy, load_npy, \n",
        "                                                       get_folder_id, \n",
        "                                                       create_expt_dir, \n",
        "                                                       save_to_drive, \n",
        "                                                       load_all_from_drive_folder, \n",
        "                                                       download_file_by_name, \n",
        "                                                       delete_file_by_name)\n",
        "\n",
        "logging.getLogger('googleapicliet.discovery_cache').setLevel(logging.ERROR)"
      ],
      "execution_count": null,
      "outputs": [
        {
          "output_type": "stream",
          "text": [
            "/usr/local/lib/python3.7/dist-packages/sklearn/utils/deprecation.py:144: FutureWarning: The sklearn.metrics.classification module is  deprecated in version 0.22 and will be removed in version 0.24. The corresponding classes / functions should instead be imported from sklearn.metrics. Anything that cannot be imported from sklearn.metrics is now part of the private API.\n",
            "  warnings.warn(message, FutureWarning)\n"
          ],
          "name": "stderr"
        }
      ]
    },
    {
      "cell_type": "markdown",
      "metadata": {
        "id": "zU_gxQ0KbwMh"
      },
      "source": [
        "# Initialization & Constants"
      ]
    },
    {
      "cell_type": "markdown",
      "metadata": {
        "id": "ND-Q6dDoYmDu"
      },
      "source": [
        "## Dataset details"
      ]
    },
    {
      "cell_type": "code",
      "metadata": {
        "colab": {
          "base_uri": "https://localhost:8080/"
        },
        "id": "bih5tBPdbx3u",
        "outputId": "222edc2a-a7f3-40b3-e8d6-3e3ca2b40846"
      },
      "source": [
        "folder_name = \"ImagenetSketch-Embeddings-28-02-21\"\n",
        "\n",
        "# Change parentid to match that of experiments root folder in gdrive\n",
        "parentid = '1bK72W-Um20EQDEyChNhNJthUNbmoSEjD'\n",
        "\n",
        "# Filepaths\n",
        "train_labels_filename = \"train_labels.npz\"\n",
        "val_labels_filename = \"val_labels.npz\"\n",
        "\n",
        "train_embeddings_filename_suffix = \"_embeddings_train.npz\"\n",
        "val_embeddings_filename_suffix = \"_embeddings_val.npz\"\n",
        "\n",
        "# Initialize sepcific experiment folder in drive\n",
        "folderid = create_expt_dir(drive, parentid, folder_name)"
      ],
      "execution_count": null,
      "outputs": [
        {
          "output_type": "stream",
          "text": [
            "title: ImagenetSketch-Embeddings-28-02-21, id: 1HVl_ZBLqXrDhMDlk76a2tIQ_deOFqEaF\n",
            "Experiment folder already exists. WARNING: Following with this run might overwrite existing results stored.\n"
          ],
          "name": "stdout"
        }
      ]
    },
    {
      "cell_type": "markdown",
      "metadata": {
        "id": "GTHwQiOvljNU"
      },
      "source": [
        "## Few shot learning parameters"
      ]
    },
    {
      "cell_type": "code",
      "metadata": {
        "id": "HbRNiKZKlmQP"
      },
      "source": [
        "num_ways = 5 # [5, 20]\n",
        "num_shot = 5 # [5, 1]\n",
        "num_eval = 15 # [5, 10, 15, 19]\n",
        "num_episodes = 100\n",
        "shuffle = False"
      ],
      "execution_count": null,
      "outputs": []
    },
    {
      "cell_type": "markdown",
      "metadata": {
        "id": "UxTa8MVsvQCN"
      },
      "source": [
        "# Load data"
      ]
    },
    {
      "cell_type": "code",
      "metadata": {
        "colab": {
          "base_uri": "https://localhost:8080/"
        },
        "id": "n6S124Jfwuu5",
        "outputId": "dfec7bbf-7b04-4ebb-f6d2-fff6f83b5884"
      },
      "source": [
        "def get_ndarray_from_drive(drive, folderid, filename):\n",
        "    download_file_by_name(drive, folderid, filename)\n",
        "    return np.load(filename)['data']\n",
        "\n",
        "val_labels = get_ndarray_from_drive(drive, folderid, val_labels_filename)"
      ],
      "execution_count": null,
      "outputs": [
        {
          "output_type": "stream",
          "text": [
            "Downloading val_labels.npz from GDrive\n",
            "Downloading val_labels.npz from GDrive\n",
            "Downloading val_labels.npz from GDrive\n",
            "Downloading val_labels.npz from GDrive\n"
          ],
          "name": "stdout"
        }
      ]
    },
    {
      "cell_type": "markdown",
      "metadata": {
        "id": "iLbRqaYxzbr7"
      },
      "source": [
        "# Create label dictionary"
      ]
    },
    {
      "cell_type": "code",
      "metadata": {
        "colab": {
          "base_uri": "https://localhost:8080/"
        },
        "id": "Emz85fNX0Vif",
        "outputId": "877da40a-f107-498e-a1ee-c5ae4ff8285d"
      },
      "source": [
        "unique_labels = np.unique(val_labels)\n",
        "print(len(unique_labels))"
      ],
      "execution_count": null,
      "outputs": [
        {
          "output_type": "stream",
          "text": [
            "200\n"
          ],
          "name": "stdout"
        }
      ]
    },
    {
      "cell_type": "code",
      "metadata": {
        "id": "0TubS-RLzeVM"
      },
      "source": [
        "label_dictionary = {la:[] for la in unique_labels}\n",
        "\n",
        "for i in range(len(val_labels)):\n",
        "    la = val_labels[i]\n",
        "\n",
        "    label_dictionary[la].append(i)"
      ],
      "execution_count": null,
      "outputs": []
    },
    {
      "cell_type": "markdown",
      "metadata": {
        "id": "xP6ftkDCvKul"
      },
      "source": [
        "# Weight Imprinting models on train data embeddings"
      ]
    },
    {
      "cell_type": "markdown",
      "metadata": {
        "id": "fJIGo_R86GQi"
      },
      "source": [
        "## Function definitions"
      ]
    },
    {
      "cell_type": "code",
      "metadata": {
        "id": "QZ-BvKBH6LuI"
      },
      "source": [
        "def calculate_single_label_accuracy(pred, y, label_mapping):\n",
        "    x = 0\n",
        "    for i, p in enumerate(pred):\n",
        "        pred_label = label_mapping[p]\n",
        "        if pred_label == y[i]:\n",
        "            x += 1\n",
        "    x = x/(i+1)\n",
        "\n",
        "    return x"
      ],
      "execution_count": null,
      "outputs": []
    },
    {
      "cell_type": "code",
      "metadata": {
        "id": "pv68q8TH6tvG"
      },
      "source": [
        "def start_progress_bar(bar_len):\n",
        "    widgets = [\n",
        "        ' [', \n",
        "        progressbar.Timer(format= 'elapsed time: %(elapsed)s'), \n",
        "        '] ', \n",
        "        progressbar.Bar('*'),' (', \n",
        "        progressbar.ETA(), ') ', \n",
        "        ]\n",
        "    pbar = progressbar.ProgressBar(\n",
        "        max_value=bar_len, widgets=widgets\n",
        "        ).start()\n",
        "    return pbar"
      ],
      "execution_count": null,
      "outputs": []
    },
    {
      "cell_type": "code",
      "metadata": {
        "id": "mUpPZ6ti6IEp"
      },
      "source": [
        "def run_evaluations(\n",
        "    embeddings, \n",
        "    train_indices, \n",
        "    eval_indices, \n",
        "    wi_y, \n",
        "    eval_y, \n",
        "    num_episodes, \n",
        "    num_ways,\n",
        "    verbose=True,\n",
        "    metrics=[\"accuracy\", \"c_f1\"]\n",
        "):\n",
        "    accuracies = []\n",
        "    f1_scores = []\n",
        "\n",
        "    if verbose:\n",
        "        pbar = start_progress_bar(num_episodes)\n",
        "\n",
        "    for i in range(num_episodes):\n",
        "        wi_x = embeddings[train_indices[i]]\n",
        "        wi_x = WeightImprintingClassifier.preprocess_input(wi_x)\n",
        "        eval_x = embeddings[eval_indices[i]]\n",
        "        eval_x = WeightImprintingClassifier.preprocess_input(eval_x)\n",
        "\n",
        "        wi_weights, label_mapping = WeightImprintingClassifier.get_imprinting_weights(\n",
        "            wi_x, wi_y[i], False\n",
        "            )\n",
        "\n",
        "        wi_parameters = {\n",
        "            \"num_classes\": num_ways,\n",
        "            \"input_dims\": wi_x.shape[-1],\n",
        "            \"scale\": False,\n",
        "            \"dense_layer_weights\": wi_weights\n",
        "        }\n",
        "\n",
        "        wi_cls = WeightImprintingClassifier(wi_parameters)\n",
        "\n",
        "        # Evaluate the weight imprinting model\n",
        "        metric_vals = wi_cls.evaluate_single_label_metrics(eval_x, eval_y[i], label_mapping, metrics=metrics)\n",
        "        if \"accuracy\" in metrics:\n",
        "            accuracies.append(metric_vals[\"accuracy\"])  \n",
        "        if \"c_f1\" in metrics:\n",
        "            f1_scores.append(metric_vals[\"c_f1\"])\n",
        "\n",
        "        del wi_x\n",
        "        del eval_x\n",
        "        del wi_cls\n",
        "\n",
        "        if verbose:\n",
        "            pbar.update(i+1)\n",
        "\n",
        "    metric_arrays = []\n",
        "    if \"accuracy\" in metrics:\n",
        "        metric_arrays.append(accuracies)\n",
        "    if \"c_f1\" in metrics:\n",
        "        metric_arrays.append(f1_scores)\n",
        "\n",
        "    return metric_arrays"
      ],
      "execution_count": null,
      "outputs": []
    },
    {
      "cell_type": "markdown",
      "metadata": {
        "id": "j2XrPKY9EJeG"
      },
      "source": [
        "## Picking indices"
      ]
    },
    {
      "cell_type": "code",
      "metadata": {
        "colab": {
          "base_uri": "https://localhost:8080/"
        },
        "id": "8_S_4DanEJeH",
        "outputId": "824c65d8-6eaf-4e0e-f8f5-50260e413760"
      },
      "source": [
        "eval_indices = []\n",
        "train_indices = []\n",
        "wi_y = []\n",
        "eval_y = []\n",
        "\n",
        "label_dictionary = {la:label_dictionary[la] for la in label_dictionary if len(label_dictionary[la]) >= (num_shot+num_eval)}\n",
        "unique_labels = list(label_dictionary.keys())\n",
        "\n",
        "pbar = start_progress_bar(num_episodes)\n",
        "\n",
        "for s in range(num_episodes):\n",
        "    # Setting random seed for replicability\n",
        "    np.random.seed(s)\n",
        "\n",
        "    _train_indices = []\n",
        "    _eval_indices = []\n",
        "\n",
        "    selected_labels = np.random.choice(unique_labels, size=num_ways, replace=False)\n",
        "    for la in selected_labels:\n",
        "        la_indices = label_dictionary[la]\n",
        "        select = np.random.choice(la_indices, size = num_shot+num_eval, replace=False)\n",
        "        tr_idx = list(select[:num_shot])\n",
        "        ev_idx = list(select[num_shot:])\n",
        "\n",
        "        _train_indices = _train_indices + tr_idx\n",
        "        _eval_indices = _eval_indices + ev_idx\n",
        "\n",
        "    if shuffle:\n",
        "        np.random.shuffle(_train_indices)\n",
        "        np.random.shuffle(_eval_indices)\n",
        "\n",
        "    train_indices.append(_train_indices)\n",
        "    eval_indices.append(_eval_indices)\n",
        "\n",
        "    _wi_y = val_labels[_train_indices]\n",
        "    _eval_y = val_labels[_eval_indices]\n",
        "\n",
        "    wi_y.append(_wi_y)\n",
        "    eval_y.append(_eval_y)\n",
        "\n",
        "    pbar.update(s+1)"
      ],
      "execution_count": null,
      "outputs": [
        {
          "output_type": "stream",
          "text": [
            " [elapsed time: 0:00:00] |*********************             | (ETA:   0:00:00) "
          ],
          "name": "stderr"
        }
      ]
    },
    {
      "cell_type": "markdown",
      "metadata": {
        "id": "cOdSfodivGga"
      },
      "source": [
        "## Inception V3"
      ]
    },
    {
      "cell_type": "code",
      "metadata": {
        "colab": {
          "base_uri": "https://localhost:8080/"
        },
        "id": "WO5MzYeWzKBr",
        "outputId": "56752862-cc36-4808-b17c-8f9099435579"
      },
      "source": [
        "# Load numpy data from drive\n",
        "inceptionv3_embeddings_val_fn = \"inceptionv3\" + val_embeddings_filename_suffix\n",
        "\n",
        "inceptionv3_embeddings_val = get_ndarray_from_drive(drive, folderid, inceptionv3_embeddings_val_fn)"
      ],
      "execution_count": null,
      "outputs": [
        {
          "output_type": "stream",
          "text": [
            "Downloading inceptionv3_embeddings_val.npz from GDrive\n"
          ],
          "name": "stdout"
        }
      ]
    },
    {
      "cell_type": "code",
      "metadata": {
        "colab": {
          "base_uri": "https://localhost:8080/"
        },
        "id": "vMvbcJAzqerT",
        "outputId": "b7c60e95-8a70-49c3-e553-d940cad28cec"
      },
      "source": [
        "inceptionv3_accuracies, inceptionv3_f1_scores = run_evaluations(\n",
        "    inceptionv3_embeddings_val, \n",
        "    train_indices, \n",
        "    eval_indices, \n",
        "    wi_y, \n",
        "    eval_y, \n",
        "    num_episodes, \n",
        "    num_ways\n",
        ")"
      ],
      "execution_count": null,
      "outputs": [
        {
          "output_type": "stream",
          "text": [
            "\r                                                                               \r\r [elapsed time: 0:00:00] |                                  | (ETA:  --:--:--) "
          ],
          "name": "stderr"
        },
        {
          "output_type": "stream",
          "text": [
            "WARNING:tensorflow:5 out of the last 13 calls to <function Model.make_predict_function.<locals>.predict_function at 0x7f0a986ee710> triggered tf.function retracing. Tracing is expensive and the excessive number of tracings could be due to (1) creating @tf.function repeatedly in a loop, (2) passing tensors with different shapes, (3) passing Python objects instead of tensors. For (1), please define your @tf.function outside of the loop. For (2), @tf.function has experimental_relax_shapes=True option that relaxes argument shapes that can avoid unnecessary retracing. For (3), please refer to https://www.tensorflow.org/guide/function#controlling_retracing and https://www.tensorflow.org/api_docs/python/tf/function for  more details.\n"
          ],
          "name": "stdout"
        },
        {
          "output_type": "stream",
          "text": [
            " [elapsed time: 0:00:09] |**********************************| (ETA:  00:00:00) "
          ],
          "name": "stderr"
        }
      ]
    },
    {
      "cell_type": "code",
      "metadata": {
        "id": "-MEo_xCIwo7U",
        "colab": {
          "base_uri": "https://localhost:8080/"
        },
        "outputId": "ae8e4760-0575-46e6-bd64-ec2f2981ddec"
      },
      "source": [
        "inceptionv3_mean_accuracy = np.mean(inceptionv3_accuracies)\n",
        "print(\"Inceptionv3 Mean accuracy: \", inceptionv3_mean_accuracy)\n",
        "inceptionv3_mean_f1_score = np.mean(inceptionv3_f1_scores)\n",
        "print(\"Inceptionv3 Mean f1 score: \", inceptionv3_mean_f1_score)"
      ],
      "execution_count": null,
      "outputs": [
        {
          "output_type": "stream",
          "text": [
            "Inceptionv3 Mean accuracy:  0.31144999999999995\n",
            "Inceptionv3 Mean f1 score:  0.3015192363487129\n"
          ],
          "name": "stdout"
        }
      ]
    },
    {
      "cell_type": "markdown",
      "metadata": {
        "id": "8kKBQlF6C2pM"
      },
      "source": [
        "## Resnet 50"
      ]
    },
    {
      "cell_type": "code",
      "metadata": {
        "id": "Exo-5cHDC2pO",
        "colab": {
          "base_uri": "https://localhost:8080/"
        },
        "outputId": "3f322f5b-2654-4323-a205-3f3b2ee589fd"
      },
      "source": [
        "resnet50_embeddings_val_fn = \"resnet50\" + val_embeddings_filename_suffix\n",
        "resnet50_embeddings_val = get_ndarray_from_drive(drive, folderid, resnet50_embeddings_val_fn)\n"
      ],
      "execution_count": null,
      "outputs": [
        {
          "output_type": "stream",
          "text": [
            "Downloading resnet50_embeddings_val.npz from GDrive\n"
          ],
          "name": "stdout"
        }
      ]
    },
    {
      "cell_type": "code",
      "metadata": {
        "id": "BrmixVuKqpCp",
        "colab": {
          "base_uri": "https://localhost:8080/"
        },
        "outputId": "f35c4316-833c-463f-df7b-98872fa15f52"
      },
      "source": [
        "resnet50_accuracies, resnet50_f1_scores = run_evaluations(\n",
        "    resnet50_embeddings_val, \n",
        "    train_indices, \n",
        "    eval_indices, \n",
        "    wi_y, \n",
        "    eval_y, \n",
        "    num_episodes, \n",
        "    num_ways\n",
        ")"
      ],
      "execution_count": null,
      "outputs": [
        {
          "output_type": "stream",
          "text": [
            " [elapsed time: 0:00:09] |********************************* | (ETA:   0:00:00) "
          ],
          "name": "stderr"
        }
      ]
    },
    {
      "cell_type": "code",
      "metadata": {
        "id": "UQcPvZEK3vS2",
        "colab": {
          "base_uri": "https://localhost:8080/"
        },
        "outputId": "56e82ff4-dec0-4e80-de73-50b28efe4ca7"
      },
      "source": [
        "resnet50_mean_accuracy = np.mean(resnet50_accuracies)\n",
        "print(\"Resnet 50 Mean accuracy: \", resnet50_mean_accuracy)\n",
        "resnet50_mean_f1_score = np.mean(resnet50_f1_scores)\n",
        "print(\"Resnet 50 Mean f1 score: \", resnet50_mean_f1_score)"
      ],
      "execution_count": null,
      "outputs": [
        {
          "output_type": "stream",
          "text": [
            "Resnet 50 Mean accuracy:  0.10399999999999998\n",
            "Resnet 50 Mean f1 score:  0.09740936456885803\n"
          ],
          "name": "stdout"
        }
      ]
    },
    {
      "cell_type": "markdown",
      "metadata": {
        "id": "3WfqxT8TC3sN"
      },
      "source": [
        "## MoCo Resnet"
      ]
    },
    {
      "cell_type": "code",
      "metadata": {
        "id": "kf9XU2CUC3sN",
        "colab": {
          "base_uri": "https://localhost:8080/"
        },
        "outputId": "fc289f6f-1fe4-4ac5-cfc2-344c0641aa00"
      },
      "source": [
        "moco_resnet50_embeddings_val_fn = \"moco_resnet50\" + val_embeddings_filename_suffix\n",
        "\n",
        "moco_resnet50_embeddings_val = get_ndarray_from_drive(drive, folderid, moco_resnet50_embeddings_val_fn)"
      ],
      "execution_count": null,
      "outputs": [
        {
          "output_type": "stream",
          "text": [
            "Downloading moco_resnet50_embeddings_val.npz from GDrive\n"
          ],
          "name": "stdout"
        }
      ]
    },
    {
      "cell_type": "code",
      "metadata": {
        "id": "L0Yd91Fiqsn8",
        "colab": {
          "base_uri": "https://localhost:8080/"
        },
        "outputId": "aeb62b5d-ed9c-47a7-cfa5-f954de269fcd"
      },
      "source": [
        "moco_resnet50_accuracies, moco_resnet50_f1_scores = run_evaluations(\n",
        "    moco_resnet50_embeddings_val, \n",
        "    train_indices, \n",
        "    eval_indices, \n",
        "    wi_y, \n",
        "    eval_y, \n",
        "    num_episodes, \n",
        "    num_ways\n",
        ")"
      ],
      "execution_count": null,
      "outputs": [
        {
          "output_type": "stream",
          "text": [
            " [elapsed time: 0:00:10] |********************************* | (ETA:   0:00:00) "
          ],
          "name": "stderr"
        }
      ]
    },
    {
      "cell_type": "code",
      "metadata": {
        "colab": {
          "base_uri": "https://localhost:8080/"
        },
        "id": "Ep29BAUw4Ry4",
        "outputId": "fa464e35-c141-4f25-ec4a-8b140d665ecc"
      },
      "source": [
        "moco_resnet50_mean_accuracy = np.mean(moco_resnet50_accuracies)\n",
        "print(\"Moco Resnet Mean accuracy: \", moco_resnet50_mean_accuracy)\n",
        "moco_resnet50_mean_f1_score = np.mean(moco_resnet50_f1_scores)\n",
        "print(\"Moco Resnet Mean f1 score: \", moco_resnet50_mean_f1_score)"
      ],
      "execution_count": null,
      "outputs": [
        {
          "output_type": "stream",
          "text": [
            "Moco Resnet Mean accuracy:  0.21430000000000005\n",
            "Moco Resnet Mean f1 score:  0.20550055299441897\n"
          ],
          "name": "stdout"
        }
      ]
    },
    {
      "cell_type": "markdown",
      "metadata": {
        "id": "GpDsLlZgC4ZS"
      },
      "source": [
        "## PCL Resnet"
      ]
    },
    {
      "cell_type": "code",
      "metadata": {
        "id": "OV9b5GHVC4ZS",
        "colab": {
          "base_uri": "https://localhost:8080/"
        },
        "outputId": "3f4dd5c7-6583-4297-d459-4b39bcfe1c32"
      },
      "source": [
        "pcl_resnet50_embeddings_val_fn = \"pcl_resnet50\" + val_embeddings_filename_suffix\n",
        "\n",
        "pcl_resnet50_embeddings_val = get_ndarray_from_drive(drive, folderid, pcl_resnet50_embeddings_val_fn)"
      ],
      "execution_count": null,
      "outputs": [
        {
          "output_type": "stream",
          "text": [
            "Downloading pcl_resnet50_embeddings_val.npz from GDrive\n"
          ],
          "name": "stdout"
        }
      ]
    },
    {
      "cell_type": "code",
      "metadata": {
        "id": "7WZR8LJ-qwel",
        "colab": {
          "base_uri": "https://localhost:8080/"
        },
        "outputId": "233415ac-f468-4143-cf01-dcf74eeb247b"
      },
      "source": [
        "pcl_resnet50_accuracies, pcl_resnet50_f1_scores = run_evaluations(\n",
        "    pcl_resnet50_embeddings_val, \n",
        "    train_indices, \n",
        "    eval_indices, \n",
        "    wi_y, \n",
        "    eval_y, \n",
        "    num_episodes, \n",
        "    num_ways\n",
        ")"
      ],
      "execution_count": null,
      "outputs": [
        {
          "output_type": "stream",
          "text": [
            " [elapsed time: 0:00:09] |********************************* | (ETA:   0:00:00) "
          ],
          "name": "stderr"
        }
      ]
    },
    {
      "cell_type": "code",
      "metadata": {
        "id": "5Q_fXQ864lik",
        "colab": {
          "base_uri": "https://localhost:8080/"
        },
        "outputId": "12bcd2bc-fd39-4f25-a4de-c30f050852ff"
      },
      "source": [
        "pcl_resnet50_mean_accuracy = np.mean(pcl_resnet50_accuracies)\n",
        "print(\"PCL Resnet Mean accuracy: \", pcl_resnet50_mean_accuracy)\n",
        "pcl_resnet50_mean_f1_score = np.mean(pcl_resnet50_f1_scores)\n",
        "print(\"PCL Resnet Mean f1 score: \", pcl_resnet50_mean_f1_score)"
      ],
      "execution_count": null,
      "outputs": [
        {
          "output_type": "stream",
          "text": [
            "PCL Resnet Mean accuracy:  0.14455\n",
            "PCL Resnet Mean f1 score:  0.1386753621511451\n"
          ],
          "name": "stdout"
        }
      ]
    },
    {
      "cell_type": "markdown",
      "metadata": {
        "id": "XRktKMM1FBQj"
      },
      "source": [
        "## SwAV Resnet"
      ]
    },
    {
      "cell_type": "code",
      "metadata": {
        "id": "-PVlxnZ_FBQl",
        "colab": {
          "base_uri": "https://localhost:8080/"
        },
        "outputId": "06ab8859-7834-4659-f4dd-23b8f2aa7842"
      },
      "source": [
        "swav_resnet50_embeddings_val_fn = \"swav_resnet50\" + val_embeddings_filename_suffix\n",
        "\n",
        "swav_resnet50_embeddings_val = get_ndarray_from_drive(drive, folderid, swav_resnet50_embeddings_val_fn)"
      ],
      "execution_count": null,
      "outputs": [
        {
          "output_type": "stream",
          "text": [
            "Downloading swav_resnet50_embeddings_val.npz from GDrive\n"
          ],
          "name": "stdout"
        }
      ]
    },
    {
      "cell_type": "code",
      "metadata": {
        "id": "Tpn22taXq1xv",
        "colab": {
          "base_uri": "https://localhost:8080/"
        },
        "outputId": "750dde33-6e9c-4e51-d998-164413d60455"
      },
      "source": [
        "swav_resnet50_accuracies, swav_resnet50_f1_scores = run_evaluations(\n",
        "    swav_resnet50_embeddings_val, \n",
        "    train_indices, \n",
        "    eval_indices, \n",
        "    wi_y, \n",
        "    eval_y, \n",
        "    num_episodes, \n",
        "    num_ways\n",
        ")"
      ],
      "execution_count": null,
      "outputs": [
        {
          "output_type": "stream",
          "text": [
            " [elapsed time: 0:00:09] |********************************* | (ETA:   0:00:00) "
          ],
          "name": "stderr"
        }
      ]
    },
    {
      "cell_type": "code",
      "metadata": {
        "id": "TXPWqOW55LRX",
        "colab": {
          "base_uri": "https://localhost:8080/"
        },
        "outputId": "e4645775-f083-4379-ba28-202576cd2536"
      },
      "source": [
        "swav_resnet50_mean_accuracy = np.mean(swav_resnet50_accuracies)\n",
        "print(\"Swav Resnet Mean accuracy: \", swav_resnet50_mean_accuracy)\n",
        "swav_resnet50_mean_f1_score = np.mean(swav_resnet50_f1_scores)\n",
        "print(\"Swav Resnet Mean f1 score: \", swav_resnet50_mean_f1_score)"
      ],
      "execution_count": null,
      "outputs": [
        {
          "output_type": "stream",
          "text": [
            "Swav Resnet Mean accuracy:  0.11054999999999998\n",
            "Swav Resnet Mean f1 score:  0.10011777146822265\n"
          ],
          "name": "stdout"
        }
      ]
    },
    {
      "cell_type": "markdown",
      "metadata": {
        "id": "eUuQyU_pFBy5"
      },
      "source": [
        "## SimCLR"
      ]
    },
    {
      "cell_type": "code",
      "metadata": {
        "id": "xEBOCPwlFBy6",
        "colab": {
          "base_uri": "https://localhost:8080/"
        },
        "outputId": "247f362e-09a7-4fa6-d4d0-bebc2dc2d60c"
      },
      "source": [
        "simclr_embeddings_val_fn = \"simclr\" + val_embeddings_filename_suffix\n",
        "\n",
        "simclr_embeddings_val = get_ndarray_from_drive(drive, folderid, simclr_embeddings_val_fn)"
      ],
      "execution_count": null,
      "outputs": [
        {
          "output_type": "stream",
          "text": [
            "Downloading simclr_embeddings_val.npz from GDrive\n"
          ],
          "name": "stdout"
        }
      ]
    },
    {
      "cell_type": "code",
      "metadata": {
        "id": "w7xt9x5qq5z8",
        "colab": {
          "base_uri": "https://localhost:8080/"
        },
        "outputId": "75e6da74-fc3e-4b9e-f0b1-ab41cde93831"
      },
      "source": [
        "simclr_accuracies, simclr_f1_scores = run_evaluations(\n",
        "    simclr_embeddings_val, \n",
        "    train_indices, \n",
        "    eval_indices, \n",
        "    wi_y, \n",
        "    eval_y, \n",
        "    num_episodes, \n",
        "    num_ways\n",
        ")"
      ],
      "execution_count": null,
      "outputs": [
        {
          "output_type": "stream",
          "text": [
            " [elapsed time: 0:00:09] |********************************* | (ETA:   0:00:00) "
          ],
          "name": "stderr"
        }
      ]
    },
    {
      "cell_type": "code",
      "metadata": {
        "id": "rsGJt2GS5wu7",
        "colab": {
          "base_uri": "https://localhost:8080/"
        },
        "outputId": "ba9d5c14-b75c-4925-bf42-81c75f1f4993"
      },
      "source": [
        "simclr_mean_accuracy = np.mean(simclr_accuracies)\n",
        "print(\"Simclr Mean accuracy: \", simclr_mean_accuracy)\n",
        "simclr_mean_f1_score = np.mean(simclr_f1_scores)\n",
        "print(\"Simclr Mean f1 score: \", simclr_mean_f1_score)"
      ],
      "execution_count": null,
      "outputs": [
        {
          "output_type": "stream",
          "text": [
            "Simclr Mean accuracy:  0.42619999999999997\n",
            "Simclr Mean f1 score:  0.41386337572224485\n"
          ],
          "name": "stdout"
        }
      ]
    },
    {
      "cell_type": "markdown",
      "metadata": {
        "id": "J9TjD20ZF--3"
      },
      "source": [
        "## VGG16"
      ]
    },
    {
      "cell_type": "code",
      "metadata": {
        "id": "D_nT_W7eF--5",
        "colab": {
          "base_uri": "https://localhost:8080/"
        },
        "outputId": "fcce38bf-061f-4a57-b509-7fadbfefea27"
      },
      "source": [
        "vgg16_embeddings_val_fn = \"vgg16\" + val_embeddings_filename_suffix\n",
        "\n",
        "vgg16_embeddings_val = get_ndarray_from_drive(drive, folderid, vgg16_embeddings_val_fn)"
      ],
      "execution_count": null,
      "outputs": [
        {
          "output_type": "stream",
          "text": [
            "Downloading vgg16_embeddings_val.npz from GDrive\n"
          ],
          "name": "stdout"
        }
      ]
    },
    {
      "cell_type": "code",
      "metadata": {
        "id": "PuQlOdmeq9LT",
        "colab": {
          "base_uri": "https://localhost:8080/"
        },
        "outputId": "b2f39826-4508-4884-8d03-f8c12ff2d7ea"
      },
      "source": [
        "vgg16_accuracies, vgg16_f1_scores = run_evaluations(\n",
        "    vgg16_embeddings_val, \n",
        "    train_indices, \n",
        "    eval_indices, \n",
        "    wi_y, \n",
        "    eval_y, \n",
        "    num_episodes, \n",
        "    num_ways\n",
        ")"
      ],
      "execution_count": null,
      "outputs": [
        {
          "output_type": "stream",
          "text": [
            " [elapsed time: 0:00:10] |********************************* | (ETA:   0:00:00) "
          ],
          "name": "stderr"
        }
      ]
    },
    {
      "cell_type": "code",
      "metadata": {
        "colab": {
          "base_uri": "https://localhost:8080/"
        },
        "id": "VB1ONpxC7UJF",
        "outputId": "3e01817f-2f25-4e52-b899-e79eb2b4e88e"
      },
      "source": [
        "vgg16_mean_accuracy = np.mean(vgg16_accuracies)\n",
        "print(\"VGG16 Mean accuracy: \", vgg16_mean_accuracy)\n",
        "vgg16_mean_f1_score = np.mean(vgg16_f1_scores)\n",
        "print(\"VGG16 Mean f1 score: \", vgg16_mean_f1_score)"
      ],
      "execution_count": null,
      "outputs": [
        {
          "output_type": "stream",
          "text": [
            "VGG16 Mean accuracy:  0.39815\n",
            "VGG16 Mean f1 score:  0.3875069947665369\n"
          ],
          "name": "stdout"
        }
      ]
    },
    {
      "cell_type": "markdown",
      "metadata": {
        "id": "M9dYlVFDF_vs"
      },
      "source": [
        "## CLIP"
      ]
    },
    {
      "cell_type": "code",
      "metadata": {
        "id": "2y6RpvnEF_vs",
        "colab": {
          "base_uri": "https://localhost:8080/"
        },
        "outputId": "4a74b538-82f3-470c-acf5-36075018e7c3"
      },
      "source": [
        "clip_embeddings_val_fn = \"clip\" + val_embeddings_filename_suffix\n",
        "\n",
        "clip_embeddings_val = get_ndarray_from_drive(drive, folderid, clip_embeddings_val_fn)"
      ],
      "execution_count": null,
      "outputs": [
        {
          "output_type": "stream",
          "text": [
            "Downloading clip_embeddings_val.npz from GDrive\n"
          ],
          "name": "stdout"
        }
      ]
    },
    {
      "cell_type": "code",
      "metadata": {
        "id": "aveJY2-orAb-",
        "colab": {
          "base_uri": "https://localhost:8080/"
        },
        "outputId": "586ac925-f3a9-40b8-ccc4-30598730be96"
      },
      "source": [
        "clip_accuracies, clip_f1_scores = run_evaluations(\n",
        "    clip_embeddings_val, \n",
        "    train_indices, \n",
        "    eval_indices, \n",
        "    wi_y, \n",
        "    eval_y, \n",
        "    num_episodes, \n",
        "    num_ways\n",
        ")"
      ],
      "execution_count": null,
      "outputs": [
        {
          "output_type": "stream",
          "text": [
            " [elapsed time: 0:00:09] |**********************************| (ETA:  00:00:00) "
          ],
          "name": "stderr"
        }
      ]
    },
    {
      "cell_type": "code",
      "metadata": {
        "id": "PDVdzHOH8Lf7",
        "colab": {
          "base_uri": "https://localhost:8080/"
        },
        "outputId": "d62cdf78-a571-4d2b-fde2-583f9a49aa6a"
      },
      "source": [
        "clip_mean_accuracy = np.mean(clip_accuracies)\n",
        "print(\"CLIP Mean accuracy: \", clip_mean_accuracy)\n",
        "clip_mean_f1_score = np.mean(clip_f1_scores)\n",
        "print(\"CLIP Mean f1 score: \", clip_mean_f1_score)"
      ],
      "execution_count": null,
      "outputs": [
        {
          "output_type": "stream",
          "text": [
            "CLIP Mean accuracy:  0.5427\n",
            "CLIP Mean f1 score:  0.5257351049338709\n"
          ],
          "name": "stdout"
        }
      ]
    },
    {
      "cell_type": "markdown",
      "metadata": {
        "id": "Tn0jXMft8yHQ"
      },
      "source": [
        "# Conclusion"
      ]
    },
    {
      "cell_type": "code",
      "metadata": {
        "id": "Is2QJads_ON_"
      },
      "source": [
        "mean_accuracy_dict={\n",
        "    inceptionv3_mean_accuracy: \"Inception V3\",\n",
        "    resnet50_mean_accuracy: \"Resnet 50\",\n",
        "    moco_resnet50_mean_accuracy: \"MoCo Resnet 50\",\n",
        "    pcl_resnet50_mean_accuracy: \"PCL Resnet 50\",\n",
        "    swav_resnet50_mean_accuracy: \"SwAV Resnet 50\",\n",
        "    simclr_mean_accuracy: \"SimCLR\",\n",
        "    vgg16_mean_accuracy: \"VGG 16\", \n",
        "    clip_mean_accuracy: \"CLIP\"\n",
        "}\n",
        "\n",
        "acc_vals = sorted(list(mean_accuracy_dict.keys()), reverse=True)"
      ],
      "execution_count": null,
      "outputs": []
    },
    {
      "cell_type": "code",
      "metadata": {
        "id": "Xxqu4l4kHApF"
      },
      "source": [
        "mean_f1_score_dict={\n",
        "    inceptionv3_mean_f1_score: \"Inception V3\",\n",
        "    resnet50_mean_f1_score: \"Resnet 50\",\n",
        "    moco_resnet50_mean_f1_score: \"MoCo Resnet 50\",\n",
        "    pcl_resnet50_mean_f1_score: \"PCL Resnet 50\",\n",
        "    swav_resnet50_mean_f1_score: \"SwAV Resnet 50\",\n",
        "    simclr_mean_f1_score: \"SimCLR\",\n",
        "    vgg16_mean_f1_score: \"VGG 16\", \n",
        "    clip_mean_f1_score: \"CLIP\"\n",
        "}\n",
        "\n",
        "f1_vals = sorted(list(mean_f1_score_dict.keys()), reverse=True)"
      ],
      "execution_count": null,
      "outputs": []
    },
    {
      "cell_type": "code",
      "metadata": {
        "id": "rVc0H-s_F0M1",
        "colab": {
          "base_uri": "https://localhost:8080/"
        },
        "outputId": "073015e5-0614-4e33-9e55-221c4878b664"
      },
      "source": [
        "print(\"All accuracies for {} way {} shot classification on ImagenetSketch with {} random episodes- \".format(\n",
        "    num_ways, num_shot, num_episodes\n",
        "    ))\n",
        "for val in acc_vals:\n",
        "    print(mean_accuracy_dict[val], \": \", val)"
      ],
      "execution_count": null,
      "outputs": [
        {
          "output_type": "stream",
          "text": [
            "All accuracies for 20 way 1 shot classification on ImagenetSketch with 100 random episodes- \n",
            "CLIP :  0.5427\n",
            "SimCLR :  0.42619999999999997\n",
            "VGG 16 :  0.39815\n",
            "Inception V3 :  0.31144999999999995\n",
            "MoCo Resnet 50 :  0.21430000000000005\n",
            "PCL Resnet 50 :  0.14455\n",
            "SwAV Resnet 50 :  0.11054999999999998\n",
            "Resnet 50 :  0.10399999999999998\n"
          ],
          "name": "stdout"
        }
      ]
    },
    {
      "cell_type": "code",
      "metadata": {
        "id": "Kf7RFuo0K6-h",
        "colab": {
          "base_uri": "https://localhost:8080/"
        },
        "outputId": "59cfca46-0661-4c49-ece5-82868113f204"
      },
      "source": [
        "print(\"All f1 scores for {} way {} shot classification on Omniglot with {} random episodes- \".format(\n",
        "    num_ways, num_shot, num_episodes\n",
        "    ))\n",
        "for val in f1_vals:\n",
        "    print(mean_f1_score_dict[val], \": \", val)"
      ],
      "execution_count": null,
      "outputs": [
        {
          "output_type": "stream",
          "text": [
            "All f1 scores for 20 way 1 shot classification on Omniglot with 100 random episodes- \n",
            "CLIP :  0.5257351049338709\n",
            "SimCLR :  0.41386337572224485\n",
            "VGG 16 :  0.3875069947665369\n",
            "Inception V3 :  0.3015192363487129\n",
            "MoCo Resnet 50 :  0.20550055299441897\n",
            "PCL Resnet 50 :  0.1386753621511451\n",
            "SwAV Resnet 50 :  0.10011777146822265\n",
            "Resnet 50 :  0.09740936456885803\n"
          ],
          "name": "stdout"
        }
      ]
    }
  ]
}