{
  "nbformat": 4,
  "nbformat_minor": 0,
  "metadata": {
    "colab": {
      "name": "WeightImprintingSoftmax_AllModels_ImagenetA.ipynb",
      "provenance": [],
      "collapsed_sections": [
        "RGlVnbugxFK2",
        "3rKe3HqM523g",
        "9z1WQnXdLHy2",
        "NzsubsEm72rr",
        "zU_gxQ0KbwMh",
        "UxTa8MVsvQCN",
        "iLbRqaYxzbr7"
      ],
      "toc_visible": true
    },
    "kernelspec": {
      "display_name": "Python 3",
      "name": "python3"
    }
  },
  "cells": [
    {
      "cell_type": "markdown",
      "metadata": {
        "id": "WTY7kA7DOzpV"
      },
      "source": [
        "# Mount Drive"
      ]
    },
    {
      "cell_type": "code",
      "metadata": {
        "colab": {
          "base_uri": "https://localhost:8080/"
        },
        "id": "4-7JU3Q7q_XT",
        "outputId": "6cf3f45e-412b-46a2-f020-3e2bcb5ae9f5"
      },
      "source": [
        "from google.colab import drive\n",
        "drive.mount('/content/drive')"
      ],
      "execution_count": 1,
      "outputs": [
        {
          "output_type": "stream",
          "text": [
            "Mounted at /content/drive\n"
          ],
          "name": "stdout"
        }
      ]
    },
    {
      "cell_type": "code",
      "metadata": {
        "colab": {
          "base_uri": "https://localhost:8080/"
        },
        "id": "DqqXI7Izk65p",
        "outputId": "e9b41d38-7217-4871-d844-0980cfef1246"
      },
      "source": [
        "!pip install -U -q PyDrive\n",
        "!pip install httplib2==0.15.0\n",
        "import os\n",
        "from pydrive.auth import GoogleAuth\n",
        "from pydrive.drive import GoogleDrive\n",
        "from pydrive.files import GoogleDriveFileList\n",
        "from google.colab import auth\n",
        "from oauth2client.client import GoogleCredentials\n",
        "\n",
        "from getpass import getpass\n",
        "import urllib\n",
        "\n",
        "# 1. Authenticate and create the PyDrive client.\n",
        "auth.authenticate_user()\n",
        "gauth = GoogleAuth()\n",
        "gauth.credentials = GoogleCredentials.get_application_default()\n",
        "drive = GoogleDrive(gauth)\n",
        "\n",
        "# Cloning PAL_2021 to access modules.\n",
        "# Need password to access private repo.\n",
        "\n",
        "if 'CLIPPER' not in os.listdir():\n",
        "    cmd_string = 'git clone https://github.com/PAL-ML/CLIPPER.git'\n",
        "    os.system(cmd_string)"
      ],
      "execution_count": 2,
      "outputs": [
        {
          "output_type": "stream",
          "text": [
            "Collecting httplib2==0.15.0\n",
            "\u001b[?25l  Downloading https://files.pythonhosted.org/packages/be/83/5e006e25403871ffbbf587c7aa4650158c947d46e89f2d50dcaf018464de/httplib2-0.15.0-py3-none-any.whl (94kB)\n",
            "\r\u001b[K     |███▌                            | 10kB 11.7MB/s eta 0:00:01\r\u001b[K     |███████                         | 20kB 11.3MB/s eta 0:00:01\r\u001b[K     |██████████▍                     | 30kB 6.2MB/s eta 0:00:01\r\u001b[K     |█████████████▉                  | 40kB 5.6MB/s eta 0:00:01\r\u001b[K     |█████████████████▎              | 51kB 2.9MB/s eta 0:00:01\r\u001b[K     |████████████████████▊           | 61kB 3.3MB/s eta 0:00:01\r\u001b[K     |████████████████████████▏       | 71kB 3.5MB/s eta 0:00:01\r\u001b[K     |███████████████████████████▋    | 81kB 3.7MB/s eta 0:00:01\r\u001b[K     |███████████████████████████████ | 92kB 3.8MB/s eta 0:00:01\r\u001b[K     |████████████████████████████████| 102kB 3.1MB/s \n",
            "\u001b[?25hInstalling collected packages: httplib2\n",
            "  Found existing installation: httplib2 0.17.4\n",
            "    Uninstalling httplib2-0.17.4:\n",
            "      Successfully uninstalled httplib2-0.17.4\n",
            "Successfully installed httplib2-0.15.0\n"
          ],
          "name": "stdout"
        }
      ]
    },
    {
      "cell_type": "markdown",
      "metadata": {
        "id": "RGlVnbugxFK2"
      },
      "source": [
        "# Installation"
      ]
    },
    {
      "cell_type": "markdown",
      "metadata": {
        "id": "gmgIrfT8hDNE"
      },
      "source": [
        "## Install multi label metrics dependencies"
      ]
    },
    {
      "cell_type": "code",
      "metadata": {
        "colab": {
          "base_uri": "https://localhost:8080/"
        },
        "id": "b6xXPAFbe6Gp",
        "outputId": "bf2ed67d-9869-4d7e-b2a1-7ca4d50be5a3"
      },
      "source": [
        "! pip install scikit-learn==0.24"
      ],
      "execution_count": 3,
      "outputs": [
        {
          "output_type": "stream",
          "text": [
            "Collecting scikit-learn==0.24\n",
            "\u001b[?25l  Downloading https://files.pythonhosted.org/packages/b1/ed/ab51a8da34d2b3f4524b21093081e7f9e2ddf1c9eac9f795dcf68ad0a57d/scikit_learn-0.24.0-cp37-cp37m-manylinux2010_x86_64.whl (22.3MB)\n",
            "\u001b[K     |████████████████████████████████| 22.3MB 173kB/s \n",
            "\u001b[?25hCollecting threadpoolctl>=2.0.0\n",
            "  Downloading https://files.pythonhosted.org/packages/f7/12/ec3f2e203afa394a149911729357aa48affc59c20e2c1c8297a60f33f133/threadpoolctl-2.1.0-py3-none-any.whl\n",
            "Requirement already satisfied: scipy>=0.19.1 in /usr/local/lib/python3.7/dist-packages (from scikit-learn==0.24) (1.4.1)\n",
            "Requirement already satisfied: numpy>=1.13.3 in /usr/local/lib/python3.7/dist-packages (from scikit-learn==0.24) (1.19.5)\n",
            "Requirement already satisfied: joblib>=0.11 in /usr/local/lib/python3.7/dist-packages (from scikit-learn==0.24) (1.0.1)\n",
            "Installing collected packages: threadpoolctl, scikit-learn\n",
            "  Found existing installation: scikit-learn 0.22.2.post1\n",
            "    Uninstalling scikit-learn-0.22.2.post1:\n",
            "      Successfully uninstalled scikit-learn-0.22.2.post1\n",
            "Successfully installed scikit-learn-0.24.0 threadpoolctl-2.1.0\n"
          ],
          "name": "stdout"
        }
      ]
    },
    {
      "cell_type": "markdown",
      "metadata": {
        "id": "3rKe3HqM523g"
      },
      "source": [
        "## Install CLIP dependencies"
      ]
    },
    {
      "cell_type": "code",
      "metadata": {
        "id": "poS-WNDixIhY"
      },
      "source": [
        "# import subprocess\n",
        "\n",
        "# CUDA_version = [s for s in subprocess.check_output([\"nvcc\", \"--version\"]).decode(\"UTF-8\").split(\", \") if s.startswith(\"release\")][0].split(\" \")[-1]\n",
        "# print(\"CUDA version:\", CUDA_version)\n",
        "\n",
        "# if CUDA_version == \"10.0\":\n",
        "#     torch_version_suffix = \"+cu100\"\n",
        "# elif CUDA_version == \"10.1\":\n",
        "#     torch_version_suffix = \"+cu101\"\n",
        "# elif CUDA_version == \"10.2\":\n",
        "#     torch_version_suffix = \"\"\n",
        "# else:\n",
        "#     torch_version_suffix = \"+cu110\""
      ],
      "execution_count": 4,
      "outputs": []
    },
    {
      "cell_type": "code",
      "metadata": {
        "id": "uA-69W8M59nA"
      },
      "source": [
        "# ! pip install torch==1.7.1{torch_version_suffix} torchvision==0.8.2{torch_version_suffix} -f https://download.pytorch.org/whl/torch_stable.html ftfy regex"
      ],
      "execution_count": 5,
      "outputs": []
    },
    {
      "cell_type": "code",
      "metadata": {
        "id": "sYwBZS1N6A3d"
      },
      "source": [
        "# ! pip install ftfy regex\n",
        "# ! wget https://openaipublic.azureedge.net/clip/bpe_simple_vocab_16e6.txt.gz -O bpe_simple_vocab_16e6.txt.gz"
      ],
      "execution_count": 6,
      "outputs": []
    },
    {
      "cell_type": "code",
      "metadata": {
        "id": "9oIcNBYB8lz3"
      },
      "source": [
        "# !pip install git+https://github.com/Sri-vatsa/CLIP # using this fork because of visualization capabilities"
      ],
      "execution_count": 7,
      "outputs": []
    },
    {
      "cell_type": "markdown",
      "metadata": {
        "id": "OLU-gp7n8__E"
      },
      "source": [
        "## Install clustering dependencies"
      ]
    },
    {
      "cell_type": "code",
      "metadata": {
        "id": "6TLg9ozo9Hvc"
      },
      "source": [
        "!pip -q install umap-learn>=0.3.7"
      ],
      "execution_count": 8,
      "outputs": []
    },
    {
      "cell_type": "markdown",
      "metadata": {
        "id": "9z1WQnXdLHy2"
      },
      "source": [
        "## Install dataset manager dependencies"
      ]
    },
    {
      "cell_type": "code",
      "metadata": {
        "colab": {
          "base_uri": "https://localhost:8080/"
        },
        "id": "J1vvMx7_LLSp",
        "outputId": "55a3333c-a366-4571-a044-4c8bce66bbd9"
      },
      "source": [
        "!pip install wget"
      ],
      "execution_count": 9,
      "outputs": [
        {
          "output_type": "stream",
          "text": [
            "Collecting wget\n",
            "  Downloading https://files.pythonhosted.org/packages/47/6a/62e288da7bcda82b935ff0c6cfe542970f04e29c756b0e147251b2fb251f/wget-3.2.zip\n",
            "Building wheels for collected packages: wget\n",
            "  Building wheel for wget (setup.py) ... \u001b[?25l\u001b[?25hdone\n",
            "  Created wheel for wget: filename=wget-3.2-cp37-none-any.whl size=9681 sha256=7f59606a4fa2fa22ee6c20cc707282550c07c3a568b37a40eecf98a287727368\n",
            "  Stored in directory: /root/.cache/pip/wheels/40/15/30/7d8f7cea2902b4db79e3fea550d7d7b85ecb27ef992b618f3f\n",
            "Successfully built wget\n",
            "Installing collected packages: wget\n",
            "Successfully installed wget-3.2\n"
          ],
          "name": "stdout"
        }
      ]
    },
    {
      "cell_type": "markdown",
      "metadata": {
        "id": "NzsubsEm72rr"
      },
      "source": [
        "# Imports"
      ]
    },
    {
      "cell_type": "code",
      "metadata": {
        "id": "KZI62a6G74kw"
      },
      "source": [
        "# ML Libraries\n",
        "import tensorflow as tf\n",
        "import tensorflow_hub as hub\n",
        "import torch\n",
        "import torch.nn as nn\n",
        "import torchvision.models as models\n",
        "import torchvision.transforms as transforms\n",
        "import keras\n",
        "\n",
        "# Data processing\n",
        "import PIL\n",
        "import base64\n",
        "import imageio\n",
        "import pandas as pd\n",
        "import numpy as np\n",
        "import json\n",
        "\n",
        "from PIL import Image\n",
        "import cv2\n",
        "from sklearn.feature_extraction.image import extract_patches_2d\n",
        "\n",
        "# Plotting\n",
        "import seaborn as sns\n",
        "import matplotlib.pyplot as plt\n",
        "import matplotlib.patches as patches\n",
        "\n",
        "from IPython.core.display import display, HTML\n",
        "from matplotlib import cm\n",
        "import matplotlib.image as mpimg\n",
        "\n",
        "# Models\n",
        "# import clip\n",
        "\n",
        "# Datasets\n",
        "import tensorflow_datasets as tfds\n",
        "\n",
        "# Clustering\n",
        "# import umap\n",
        "\n",
        "from sklearn import metrics\n",
        "from sklearn.cluster import KMeans\n",
        "#from yellowbrick.cluster import KElbowVisualizer\n",
        "\n",
        "# Misc\n",
        "import progressbar\n",
        "import logging\n",
        "from abc import ABC, abstractmethod\n",
        "import time\n",
        "import urllib.request\n",
        "import os\n",
        "from sklearn.metrics import jaccard_score, hamming_loss, accuracy_score, f1_score\n",
        "from sklearn.preprocessing import MultiLabelBinarizer\n",
        "\n",
        "\n",
        "# Modules\n",
        "# from CLIPPER.code.ExperimentModules import embedding_models\n",
        "from CLIPPER.code.ExperimentModules.dataset_manager import DatasetManager\n",
        "from CLIPPER.code.ExperimentModules.weight_imprinting_classifier import WeightImprintingClassifier\n",
        "from CLIPPER.code.ExperimentModules import simclr_data_augmentations\n",
        "from CLIPPER.code.ExperimentModules.utils import (save_npy, load_npy, \n",
        "                                                       get_folder_id, \n",
        "                                                       create_expt_dir, \n",
        "                                                       save_to_drive, \n",
        "                                                       load_all_from_drive_folder, \n",
        "                                                       download_file_by_name, \n",
        "                                                       delete_file_by_name)\n",
        "\n",
        "logging.getLogger('googleapicliet.discovery_cache').setLevel(logging.ERROR)"
      ],
      "execution_count": 10,
      "outputs": []
    },
    {
      "cell_type": "markdown",
      "metadata": {
        "id": "zU_gxQ0KbwMh"
      },
      "source": [
        "# Initialization & Constants"
      ]
    },
    {
      "cell_type": "markdown",
      "metadata": {
        "id": "ND-Q6dDoYmDu"
      },
      "source": [
        "## Dataset details"
      ]
    },
    {
      "cell_type": "code",
      "metadata": {
        "colab": {
          "base_uri": "https://localhost:8080/"
        },
        "id": "bih5tBPdbx3u",
        "outputId": "f730f13e-5463-4fc9-e551-e178a5bebbe8"
      },
      "source": [
        "folder_name = \"ImagenetA-Embeddings-28-02-21\"\n",
        "\n",
        "# Change parentid to match that of experiments root folder in gdrive\n",
        "parentid = '1bK72W-Um20EQDEyChNhNJthUNbmoSEjD'\n",
        "\n",
        "# Filepaths\n",
        "test_labels_filename = \"test_labels.npz\"\n",
        "\n",
        "test_embeddings_filename_suffix = \"_embeddings_test.npz\"\n",
        "\n",
        "# Initialize sepcific experiment folder in drive\n",
        "folderid = create_expt_dir(drive, parentid, folder_name)"
      ],
      "execution_count": 11,
      "outputs": [
        {
          "output_type": "stream",
          "text": [
            "title: ImagenetA-Embeddings-28-02-21, id: 13IXmLLCxY96gh9FQMR6Il_dXDB2LsYcR\n",
            "Experiment folder already exists. WARNING: Following with this run might overwrite existing results stored.\n"
          ],
          "name": "stdout"
        }
      ]
    },
    {
      "cell_type": "markdown",
      "metadata": {
        "id": "GTHwQiOvljNU"
      },
      "source": [
        "## Few shot learning parameters"
      ]
    },
    {
      "cell_type": "code",
      "metadata": {
        "id": "HbRNiKZKlmQP"
      },
      "source": [
        "num_ways = 5 # [5, 20]\n",
        "num_shot = 5 # [5, 1]\n",
        "num_eval = 15 # [5, 10, 15, 19]\n",
        "num_episodes = 100\n",
        "shuffle = False"
      ],
      "execution_count": 12,
      "outputs": []
    },
    {
      "cell_type": "markdown",
      "metadata": {
        "id": "UxTa8MVsvQCN"
      },
      "source": [
        "# Load data"
      ]
    },
    {
      "cell_type": "code",
      "metadata": {
        "colab": {
          "base_uri": "https://localhost:8080/"
        },
        "id": "n6S124Jfwuu5",
        "outputId": "fd6b56e1-786c-4ff7-aeb8-321e789af8e9"
      },
      "source": [
        "def get_ndarray_from_drive(drive, folderid, filename):\n",
        "    download_file_by_name(drive, folderid, filename)\n",
        "    return np.load(filename)['data']\n",
        "\n",
        "test_labels = get_ndarray_from_drive(drive, folderid, test_labels_filename)"
      ],
      "execution_count": 13,
      "outputs": [
        {
          "output_type": "stream",
          "text": [
            "Downloading test_labels.npz from GDrive\n",
            "Downloading test_labels.npz from GDrive\n"
          ],
          "name": "stdout"
        }
      ]
    },
    {
      "cell_type": "markdown",
      "metadata": {
        "id": "iLbRqaYxzbr7"
      },
      "source": [
        "# Create label dictionary"
      ]
    },
    {
      "cell_type": "code",
      "metadata": {
        "colab": {
          "base_uri": "https://localhost:8080/"
        },
        "id": "Emz85fNX0Vif",
        "outputId": "c2e1fe4a-8a92-48ef-bf6d-aa8d824f0089"
      },
      "source": [
        "unique_labels = np.unique(test_labels)\n",
        "print(len(unique_labels))"
      ],
      "execution_count": 14,
      "outputs": [
        {
          "output_type": "stream",
          "text": [
            "200\n"
          ],
          "name": "stdout"
        }
      ]
    },
    {
      "cell_type": "code",
      "metadata": {
        "id": "0TubS-RLzeVM"
      },
      "source": [
        "label_dictionary = {la:[] for la in unique_labels}\n",
        "\n",
        "for i in range(len(test_labels)):\n",
        "    la = test_labels[i]\n",
        "\n",
        "    label_dictionary[la].append(i)"
      ],
      "execution_count": 15,
      "outputs": []
    },
    {
      "cell_type": "markdown",
      "metadata": {
        "id": "xP6ftkDCvKul"
      },
      "source": [
        "# Weight Imprinting models on train data embeddings"
      ]
    },
    {
      "cell_type": "markdown",
      "metadata": {
        "id": "fJIGo_R86GQi"
      },
      "source": [
        "## Function definitions"
      ]
    },
    {
      "cell_type": "code",
      "metadata": {
        "id": "QZ-BvKBH6LuI"
      },
      "source": [
        "def calculate_single_label_accuracy(pred, y, label_mapping):\n",
        "    x = 0\n",
        "    for i, p in enumerate(pred):\n",
        "        pred_label = label_mapping[p]\n",
        "        if pred_label == y[i]:\n",
        "            x += 1\n",
        "    x = x/(i+1)\n",
        "\n",
        "    return x"
      ],
      "execution_count": 16,
      "outputs": []
    },
    {
      "cell_type": "code",
      "metadata": {
        "id": "pv68q8TH6tvG"
      },
      "source": [
        "def start_progress_bar(bar_len):\n",
        "    widgets = [\n",
        "        ' [', \n",
        "        progressbar.Timer(format= 'elapsed time: %(elapsed)s'), \n",
        "        '] ', \n",
        "        progressbar.Bar('*'),' (', \n",
        "        progressbar.ETA(), ') ', \n",
        "        ]\n",
        "    pbar = progressbar.ProgressBar(\n",
        "        max_value=bar_len, widgets=widgets\n",
        "        ).start()\n",
        "    return pbar"
      ],
      "execution_count": 17,
      "outputs": []
    },
    {
      "cell_type": "code",
      "metadata": {
        "id": "mUpPZ6ti6IEp"
      },
      "source": [
        "def run_evaluations(\n",
        "    embeddings, \n",
        "    train_indices, \n",
        "    eval_indices, \n",
        "    wi_y, \n",
        "    eval_y, \n",
        "    num_episodes, \n",
        "    num_ways,\n",
        "    verbose=True,\n",
        "    metrics=[\"accuracy\", \"c_f1\"]\n",
        "):\n",
        "    accuracies = []\n",
        "    f1_scores = []\n",
        "\n",
        "    if verbose:\n",
        "        pbar = start_progress_bar(num_episodes)\n",
        "\n",
        "    for i in range(num_episodes):\n",
        "        wi_x = embeddings[train_indices[i]]\n",
        "        wi_x = WeightImprintingClassifier.preprocess_input(wi_x)\n",
        "        eval_x = embeddings[eval_indices[i]]\n",
        "        eval_x = WeightImprintingClassifier.preprocess_input(eval_x)\n",
        "\n",
        "        wi_weights, label_mapping = WeightImprintingClassifier.get_imprinting_weights(\n",
        "            wi_x, wi_y[i], False\n",
        "            )\n",
        "\n",
        "        wi_parameters = {\n",
        "            \"num_classes\": num_ways,\n",
        "            \"input_dims\": wi_x.shape[-1],\n",
        "            \"scale\": False,\n",
        "            \"dense_layer_weights\": wi_weights\n",
        "        }\n",
        "\n",
        "        wi_cls = WeightImprintingClassifier(wi_parameters)\n",
        "\n",
        "        # Evaluate the weight imprinting model\n",
        "        metric_vals = wi_cls.evaluate_single_label_metrics(eval_x, eval_y[i], label_mapping, metrics=metrics)\n",
        "        if \"accuracy\" in metrics:\n",
        "            accuracies.append(metric_vals[\"accuracy\"])  \n",
        "        if \"c_f1\" in metrics:\n",
        "            f1_scores.append(metric_vals[\"c_f1\"])\n",
        "\n",
        "        del wi_x\n",
        "        del eval_x\n",
        "        del wi_cls\n",
        "\n",
        "        if verbose:\n",
        "            pbar.update(i+1)\n",
        "\n",
        "    metric_arrays = []\n",
        "    if \"accuracy\" in metrics:\n",
        "        metric_arrays.append(accuracies)\n",
        "    if \"c_f1\" in metrics:\n",
        "        metric_arrays.append(f1_scores)\n",
        "\n",
        "    return metric_arrays"
      ],
      "execution_count": 18,
      "outputs": []
    },
    {
      "cell_type": "markdown",
      "metadata": {
        "id": "j2XrPKY9EJeG"
      },
      "source": [
        "## Picking indices"
      ]
    },
    {
      "cell_type": "code",
      "metadata": {
        "colab": {
          "base_uri": "https://localhost:8080/"
        },
        "id": "8_S_4DanEJeH",
        "outputId": "eb22da13-18ac-4ad2-9273-d295bb7a4659"
      },
      "source": [
        "eval_indices = []\n",
        "train_indices = []\n",
        "wi_y = []\n",
        "eval_y = []\n",
        "\n",
        "label_dictionary = {la:label_dictionary[la] for la in label_dictionary if len(label_dictionary[la]) >= (num_shot+num_eval)}\n",
        "unique_labels = list(label_dictionary.keys())\n",
        "\n",
        "pbar = start_progress_bar(num_episodes)\n",
        "\n",
        "for s in range(num_episodes):\n",
        "    # Setting random seed for replicability\n",
        "    np.random.seed(s)\n",
        "\n",
        "    _train_indices = []\n",
        "    _eval_indices = []\n",
        "\n",
        "    selected_labels = np.random.choice(unique_labels, size=num_ways, replace=False)\n",
        "    for la in selected_labels:\n",
        "        la_indices = label_dictionary[la]\n",
        "        select = np.random.choice(la_indices, size = num_shot+num_eval, replace=False)\n",
        "        tr_idx = list(select[:num_shot])\n",
        "        ev_idx = list(select[num_shot:])\n",
        "\n",
        "        _train_indices = _train_indices + tr_idx\n",
        "        _eval_indices = _eval_indices + ev_idx\n",
        "\n",
        "    if shuffle:\n",
        "        np.random.shuffle(_train_indices)\n",
        "        np.random.shuffle(_eval_indices)\n",
        "\n",
        "    train_indices.append(_train_indices)\n",
        "    eval_indices.append(_eval_indices)\n",
        "\n",
        "    _wi_y = test_labels[_train_indices]\n",
        "    _eval_y = test_labels[_eval_indices]\n",
        "\n",
        "    wi_y.append(_wi_y)\n",
        "    eval_y.append(_eval_y)\n",
        "\n",
        "    pbar.update(s+1)"
      ],
      "execution_count": 19,
      "outputs": [
        {
          "output_type": "stream",
          "text": [
            "\r                                                                               \r\r [elapsed time: 0:00:00] |                                  | (ETA:  --:--:--) "
          ],
          "name": "stderr"
        }
      ]
    },
    {
      "cell_type": "markdown",
      "metadata": {
        "id": "cOdSfodivGga"
      },
      "source": [
        "## Inception V3"
      ]
    },
    {
      "cell_type": "code",
      "metadata": {
        "colab": {
          "base_uri": "https://localhost:8080/"
        },
        "id": "WO5MzYeWzKBr",
        "outputId": "c3c75e3c-a3ea-4b8b-ffc6-b3c75797472d"
      },
      "source": [
        "# Load numpy data from drive\n",
        "inceptionv3_embeddings_test_fn = \"inceptionv3\" + test_embeddings_filename_suffix\n",
        "\n",
        "inceptionv3_embeddings_test = get_ndarray_from_drive(drive, folderid, inceptionv3_embeddings_test_fn)"
      ],
      "execution_count": 20,
      "outputs": [
        {
          "output_type": "stream",
          "text": [
            "Downloading inceptionv3_embeddings_test.npz from GDrive\n"
          ],
          "name": "stdout"
        }
      ]
    },
    {
      "cell_type": "code",
      "metadata": {
        "colab": {
          "base_uri": "https://localhost:8080/"
        },
        "id": "bt3vOhJeeEpH",
        "outputId": "d59285f4-7d14-4923-e19e-8caa4fbc7fdb"
      },
      "source": [
        "inceptionv3_accuracies, inceptionv3_f1_scores = run_evaluations(\n",
        "    inceptionv3_embeddings_test, \n",
        "    train_indices, \n",
        "    eval_indices, \n",
        "    wi_y, \n",
        "    eval_y, \n",
        "    num_episodes, \n",
        "    num_ways\n",
        "    )"
      ],
      "execution_count": 21,
      "outputs": [
        {
          "output_type": "stream",
          "text": [
            " [elapsed time: 0:00:25] |**********************************| (ETA:  00:00:00) "
          ],
          "name": "stderr"
        }
      ]
    },
    {
      "cell_type": "code",
      "metadata": {
        "colab": {
          "base_uri": "https://localhost:8080/"
        },
        "id": "-MEo_xCIwo7U",
        "outputId": "025da07c-bdc1-4ed2-ffd6-f5cc97836de8"
      },
      "source": [
        "inceptionv3_mean_accuracy = np.mean(inceptionv3_accuracies)\n",
        "print(\"Inceptionv3 Mean accuracy: \", inceptionv3_mean_accuracy)\n",
        "inceptionv3_mean_f1_score = np.mean(inceptionv3_f1_scores)\n",
        "print(\"Inceptionv3 Mean f1 score: \", inceptionv3_mean_f1_score)"
      ],
      "execution_count": 22,
      "outputs": [
        {
          "output_type": "stream",
          "text": [
            "Inceptionv3 Mean accuracy:  0.5276\n",
            "Inceptionv3 Mean f1 score:  0.5196375397496152\n"
          ],
          "name": "stdout"
        }
      ]
    },
    {
      "cell_type": "markdown",
      "metadata": {
        "id": "8kKBQlF6C2pM"
      },
      "source": [
        "## Resnet 50"
      ]
    },
    {
      "cell_type": "code",
      "metadata": {
        "colab": {
          "base_uri": "https://localhost:8080/"
        },
        "id": "Exo-5cHDC2pO",
        "outputId": "b73fee42-9bf3-4abf-abba-cbc808719e00"
      },
      "source": [
        "resnet50_embeddings_test_fn = \"resnet50\" + test_embeddings_filename_suffix\n",
        "resnet50_embeddings_test = get_ndarray_from_drive(drive, folderid, resnet50_embeddings_test_fn)\n"
      ],
      "execution_count": 23,
      "outputs": [
        {
          "output_type": "stream",
          "text": [
            "Downloading resnet50_embeddings_test.npz from GDrive\n"
          ],
          "name": "stdout"
        }
      ]
    },
    {
      "cell_type": "code",
      "metadata": {
        "colab": {
          "base_uri": "https://localhost:8080/"
        },
        "id": "PDf_JO8KectT",
        "outputId": "7094625a-0be9-41a3-b5eb-54ff9122f3f4"
      },
      "source": [
        "resnet50_accuracies, resnet50_f1_scores = run_evaluations(\n",
        "    resnet50_embeddings_test, \n",
        "    train_indices, \n",
        "    eval_indices, \n",
        "    wi_y, \n",
        "    eval_y, \n",
        "    num_episodes, \n",
        "    num_ways\n",
        "    )"
      ],
      "execution_count": 24,
      "outputs": [
        {
          "output_type": "stream",
          "text": [
            " [elapsed time: 0:00:18] |**********************************| (ETA:  00:00:00) "
          ],
          "name": "stderr"
        }
      ]
    },
    {
      "cell_type": "code",
      "metadata": {
        "colab": {
          "base_uri": "https://localhost:8080/"
        },
        "id": "UQcPvZEK3vS2",
        "outputId": "4c8e7ba8-9e8e-48a0-9bec-1fa1d314bb6c"
      },
      "source": [
        "resnet50_mean_accuracy = np.mean(resnet50_accuracies)\n",
        "print(\"Resnet 50 Mean accuracy: \", resnet50_mean_accuracy)\n",
        "resnet50_mean_f1_score = np.mean(resnet50_f1_scores)\n",
        "print(\"Resnet 50 Mean f1 score: \", resnet50_mean_f1_score)"
      ],
      "execution_count": 25,
      "outputs": [
        {
          "output_type": "stream",
          "text": [
            "Resnet 50 Mean accuracy:  0.5648000000000001\n",
            "Resnet 50 Mean f1 score:  0.5578478040165522\n"
          ],
          "name": "stdout"
        }
      ]
    },
    {
      "cell_type": "markdown",
      "metadata": {
        "id": "3WfqxT8TC3sN"
      },
      "source": [
        "## MoCo Resnet"
      ]
    },
    {
      "cell_type": "code",
      "metadata": {
        "colab": {
          "base_uri": "https://localhost:8080/"
        },
        "id": "kf9XU2CUC3sN",
        "outputId": "6c2eb2ac-d7b6-400d-d8fd-2fc9d2d6d42c"
      },
      "source": [
        "moco_resnet50_embeddings_test_fn = \"moco_resnet50\" + test_embeddings_filename_suffix\n",
        "\n",
        "moco_resnet50_embeddings_test = get_ndarray_from_drive(drive, folderid, moco_resnet50_embeddings_test_fn)"
      ],
      "execution_count": 26,
      "outputs": [
        {
          "output_type": "stream",
          "text": [
            "Downloading moco_resnet50_embeddings_test.npz from GDrive\n"
          ],
          "name": "stdout"
        }
      ]
    },
    {
      "cell_type": "code",
      "metadata": {
        "colab": {
          "base_uri": "https://localhost:8080/"
        },
        "id": "eDWd0ArZeicW",
        "outputId": "cd69ae0e-1893-44c4-8390-82105877da14"
      },
      "source": [
        "moco_resnet50_accuracies, moco_resnet50_f1_scores = run_evaluations(\n",
        "    moco_resnet50_embeddings_test, \n",
        "    train_indices, \n",
        "    eval_indices, \n",
        "    wi_y, \n",
        "    eval_y, \n",
        "    num_episodes, \n",
        "    num_ways\n",
        "    )"
      ],
      "execution_count": 27,
      "outputs": [
        {
          "output_type": "stream",
          "text": [
            " [elapsed time: 0:00:18] |**********************************| (ETA:  00:00:00) "
          ],
          "name": "stderr"
        }
      ]
    },
    {
      "cell_type": "code",
      "metadata": {
        "id": "Ep29BAUw4Ry4",
        "colab": {
          "base_uri": "https://localhost:8080/"
        },
        "outputId": "fd6ae6a3-a564-477a-9757-87240744c692"
      },
      "source": [
        "moco_resnet50_mean_accuracy = np.mean(moco_resnet50_accuracies)\n",
        "print(\"Moco Resnet Mean accuracy: \", moco_resnet50_mean_accuracy)\n",
        "moco_resnet50_mean_f1_score = np.mean(moco_resnet50_f1_scores)\n",
        "print(\"Moco Resnet Mean f1 score: \", moco_resnet50_mean_f1_score)"
      ],
      "execution_count": 28,
      "outputs": [
        {
          "output_type": "stream",
          "text": [
            "Moco Resnet Mean accuracy:  0.5552\n",
            "Moco Resnet Mean f1 score:  0.5462290131491588\n"
          ],
          "name": "stdout"
        }
      ]
    },
    {
      "cell_type": "markdown",
      "metadata": {
        "id": "GpDsLlZgC4ZS"
      },
      "source": [
        "## PCL Resnet"
      ]
    },
    {
      "cell_type": "code",
      "metadata": {
        "id": "OV9b5GHVC4ZS",
        "colab": {
          "base_uri": "https://localhost:8080/"
        },
        "outputId": "2bf7f9ba-b67d-4f40-cf03-e2533031faf3"
      },
      "source": [
        "pcl_resnet50_embeddings_test_fn = \"pcl_resnet50\" + test_embeddings_filename_suffix\n",
        "\n",
        "pcl_resnet50_embeddings_test = get_ndarray_from_drive(drive, folderid, pcl_resnet50_embeddings_test_fn)"
      ],
      "execution_count": 29,
      "outputs": [
        {
          "output_type": "stream",
          "text": [
            "Downloading pcl_resnet50_embeddings_test.npz from GDrive\n"
          ],
          "name": "stdout"
        }
      ]
    },
    {
      "cell_type": "code",
      "metadata": {
        "id": "UEoT5B6Een2S",
        "colab": {
          "base_uri": "https://localhost:8080/"
        },
        "outputId": "4aca4791-79c8-4afd-c21f-cb731beb7b6c"
      },
      "source": [
        "pcl_resnet50_accuracies, pcl_resnet50_f1_scores = run_evaluations(\n",
        "    pcl_resnet50_embeddings_test, \n",
        "    train_indices, \n",
        "    eval_indices, \n",
        "    wi_y, \n",
        "    eval_y, \n",
        "    num_episodes, \n",
        "    num_ways\n",
        "    )"
      ],
      "execution_count": 30,
      "outputs": [
        {
          "output_type": "stream",
          "text": [
            " [elapsed time: 0:00:18] |**********************************| (ETA:  00:00:00) "
          ],
          "name": "stderr"
        }
      ]
    },
    {
      "cell_type": "code",
      "metadata": {
        "colab": {
          "base_uri": "https://localhost:8080/"
        },
        "id": "5Q_fXQ864lik",
        "outputId": "083db2f3-5f8c-4da9-86d1-4cb88e32d59c"
      },
      "source": [
        "pcl_resnet50_mean_accuracy = np.mean(pcl_resnet50_accuracies)\n",
        "print(\"PCL Resnet Mean accuracy: \", pcl_resnet50_mean_accuracy)\n",
        "pcl_resnet50_mean_f1_score = np.mean(pcl_resnet50_f1_scores)\n",
        "print(\"PCL Resnet Mean f1 score: \", pcl_resnet50_mean_f1_score)"
      ],
      "execution_count": 31,
      "outputs": [
        {
          "output_type": "stream",
          "text": [
            "PCL Resnet Mean accuracy:  0.5178666666666666\n",
            "PCL Resnet Mean f1 score:  0.5101511468646145\n"
          ],
          "name": "stdout"
        }
      ]
    },
    {
      "cell_type": "markdown",
      "metadata": {
        "id": "XRktKMM1FBQj"
      },
      "source": [
        "## SwAV Resnet"
      ]
    },
    {
      "cell_type": "code",
      "metadata": {
        "id": "-PVlxnZ_FBQl",
        "colab": {
          "base_uri": "https://localhost:8080/"
        },
        "outputId": "652c4cd4-a1fd-47d8-f263-6d8dc4a142de"
      },
      "source": [
        "swav_resnet50_embeddings_test_fn = \"swav_resnet50\" + test_embeddings_filename_suffix\n",
        "\n",
        "swav_resnet50_embeddings_test = get_ndarray_from_drive(drive, folderid, swav_resnet50_embeddings_test_fn)"
      ],
      "execution_count": 32,
      "outputs": [
        {
          "output_type": "stream",
          "text": [
            "Downloading swav_resnet50_embeddings_test.npz from GDrive\n"
          ],
          "name": "stdout"
        }
      ]
    },
    {
      "cell_type": "code",
      "metadata": {
        "id": "SaX28ZdNerrm",
        "colab": {
          "base_uri": "https://localhost:8080/"
        },
        "outputId": "2ed0313f-1dff-467b-a820-6c53a9ad8add"
      },
      "source": [
        "swav_resnet50_accuracies, swav_resnet50_f1_scores = run_evaluations(\n",
        "    swav_resnet50_embeddings_test, \n",
        "    train_indices, \n",
        "    eval_indices, \n",
        "    wi_y, \n",
        "    eval_y, \n",
        "    num_episodes, \n",
        "    num_ways\n",
        "    )"
      ],
      "execution_count": 33,
      "outputs": [
        {
          "output_type": "stream",
          "text": [
            " [elapsed time: 0:00:18] |**********************************| (ETA:  00:00:00) "
          ],
          "name": "stderr"
        }
      ]
    },
    {
      "cell_type": "code",
      "metadata": {
        "id": "TXPWqOW55LRX",
        "colab": {
          "base_uri": "https://localhost:8080/"
        },
        "outputId": "dcf4835c-3022-48fe-ab24-3d4d0d1bb1a5"
      },
      "source": [
        "swav_resnet50_mean_accuracy = np.mean(swav_resnet50_accuracies)\n",
        "print(\"Swav Resnet Mean accuracy: \", swav_resnet50_mean_accuracy)\n",
        "swav_resnet50_mean_f1_score = np.mean(swav_resnet50_f1_scores)\n",
        "print(\"Swav Resnet Mean f1 score: \", swav_resnet50_mean_f1_score)"
      ],
      "execution_count": 34,
      "outputs": [
        {
          "output_type": "stream",
          "text": [
            "Swav Resnet Mean accuracy:  0.5250666666666668\n",
            "Swav Resnet Mean f1 score:  0.5162744872395371\n"
          ],
          "name": "stdout"
        }
      ]
    },
    {
      "cell_type": "markdown",
      "metadata": {
        "id": "eUuQyU_pFBy5"
      },
      "source": [
        "## SimCLR"
      ]
    },
    {
      "cell_type": "code",
      "metadata": {
        "id": "xEBOCPwlFBy6",
        "colab": {
          "base_uri": "https://localhost:8080/"
        },
        "outputId": "2f0469af-06f0-4938-f237-08825077186d"
      },
      "source": [
        "simclr_embeddings_test_fn = \"simclr\" + test_embeddings_filename_suffix\n",
        "\n",
        "simclr_embeddings_test = get_ndarray_from_drive(drive, folderid, simclr_embeddings_test_fn)"
      ],
      "execution_count": 35,
      "outputs": [
        {
          "output_type": "stream",
          "text": [
            "Downloading simclr_embeddings_test.npz from GDrive\n"
          ],
          "name": "stdout"
        }
      ]
    },
    {
      "cell_type": "code",
      "metadata": {
        "id": "yXBVG71cew2U",
        "colab": {
          "base_uri": "https://localhost:8080/"
        },
        "outputId": "cdab0469-4360-4820-a08b-0609fbcaf44c"
      },
      "source": [
        "simclr_accuracies, simclr_f1_scores = run_evaluations(\n",
        "    simclr_embeddings_test, \n",
        "    train_indices, \n",
        "    eval_indices, \n",
        "    wi_y, \n",
        "    eval_y, \n",
        "    num_episodes, \n",
        "    num_ways\n",
        "    )"
      ],
      "execution_count": 36,
      "outputs": [
        {
          "output_type": "stream",
          "text": [
            " [elapsed time: 0:00:18] |**********************************| (ETA:  00:00:00) "
          ],
          "name": "stderr"
        }
      ]
    },
    {
      "cell_type": "code",
      "metadata": {
        "id": "rsGJt2GS5wu7",
        "colab": {
          "base_uri": "https://localhost:8080/"
        },
        "outputId": "eabf3b4b-4cdc-44eb-e6f3-d9f8d1cfb4eb"
      },
      "source": [
        "simclr_mean_accuracy = np.mean(simclr_accuracies)\n",
        "print(\"Simclr Mean accuracy: \", simclr_mean_accuracy)\n",
        "simclr_mean_f1_score = np.mean(simclr_f1_scores)\n",
        "print(\"Simclr Mean f1 score: \", simclr_mean_f1_score)"
      ],
      "execution_count": 37,
      "outputs": [
        {
          "output_type": "stream",
          "text": [
            "Simclr Mean accuracy:  0.6067999999999999\n",
            "Simclr Mean f1 score:  0.601315410631955\n"
          ],
          "name": "stdout"
        }
      ]
    },
    {
      "cell_type": "markdown",
      "metadata": {
        "id": "J9TjD20ZF--3"
      },
      "source": [
        "## VGG16"
      ]
    },
    {
      "cell_type": "code",
      "metadata": {
        "id": "D_nT_W7eF--5",
        "colab": {
          "base_uri": "https://localhost:8080/"
        },
        "outputId": "9c8998a4-8b6f-454c-dbf7-e60ab425f05c"
      },
      "source": [
        "vgg16_embeddings_test_fn = \"vgg16\" + test_embeddings_filename_suffix\n",
        "\n",
        "vgg16_embeddings_test = get_ndarray_from_drive(drive, folderid, vgg16_embeddings_test_fn)"
      ],
      "execution_count": 38,
      "outputs": [
        {
          "output_type": "stream",
          "text": [
            "Downloading vgg16_embeddings_test.npz from GDrive\n"
          ],
          "name": "stdout"
        }
      ]
    },
    {
      "cell_type": "code",
      "metadata": {
        "id": "gkrYZmcEe1pn",
        "colab": {
          "base_uri": "https://localhost:8080/"
        },
        "outputId": "933fa15c-8c23-4920-aef5-30860306a25a"
      },
      "source": [
        "vgg16_accuracies, vgg16_f1_scores = run_evaluations(\n",
        "    vgg16_embeddings_test, \n",
        "    train_indices, \n",
        "    eval_indices, \n",
        "    wi_y, \n",
        "    eval_y, \n",
        "    num_episodes, \n",
        "    num_ways\n",
        "    )"
      ],
      "execution_count": 39,
      "outputs": [
        {
          "output_type": "stream",
          "text": [
            " [elapsed time: 0:00:20] |**********************************| (ETA:  00:00:00) "
          ],
          "name": "stderr"
        }
      ]
    },
    {
      "cell_type": "code",
      "metadata": {
        "id": "VB1ONpxC7UJF",
        "colab": {
          "base_uri": "https://localhost:8080/"
        },
        "outputId": "5fa54cb5-6429-4b06-f378-cdf9a2a86cb6"
      },
      "source": [
        "vgg16_mean_accuracy = np.mean(vgg16_accuracies)\n",
        "print(\"VGG16 Mean accuracy: \", vgg16_mean_accuracy)\n",
        "vgg16_mean_f1_score = np.mean(vgg16_f1_scores)\n",
        "print(\"VGG16 Mean f1 score: \", vgg16_mean_f1_score)"
      ],
      "execution_count": 40,
      "outputs": [
        {
          "output_type": "stream",
          "text": [
            "VGG16 Mean accuracy:  0.5652\n",
            "VGG16 Mean f1 score:  0.556405148357033\n"
          ],
          "name": "stdout"
        }
      ]
    },
    {
      "cell_type": "markdown",
      "metadata": {
        "id": "M9dYlVFDF_vs"
      },
      "source": [
        "## CLIP"
      ]
    },
    {
      "cell_type": "code",
      "metadata": {
        "id": "2y6RpvnEF_vs",
        "colab": {
          "base_uri": "https://localhost:8080/"
        },
        "outputId": "6e76ee23-6861-433b-bb00-10b4525307c9"
      },
      "source": [
        "clip_embeddings_test_fn = \"clip\" + test_embeddings_filename_suffix\n",
        "\n",
        "clip_embeddings_test = get_ndarray_from_drive(drive, folderid, clip_embeddings_test_fn)"
      ],
      "execution_count": 41,
      "outputs": [
        {
          "output_type": "stream",
          "text": [
            "Downloading clip_embeddings_test.npz from GDrive\n"
          ],
          "name": "stdout"
        }
      ]
    },
    {
      "cell_type": "code",
      "metadata": {
        "id": "OxVHu9ize6CV",
        "colab": {
          "base_uri": "https://localhost:8080/"
        },
        "outputId": "137fe166-e461-44c8-ac21-a7d65a2e62e3"
      },
      "source": [
        "clip_accuracies, clip_f1_scores = run_evaluations(\n",
        "    clip_embeddings_test, \n",
        "    train_indices, \n",
        "    eval_indices, \n",
        "    wi_y, \n",
        "    eval_y, \n",
        "    num_episodes, \n",
        "    num_ways\n",
        "    )"
      ],
      "execution_count": 42,
      "outputs": [
        {
          "output_type": "stream",
          "text": [
            " [elapsed time: 0:00:21] |**********************************| (ETA:  00:00:00) "
          ],
          "name": "stderr"
        }
      ]
    },
    {
      "cell_type": "code",
      "metadata": {
        "id": "PDVdzHOH8Lf7",
        "colab": {
          "base_uri": "https://localhost:8080/"
        },
        "outputId": "9c5b74e1-7a37-4ebe-a44e-748c83804aab"
      },
      "source": [
        "clip_mean_accuracy = np.mean(clip_accuracies)\n",
        "print(\"CLIP Mean accuracy: \", clip_mean_accuracy)\n",
        "clip_mean_f1_score = np.mean(clip_f1_scores)\n",
        "print(\"CLIP Mean f1 score: \", clip_mean_f1_score)"
      ],
      "execution_count": 43,
      "outputs": [
        {
          "output_type": "stream",
          "text": [
            "CLIP Mean accuracy:  0.7457333333333334\n",
            "CLIP Mean f1 score:  0.7427950084062966\n"
          ],
          "name": "stdout"
        }
      ]
    },
    {
      "cell_type": "markdown",
      "metadata": {
        "id": "Tn0jXMft8yHQ"
      },
      "source": [
        "# Conclusion"
      ]
    },
    {
      "cell_type": "code",
      "metadata": {
        "id": "Is2QJads_ON_"
      },
      "source": [
        "mean_accuracy_dict={\n",
        "    inceptionv3_mean_accuracy: \"Inception V3\",\n",
        "    resnet50_mean_accuracy: \"Resnet 50\",\n",
        "    moco_resnet50_mean_accuracy: \"MoCo Resnet 50\",\n",
        "    pcl_resnet50_mean_accuracy: \"PCL Resnet 50\",\n",
        "    swav_resnet50_mean_accuracy: \"SwAV Resnet 50\",\n",
        "    simclr_mean_accuracy: \"SimCLR\",\n",
        "    vgg16_mean_accuracy: \"VGG 16\", \n",
        "    clip_mean_accuracy: \"CLIP\"\n",
        "}\n",
        "\n",
        "acc_vals = sorted(list(mean_accuracy_dict.keys()), reverse=True)"
      ],
      "execution_count": 44,
      "outputs": []
    },
    {
      "cell_type": "code",
      "metadata": {
        "id": "v84cFUclEuly"
      },
      "source": [
        "mean_f1_score_dict={\n",
        "    inceptionv3_mean_f1_score: \"Inception V3\",\n",
        "    resnet50_mean_f1_score: \"Resnet 50\",\n",
        "    moco_resnet50_mean_f1_score: \"MoCo Resnet 50\",\n",
        "    pcl_resnet50_mean_f1_score: \"PCL Resnet 50\",\n",
        "    swav_resnet50_mean_f1_score: \"SwAV Resnet 50\",\n",
        "    simclr_mean_f1_score: \"SimCLR\",\n",
        "    vgg16_mean_f1_score: \"VGG 16\", \n",
        "    clip_mean_f1_score: \"CLIP\"\n",
        "}\n",
        "\n",
        "f1_vals = sorted(list(mean_f1_score_dict.keys()), reverse=True)"
      ],
      "execution_count": 45,
      "outputs": []
    },
    {
      "cell_type": "code",
      "metadata": {
        "id": "rVc0H-s_F0M1",
        "colab": {
          "base_uri": "https://localhost:8080/"
        },
        "outputId": "50295d63-0c07-4c67-c25a-a4df04d87113"
      },
      "source": [
        "print(\"All accuracies for {} way {} shot classification on ImagenetA with {} random episodes- \".format(\n",
        "    num_ways, num_shot, num_episodes\n",
        "    ))\n",
        "for val in acc_vals:\n",
        "    print(mean_accuracy_dict[val], \": \", val)"
      ],
      "execution_count": 46,
      "outputs": [
        {
          "output_type": "stream",
          "text": [
            "All accuracies for 5 way 5 shot classification on ImagenetA with 100 random episodes- \n",
            "CLIP :  0.7457333333333334\n",
            "SimCLR :  0.6067999999999999\n",
            "VGG 16 :  0.5652\n",
            "Resnet 50 :  0.5648000000000001\n",
            "MoCo Resnet 50 :  0.5552\n",
            "Inception V3 :  0.5276\n",
            "SwAV Resnet 50 :  0.5250666666666668\n",
            "PCL Resnet 50 :  0.5178666666666666\n"
          ],
          "name": "stdout"
        }
      ]
    },
    {
      "cell_type": "code",
      "metadata": {
        "id": "Kf7RFuo0K6-h",
        "colab": {
          "base_uri": "https://localhost:8080/"
        },
        "outputId": "34717355-bea7-4be1-ef5f-6776f52a36cb"
      },
      "source": [
        "print(\"All f1 scores for {} way {} shot classification on Omniglot with {} random episodes- \".format(\n",
        "    num_ways, num_shot, num_episodes\n",
        "    ))\n",
        "for val in f1_vals:\n",
        "    print(mean_f1_score_dict[val], \": \", val)"
      ],
      "execution_count": 47,
      "outputs": [
        {
          "output_type": "stream",
          "text": [
            "All f1 scores for 5 way 5 shot classification on Omniglot with 100 random episodes- \n",
            "CLIP :  0.7427950084062966\n",
            "SimCLR :  0.601315410631955\n",
            "Resnet 50 :  0.5578478040165522\n",
            "VGG 16 :  0.556405148357033\n",
            "MoCo Resnet 50 :  0.5462290131491588\n",
            "Inception V3 :  0.5196375397496152\n",
            "SwAV Resnet 50 :  0.5162744872395371\n",
            "PCL Resnet 50 :  0.5101511468646145\n"
          ],
          "name": "stdout"
        }
      ]
    }
  ]
}