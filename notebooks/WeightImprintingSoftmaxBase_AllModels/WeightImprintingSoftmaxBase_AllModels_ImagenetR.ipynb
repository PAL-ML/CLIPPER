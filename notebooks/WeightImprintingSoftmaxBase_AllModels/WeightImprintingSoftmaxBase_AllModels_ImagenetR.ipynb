{
  "nbformat": 4,
  "nbformat_minor": 0,
  "metadata": {
    "colab": {
      "name": "WeightImprintingSoftmax_AllModels_ImagenetR.ipynb",
      "provenance": [],
      "collapsed_sections": [
        "RGlVnbugxFK2",
        "3rKe3HqM523g",
        "9z1WQnXdLHy2",
        "NzsubsEm72rr",
        "zU_gxQ0KbwMh",
        "UxTa8MVsvQCN",
        "iLbRqaYxzbr7",
        "xP6ftkDCvKul"
      ],
      "toc_visible": true
    },
    "kernelspec": {
      "display_name": "Python 3",
      "name": "python3"
    }
  },
  "cells": [
    {
      "cell_type": "markdown",
      "metadata": {
        "id": "WTY7kA7DOzpV"
      },
      "source": [
        "# Mount Drive"
      ]
    },
    {
      "cell_type": "code",
      "metadata": {
        "colab": {
          "base_uri": "https://localhost:8080/"
        },
        "id": "4-7JU3Q7q_XT",
        "outputId": "908b61be-c291-4313-e724-e909351f16b9"
      },
      "source": [
        "from google.colab import drive\n",
        "drive.mount('/content/drive')"
      ],
      "execution_count": null,
      "outputs": [
        {
          "output_type": "stream",
          "text": [
            "Drive already mounted at /content/drive; to attempt to forcibly remount, call drive.mount(\"/content/drive\", force_remount=True).\n"
          ],
          "name": "stdout"
        }
      ]
    },
    {
      "cell_type": "code",
      "metadata": {
        "colab": {
          "base_uri": "https://localhost:8080/"
        },
        "id": "DqqXI7Izk65p",
        "outputId": "490a6b78-2dd9-4f19-9eab-b35044f76cbd"
      },
      "source": [
        "!pip install -U -q PyDrive\n",
        "!pip install httplib2==0.15.0\n",
        "import os\n",
        "from pydrive.auth import GoogleAuth\n",
        "from pydrive.drive import GoogleDrive\n",
        "from pydrive.files import GoogleDriveFileList\n",
        "from google.colab import auth\n",
        "from oauth2client.client import GoogleCredentials\n",
        "\n",
        "from getpass import getpass\n",
        "import urllib\n",
        "\n",
        "# 1. Authenticate and create the PyDrive client.\n",
        "auth.authenticate_user()\n",
        "gauth = GoogleAuth()\n",
        "gauth.credentials = GoogleCredentials.get_application_default()\n",
        "drive = GoogleDrive(gauth)\n",
        "\n",
        "# Cloning PAL_2021 to access modules.\n",
        "# Need password to access private repo.\n",
        "\n",
        "if 'CLIPPER' not in os.listdir():\n",
        "    cmd_string = 'git clone https://github.com/PAL-ML/CLIPPER.git'\n",
        "    os.system(cmd_string)"
      ],
      "execution_count": null,
      "outputs": [
        {
          "output_type": "stream",
          "text": [
            "Requirement already satisfied: httplib2==0.15.0 in /usr/local/lib/python3.7/dist-packages (0.15.0)\n"
          ],
          "name": "stdout"
        }
      ]
    },
    {
      "cell_type": "markdown",
      "metadata": {
        "id": "RGlVnbugxFK2"
      },
      "source": [
        "# Installation"
      ]
    },
    {
      "cell_type": "markdown",
      "metadata": {
        "id": "gmgIrfT8hDNE"
      },
      "source": [
        "## Install multi label metrics dependencies"
      ]
    },
    {
      "cell_type": "code",
      "metadata": {
        "colab": {
          "base_uri": "https://localhost:8080/"
        },
        "id": "b6xXPAFbe6Gp",
        "outputId": "9bfbd423-f468-4cf5-cc4f-2262608ef95d"
      },
      "source": [
        "! pip install scikit-learn==0.24"
      ],
      "execution_count": null,
      "outputs": [
        {
          "output_type": "stream",
          "text": [
            "Requirement already satisfied: scikit-learn==0.24 in /usr/local/lib/python3.7/dist-packages (0.24.0)\n",
            "Requirement already satisfied: scipy>=0.19.1 in /usr/local/lib/python3.7/dist-packages (from scikit-learn==0.24) (1.4.1)\n",
            "Requirement already satisfied: numpy>=1.13.3 in /usr/local/lib/python3.7/dist-packages (from scikit-learn==0.24) (1.19.5)\n",
            "Requirement already satisfied: joblib>=0.11 in /usr/local/lib/python3.7/dist-packages (from scikit-learn==0.24) (1.0.1)\n",
            "Requirement already satisfied: threadpoolctl>=2.0.0 in /usr/local/lib/python3.7/dist-packages (from scikit-learn==0.24) (2.1.0)\n"
          ],
          "name": "stdout"
        }
      ]
    },
    {
      "cell_type": "markdown",
      "metadata": {
        "id": "3rKe3HqM523g"
      },
      "source": [
        "## Install CLIP dependencies"
      ]
    },
    {
      "cell_type": "code",
      "metadata": {
        "id": "poS-WNDixIhY"
      },
      "source": [
        "# import subprocess\n",
        "\n",
        "# CUDA_version = [s for s in subprocess.check_output([\"nvcc\", \"--version\"]).decode(\"UTF-8\").split(\", \") if s.startswith(\"release\")][0].split(\" \")[-1]\n",
        "# print(\"CUDA version:\", CUDA_version)\n",
        "\n",
        "# if CUDA_version == \"10.0\":\n",
        "#     torch_version_suffix = \"+cu100\"\n",
        "# elif CUDA_version == \"10.1\":\n",
        "#     torch_version_suffix = \"+cu101\"\n",
        "# elif CUDA_version == \"10.2\":\n",
        "#     torch_version_suffix = \"\"\n",
        "# else:\n",
        "#     torch_version_suffix = \"+cu110\""
      ],
      "execution_count": null,
      "outputs": []
    },
    {
      "cell_type": "code",
      "metadata": {
        "id": "uA-69W8M59nA"
      },
      "source": [
        "# ! pip install torch==1.7.1{torch_version_suffix} torchvision==0.8.2{torch_version_suffix} -f https://download.pytorch.org/whl/torch_stable.html ftfy regex"
      ],
      "execution_count": null,
      "outputs": []
    },
    {
      "cell_type": "code",
      "metadata": {
        "id": "sYwBZS1N6A3d"
      },
      "source": [
        "# ! pip install ftfy regex\n",
        "# ! wget https://openaipublic.azureedge.net/clip/bpe_simple_vocab_16e6.txt.gz -O bpe_simple_vocab_16e6.txt.gz"
      ],
      "execution_count": null,
      "outputs": []
    },
    {
      "cell_type": "code",
      "metadata": {
        "id": "9oIcNBYB8lz3"
      },
      "source": [
        "# !pip install git+https://github.com/Sri-vatsa/CLIP # using this fork because of visualization capabilities"
      ],
      "execution_count": null,
      "outputs": []
    },
    {
      "cell_type": "markdown",
      "metadata": {
        "id": "OLU-gp7n8__E"
      },
      "source": [
        "## Install clustering dependencies"
      ]
    },
    {
      "cell_type": "code",
      "metadata": {
        "id": "6TLg9ozo9Hvc"
      },
      "source": [
        "!pip -q install umap-learn>=0.3.7"
      ],
      "execution_count": null,
      "outputs": []
    },
    {
      "cell_type": "markdown",
      "metadata": {
        "id": "9z1WQnXdLHy2"
      },
      "source": [
        "## Install dataset manager dependencies"
      ]
    },
    {
      "cell_type": "code",
      "metadata": {
        "colab": {
          "base_uri": "https://localhost:8080/"
        },
        "id": "J1vvMx7_LLSp",
        "outputId": "649069cb-70e3-45f4-8e5c-8e4b77d6ae75"
      },
      "source": [
        "!pip install wget"
      ],
      "execution_count": null,
      "outputs": [
        {
          "output_type": "stream",
          "text": [
            "Collecting wget\n",
            "  Downloading https://files.pythonhosted.org/packages/47/6a/62e288da7bcda82b935ff0c6cfe542970f04e29c756b0e147251b2fb251f/wget-3.2.zip\n",
            "Building wheels for collected packages: wget\n",
            "  Building wheel for wget (setup.py) ... \u001b[?25l\u001b[?25hdone\n",
            "  Created wheel for wget: filename=wget-3.2-cp37-none-any.whl size=9681 sha256=b82e02abf79b34dcd61f014b36e9c2859d45262a74995db4d82a855fb53cfb38\n",
            "  Stored in directory: /root/.cache/pip/wheels/40/15/30/7d8f7cea2902b4db79e3fea550d7d7b85ecb27ef992b618f3f\n",
            "Successfully built wget\n",
            "Installing collected packages: wget\n",
            "Successfully installed wget-3.2\n"
          ],
          "name": "stdout"
        }
      ]
    },
    {
      "cell_type": "markdown",
      "metadata": {
        "id": "NzsubsEm72rr"
      },
      "source": [
        "# Imports"
      ]
    },
    {
      "cell_type": "code",
      "metadata": {
        "colab": {
          "base_uri": "https://localhost:8080/"
        },
        "id": "KZI62a6G74kw",
        "outputId": "4ed5f935-8504-495c-b624-055e8efc95f3"
      },
      "source": [
        "# ML Libraries\n",
        "import tensorflow as tf\n",
        "import tensorflow_hub as hub\n",
        "import torch\n",
        "import torch.nn as nn\n",
        "import torchvision.models as models\n",
        "import torchvision.transforms as transforms\n",
        "import keras\n",
        "\n",
        "# Data processing\n",
        "import PIL\n",
        "import base64\n",
        "import imageio\n",
        "import pandas as pd\n",
        "import numpy as np\n",
        "import json\n",
        "\n",
        "from PIL import Image\n",
        "import cv2\n",
        "from sklearn.feature_extraction.image import extract_patches_2d\n",
        "\n",
        "# Plotting\n",
        "import seaborn as sns\n",
        "import matplotlib.pyplot as plt\n",
        "import matplotlib.patches as patches\n",
        "\n",
        "from IPython.core.display import display, HTML\n",
        "from matplotlib import cm\n",
        "import matplotlib.image as mpimg\n",
        "\n",
        "# Models\n",
        "# import clip\n",
        "\n",
        "# Datasets\n",
        "import tensorflow_datasets as tfds\n",
        "\n",
        "# Clustering\n",
        "# import umap\n",
        "\n",
        "from sklearn import metrics\n",
        "from sklearn.cluster import KMeans\n",
        "#from yellowbrick.cluster import KElbowVisualizer\n",
        "\n",
        "# Misc\n",
        "import progressbar\n",
        "import logging\n",
        "from abc import ABC, abstractmethod\n",
        "import time\n",
        "import urllib.request\n",
        "import os\n",
        "from sklearn.metrics import jaccard_score, hamming_loss, accuracy_score, f1_score\n",
        "from sklearn.preprocessing import MultiLabelBinarizer\n",
        "\n",
        "\n",
        "# Modules\n",
        "# from CLIPPER.code.ExperimentModules import embedding_models\n",
        "from CLIPPER.code.ExperimentModules.dataset_manager import DatasetManager\n",
        "from CLIPPER.code.ExperimentModules.weight_imprinting_classifier import WeightImprintingClassifier\n",
        "from CLIPPER.code.ExperimentModules import simclr_data_augmentations\n",
        "from CLIPPER.code.ExperimentModules.utils import (save_npy, load_npy, \n",
        "                                                       get_folder_id, \n",
        "                                                       create_expt_dir, \n",
        "                                                       save_to_drive, \n",
        "                                                       load_all_from_drive_folder, \n",
        "                                                       download_file_by_name, \n",
        "                                                       delete_file_by_name)\n",
        "\n",
        "logging.getLogger('googleapicliet.discovery_cache').setLevel(logging.ERROR)"
      ],
      "execution_count": null,
      "outputs": [
        {
          "output_type": "stream",
          "text": [
            "/usr/local/lib/python3.7/dist-packages/sklearn/utils/deprecation.py:144: FutureWarning: The sklearn.metrics.classification module is  deprecated in version 0.22 and will be removed in version 0.24. The corresponding classes / functions should instead be imported from sklearn.metrics. Anything that cannot be imported from sklearn.metrics is now part of the private API.\n",
            "  warnings.warn(message, FutureWarning)\n"
          ],
          "name": "stderr"
        }
      ]
    },
    {
      "cell_type": "markdown",
      "metadata": {
        "id": "zU_gxQ0KbwMh"
      },
      "source": [
        "# Initialization & Constants"
      ]
    },
    {
      "cell_type": "markdown",
      "metadata": {
        "id": "ND-Q6dDoYmDu"
      },
      "source": [
        "## Dataset details"
      ]
    },
    {
      "cell_type": "code",
      "metadata": {
        "colab": {
          "base_uri": "https://localhost:8080/"
        },
        "id": "bih5tBPdbx3u",
        "outputId": "8fc68f84-f9ab-4548-a308-424ace2c76a6"
      },
      "source": [
        "folder_name = \"ImagenetR-Embeddings-28-02-21\"\n",
        "\n",
        "# Change parentid to match that of experiments root folder in gdrive\n",
        "parentid = '1bK72W-Um20EQDEyChNhNJthUNbmoSEjD'\n",
        "\n",
        "# Filepaths\n",
        "test_labels_filename = \"test_labels.npz\"\n",
        "\n",
        "test_embeddings_filename_suffix = \"_embeddings_test.npz\"\n",
        "\n",
        "# Initialize sepcific experiment folder in drive\n",
        "folderid = create_expt_dir(drive, parentid, folder_name)"
      ],
      "execution_count": null,
      "outputs": [
        {
          "output_type": "stream",
          "text": [
            "title: ImagenetR-Embeddings-28-02-21, id: 1rACsi_OuN_WITrsuZt7pGZYUrUA2u6xT\n",
            "Experiment folder already exists. WARNING: Following with this run might overwrite existing results stored.\n"
          ],
          "name": "stdout"
        }
      ]
    },
    {
      "cell_type": "markdown",
      "metadata": {
        "id": "GTHwQiOvljNU"
      },
      "source": [
        "## Few shot learning parameters"
      ]
    },
    {
      "cell_type": "code",
      "metadata": {
        "id": "HbRNiKZKlmQP"
      },
      "source": [
        "num_ways = 5 # [5, 20]\n",
        "num_shot = 5 # [5, 1]\n",
        "num_eval = 15 # [5, 10, 15, 19]\n",
        "num_episodes = 100\n",
        "shuffle = False"
      ],
      "execution_count": null,
      "outputs": []
    },
    {
      "cell_type": "markdown",
      "metadata": {
        "id": "UxTa8MVsvQCN"
      },
      "source": [
        "# Load data"
      ]
    },
    {
      "cell_type": "code",
      "metadata": {
        "colab": {
          "base_uri": "https://localhost:8080/"
        },
        "id": "n6S124Jfwuu5",
        "outputId": "d25df17f-bd06-4c94-d458-2937131fc8d5"
      },
      "source": [
        "def get_ndarray_from_drive(drive, folderid, filename):\n",
        "    download_file_by_name(drive, folderid, filename)\n",
        "    return np.load(filename)['data']\n",
        "\n",
        "test_labels = get_ndarray_from_drive(drive, folderid, test_labels_filename)"
      ],
      "execution_count": null,
      "outputs": [
        {
          "output_type": "stream",
          "text": [
            "Downloading test_labels.npz from GDrive\n",
            "Downloading test_labels.npz from GDrive\n",
            "Downloading test_labels.npz from GDrive\n"
          ],
          "name": "stdout"
        }
      ]
    },
    {
      "cell_type": "markdown",
      "metadata": {
        "id": "iLbRqaYxzbr7"
      },
      "source": [
        "# Create label dictionary"
      ]
    },
    {
      "cell_type": "code",
      "metadata": {
        "colab": {
          "base_uri": "https://localhost:8080/"
        },
        "id": "Emz85fNX0Vif",
        "outputId": "35015e71-dbf8-4d47-9e76-5ed5cd8a8ee3"
      },
      "source": [
        "unique_labels = np.unique(test_labels)\n",
        "print(len(unique_labels))"
      ],
      "execution_count": null,
      "outputs": [
        {
          "output_type": "stream",
          "text": [
            "200\n"
          ],
          "name": "stdout"
        }
      ]
    },
    {
      "cell_type": "code",
      "metadata": {
        "id": "0TubS-RLzeVM"
      },
      "source": [
        "label_dictionary = {la:[] for la in unique_labels}\n",
        "\n",
        "for i in range(len(test_labels)):\n",
        "    la = test_labels[i]\n",
        "\n",
        "    label_dictionary[la].append(i)"
      ],
      "execution_count": null,
      "outputs": []
    },
    {
      "cell_type": "markdown",
      "metadata": {
        "id": "xP6ftkDCvKul"
      },
      "source": [
        "# Weight Imprinting models on train data embeddings"
      ]
    },
    {
      "cell_type": "markdown",
      "metadata": {
        "id": "fJIGo_R86GQi"
      },
      "source": [
        "## Function definitions"
      ]
    },
    {
      "cell_type": "code",
      "metadata": {
        "id": "QZ-BvKBH6LuI"
      },
      "source": [
        "def calculate_single_label_accuracy(pred, y, label_mapping):\n",
        "    x = 0\n",
        "    for i, p in enumerate(pred):\n",
        "        pred_label = label_mapping[p]\n",
        "        if pred_label == y[i]:\n",
        "            x += 1\n",
        "    x = x/(i+1)\n",
        "\n",
        "    return x"
      ],
      "execution_count": null,
      "outputs": []
    },
    {
      "cell_type": "code",
      "metadata": {
        "id": "pv68q8TH6tvG"
      },
      "source": [
        "def start_progress_bar(bar_len):\n",
        "    widgets = [\n",
        "        ' [', \n",
        "        progressbar.Timer(format= 'elapsed time: %(elapsed)s'), \n",
        "        '] ', \n",
        "        progressbar.Bar('*'),' (', \n",
        "        progressbar.ETA(), ') ', \n",
        "        ]\n",
        "    pbar = progressbar.ProgressBar(\n",
        "        max_value=bar_len, widgets=widgets\n",
        "        ).start()\n",
        "    return pbar"
      ],
      "execution_count": null,
      "outputs": []
    },
    {
      "cell_type": "code",
      "metadata": {
        "id": "mUpPZ6ti6IEp"
      },
      "source": [
        "def run_evaluations(\n",
        "    embeddings, \n",
        "    train_indices, \n",
        "    eval_indices, \n",
        "    wi_y, \n",
        "    eval_y, \n",
        "    num_episodes, \n",
        "    num_ways,\n",
        "    verbose=True,\n",
        "    metrics=[\"accuracy\", \"c_f1\"]\n",
        "):\n",
        "    accuracies = []\n",
        "    f1_scores = []\n",
        "\n",
        "    if verbose:\n",
        "        pbar = start_progress_bar(num_episodes)\n",
        "\n",
        "    for i in range(num_episodes):\n",
        "        wi_x = embeddings[train_indices[i]]\n",
        "        wi_x = WeightImprintingClassifier.preprocess_input(wi_x)\n",
        "        eval_x = embeddings[eval_indices[i]]\n",
        "        eval_x = WeightImprintingClassifier.preprocess_input(eval_x)\n",
        "\n",
        "        wi_weights, label_mapping = WeightImprintingClassifier.get_imprinting_weights(\n",
        "            wi_x, wi_y[i], False\n",
        "            )\n",
        "\n",
        "        wi_parameters = {\n",
        "            \"num_classes\": num_ways,\n",
        "            \"input_dims\": wi_x.shape[-1],\n",
        "            \"scale\": False,\n",
        "            \"dense_layer_weights\": wi_weights\n",
        "        }\n",
        "\n",
        "        wi_cls = WeightImprintingClassifier(wi_parameters)\n",
        "\n",
        "        # Evaluate the weight imprinting model\n",
        "        metric_vals = wi_cls.evaluate_single_label_metrics(eval_x, eval_y[i], label_mapping, metrics=metrics)\n",
        "        if \"accuracy\" in metrics:\n",
        "            accuracies.append(metric_vals[\"accuracy\"])  \n",
        "        if \"c_f1\" in metrics:\n",
        "            f1_scores.append(metric_vals[\"c_f1\"])\n",
        "\n",
        "        del wi_x\n",
        "        del eval_x\n",
        "        del wi_cls\n",
        "\n",
        "        if verbose:\n",
        "            pbar.update(i+1)\n",
        "\n",
        "    metric_arrays = []\n",
        "    if \"accuracy\" in metrics:\n",
        "        metric_arrays.append(accuracies)\n",
        "    if \"c_f1\" in metrics:\n",
        "        metric_arrays.append(f1_scores)\n",
        "\n",
        "    return metric_arrays"
      ],
      "execution_count": null,
      "outputs": []
    },
    {
      "cell_type": "markdown",
      "metadata": {
        "id": "j2XrPKY9EJeG"
      },
      "source": [
        "## Picking indices"
      ]
    },
    {
      "cell_type": "code",
      "metadata": {
        "colab": {
          "base_uri": "https://localhost:8080/"
        },
        "id": "8_S_4DanEJeH",
        "outputId": "48d9547f-5f93-4458-a477-1b9ff3a4eb67"
      },
      "source": [
        "eval_indices = []\n",
        "train_indices = []\n",
        "wi_y = []\n",
        "eval_y = []\n",
        "\n",
        "label_dictionary = {la:label_dictionary[la] for la in label_dictionary if len(label_dictionary[la]) >= (num_shot+num_eval)}\n",
        "unique_labels = list(label_dictionary.keys())\n",
        "\n",
        "pbar = start_progress_bar(num_episodes)\n",
        "\n",
        "for s in range(num_episodes):\n",
        "    # Setting random seed for replicability\n",
        "    np.random.seed(s)\n",
        "\n",
        "    _train_indices = []\n",
        "    _eval_indices = []\n",
        "\n",
        "    selected_labels = np.random.choice(unique_labels, size=num_ways, replace=False)\n",
        "    for la in selected_labels:\n",
        "        la_indices = label_dictionary[la]\n",
        "        select = np.random.choice(la_indices, size = num_shot+num_eval, replace=False)\n",
        "        tr_idx = list(select[:num_shot])\n",
        "        ev_idx = list(select[num_shot:])\n",
        "\n",
        "        _train_indices = _train_indices + tr_idx\n",
        "        _eval_indices = _eval_indices + ev_idx\n",
        "\n",
        "    if shuffle:\n",
        "        np.random.shuffle(_train_indices)\n",
        "        np.random.shuffle(_eval_indices)\n",
        "\n",
        "    train_indices.append(_train_indices)\n",
        "    eval_indices.append(_eval_indices)\n",
        "\n",
        "    _wi_y = test_labels[_train_indices]\n",
        "    _eval_y = test_labels[_eval_indices]\n",
        "\n",
        "    wi_y.append(_wi_y)\n",
        "    eval_y.append(_eval_y)\n",
        "\n",
        "    pbar.update(s+1)"
      ],
      "execution_count": null,
      "outputs": [
        {
          "output_type": "stream",
          "text": [
            " [elapsed time: 0:00:00] |**************************        | (ETA:   0:00:00) "
          ],
          "name": "stderr"
        }
      ]
    },
    {
      "cell_type": "markdown",
      "metadata": {
        "id": "cOdSfodivGga"
      },
      "source": [
        "## Inception V3"
      ]
    },
    {
      "cell_type": "code",
      "metadata": {
        "colab": {
          "base_uri": "https://localhost:8080/"
        },
        "id": "WO5MzYeWzKBr",
        "outputId": "c2c9ab6e-425f-4162-c4b3-dce8f1eb5c96"
      },
      "source": [
        "# Load numpy data from drive\n",
        "inceptionv3_embeddings_test_fn = \"inceptionv3\" + test_embeddings_filename_suffix\n",
        "\n",
        "inceptionv3_embeddings_test = get_ndarray_from_drive(drive, folderid, inceptionv3_embeddings_test_fn)"
      ],
      "execution_count": null,
      "outputs": [
        {
          "output_type": "stream",
          "text": [
            "Downloading inceptionv3_embeddings_test.npz from GDrive\n"
          ],
          "name": "stdout"
        }
      ]
    },
    {
      "cell_type": "code",
      "metadata": {
        "colab": {
          "base_uri": "https://localhost:8080/"
        },
        "id": "gXNR8I1niEKe",
        "outputId": "81f69f00-2425-498b-ed4b-204d775da837"
      },
      "source": [
        "inceptionv3_accuracies, inceptionv3_f1_scores = run_evaluations(\n",
        "    inceptionv3_embeddings_test, \n",
        "    train_indices, \n",
        "    eval_indices, \n",
        "    wi_y, \n",
        "    eval_y, \n",
        "    num_episodes, \n",
        "    num_ways,\n",
        ")"
      ],
      "execution_count": null,
      "outputs": [
        {
          "output_type": "stream",
          "text": [
            "\r                                                                               \r\r [elapsed time: 0:00:00] |                                  | (ETA:  --:--:--) "
          ],
          "name": "stderr"
        },
        {
          "output_type": "stream",
          "text": [
            "WARNING:tensorflow:5 out of the last 13 calls to <function Model.make_predict_function.<locals>.predict_function at 0x7f9a18a7b830> triggered tf.function retracing. Tracing is expensive and the excessive number of tracings could be due to (1) creating @tf.function repeatedly in a loop, (2) passing tensors with different shapes, (3) passing Python objects instead of tensors. For (1), please define your @tf.function outside of the loop. For (2), @tf.function has experimental_relax_shapes=True option that relaxes argument shapes that can avoid unnecessary retracing. For (3), please refer to https://www.tensorflow.org/guide/function#controlling_retracing and https://www.tensorflow.org/api_docs/python/tf/function for  more details.\n"
          ],
          "name": "stdout"
        },
        {
          "output_type": "stream",
          "text": [
            " [elapsed time: 0:00:08] |********************************* | (ETA:   0:00:00) "
          ],
          "name": "stderr"
        }
      ]
    },
    {
      "cell_type": "code",
      "metadata": {
        "colab": {
          "base_uri": "https://localhost:8080/"
        },
        "id": "-MEo_xCIwo7U",
        "outputId": "a8064176-5df5-4bc7-e735-d39c7f0d4b16"
      },
      "source": [
        "inceptionv3_mean_accuracy = np.mean(inceptionv3_accuracies)\n",
        "print(\"Inceptionv3 Mean accuracy: \", inceptionv3_mean_accuracy)\n",
        "inceptionv3_mean_f1_score = np.mean(inceptionv3_f1_scores)\n",
        "print(\"Inceptionv3 Mean f1 score: \", inceptionv3_mean_f1_score)"
      ],
      "execution_count": null,
      "outputs": [
        {
          "output_type": "stream",
          "text": [
            "Inceptionv3 Mean accuracy:  0.17725\n",
            "Inceptionv3 Mean f1 score:  0.16886249089512234\n"
          ],
          "name": "stdout"
        }
      ]
    },
    {
      "cell_type": "markdown",
      "metadata": {
        "id": "8kKBQlF6C2pM"
      },
      "source": [
        "## Resnet 50"
      ]
    },
    {
      "cell_type": "code",
      "metadata": {
        "colab": {
          "base_uri": "https://localhost:8080/"
        },
        "id": "Exo-5cHDC2pO",
        "outputId": "70eb0058-ee51-4999-9e1e-4fbac17b3b65"
      },
      "source": [
        "resnet50_embeddings_test_fn = \"resnet50\" + test_embeddings_filename_suffix\n",
        "resnet50_embeddings_test = get_ndarray_from_drive(drive, folderid, resnet50_embeddings_test_fn)\n"
      ],
      "execution_count": null,
      "outputs": [
        {
          "output_type": "stream",
          "text": [
            "Downloading resnet50_embeddings_test.npz from GDrive\n"
          ],
          "name": "stdout"
        }
      ]
    },
    {
      "cell_type": "code",
      "metadata": {
        "colab": {
          "base_uri": "https://localhost:8080/"
        },
        "id": "Q5QfpjwFiN_y",
        "outputId": "1399687b-90d7-4184-a25f-e7236218ea54"
      },
      "source": [
        "resnet50_accuracies, resnet50_f1_scores = run_evaluations(\n",
        "    resnet50_embeddings_test, \n",
        "    train_indices, \n",
        "    eval_indices, \n",
        "    wi_y, \n",
        "    eval_y, \n",
        "    num_episodes, \n",
        "    num_ways,\n",
        ")"
      ],
      "execution_count": null,
      "outputs": [
        {
          "output_type": "stream",
          "text": [
            " [elapsed time: 0:00:08] |********************************* | (ETA:   0:00:00) "
          ],
          "name": "stderr"
        }
      ]
    },
    {
      "cell_type": "code",
      "metadata": {
        "colab": {
          "base_uri": "https://localhost:8080/"
        },
        "id": "UQcPvZEK3vS2",
        "outputId": "825e3ce4-b664-4878-bbf3-ad701907a510"
      },
      "source": [
        "resnet50_mean_accuracy = np.mean(resnet50_accuracies)\n",
        "print(\"Resnet 50 Mean accuracy: \", resnet50_mean_accuracy)\n",
        "resnet50_mean_f1_score = np.mean(resnet50_f1_scores)\n",
        "print(\"Resnet 50 Mean f1 score: \", resnet50_mean_f1_score)"
      ],
      "execution_count": null,
      "outputs": [
        {
          "output_type": "stream",
          "text": [
            "Resnet 50 Mean accuracy:  0.24460000000000004\n",
            "Resnet 50 Mean f1 score:  0.2342756323393944\n"
          ],
          "name": "stdout"
        }
      ]
    },
    {
      "cell_type": "markdown",
      "metadata": {
        "id": "3WfqxT8TC3sN"
      },
      "source": [
        "## MoCo Resnet"
      ]
    },
    {
      "cell_type": "code",
      "metadata": {
        "colab": {
          "base_uri": "https://localhost:8080/"
        },
        "id": "kf9XU2CUC3sN",
        "outputId": "a126befe-e9fb-4b57-db20-d9c4944a1919"
      },
      "source": [
        "moco_resnet50_embeddings_test_fn = \"moco_resnet50\" + test_embeddings_filename_suffix\n",
        "\n",
        "moco_resnet50_embeddings_test = get_ndarray_from_drive(drive, folderid, moco_resnet50_embeddings_test_fn)"
      ],
      "execution_count": null,
      "outputs": [
        {
          "output_type": "stream",
          "text": [
            "Downloading moco_resnet50_embeddings_test.npz from GDrive\n"
          ],
          "name": "stdout"
        }
      ]
    },
    {
      "cell_type": "code",
      "metadata": {
        "colab": {
          "base_uri": "https://localhost:8080/"
        },
        "id": "Z1XemV6niUSJ",
        "outputId": "d088cf85-d9d4-4aa8-8c48-9ebb3eea2db6"
      },
      "source": [
        "moco_resnet50_accuracies, moco_resnet50_f1_scores = run_evaluations(\n",
        "    moco_resnet50_embeddings_test, \n",
        "    train_indices, \n",
        "    eval_indices, \n",
        "    wi_y, \n",
        "    eval_y, \n",
        "    num_episodes, \n",
        "    num_ways,\n",
        ")"
      ],
      "execution_count": null,
      "outputs": [
        {
          "output_type": "stream",
          "text": [
            " [elapsed time: 0:00:09] |********************************* | (ETA:   0:00:00) "
          ],
          "name": "stderr"
        }
      ]
    },
    {
      "cell_type": "code",
      "metadata": {
        "colab": {
          "base_uri": "https://localhost:8080/"
        },
        "id": "Ep29BAUw4Ry4",
        "outputId": "528a99d8-7ee2-4ebc-f7fc-5c0b809f71e3"
      },
      "source": [
        "moco_resnet50_mean_accuracy = np.mean(moco_resnet50_accuracies)\n",
        "print(\"Moco Resnet Mean accuracy: \", moco_resnet50_mean_accuracy)\n",
        "moco_resnet50_mean_f1_score = np.mean(moco_resnet50_f1_scores)\n",
        "print(\"Moco Resnet Mean f1 score: \", moco_resnet50_mean_f1_score)"
      ],
      "execution_count": null,
      "outputs": [
        {
          "output_type": "stream",
          "text": [
            "Moco Resnet Mean accuracy:  0.19730000000000003\n",
            "Moco Resnet Mean f1 score:  0.1931982487698186\n"
          ],
          "name": "stdout"
        }
      ]
    },
    {
      "cell_type": "markdown",
      "metadata": {
        "id": "GpDsLlZgC4ZS"
      },
      "source": [
        "## PCL Resnet"
      ]
    },
    {
      "cell_type": "code",
      "metadata": {
        "colab": {
          "base_uri": "https://localhost:8080/"
        },
        "id": "OV9b5GHVC4ZS",
        "outputId": "1a8bc92b-21d0-4b3c-8a20-c47a86432b82"
      },
      "source": [
        "pcl_resnet50_embeddings_test_fn = \"pcl_resnet50\" + test_embeddings_filename_suffix\n",
        "\n",
        "pcl_resnet50_embeddings_test = get_ndarray_from_drive(drive, folderid, pcl_resnet50_embeddings_test_fn)"
      ],
      "execution_count": null,
      "outputs": [
        {
          "output_type": "stream",
          "text": [
            "Downloading pcl_resnet50_embeddings_test.npz from GDrive\n"
          ],
          "name": "stdout"
        }
      ]
    },
    {
      "cell_type": "code",
      "metadata": {
        "colab": {
          "base_uri": "https://localhost:8080/"
        },
        "id": "QX5gWO_qihR2",
        "outputId": "27531fe6-bdc9-42ed-bcef-1a99f24c1d88"
      },
      "source": [
        "pcl_resnet50_accuracies, pcl_resnet50_f1_scores = run_evaluations(\n",
        "    pcl_resnet50_embeddings_test, \n",
        "    train_indices, \n",
        "    eval_indices, \n",
        "    wi_y, \n",
        "    eval_y, \n",
        "    num_episodes, \n",
        "    num_ways,\n",
        ")"
      ],
      "execution_count": null,
      "outputs": [
        {
          "output_type": "stream",
          "text": [
            " [elapsed time: 0:00:08] |********************************* | (ETA:   0:00:00) "
          ],
          "name": "stderr"
        }
      ]
    },
    {
      "cell_type": "code",
      "metadata": {
        "colab": {
          "base_uri": "https://localhost:8080/"
        },
        "id": "5Q_fXQ864lik",
        "outputId": "44255803-507e-4b23-984d-8c463c445cc9"
      },
      "source": [
        "pcl_resnet50_mean_accuracy = np.mean(pcl_resnet50_accuracies)\n",
        "print(\"PCL Resnet Mean accuracy: \", pcl_resnet50_mean_accuracy)\n",
        "pcl_resnet50_mean_f1_score = np.mean(pcl_resnet50_f1_scores)\n",
        "print(\"PCL Resnet Mean f1 score: \", pcl_resnet50_mean_f1_score)"
      ],
      "execution_count": null,
      "outputs": [
        {
          "output_type": "stream",
          "text": [
            "PCL Resnet Mean accuracy:  0.21015\n",
            "PCL Resnet Mean f1 score:  0.20530956189416\n"
          ],
          "name": "stdout"
        }
      ]
    },
    {
      "cell_type": "markdown",
      "metadata": {
        "id": "XRktKMM1FBQj"
      },
      "source": [
        "## SwAV Resnet"
      ]
    },
    {
      "cell_type": "code",
      "metadata": {
        "colab": {
          "base_uri": "https://localhost:8080/"
        },
        "id": "-PVlxnZ_FBQl",
        "outputId": "5a8c94af-3b20-4609-dc22-3ce29798e207"
      },
      "source": [
        "swav_resnet50_embeddings_test_fn = \"swav_resnet50\" + test_embeddings_filename_suffix\n",
        "\n",
        "swav_resnet50_embeddings_test = get_ndarray_from_drive(drive, folderid, swav_resnet50_embeddings_test_fn)"
      ],
      "execution_count": null,
      "outputs": [
        {
          "output_type": "stream",
          "text": [
            "Downloading swav_resnet50_embeddings_test.npz from GDrive\n"
          ],
          "name": "stdout"
        }
      ]
    },
    {
      "cell_type": "code",
      "metadata": {
        "colab": {
          "base_uri": "https://localhost:8080/"
        },
        "id": "O454dHfaimMj",
        "outputId": "3909d8fa-008d-4f9d-82b6-f0f22e64697b"
      },
      "source": [
        "swav_resnet50_accuracies, swav_resnet50_f1_scores = run_evaluations(\n",
        "    swav_resnet50_embeddings_test, \n",
        "    train_indices, \n",
        "    eval_indices, \n",
        "    wi_y, \n",
        "    eval_y, \n",
        "    num_episodes, \n",
        "    num_ways,\n",
        ")"
      ],
      "execution_count": null,
      "outputs": [
        {
          "output_type": "stream",
          "text": [
            " [elapsed time: 0:00:08] |********************************* | (ETA:   0:00:00) "
          ],
          "name": "stderr"
        }
      ]
    },
    {
      "cell_type": "code",
      "metadata": {
        "id": "TXPWqOW55LRX",
        "colab": {
          "base_uri": "https://localhost:8080/"
        },
        "outputId": "a04d9cf4-b131-422e-94db-90d6bcf11e95"
      },
      "source": [
        "swav_resnet50_mean_accuracy = np.mean(swav_resnet50_accuracies)\n",
        "print(\"Swav Resnet Mean accuracy: \", swav_resnet50_mean_accuracy)\n",
        "swav_resnet50_mean_f1_score = np.mean(swav_resnet50_f1_scores)\n",
        "print(\"Swav Resnet Mean f1 score: \", swav_resnet50_mean_f1_score)"
      ],
      "execution_count": null,
      "outputs": [
        {
          "output_type": "stream",
          "text": [
            "Swav Resnet Mean accuracy:  0.14989999999999998\n",
            "Swav Resnet Mean f1 score:  0.1386389817393805\n"
          ],
          "name": "stdout"
        }
      ]
    },
    {
      "cell_type": "markdown",
      "metadata": {
        "id": "eUuQyU_pFBy5"
      },
      "source": [
        "## SimCLR"
      ]
    },
    {
      "cell_type": "code",
      "metadata": {
        "id": "xEBOCPwlFBy6",
        "colab": {
          "base_uri": "https://localhost:8080/"
        },
        "outputId": "b28989a2-324e-4f8d-9735-eace307542ab"
      },
      "source": [
        "simclr_embeddings_test_fn = \"simclr\" + test_embeddings_filename_suffix\n",
        "\n",
        "simclr_embeddings_test = get_ndarray_from_drive(drive, folderid, simclr_embeddings_test_fn)"
      ],
      "execution_count": null,
      "outputs": [
        {
          "output_type": "stream",
          "text": [
            "Downloading simclr_embeddings_test.npz from GDrive\n"
          ],
          "name": "stdout"
        }
      ]
    },
    {
      "cell_type": "code",
      "metadata": {
        "colab": {
          "base_uri": "https://localhost:8080/"
        },
        "id": "gWpJTPWUiqM_",
        "outputId": "36ea783b-f753-414c-870a-e1e0dc5c989e"
      },
      "source": [
        "simclr_accuracies, simclr_f1_scores = run_evaluations(\n",
        "    simclr_embeddings_test, \n",
        "    train_indices, \n",
        "    eval_indices, \n",
        "    wi_y, \n",
        "    eval_y, \n",
        "    num_episodes, \n",
        "    num_ways,\n",
        ")"
      ],
      "execution_count": null,
      "outputs": [
        {
          "output_type": "stream",
          "text": [
            " [elapsed time: 0:00:08] |********************************* | (ETA:   0:00:00) "
          ],
          "name": "stderr"
        }
      ]
    },
    {
      "cell_type": "code",
      "metadata": {
        "id": "rsGJt2GS5wu7",
        "colab": {
          "base_uri": "https://localhost:8080/"
        },
        "outputId": "5fd51bcc-8678-4467-d247-3b298d224317"
      },
      "source": [
        "simclr_mean_accuracy = np.mean(simclr_accuracies)\n",
        "print(\"Simclr Mean accuracy: \", simclr_mean_accuracy)\n",
        "simclr_mean_f1_score = np.mean(simclr_f1_scores)\n",
        "print(\"Simclr Mean f1 score: \", simclr_mean_f1_score)"
      ],
      "execution_count": null,
      "outputs": [
        {
          "output_type": "stream",
          "text": [
            "Simclr Mean accuracy:  0.2138\n",
            "Simclr Mean f1 score:  0.20967300000205447\n"
          ],
          "name": "stdout"
        }
      ]
    },
    {
      "cell_type": "markdown",
      "metadata": {
        "id": "J9TjD20ZF--3"
      },
      "source": [
        "## VGG16"
      ]
    },
    {
      "cell_type": "code",
      "metadata": {
        "id": "D_nT_W7eF--5",
        "colab": {
          "base_uri": "https://localhost:8080/"
        },
        "outputId": "4a8acae5-6f34-4b0c-e64a-ad345843010a"
      },
      "source": [
        "vgg16_embeddings_test_fn = \"vgg16\" + test_embeddings_filename_suffix\n",
        "\n",
        "vgg16_embeddings_test = get_ndarray_from_drive(drive, folderid, vgg16_embeddings_test_fn)"
      ],
      "execution_count": null,
      "outputs": [
        {
          "output_type": "stream",
          "text": [
            "Downloading vgg16_embeddings_test.npz from GDrive\n"
          ],
          "name": "stdout"
        }
      ]
    },
    {
      "cell_type": "code",
      "metadata": {
        "id": "G60zOPmoitok",
        "colab": {
          "base_uri": "https://localhost:8080/"
        },
        "outputId": "2d1033f1-f2a9-4a63-cbfd-adb62bb42bee"
      },
      "source": [
        "vgg16_accuracies, vgg16_f1_scores = run_evaluations(\n",
        "    vgg16_embeddings_test, \n",
        "    train_indices, \n",
        "    eval_indices, \n",
        "    wi_y, \n",
        "    eval_y, \n",
        "    num_episodes, \n",
        "    num_ways,\n",
        ")"
      ],
      "execution_count": null,
      "outputs": [
        {
          "output_type": "stream",
          "text": [
            " [elapsed time: 0:00:08] |********************************* | (ETA:   0:00:00) "
          ],
          "name": "stderr"
        }
      ]
    },
    {
      "cell_type": "code",
      "metadata": {
        "id": "VB1ONpxC7UJF",
        "colab": {
          "base_uri": "https://localhost:8080/"
        },
        "outputId": "a7e3129c-6234-4d04-e0e3-9b10738b0ce0"
      },
      "source": [
        "vgg16_mean_accuracy = np.mean(vgg16_accuracies)\n",
        "print(\"VGG16 Mean accuracy: \", vgg16_mean_accuracy)\n",
        "vgg16_mean_f1_score = np.mean(vgg16_f1_scores)\n",
        "print(\"VGG16 Mean f1 score: \", vgg16_mean_f1_score)"
      ],
      "execution_count": null,
      "outputs": [
        {
          "output_type": "stream",
          "text": [
            "VGG16 Mean accuracy:  0.21305000000000004\n",
            "VGG16 Mean f1 score:  0.21215224645054934\n"
          ],
          "name": "stdout"
        }
      ]
    },
    {
      "cell_type": "markdown",
      "metadata": {
        "id": "M9dYlVFDF_vs"
      },
      "source": [
        "## CLIP"
      ]
    },
    {
      "cell_type": "code",
      "metadata": {
        "id": "2y6RpvnEF_vs",
        "colab": {
          "base_uri": "https://localhost:8080/"
        },
        "outputId": "ed69ef35-6110-44d5-f917-8781599b5d01"
      },
      "source": [
        "clip_embeddings_test_fn = \"clip\" + test_embeddings_filename_suffix\n",
        "\n",
        "clip_embeddings_test = get_ndarray_from_drive(drive, folderid, clip_embeddings_test_fn)"
      ],
      "execution_count": null,
      "outputs": [
        {
          "output_type": "stream",
          "text": [
            "Downloading clip_embeddings_test.npz from GDrive\n"
          ],
          "name": "stdout"
        }
      ]
    },
    {
      "cell_type": "code",
      "metadata": {
        "id": "ue5Y4pn8iykq",
        "colab": {
          "base_uri": "https://localhost:8080/"
        },
        "outputId": "18e455b4-4ed5-43d2-ec61-7493f5846aad"
      },
      "source": [
        "clip_accuracies, clip_f1_scores = run_evaluations(\n",
        "    clip_embeddings_test, \n",
        "    train_indices, \n",
        "    eval_indices, \n",
        "    wi_y, \n",
        "    eval_y, \n",
        "    num_episodes, \n",
        "    num_ways,\n",
        ")"
      ],
      "execution_count": null,
      "outputs": [
        {
          "output_type": "stream",
          "text": [
            " [elapsed time: 0:00:08] |********************************* | (ETA:   0:00:00) "
          ],
          "name": "stderr"
        }
      ]
    },
    {
      "cell_type": "code",
      "metadata": {
        "id": "PDVdzHOH8Lf7",
        "colab": {
          "base_uri": "https://localhost:8080/"
        },
        "outputId": "885d4c07-69a2-4539-e3c9-a5625ba60b84"
      },
      "source": [
        "clip_mean_accuracy = np.mean(clip_accuracies)\n",
        "print(\"CLIP Mean accuracy: \", clip_mean_accuracy)\n",
        "clip_mean_f1_score = np.mean(clip_f1_scores)\n",
        "print(\"CLIP Mean f1 score: \", clip_mean_f1_score)"
      ],
      "execution_count": null,
      "outputs": [
        {
          "output_type": "stream",
          "text": [
            "CLIP Mean accuracy:  0.305\n",
            "CLIP Mean f1 score:  0.2841753094222577\n"
          ],
          "name": "stdout"
        }
      ]
    },
    {
      "cell_type": "markdown",
      "metadata": {
        "id": "Tn0jXMft8yHQ"
      },
      "source": [
        "# Conclusion"
      ]
    },
    {
      "cell_type": "code",
      "metadata": {
        "id": "Is2QJads_ON_"
      },
      "source": [
        "mean_accuracy_dict={\n",
        "    inceptionv3_mean_accuracy: \"Inception V3\",\n",
        "    resnet50_mean_accuracy: \"Resnet 50\",\n",
        "    moco_resnet50_mean_accuracy: \"MoCo Resnet 50\",\n",
        "    pcl_resnet50_mean_accuracy: \"PCL Resnet 50\",\n",
        "    swav_resnet50_mean_accuracy: \"SwAV Resnet 50\",\n",
        "    simclr_mean_accuracy: \"SimCLR\",\n",
        "    vgg16_mean_accuracy: \"VGG 16\", \n",
        "    clip_mean_accuracy: \"CLIP\"\n",
        "}\n",
        "\n",
        "acc_vals = sorted(list(mean_accuracy_dict.keys()), reverse=True)"
      ],
      "execution_count": null,
      "outputs": []
    },
    {
      "cell_type": "code",
      "metadata": {
        "id": "Hx8aZOllFjdM"
      },
      "source": [
        "mean_f1_score_dict={\n",
        "    inceptionv3_mean_f1_score: \"Inception V3\",\n",
        "    resnet50_mean_f1_score: \"Resnet 50\",\n",
        "    moco_resnet50_mean_f1_score: \"MoCo Resnet 50\",\n",
        "    pcl_resnet50_mean_f1_score: \"PCL Resnet 50\",\n",
        "    swav_resnet50_mean_f1_score: \"SwAV Resnet 50\",\n",
        "    simclr_mean_f1_score: \"SimCLR\",\n",
        "    vgg16_mean_f1_score: \"VGG 16\", \n",
        "    clip_mean_f1_score: \"CLIP\"\n",
        "}\n",
        "\n",
        "f1_vals = sorted(list(mean_f1_score_dict.keys()), reverse=True)"
      ],
      "execution_count": null,
      "outputs": []
    },
    {
      "cell_type": "code",
      "metadata": {
        "colab": {
          "base_uri": "https://localhost:8080/"
        },
        "id": "rVc0H-s_F0M1",
        "outputId": "8e3d4169-cb8f-4572-897f-89790040efab"
      },
      "source": [
        "print(\"All accuracies for {} way {} shot classification on ImagenetR with {} random episodes- \".format(\n",
        "    num_ways, num_shot, num_episodes\n",
        "    ))\n",
        "for val in acc_vals:\n",
        "    print(mean_accuracy_dict[val], \": \", val)"
      ],
      "execution_count": null,
      "outputs": [
        {
          "output_type": "stream",
          "text": [
            "All accuracies for 20 way 1 shot classification on ImagenetR with 100 random episodes- \n",
            "CLIP :  0.305\n",
            "Resnet 50 :  0.24460000000000004\n",
            "SimCLR :  0.2138\n",
            "VGG 16 :  0.21305000000000004\n",
            "PCL Resnet 50 :  0.21015\n",
            "MoCo Resnet 50 :  0.19730000000000003\n",
            "Inception V3 :  0.17725\n",
            "SwAV Resnet 50 :  0.14989999999999998\n"
          ],
          "name": "stdout"
        }
      ]
    },
    {
      "cell_type": "code",
      "metadata": {
        "id": "Kf7RFuo0K6-h",
        "colab": {
          "base_uri": "https://localhost:8080/"
        },
        "outputId": "e72b417a-4dc3-4bd4-f0be-2de862bce863"
      },
      "source": [
        "print(\"All f1 scores for {} way {} shot classification on Omniglot with {} random episodes- \".format(\n",
        "    num_ways, num_shot, num_episodes\n",
        "    ))\n",
        "for val in f1_vals:\n",
        "    print(mean_f1_score_dict[val], \": \", val)"
      ],
      "execution_count": null,
      "outputs": [
        {
          "output_type": "stream",
          "text": [
            "All f1 scores for 20 way 1 shot classification on Omniglot with 100 random episodes- \n",
            "CLIP :  0.2841753094222577\n",
            "Resnet 50 :  0.2342756323393944\n",
            "VGG 16 :  0.21215224645054934\n",
            "SimCLR :  0.20967300000205447\n",
            "PCL Resnet 50 :  0.20530956189416\n",
            "MoCo Resnet 50 :  0.1931982487698186\n",
            "Inception V3 :  0.16886249089512234\n",
            "SwAV Resnet 50 :  0.1386389817393805\n"
          ],
          "name": "stdout"
        }
      ]
    }
  ]
}