{
  "nbformat": 4,
  "nbformat_minor": 0,
  "metadata": {
    "colab": {
      "name": "SaveEmbeddings_LFW.ipynb",
      "provenance": [],
      "collapsed_sections": [
        "RGlVnbugxFK2",
        "3rKe3HqM523g",
        "OLU-gp7n8__E",
        "NzsubsEm72rr",
        "zU_gxQ0KbwMh",
        "2Sdn6HMixMH9",
        "KPj-b5kWxRVi",
        "HZuStZQ4Ryep",
        "J7ppzB0jR3-P",
        "Exp4Y7jLGyp7",
        "KC66qPddG2gG",
        "yCn3CW3w_G3W",
        "Dy41hBsj_Hbr",
        "MpvNJt3T_ymv",
        "hpwXmr3i_yXt",
        "CeOqwRRnAPQm"
      ],
      "toc_visible": true
    },
    "kernelspec": {
      "name": "python3",
      "display_name": "Python 3"
    },
    "accelerator": "GPU"
  },
  "cells": [
    {
      "cell_type": "markdown",
      "metadata": {
        "id": "WTY7kA7DOzpV"
      },
      "source": [
        "# Mount Drive"
      ]
    },
    {
      "cell_type": "code",
      "metadata": {
        "colab": {
          "base_uri": "https://localhost:8080/"
        },
        "id": "4-7JU3Q7q_XT",
        "outputId": "860ac614-a235-4462-99a1-6d4be967b5dc"
      },
      "source": [
        "from google.colab import drive\n",
        "drive.mount('/content/drive')"
      ],
      "execution_count": null,
      "outputs": [
        {
          "output_type": "stream",
          "text": [
            "Drive already mounted at /content/drive; to attempt to forcibly remount, call drive.mount(\"/content/drive\", force_remount=True).\n"
          ],
          "name": "stdout"
        }
      ]
    },
    {
      "cell_type": "code",
      "metadata": {
        "colab": {
          "base_uri": "https://localhost:8080/"
        },
        "id": "DqqXI7Izk65p",
        "outputId": "7239aa28-2345-44be-9c4d-27ba168b051d"
      },
      "source": [
        "!pip install -U -q PyDrive\n",
        "!pip install httplib2==0.15.0\n",
        "import os\n",
        "from pydrive.auth import GoogleAuth\n",
        "from pydrive.drive import GoogleDrive\n",
        "from pydrive.files import GoogleDriveFileList\n",
        "from google.colab import auth\n",
        "from oauth2client.client import GoogleCredentials\n",
        "\n",
        "from getpass import getpass\n",
        "import urllib\n",
        "\n",
        "# 1. Authenticate and create the PyDrive client.\n",
        "auth.authenticate_user()\n",
        "gauth = GoogleAuth()\n",
        "gauth.credentials = GoogleCredentials.get_application_default()\n",
        "drive = GoogleDrive(gauth)\n",
        "\n",
        "# Cloning PAL_2021 to access modules.\n",
        "# Need password to access private repo.\n",
        "\n",
        "if 'CLIPPER' not in os.listdir():\n",
        "    cmd_string = 'git clone https://github.com/PAL-ML/CLIPPER.git'\n",
        "    os.system(cmd_string)"
      ],
      "execution_count": null,
      "outputs": [
        {
          "output_type": "stream",
          "text": [
            "Requirement already satisfied: httplib2==0.15.0 in /usr/local/lib/python3.7/dist-packages (0.15.0)\n"
          ],
          "name": "stdout"
        }
      ]
    },
    {
      "cell_type": "markdown",
      "metadata": {
        "id": "RGlVnbugxFK2"
      },
      "source": [
        "# Installation"
      ]
    },
    {
      "cell_type": "markdown",
      "metadata": {
        "id": "gmgIrfT8hDNE"
      },
      "source": [
        "## Install multi label metrics dependencies"
      ]
    },
    {
      "cell_type": "code",
      "metadata": {
        "colab": {
          "base_uri": "https://localhost:8080/"
        },
        "id": "b6xXPAFbe6Gp",
        "outputId": "3f31e599-01df-46ed-d67b-743f544fef23"
      },
      "source": [
        "! pip install scikit-learn==0.24"
      ],
      "execution_count": null,
      "outputs": [
        {
          "output_type": "stream",
          "text": [
            "Requirement already satisfied: scikit-learn==0.24 in /usr/local/lib/python3.7/dist-packages (0.24.0)\n",
            "Requirement already satisfied: joblib>=0.11 in /usr/local/lib/python3.7/dist-packages (from scikit-learn==0.24) (1.0.1)\n",
            "Requirement already satisfied: numpy>=1.13.3 in /usr/local/lib/python3.7/dist-packages (from scikit-learn==0.24) (1.19.5)\n",
            "Requirement already satisfied: threadpoolctl>=2.0.0 in /usr/local/lib/python3.7/dist-packages (from scikit-learn==0.24) (2.1.0)\n",
            "Requirement already satisfied: scipy>=0.19.1 in /usr/local/lib/python3.7/dist-packages (from scikit-learn==0.24) (1.4.1)\n"
          ],
          "name": "stdout"
        }
      ]
    },
    {
      "cell_type": "markdown",
      "metadata": {
        "id": "3rKe3HqM523g"
      },
      "source": [
        "## Install CLIP dependencies"
      ]
    },
    {
      "cell_type": "code",
      "metadata": {
        "colab": {
          "base_uri": "https://localhost:8080/"
        },
        "id": "poS-WNDixIhY",
        "outputId": "5c7e90f0-11dc-4590-9c8e-10c2eff96b5d"
      },
      "source": [
        "import subprocess\n",
        "\n",
        "CUDA_version = [s for s in subprocess.check_output([\"nvcc\", \"--version\"]).decode(\"UTF-8\").split(\", \") if s.startswith(\"release\")][0].split(\" \")[-1]\n",
        "print(\"CUDA version:\", CUDA_version)\n",
        "\n",
        "if CUDA_version == \"10.0\":\n",
        "    torch_version_suffix = \"+cu100\"\n",
        "elif CUDA_version == \"10.1\":\n",
        "    torch_version_suffix = \"+cu101\"\n",
        "elif CUDA_version == \"10.2\":\n",
        "    torch_version_suffix = \"\"\n",
        "else:\n",
        "    torch_version_suffix = \"+cu110\""
      ],
      "execution_count": null,
      "outputs": [
        {
          "output_type": "stream",
          "text": [
            "CUDA version: 10.1\n"
          ],
          "name": "stdout"
        }
      ]
    },
    {
      "cell_type": "code",
      "metadata": {
        "colab": {
          "base_uri": "https://localhost:8080/"
        },
        "id": "uA-69W8M59nA",
        "outputId": "65092704-3ce4-4ae0-ea65-7bb2519848a6"
      },
      "source": [
        "! pip install torch==1.7.1{torch_version_suffix} torchvision==0.8.2{torch_version_suffix} -f https://download.pytorch.org/whl/torch_stable.html ftfy regex"
      ],
      "execution_count": null,
      "outputs": [
        {
          "output_type": "stream",
          "text": [
            "Looking in links: https://download.pytorch.org/whl/torch_stable.html\n",
            "Requirement already satisfied: torch==1.7.1+cu101 in /usr/local/lib/python3.7/dist-packages (1.7.1+cu101)\n",
            "Requirement already satisfied: torchvision==0.8.2+cu101 in /usr/local/lib/python3.7/dist-packages (0.8.2+cu101)\n",
            "Requirement already satisfied: ftfy in /usr/local/lib/python3.7/dist-packages (5.9)\n",
            "Requirement already satisfied: regex in /usr/local/lib/python3.7/dist-packages (2019.12.20)\n",
            "Requirement already satisfied: numpy in /usr/local/lib/python3.7/dist-packages (from torch==1.7.1+cu101) (1.19.5)\n",
            "Requirement already satisfied: typing-extensions in /usr/local/lib/python3.7/dist-packages (from torch==1.7.1+cu101) (3.7.4.3)\n",
            "Requirement already satisfied: pillow>=4.1.1 in /usr/local/lib/python3.7/dist-packages (from torchvision==0.8.2+cu101) (7.0.0)\n",
            "Requirement already satisfied: wcwidth in /usr/local/lib/python3.7/dist-packages (from ftfy) (0.2.5)\n"
          ],
          "name": "stdout"
        }
      ]
    },
    {
      "cell_type": "code",
      "metadata": {
        "colab": {
          "base_uri": "https://localhost:8080/"
        },
        "id": "sYwBZS1N6A3d",
        "outputId": "0583ff35-b4bc-49c9-ae7d-e0b63defe589"
      },
      "source": [
        "! pip install ftfy regex\n",
        "! wget https://openaipublic.azureedge.net/clip/bpe_simple_vocab_16e6.txt.gz -O bpe_simple_vocab_16e6.txt.gz"
      ],
      "execution_count": null,
      "outputs": [
        {
          "output_type": "stream",
          "text": [
            "Requirement already satisfied: ftfy in /usr/local/lib/python3.7/dist-packages (5.9)\n",
            "Requirement already satisfied: regex in /usr/local/lib/python3.7/dist-packages (2019.12.20)\n",
            "Requirement already satisfied: wcwidth in /usr/local/lib/python3.7/dist-packages (from ftfy) (0.2.5)\n",
            "--2021-02-28 12:46:02--  https://openaipublic.azureedge.net/clip/bpe_simple_vocab_16e6.txt.gz\n",
            "Resolving openaipublic.azureedge.net (openaipublic.azureedge.net)... 13.107.246.19, 13.107.213.19, 2620:1ec:bdf::19, ...\n",
            "Connecting to openaipublic.azureedge.net (openaipublic.azureedge.net)|13.107.246.19|:443... connected.\n",
            "HTTP request sent, awaiting response... 200 OK\n",
            "Length: 1356917 (1.3M) [application/octet-stream]\n",
            "Saving to: ‘bpe_simple_vocab_16e6.txt.gz’\n",
            "\n",
            "bpe_simple_vocab_16 100%[===================>]   1.29M  --.-KB/s    in 0.01s   \n",
            "\n",
            "2021-02-28 12:46:02 (102 MB/s) - ‘bpe_simple_vocab_16e6.txt.gz’ saved [1356917/1356917]\n",
            "\n"
          ],
          "name": "stdout"
        }
      ]
    },
    {
      "cell_type": "code",
      "metadata": {
        "colab": {
          "base_uri": "https://localhost:8080/"
        },
        "id": "9oIcNBYB8lz3",
        "outputId": "4136eafe-645e-4dbd-f890-3052a69ac721"
      },
      "source": [
        "!pip install git+https://github.com/Sri-vatsa/CLIP # using this fork because of visualization capabilities"
      ],
      "execution_count": null,
      "outputs": [
        {
          "output_type": "stream",
          "text": [
            "Collecting git+https://github.com/Sri-vatsa/CLIP\n",
            "  Cloning https://github.com/Sri-vatsa/CLIP to /tmp/pip-req-build-xrmy7u_d\n",
            "  Running command git clone -q https://github.com/Sri-vatsa/CLIP /tmp/pip-req-build-xrmy7u_d\n",
            "Requirement already satisfied (use --upgrade to upgrade): clip==1.0 from git+https://github.com/Sri-vatsa/CLIP in /usr/local/lib/python3.7/dist-packages\n",
            "Requirement already satisfied: ftfy in /usr/local/lib/python3.7/dist-packages (from clip==1.0) (5.9)\n",
            "Requirement already satisfied: regex in /usr/local/lib/python3.7/dist-packages (from clip==1.0) (2019.12.20)\n",
            "Requirement already satisfied: tqdm in /usr/local/lib/python3.7/dist-packages (from clip==1.0) (4.41.1)\n",
            "Requirement already satisfied: torch~=1.7.1 in /usr/local/lib/python3.7/dist-packages (from clip==1.0) (1.7.1+cu101)\n",
            "Requirement already satisfied: torchvision~=0.8.2 in /usr/local/lib/python3.7/dist-packages (from clip==1.0) (0.8.2+cu101)\n",
            "Requirement already satisfied: wcwidth in /usr/local/lib/python3.7/dist-packages (from ftfy->clip==1.0) (0.2.5)\n",
            "Requirement already satisfied: typing-extensions in /usr/local/lib/python3.7/dist-packages (from torch~=1.7.1->clip==1.0) (3.7.4.3)\n",
            "Requirement already satisfied: numpy in /usr/local/lib/python3.7/dist-packages (from torch~=1.7.1->clip==1.0) (1.19.5)\n",
            "Requirement already satisfied: pillow>=4.1.1 in /usr/local/lib/python3.7/dist-packages (from torchvision~=0.8.2->clip==1.0) (7.0.0)\n",
            "Building wheels for collected packages: clip\n",
            "  Building wheel for clip (setup.py) ... \u001b[?25l\u001b[?25hdone\n",
            "  Created wheel for clip: filename=clip-1.0-cp37-none-any.whl size=1368623 sha256=bc34e442edbb6c383e108a4b6a4f1f5cf2e5d8bad62c9ed3d00f91379b5aaed8\n",
            "  Stored in directory: /tmp/pip-ephem-wheel-cache-kw3q6fat/wheels/cc/55/69/0d411dabbd5009fd069d47b47cf7839c54e595dc61725b307b\n",
            "Successfully built clip\n"
          ],
          "name": "stdout"
        }
      ]
    },
    {
      "cell_type": "markdown",
      "metadata": {
        "id": "OLU-gp7n8__E"
      },
      "source": [
        "## Install clustering dependencies"
      ]
    },
    {
      "cell_type": "code",
      "metadata": {
        "id": "6TLg9ozo9Hvc"
      },
      "source": [
        "!pip -q install umap-learn>=0.3.7"
      ],
      "execution_count": null,
      "outputs": []
    },
    {
      "cell_type": "markdown",
      "metadata": {
        "id": "9z1WQnXdLHy2"
      },
      "source": [
        "## Install dataset manager dependencies"
      ]
    },
    {
      "cell_type": "code",
      "metadata": {
        "colab": {
          "base_uri": "https://localhost:8080/"
        },
        "id": "J1vvMx7_LLSp",
        "outputId": "1dc4a359-9fde-4d00-f398-debaf09936c5"
      },
      "source": [
        "!pip install wget"
      ],
      "execution_count": null,
      "outputs": [
        {
          "output_type": "stream",
          "text": [
            "Requirement already satisfied: wget in /usr/local/lib/python3.7/dist-packages (3.2)\n"
          ],
          "name": "stdout"
        }
      ]
    },
    {
      "cell_type": "markdown",
      "metadata": {
        "id": "NzsubsEm72rr"
      },
      "source": [
        "# Imports"
      ]
    },
    {
      "cell_type": "code",
      "metadata": {
        "id": "KZI62a6G74kw",
        "colab": {
          "base_uri": "https://localhost:8080/"
        },
        "outputId": "4eb28c4c-72ec-4af2-be8b-de44fbc6dcba"
      },
      "source": [
        "# ML Libraries\n",
        "import tensorflow as tf\n",
        "import tensorflow_hub as hub\n",
        "import torch\n",
        "import torch.nn as nn\n",
        "import torchvision.models as models\n",
        "import torchvision.transforms as transforms\n",
        "from tensorflow import keras\n",
        "\n",
        "\n",
        "# Data processing\n",
        "import PIL\n",
        "import base64\n",
        "import imageio\n",
        "import pandas as pd\n",
        "import numpy as np\n",
        "import json\n",
        "\n",
        "from PIL import Image\n",
        "import cv2\n",
        "from sklearn.feature_extraction.image import extract_patches_2d\n",
        "\n",
        "# Plotting\n",
        "import seaborn as sns\n",
        "import matplotlib.pyplot as plt\n",
        "import matplotlib.patches as patches\n",
        "\n",
        "from IPython.core.display import display, HTML\n",
        "from matplotlib import cm\n",
        "import matplotlib.image as mpimg\n",
        "\n",
        "# Models\n",
        "import clip\n",
        "\n",
        "# Datasets\n",
        "import tensorflow_datasets as tfds\n",
        "\n",
        "# Clustering\n",
        "# import umap\n",
        "\n",
        "from sklearn import metrics\n",
        "from sklearn.cluster import KMeans\n",
        "#from yellowbrick.cluster import KElbowVisualizer\n",
        "\n",
        "# Misc\n",
        "import progressbar\n",
        "import logging\n",
        "from abc import ABC, abstractmethod\n",
        "import time\n",
        "import urllib.request\n",
        "import os\n",
        "from sklearn.metrics import jaccard_score, hamming_loss, accuracy_score, f1_score\n",
        "from sklearn.preprocessing import MultiLabelBinarizer\n",
        "\n",
        "\n",
        "# Modules\n",
        "from CLIPPER.code.ExperimentModules import embedding_models\n",
        "from CLIPPER.code.ExperimentModules.dataset_manager import DatasetManager\n",
        "from CLIPPER.code.ExperimentModules.weight_imprinting_classifier import WeightImprintingClassifier\n",
        "from CLIPPER.code.ExperimentModules import simclr_data_augmentations\n",
        "from CLIPPER.code.ExperimentModules.utils import (save_npy, load_npy, \n",
        "                                                       get_folder_id, \n",
        "                                                       create_expt_dir, \n",
        "                                                       save_to_drive, \n",
        "                                                       load_all_from_drive_folder, \n",
        "                                                       download_file_by_name, \n",
        "                                                       delete_file_by_name)\n",
        "\n",
        "logging.getLogger('googleapicliet.discovery_cache').setLevel(logging.ERROR)"
      ],
      "execution_count": null,
      "outputs": [
        {
          "output_type": "stream",
          "text": [
            "/usr/local/lib/python3.7/dist-packages/sklearn/utils/deprecation.py:144: FutureWarning: The sklearn.metrics.classification module is  deprecated in version 0.22 and will be removed in version 0.24. The corresponding classes / functions should instead be imported from sklearn.metrics. Anything that cannot be imported from sklearn.metrics is now part of the private API.\n",
            "  warnings.warn(message, FutureWarning)\n"
          ],
          "name": "stderr"
        }
      ]
    },
    {
      "cell_type": "markdown",
      "metadata": {
        "id": "zU_gxQ0KbwMh"
      },
      "source": [
        "# Initialization & Constants"
      ]
    },
    {
      "cell_type": "markdown",
      "metadata": {
        "id": "ND-Q6dDoYmDu"
      },
      "source": [
        "## Dataset details"
      ]
    },
    {
      "cell_type": "code",
      "metadata": {
        "id": "bih5tBPdbx3u"
      },
      "source": [
        "\n",
        "experiment_id = \"LFW-Embeddings\"\n",
        "\n",
        "folder_name = experiment_id+\"-28-02-21\"\n",
        "\n",
        "# Change parentid to match that of experiments root folder in gdrive\n",
        "parentid = '1bK72W-Um20EQDEyChNhNJthUNbmoSEjD'"
      ],
      "execution_count": null,
      "outputs": []
    },
    {
      "cell_type": "code",
      "metadata": {
        "id": "ZBOFLDPL0RNK",
        "colab": {
          "base_uri": "https://localhost:8080/"
        },
        "outputId": "0b87309f-d7d2-426e-d0e6-8b6bab1cd850"
      },
      "source": [
        "# Initialize sepcific experiment folder in drive\n",
        "folderid = create_expt_dir(drive, parentid, folder_name)"
      ],
      "execution_count": null,
      "outputs": [
        {
          "output_type": "stream",
          "text": [
            "title: LFW-Embeddings-28-02-21, id: 18CcWLV0mDi9Iuk7rFquHa1jRQ5VI0BSx\n",
            "Experiment folder already exists. WARNING: Following with this run might overwrite existing results stored.\n"
          ],
          "name": "stdout"
        }
      ]
    },
    {
      "cell_type": "markdown",
      "metadata": {
        "id": "5JCHA5Q8eiOo"
      },
      "source": [
        "# Embedding function"
      ]
    },
    {
      "cell_type": "code",
      "metadata": {
        "id": "oYmYbX2D8Mux"
      },
      "source": [
        "def run_data_through_model(\n",
        "    data, \n",
        "    embedder, \n",
        "    filename, \n",
        "    drive,\n",
        "    folderid,\n",
        "    total_num_images,\n",
        "    max_num_samples=5000,\n",
        "):\n",
        "    embedder.load_model()\n",
        "\n",
        "    embeddings = None\n",
        "    num_images_done = 0\n",
        "\n",
        "    while embeddings is None or num_images_done < total_num_images:\n",
        "        download_file_by_name(drive, folderid, filename)\n",
        "\n",
        "        if filename in os.listdir():\n",
        "            embeddings = np.load(filename)['data']\n",
        "            num_images_done = embeddings.shape[0]\n",
        "            if num_images_done == total_num_images:\n",
        "                print(\"All images done already.\")\n",
        "                break\n",
        "            else:\n",
        "                print(\"{}/{} images done already\".format(\n",
        "                    num_images_done, total_num_images)\n",
        "                )\n",
        "\n",
        "        print(\"Running for image indices {}-{}.\".format(\n",
        "            num_images_done, num_images_done+max_num_samples\n",
        "            )\n",
        "        )\n",
        "        if (num_images_done+max_num_samples) <= total_num_images:\n",
        "            batch = data[num_images_done:num_images_done+max_num_samples]\n",
        "        else:\n",
        "            batch = data[num_images_done:]\n",
        "\n",
        "        processed_batch = embedder.preprocess_data(batch)\n",
        "        embeddings_batch = embedder.embed_images(\n",
        "            processed_batch, batch_size=50\n",
        "            )\n",
        "        \n",
        "        if embeddings is None:\n",
        "            embeddings = embeddings_batch\n",
        "        else:\n",
        "            embeddings = np.concatenate(\n",
        "                [embeddings, embeddings_batch]\n",
        "                )\n",
        "            \n",
        "        delete_file_by_name(drive, folderid, filename)\n",
        "        embedder.save_embeddings_to_drive(\n",
        "            embeddings, \n",
        "            filename,\n",
        "            drive,\n",
        "            folderid\n",
        "            )\n",
        "        num_images_done = embeddings.shape[0]\n",
        "        print(\"{}/{} images done\".format(num_images_done, total_num_images))\n"
      ],
      "execution_count": null,
      "outputs": []
    },
    {
      "cell_type": "markdown",
      "metadata": {
        "id": "W6dBZ8gEJmrr"
      },
      "source": [
        "# Train data split"
      ]
    },
    {
      "cell_type": "markdown",
      "metadata": {
        "id": "2Sdn6HMixMH9"
      },
      "source": [
        "## Load Data"
      ]
    },
    {
      "cell_type": "code",
      "metadata": {
        "id": "BcP9Ir-IxQoX"
      },
      "source": [
        "dm = DatasetManager()\n",
        "train_data_generator = dm.load_dataset('lfw', split='train')"
      ],
      "execution_count": null,
      "outputs": []
    },
    {
      "cell_type": "code",
      "metadata": {
        "id": "DhahWSBBXvqz",
        "colab": {
          "base_uri": "https://localhost:8080/"
        },
        "outputId": "d22d6f7b-6a4a-4058-e6f2-34e20c067116"
      },
      "source": [
        "_data = []\n",
        "_labels = []\n",
        "for i, example in enumerate(train_data_generator):\n",
        "    _data.append(example['image'])\n",
        "    _labels.append(example['label'])\n",
        "\n",
        "train_data = np.stack(_data)\n",
        "train_labels = np.array(_labels)\n",
        "\n",
        "del _data\n",
        "del _labels\n",
        "\n",
        "print('Images shape: ', train_data.shape)\n",
        "print('Labels length: ', len(train_labels))\n"
      ],
      "execution_count": null,
      "outputs": [
        {
          "output_type": "stream",
          "text": [
            "Images shape:  (13233, 250, 250, 3)\n",
            "Labels length:  13233\n"
          ],
          "name": "stdout"
        }
      ]
    },
    {
      "cell_type": "code",
      "metadata": {
        "id": "ms8wH-cGKD8M"
      },
      "source": [
        "# Save labels\n",
        "\n",
        "train_labels_filename = 'train_labels.npz'\n",
        "\n",
        "if train_labels_filename not in os.listdir():\n",
        "    save_npy(train_labels_filename, train_labels)\n",
        "    save_to_drive(drive, folderid, train_labels_filename)"
      ],
      "execution_count": null,
      "outputs": []
    },
    {
      "cell_type": "code",
      "metadata": {
        "colab": {
          "base_uri": "https://localhost:8080/"
        },
        "id": "1J3bnyfLIwR9",
        "outputId": "ffc5c21e-0072-4a8f-e207-aa4302c58553"
      },
      "source": [
        "total_train_images = len(train_data)\n",
        "total_train_images"
      ],
      "execution_count": null,
      "outputs": [
        {
          "output_type": "execute_result",
          "data": {
            "text/plain": [
              "13233"
            ]
          },
          "metadata": {
            "tags": []
          },
          "execution_count": 15
        }
      ]
    },
    {
      "cell_type": "markdown",
      "metadata": {
        "id": "Exp4Y7jLGyp7"
      },
      "source": [
        "## Inception V3"
      ]
    },
    {
      "cell_type": "code",
      "metadata": {
        "colab": {
          "base_uri": "https://localhost:8080/"
        },
        "id": "3NSK-prS5Q_2",
        "outputId": "88b129a0-d6b5-458e-c222-60288a59ab74"
      },
      "source": [
        "max_num_samples = 1000 # Colab crashes with too many images\n",
        "inceptionv3_train_filename = 'inceptionv3_embeddings_train.npz'\n",
        "\n",
        "inceptionv3_train_embedder = embedding_models.InceptionV3EmbeddingWrapper()\n",
        "\n",
        "run_data_through_model(\n",
        "    train_data, \n",
        "    inceptionv3_train_embedder, \n",
        "    inceptionv3_train_filename,\n",
        "    drive,\n",
        "    folderid,\n",
        "    total_train_images,\n",
        "    max_num_samples\n",
        "    )"
      ],
      "execution_count": null,
      "outputs": [
        {
          "output_type": "stream",
          "text": [
            "Downloading inceptionv3_embeddings_train.npz from GDrive\n",
            "All images done already.\n"
          ],
          "name": "stdout"
        }
      ]
    },
    {
      "cell_type": "markdown",
      "metadata": {
        "id": "KC66qPddG2gG"
      },
      "source": [
        "## Resnet 50"
      ]
    },
    {
      "cell_type": "code",
      "metadata": {
        "colab": {
          "base_uri": "https://localhost:8080/"
        },
        "id": "svIjGLD8BS_O",
        "outputId": "2cae9a0b-f2d9-41e1-b77d-9a520da92243"
      },
      "source": [
        "max_num_samples = 3000\n",
        "resnet50_train_filename = 'resnet50_embeddings_train.npz'\n",
        "\n",
        "resnet50_train_embedder = embedding_models.Resnet50EmbeddingWrapper()\n",
        "\n",
        "run_data_through_model(\n",
        "    train_data, \n",
        "    resnet50_train_embedder, \n",
        "    resnet50_train_filename,\n",
        "    drive,\n",
        "    folderid,\n",
        "    total_train_images,\n",
        "    max_num_samples\n",
        "    )"
      ],
      "execution_count": null,
      "outputs": [
        {
          "output_type": "stream",
          "text": [
            "Downloading resnet50_embeddings_train.npz from GDrive\n",
            "All images done already.\n"
          ],
          "name": "stdout"
        }
      ]
    },
    {
      "cell_type": "markdown",
      "metadata": {
        "id": "yCn3CW3w_G3W"
      },
      "source": [
        "## MoCo Resnet 50"
      ]
    },
    {
      "cell_type": "code",
      "metadata": {
        "colab": {
          "base_uri": "https://localhost:8080/"
        },
        "id": "TmQeAyek_G3X",
        "outputId": "8702805d-6287-4602-a422-b24e3141f2ca"
      },
      "source": [
        "max_num_samples = 2000\n",
        "moco_resnet50_train_filename = 'moco_resnet50_embeddings_train.npz'\n",
        "\n",
        "moco_resnet50_train_embedder = embedding_models.MoCoResnet50EmbeddingWrapper()\n",
        "\n",
        "run_data_through_model(\n",
        "    train_data, \n",
        "    moco_resnet50_train_embedder, \n",
        "    moco_resnet50_train_filename,\n",
        "    drive,\n",
        "    folderid,\n",
        "    total_train_images,\n",
        "    max_num_samples\n",
        "    )"
      ],
      "execution_count": null,
      "outputs": [
        {
          "output_type": "stream",
          "text": [
            "Downloading moco_resnet50_embeddings_train.npz from GDrive\n",
            "All images done already.\n"
          ],
          "name": "stdout"
        }
      ]
    },
    {
      "cell_type": "markdown",
      "metadata": {
        "id": "-k7FFrtU_GgO"
      },
      "source": [
        "## PCL Resnet 50"
      ]
    },
    {
      "cell_type": "code",
      "metadata": {
        "colab": {
          "base_uri": "https://localhost:8080/"
        },
        "id": "FppJPYz1_GgZ",
        "outputId": "a5afb82f-303a-4fe1-8cea-80783c72de20"
      },
      "source": [
        "max_num_samples = 2000\n",
        "pcl_resnet50_train_filename = 'pcl_resnet50_embeddings_train.npz'\n",
        "\n",
        "pcl_resnet50_train_embedder = embedding_models.PCLResnet50EmbeddingWrapper()\n",
        "\n",
        "run_data_through_model(\n",
        "    train_data, \n",
        "    pcl_resnet50_train_embedder, \n",
        "    pcl_resnet50_train_filename,\n",
        "    drive,\n",
        "    folderid,\n",
        "    total_train_images,\n",
        "    max_num_samples\n",
        "    )"
      ],
      "execution_count": null,
      "outputs": [
        {
          "output_type": "stream",
          "text": [
            "Downloading pcl_resnet50_embeddings_train.npz from GDrive\n",
            "All images done already.\n"
          ],
          "name": "stdout"
        }
      ]
    },
    {
      "cell_type": "markdown",
      "metadata": {
        "id": "Dy41hBsj_Hbr"
      },
      "source": [
        "## SwAV Resnet 50"
      ]
    },
    {
      "cell_type": "code",
      "metadata": {
        "id": "R8ncOHlr_Hb2",
        "colab": {
          "base_uri": "https://localhost:8080/"
        },
        "outputId": "d182e46d-37a3-4ea5-9177-d134172faf03"
      },
      "source": [
        "max_num_samples = 1500\n",
        "swav_resnet50_train_filename = 'swav_resnet50_embeddings_train.npz'\n",
        "\n",
        "swav_resnet50_train_embedder = embedding_models.SwAVResnet50EmbeddingWrapper()\n",
        "\n",
        "run_data_through_model(\n",
        "    train_data, \n",
        "    swav_resnet50_train_embedder, \n",
        "    swav_resnet50_train_filename,\n",
        "    drive,\n",
        "    folderid,\n",
        "    total_train_images,\n",
        "    max_num_samples\n",
        "    )"
      ],
      "execution_count": null,
      "outputs": [
        {
          "output_type": "stream",
          "text": [
            "Using cache found in /root/.cache/torch/hub/facebookresearch_swav_master\n"
          ],
          "name": "stderr"
        },
        {
          "output_type": "stream",
          "text": [
            "Downloading swav_resnet50_embeddings_train.npz from GDrive\n",
            "All images done already.\n"
          ],
          "name": "stdout"
        }
      ]
    },
    {
      "cell_type": "markdown",
      "metadata": {
        "id": "MpvNJt3T_ymv"
      },
      "source": [
        "## SimCLR"
      ]
    },
    {
      "cell_type": "code",
      "metadata": {
        "id": "EkMkP19T_ymx",
        "colab": {
          "base_uri": "https://localhost:8080/"
        },
        "outputId": "bd042677-7499-42c8-dc0a-678dd3af2dcf"
      },
      "source": [
        "max_num_samples = 2000\n",
        "simclr_train_filename = 'simclr_embeddings_train.npz'\n",
        "\n",
        "simclr_train_embedder = embedding_models.SimCLREmbeddingWrapper()\n",
        "\n",
        "run_data_through_model(\n",
        "    train_data, \n",
        "    simclr_train_embedder, \n",
        "    simclr_train_filename,\n",
        "    drive,\n",
        "    folderid,\n",
        "    total_train_images,\n",
        "    max_num_samples\n",
        "    )"
      ],
      "execution_count": null,
      "outputs": [
        {
          "output_type": "stream",
          "text": [
            "WARNING:absl:Importing a function (__inference_sync_batch_normalization_19_layer_call_and_return_conditional_losses_16240) with ops with custom gradients. Will likely fail if a gradient is requested.\n",
            "WARNING:absl:Importing a function (__inference_sync_batch_normalization_53_layer_call_and_return_conditional_losses_23562) with ops with custom gradients. Will likely fail if a gradient is requested.\n",
            "WARNING:absl:Importing a function (__inference_sync_batch_normalization_47_layer_call_and_return_conditional_losses_22288) with ops with custom gradients. Will likely fail if a gradient is requested.\n",
            "WARNING:absl:Importing a function (__inference_sync_batch_normalization_6_layer_call_and_return_conditional_losses_30442) with ops with custom gradients. Will likely fail if a gradient is requested.\n",
            "WARNING:absl:Importing a function (__inference_sync_batch_normalization_9_layer_call_and_return_conditional_losses_30802) with ops with custom gradients. Will likely fail if a gradient is requested.\n",
            "WARNING:absl:Importing a function (__inference___call___28151) with ops with custom gradients. Will likely fail if a gradient is requested.\n",
            "WARNING:absl:Importing a function (__inference___call___28151) with ops with custom gradients. Will likely fail if a gradient is requested.\n",
            "WARNING:absl:Importing a function (__inference___call___28151) with ops with custom gradients. Will likely fail if a gradient is requested.\n",
            "WARNING:absl:Importing a function (__inference___call___28151) with ops with custom gradients. Will likely fail if a gradient is requested.\n",
            "WARNING:absl:Importing a function (__inference___call___28151) with ops with custom gradients. Will likely fail if a gradient is requested.\n",
            "WARNING:absl:Importing a function (__inference___call___28151) with ops with custom gradients. Will likely fail if a gradient is requested.\n",
            "WARNING:absl:Importing a function (__inference___call___28151) with ops with custom gradients. Will likely fail if a gradient is requested.\n",
            "WARNING:absl:Importing a function (__inference___call___28151) with ops with custom gradients. Will likely fail if a gradient is requested.\n",
            "WARNING:absl:Importing a function (__inference___call___28151) with ops with custom gradients. Will likely fail if a gradient is requested.\n",
            "WARNING:absl:Importing a function (__inference___call___28151) with ops with custom gradients. Will likely fail if a gradient is requested.\n",
            "WARNING:absl:Importing a function (__inference___call___28151) with ops with custom gradients. Will likely fail if a gradient is requested.\n",
            "WARNING:absl:Importing a function (__inference___call___28151) with ops with custom gradients. Will likely fail if a gradient is requested.\n",
            "WARNING:absl:Importing a function (__inference___call___28151) with ops with custom gradients. Will likely fail if a gradient is requested.\n",
            "WARNING:absl:Importing a function (__inference___call___28151) with ops with custom gradients. Will likely fail if a gradient is requested.\n",
            "WARNING:absl:Importing a function (__inference___call___28151) with ops with custom gradients. Will likely fail if a gradient is requested.\n",
            "WARNING:absl:Importing a function (__inference___call___28151) with ops with custom gradients. Will likely fail if a gradient is requested.\n",
            "WARNING:absl:Importing a function (__inference___call___28151) with ops with custom gradients. Will likely fail if a gradient is requested.\n",
            "WARNING:absl:Importing a function (__inference___call___28151) with ops with custom gradients. Will likely fail if a gradient is requested.\n",
            "WARNING:absl:Importing a function (__inference___call___28151) with ops with custom gradients. Will likely fail if a gradient is requested.\n",
            "WARNING:absl:Importing a function (__inference___call___28151) with ops with custom gradients. Will likely fail if a gradient is requested.\n",
            "WARNING:absl:Importing a function (__inference___call___28151) with ops with custom gradients. Will likely fail if a gradient is requested.\n",
            "WARNING:absl:Importing a function (__inference___call___28151) with ops with custom gradients. Will likely fail if a gradient is requested.\n",
            "WARNING:absl:Importing a function (__inference___call___28151) with ops with custom gradients. Will likely fail if a gradient is requested.\n",
            "WARNING:absl:Importing a function (__inference___call___28151) with ops with custom gradients. Will likely fail if a gradient is requested.\n",
            "WARNING:absl:Importing a function (__inference___call___28151) with ops with custom gradients. Will likely fail if a gradient is requested.\n",
            "WARNING:absl:Importing a function (__inference___call___28151) with ops with custom gradients. Will likely fail if a gradient is requested.\n",
            "WARNING:absl:Importing a function (__inference___call___28151) with ops with custom gradients. Will likely fail if a gradient is requested.\n",
            "WARNING:absl:Importing a function (__inference___call___28151) with ops with custom gradients. Will likely fail if a gradient is requested.\n",
            "WARNING:absl:Importing a function (__inference___call___28151) with ops with custom gradients. Will likely fail if a gradient is requested.\n",
            "WARNING:absl:Importing a function (__inference___call___28151) with ops with custom gradients. Will likely fail if a gradient is requested.\n",
            "WARNING:absl:Importing a function (__inference___call___28151) with ops with custom gradients. Will likely fail if a gradient is requested.\n",
            "WARNING:absl:Importing a function (__inference___call___28151) with ops with custom gradients. Will likely fail if a gradient is requested.\n",
            "WARNING:absl:Importing a function (__inference___call___28151) with ops with custom gradients. Will likely fail if a gradient is requested.\n",
            "WARNING:absl:Importing a function (__inference___call___28151) with ops with custom gradients. Will likely fail if a gradient is requested.\n",
            "WARNING:absl:Importing a function (__inference___call___28151) with ops with custom gradients. Will likely fail if a gradient is requested.\n",
            "WARNING:absl:Importing a function (__inference___call___28151) with ops with custom gradients. Will likely fail if a gradient is requested.\n",
            "WARNING:absl:Importing a function (__inference___call___28151) with ops with custom gradients. Will likely fail if a gradient is requested.\n",
            "WARNING:absl:Importing a function (__inference___call___28151) with ops with custom gradients. Will likely fail if a gradient is requested.\n",
            "WARNING:absl:Importing a function (__inference___call___28151) with ops with custom gradients. Will likely fail if a gradient is requested.\n",
            "WARNING:absl:Importing a function (__inference___call___28151) with ops with custom gradients. Will likely fail if a gradient is requested.\n",
            "WARNING:absl:Importing a function (__inference___call___28151) with ops with custom gradients. Will likely fail if a gradient is requested.\n",
            "WARNING:absl:Importing a function (__inference___call___28151) with ops with custom gradients. Will likely fail if a gradient is requested.\n",
            "WARNING:absl:Importing a function (__inference___call___28151) with ops with custom gradients. Will likely fail if a gradient is requested.\n",
            "WARNING:absl:Importing a function (__inference___call___28151) with ops with custom gradients. Will likely fail if a gradient is requested.\n",
            "WARNING:absl:Importing a function (__inference___call___28151) with ops with custom gradients. Will likely fail if a gradient is requested.\n",
            "WARNING:absl:Importing a function (__inference___call___28151) with ops with custom gradients. Will likely fail if a gradient is requested.\n",
            "WARNING:absl:Importing a function (__inference___call___28151) with ops with custom gradients. Will likely fail if a gradient is requested.\n",
            "WARNING:absl:Importing a function (__inference___call___28151) with ops with custom gradients. Will likely fail if a gradient is requested.\n",
            "WARNING:absl:Importing a function (__inference___call___28151) with ops with custom gradients. Will likely fail if a gradient is requested.\n",
            "WARNING:absl:Importing a function (__inference___call___28151) with ops with custom gradients. Will likely fail if a gradient is requested.\n",
            "WARNING:absl:Importing a function (__inference___call___28151) with ops with custom gradients. Will likely fail if a gradient is requested.\n",
            "WARNING:absl:Importing a function (__inference___call___28151) with ops with custom gradients. Will likely fail if a gradient is requested.\n",
            "WARNING:absl:Importing a function (__inference___call___28151) with ops with custom gradients. Will likely fail if a gradient is requested.\n",
            "WARNING:absl:Importing a function (__inference___call___28151) with ops with custom gradients. Will likely fail if a gradient is requested.\n",
            "WARNING:absl:Importing a function (__inference___call___28151) with ops with custom gradients. Will likely fail if a gradient is requested.\n",
            "WARNING:absl:Importing a function (__inference___call___28151) with ops with custom gradients. Will likely fail if a gradient is requested.\n",
            "WARNING:absl:Importing a function (__inference_sync_batch_normalization_45_layer_call_and_return_conditional_losses_35122) with ops with custom gradients. Will likely fail if a gradient is requested.\n",
            "WARNING:absl:Importing a function (__inference_sync_batch_normalization_46_layer_call_and_return_conditional_losses_22072) with ops with custom gradients. Will likely fail if a gradient is requested.\n",
            "WARNING:absl:Importing a function (__inference_sync_batch_normalization_46_layer_call_and_return_conditional_losses_35242) with ops with custom gradients. Will likely fail if a gradient is requested.\n",
            "WARNING:absl:Importing a function (__inference_sync_batch_normalization_30_layer_call_and_return_conditional_losses_33322) with ops with custom gradients. Will likely fail if a gradient is requested.\n",
            "WARNING:absl:Importing a function (__inference_sync_batch_normalization_2_layer_call_and_return_conditional_losses_29962) with ops with custom gradients. Will likely fail if a gradient is requested.\n",
            "WARNING:absl:Importing a function (__inference_sync_batch_normalization_17_layer_call_and_return_conditional_losses_15808) with ops with custom gradients. Will likely fail if a gradient is requested.\n",
            "WARNING:absl:Importing a function (__inference_sync_batch_normalization_35_layer_call_and_return_conditional_losses_33922) with ops with custom gradients. Will likely fail if a gradient is requested.\n",
            "WARNING:absl:Importing a function (__inference_sync_batch_normalization_20_layer_call_and_return_conditional_losses_32122) with ops with custom gradients. Will likely fail if a gradient is requested.\n",
            "WARNING:absl:Importing a function (__inference_sync_batch_normalization_44_layer_call_and_return_conditional_losses_21640) with ops with custom gradients. Will likely fail if a gradient is requested.\n",
            "WARNING:absl:Importing a function (__inference_sync_batch_normalization_42_layer_call_and_return_conditional_losses_34762) with ops with custom gradients. Will likely fail if a gradient is requested.\n",
            "WARNING:absl:Importing a function (__inference_sync_batch_normalization_1_layer_call_and_return_conditional_losses_29842) with ops with custom gradients. Will likely fail if a gradient is requested.\n",
            "WARNING:absl:Importing a function (__inference_sync_batch_normalization_34_layer_call_and_return_conditional_losses_33802) with ops with custom gradients. Will likely fail if a gradient is requested.\n",
            "WARNING:absl:Importing a function (__inference_sync_batch_normalization_55_layer_call_and_return_conditional_losses_23944) with ops with custom gradients. Will likely fail if a gradient is requested.\n",
            "WARNING:absl:Importing a function (__inference_sync_batch_normalization_39_layer_call_and_return_conditional_losses_20560) with ops with custom gradients. Will likely fail if a gradient is requested.\n",
            "WARNING:absl:Importing a function (__inference_sync_batch_normalization_36_layer_call_and_return_conditional_losses_19912) with ops with custom gradients. Will likely fail if a gradient is requested.\n",
            "WARNING:absl:Importing a function (__inference_sync_batch_normalization_21_layer_call_and_return_conditional_losses_32242) with ops with custom gradients. Will likely fail if a gradient is requested.\n",
            "WARNING:absl:Importing a function (__inference_sync_batch_normalization_4_layer_call_and_return_conditional_losses_30202) with ops with custom gradients. Will likely fail if a gradient is requested.\n",
            "WARNING:absl:Importing a function (__inference_sync_batch_normalization_49_layer_call_and_return_conditional_losses_35602) with ops with custom gradients. Will likely fail if a gradient is requested.\n",
            "WARNING:absl:Importing a function (__inference_sync_batch_normalization_38_layer_call_and_return_conditional_losses_34282) with ops with custom gradients. Will likely fail if a gradient is requested.\n",
            "WARNING:absl:Importing a function (__inference_sync_batch_normalization_34_layer_call_and_return_conditional_losses_19480) with ops with custom gradients. Will likely fail if a gradient is requested.\n",
            "WARNING:absl:Importing a function (__inference_sync_batch_normalization_9_layer_call_and_return_conditional_losses_14080) with ops with custom gradients. Will likely fail if a gradient is requested.\n",
            "WARNING:absl:Importing a function (__inference_sync_batch_normalization_52_layer_call_and_return_conditional_losses_35962) with ops with custom gradients. Will likely fail if a gradient is requested.\n",
            "WARNING:absl:Importing a function (__inference_sync_batch_normalization_53_layer_call_and_return_conditional_losses_29512) with ops with custom gradients. Will likely fail if a gradient is requested.\n",
            "WARNING:absl:Importing a function (__inference_sync_batch_normalization_55_layer_call_and_return_conditional_losses_29728) with ops with custom gradients. Will likely fail if a gradient is requested.\n",
            "WARNING:absl:Importing a function (__inference_sync_batch_normalization_49_layer_call_and_return_conditional_losses_22720) with ops with custom gradients. Will likely fail if a gradient is requested.\n",
            "WARNING:absl:Importing a function (__inference_sync_batch_normalization_22_layer_call_and_return_conditional_losses_16888) with ops with custom gradients. Will likely fail if a gradient is requested.\n",
            "WARNING:absl:Importing a function (__inference_sync_batch_normalization_29_layer_call_and_return_conditional_losses_33202) with ops with custom gradients. Will likely fail if a gradient is requested.\n",
            "WARNING:absl:Importing a function (__inference_sync_batch_normalization_43_layer_call_and_return_conditional_losses_34882) with ops with custom gradients. Will likely fail if a gradient is requested.\n",
            "WARNING:absl:Importing a function (__inference_sync_batch_normalization_3_layer_call_and_return_conditional_losses_12784) with ops with custom gradients. Will likely fail if a gradient is requested.\n",
            "WARNING:absl:Importing a function (__inference_sync_batch_normalization_23_layer_call_and_return_conditional_losses_32482) with ops with custom gradients. Will likely fail if a gradient is requested.\n",
            "WARNING:absl:Importing a function (__inference_sync_batch_normalization_44_layer_call_and_return_conditional_losses_35002) with ops with custom gradients. Will likely fail if a gradient is requested.\n",
            "WARNING:absl:Importing a function (__inference_sync_batch_normalization_25_layer_call_and_return_conditional_losses_17536) with ops with custom gradients. Will likely fail if a gradient is requested.\n",
            "WARNING:absl:Importing a function (__inference_sync_batch_normalization_14_layer_call_and_return_conditional_losses_15160) with ops with custom gradients. Will likely fail if a gradient is requested.\n",
            "WARNING:absl:Importing a function (__inference_sync_batch_normalization_42_layer_call_and_return_conditional_losses_21208) with ops with custom gradients. Will likely fail if a gradient is requested.\n",
            "WARNING:absl:Importing a function (__inference_sync_batch_normalization_28_layer_call_and_return_conditional_losses_33082) with ops with custom gradients. Will likely fail if a gradient is requested.\n",
            "WARNING:absl:Importing a function (__inference_sync_batch_normalization_51_layer_call_and_return_conditional_losses_23152) with ops with custom gradients. Will likely fail if a gradient is requested.\n",
            "WARNING:absl:Importing a function (__inference_sync_batch_normalization_layer_call_and_return_conditional_losses_12124) with ops with custom gradients. Will likely fail if a gradient is requested.\n",
            "WARNING:absl:Importing a function (__inference_sync_batch_normalization_40_layer_call_and_return_conditional_losses_20776) with ops with custom gradients. Will likely fail if a gradient is requested.\n",
            "WARNING:absl:Importing a function (__inference_sync_batch_normalization_35_layer_call_and_return_conditional_losses_19696) with ops with custom gradients. Will likely fail if a gradient is requested.\n",
            "WARNING:absl:Importing a function (__inference_sync_batch_normalization_41_layer_call_and_return_conditional_losses_34642) with ops with custom gradients. Will likely fail if a gradient is requested.\n",
            "WARNING:absl:Importing a function (__inference_sync_batch_normalization_18_layer_call_and_return_conditional_losses_16024) with ops with custom gradients. Will likely fail if a gradient is requested.\n",
            "WARNING:absl:Importing a function (__inference_sync_batch_normalization_23_layer_call_and_return_conditional_losses_17104) with ops with custom gradients. Will likely fail if a gradient is requested.\n",
            "WARNING:absl:Importing a function (__inference_sync_batch_normalization_8_layer_call_and_return_conditional_losses_30682) with ops with custom gradients. Will likely fail if a gradient is requested.\n",
            "WARNING:absl:Importing a function (__inference_sync_batch_normalization_3_layer_call_and_return_conditional_losses_30082) with ops with custom gradients. Will likely fail if a gradient is requested.\n",
            "WARNING:absl:Importing a function (__inference_sync_batch_normalization_12_layer_call_and_return_conditional_losses_31162) with ops with custom gradients. Will likely fail if a gradient is requested.\n",
            "WARNING:absl:Importing a function (__inference_sync_batch_normalization_27_layer_call_and_return_conditional_losses_32962) with ops with custom gradients. Will likely fail if a gradient is requested.\n",
            "WARNING:absl:Importing a function (__inference_sync_batch_normalization_6_layer_call_and_return_conditional_losses_13432) with ops with custom gradients. Will likely fail if a gradient is requested.\n",
            "WARNING:absl:Importing a function (__inference_sync_batch_normalization_11_layer_call_and_return_conditional_losses_14512) with ops with custom gradients. Will likely fail if a gradient is requested.\n",
            "WARNING:absl:Importing a function (__inference_sync_batch_normalization_layer_call_and_return_conditional_losses_29403) with ops with custom gradients. Will likely fail if a gradient is requested.\n",
            "WARNING:absl:Importing a function (__inference_sync_batch_normalization_45_layer_call_and_return_conditional_losses_21856) with ops with custom gradients. Will likely fail if a gradient is requested.\n",
            "WARNING:absl:Importing a function (__inference_sync_batch_normalization_39_layer_call_and_return_conditional_losses_34402) with ops with custom gradients. Will likely fail if a gradient is requested.\n",
            "WARNING:absl:Importing a function (__inference_sync_batch_normalization_19_layer_call_and_return_conditional_losses_32002) with ops with custom gradients. Will likely fail if a gradient is requested.\n",
            "WARNING:absl:Importing a function (__inference_sync_batch_normalization_29_layer_call_and_return_conditional_losses_18400) with ops with custom gradients. Will likely fail if a gradient is requested.\n",
            "WARNING:absl:Importing a function (__inference_sync_batch_normalization_4_layer_call_and_return_conditional_losses_13000) with ops with custom gradients. Will likely fail if a gradient is requested.\n",
            "WARNING:absl:Importing a function (__inference_sync_batch_normalization_1_layer_call_and_return_conditional_losses_12352) with ops with custom gradients. Will likely fail if a gradient is requested.\n",
            "WARNING:absl:Importing a function (__inference_sync_batch_normalization_54_layer_call_and_return_conditional_losses_23756) with ops with custom gradients. Will likely fail if a gradient is requested.\n",
            "WARNING:absl:Importing a function (__inference_sync_batch_normalization_41_layer_call_and_return_conditional_losses_20992) with ops with custom gradients. Will likely fail if a gradient is requested.\n",
            "WARNING:absl:Importing a function (__inference_sync_batch_normalization_20_layer_call_and_return_conditional_losses_16456) with ops with custom gradients. Will likely fail if a gradient is requested.\n",
            "WARNING:absl:Importing a function (__inference_sync_batch_normalization_40_layer_call_and_return_conditional_losses_34522) with ops with custom gradients. Will likely fail if a gradient is requested.\n",
            "WARNING:absl:Importing a function (__inference_sync_batch_normalization_32_layer_call_and_return_conditional_losses_33562) with ops with custom gradients. Will likely fail if a gradient is requested.\n",
            "WARNING:absl:Importing a function (__inference_sync_batch_normalization_13_layer_call_and_return_conditional_losses_14944) with ops with custom gradients. Will likely fail if a gradient is requested.\n",
            "WARNING:absl:Importing a function (__inference_sync_batch_normalization_33_layer_call_and_return_conditional_losses_33682) with ops with custom gradients. Will likely fail if a gradient is requested.\n",
            "WARNING:absl:Importing a function (__inference_sync_batch_normalization_30_layer_call_and_return_conditional_losses_18616) with ops with custom gradients. Will likely fail if a gradient is requested.\n",
            "WARNING:absl:Importing a function (__inference_sync_batch_normalization_17_layer_call_and_return_conditional_losses_31762) with ops with custom gradients. Will likely fail if a gradient is requested.\n",
            "WARNING:absl:Importing a function (__inference_sync_batch_normalization_7_layer_call_and_return_conditional_losses_30562) with ops with custom gradients. Will likely fail if a gradient is requested.\n",
            "WARNING:absl:Importing a function (__inference_sync_batch_normalization_48_layer_call_and_return_conditional_losses_35482) with ops with custom gradients. Will likely fail if a gradient is requested.\n",
            "WARNING:absl:Importing a function (__inference_sync_batch_normalization_12_layer_call_and_return_conditional_losses_14728) with ops with custom gradients. Will likely fail if a gradient is requested.\n",
            "WARNING:absl:Importing a function (__inference_sync_batch_normalization_5_layer_call_and_return_conditional_losses_30322) with ops with custom gradients. Will likely fail if a gradient is requested.\n",
            "WARNING:absl:Importing a function (__inference_sync_batch_normalization_13_layer_call_and_return_conditional_losses_31282) with ops with custom gradients. Will likely fail if a gradient is requested.\n",
            "WARNING:absl:Importing a function (__inference_sync_batch_normalization_15_layer_call_and_return_conditional_losses_15376) with ops with custom gradients. Will likely fail if a gradient is requested.\n",
            "WARNING:absl:Importing a function (__inference_sync_batch_normalization_18_layer_call_and_return_conditional_losses_31882) with ops with custom gradients. Will likely fail if a gradient is requested.\n",
            "WARNING:absl:Importing a function (__inference_sync_batch_normalization_21_layer_call_and_return_conditional_losses_16672) with ops with custom gradients. Will likely fail if a gradient is requested.\n",
            "WARNING:absl:Importing a function (__inference_sync_batch_normalization_54_layer_call_and_return_conditional_losses_29621) with ops with custom gradients. Will likely fail if a gradient is requested.\n",
            "WARNING:absl:Importing a function (__inference_sync_batch_normalization_48_layer_call_and_return_conditional_losses_22504) with ops with custom gradients. Will likely fail if a gradient is requested.\n",
            "WARNING:absl:Importing a function (__inference_sync_batch_normalization_31_layer_call_and_return_conditional_losses_18832) with ops with custom gradients. Will likely fail if a gradient is requested.\n",
            "WARNING:absl:Importing a function (__inference_sync_batch_normalization_31_layer_call_and_return_conditional_losses_33442) with ops with custom gradients. Will likely fail if a gradient is requested.\n",
            "WARNING:absl:Importing a function (__inference_sync_batch_normalization_16_layer_call_and_return_conditional_losses_31642) with ops with custom gradients. Will likely fail if a gradient is requested.\n",
            "WARNING:absl:Importing a function (__inference_sync_batch_normalization_10_layer_call_and_return_conditional_losses_14296) with ops with custom gradients. Will likely fail if a gradient is requested.\n",
            "WARNING:absl:Importing a function (__inference_sync_batch_normalization_24_layer_call_and_return_conditional_losses_32602) with ops with custom gradients. Will likely fail if a gradient is requested.\n",
            "WARNING:absl:Importing a function (__inference_sync_batch_normalization_5_layer_call_and_return_conditional_losses_13216) with ops with custom gradients. Will likely fail if a gradient is requested.\n",
            "WARNING:absl:Importing a function (__inference_sync_batch_normalization_16_layer_call_and_return_conditional_losses_15592) with ops with custom gradients. Will likely fail if a gradient is requested.\n",
            "WARNING:absl:Importing a function (__inference_sync_batch_normalization_26_layer_call_and_return_conditional_losses_32842) with ops with custom gradients. Will likely fail if a gradient is requested.\n",
            "WARNING:absl:Importing a function (__inference_sync_batch_normalization_28_layer_call_and_return_conditional_losses_18184) with ops with custom gradients. Will likely fail if a gradient is requested.\n",
            "WARNING:absl:Importing a function (__inference_sync_batch_normalization_22_layer_call_and_return_conditional_losses_32362) with ops with custom gradients. Will likely fail if a gradient is requested.\n",
            "WARNING:absl:Importing a function (__inference_sync_batch_normalization_47_layer_call_and_return_conditional_losses_35362) with ops with custom gradients. Will likely fail if a gradient is requested.\n",
            "WARNING:absl:Importing a function (__inference_sync_batch_normalization_38_layer_call_and_return_conditional_losses_20344) with ops with custom gradients. Will likely fail if a gradient is requested.\n",
            "WARNING:absl:Importing a function (__inference_sync_batch_normalization_25_layer_call_and_return_conditional_losses_32722) with ops with custom gradients. Will likely fail if a gradient is requested.\n",
            "WARNING:absl:Importing a function (__inference_sync_batch_normalization_51_layer_call_and_return_conditional_losses_35842) with ops with custom gradients. Will likely fail if a gradient is requested.\n",
            "WARNING:absl:Importing a function (__inference_sync_batch_normalization_50_layer_call_and_return_conditional_losses_35722) with ops with custom gradients. Will likely fail if a gradient is requested.\n",
            "WARNING:absl:Importing a function (__inference_sync_batch_normalization_2_layer_call_and_return_conditional_losses_12568) with ops with custom gradients. Will likely fail if a gradient is requested.\n",
            "WARNING:absl:Importing a function (__inference_sync_batch_normalization_8_layer_call_and_return_conditional_losses_13864) with ops with custom gradients. Will likely fail if a gradient is requested.\n",
            "WARNING:absl:Importing a function (__inference_sync_batch_normalization_52_layer_call_and_return_conditional_losses_23368) with ops with custom gradients. Will likely fail if a gradient is requested.\n",
            "WARNING:absl:Importing a function (__inference_sync_batch_normalization_27_layer_call_and_return_conditional_losses_17968) with ops with custom gradients. Will likely fail if a gradient is requested.\n",
            "WARNING:absl:Importing a function (__inference_sync_batch_normalization_33_layer_call_and_return_conditional_losses_19264) with ops with custom gradients. Will likely fail if a gradient is requested.\n",
            "WARNING:absl:Importing a function (__inference_sync_batch_normalization_26_layer_call_and_return_conditional_losses_17752) with ops with custom gradients. Will likely fail if a gradient is requested.\n",
            "WARNING:absl:Importing a function (__inference_sync_batch_normalization_7_layer_call_and_return_conditional_losses_13648) with ops with custom gradients. Will likely fail if a gradient is requested.\n",
            "WARNING:absl:Importing a function (__inference_sync_batch_normalization_11_layer_call_and_return_conditional_losses_31042) with ops with custom gradients. Will likely fail if a gradient is requested.\n",
            "WARNING:absl:Importing a function (__inference_sync_batch_normalization_15_layer_call_and_return_conditional_losses_31522) with ops with custom gradients. Will likely fail if a gradient is requested.\n",
            "WARNING:absl:Importing a function (__inference_sync_batch_normalization_10_layer_call_and_return_conditional_losses_30922) with ops with custom gradients. Will likely fail if a gradient is requested.\n",
            "WARNING:absl:Importing a function (__inference_sync_batch_normalization_37_layer_call_and_return_conditional_losses_20128) with ops with custom gradients. Will likely fail if a gradient is requested.\n",
            "WARNING:absl:Importing a function (__inference_sync_batch_normalization_37_layer_call_and_return_conditional_losses_34162) with ops with custom gradients. Will likely fail if a gradient is requested.\n",
            "WARNING:absl:Importing a function (__inference_sync_batch_normalization_43_layer_call_and_return_conditional_losses_21424) with ops with custom gradients. Will likely fail if a gradient is requested.\n",
            "WARNING:absl:Importing a function (__inference_sync_batch_normalization_14_layer_call_and_return_conditional_losses_31402) with ops with custom gradients. Will likely fail if a gradient is requested.\n",
            "WARNING:absl:Importing a function (__inference_sync_batch_normalization_24_layer_call_and_return_conditional_losses_17320) with ops with custom gradients. Will likely fail if a gradient is requested.\n",
            "WARNING:absl:Importing a function (__inference_sync_batch_normalization_36_layer_call_and_return_conditional_losses_34042) with ops with custom gradients. Will likely fail if a gradient is requested.\n",
            "WARNING:absl:Importing a function (__inference_sync_batch_normalization_32_layer_call_and_return_conditional_losses_19048) with ops with custom gradients. Will likely fail if a gradient is requested.\n",
            "WARNING:absl:Importing a function (__inference_sync_batch_normalization_50_layer_call_and_return_conditional_losses_22936) with ops with custom gradients. Will likely fail if a gradient is requested.\n"
          ],
          "name": "stderr"
        },
        {
          "output_type": "stream",
          "text": [
            "Downloading simclr_embeddings_train.npz from GDrive\n",
            "All images done already.\n"
          ],
          "name": "stdout"
        }
      ]
    },
    {
      "cell_type": "markdown",
      "metadata": {
        "id": "hpwXmr3i_yXt"
      },
      "source": [
        "## VGG16"
      ]
    },
    {
      "cell_type": "code",
      "metadata": {
        "id": "OdVItqYB_yX0",
        "colab": {
          "base_uri": "https://localhost:8080/"
        },
        "outputId": "8071f114-475d-4e6a-9690-3749ab981650"
      },
      "source": [
        "max_num_samples = 2000\n",
        "vgg16_train_filename = 'vgg16_embeddings_train.npz'\n",
        "\n",
        "vgg16_train_embedder = embedding_models.VGG16EmbeddingWrapper()\n",
        "\n",
        "run_data_through_model(\n",
        "    train_data, \n",
        "    vgg16_train_embedder, \n",
        "    vgg16_train_filename,\n",
        "    drive,\n",
        "    folderid,\n",
        "    total_train_images,\n",
        "    max_num_samples\n",
        "    )"
      ],
      "execution_count": null,
      "outputs": [
        {
          "output_type": "stream",
          "text": [
            "Downloading vgg16_embeddings_train.npz from GDrive\n",
            "10000/13233 images done already\n",
            "Running for image indices 10000-12000.\n"
          ],
          "name": "stdout"
        },
        {
          "output_type": "stream",
          "text": [
            "\r                                                                               \r\r [elapsed time: 0:00:00] |                                  | (ETA:  --:--:--) "
          ],
          "name": "stderr"
        },
        {
          "output_type": "stream",
          "text": [
            "Embedding images...\n"
          ],
          "name": "stdout"
        },
        {
          "output_type": "stream",
          "text": [
            " [elapsed time: 0:00:21] |**********************************| (ETA:  00:00:00) "
          ],
          "name": "stderr"
        },
        {
          "output_type": "stream",
          "text": [
            "Deleting vgg16_embeddings_train.npz from GDrive\n",
            "Data saved to vgg16_embeddings_train.npz\n",
            "Uploaded vgg16_embeddings_train.npz to https://drive.google.com/drive/u/1/folders/18CcWLV0mDi9Iuk7rFquHa1jRQ5VI0BSx\n",
            "12000/13233 images done\n",
            "Downloading vgg16_embeddings_train.npz from GDrive\n",
            "12000/13233 images done already\n",
            "Running for image indices 12000-14000.\n"
          ],
          "name": "stdout"
        },
        {
          "output_type": "stream",
          "text": [
            "\r                                                                               \r\r [elapsed time: 0:00:00] |                                  | (ETA:  --:--:--) "
          ],
          "name": "stderr"
        },
        {
          "output_type": "stream",
          "text": [
            "Embedding images...\n"
          ],
          "name": "stdout"
        },
        {
          "output_type": "stream",
          "text": [
            " [elapsed time: 0:00:09] |**********************************| (ETA:  00:00:00) "
          ],
          "name": "stderr"
        },
        {
          "output_type": "stream",
          "text": [
            "Deleting vgg16_embeddings_train.npz from GDrive\n",
            "Data saved to vgg16_embeddings_train.npz\n",
            "Uploaded vgg16_embeddings_train.npz to https://drive.google.com/drive/u/1/folders/18CcWLV0mDi9Iuk7rFquHa1jRQ5VI0BSx\n",
            "13233/13233 images done\n"
          ],
          "name": "stdout"
        }
      ]
    },
    {
      "cell_type": "markdown",
      "metadata": {
        "id": "CeOqwRRnAPQm"
      },
      "source": [
        "## CLIP"
      ]
    },
    {
      "cell_type": "code",
      "metadata": {
        "id": "D7NTLqP8APQu",
        "colab": {
          "base_uri": "https://localhost:8080/"
        },
        "outputId": "c7a9801f-937c-4cf1-bbbd-fbe89490cb66"
      },
      "source": [
        "max_num_samples = 100\n",
        "clip_train_filename = 'clip_embeddings_train.npz'\n",
        "\n",
        "clip_train_embedder = embedding_models.CLIPEmbeddingWrapper()\n",
        "\n",
        "run_data_through_model(\n",
        "    train_data, \n",
        "    clip_train_embedder, \n",
        "    clip_train_filename,\n",
        "    drive,\n",
        "    folderid,\n",
        "    total_train_images,\n",
        "    max_num_samples\n",
        "    )"
      ],
      "execution_count": null,
      "outputs": [
        {
          "output_type": "stream",
          "text": [
            "Running for image indices 0-100.\n"
          ],
          "name": "stdout"
        },
        {
          "output_type": "stream",
          "text": [
            "\r                                                                               \r\r [elapsed time: 0:00:00] |                                  | (ETA:  --:--:--) "
          ],
          "name": "stderr"
        },
        {
          "output_type": "stream",
          "text": [
            "Embedding images...\n"
          ],
          "name": "stdout"
        },
        {
          "output_type": "stream",
          "text": [
            " [elapsed time: 0:00:04] |**********************************| (ETA:  00:00:00) "
          ],
          "name": "stderr"
        },
        {
          "output_type": "stream",
          "text": [
            "Data saved to clip_embeddings_train.npz\n",
            "Uploaded clip_embeddings_train.npz to https://drive.google.com/drive/u/1/folders/18CcWLV0mDi9Iuk7rFquHa1jRQ5VI0BSx\n",
            "100/13233 images done\n",
            "Downloading clip_embeddings_train.npz from GDrive\n",
            "100/13233 images done already\n",
            "Running for image indices 100-200.\n"
          ],
          "name": "stdout"
        },
        {
          "output_type": "stream",
          "text": [
            " [elapsed time: 0:00:00] |**********************************| (ETA:  00:00:00) "
          ],
          "name": "stderr"
        },
        {
          "output_type": "stream",
          "text": [
            "Embedding images...\n",
            "Deleting clip_embeddings_train.npz from GDrive\n",
            "Data saved to clip_embeddings_train.npz\n",
            "Uploaded clip_embeddings_train.npz to https://drive.google.com/drive/u/1/folders/18CcWLV0mDi9Iuk7rFquHa1jRQ5VI0BSx\n",
            "200/13233 images done\n",
            "Downloading clip_embeddings_train.npz from GDrive\n",
            "200/13233 images done already\n",
            "Running for image indices 200-300.\n"
          ],
          "name": "stdout"
        },
        {
          "output_type": "stream",
          "text": [
            " [elapsed time: 0:00:00] |**********************************| (ETA:  00:00:00) "
          ],
          "name": "stderr"
        },
        {
          "output_type": "stream",
          "text": [
            "Embedding images...\n",
            "Deleting clip_embeddings_train.npz from GDrive\n",
            "Data saved to clip_embeddings_train.npz\n",
            "Uploaded clip_embeddings_train.npz to https://drive.google.com/drive/u/1/folders/18CcWLV0mDi9Iuk7rFquHa1jRQ5VI0BSx\n",
            "300/13233 images done\n",
            "Downloading clip_embeddings_train.npz from GDrive\n",
            "300/13233 images done already\n",
            "Running for image indices 300-400.\n"
          ],
          "name": "stdout"
        },
        {
          "output_type": "stream",
          "text": [
            " [elapsed time: 0:00:00] |**********************************| (ETA:  00:00:00) "
          ],
          "name": "stderr"
        },
        {
          "output_type": "stream",
          "text": [
            "Embedding images...\n",
            "Deleting clip_embeddings_train.npz from GDrive\n",
            "Data saved to clip_embeddings_train.npz\n",
            "Uploaded clip_embeddings_train.npz to https://drive.google.com/drive/u/1/folders/18CcWLV0mDi9Iuk7rFquHa1jRQ5VI0BSx\n",
            "400/13233 images done\n",
            "Downloading clip_embeddings_train.npz from GDrive\n",
            "400/13233 images done already\n",
            "Running for image indices 400-500.\n"
          ],
          "name": "stdout"
        },
        {
          "output_type": "stream",
          "text": [
            " [elapsed time: 0:00:00] |**********************************| (ETA:  00:00:00) "
          ],
          "name": "stderr"
        },
        {
          "output_type": "stream",
          "text": [
            "Embedding images...\n",
            "Deleting clip_embeddings_train.npz from GDrive\n",
            "Data saved to clip_embeddings_train.npz\n",
            "Uploaded clip_embeddings_train.npz to https://drive.google.com/drive/u/1/folders/18CcWLV0mDi9Iuk7rFquHa1jRQ5VI0BSx\n",
            "500/13233 images done\n",
            "Downloading clip_embeddings_train.npz from GDrive\n",
            "500/13233 images done already\n",
            "Running for image indices 500-600.\n"
          ],
          "name": "stdout"
        },
        {
          "output_type": "stream",
          "text": [
            " [elapsed time: 0:00:00] |**********************************| (ETA:  00:00:00) "
          ],
          "name": "stderr"
        },
        {
          "output_type": "stream",
          "text": [
            "Embedding images...\n",
            "Deleting clip_embeddings_train.npz from GDrive\n",
            "Data saved to clip_embeddings_train.npz\n",
            "Uploaded clip_embeddings_train.npz to https://drive.google.com/drive/u/1/folders/18CcWLV0mDi9Iuk7rFquHa1jRQ5VI0BSx\n",
            "600/13233 images done\n",
            "Downloading clip_embeddings_train.npz from GDrive\n",
            "600/13233 images done already\n",
            "Running for image indices 600-700.\n"
          ],
          "name": "stdout"
        },
        {
          "output_type": "stream",
          "text": [
            " [elapsed time: 0:00:00] |**********************************| (ETA:  00:00:00) "
          ],
          "name": "stderr"
        },
        {
          "output_type": "stream",
          "text": [
            "Embedding images...\n",
            "Deleting clip_embeddings_train.npz from GDrive\n",
            "Data saved to clip_embeddings_train.npz\n",
            "Uploaded clip_embeddings_train.npz to https://drive.google.com/drive/u/1/folders/18CcWLV0mDi9Iuk7rFquHa1jRQ5VI0BSx\n",
            "700/13233 images done\n",
            "Downloading clip_embeddings_train.npz from GDrive\n",
            "700/13233 images done already\n",
            "Running for image indices 700-800.\n"
          ],
          "name": "stdout"
        },
        {
          "output_type": "stream",
          "text": [
            " [elapsed time: 0:00:00] |**********************************| (ETA:  00:00:00) "
          ],
          "name": "stderr"
        },
        {
          "output_type": "stream",
          "text": [
            "Embedding images...\n",
            "Deleting clip_embeddings_train.npz from GDrive\n",
            "Data saved to clip_embeddings_train.npz\n",
            "Uploaded clip_embeddings_train.npz to https://drive.google.com/drive/u/1/folders/18CcWLV0mDi9Iuk7rFquHa1jRQ5VI0BSx\n",
            "800/13233 images done\n",
            "Downloading clip_embeddings_train.npz from GDrive\n",
            "800/13233 images done already\n",
            "Running for image indices 800-900.\n"
          ],
          "name": "stdout"
        },
        {
          "output_type": "stream",
          "text": [
            " [elapsed time: 0:00:00] |**********************************| (ETA:  00:00:00) "
          ],
          "name": "stderr"
        },
        {
          "output_type": "stream",
          "text": [
            "Embedding images...\n",
            "Deleting clip_embeddings_train.npz from GDrive\n",
            "Data saved to clip_embeddings_train.npz\n",
            "Uploaded clip_embeddings_train.npz to https://drive.google.com/drive/u/1/folders/18CcWLV0mDi9Iuk7rFquHa1jRQ5VI0BSx\n",
            "900/13233 images done\n",
            "Downloading clip_embeddings_train.npz from GDrive\n",
            "900/13233 images done already\n",
            "Running for image indices 900-1000.\n"
          ],
          "name": "stdout"
        },
        {
          "output_type": "stream",
          "text": [
            " [elapsed time: 0:00:00] |**********************************| (ETA:  00:00:00) "
          ],
          "name": "stderr"
        },
        {
          "output_type": "stream",
          "text": [
            "Embedding images...\n",
            "Deleting clip_embeddings_train.npz from GDrive\n",
            "Data saved to clip_embeddings_train.npz\n",
            "Uploaded clip_embeddings_train.npz to https://drive.google.com/drive/u/1/folders/18CcWLV0mDi9Iuk7rFquHa1jRQ5VI0BSx\n",
            "1000/13233 images done\n",
            "Downloading clip_embeddings_train.npz from GDrive\n",
            "1000/13233 images done already\n",
            "Running for image indices 1000-1100.\n"
          ],
          "name": "stdout"
        },
        {
          "output_type": "stream",
          "text": [
            " [elapsed time: 0:00:00] |**********************************| (ETA:  00:00:00) "
          ],
          "name": "stderr"
        },
        {
          "output_type": "stream",
          "text": [
            "Embedding images...\n",
            "Deleting clip_embeddings_train.npz from GDrive\n",
            "Data saved to clip_embeddings_train.npz\n",
            "Uploaded clip_embeddings_train.npz to https://drive.google.com/drive/u/1/folders/18CcWLV0mDi9Iuk7rFquHa1jRQ5VI0BSx\n",
            "1100/13233 images done\n",
            "Downloading clip_embeddings_train.npz from GDrive\n",
            "1100/13233 images done already\n",
            "Running for image indices 1100-1200.\n"
          ],
          "name": "stdout"
        },
        {
          "output_type": "stream",
          "text": [
            " [elapsed time: 0:00:00] |**********************************| (ETA:  00:00:00) "
          ],
          "name": "stderr"
        },
        {
          "output_type": "stream",
          "text": [
            "Embedding images...\n",
            "Deleting clip_embeddings_train.npz from GDrive\n",
            "Data saved to clip_embeddings_train.npz\n",
            "Uploaded clip_embeddings_train.npz to https://drive.google.com/drive/u/1/folders/18CcWLV0mDi9Iuk7rFquHa1jRQ5VI0BSx\n",
            "1200/13233 images done\n",
            "Downloading clip_embeddings_train.npz from GDrive\n",
            "1200/13233 images done already\n",
            "Running for image indices 1200-1300.\n"
          ],
          "name": "stdout"
        },
        {
          "output_type": "stream",
          "text": [
            " [elapsed time: 0:00:00] |**********************************| (ETA:  00:00:00) "
          ],
          "name": "stderr"
        },
        {
          "output_type": "stream",
          "text": [
            "Embedding images...\n",
            "Deleting clip_embeddings_train.npz from GDrive\n",
            "Data saved to clip_embeddings_train.npz\n",
            "Uploaded clip_embeddings_train.npz to https://drive.google.com/drive/u/1/folders/18CcWLV0mDi9Iuk7rFquHa1jRQ5VI0BSx\n",
            "1300/13233 images done\n",
            "Downloading clip_embeddings_train.npz from GDrive\n",
            "1300/13233 images done already\n",
            "Running for image indices 1300-1400.\n"
          ],
          "name": "stdout"
        },
        {
          "output_type": "stream",
          "text": [
            " [elapsed time: 0:00:00] |**********************************| (ETA:  00:00:00) "
          ],
          "name": "stderr"
        },
        {
          "output_type": "stream",
          "text": [
            "Embedding images...\n",
            "Deleting clip_embeddings_train.npz from GDrive\n",
            "Data saved to clip_embeddings_train.npz\n",
            "Uploaded clip_embeddings_train.npz to https://drive.google.com/drive/u/1/folders/18CcWLV0mDi9Iuk7rFquHa1jRQ5VI0BSx\n",
            "1400/13233 images done\n",
            "Downloading clip_embeddings_train.npz from GDrive\n",
            "1400/13233 images done already\n",
            "Running for image indices 1400-1500.\n"
          ],
          "name": "stdout"
        },
        {
          "output_type": "stream",
          "text": [
            " [elapsed time: 0:00:00] |**********************************| (ETA:  00:00:00) "
          ],
          "name": "stderr"
        },
        {
          "output_type": "stream",
          "text": [
            "Embedding images...\n",
            "Deleting clip_embeddings_train.npz from GDrive\n",
            "Data saved to clip_embeddings_train.npz\n",
            "Uploaded clip_embeddings_train.npz to https://drive.google.com/drive/u/1/folders/18CcWLV0mDi9Iuk7rFquHa1jRQ5VI0BSx\n",
            "1500/13233 images done\n",
            "Downloading clip_embeddings_train.npz from GDrive\n",
            "1500/13233 images done already\n",
            "Running for image indices 1500-1600.\n"
          ],
          "name": "stdout"
        },
        {
          "output_type": "stream",
          "text": [
            " [elapsed time: 0:00:00] |**********************************| (ETA:  00:00:00) "
          ],
          "name": "stderr"
        },
        {
          "output_type": "stream",
          "text": [
            "Embedding images...\n",
            "Deleting clip_embeddings_train.npz from GDrive\n",
            "Data saved to clip_embeddings_train.npz\n",
            "Uploaded clip_embeddings_train.npz to https://drive.google.com/drive/u/1/folders/18CcWLV0mDi9Iuk7rFquHa1jRQ5VI0BSx\n",
            "1600/13233 images done\n",
            "Downloading clip_embeddings_train.npz from GDrive\n",
            "1600/13233 images done already\n",
            "Running for image indices 1600-1700.\n"
          ],
          "name": "stdout"
        },
        {
          "output_type": "stream",
          "text": [
            " [elapsed time: 0:00:00] |**********************************| (ETA:  00:00:00) "
          ],
          "name": "stderr"
        },
        {
          "output_type": "stream",
          "text": [
            "Embedding images...\n",
            "Deleting clip_embeddings_train.npz from GDrive\n",
            "Data saved to clip_embeddings_train.npz\n",
            "Uploaded clip_embeddings_train.npz to https://drive.google.com/drive/u/1/folders/18CcWLV0mDi9Iuk7rFquHa1jRQ5VI0BSx\n",
            "1700/13233 images done\n",
            "Downloading clip_embeddings_train.npz from GDrive\n",
            "1700/13233 images done already\n",
            "Running for image indices 1700-1800.\n"
          ],
          "name": "stdout"
        },
        {
          "output_type": "stream",
          "text": [
            " [elapsed time: 0:00:00] |**********************************| (ETA:  00:00:00) "
          ],
          "name": "stderr"
        },
        {
          "output_type": "stream",
          "text": [
            "Embedding images...\n",
            "Deleting clip_embeddings_train.npz from GDrive\n",
            "Data saved to clip_embeddings_train.npz\n",
            "Uploaded clip_embeddings_train.npz to https://drive.google.com/drive/u/1/folders/18CcWLV0mDi9Iuk7rFquHa1jRQ5VI0BSx\n",
            "1800/13233 images done\n",
            "Downloading clip_embeddings_train.npz from GDrive\n",
            "1800/13233 images done already\n",
            "Running for image indices 1800-1900.\n"
          ],
          "name": "stdout"
        },
        {
          "output_type": "stream",
          "text": [
            " [elapsed time: 0:00:00] |**********************************| (ETA:  00:00:00) "
          ],
          "name": "stderr"
        },
        {
          "output_type": "stream",
          "text": [
            "Embedding images...\n",
            "Deleting clip_embeddings_train.npz from GDrive\n",
            "Data saved to clip_embeddings_train.npz\n",
            "Uploaded clip_embeddings_train.npz to https://drive.google.com/drive/u/1/folders/18CcWLV0mDi9Iuk7rFquHa1jRQ5VI0BSx\n",
            "1900/13233 images done\n",
            "Downloading clip_embeddings_train.npz from GDrive\n",
            "1900/13233 images done already\n",
            "Running for image indices 1900-2000.\n"
          ],
          "name": "stdout"
        },
        {
          "output_type": "stream",
          "text": [
            " [elapsed time: 0:00:00] |**********************************| (ETA:  00:00:00) "
          ],
          "name": "stderr"
        },
        {
          "output_type": "stream",
          "text": [
            "Embedding images...\n",
            "Deleting clip_embeddings_train.npz from GDrive\n",
            "Data saved to clip_embeddings_train.npz\n",
            "Uploaded clip_embeddings_train.npz to https://drive.google.com/drive/u/1/folders/18CcWLV0mDi9Iuk7rFquHa1jRQ5VI0BSx\n",
            "2000/13233 images done\n",
            "Downloading clip_embeddings_train.npz from GDrive\n",
            "2000/13233 images done already\n",
            "Running for image indices 2000-2100.\n"
          ],
          "name": "stdout"
        },
        {
          "output_type": "stream",
          "text": [
            " [elapsed time: 0:00:00] |**********************************| (ETA:  00:00:00) "
          ],
          "name": "stderr"
        },
        {
          "output_type": "stream",
          "text": [
            "Embedding images...\n",
            "Deleting clip_embeddings_train.npz from GDrive\n",
            "Data saved to clip_embeddings_train.npz\n",
            "Uploaded clip_embeddings_train.npz to https://drive.google.com/drive/u/1/folders/18CcWLV0mDi9Iuk7rFquHa1jRQ5VI0BSx\n",
            "2100/13233 images done\n",
            "Downloading clip_embeddings_train.npz from GDrive\n",
            "2100/13233 images done already\n",
            "Running for image indices 2100-2200.\n"
          ],
          "name": "stdout"
        },
        {
          "output_type": "stream",
          "text": [
            " [elapsed time: 0:00:00] |**********************************| (ETA:  00:00:00) "
          ],
          "name": "stderr"
        },
        {
          "output_type": "stream",
          "text": [
            "Embedding images...\n",
            "Deleting clip_embeddings_train.npz from GDrive\n",
            "Data saved to clip_embeddings_train.npz\n",
            "Uploaded clip_embeddings_train.npz to https://drive.google.com/drive/u/1/folders/18CcWLV0mDi9Iuk7rFquHa1jRQ5VI0BSx\n",
            "2200/13233 images done\n",
            "Downloading clip_embeddings_train.npz from GDrive\n",
            "2200/13233 images done already\n",
            "Running for image indices 2200-2300.\n"
          ],
          "name": "stdout"
        },
        {
          "output_type": "stream",
          "text": [
            " [elapsed time: 0:00:00] |**********************************| (ETA:  00:00:00) "
          ],
          "name": "stderr"
        },
        {
          "output_type": "stream",
          "text": [
            "Embedding images...\n",
            "Deleting clip_embeddings_train.npz from GDrive\n",
            "Data saved to clip_embeddings_train.npz\n",
            "Uploaded clip_embeddings_train.npz to https://drive.google.com/drive/u/1/folders/18CcWLV0mDi9Iuk7rFquHa1jRQ5VI0BSx\n",
            "2300/13233 images done\n",
            "Downloading clip_embeddings_train.npz from GDrive\n",
            "2300/13233 images done already\n",
            "Running for image indices 2300-2400.\n"
          ],
          "name": "stdout"
        },
        {
          "output_type": "stream",
          "text": [
            " [elapsed time: 0:00:00] |**********************************| (ETA:  00:00:00) "
          ],
          "name": "stderr"
        },
        {
          "output_type": "stream",
          "text": [
            "Embedding images...\n",
            "Deleting clip_embeddings_train.npz from GDrive\n",
            "Data saved to clip_embeddings_train.npz\n",
            "Uploaded clip_embeddings_train.npz to https://drive.google.com/drive/u/1/folders/18CcWLV0mDi9Iuk7rFquHa1jRQ5VI0BSx\n",
            "2400/13233 images done\n",
            "Downloading clip_embeddings_train.npz from GDrive\n",
            "2400/13233 images done already\n",
            "Running for image indices 2400-2500.\n"
          ],
          "name": "stdout"
        },
        {
          "output_type": "stream",
          "text": [
            " [elapsed time: 0:00:00] |**********************************| (ETA:  00:00:00) "
          ],
          "name": "stderr"
        },
        {
          "output_type": "stream",
          "text": [
            "Embedding images...\n",
            "Deleting clip_embeddings_train.npz from GDrive\n",
            "Data saved to clip_embeddings_train.npz\n",
            "Uploaded clip_embeddings_train.npz to https://drive.google.com/drive/u/1/folders/18CcWLV0mDi9Iuk7rFquHa1jRQ5VI0BSx\n",
            "2500/13233 images done\n",
            "Downloading clip_embeddings_train.npz from GDrive\n",
            "2500/13233 images done already\n",
            "Running for image indices 2500-2600.\n"
          ],
          "name": "stdout"
        },
        {
          "output_type": "stream",
          "text": [
            " [elapsed time: 0:00:00] |**********************************| (ETA:  00:00:00) "
          ],
          "name": "stderr"
        },
        {
          "output_type": "stream",
          "text": [
            "Embedding images...\n",
            "Deleting clip_embeddings_train.npz from GDrive\n",
            "Data saved to clip_embeddings_train.npz\n",
            "Uploaded clip_embeddings_train.npz to https://drive.google.com/drive/u/1/folders/18CcWLV0mDi9Iuk7rFquHa1jRQ5VI0BSx\n",
            "2600/13233 images done\n",
            "Downloading clip_embeddings_train.npz from GDrive\n",
            "2600/13233 images done already\n",
            "Running for image indices 2600-2700.\n"
          ],
          "name": "stdout"
        },
        {
          "output_type": "stream",
          "text": [
            " [elapsed time: 0:00:00] |**********************************| (ETA:  00:00:00) "
          ],
          "name": "stderr"
        },
        {
          "output_type": "stream",
          "text": [
            "Embedding images...\n",
            "Deleting clip_embeddings_train.npz from GDrive\n",
            "Data saved to clip_embeddings_train.npz\n",
            "Uploaded clip_embeddings_train.npz to https://drive.google.com/drive/u/1/folders/18CcWLV0mDi9Iuk7rFquHa1jRQ5VI0BSx\n",
            "2700/13233 images done\n",
            "Downloading clip_embeddings_train.npz from GDrive\n",
            "2700/13233 images done already\n",
            "Running for image indices 2700-2800.\n"
          ],
          "name": "stdout"
        },
        {
          "output_type": "stream",
          "text": [
            " [elapsed time: 0:00:00] |**********************************| (ETA:  00:00:00) "
          ],
          "name": "stderr"
        },
        {
          "output_type": "stream",
          "text": [
            "Embedding images...\n",
            "Deleting clip_embeddings_train.npz from GDrive\n",
            "Data saved to clip_embeddings_train.npz\n",
            "Uploaded clip_embeddings_train.npz to https://drive.google.com/drive/u/1/folders/18CcWLV0mDi9Iuk7rFquHa1jRQ5VI0BSx\n",
            "2800/13233 images done\n",
            "Downloading clip_embeddings_train.npz from GDrive\n",
            "2800/13233 images done already\n",
            "Running for image indices 2800-2900.\n"
          ],
          "name": "stdout"
        },
        {
          "output_type": "stream",
          "text": [
            " [elapsed time: 0:00:00] |**********************************| (ETA:  00:00:00) "
          ],
          "name": "stderr"
        },
        {
          "output_type": "stream",
          "text": [
            "Embedding images...\n",
            "Deleting clip_embeddings_train.npz from GDrive\n",
            "Data saved to clip_embeddings_train.npz\n",
            "Uploaded clip_embeddings_train.npz to https://drive.google.com/drive/u/1/folders/18CcWLV0mDi9Iuk7rFquHa1jRQ5VI0BSx\n",
            "2900/13233 images done\n",
            "Downloading clip_embeddings_train.npz from GDrive\n",
            "2900/13233 images done already\n",
            "Running for image indices 2900-3000.\n"
          ],
          "name": "stdout"
        },
        {
          "output_type": "stream",
          "text": [
            " [elapsed time: 0:00:00] |**********************************| (ETA:  00:00:00) "
          ],
          "name": "stderr"
        },
        {
          "output_type": "stream",
          "text": [
            "Embedding images...\n",
            "Deleting clip_embeddings_train.npz from GDrive\n",
            "Data saved to clip_embeddings_train.npz\n",
            "Uploaded clip_embeddings_train.npz to https://drive.google.com/drive/u/1/folders/18CcWLV0mDi9Iuk7rFquHa1jRQ5VI0BSx\n",
            "3000/13233 images done\n",
            "Downloading clip_embeddings_train.npz from GDrive\n",
            "3000/13233 images done already\n",
            "Running for image indices 3000-3100.\n"
          ],
          "name": "stdout"
        },
        {
          "output_type": "stream",
          "text": [
            " [elapsed time: 0:00:00] |**********************************| (ETA:  00:00:00) "
          ],
          "name": "stderr"
        },
        {
          "output_type": "stream",
          "text": [
            "Embedding images...\n",
            "Deleting clip_embeddings_train.npz from GDrive\n",
            "Data saved to clip_embeddings_train.npz\n",
            "Uploaded clip_embeddings_train.npz to https://drive.google.com/drive/u/1/folders/18CcWLV0mDi9Iuk7rFquHa1jRQ5VI0BSx\n",
            "3100/13233 images done\n",
            "Downloading clip_embeddings_train.npz from GDrive\n",
            "3100/13233 images done already\n",
            "Running for image indices 3100-3200.\n"
          ],
          "name": "stdout"
        },
        {
          "output_type": "stream",
          "text": [
            " [elapsed time: 0:00:00] |**********************************| (ETA:  00:00:00) "
          ],
          "name": "stderr"
        },
        {
          "output_type": "stream",
          "text": [
            "Embedding images...\n",
            "Deleting clip_embeddings_train.npz from GDrive\n",
            "Data saved to clip_embeddings_train.npz\n",
            "Uploaded clip_embeddings_train.npz to https://drive.google.com/drive/u/1/folders/18CcWLV0mDi9Iuk7rFquHa1jRQ5VI0BSx\n",
            "3200/13233 images done\n",
            "Downloading clip_embeddings_train.npz from GDrive\n",
            "3200/13233 images done already\n",
            "Running for image indices 3200-3300.\n"
          ],
          "name": "stdout"
        },
        {
          "output_type": "stream",
          "text": [
            " [elapsed time: 0:00:00] |**********************************| (ETA:  00:00:00) "
          ],
          "name": "stderr"
        },
        {
          "output_type": "stream",
          "text": [
            "Embedding images...\n",
            "Deleting clip_embeddings_train.npz from GDrive\n",
            "Data saved to clip_embeddings_train.npz\n",
            "Uploaded clip_embeddings_train.npz to https://drive.google.com/drive/u/1/folders/18CcWLV0mDi9Iuk7rFquHa1jRQ5VI0BSx\n",
            "3300/13233 images done\n",
            "Downloading clip_embeddings_train.npz from GDrive\n",
            "3300/13233 images done already\n",
            "Running for image indices 3300-3400.\n"
          ],
          "name": "stdout"
        },
        {
          "output_type": "stream",
          "text": [
            " [elapsed time: 0:00:00] |**********************************| (ETA:  00:00:00) "
          ],
          "name": "stderr"
        },
        {
          "output_type": "stream",
          "text": [
            "Embedding images...\n",
            "Deleting clip_embeddings_train.npz from GDrive\n",
            "Data saved to clip_embeddings_train.npz\n",
            "Uploaded clip_embeddings_train.npz to https://drive.google.com/drive/u/1/folders/18CcWLV0mDi9Iuk7rFquHa1jRQ5VI0BSx\n",
            "3400/13233 images done\n",
            "Downloading clip_embeddings_train.npz from GDrive\n",
            "3400/13233 images done already\n",
            "Running for image indices 3400-3500.\n"
          ],
          "name": "stdout"
        },
        {
          "output_type": "stream",
          "text": [
            " [elapsed time: 0:00:00] |**********************************| (ETA:  00:00:00) "
          ],
          "name": "stderr"
        },
        {
          "output_type": "stream",
          "text": [
            "Embedding images...\n",
            "Deleting clip_embeddings_train.npz from GDrive\n",
            "Data saved to clip_embeddings_train.npz\n",
            "Uploaded clip_embeddings_train.npz to https://drive.google.com/drive/u/1/folders/18CcWLV0mDi9Iuk7rFquHa1jRQ5VI0BSx\n",
            "3500/13233 images done\n",
            "Downloading clip_embeddings_train.npz from GDrive\n",
            "3500/13233 images done already\n",
            "Running for image indices 3500-3600.\n"
          ],
          "name": "stdout"
        },
        {
          "output_type": "stream",
          "text": [
            " [elapsed time: 0:00:00] |**********************************| (ETA:  00:00:00) "
          ],
          "name": "stderr"
        },
        {
          "output_type": "stream",
          "text": [
            "Embedding images...\n",
            "Deleting clip_embeddings_train.npz from GDrive\n",
            "Data saved to clip_embeddings_train.npz\n",
            "Uploaded clip_embeddings_train.npz to https://drive.google.com/drive/u/1/folders/18CcWLV0mDi9Iuk7rFquHa1jRQ5VI0BSx\n",
            "3600/13233 images done\n",
            "Downloading clip_embeddings_train.npz from GDrive\n",
            "3600/13233 images done already\n",
            "Running for image indices 3600-3700.\n"
          ],
          "name": "stdout"
        },
        {
          "output_type": "stream",
          "text": [
            " [elapsed time: 0:00:00] |**********************************| (ETA:  00:00:00) "
          ],
          "name": "stderr"
        },
        {
          "output_type": "stream",
          "text": [
            "Embedding images...\n",
            "Deleting clip_embeddings_train.npz from GDrive\n",
            "Data saved to clip_embeddings_train.npz\n",
            "Uploaded clip_embeddings_train.npz to https://drive.google.com/drive/u/1/folders/18CcWLV0mDi9Iuk7rFquHa1jRQ5VI0BSx\n",
            "3700/13233 images done\n",
            "Downloading clip_embeddings_train.npz from GDrive\n",
            "3700/13233 images done already\n",
            "Running for image indices 3700-3800.\n"
          ],
          "name": "stdout"
        },
        {
          "output_type": "stream",
          "text": [
            " [elapsed time: 0:00:00] |**********************************| (ETA:  00:00:00) "
          ],
          "name": "stderr"
        },
        {
          "output_type": "stream",
          "text": [
            "Embedding images...\n",
            "Deleting clip_embeddings_train.npz from GDrive\n",
            "Data saved to clip_embeddings_train.npz\n",
            "Uploaded clip_embeddings_train.npz to https://drive.google.com/drive/u/1/folders/18CcWLV0mDi9Iuk7rFquHa1jRQ5VI0BSx\n",
            "3800/13233 images done\n",
            "Downloading clip_embeddings_train.npz from GDrive\n",
            "3800/13233 images done already\n",
            "Running for image indices 3800-3900.\n"
          ],
          "name": "stdout"
        },
        {
          "output_type": "stream",
          "text": [
            " [elapsed time: 0:00:00] |**********************************| (ETA:  00:00:00) "
          ],
          "name": "stderr"
        },
        {
          "output_type": "stream",
          "text": [
            "Embedding images...\n",
            "Deleting clip_embeddings_train.npz from GDrive\n",
            "Data saved to clip_embeddings_train.npz\n",
            "Uploaded clip_embeddings_train.npz to https://drive.google.com/drive/u/1/folders/18CcWLV0mDi9Iuk7rFquHa1jRQ5VI0BSx\n",
            "3900/13233 images done\n",
            "Downloading clip_embeddings_train.npz from GDrive\n",
            "3900/13233 images done already\n",
            "Running for image indices 3900-4000.\n"
          ],
          "name": "stdout"
        },
        {
          "output_type": "stream",
          "text": [
            " [elapsed time: 0:00:00] |**********************************| (ETA:  00:00:00) "
          ],
          "name": "stderr"
        },
        {
          "output_type": "stream",
          "text": [
            "Embedding images...\n",
            "Deleting clip_embeddings_train.npz from GDrive\n",
            "Data saved to clip_embeddings_train.npz\n",
            "Uploaded clip_embeddings_train.npz to https://drive.google.com/drive/u/1/folders/18CcWLV0mDi9Iuk7rFquHa1jRQ5VI0BSx\n",
            "4000/13233 images done\n",
            "Downloading clip_embeddings_train.npz from GDrive\n",
            "4000/13233 images done already\n",
            "Running for image indices 4000-4100.\n"
          ],
          "name": "stdout"
        },
        {
          "output_type": "stream",
          "text": [
            " [elapsed time: 0:00:00] |**********************************| (ETA:  00:00:00) "
          ],
          "name": "stderr"
        },
        {
          "output_type": "stream",
          "text": [
            "Embedding images...\n",
            "Deleting clip_embeddings_train.npz from GDrive\n",
            "Data saved to clip_embeddings_train.npz\n",
            "Uploaded clip_embeddings_train.npz to https://drive.google.com/drive/u/1/folders/18CcWLV0mDi9Iuk7rFquHa1jRQ5VI0BSx\n",
            "4100/13233 images done\n",
            "Downloading clip_embeddings_train.npz from GDrive\n",
            "4100/13233 images done already\n",
            "Running for image indices 4100-4200.\n"
          ],
          "name": "stdout"
        },
        {
          "output_type": "stream",
          "text": [
            " [elapsed time: 0:00:00] |**********************************| (ETA:  00:00:00) "
          ],
          "name": "stderr"
        },
        {
          "output_type": "stream",
          "text": [
            "Embedding images...\n",
            "Deleting clip_embeddings_train.npz from GDrive\n",
            "Data saved to clip_embeddings_train.npz\n",
            "Uploaded clip_embeddings_train.npz to https://drive.google.com/drive/u/1/folders/18CcWLV0mDi9Iuk7rFquHa1jRQ5VI0BSx\n",
            "4200/13233 images done\n",
            "Downloading clip_embeddings_train.npz from GDrive\n",
            "4200/13233 images done already\n",
            "Running for image indices 4200-4300.\n"
          ],
          "name": "stdout"
        },
        {
          "output_type": "stream",
          "text": [
            " [elapsed time: 0:00:00] |**********************************| (ETA:  00:00:00) "
          ],
          "name": "stderr"
        },
        {
          "output_type": "stream",
          "text": [
            "Embedding images...\n",
            "Deleting clip_embeddings_train.npz from GDrive\n",
            "Data saved to clip_embeddings_train.npz\n",
            "Uploaded clip_embeddings_train.npz to https://drive.google.com/drive/u/1/folders/18CcWLV0mDi9Iuk7rFquHa1jRQ5VI0BSx\n",
            "4300/13233 images done\n",
            "Downloading clip_embeddings_train.npz from GDrive\n",
            "4300/13233 images done already\n",
            "Running for image indices 4300-4400.\n"
          ],
          "name": "stdout"
        },
        {
          "output_type": "stream",
          "text": [
            " [elapsed time: 0:00:00] |**********************************| (ETA:  00:00:00) "
          ],
          "name": "stderr"
        },
        {
          "output_type": "stream",
          "text": [
            "Embedding images...\n",
            "Deleting clip_embeddings_train.npz from GDrive\n",
            "Data saved to clip_embeddings_train.npz\n",
            "Uploaded clip_embeddings_train.npz to https://drive.google.com/drive/u/1/folders/18CcWLV0mDi9Iuk7rFquHa1jRQ5VI0BSx\n",
            "4400/13233 images done\n",
            "Downloading clip_embeddings_train.npz from GDrive\n",
            "4400/13233 images done already\n",
            "Running for image indices 4400-4500.\n"
          ],
          "name": "stdout"
        },
        {
          "output_type": "stream",
          "text": [
            " [elapsed time: 0:00:00] |**********************************| (ETA:  00:00:00) "
          ],
          "name": "stderr"
        },
        {
          "output_type": "stream",
          "text": [
            "Embedding images...\n",
            "Deleting clip_embeddings_train.npz from GDrive\n",
            "Data saved to clip_embeddings_train.npz\n",
            "Uploaded clip_embeddings_train.npz to https://drive.google.com/drive/u/1/folders/18CcWLV0mDi9Iuk7rFquHa1jRQ5VI0BSx\n",
            "4500/13233 images done\n",
            "Downloading clip_embeddings_train.npz from GDrive\n",
            "4500/13233 images done already\n",
            "Running for image indices 4500-4600.\n"
          ],
          "name": "stdout"
        },
        {
          "output_type": "stream",
          "text": [
            " [elapsed time: 0:00:00] |**********************************| (ETA:  00:00:00) "
          ],
          "name": "stderr"
        },
        {
          "output_type": "stream",
          "text": [
            "Embedding images...\n",
            "Deleting clip_embeddings_train.npz from GDrive\n",
            "Data saved to clip_embeddings_train.npz\n",
            "Uploaded clip_embeddings_train.npz to https://drive.google.com/drive/u/1/folders/18CcWLV0mDi9Iuk7rFquHa1jRQ5VI0BSx\n",
            "4600/13233 images done\n",
            "Downloading clip_embeddings_train.npz from GDrive\n",
            "4600/13233 images done already\n",
            "Running for image indices 4600-4700.\n"
          ],
          "name": "stdout"
        },
        {
          "output_type": "stream",
          "text": [
            " [elapsed time: 0:00:00] |**********************************| (ETA:  00:00:00) "
          ],
          "name": "stderr"
        },
        {
          "output_type": "stream",
          "text": [
            "Embedding images...\n",
            "Deleting clip_embeddings_train.npz from GDrive\n",
            "Data saved to clip_embeddings_train.npz\n",
            "Uploaded clip_embeddings_train.npz to https://drive.google.com/drive/u/1/folders/18CcWLV0mDi9Iuk7rFquHa1jRQ5VI0BSx\n",
            "4700/13233 images done\n",
            "Downloading clip_embeddings_train.npz from GDrive\n",
            "4700/13233 images done already\n",
            "Running for image indices 4700-4800.\n"
          ],
          "name": "stdout"
        },
        {
          "output_type": "stream",
          "text": [
            " [elapsed time: 0:00:00] |**********************************| (ETA:  00:00:00) "
          ],
          "name": "stderr"
        },
        {
          "output_type": "stream",
          "text": [
            "Embedding images...\n",
            "Deleting clip_embeddings_train.npz from GDrive\n",
            "Data saved to clip_embeddings_train.npz\n",
            "Uploaded clip_embeddings_train.npz to https://drive.google.com/drive/u/1/folders/18CcWLV0mDi9Iuk7rFquHa1jRQ5VI0BSx\n",
            "4800/13233 images done\n",
            "Downloading clip_embeddings_train.npz from GDrive\n",
            "4800/13233 images done already\n",
            "Running for image indices 4800-4900.\n"
          ],
          "name": "stdout"
        },
        {
          "output_type": "stream",
          "text": [
            " [elapsed time: 0:00:00] |**********************************| (ETA:  00:00:00) "
          ],
          "name": "stderr"
        },
        {
          "output_type": "stream",
          "text": [
            "Embedding images...\n",
            "Deleting clip_embeddings_train.npz from GDrive\n",
            "Data saved to clip_embeddings_train.npz\n",
            "Uploaded clip_embeddings_train.npz to https://drive.google.com/drive/u/1/folders/18CcWLV0mDi9Iuk7rFquHa1jRQ5VI0BSx\n",
            "4900/13233 images done\n",
            "Downloading clip_embeddings_train.npz from GDrive\n",
            "4900/13233 images done already\n",
            "Running for image indices 4900-5000.\n"
          ],
          "name": "stdout"
        },
        {
          "output_type": "stream",
          "text": [
            " [elapsed time: 0:00:00] |**********************************| (ETA:  00:00:00) "
          ],
          "name": "stderr"
        },
        {
          "output_type": "stream",
          "text": [
            "Embedding images...\n",
            "Deleting clip_embeddings_train.npz from GDrive\n",
            "Data saved to clip_embeddings_train.npz\n",
            "Uploaded clip_embeddings_train.npz to https://drive.google.com/drive/u/1/folders/18CcWLV0mDi9Iuk7rFquHa1jRQ5VI0BSx\n",
            "5000/13233 images done\n",
            "Downloading clip_embeddings_train.npz from GDrive\n",
            "5000/13233 images done already\n",
            "Running for image indices 5000-5100.\n"
          ],
          "name": "stdout"
        },
        {
          "output_type": "stream",
          "text": [
            " [elapsed time: 0:00:00] |**********************************| (ETA:  00:00:00) "
          ],
          "name": "stderr"
        },
        {
          "output_type": "stream",
          "text": [
            "Embedding images...\n",
            "Deleting clip_embeddings_train.npz from GDrive\n",
            "Data saved to clip_embeddings_train.npz\n",
            "Uploaded clip_embeddings_train.npz to https://drive.google.com/drive/u/1/folders/18CcWLV0mDi9Iuk7rFquHa1jRQ5VI0BSx\n",
            "5100/13233 images done\n",
            "Downloading clip_embeddings_train.npz from GDrive\n",
            "5100/13233 images done already\n",
            "Running for image indices 5100-5200.\n"
          ],
          "name": "stdout"
        },
        {
          "output_type": "stream",
          "text": [
            " [elapsed time: 0:00:00] |**********************************| (ETA:  00:00:00) "
          ],
          "name": "stderr"
        },
        {
          "output_type": "stream",
          "text": [
            "Embedding images...\n",
            "Deleting clip_embeddings_train.npz from GDrive\n",
            "Data saved to clip_embeddings_train.npz\n",
            "Uploaded clip_embeddings_train.npz to https://drive.google.com/drive/u/1/folders/18CcWLV0mDi9Iuk7rFquHa1jRQ5VI0BSx\n",
            "5200/13233 images done\n",
            "Downloading clip_embeddings_train.npz from GDrive\n",
            "5200/13233 images done already\n",
            "Running for image indices 5200-5300.\n"
          ],
          "name": "stdout"
        },
        {
          "output_type": "stream",
          "text": [
            " [elapsed time: 0:00:00] |**********************************| (ETA:  00:00:00) "
          ],
          "name": "stderr"
        },
        {
          "output_type": "stream",
          "text": [
            "Embedding images...\n",
            "Deleting clip_embeddings_train.npz from GDrive\n",
            "Data saved to clip_embeddings_train.npz\n",
            "Uploaded clip_embeddings_train.npz to https://drive.google.com/drive/u/1/folders/18CcWLV0mDi9Iuk7rFquHa1jRQ5VI0BSx\n",
            "5300/13233 images done\n",
            "Downloading clip_embeddings_train.npz from GDrive\n",
            "5300/13233 images done already\n",
            "Running for image indices 5300-5400.\n"
          ],
          "name": "stdout"
        },
        {
          "output_type": "stream",
          "text": [
            " [elapsed time: 0:00:00] |**********************************| (ETA:  00:00:00) "
          ],
          "name": "stderr"
        },
        {
          "output_type": "stream",
          "text": [
            "Embedding images...\n",
            "Deleting clip_embeddings_train.npz from GDrive\n",
            "Data saved to clip_embeddings_train.npz\n",
            "Uploaded clip_embeddings_train.npz to https://drive.google.com/drive/u/1/folders/18CcWLV0mDi9Iuk7rFquHa1jRQ5VI0BSx\n",
            "5400/13233 images done\n",
            "Downloading clip_embeddings_train.npz from GDrive\n",
            "5400/13233 images done already\n",
            "Running for image indices 5400-5500.\n"
          ],
          "name": "stdout"
        },
        {
          "output_type": "stream",
          "text": [
            " [elapsed time: 0:00:00] |**********************************| (ETA:  00:00:00) "
          ],
          "name": "stderr"
        },
        {
          "output_type": "stream",
          "text": [
            "Embedding images...\n",
            "Deleting clip_embeddings_train.npz from GDrive\n",
            "Data saved to clip_embeddings_train.npz\n",
            "Uploaded clip_embeddings_train.npz to https://drive.google.com/drive/u/1/folders/18CcWLV0mDi9Iuk7rFquHa1jRQ5VI0BSx\n",
            "5500/13233 images done\n",
            "Downloading clip_embeddings_train.npz from GDrive\n",
            "5500/13233 images done already\n",
            "Running for image indices 5500-5600.\n"
          ],
          "name": "stdout"
        },
        {
          "output_type": "stream",
          "text": [
            " [elapsed time: 0:00:00] |**********************************| (ETA:  00:00:00) "
          ],
          "name": "stderr"
        },
        {
          "output_type": "stream",
          "text": [
            "Embedding images...\n",
            "Deleting clip_embeddings_train.npz from GDrive\n",
            "Data saved to clip_embeddings_train.npz\n",
            "Uploaded clip_embeddings_train.npz to https://drive.google.com/drive/u/1/folders/18CcWLV0mDi9Iuk7rFquHa1jRQ5VI0BSx\n",
            "5600/13233 images done\n",
            "Downloading clip_embeddings_train.npz from GDrive\n",
            "5600/13233 images done already\n",
            "Running for image indices 5600-5700.\n"
          ],
          "name": "stdout"
        },
        {
          "output_type": "stream",
          "text": [
            " [elapsed time: 0:00:00] |**********************************| (ETA:  00:00:00) "
          ],
          "name": "stderr"
        },
        {
          "output_type": "stream",
          "text": [
            "Embedding images...\n",
            "Deleting clip_embeddings_train.npz from GDrive\n",
            "Data saved to clip_embeddings_train.npz\n",
            "Uploaded clip_embeddings_train.npz to https://drive.google.com/drive/u/1/folders/18CcWLV0mDi9Iuk7rFquHa1jRQ5VI0BSx\n",
            "5700/13233 images done\n",
            "Downloading clip_embeddings_train.npz from GDrive\n",
            "5700/13233 images done already\n",
            "Running for image indices 5700-5800.\n"
          ],
          "name": "stdout"
        },
        {
          "output_type": "stream",
          "text": [
            " [elapsed time: 0:00:00] |**********************************| (ETA:  00:00:00) "
          ],
          "name": "stderr"
        },
        {
          "output_type": "stream",
          "text": [
            "Embedding images...\n",
            "Deleting clip_embeddings_train.npz from GDrive\n",
            "Data saved to clip_embeddings_train.npz\n",
            "Uploaded clip_embeddings_train.npz to https://drive.google.com/drive/u/1/folders/18CcWLV0mDi9Iuk7rFquHa1jRQ5VI0BSx\n",
            "5800/13233 images done\n",
            "Downloading clip_embeddings_train.npz from GDrive\n",
            "5800/13233 images done already\n",
            "Running for image indices 5800-5900.\n"
          ],
          "name": "stdout"
        },
        {
          "output_type": "stream",
          "text": [
            " [elapsed time: 0:00:00] |**********************************| (ETA:  00:00:00) "
          ],
          "name": "stderr"
        },
        {
          "output_type": "stream",
          "text": [
            "Embedding images...\n",
            "Deleting clip_embeddings_train.npz from GDrive\n",
            "Data saved to clip_embeddings_train.npz\n",
            "Uploaded clip_embeddings_train.npz to https://drive.google.com/drive/u/1/folders/18CcWLV0mDi9Iuk7rFquHa1jRQ5VI0BSx\n",
            "5900/13233 images done\n",
            "Downloading clip_embeddings_train.npz from GDrive\n",
            "5900/13233 images done already\n",
            "Running for image indices 5900-6000.\n"
          ],
          "name": "stdout"
        },
        {
          "output_type": "stream",
          "text": [
            " [elapsed time: 0:00:00] |**********************************| (ETA:  00:00:00) "
          ],
          "name": "stderr"
        },
        {
          "output_type": "stream",
          "text": [
            "Embedding images...\n",
            "Deleting clip_embeddings_train.npz from GDrive\n",
            "Data saved to clip_embeddings_train.npz\n",
            "Uploaded clip_embeddings_train.npz to https://drive.google.com/drive/u/1/folders/18CcWLV0mDi9Iuk7rFquHa1jRQ5VI0BSx\n",
            "6000/13233 images done\n",
            "Downloading clip_embeddings_train.npz from GDrive\n",
            "6000/13233 images done already\n",
            "Running for image indices 6000-6100.\n"
          ],
          "name": "stdout"
        },
        {
          "output_type": "stream",
          "text": [
            " [elapsed time: 0:00:00] |**********************************| (ETA:  00:00:00) "
          ],
          "name": "stderr"
        },
        {
          "output_type": "stream",
          "text": [
            "Embedding images...\n",
            "Deleting clip_embeddings_train.npz from GDrive\n",
            "Data saved to clip_embeddings_train.npz\n",
            "Uploaded clip_embeddings_train.npz to https://drive.google.com/drive/u/1/folders/18CcWLV0mDi9Iuk7rFquHa1jRQ5VI0BSx\n",
            "6100/13233 images done\n",
            "Downloading clip_embeddings_train.npz from GDrive\n",
            "6100/13233 images done already\n",
            "Running for image indices 6100-6200.\n"
          ],
          "name": "stdout"
        },
        {
          "output_type": "stream",
          "text": [
            " [elapsed time: 0:00:00] |**********************************| (ETA:  00:00:00) "
          ],
          "name": "stderr"
        },
        {
          "output_type": "stream",
          "text": [
            "Embedding images...\n",
            "Deleting clip_embeddings_train.npz from GDrive\n",
            "Data saved to clip_embeddings_train.npz\n",
            "Uploaded clip_embeddings_train.npz to https://drive.google.com/drive/u/1/folders/18CcWLV0mDi9Iuk7rFquHa1jRQ5VI0BSx\n",
            "6200/13233 images done\n",
            "Downloading clip_embeddings_train.npz from GDrive\n",
            "6200/13233 images done already\n",
            "Running for image indices 6200-6300.\n"
          ],
          "name": "stdout"
        },
        {
          "output_type": "stream",
          "text": [
            " [elapsed time: 0:00:00] |**********************************| (ETA:  00:00:00) "
          ],
          "name": "stderr"
        },
        {
          "output_type": "stream",
          "text": [
            "Embedding images...\n",
            "Deleting clip_embeddings_train.npz from GDrive\n",
            "Data saved to clip_embeddings_train.npz\n",
            "Uploaded clip_embeddings_train.npz to https://drive.google.com/drive/u/1/folders/18CcWLV0mDi9Iuk7rFquHa1jRQ5VI0BSx\n",
            "6300/13233 images done\n",
            "Downloading clip_embeddings_train.npz from GDrive\n",
            "6300/13233 images done already\n",
            "Running for image indices 6300-6400.\n"
          ],
          "name": "stdout"
        },
        {
          "output_type": "stream",
          "text": [
            " [elapsed time: 0:00:00] |**********************************| (ETA:  00:00:00) "
          ],
          "name": "stderr"
        },
        {
          "output_type": "stream",
          "text": [
            "Embedding images...\n",
            "Deleting clip_embeddings_train.npz from GDrive\n",
            "Data saved to clip_embeddings_train.npz\n",
            "Uploaded clip_embeddings_train.npz to https://drive.google.com/drive/u/1/folders/18CcWLV0mDi9Iuk7rFquHa1jRQ5VI0BSx\n",
            "6400/13233 images done\n",
            "Downloading clip_embeddings_train.npz from GDrive\n",
            "6400/13233 images done already\n",
            "Running for image indices 6400-6500.\n"
          ],
          "name": "stdout"
        },
        {
          "output_type": "stream",
          "text": [
            " [elapsed time: 0:00:00] |**********************************| (ETA:  00:00:00) "
          ],
          "name": "stderr"
        },
        {
          "output_type": "stream",
          "text": [
            "Embedding images...\n",
            "Deleting clip_embeddings_train.npz from GDrive\n",
            "Data saved to clip_embeddings_train.npz\n",
            "Uploaded clip_embeddings_train.npz to https://drive.google.com/drive/u/1/folders/18CcWLV0mDi9Iuk7rFquHa1jRQ5VI0BSx\n",
            "6500/13233 images done\n",
            "Downloading clip_embeddings_train.npz from GDrive\n",
            "6500/13233 images done already\n",
            "Running for image indices 6500-6600.\n"
          ],
          "name": "stdout"
        },
        {
          "output_type": "stream",
          "text": [
            " [elapsed time: 0:00:00] |**********************************| (ETA:  00:00:00) "
          ],
          "name": "stderr"
        },
        {
          "output_type": "stream",
          "text": [
            "Embedding images...\n",
            "Deleting clip_embeddings_train.npz from GDrive\n",
            "Data saved to clip_embeddings_train.npz\n",
            "Uploaded clip_embeddings_train.npz to https://drive.google.com/drive/u/1/folders/18CcWLV0mDi9Iuk7rFquHa1jRQ5VI0BSx\n",
            "6600/13233 images done\n",
            "Downloading clip_embeddings_train.npz from GDrive\n",
            "6600/13233 images done already\n",
            "Running for image indices 6600-6700.\n"
          ],
          "name": "stdout"
        },
        {
          "output_type": "stream",
          "text": [
            " [elapsed time: 0:00:00] |**********************************| (ETA:  00:00:00) "
          ],
          "name": "stderr"
        },
        {
          "output_type": "stream",
          "text": [
            "Embedding images...\n",
            "Deleting clip_embeddings_train.npz from GDrive\n",
            "Data saved to clip_embeddings_train.npz\n",
            "Uploaded clip_embeddings_train.npz to https://drive.google.com/drive/u/1/folders/18CcWLV0mDi9Iuk7rFquHa1jRQ5VI0BSx\n",
            "6700/13233 images done\n",
            "Downloading clip_embeddings_train.npz from GDrive\n",
            "6700/13233 images done already\n",
            "Running for image indices 6700-6800.\n"
          ],
          "name": "stdout"
        },
        {
          "output_type": "stream",
          "text": [
            " [elapsed time: 0:00:00] |**********************************| (ETA:  00:00:00) "
          ],
          "name": "stderr"
        },
        {
          "output_type": "stream",
          "text": [
            "Embedding images...\n",
            "Deleting clip_embeddings_train.npz from GDrive\n",
            "Data saved to clip_embeddings_train.npz\n",
            "Uploaded clip_embeddings_train.npz to https://drive.google.com/drive/u/1/folders/18CcWLV0mDi9Iuk7rFquHa1jRQ5VI0BSx\n",
            "6800/13233 images done\n",
            "Downloading clip_embeddings_train.npz from GDrive\n",
            "6800/13233 images done already\n",
            "Running for image indices 6800-6900.\n"
          ],
          "name": "stdout"
        },
        {
          "output_type": "stream",
          "text": [
            " [elapsed time: 0:00:00] |**********************************| (ETA:  00:00:00) "
          ],
          "name": "stderr"
        },
        {
          "output_type": "stream",
          "text": [
            "Embedding images...\n",
            "Deleting clip_embeddings_train.npz from GDrive\n",
            "Data saved to clip_embeddings_train.npz\n",
            "Uploaded clip_embeddings_train.npz to https://drive.google.com/drive/u/1/folders/18CcWLV0mDi9Iuk7rFquHa1jRQ5VI0BSx\n",
            "6900/13233 images done\n",
            "Downloading clip_embeddings_train.npz from GDrive\n",
            "6900/13233 images done already\n",
            "Running for image indices 6900-7000.\n"
          ],
          "name": "stdout"
        },
        {
          "output_type": "stream",
          "text": [
            " [elapsed time: 0:00:00] |**********************************| (ETA:  00:00:00) "
          ],
          "name": "stderr"
        },
        {
          "output_type": "stream",
          "text": [
            "Embedding images...\n",
            "Deleting clip_embeddings_train.npz from GDrive\n",
            "Data saved to clip_embeddings_train.npz\n",
            "Uploaded clip_embeddings_train.npz to https://drive.google.com/drive/u/1/folders/18CcWLV0mDi9Iuk7rFquHa1jRQ5VI0BSx\n",
            "7000/13233 images done\n",
            "Downloading clip_embeddings_train.npz from GDrive\n",
            "7000/13233 images done already\n",
            "Running for image indices 7000-7100.\n"
          ],
          "name": "stdout"
        },
        {
          "output_type": "stream",
          "text": [
            " [elapsed time: 0:00:00] |**********************************| (ETA:  00:00:00) "
          ],
          "name": "stderr"
        },
        {
          "output_type": "stream",
          "text": [
            "Embedding images...\n",
            "Deleting clip_embeddings_train.npz from GDrive\n",
            "Data saved to clip_embeddings_train.npz\n",
            "Uploaded clip_embeddings_train.npz to https://drive.google.com/drive/u/1/folders/18CcWLV0mDi9Iuk7rFquHa1jRQ5VI0BSx\n",
            "7100/13233 images done\n",
            "Downloading clip_embeddings_train.npz from GDrive\n",
            "7100/13233 images done already\n",
            "Running for image indices 7100-7200.\n"
          ],
          "name": "stdout"
        },
        {
          "output_type": "stream",
          "text": [
            " [elapsed time: 0:00:00] |**********************************| (ETA:  00:00:00) "
          ],
          "name": "stderr"
        },
        {
          "output_type": "stream",
          "text": [
            "Embedding images...\n",
            "Deleting clip_embeddings_train.npz from GDrive\n",
            "Data saved to clip_embeddings_train.npz\n",
            "Uploaded clip_embeddings_train.npz to https://drive.google.com/drive/u/1/folders/18CcWLV0mDi9Iuk7rFquHa1jRQ5VI0BSx\n",
            "7200/13233 images done\n",
            "Downloading clip_embeddings_train.npz from GDrive\n",
            "7200/13233 images done already\n",
            "Running for image indices 7200-7300.\n"
          ],
          "name": "stdout"
        },
        {
          "output_type": "stream",
          "text": [
            " [elapsed time: 0:00:00] |**********************************| (ETA:  00:00:00) "
          ],
          "name": "stderr"
        },
        {
          "output_type": "stream",
          "text": [
            "Embedding images...\n",
            "Deleting clip_embeddings_train.npz from GDrive\n",
            "Data saved to clip_embeddings_train.npz\n",
            "Uploaded clip_embeddings_train.npz to https://drive.google.com/drive/u/1/folders/18CcWLV0mDi9Iuk7rFquHa1jRQ5VI0BSx\n",
            "7300/13233 images done\n",
            "Downloading clip_embeddings_train.npz from GDrive\n",
            "7300/13233 images done already\n",
            "Running for image indices 7300-7400.\n"
          ],
          "name": "stdout"
        },
        {
          "output_type": "stream",
          "text": [
            " [elapsed time: 0:00:00] |**********************************| (ETA:  00:00:00) "
          ],
          "name": "stderr"
        },
        {
          "output_type": "stream",
          "text": [
            "Embedding images...\n",
            "Deleting clip_embeddings_train.npz from GDrive\n",
            "Data saved to clip_embeddings_train.npz\n",
            "Uploaded clip_embeddings_train.npz to https://drive.google.com/drive/u/1/folders/18CcWLV0mDi9Iuk7rFquHa1jRQ5VI0BSx\n",
            "7400/13233 images done\n",
            "Downloading clip_embeddings_train.npz from GDrive\n",
            "7400/13233 images done already\n",
            "Running for image indices 7400-7500.\n"
          ],
          "name": "stdout"
        },
        {
          "output_type": "stream",
          "text": [
            " [elapsed time: 0:00:00] |**********************************| (ETA:  00:00:00) "
          ],
          "name": "stderr"
        },
        {
          "output_type": "stream",
          "text": [
            "Embedding images...\n",
            "Deleting clip_embeddings_train.npz from GDrive\n",
            "Data saved to clip_embeddings_train.npz\n",
            "Uploaded clip_embeddings_train.npz to https://drive.google.com/drive/u/1/folders/18CcWLV0mDi9Iuk7rFquHa1jRQ5VI0BSx\n",
            "7500/13233 images done\n",
            "Downloading clip_embeddings_train.npz from GDrive\n",
            "7500/13233 images done already\n",
            "Running for image indices 7500-7600.\n"
          ],
          "name": "stdout"
        },
        {
          "output_type": "stream",
          "text": [
            " [elapsed time: 0:00:00] |**********************************| (ETA:  00:00:00) "
          ],
          "name": "stderr"
        },
        {
          "output_type": "stream",
          "text": [
            "Embedding images...\n",
            "Deleting clip_embeddings_train.npz from GDrive\n",
            "Data saved to clip_embeddings_train.npz\n",
            "Uploaded clip_embeddings_train.npz to https://drive.google.com/drive/u/1/folders/18CcWLV0mDi9Iuk7rFquHa1jRQ5VI0BSx\n",
            "7600/13233 images done\n",
            "Downloading clip_embeddings_train.npz from GDrive\n",
            "7600/13233 images done already\n",
            "Running for image indices 7600-7700.\n"
          ],
          "name": "stdout"
        },
        {
          "output_type": "stream",
          "text": [
            " [elapsed time: 0:00:00] |**********************************| (ETA:  00:00:00) "
          ],
          "name": "stderr"
        },
        {
          "output_type": "stream",
          "text": [
            "Embedding images...\n",
            "Deleting clip_embeddings_train.npz from GDrive\n",
            "Data saved to clip_embeddings_train.npz\n",
            "Uploaded clip_embeddings_train.npz to https://drive.google.com/drive/u/1/folders/18CcWLV0mDi9Iuk7rFquHa1jRQ5VI0BSx\n",
            "7700/13233 images done\n",
            "Downloading clip_embeddings_train.npz from GDrive\n",
            "7700/13233 images done already\n",
            "Running for image indices 7700-7800.\n"
          ],
          "name": "stdout"
        },
        {
          "output_type": "stream",
          "text": [
            " [elapsed time: 0:00:00] |**********************************| (ETA:  00:00:00) "
          ],
          "name": "stderr"
        },
        {
          "output_type": "stream",
          "text": [
            "Embedding images...\n",
            "Deleting clip_embeddings_train.npz from GDrive\n",
            "Data saved to clip_embeddings_train.npz\n",
            "Uploaded clip_embeddings_train.npz to https://drive.google.com/drive/u/1/folders/18CcWLV0mDi9Iuk7rFquHa1jRQ5VI0BSx\n",
            "7800/13233 images done\n",
            "Downloading clip_embeddings_train.npz from GDrive\n",
            "7800/13233 images done already\n",
            "Running for image indices 7800-7900.\n"
          ],
          "name": "stdout"
        },
        {
          "output_type": "stream",
          "text": [
            " [elapsed time: 0:00:00] |**********************************| (ETA:  00:00:00) "
          ],
          "name": "stderr"
        },
        {
          "output_type": "stream",
          "text": [
            "Embedding images...\n",
            "Deleting clip_embeddings_train.npz from GDrive\n",
            "Data saved to clip_embeddings_train.npz\n",
            "Uploaded clip_embeddings_train.npz to https://drive.google.com/drive/u/1/folders/18CcWLV0mDi9Iuk7rFquHa1jRQ5VI0BSx\n",
            "7900/13233 images done\n",
            "Downloading clip_embeddings_train.npz from GDrive\n",
            "7900/13233 images done already\n",
            "Running for image indices 7900-8000.\n"
          ],
          "name": "stdout"
        },
        {
          "output_type": "stream",
          "text": [
            " [elapsed time: 0:00:00] |**********************************| (ETA:  00:00:00) "
          ],
          "name": "stderr"
        },
        {
          "output_type": "stream",
          "text": [
            "Embedding images...\n",
            "Deleting clip_embeddings_train.npz from GDrive\n",
            "Data saved to clip_embeddings_train.npz\n",
            "Uploaded clip_embeddings_train.npz to https://drive.google.com/drive/u/1/folders/18CcWLV0mDi9Iuk7rFquHa1jRQ5VI0BSx\n",
            "8000/13233 images done\n",
            "Downloading clip_embeddings_train.npz from GDrive\n",
            "8000/13233 images done already\n",
            "Running for image indices 8000-8100.\n"
          ],
          "name": "stdout"
        },
        {
          "output_type": "stream",
          "text": [
            " [elapsed time: 0:00:00] |**********************************| (ETA:  00:00:00) "
          ],
          "name": "stderr"
        },
        {
          "output_type": "stream",
          "text": [
            "Embedding images...\n",
            "Deleting clip_embeddings_train.npz from GDrive\n",
            "Data saved to clip_embeddings_train.npz\n",
            "Uploaded clip_embeddings_train.npz to https://drive.google.com/drive/u/1/folders/18CcWLV0mDi9Iuk7rFquHa1jRQ5VI0BSx\n",
            "8100/13233 images done\n",
            "Downloading clip_embeddings_train.npz from GDrive\n",
            "8100/13233 images done already\n",
            "Running for image indices 8100-8200.\n"
          ],
          "name": "stdout"
        },
        {
          "output_type": "stream",
          "text": [
            " [elapsed time: 0:00:00] |**********************************| (ETA:  00:00:00) "
          ],
          "name": "stderr"
        },
        {
          "output_type": "stream",
          "text": [
            "Embedding images...\n",
            "Deleting clip_embeddings_train.npz from GDrive\n",
            "Data saved to clip_embeddings_train.npz\n",
            "Uploaded clip_embeddings_train.npz to https://drive.google.com/drive/u/1/folders/18CcWLV0mDi9Iuk7rFquHa1jRQ5VI0BSx\n",
            "8200/13233 images done\n",
            "Downloading clip_embeddings_train.npz from GDrive\n",
            "8200/13233 images done already\n",
            "Running for image indices 8200-8300.\n"
          ],
          "name": "stdout"
        },
        {
          "output_type": "stream",
          "text": [
            " [elapsed time: 0:00:00] |**********************************| (ETA:  00:00:00) "
          ],
          "name": "stderr"
        },
        {
          "output_type": "stream",
          "text": [
            "Embedding images...\n",
            "Deleting clip_embeddings_train.npz from GDrive\n",
            "Data saved to clip_embeddings_train.npz\n",
            "Uploaded clip_embeddings_train.npz to https://drive.google.com/drive/u/1/folders/18CcWLV0mDi9Iuk7rFquHa1jRQ5VI0BSx\n",
            "8300/13233 images done\n",
            "Downloading clip_embeddings_train.npz from GDrive\n",
            "8300/13233 images done already\n",
            "Running for image indices 8300-8400.\n"
          ],
          "name": "stdout"
        },
        {
          "output_type": "stream",
          "text": [
            " [elapsed time: 0:00:00] |**********************************| (ETA:  00:00:00) "
          ],
          "name": "stderr"
        },
        {
          "output_type": "stream",
          "text": [
            "Embedding images...\n",
            "Deleting clip_embeddings_train.npz from GDrive\n",
            "Data saved to clip_embeddings_train.npz\n",
            "Uploaded clip_embeddings_train.npz to https://drive.google.com/drive/u/1/folders/18CcWLV0mDi9Iuk7rFquHa1jRQ5VI0BSx\n",
            "8400/13233 images done\n",
            "Downloading clip_embeddings_train.npz from GDrive\n",
            "8400/13233 images done already\n",
            "Running for image indices 8400-8500.\n"
          ],
          "name": "stdout"
        },
        {
          "output_type": "stream",
          "text": [
            " [elapsed time: 0:00:00] |**********************************| (ETA:  00:00:00) "
          ],
          "name": "stderr"
        },
        {
          "output_type": "stream",
          "text": [
            "Embedding images...\n",
            "Deleting clip_embeddings_train.npz from GDrive\n",
            "Data saved to clip_embeddings_train.npz\n",
            "Uploaded clip_embeddings_train.npz to https://drive.google.com/drive/u/1/folders/18CcWLV0mDi9Iuk7rFquHa1jRQ5VI0BSx\n",
            "8500/13233 images done\n",
            "Downloading clip_embeddings_train.npz from GDrive\n",
            "8500/13233 images done already\n",
            "Running for image indices 8500-8600.\n"
          ],
          "name": "stdout"
        },
        {
          "output_type": "stream",
          "text": [
            " [elapsed time: 0:00:00] |**********************************| (ETA:  00:00:00) "
          ],
          "name": "stderr"
        },
        {
          "output_type": "stream",
          "text": [
            "Embedding images...\n",
            "Deleting clip_embeddings_train.npz from GDrive\n",
            "Data saved to clip_embeddings_train.npz\n",
            "Uploaded clip_embeddings_train.npz to https://drive.google.com/drive/u/1/folders/18CcWLV0mDi9Iuk7rFquHa1jRQ5VI0BSx\n",
            "8600/13233 images done\n",
            "Downloading clip_embeddings_train.npz from GDrive\n",
            "8600/13233 images done already\n",
            "Running for image indices 8600-8700.\n"
          ],
          "name": "stdout"
        },
        {
          "output_type": "stream",
          "text": [
            " [elapsed time: 0:00:00] |**********************************| (ETA:  00:00:00) "
          ],
          "name": "stderr"
        },
        {
          "output_type": "stream",
          "text": [
            "Embedding images...\n",
            "Deleting clip_embeddings_train.npz from GDrive\n",
            "Data saved to clip_embeddings_train.npz\n",
            "Uploaded clip_embeddings_train.npz to https://drive.google.com/drive/u/1/folders/18CcWLV0mDi9Iuk7rFquHa1jRQ5VI0BSx\n",
            "8700/13233 images done\n",
            "Downloading clip_embeddings_train.npz from GDrive\n",
            "8700/13233 images done already\n",
            "Running for image indices 8700-8800.\n"
          ],
          "name": "stdout"
        },
        {
          "output_type": "stream",
          "text": [
            " [elapsed time: 0:00:00] |**********************************| (ETA:  00:00:00) "
          ],
          "name": "stderr"
        },
        {
          "output_type": "stream",
          "text": [
            "Embedding images...\n",
            "Deleting clip_embeddings_train.npz from GDrive\n",
            "Data saved to clip_embeddings_train.npz\n",
            "Uploaded clip_embeddings_train.npz to https://drive.google.com/drive/u/1/folders/18CcWLV0mDi9Iuk7rFquHa1jRQ5VI0BSx\n",
            "8800/13233 images done\n",
            "Downloading clip_embeddings_train.npz from GDrive\n",
            "8800/13233 images done already\n",
            "Running for image indices 8800-8900.\n"
          ],
          "name": "stdout"
        },
        {
          "output_type": "stream",
          "text": [
            " [elapsed time: 0:00:00] |**********************************| (ETA:  00:00:00) "
          ],
          "name": "stderr"
        },
        {
          "output_type": "stream",
          "text": [
            "Embedding images...\n",
            "Deleting clip_embeddings_train.npz from GDrive\n",
            "Data saved to clip_embeddings_train.npz\n",
            "Uploaded clip_embeddings_train.npz to https://drive.google.com/drive/u/1/folders/18CcWLV0mDi9Iuk7rFquHa1jRQ5VI0BSx\n",
            "8900/13233 images done\n",
            "Downloading clip_embeddings_train.npz from GDrive\n",
            "8900/13233 images done already\n",
            "Running for image indices 8900-9000.\n"
          ],
          "name": "stdout"
        },
        {
          "output_type": "stream",
          "text": [
            " [elapsed time: 0:00:00] |**********************************| (ETA:  00:00:00) "
          ],
          "name": "stderr"
        },
        {
          "output_type": "stream",
          "text": [
            "Embedding images...\n",
            "Deleting clip_embeddings_train.npz from GDrive\n",
            "Data saved to clip_embeddings_train.npz\n",
            "Uploaded clip_embeddings_train.npz to https://drive.google.com/drive/u/1/folders/18CcWLV0mDi9Iuk7rFquHa1jRQ5VI0BSx\n",
            "9000/13233 images done\n",
            "Downloading clip_embeddings_train.npz from GDrive\n",
            "9000/13233 images done already\n",
            "Running for image indices 9000-9100.\n"
          ],
          "name": "stdout"
        },
        {
          "output_type": "stream",
          "text": [
            " [elapsed time: 0:00:00] |**********************************| (ETA:  00:00:00) "
          ],
          "name": "stderr"
        },
        {
          "output_type": "stream",
          "text": [
            "Embedding images...\n",
            "Deleting clip_embeddings_train.npz from GDrive\n",
            "Data saved to clip_embeddings_train.npz\n",
            "Uploaded clip_embeddings_train.npz to https://drive.google.com/drive/u/1/folders/18CcWLV0mDi9Iuk7rFquHa1jRQ5VI0BSx\n",
            "9100/13233 images done\n",
            "Downloading clip_embeddings_train.npz from GDrive\n",
            "9100/13233 images done already\n",
            "Running for image indices 9100-9200.\n"
          ],
          "name": "stdout"
        },
        {
          "output_type": "stream",
          "text": [
            " [elapsed time: 0:00:00] |**********************************| (ETA:  00:00:00) "
          ],
          "name": "stderr"
        },
        {
          "output_type": "stream",
          "text": [
            "Embedding images...\n",
            "Deleting clip_embeddings_train.npz from GDrive\n",
            "Data saved to clip_embeddings_train.npz\n",
            "Uploaded clip_embeddings_train.npz to https://drive.google.com/drive/u/1/folders/18CcWLV0mDi9Iuk7rFquHa1jRQ5VI0BSx\n",
            "9200/13233 images done\n",
            "Downloading clip_embeddings_train.npz from GDrive\n",
            "9200/13233 images done already\n",
            "Running for image indices 9200-9300.\n"
          ],
          "name": "stdout"
        },
        {
          "output_type": "stream",
          "text": [
            " [elapsed time: 0:00:00] |**********************************| (ETA:  00:00:00) "
          ],
          "name": "stderr"
        },
        {
          "output_type": "stream",
          "text": [
            "Embedding images...\n",
            "Deleting clip_embeddings_train.npz from GDrive\n",
            "Data saved to clip_embeddings_train.npz\n",
            "Uploaded clip_embeddings_train.npz to https://drive.google.com/drive/u/1/folders/18CcWLV0mDi9Iuk7rFquHa1jRQ5VI0BSx\n",
            "9300/13233 images done\n",
            "Downloading clip_embeddings_train.npz from GDrive\n",
            "9300/13233 images done already\n",
            "Running for image indices 9300-9400.\n"
          ],
          "name": "stdout"
        },
        {
          "output_type": "stream",
          "text": [
            " [elapsed time: 0:00:00] |**********************************| (ETA:  00:00:00) "
          ],
          "name": "stderr"
        },
        {
          "output_type": "stream",
          "text": [
            "Embedding images...\n",
            "Deleting clip_embeddings_train.npz from GDrive\n",
            "Data saved to clip_embeddings_train.npz\n",
            "Uploaded clip_embeddings_train.npz to https://drive.google.com/drive/u/1/folders/18CcWLV0mDi9Iuk7rFquHa1jRQ5VI0BSx\n",
            "9400/13233 images done\n",
            "Downloading clip_embeddings_train.npz from GDrive\n",
            "9400/13233 images done already\n",
            "Running for image indices 9400-9500.\n"
          ],
          "name": "stdout"
        },
        {
          "output_type": "stream",
          "text": [
            " [elapsed time: 0:00:00] |**********************************| (ETA:  00:00:00) "
          ],
          "name": "stderr"
        },
        {
          "output_type": "stream",
          "text": [
            "Embedding images...\n",
            "Deleting clip_embeddings_train.npz from GDrive\n",
            "Data saved to clip_embeddings_train.npz\n",
            "Uploaded clip_embeddings_train.npz to https://drive.google.com/drive/u/1/folders/18CcWLV0mDi9Iuk7rFquHa1jRQ5VI0BSx\n",
            "9500/13233 images done\n",
            "Downloading clip_embeddings_train.npz from GDrive\n",
            "9500/13233 images done already\n",
            "Running for image indices 9500-9600.\n"
          ],
          "name": "stdout"
        },
        {
          "output_type": "stream",
          "text": [
            " [elapsed time: 0:00:00] |**********************************| (ETA:  00:00:00) "
          ],
          "name": "stderr"
        },
        {
          "output_type": "stream",
          "text": [
            "Embedding images...\n",
            "Deleting clip_embeddings_train.npz from GDrive\n",
            "Data saved to clip_embeddings_train.npz\n",
            "Uploaded clip_embeddings_train.npz to https://drive.google.com/drive/u/1/folders/18CcWLV0mDi9Iuk7rFquHa1jRQ5VI0BSx\n",
            "9600/13233 images done\n",
            "Downloading clip_embeddings_train.npz from GDrive\n",
            "9600/13233 images done already\n",
            "Running for image indices 9600-9700.\n"
          ],
          "name": "stdout"
        },
        {
          "output_type": "stream",
          "text": [
            " [elapsed time: 0:00:00] |**********************************| (ETA:  00:00:00) "
          ],
          "name": "stderr"
        },
        {
          "output_type": "stream",
          "text": [
            "Embedding images...\n",
            "Deleting clip_embeddings_train.npz from GDrive\n",
            "Data saved to clip_embeddings_train.npz\n",
            "Uploaded clip_embeddings_train.npz to https://drive.google.com/drive/u/1/folders/18CcWLV0mDi9Iuk7rFquHa1jRQ5VI0BSx\n",
            "9700/13233 images done\n",
            "Downloading clip_embeddings_train.npz from GDrive\n",
            "9700/13233 images done already\n",
            "Running for image indices 9700-9800.\n"
          ],
          "name": "stdout"
        },
        {
          "output_type": "stream",
          "text": [
            " [elapsed time: 0:00:00] |**********************************| (ETA:  00:00:00) "
          ],
          "name": "stderr"
        },
        {
          "output_type": "stream",
          "text": [
            "Embedding images...\n",
            "Deleting clip_embeddings_train.npz from GDrive\n",
            "Data saved to clip_embeddings_train.npz\n",
            "Uploaded clip_embeddings_train.npz to https://drive.google.com/drive/u/1/folders/18CcWLV0mDi9Iuk7rFquHa1jRQ5VI0BSx\n",
            "9800/13233 images done\n",
            "Downloading clip_embeddings_train.npz from GDrive\n",
            "9800/13233 images done already\n",
            "Running for image indices 9800-9900.\n"
          ],
          "name": "stdout"
        },
        {
          "output_type": "stream",
          "text": [
            " [elapsed time: 0:00:00] |**********************************| (ETA:  00:00:00) "
          ],
          "name": "stderr"
        },
        {
          "output_type": "stream",
          "text": [
            "Embedding images...\n",
            "Deleting clip_embeddings_train.npz from GDrive\n",
            "Data saved to clip_embeddings_train.npz\n",
            "Uploaded clip_embeddings_train.npz to https://drive.google.com/drive/u/1/folders/18CcWLV0mDi9Iuk7rFquHa1jRQ5VI0BSx\n",
            "9900/13233 images done\n",
            "Downloading clip_embeddings_train.npz from GDrive\n",
            "9900/13233 images done already\n",
            "Running for image indices 9900-10000.\n"
          ],
          "name": "stdout"
        },
        {
          "output_type": "stream",
          "text": [
            " [elapsed time: 0:00:00] |**********************************| (ETA:  00:00:00) "
          ],
          "name": "stderr"
        },
        {
          "output_type": "stream",
          "text": [
            "Embedding images...\n",
            "Deleting clip_embeddings_train.npz from GDrive\n",
            "Data saved to clip_embeddings_train.npz\n",
            "Uploaded clip_embeddings_train.npz to https://drive.google.com/drive/u/1/folders/18CcWLV0mDi9Iuk7rFquHa1jRQ5VI0BSx\n",
            "10000/13233 images done\n",
            "Downloading clip_embeddings_train.npz from GDrive\n",
            "10000/13233 images done already\n",
            "Running for image indices 10000-10100.\n"
          ],
          "name": "stdout"
        },
        {
          "output_type": "stream",
          "text": [
            " [elapsed time: 0:00:00] |**********************************| (ETA:  00:00:00) "
          ],
          "name": "stderr"
        },
        {
          "output_type": "stream",
          "text": [
            "Embedding images...\n",
            "Deleting clip_embeddings_train.npz from GDrive\n",
            "Data saved to clip_embeddings_train.npz\n",
            "Uploaded clip_embeddings_train.npz to https://drive.google.com/drive/u/1/folders/18CcWLV0mDi9Iuk7rFquHa1jRQ5VI0BSx\n",
            "10100/13233 images done\n",
            "Downloading clip_embeddings_train.npz from GDrive\n",
            "10100/13233 images done already\n",
            "Running for image indices 10100-10200.\n"
          ],
          "name": "stdout"
        },
        {
          "output_type": "stream",
          "text": [
            " [elapsed time: 0:00:00] |**********************************| (ETA:  00:00:00) "
          ],
          "name": "stderr"
        },
        {
          "output_type": "stream",
          "text": [
            "Embedding images...\n",
            "Deleting clip_embeddings_train.npz from GDrive\n",
            "Data saved to clip_embeddings_train.npz\n",
            "Uploaded clip_embeddings_train.npz to https://drive.google.com/drive/u/1/folders/18CcWLV0mDi9Iuk7rFquHa1jRQ5VI0BSx\n",
            "10200/13233 images done\n",
            "Downloading clip_embeddings_train.npz from GDrive\n",
            "10200/13233 images done already\n",
            "Running for image indices 10200-10300.\n"
          ],
          "name": "stdout"
        },
        {
          "output_type": "stream",
          "text": [
            " [elapsed time: 0:00:00] |**********************************| (ETA:  00:00:00) "
          ],
          "name": "stderr"
        },
        {
          "output_type": "stream",
          "text": [
            "Embedding images...\n",
            "Deleting clip_embeddings_train.npz from GDrive\n",
            "Data saved to clip_embeddings_train.npz\n",
            "Uploaded clip_embeddings_train.npz to https://drive.google.com/drive/u/1/folders/18CcWLV0mDi9Iuk7rFquHa1jRQ5VI0BSx\n",
            "10300/13233 images done\n",
            "Downloading clip_embeddings_train.npz from GDrive\n",
            "10300/13233 images done already\n",
            "Running for image indices 10300-10400.\n"
          ],
          "name": "stdout"
        },
        {
          "output_type": "stream",
          "text": [
            " [elapsed time: 0:00:00] |**********************************| (ETA:  00:00:00) "
          ],
          "name": "stderr"
        },
        {
          "output_type": "stream",
          "text": [
            "Embedding images...\n",
            "Deleting clip_embeddings_train.npz from GDrive\n",
            "Data saved to clip_embeddings_train.npz\n",
            "Uploaded clip_embeddings_train.npz to https://drive.google.com/drive/u/1/folders/18CcWLV0mDi9Iuk7rFquHa1jRQ5VI0BSx\n",
            "10400/13233 images done\n",
            "Downloading clip_embeddings_train.npz from GDrive\n",
            "10400/13233 images done already\n",
            "Running for image indices 10400-10500.\n"
          ],
          "name": "stdout"
        },
        {
          "output_type": "stream",
          "text": [
            " [elapsed time: 0:00:00] |**********************************| (ETA:  00:00:00) "
          ],
          "name": "stderr"
        },
        {
          "output_type": "stream",
          "text": [
            "Embedding images...\n",
            "Deleting clip_embeddings_train.npz from GDrive\n",
            "Data saved to clip_embeddings_train.npz\n",
            "Uploaded clip_embeddings_train.npz to https://drive.google.com/drive/u/1/folders/18CcWLV0mDi9Iuk7rFquHa1jRQ5VI0BSx\n",
            "10500/13233 images done\n",
            "Downloading clip_embeddings_train.npz from GDrive\n",
            "10500/13233 images done already\n",
            "Running for image indices 10500-10600.\n"
          ],
          "name": "stdout"
        },
        {
          "output_type": "stream",
          "text": [
            " [elapsed time: 0:00:00] |**********************************| (ETA:  00:00:00) "
          ],
          "name": "stderr"
        },
        {
          "output_type": "stream",
          "text": [
            "Embedding images...\n",
            "Deleting clip_embeddings_train.npz from GDrive\n",
            "Data saved to clip_embeddings_train.npz\n",
            "Uploaded clip_embeddings_train.npz to https://drive.google.com/drive/u/1/folders/18CcWLV0mDi9Iuk7rFquHa1jRQ5VI0BSx\n",
            "10600/13233 images done\n",
            "Downloading clip_embeddings_train.npz from GDrive\n",
            "10600/13233 images done already\n",
            "Running for image indices 10600-10700.\n"
          ],
          "name": "stdout"
        },
        {
          "output_type": "stream",
          "text": [
            " [elapsed time: 0:00:00] |**********************************| (ETA:  00:00:00) "
          ],
          "name": "stderr"
        },
        {
          "output_type": "stream",
          "text": [
            "Embedding images...\n",
            "Deleting clip_embeddings_train.npz from GDrive\n",
            "Data saved to clip_embeddings_train.npz\n",
            "Uploaded clip_embeddings_train.npz to https://drive.google.com/drive/u/1/folders/18CcWLV0mDi9Iuk7rFquHa1jRQ5VI0BSx\n",
            "10700/13233 images done\n",
            "Downloading clip_embeddings_train.npz from GDrive\n",
            "10700/13233 images done already\n",
            "Running for image indices 10700-10800.\n"
          ],
          "name": "stdout"
        },
        {
          "output_type": "stream",
          "text": [
            " [elapsed time: 0:00:00] |**********************************| (ETA:  00:00:00) "
          ],
          "name": "stderr"
        },
        {
          "output_type": "stream",
          "text": [
            "Embedding images...\n",
            "Deleting clip_embeddings_train.npz from GDrive\n",
            "Data saved to clip_embeddings_train.npz\n",
            "Uploaded clip_embeddings_train.npz to https://drive.google.com/drive/u/1/folders/18CcWLV0mDi9Iuk7rFquHa1jRQ5VI0BSx\n",
            "10800/13233 images done\n",
            "Downloading clip_embeddings_train.npz from GDrive\n",
            "10800/13233 images done already\n",
            "Running for image indices 10800-10900.\n"
          ],
          "name": "stdout"
        },
        {
          "output_type": "stream",
          "text": [
            " [elapsed time: 0:00:00] |**********************************| (ETA:  00:00:00) "
          ],
          "name": "stderr"
        },
        {
          "output_type": "stream",
          "text": [
            "Embedding images...\n",
            "Deleting clip_embeddings_train.npz from GDrive\n",
            "Data saved to clip_embeddings_train.npz\n",
            "Uploaded clip_embeddings_train.npz to https://drive.google.com/drive/u/1/folders/18CcWLV0mDi9Iuk7rFquHa1jRQ5VI0BSx\n",
            "10900/13233 images done\n",
            "Downloading clip_embeddings_train.npz from GDrive\n",
            "10900/13233 images done already\n",
            "Running for image indices 10900-11000.\n"
          ],
          "name": "stdout"
        },
        {
          "output_type": "stream",
          "text": [
            " [elapsed time: 0:00:00] |**********************************| (ETA:  00:00:00) "
          ],
          "name": "stderr"
        },
        {
          "output_type": "stream",
          "text": [
            "Embedding images...\n",
            "Deleting clip_embeddings_train.npz from GDrive\n",
            "Data saved to clip_embeddings_train.npz\n",
            "Uploaded clip_embeddings_train.npz to https://drive.google.com/drive/u/1/folders/18CcWLV0mDi9Iuk7rFquHa1jRQ5VI0BSx\n",
            "11000/13233 images done\n",
            "Downloading clip_embeddings_train.npz from GDrive\n",
            "11000/13233 images done already\n",
            "Running for image indices 11000-11100.\n"
          ],
          "name": "stdout"
        },
        {
          "output_type": "stream",
          "text": [
            " [elapsed time: 0:00:00] |**********************************| (ETA:  00:00:00) "
          ],
          "name": "stderr"
        },
        {
          "output_type": "stream",
          "text": [
            "Embedding images...\n",
            "Deleting clip_embeddings_train.npz from GDrive\n",
            "Data saved to clip_embeddings_train.npz\n",
            "Uploaded clip_embeddings_train.npz to https://drive.google.com/drive/u/1/folders/18CcWLV0mDi9Iuk7rFquHa1jRQ5VI0BSx\n",
            "11100/13233 images done\n",
            "Downloading clip_embeddings_train.npz from GDrive\n",
            "11100/13233 images done already\n",
            "Running for image indices 11100-11200.\n"
          ],
          "name": "stdout"
        },
        {
          "output_type": "stream",
          "text": [
            " [elapsed time: 0:00:00] |**********************************| (ETA:  00:00:00) "
          ],
          "name": "stderr"
        },
        {
          "output_type": "stream",
          "text": [
            "Embedding images...\n",
            "Deleting clip_embeddings_train.npz from GDrive\n",
            "Data saved to clip_embeddings_train.npz\n",
            "Uploaded clip_embeddings_train.npz to https://drive.google.com/drive/u/1/folders/18CcWLV0mDi9Iuk7rFquHa1jRQ5VI0BSx\n",
            "11200/13233 images done\n",
            "Downloading clip_embeddings_train.npz from GDrive\n",
            "11200/13233 images done already\n",
            "Running for image indices 11200-11300.\n"
          ],
          "name": "stdout"
        },
        {
          "output_type": "stream",
          "text": [
            " [elapsed time: 0:00:00] |**********************************| (ETA:  00:00:00) "
          ],
          "name": "stderr"
        },
        {
          "output_type": "stream",
          "text": [
            "Embedding images...\n",
            "Deleting clip_embeddings_train.npz from GDrive\n",
            "Data saved to clip_embeddings_train.npz\n",
            "Uploaded clip_embeddings_train.npz to https://drive.google.com/drive/u/1/folders/18CcWLV0mDi9Iuk7rFquHa1jRQ5VI0BSx\n",
            "11300/13233 images done\n",
            "Downloading clip_embeddings_train.npz from GDrive\n",
            "11300/13233 images done already\n",
            "Running for image indices 11300-11400.\n"
          ],
          "name": "stdout"
        },
        {
          "output_type": "stream",
          "text": [
            " [elapsed time: 0:00:00] |**********************************| (ETA:  00:00:00) "
          ],
          "name": "stderr"
        },
        {
          "output_type": "stream",
          "text": [
            "Embedding images...\n",
            "Deleting clip_embeddings_train.npz from GDrive\n",
            "Data saved to clip_embeddings_train.npz\n",
            "Uploaded clip_embeddings_train.npz to https://drive.google.com/drive/u/1/folders/18CcWLV0mDi9Iuk7rFquHa1jRQ5VI0BSx\n",
            "11400/13233 images done\n",
            "Downloading clip_embeddings_train.npz from GDrive\n",
            "11400/13233 images done already\n",
            "Running for image indices 11400-11500.\n"
          ],
          "name": "stdout"
        },
        {
          "output_type": "stream",
          "text": [
            " [elapsed time: 0:00:00] |**********************************| (ETA:  00:00:00) "
          ],
          "name": "stderr"
        },
        {
          "output_type": "stream",
          "text": [
            "Embedding images...\n",
            "Deleting clip_embeddings_train.npz from GDrive\n",
            "Data saved to clip_embeddings_train.npz\n",
            "Uploaded clip_embeddings_train.npz to https://drive.google.com/drive/u/1/folders/18CcWLV0mDi9Iuk7rFquHa1jRQ5VI0BSx\n",
            "11500/13233 images done\n",
            "Downloading clip_embeddings_train.npz from GDrive\n",
            "11500/13233 images done already\n",
            "Running for image indices 11500-11600.\n"
          ],
          "name": "stdout"
        },
        {
          "output_type": "stream",
          "text": [
            " [elapsed time: 0:00:00] |**********************************| (ETA:  00:00:00) "
          ],
          "name": "stderr"
        },
        {
          "output_type": "stream",
          "text": [
            "Embedding images...\n",
            "Deleting clip_embeddings_train.npz from GDrive\n",
            "Data saved to clip_embeddings_train.npz\n",
            "Uploaded clip_embeddings_train.npz to https://drive.google.com/drive/u/1/folders/18CcWLV0mDi9Iuk7rFquHa1jRQ5VI0BSx\n",
            "11600/13233 images done\n",
            "Downloading clip_embeddings_train.npz from GDrive\n",
            "11600/13233 images done already\n",
            "Running for image indices 11600-11700.\n"
          ],
          "name": "stdout"
        },
        {
          "output_type": "stream",
          "text": [
            " [elapsed time: 0:00:00] |**********************************| (ETA:  00:00:00) "
          ],
          "name": "stderr"
        },
        {
          "output_type": "stream",
          "text": [
            "Embedding images...\n",
            "Deleting clip_embeddings_train.npz from GDrive\n",
            "Data saved to clip_embeddings_train.npz\n",
            "Uploaded clip_embeddings_train.npz to https://drive.google.com/drive/u/1/folders/18CcWLV0mDi9Iuk7rFquHa1jRQ5VI0BSx\n",
            "11700/13233 images done\n",
            "Downloading clip_embeddings_train.npz from GDrive\n",
            "11700/13233 images done already\n",
            "Running for image indices 11700-11800.\n"
          ],
          "name": "stdout"
        },
        {
          "output_type": "stream",
          "text": [
            " [elapsed time: 0:00:00] |**********************************| (ETA:  00:00:00) "
          ],
          "name": "stderr"
        },
        {
          "output_type": "stream",
          "text": [
            "Embedding images...\n",
            "Deleting clip_embeddings_train.npz from GDrive\n",
            "Data saved to clip_embeddings_train.npz\n",
            "Uploaded clip_embeddings_train.npz to https://drive.google.com/drive/u/1/folders/18CcWLV0mDi9Iuk7rFquHa1jRQ5VI0BSx\n",
            "11800/13233 images done\n",
            "Downloading clip_embeddings_train.npz from GDrive\n",
            "11800/13233 images done already\n",
            "Running for image indices 11800-11900.\n"
          ],
          "name": "stdout"
        },
        {
          "output_type": "stream",
          "text": [
            " [elapsed time: 0:00:00] |**********************************| (ETA:  00:00:00) "
          ],
          "name": "stderr"
        },
        {
          "output_type": "stream",
          "text": [
            "Embedding images...\n",
            "Deleting clip_embeddings_train.npz from GDrive\n",
            "Data saved to clip_embeddings_train.npz\n",
            "Uploaded clip_embeddings_train.npz to https://drive.google.com/drive/u/1/folders/18CcWLV0mDi9Iuk7rFquHa1jRQ5VI0BSx\n",
            "11900/13233 images done\n",
            "Downloading clip_embeddings_train.npz from GDrive\n",
            "11900/13233 images done already\n",
            "Running for image indices 11900-12000.\n"
          ],
          "name": "stdout"
        },
        {
          "output_type": "stream",
          "text": [
            " [elapsed time: 0:00:00] |**********************************| (ETA:  00:00:00) "
          ],
          "name": "stderr"
        },
        {
          "output_type": "stream",
          "text": [
            "Embedding images...\n",
            "Deleting clip_embeddings_train.npz from GDrive\n",
            "Data saved to clip_embeddings_train.npz\n",
            "Uploaded clip_embeddings_train.npz to https://drive.google.com/drive/u/1/folders/18CcWLV0mDi9Iuk7rFquHa1jRQ5VI0BSx\n",
            "12000/13233 images done\n",
            "Downloading clip_embeddings_train.npz from GDrive\n",
            "12000/13233 images done already\n",
            "Running for image indices 12000-12100.\n"
          ],
          "name": "stdout"
        },
        {
          "output_type": "stream",
          "text": [
            " [elapsed time: 0:00:00] |**********************************| (ETA:  00:00:00) "
          ],
          "name": "stderr"
        },
        {
          "output_type": "stream",
          "text": [
            "Embedding images...\n",
            "Deleting clip_embeddings_train.npz from GDrive\n",
            "Data saved to clip_embeddings_train.npz\n",
            "Uploaded clip_embeddings_train.npz to https://drive.google.com/drive/u/1/folders/18CcWLV0mDi9Iuk7rFquHa1jRQ5VI0BSx\n",
            "12100/13233 images done\n",
            "Downloading clip_embeddings_train.npz from GDrive\n",
            "12100/13233 images done already\n",
            "Running for image indices 12100-12200.\n"
          ],
          "name": "stdout"
        },
        {
          "output_type": "stream",
          "text": [
            " [elapsed time: 0:00:00] |**********************************| (ETA:  00:00:00) "
          ],
          "name": "stderr"
        },
        {
          "output_type": "stream",
          "text": [
            "Embedding images...\n",
            "Deleting clip_embeddings_train.npz from GDrive\n",
            "Data saved to clip_embeddings_train.npz\n",
            "Uploaded clip_embeddings_train.npz to https://drive.google.com/drive/u/1/folders/18CcWLV0mDi9Iuk7rFquHa1jRQ5VI0BSx\n",
            "12200/13233 images done\n",
            "Downloading clip_embeddings_train.npz from GDrive\n",
            "12200/13233 images done already\n",
            "Running for image indices 12200-12300.\n"
          ],
          "name": "stdout"
        },
        {
          "output_type": "stream",
          "text": [
            " [elapsed time: 0:00:00] |**********************************| (ETA:  00:00:00) "
          ],
          "name": "stderr"
        },
        {
          "output_type": "stream",
          "text": [
            "Embedding images...\n",
            "Deleting clip_embeddings_train.npz from GDrive\n",
            "Data saved to clip_embeddings_train.npz\n",
            "Uploaded clip_embeddings_train.npz to https://drive.google.com/drive/u/1/folders/18CcWLV0mDi9Iuk7rFquHa1jRQ5VI0BSx\n",
            "12300/13233 images done\n",
            "Downloading clip_embeddings_train.npz from GDrive\n",
            "12300/13233 images done already\n",
            "Running for image indices 12300-12400.\n"
          ],
          "name": "stdout"
        },
        {
          "output_type": "stream",
          "text": [
            " [elapsed time: 0:00:00] |**********************************| (ETA:  00:00:00) "
          ],
          "name": "stderr"
        },
        {
          "output_type": "stream",
          "text": [
            "Embedding images...\n",
            "Deleting clip_embeddings_train.npz from GDrive\n",
            "Data saved to clip_embeddings_train.npz\n",
            "Uploaded clip_embeddings_train.npz to https://drive.google.com/drive/u/1/folders/18CcWLV0mDi9Iuk7rFquHa1jRQ5VI0BSx\n",
            "12400/13233 images done\n",
            "Downloading clip_embeddings_train.npz from GDrive\n",
            "12400/13233 images done already\n",
            "Running for image indices 12400-12500.\n"
          ],
          "name": "stdout"
        },
        {
          "output_type": "stream",
          "text": [
            " [elapsed time: 0:00:00] |**********************************| (ETA:  00:00:00) "
          ],
          "name": "stderr"
        },
        {
          "output_type": "stream",
          "text": [
            "Embedding images...\n",
            "Deleting clip_embeddings_train.npz from GDrive\n",
            "Data saved to clip_embeddings_train.npz\n",
            "Uploaded clip_embeddings_train.npz to https://drive.google.com/drive/u/1/folders/18CcWLV0mDi9Iuk7rFquHa1jRQ5VI0BSx\n",
            "12500/13233 images done\n",
            "Downloading clip_embeddings_train.npz from GDrive\n",
            "12500/13233 images done already\n",
            "Running for image indices 12500-12600.\n"
          ],
          "name": "stdout"
        },
        {
          "output_type": "stream",
          "text": [
            " [elapsed time: 0:00:00] |**********************************| (ETA:  00:00:00) "
          ],
          "name": "stderr"
        },
        {
          "output_type": "stream",
          "text": [
            "Embedding images...\n",
            "Deleting clip_embeddings_train.npz from GDrive\n",
            "Data saved to clip_embeddings_train.npz\n",
            "Uploaded clip_embeddings_train.npz to https://drive.google.com/drive/u/1/folders/18CcWLV0mDi9Iuk7rFquHa1jRQ5VI0BSx\n",
            "12600/13233 images done\n",
            "Downloading clip_embeddings_train.npz from GDrive\n",
            "12600/13233 images done already\n",
            "Running for image indices 12600-12700.\n"
          ],
          "name": "stdout"
        },
        {
          "output_type": "stream",
          "text": [
            " [elapsed time: 0:00:00] |**********************************| (ETA:  00:00:00) "
          ],
          "name": "stderr"
        },
        {
          "output_type": "stream",
          "text": [
            "Embedding images...\n",
            "Deleting clip_embeddings_train.npz from GDrive\n",
            "Data saved to clip_embeddings_train.npz\n",
            "Uploaded clip_embeddings_train.npz to https://drive.google.com/drive/u/1/folders/18CcWLV0mDi9Iuk7rFquHa1jRQ5VI0BSx\n",
            "12700/13233 images done\n",
            "Downloading clip_embeddings_train.npz from GDrive\n",
            "12700/13233 images done already\n",
            "Running for image indices 12700-12800.\n"
          ],
          "name": "stdout"
        },
        {
          "output_type": "stream",
          "text": [
            " [elapsed time: 0:00:00] |**********************************| (ETA:  00:00:00) "
          ],
          "name": "stderr"
        },
        {
          "output_type": "stream",
          "text": [
            "Embedding images...\n",
            "Deleting clip_embeddings_train.npz from GDrive\n",
            "Data saved to clip_embeddings_train.npz\n",
            "Uploaded clip_embeddings_train.npz to https://drive.google.com/drive/u/1/folders/18CcWLV0mDi9Iuk7rFquHa1jRQ5VI0BSx\n",
            "12800/13233 images done\n",
            "Downloading clip_embeddings_train.npz from GDrive\n",
            "12800/13233 images done already\n",
            "Running for image indices 12800-12900.\n"
          ],
          "name": "stdout"
        },
        {
          "output_type": "stream",
          "text": [
            " [elapsed time: 0:00:00] |**********************************| (ETA:  00:00:00) "
          ],
          "name": "stderr"
        },
        {
          "output_type": "stream",
          "text": [
            "Embedding images...\n",
            "Deleting clip_embeddings_train.npz from GDrive\n",
            "Data saved to clip_embeddings_train.npz\n",
            "Uploaded clip_embeddings_train.npz to https://drive.google.com/drive/u/1/folders/18CcWLV0mDi9Iuk7rFquHa1jRQ5VI0BSx\n",
            "12900/13233 images done\n",
            "Downloading clip_embeddings_train.npz from GDrive\n",
            "12900/13233 images done already\n",
            "Running for image indices 12900-13000.\n"
          ],
          "name": "stdout"
        },
        {
          "output_type": "stream",
          "text": [
            " [elapsed time: 0:00:00] |**********************************| (ETA:  00:00:00) "
          ],
          "name": "stderr"
        },
        {
          "output_type": "stream",
          "text": [
            "Embedding images...\n",
            "Deleting clip_embeddings_train.npz from GDrive\n",
            "Data saved to clip_embeddings_train.npz\n",
            "Uploaded clip_embeddings_train.npz to https://drive.google.com/drive/u/1/folders/18CcWLV0mDi9Iuk7rFquHa1jRQ5VI0BSx\n",
            "13000/13233 images done\n",
            "Downloading clip_embeddings_train.npz from GDrive\n",
            "13000/13233 images done already\n",
            "Running for image indices 13000-13100.\n"
          ],
          "name": "stdout"
        },
        {
          "output_type": "stream",
          "text": [
            " [elapsed time: 0:00:00] |**********************************| (ETA:  00:00:00) "
          ],
          "name": "stderr"
        },
        {
          "output_type": "stream",
          "text": [
            "Embedding images...\n",
            "Deleting clip_embeddings_train.npz from GDrive\n",
            "Data saved to clip_embeddings_train.npz\n",
            "Uploaded clip_embeddings_train.npz to https://drive.google.com/drive/u/1/folders/18CcWLV0mDi9Iuk7rFquHa1jRQ5VI0BSx\n",
            "13100/13233 images done\n",
            "Downloading clip_embeddings_train.npz from GDrive\n",
            "13100/13233 images done already\n",
            "Running for image indices 13100-13200.\n"
          ],
          "name": "stdout"
        },
        {
          "output_type": "stream",
          "text": [
            " [elapsed time: 0:00:00] |**********************************| (ETA:  00:00:00) "
          ],
          "name": "stderr"
        },
        {
          "output_type": "stream",
          "text": [
            "Embedding images...\n",
            "Deleting clip_embeddings_train.npz from GDrive\n",
            "Data saved to clip_embeddings_train.npz\n",
            "Uploaded clip_embeddings_train.npz to https://drive.google.com/drive/u/1/folders/18CcWLV0mDi9Iuk7rFquHa1jRQ5VI0BSx\n",
            "13200/13233 images done\n",
            "Downloading clip_embeddings_train.npz from GDrive\n"
          ],
          "name": "stdout"
        },
        {
          "output_type": "stream",
          "text": [
            " [elapsed time: 0:00:00] |**********************************| (ETA:  00:00:00) "
          ],
          "name": "stderr"
        },
        {
          "output_type": "stream",
          "text": [
            "13200/13233 images done already\n",
            "Running for image indices 13200-13300.\n",
            "Embedding images...\n",
            "Deleting clip_embeddings_train.npz from GDrive\n",
            "Data saved to clip_embeddings_train.npz\n",
            "Uploaded clip_embeddings_train.npz to https://drive.google.com/drive/u/1/folders/18CcWLV0mDi9Iuk7rFquHa1jRQ5VI0BSx\n",
            "13233/13233 images done\n"
          ],
          "name": "stdout"
        }
      ]
    },
    {
      "cell_type": "markdown",
      "metadata": {
        "id": "7mW68x9pMfW3"
      },
      "source": [
        "## Only train split for lfw"
      ]
    },
    {
      "cell_type": "code",
      "metadata": {
        "id": "YZYcNla9MmSc"
      },
      "source": [
        ""
      ],
      "execution_count": null,
      "outputs": []
    }
  ]
}