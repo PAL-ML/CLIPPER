{
  "nbformat": 4,
  "nbformat_minor": 0,
  "metadata": {
    "colab": {
      "name": "SaveEmbeddings_ImagenetR.ipynb",
      "provenance": [],
      "collapsed_sections": [
        "RGlVnbugxFK2",
        "3rKe3HqM523g",
        "OLU-gp7n8__E",
        "NzsubsEm72rr",
        "zU_gxQ0KbwMh",
        "2Sdn6HMixMH9",
        "KPj-b5kWxRVi",
        "HZuStZQ4Ryep",
        "J7ppzB0jR3-P",
        "Exp4Y7jLGyp7",
        "KC66qPddG2gG",
        "yCn3CW3w_G3W",
        "Dy41hBsj_Hbr",
        "MpvNJt3T_ymv",
        "hpwXmr3i_yXt",
        "CeOqwRRnAPQm"
      ],
      "toc_visible": true
    },
    "kernelspec": {
      "name": "python3",
      "display_name": "Python 3"
    },
    "accelerator": "GPU",
    "widgets": {
      "application/vnd.jupyter.widget-state+json": {
        "013712a3b94a4ebd8b165d25c80b980b": {
          "model_module": "@jupyter-widgets/controls",
          "model_name": "HBoxModel",
          "state": {
            "_view_name": "HBoxView",
            "_dom_classes": [],
            "_model_name": "HBoxModel",
            "_view_module": "@jupyter-widgets/controls",
            "_model_module_version": "1.5.0",
            "_view_count": null,
            "_view_module_version": "1.5.0",
            "box_style": "",
            "layout": "IPY_MODEL_605dc5589ef84fdca4b7f37753e5d5a6",
            "_model_module": "@jupyter-widgets/controls",
            "children": [
              "IPY_MODEL_63dcd917ac3144a8b7f3f9961c0948de",
              "IPY_MODEL_bc44d3e1ecd8435cbfd4a26c1fe80cd4"
            ]
          }
        },
        "605dc5589ef84fdca4b7f37753e5d5a6": {
          "model_module": "@jupyter-widgets/base",
          "model_name": "LayoutModel",
          "state": {
            "_view_name": "LayoutView",
            "grid_template_rows": null,
            "right": null,
            "justify_content": null,
            "_view_module": "@jupyter-widgets/base",
            "overflow": null,
            "_model_module_version": "1.2.0",
            "_view_count": null,
            "flex_flow": null,
            "width": null,
            "min_width": null,
            "border": null,
            "align_items": null,
            "bottom": null,
            "_model_module": "@jupyter-widgets/base",
            "top": null,
            "grid_column": null,
            "overflow_y": null,
            "overflow_x": null,
            "grid_auto_flow": null,
            "grid_area": null,
            "grid_template_columns": null,
            "flex": null,
            "_model_name": "LayoutModel",
            "justify_items": null,
            "grid_row": null,
            "max_height": null,
            "align_content": null,
            "visibility": null,
            "align_self": null,
            "height": null,
            "min_height": null,
            "padding": null,
            "grid_auto_rows": null,
            "grid_gap": null,
            "max_width": null,
            "order": null,
            "_view_module_version": "1.2.0",
            "grid_template_areas": null,
            "object_position": null,
            "object_fit": null,
            "grid_auto_columns": null,
            "margin": null,
            "display": null,
            "left": null
          }
        },
        "63dcd917ac3144a8b7f3f9961c0948de": {
          "model_module": "@jupyter-widgets/controls",
          "model_name": "FloatProgressModel",
          "state": {
            "_view_name": "ProgressView",
            "style": "IPY_MODEL_54e35e16ec21404c8485de4db443f15f",
            "_dom_classes": [],
            "description": "Dl Completed...: 100%",
            "_model_name": "FloatProgressModel",
            "bar_style": "success",
            "max": 1,
            "_view_module": "@jupyter-widgets/controls",
            "_model_module_version": "1.5.0",
            "value": 1,
            "_view_count": null,
            "_view_module_version": "1.5.0",
            "orientation": "horizontal",
            "min": 0,
            "description_tooltip": null,
            "_model_module": "@jupyter-widgets/controls",
            "layout": "IPY_MODEL_8169d8f4d7a74f738647db426948b652"
          }
        },
        "bc44d3e1ecd8435cbfd4a26c1fe80cd4": {
          "model_module": "@jupyter-widgets/controls",
          "model_name": "HTMLModel",
          "state": {
            "_view_name": "HTMLView",
            "style": "IPY_MODEL_24dcb078befb4a1998f0387276ef99d6",
            "_dom_classes": [],
            "description": "",
            "_model_name": "HTMLModel",
            "placeholder": "​",
            "_view_module": "@jupyter-widgets/controls",
            "_model_module_version": "1.5.0",
            "value": " 1/1 [07:53&lt;00:00, 473.53s/ url]",
            "_view_count": null,
            "_view_module_version": "1.5.0",
            "description_tooltip": null,
            "_model_module": "@jupyter-widgets/controls",
            "layout": "IPY_MODEL_197fa54085124a7f8ae9b8bf17574fd9"
          }
        },
        "54e35e16ec21404c8485de4db443f15f": {
          "model_module": "@jupyter-widgets/controls",
          "model_name": "ProgressStyleModel",
          "state": {
            "_view_name": "StyleView",
            "_model_name": "ProgressStyleModel",
            "description_width": "initial",
            "_view_module": "@jupyter-widgets/base",
            "_model_module_version": "1.5.0",
            "_view_count": null,
            "_view_module_version": "1.2.0",
            "bar_color": null,
            "_model_module": "@jupyter-widgets/controls"
          }
        },
        "8169d8f4d7a74f738647db426948b652": {
          "model_module": "@jupyter-widgets/base",
          "model_name": "LayoutModel",
          "state": {
            "_view_name": "LayoutView",
            "grid_template_rows": null,
            "right": null,
            "justify_content": null,
            "_view_module": "@jupyter-widgets/base",
            "overflow": null,
            "_model_module_version": "1.2.0",
            "_view_count": null,
            "flex_flow": null,
            "width": null,
            "min_width": null,
            "border": null,
            "align_items": null,
            "bottom": null,
            "_model_module": "@jupyter-widgets/base",
            "top": null,
            "grid_column": null,
            "overflow_y": null,
            "overflow_x": null,
            "grid_auto_flow": null,
            "grid_area": null,
            "grid_template_columns": null,
            "flex": null,
            "_model_name": "LayoutModel",
            "justify_items": null,
            "grid_row": null,
            "max_height": null,
            "align_content": null,
            "visibility": null,
            "align_self": null,
            "height": null,
            "min_height": null,
            "padding": null,
            "grid_auto_rows": null,
            "grid_gap": null,
            "max_width": null,
            "order": null,
            "_view_module_version": "1.2.0",
            "grid_template_areas": null,
            "object_position": null,
            "object_fit": null,
            "grid_auto_columns": null,
            "margin": null,
            "display": null,
            "left": null
          }
        },
        "24dcb078befb4a1998f0387276ef99d6": {
          "model_module": "@jupyter-widgets/controls",
          "model_name": "DescriptionStyleModel",
          "state": {
            "_view_name": "StyleView",
            "_model_name": "DescriptionStyleModel",
            "description_width": "",
            "_view_module": "@jupyter-widgets/base",
            "_model_module_version": "1.5.0",
            "_view_count": null,
            "_view_module_version": "1.2.0",
            "_model_module": "@jupyter-widgets/controls"
          }
        },
        "197fa54085124a7f8ae9b8bf17574fd9": {
          "model_module": "@jupyter-widgets/base",
          "model_name": "LayoutModel",
          "state": {
            "_view_name": "LayoutView",
            "grid_template_rows": null,
            "right": null,
            "justify_content": null,
            "_view_module": "@jupyter-widgets/base",
            "overflow": null,
            "_model_module_version": "1.2.0",
            "_view_count": null,
            "flex_flow": null,
            "width": null,
            "min_width": null,
            "border": null,
            "align_items": null,
            "bottom": null,
            "_model_module": "@jupyter-widgets/base",
            "top": null,
            "grid_column": null,
            "overflow_y": null,
            "overflow_x": null,
            "grid_auto_flow": null,
            "grid_area": null,
            "grid_template_columns": null,
            "flex": null,
            "_model_name": "LayoutModel",
            "justify_items": null,
            "grid_row": null,
            "max_height": null,
            "align_content": null,
            "visibility": null,
            "align_self": null,
            "height": null,
            "min_height": null,
            "padding": null,
            "grid_auto_rows": null,
            "grid_gap": null,
            "max_width": null,
            "order": null,
            "_view_module_version": "1.2.0",
            "grid_template_areas": null,
            "object_position": null,
            "object_fit": null,
            "grid_auto_columns": null,
            "margin": null,
            "display": null,
            "left": null
          }
        },
        "8da44753cb534e60a2e3a7b8b657f418": {
          "model_module": "@jupyter-widgets/controls",
          "model_name": "HBoxModel",
          "state": {
            "_view_name": "HBoxView",
            "_dom_classes": [],
            "_model_name": "HBoxModel",
            "_view_module": "@jupyter-widgets/controls",
            "_model_module_version": "1.5.0",
            "_view_count": null,
            "_view_module_version": "1.5.0",
            "box_style": "",
            "layout": "IPY_MODEL_064d111b6a7a45b99453b36d1285ee8c",
            "_model_module": "@jupyter-widgets/controls",
            "children": [
              "IPY_MODEL_4adfeaa4aa924c59b8e9ec6a2ae3ed04",
              "IPY_MODEL_848c64fc325b4b5bbb64f862ca35b794"
            ]
          }
        },
        "064d111b6a7a45b99453b36d1285ee8c": {
          "model_module": "@jupyter-widgets/base",
          "model_name": "LayoutModel",
          "state": {
            "_view_name": "LayoutView",
            "grid_template_rows": null,
            "right": null,
            "justify_content": null,
            "_view_module": "@jupyter-widgets/base",
            "overflow": null,
            "_model_module_version": "1.2.0",
            "_view_count": null,
            "flex_flow": null,
            "width": null,
            "min_width": null,
            "border": null,
            "align_items": null,
            "bottom": null,
            "_model_module": "@jupyter-widgets/base",
            "top": null,
            "grid_column": null,
            "overflow_y": null,
            "overflow_x": null,
            "grid_auto_flow": null,
            "grid_area": null,
            "grid_template_columns": null,
            "flex": null,
            "_model_name": "LayoutModel",
            "justify_items": null,
            "grid_row": null,
            "max_height": null,
            "align_content": null,
            "visibility": null,
            "align_self": null,
            "height": null,
            "min_height": null,
            "padding": null,
            "grid_auto_rows": null,
            "grid_gap": null,
            "max_width": null,
            "order": null,
            "_view_module_version": "1.2.0",
            "grid_template_areas": null,
            "object_position": null,
            "object_fit": null,
            "grid_auto_columns": null,
            "margin": null,
            "display": null,
            "left": null
          }
        },
        "4adfeaa4aa924c59b8e9ec6a2ae3ed04": {
          "model_module": "@jupyter-widgets/controls",
          "model_name": "FloatProgressModel",
          "state": {
            "_view_name": "ProgressView",
            "style": "IPY_MODEL_3a0288c6d8144aabb326e9f4d6c4c350",
            "_dom_classes": [],
            "description": "Dl Size...: 100%",
            "_model_name": "FloatProgressModel",
            "bar_style": "success",
            "max": 1,
            "_view_module": "@jupyter-widgets/controls",
            "_model_module_version": "1.5.0",
            "value": 1,
            "_view_count": null,
            "_view_module_version": "1.5.0",
            "orientation": "horizontal",
            "min": 0,
            "description_tooltip": null,
            "_model_module": "@jupyter-widgets/controls",
            "layout": "IPY_MODEL_b00df70404b54aab9c86655f092bc040"
          }
        },
        "848c64fc325b4b5bbb64f862ca35b794": {
          "model_module": "@jupyter-widgets/controls",
          "model_name": "HTMLModel",
          "state": {
            "_view_name": "HTMLView",
            "style": "IPY_MODEL_8ed83b081b32439e8081dd90ac9d0601",
            "_dom_classes": [],
            "description": "",
            "_model_name": "HTMLModel",
            "placeholder": "​",
            "_view_module": "@jupyter-widgets/controls",
            "_model_module_version": "1.5.0",
            "value": " 2089/2089 [07:53&lt;00:00,  4.41 MiB/s]",
            "_view_count": null,
            "_view_module_version": "1.5.0",
            "description_tooltip": null,
            "_model_module": "@jupyter-widgets/controls",
            "layout": "IPY_MODEL_2d06c377aa504ad8865c4996980e4385"
          }
        },
        "3a0288c6d8144aabb326e9f4d6c4c350": {
          "model_module": "@jupyter-widgets/controls",
          "model_name": "ProgressStyleModel",
          "state": {
            "_view_name": "StyleView",
            "_model_name": "ProgressStyleModel",
            "description_width": "initial",
            "_view_module": "@jupyter-widgets/base",
            "_model_module_version": "1.5.0",
            "_view_count": null,
            "_view_module_version": "1.2.0",
            "bar_color": null,
            "_model_module": "@jupyter-widgets/controls"
          }
        },
        "b00df70404b54aab9c86655f092bc040": {
          "model_module": "@jupyter-widgets/base",
          "model_name": "LayoutModel",
          "state": {
            "_view_name": "LayoutView",
            "grid_template_rows": null,
            "right": null,
            "justify_content": null,
            "_view_module": "@jupyter-widgets/base",
            "overflow": null,
            "_model_module_version": "1.2.0",
            "_view_count": null,
            "flex_flow": null,
            "width": null,
            "min_width": null,
            "border": null,
            "align_items": null,
            "bottom": null,
            "_model_module": "@jupyter-widgets/base",
            "top": null,
            "grid_column": null,
            "overflow_y": null,
            "overflow_x": null,
            "grid_auto_flow": null,
            "grid_area": null,
            "grid_template_columns": null,
            "flex": null,
            "_model_name": "LayoutModel",
            "justify_items": null,
            "grid_row": null,
            "max_height": null,
            "align_content": null,
            "visibility": null,
            "align_self": null,
            "height": null,
            "min_height": null,
            "padding": null,
            "grid_auto_rows": null,
            "grid_gap": null,
            "max_width": null,
            "order": null,
            "_view_module_version": "1.2.0",
            "grid_template_areas": null,
            "object_position": null,
            "object_fit": null,
            "grid_auto_columns": null,
            "margin": null,
            "display": null,
            "left": null
          }
        },
        "8ed83b081b32439e8081dd90ac9d0601": {
          "model_module": "@jupyter-widgets/controls",
          "model_name": "DescriptionStyleModel",
          "state": {
            "_view_name": "StyleView",
            "_model_name": "DescriptionStyleModel",
            "description_width": "",
            "_view_module": "@jupyter-widgets/base",
            "_model_module_version": "1.5.0",
            "_view_count": null,
            "_view_module_version": "1.2.0",
            "_model_module": "@jupyter-widgets/controls"
          }
        },
        "2d06c377aa504ad8865c4996980e4385": {
          "model_module": "@jupyter-widgets/base",
          "model_name": "LayoutModel",
          "state": {
            "_view_name": "LayoutView",
            "grid_template_rows": null,
            "right": null,
            "justify_content": null,
            "_view_module": "@jupyter-widgets/base",
            "overflow": null,
            "_model_module_version": "1.2.0",
            "_view_count": null,
            "flex_flow": null,
            "width": null,
            "min_width": null,
            "border": null,
            "align_items": null,
            "bottom": null,
            "_model_module": "@jupyter-widgets/base",
            "top": null,
            "grid_column": null,
            "overflow_y": null,
            "overflow_x": null,
            "grid_auto_flow": null,
            "grid_area": null,
            "grid_template_columns": null,
            "flex": null,
            "_model_name": "LayoutModel",
            "justify_items": null,
            "grid_row": null,
            "max_height": null,
            "align_content": null,
            "visibility": null,
            "align_self": null,
            "height": null,
            "min_height": null,
            "padding": null,
            "grid_auto_rows": null,
            "grid_gap": null,
            "max_width": null,
            "order": null,
            "_view_module_version": "1.2.0",
            "grid_template_areas": null,
            "object_position": null,
            "object_fit": null,
            "grid_auto_columns": null,
            "margin": null,
            "display": null,
            "left": null
          }
        },
        "db8ad7735fef4fb481f291a4ae988074": {
          "model_module": "@jupyter-widgets/controls",
          "model_name": "HBoxModel",
          "state": {
            "_view_name": "HBoxView",
            "_dom_classes": [],
            "_model_name": "HBoxModel",
            "_view_module": "@jupyter-widgets/controls",
            "_model_module_version": "1.5.0",
            "_view_count": null,
            "_view_module_version": "1.5.0",
            "box_style": "",
            "layout": "IPY_MODEL_efad738ed6e24a68b6c45abc49d31415",
            "_model_module": "@jupyter-widgets/controls",
            "children": [
              "IPY_MODEL_676ce00661a740419782f5203e18556e",
              "IPY_MODEL_e405616138e34f66b23e098ca99f5c3a"
            ]
          }
        },
        "efad738ed6e24a68b6c45abc49d31415": {
          "model_module": "@jupyter-widgets/base",
          "model_name": "LayoutModel",
          "state": {
            "_view_name": "LayoutView",
            "grid_template_rows": null,
            "right": null,
            "justify_content": null,
            "_view_module": "@jupyter-widgets/base",
            "overflow": null,
            "_model_module_version": "1.2.0",
            "_view_count": null,
            "flex_flow": null,
            "width": null,
            "min_width": null,
            "border": null,
            "align_items": null,
            "bottom": null,
            "_model_module": "@jupyter-widgets/base",
            "top": null,
            "grid_column": null,
            "overflow_y": null,
            "overflow_x": null,
            "grid_auto_flow": null,
            "grid_area": null,
            "grid_template_columns": null,
            "flex": null,
            "_model_name": "LayoutModel",
            "justify_items": null,
            "grid_row": null,
            "max_height": null,
            "align_content": null,
            "visibility": null,
            "align_self": null,
            "height": null,
            "min_height": null,
            "padding": null,
            "grid_auto_rows": null,
            "grid_gap": null,
            "max_width": null,
            "order": null,
            "_view_module_version": "1.2.0",
            "grid_template_areas": null,
            "object_position": null,
            "object_fit": null,
            "grid_auto_columns": null,
            "margin": null,
            "display": null,
            "left": null
          }
        },
        "676ce00661a740419782f5203e18556e": {
          "model_module": "@jupyter-widgets/controls",
          "model_name": "FloatProgressModel",
          "state": {
            "_view_name": "ProgressView",
            "style": "IPY_MODEL_12ef0d2a45d8479db7f50d3d9345d528",
            "_dom_classes": [],
            "description": "Extraction completed...: 100%",
            "_model_name": "FloatProgressModel",
            "bar_style": "success",
            "max": 1,
            "_view_module": "@jupyter-widgets/controls",
            "_model_module_version": "1.5.0",
            "value": 1,
            "_view_count": null,
            "_view_module_version": "1.5.0",
            "orientation": "horizontal",
            "min": 0,
            "description_tooltip": null,
            "_model_module": "@jupyter-widgets/controls",
            "layout": "IPY_MODEL_af934922b6e844db8d8c408f6dbad056"
          }
        },
        "e405616138e34f66b23e098ca99f5c3a": {
          "model_module": "@jupyter-widgets/controls",
          "model_name": "HTMLModel",
          "state": {
            "_view_name": "HTMLView",
            "style": "IPY_MODEL_f0e4f2cd8f4f412fbfe5bf23d9f396e9",
            "_dom_classes": [],
            "description": "",
            "_model_name": "HTMLModel",
            "placeholder": "​",
            "_view_module": "@jupyter-widgets/controls",
            "_model_module_version": "1.5.0",
            "value": " 1/1 [07:53&lt;00:00, 473.46s/ file]",
            "_view_count": null,
            "_view_module_version": "1.5.0",
            "description_tooltip": null,
            "_model_module": "@jupyter-widgets/controls",
            "layout": "IPY_MODEL_76b2c268371a4df3be84fcabf295437a"
          }
        },
        "12ef0d2a45d8479db7f50d3d9345d528": {
          "model_module": "@jupyter-widgets/controls",
          "model_name": "ProgressStyleModel",
          "state": {
            "_view_name": "StyleView",
            "_model_name": "ProgressStyleModel",
            "description_width": "initial",
            "_view_module": "@jupyter-widgets/base",
            "_model_module_version": "1.5.0",
            "_view_count": null,
            "_view_module_version": "1.2.0",
            "bar_color": null,
            "_model_module": "@jupyter-widgets/controls"
          }
        },
        "af934922b6e844db8d8c408f6dbad056": {
          "model_module": "@jupyter-widgets/base",
          "model_name": "LayoutModel",
          "state": {
            "_view_name": "LayoutView",
            "grid_template_rows": null,
            "right": null,
            "justify_content": null,
            "_view_module": "@jupyter-widgets/base",
            "overflow": null,
            "_model_module_version": "1.2.0",
            "_view_count": null,
            "flex_flow": null,
            "width": null,
            "min_width": null,
            "border": null,
            "align_items": null,
            "bottom": null,
            "_model_module": "@jupyter-widgets/base",
            "top": null,
            "grid_column": null,
            "overflow_y": null,
            "overflow_x": null,
            "grid_auto_flow": null,
            "grid_area": null,
            "grid_template_columns": null,
            "flex": null,
            "_model_name": "LayoutModel",
            "justify_items": null,
            "grid_row": null,
            "max_height": null,
            "align_content": null,
            "visibility": null,
            "align_self": null,
            "height": null,
            "min_height": null,
            "padding": null,
            "grid_auto_rows": null,
            "grid_gap": null,
            "max_width": null,
            "order": null,
            "_view_module_version": "1.2.0",
            "grid_template_areas": null,
            "object_position": null,
            "object_fit": null,
            "grid_auto_columns": null,
            "margin": null,
            "display": null,
            "left": null
          }
        },
        "f0e4f2cd8f4f412fbfe5bf23d9f396e9": {
          "model_module": "@jupyter-widgets/controls",
          "model_name": "DescriptionStyleModel",
          "state": {
            "_view_name": "StyleView",
            "_model_name": "DescriptionStyleModel",
            "description_width": "",
            "_view_module": "@jupyter-widgets/base",
            "_model_module_version": "1.5.0",
            "_view_count": null,
            "_view_module_version": "1.2.0",
            "_model_module": "@jupyter-widgets/controls"
          }
        },
        "76b2c268371a4df3be84fcabf295437a": {
          "model_module": "@jupyter-widgets/base",
          "model_name": "LayoutModel",
          "state": {
            "_view_name": "LayoutView",
            "grid_template_rows": null,
            "right": null,
            "justify_content": null,
            "_view_module": "@jupyter-widgets/base",
            "overflow": null,
            "_model_module_version": "1.2.0",
            "_view_count": null,
            "flex_flow": null,
            "width": null,
            "min_width": null,
            "border": null,
            "align_items": null,
            "bottom": null,
            "_model_module": "@jupyter-widgets/base",
            "top": null,
            "grid_column": null,
            "overflow_y": null,
            "overflow_x": null,
            "grid_auto_flow": null,
            "grid_area": null,
            "grid_template_columns": null,
            "flex": null,
            "_model_name": "LayoutModel",
            "justify_items": null,
            "grid_row": null,
            "max_height": null,
            "align_content": null,
            "visibility": null,
            "align_self": null,
            "height": null,
            "min_height": null,
            "padding": null,
            "grid_auto_rows": null,
            "grid_gap": null,
            "max_width": null,
            "order": null,
            "_view_module_version": "1.2.0",
            "grid_template_areas": null,
            "object_position": null,
            "object_fit": null,
            "grid_auto_columns": null,
            "margin": null,
            "display": null,
            "left": null
          }
        },
        "2e98436d741d4333bfc0c7ae83fbfaf9": {
          "model_module": "@jupyter-widgets/controls",
          "model_name": "HBoxModel",
          "state": {
            "_view_name": "HBoxView",
            "_dom_classes": [],
            "_model_name": "HBoxModel",
            "_view_module": "@jupyter-widgets/controls",
            "_model_module_version": "1.5.0",
            "_view_count": null,
            "_view_module_version": "1.5.0",
            "box_style": "",
            "layout": "IPY_MODEL_3eec5e39dc114815ab339f67f6fa63f8",
            "_model_module": "@jupyter-widgets/controls",
            "children": [
              "IPY_MODEL_300f240393c341f9b0162b00ace8f92b",
              "IPY_MODEL_50158b7332fa4a6aa825fdc08ea4582c"
            ]
          }
        },
        "3eec5e39dc114815ab339f67f6fa63f8": {
          "model_module": "@jupyter-widgets/base",
          "model_name": "LayoutModel",
          "state": {
            "_view_name": "LayoutView",
            "grid_template_rows": null,
            "right": null,
            "justify_content": null,
            "_view_module": "@jupyter-widgets/base",
            "overflow": null,
            "_model_module_version": "1.2.0",
            "_view_count": null,
            "flex_flow": null,
            "width": null,
            "min_width": null,
            "border": null,
            "align_items": null,
            "bottom": null,
            "_model_module": "@jupyter-widgets/base",
            "top": null,
            "grid_column": null,
            "overflow_y": null,
            "overflow_x": null,
            "grid_auto_flow": null,
            "grid_area": null,
            "grid_template_columns": null,
            "flex": null,
            "_model_name": "LayoutModel",
            "justify_items": null,
            "grid_row": null,
            "max_height": null,
            "align_content": null,
            "visibility": null,
            "align_self": null,
            "height": null,
            "min_height": null,
            "padding": null,
            "grid_auto_rows": null,
            "grid_gap": null,
            "max_width": null,
            "order": null,
            "_view_module_version": "1.2.0",
            "grid_template_areas": null,
            "object_position": null,
            "object_fit": null,
            "grid_auto_columns": null,
            "margin": null,
            "display": null,
            "left": null
          }
        },
        "300f240393c341f9b0162b00ace8f92b": {
          "model_module": "@jupyter-widgets/controls",
          "model_name": "FloatProgressModel",
          "state": {
            "_view_name": "ProgressView",
            "style": "IPY_MODEL_2687ff5184544a1bac13e2c75e2baa5e",
            "_dom_classes": [],
            "description": "",
            "_model_name": "FloatProgressModel",
            "bar_style": "info",
            "max": 1,
            "_view_module": "@jupyter-widgets/controls",
            "_model_module_version": "1.5.0",
            "value": 1,
            "_view_count": null,
            "_view_module_version": "1.5.0",
            "orientation": "horizontal",
            "min": 0,
            "description_tooltip": null,
            "_model_module": "@jupyter-widgets/controls",
            "layout": "IPY_MODEL_c27df9e6b17340a7946ce80b60efb29c"
          }
        },
        "50158b7332fa4a6aa825fdc08ea4582c": {
          "model_module": "@jupyter-widgets/controls",
          "model_name": "HTMLModel",
          "state": {
            "_view_name": "HTMLView",
            "style": "IPY_MODEL_4e087f4476c44039bea5e2f4f9886aa8",
            "_dom_classes": [],
            "description": "",
            "_model_name": "HTMLModel",
            "placeholder": "​",
            "_view_module": "@jupyter-widgets/controls",
            "_model_module_version": "1.5.0",
            "value": " 30000/0 [00:58&lt;00:00, 1389.65 examples/s]",
            "_view_count": null,
            "_view_module_version": "1.5.0",
            "description_tooltip": null,
            "_model_module": "@jupyter-widgets/controls",
            "layout": "IPY_MODEL_6f6c70e75d764159895c331cd9aa0d65"
          }
        },
        "2687ff5184544a1bac13e2c75e2baa5e": {
          "model_module": "@jupyter-widgets/controls",
          "model_name": "ProgressStyleModel",
          "state": {
            "_view_name": "StyleView",
            "_model_name": "ProgressStyleModel",
            "description_width": "initial",
            "_view_module": "@jupyter-widgets/base",
            "_model_module_version": "1.5.0",
            "_view_count": null,
            "_view_module_version": "1.2.0",
            "bar_color": null,
            "_model_module": "@jupyter-widgets/controls"
          }
        },
        "c27df9e6b17340a7946ce80b60efb29c": {
          "model_module": "@jupyter-widgets/base",
          "model_name": "LayoutModel",
          "state": {
            "_view_name": "LayoutView",
            "grid_template_rows": null,
            "right": null,
            "justify_content": null,
            "_view_module": "@jupyter-widgets/base",
            "overflow": null,
            "_model_module_version": "1.2.0",
            "_view_count": null,
            "flex_flow": null,
            "width": null,
            "min_width": null,
            "border": null,
            "align_items": null,
            "bottom": null,
            "_model_module": "@jupyter-widgets/base",
            "top": null,
            "grid_column": null,
            "overflow_y": null,
            "overflow_x": null,
            "grid_auto_flow": null,
            "grid_area": null,
            "grid_template_columns": null,
            "flex": null,
            "_model_name": "LayoutModel",
            "justify_items": null,
            "grid_row": null,
            "max_height": null,
            "align_content": null,
            "visibility": null,
            "align_self": null,
            "height": null,
            "min_height": null,
            "padding": null,
            "grid_auto_rows": null,
            "grid_gap": null,
            "max_width": null,
            "order": null,
            "_view_module_version": "1.2.0",
            "grid_template_areas": null,
            "object_position": null,
            "object_fit": null,
            "grid_auto_columns": null,
            "margin": null,
            "display": null,
            "left": null
          }
        },
        "4e087f4476c44039bea5e2f4f9886aa8": {
          "model_module": "@jupyter-widgets/controls",
          "model_name": "DescriptionStyleModel",
          "state": {
            "_view_name": "StyleView",
            "_model_name": "DescriptionStyleModel",
            "description_width": "",
            "_view_module": "@jupyter-widgets/base",
            "_model_module_version": "1.5.0",
            "_view_count": null,
            "_view_module_version": "1.2.0",
            "_model_module": "@jupyter-widgets/controls"
          }
        },
        "6f6c70e75d764159895c331cd9aa0d65": {
          "model_module": "@jupyter-widgets/base",
          "model_name": "LayoutModel",
          "state": {
            "_view_name": "LayoutView",
            "grid_template_rows": null,
            "right": null,
            "justify_content": null,
            "_view_module": "@jupyter-widgets/base",
            "overflow": null,
            "_model_module_version": "1.2.0",
            "_view_count": null,
            "flex_flow": null,
            "width": null,
            "min_width": null,
            "border": null,
            "align_items": null,
            "bottom": null,
            "_model_module": "@jupyter-widgets/base",
            "top": null,
            "grid_column": null,
            "overflow_y": null,
            "overflow_x": null,
            "grid_auto_flow": null,
            "grid_area": null,
            "grid_template_columns": null,
            "flex": null,
            "_model_name": "LayoutModel",
            "justify_items": null,
            "grid_row": null,
            "max_height": null,
            "align_content": null,
            "visibility": null,
            "align_self": null,
            "height": null,
            "min_height": null,
            "padding": null,
            "grid_auto_rows": null,
            "grid_gap": null,
            "max_width": null,
            "order": null,
            "_view_module_version": "1.2.0",
            "grid_template_areas": null,
            "object_position": null,
            "object_fit": null,
            "grid_auto_columns": null,
            "margin": null,
            "display": null,
            "left": null
          }
        },
        "3e66ab1878fc42a99d0892a39ba812ee": {
          "model_module": "@jupyter-widgets/controls",
          "model_name": "HBoxModel",
          "state": {
            "_view_name": "HBoxView",
            "_dom_classes": [],
            "_model_name": "HBoxModel",
            "_view_module": "@jupyter-widgets/controls",
            "_model_module_version": "1.5.0",
            "_view_count": null,
            "_view_module_version": "1.5.0",
            "box_style": "",
            "layout": "IPY_MODEL_6148ebdf762743098e349211a85e2398",
            "_model_module": "@jupyter-widgets/controls",
            "children": [
              "IPY_MODEL_6c75235dafec486b99d8d5809ba1007b",
              "IPY_MODEL_93ae14828a1843cfbbc78d38fef889d4"
            ]
          }
        },
        "6148ebdf762743098e349211a85e2398": {
          "model_module": "@jupyter-widgets/base",
          "model_name": "LayoutModel",
          "state": {
            "_view_name": "LayoutView",
            "grid_template_rows": null,
            "right": null,
            "justify_content": null,
            "_view_module": "@jupyter-widgets/base",
            "overflow": null,
            "_model_module_version": "1.2.0",
            "_view_count": null,
            "flex_flow": null,
            "width": null,
            "min_width": null,
            "border": null,
            "align_items": null,
            "bottom": null,
            "_model_module": "@jupyter-widgets/base",
            "top": null,
            "grid_column": null,
            "overflow_y": null,
            "overflow_x": null,
            "grid_auto_flow": null,
            "grid_area": null,
            "grid_template_columns": null,
            "flex": null,
            "_model_name": "LayoutModel",
            "justify_items": null,
            "grid_row": null,
            "max_height": null,
            "align_content": null,
            "visibility": null,
            "align_self": null,
            "height": null,
            "min_height": null,
            "padding": null,
            "grid_auto_rows": null,
            "grid_gap": null,
            "max_width": null,
            "order": null,
            "_view_module_version": "1.2.0",
            "grid_template_areas": null,
            "object_position": null,
            "object_fit": null,
            "grid_auto_columns": null,
            "margin": null,
            "display": null,
            "left": null
          }
        },
        "6c75235dafec486b99d8d5809ba1007b": {
          "model_module": "@jupyter-widgets/controls",
          "model_name": "FloatProgressModel",
          "state": {
            "_view_name": "ProgressView",
            "style": "IPY_MODEL_1206141646134a739cfc99ac1d4ed227",
            "_dom_classes": [],
            "description": "100%",
            "_model_name": "FloatProgressModel",
            "bar_style": "danger",
            "max": 30000,
            "_view_module": "@jupyter-widgets/controls",
            "_model_module_version": "1.5.0",
            "value": 29952,
            "_view_count": null,
            "_view_module_version": "1.5.0",
            "orientation": "horizontal",
            "min": 0,
            "description_tooltip": null,
            "_model_module": "@jupyter-widgets/controls",
            "layout": "IPY_MODEL_173d4daa7c9d4d0daab75d01df47798f"
          }
        },
        "93ae14828a1843cfbbc78d38fef889d4": {
          "model_module": "@jupyter-widgets/controls",
          "model_name": "HTMLModel",
          "state": {
            "_view_name": "HTMLView",
            "style": "IPY_MODEL_b708675fc591406198789deedae80417",
            "_dom_classes": [],
            "description": "",
            "_model_name": "HTMLModel",
            "placeholder": "​",
            "_view_module": "@jupyter-widgets/controls",
            "_model_module_version": "1.5.0",
            "value": " 29952/30000 [01:13&lt;00:00, 59.11 examples/s]",
            "_view_count": null,
            "_view_module_version": "1.5.0",
            "description_tooltip": null,
            "_model_module": "@jupyter-widgets/controls",
            "layout": "IPY_MODEL_ab3921bdde7647c2b6b0e5e013d71d61"
          }
        },
        "1206141646134a739cfc99ac1d4ed227": {
          "model_module": "@jupyter-widgets/controls",
          "model_name": "ProgressStyleModel",
          "state": {
            "_view_name": "StyleView",
            "_model_name": "ProgressStyleModel",
            "description_width": "initial",
            "_view_module": "@jupyter-widgets/base",
            "_model_module_version": "1.5.0",
            "_view_count": null,
            "_view_module_version": "1.2.0",
            "bar_color": null,
            "_model_module": "@jupyter-widgets/controls"
          }
        },
        "173d4daa7c9d4d0daab75d01df47798f": {
          "model_module": "@jupyter-widgets/base",
          "model_name": "LayoutModel",
          "state": {
            "_view_name": "LayoutView",
            "grid_template_rows": null,
            "right": null,
            "justify_content": null,
            "_view_module": "@jupyter-widgets/base",
            "overflow": null,
            "_model_module_version": "1.2.0",
            "_view_count": null,
            "flex_flow": null,
            "width": null,
            "min_width": null,
            "border": null,
            "align_items": null,
            "bottom": null,
            "_model_module": "@jupyter-widgets/base",
            "top": null,
            "grid_column": null,
            "overflow_y": null,
            "overflow_x": null,
            "grid_auto_flow": null,
            "grid_area": null,
            "grid_template_columns": null,
            "flex": null,
            "_model_name": "LayoutModel",
            "justify_items": null,
            "grid_row": null,
            "max_height": null,
            "align_content": null,
            "visibility": null,
            "align_self": null,
            "height": null,
            "min_height": null,
            "padding": null,
            "grid_auto_rows": null,
            "grid_gap": null,
            "max_width": null,
            "order": null,
            "_view_module_version": "1.2.0",
            "grid_template_areas": null,
            "object_position": null,
            "object_fit": null,
            "grid_auto_columns": null,
            "margin": null,
            "display": null,
            "left": null
          }
        },
        "b708675fc591406198789deedae80417": {
          "model_module": "@jupyter-widgets/controls",
          "model_name": "DescriptionStyleModel",
          "state": {
            "_view_name": "StyleView",
            "_model_name": "DescriptionStyleModel",
            "description_width": "",
            "_view_module": "@jupyter-widgets/base",
            "_model_module_version": "1.5.0",
            "_view_count": null,
            "_view_module_version": "1.2.0",
            "_model_module": "@jupyter-widgets/controls"
          }
        },
        "ab3921bdde7647c2b6b0e5e013d71d61": {
          "model_module": "@jupyter-widgets/base",
          "model_name": "LayoutModel",
          "state": {
            "_view_name": "LayoutView",
            "grid_template_rows": null,
            "right": null,
            "justify_content": null,
            "_view_module": "@jupyter-widgets/base",
            "overflow": null,
            "_model_module_version": "1.2.0",
            "_view_count": null,
            "flex_flow": null,
            "width": null,
            "min_width": null,
            "border": null,
            "align_items": null,
            "bottom": null,
            "_model_module": "@jupyter-widgets/base",
            "top": null,
            "grid_column": null,
            "overflow_y": null,
            "overflow_x": null,
            "grid_auto_flow": null,
            "grid_area": null,
            "grid_template_columns": null,
            "flex": null,
            "_model_name": "LayoutModel",
            "justify_items": null,
            "grid_row": null,
            "max_height": null,
            "align_content": null,
            "visibility": null,
            "align_self": null,
            "height": null,
            "min_height": null,
            "padding": null,
            "grid_auto_rows": null,
            "grid_gap": null,
            "max_width": null,
            "order": null,
            "_view_module_version": "1.2.0",
            "grid_template_areas": null,
            "object_position": null,
            "object_fit": null,
            "grid_auto_columns": null,
            "margin": null,
            "display": null,
            "left": null
          }
        },
        "faa3df4e15ca4274b7bc1b23b55bef50": {
          "model_module": "@jupyter-widgets/controls",
          "model_name": "HBoxModel",
          "state": {
            "_view_name": "HBoxView",
            "_dom_classes": [],
            "_model_name": "HBoxModel",
            "_view_module": "@jupyter-widgets/controls",
            "_model_module_version": "1.5.0",
            "_view_count": null,
            "_view_module_version": "1.5.0",
            "box_style": "",
            "layout": "IPY_MODEL_a56239bc9de749c7a1a7ef0b985239ac",
            "_model_module": "@jupyter-widgets/controls",
            "children": [
              "IPY_MODEL_6384c0087d12409e8ac71cc594013a3d",
              "IPY_MODEL_4eae4a1350bc427faab59a4691bfb5bf"
            ]
          }
        },
        "a56239bc9de749c7a1a7ef0b985239ac": {
          "model_module": "@jupyter-widgets/base",
          "model_name": "LayoutModel",
          "state": {
            "_view_name": "LayoutView",
            "grid_template_rows": null,
            "right": null,
            "justify_content": null,
            "_view_module": "@jupyter-widgets/base",
            "overflow": null,
            "_model_module_version": "1.2.0",
            "_view_count": null,
            "flex_flow": null,
            "width": null,
            "min_width": null,
            "border": null,
            "align_items": null,
            "bottom": null,
            "_model_module": "@jupyter-widgets/base",
            "top": null,
            "grid_column": null,
            "overflow_y": null,
            "overflow_x": null,
            "grid_auto_flow": null,
            "grid_area": null,
            "grid_template_columns": null,
            "flex": null,
            "_model_name": "LayoutModel",
            "justify_items": null,
            "grid_row": null,
            "max_height": null,
            "align_content": null,
            "visibility": null,
            "align_self": null,
            "height": null,
            "min_height": null,
            "padding": null,
            "grid_auto_rows": null,
            "grid_gap": null,
            "max_width": null,
            "order": null,
            "_view_module_version": "1.2.0",
            "grid_template_areas": null,
            "object_position": null,
            "object_fit": null,
            "grid_auto_columns": null,
            "margin": null,
            "display": null,
            "left": null
          }
        },
        "6384c0087d12409e8ac71cc594013a3d": {
          "model_module": "@jupyter-widgets/controls",
          "model_name": "FloatProgressModel",
          "state": {
            "_view_name": "ProgressView",
            "style": "IPY_MODEL_70672a6dfec44a7b971f935fc1068789",
            "_dom_classes": [],
            "description": "100%",
            "_model_name": "FloatProgressModel",
            "bar_style": "success",
            "max": 102502400,
            "_view_module": "@jupyter-widgets/controls",
            "_model_module_version": "1.5.0",
            "value": 102502400,
            "_view_count": null,
            "_view_module_version": "1.5.0",
            "orientation": "horizontal",
            "min": 0,
            "description_tooltip": null,
            "_model_module": "@jupyter-widgets/controls",
            "layout": "IPY_MODEL_72d5d7b58fb04cac8443192c0492580b"
          }
        },
        "4eae4a1350bc427faab59a4691bfb5bf": {
          "model_module": "@jupyter-widgets/controls",
          "model_name": "HTMLModel",
          "state": {
            "_view_name": "HTMLView",
            "style": "IPY_MODEL_5647d6613d1b4d809cd0fc39e7a89122",
            "_dom_classes": [],
            "description": "",
            "_model_name": "HTMLModel",
            "placeholder": "​",
            "_view_module": "@jupyter-widgets/controls",
            "_model_module_version": "1.5.0",
            "value": " 97.8M/97.8M [00:00&lt;00:00, 134MB/s]",
            "_view_count": null,
            "_view_module_version": "1.5.0",
            "description_tooltip": null,
            "_model_module": "@jupyter-widgets/controls",
            "layout": "IPY_MODEL_0626f6cabd314282b154a86b2eee474e"
          }
        },
        "70672a6dfec44a7b971f935fc1068789": {
          "model_module": "@jupyter-widgets/controls",
          "model_name": "ProgressStyleModel",
          "state": {
            "_view_name": "StyleView",
            "_model_name": "ProgressStyleModel",
            "description_width": "initial",
            "_view_module": "@jupyter-widgets/base",
            "_model_module_version": "1.5.0",
            "_view_count": null,
            "_view_module_version": "1.2.0",
            "bar_color": null,
            "_model_module": "@jupyter-widgets/controls"
          }
        },
        "72d5d7b58fb04cac8443192c0492580b": {
          "model_module": "@jupyter-widgets/base",
          "model_name": "LayoutModel",
          "state": {
            "_view_name": "LayoutView",
            "grid_template_rows": null,
            "right": null,
            "justify_content": null,
            "_view_module": "@jupyter-widgets/base",
            "overflow": null,
            "_model_module_version": "1.2.0",
            "_view_count": null,
            "flex_flow": null,
            "width": null,
            "min_width": null,
            "border": null,
            "align_items": null,
            "bottom": null,
            "_model_module": "@jupyter-widgets/base",
            "top": null,
            "grid_column": null,
            "overflow_y": null,
            "overflow_x": null,
            "grid_auto_flow": null,
            "grid_area": null,
            "grid_template_columns": null,
            "flex": null,
            "_model_name": "LayoutModel",
            "justify_items": null,
            "grid_row": null,
            "max_height": null,
            "align_content": null,
            "visibility": null,
            "align_self": null,
            "height": null,
            "min_height": null,
            "padding": null,
            "grid_auto_rows": null,
            "grid_gap": null,
            "max_width": null,
            "order": null,
            "_view_module_version": "1.2.0",
            "grid_template_areas": null,
            "object_position": null,
            "object_fit": null,
            "grid_auto_columns": null,
            "margin": null,
            "display": null,
            "left": null
          }
        },
        "5647d6613d1b4d809cd0fc39e7a89122": {
          "model_module": "@jupyter-widgets/controls",
          "model_name": "DescriptionStyleModel",
          "state": {
            "_view_name": "StyleView",
            "_model_name": "DescriptionStyleModel",
            "description_width": "",
            "_view_module": "@jupyter-widgets/base",
            "_model_module_version": "1.5.0",
            "_view_count": null,
            "_view_module_version": "1.2.0",
            "_model_module": "@jupyter-widgets/controls"
          }
        },
        "0626f6cabd314282b154a86b2eee474e": {
          "model_module": "@jupyter-widgets/base",
          "model_name": "LayoutModel",
          "state": {
            "_view_name": "LayoutView",
            "grid_template_rows": null,
            "right": null,
            "justify_content": null,
            "_view_module": "@jupyter-widgets/base",
            "overflow": null,
            "_model_module_version": "1.2.0",
            "_view_count": null,
            "flex_flow": null,
            "width": null,
            "min_width": null,
            "border": null,
            "align_items": null,
            "bottom": null,
            "_model_module": "@jupyter-widgets/base",
            "top": null,
            "grid_column": null,
            "overflow_y": null,
            "overflow_x": null,
            "grid_auto_flow": null,
            "grid_area": null,
            "grid_template_columns": null,
            "flex": null,
            "_model_name": "LayoutModel",
            "justify_items": null,
            "grid_row": null,
            "max_height": null,
            "align_content": null,
            "visibility": null,
            "align_self": null,
            "height": null,
            "min_height": null,
            "padding": null,
            "grid_auto_rows": null,
            "grid_gap": null,
            "max_width": null,
            "order": null,
            "_view_module_version": "1.2.0",
            "grid_template_areas": null,
            "object_position": null,
            "object_fit": null,
            "grid_auto_columns": null,
            "margin": null,
            "display": null,
            "left": null
          }
        },
        "2733a075610a49bb9d9c23b5034c16f0": {
          "model_module": "@jupyter-widgets/controls",
          "model_name": "HBoxModel",
          "state": {
            "_view_name": "HBoxView",
            "_dom_classes": [],
            "_model_name": "HBoxModel",
            "_view_module": "@jupyter-widgets/controls",
            "_model_module_version": "1.5.0",
            "_view_count": null,
            "_view_module_version": "1.5.0",
            "box_style": "",
            "layout": "IPY_MODEL_28b8a38a15ed445fb42dddef3908cfba",
            "_model_module": "@jupyter-widgets/controls",
            "children": [
              "IPY_MODEL_06fd075523a84134bcfe65e1b56a09ac",
              "IPY_MODEL_71305544a9db4ba5a51589fe3c4dd7d0"
            ]
          }
        },
        "28b8a38a15ed445fb42dddef3908cfba": {
          "model_module": "@jupyter-widgets/base",
          "model_name": "LayoutModel",
          "state": {
            "_view_name": "LayoutView",
            "grid_template_rows": null,
            "right": null,
            "justify_content": null,
            "_view_module": "@jupyter-widgets/base",
            "overflow": null,
            "_model_module_version": "1.2.0",
            "_view_count": null,
            "flex_flow": null,
            "width": null,
            "min_width": null,
            "border": null,
            "align_items": null,
            "bottom": null,
            "_model_module": "@jupyter-widgets/base",
            "top": null,
            "grid_column": null,
            "overflow_y": null,
            "overflow_x": null,
            "grid_auto_flow": null,
            "grid_area": null,
            "grid_template_columns": null,
            "flex": null,
            "_model_name": "LayoutModel",
            "justify_items": null,
            "grid_row": null,
            "max_height": null,
            "align_content": null,
            "visibility": null,
            "align_self": null,
            "height": null,
            "min_height": null,
            "padding": null,
            "grid_auto_rows": null,
            "grid_gap": null,
            "max_width": null,
            "order": null,
            "_view_module_version": "1.2.0",
            "grid_template_areas": null,
            "object_position": null,
            "object_fit": null,
            "grid_auto_columns": null,
            "margin": null,
            "display": null,
            "left": null
          }
        },
        "06fd075523a84134bcfe65e1b56a09ac": {
          "model_module": "@jupyter-widgets/controls",
          "model_name": "FloatProgressModel",
          "state": {
            "_view_name": "ProgressView",
            "style": "IPY_MODEL_97b83499e56a40a6bb7127eac265a0e2",
            "_dom_classes": [],
            "description": "100%",
            "_model_name": "FloatProgressModel",
            "bar_style": "success",
            "max": 113703565,
            "_view_module": "@jupyter-widgets/controls",
            "_model_module_version": "1.5.0",
            "value": 113703565,
            "_view_count": null,
            "_view_module_version": "1.5.0",
            "orientation": "horizontal",
            "min": 0,
            "description_tooltip": null,
            "_model_module": "@jupyter-widgets/controls",
            "layout": "IPY_MODEL_ded284d57502446c8299f9e46643eeff"
          }
        },
        "71305544a9db4ba5a51589fe3c4dd7d0": {
          "model_module": "@jupyter-widgets/controls",
          "model_name": "HTMLModel",
          "state": {
            "_view_name": "HTMLView",
            "style": "IPY_MODEL_89259ee10b3f423a865ab873b2612c70",
            "_dom_classes": [],
            "description": "",
            "_model_name": "HTMLModel",
            "placeholder": "​",
            "_view_module": "@jupyter-widgets/controls",
            "_model_module_version": "1.5.0",
            "value": " 108M/108M [00:01&lt;00:00, 90.1MB/s]",
            "_view_count": null,
            "_view_module_version": "1.5.0",
            "description_tooltip": null,
            "_model_module": "@jupyter-widgets/controls",
            "layout": "IPY_MODEL_c71049cb181844bcaf27bb33020e9117"
          }
        },
        "97b83499e56a40a6bb7127eac265a0e2": {
          "model_module": "@jupyter-widgets/controls",
          "model_name": "ProgressStyleModel",
          "state": {
            "_view_name": "StyleView",
            "_model_name": "ProgressStyleModel",
            "description_width": "initial",
            "_view_module": "@jupyter-widgets/base",
            "_model_module_version": "1.5.0",
            "_view_count": null,
            "_view_module_version": "1.2.0",
            "bar_color": null,
            "_model_module": "@jupyter-widgets/controls"
          }
        },
        "ded284d57502446c8299f9e46643eeff": {
          "model_module": "@jupyter-widgets/base",
          "model_name": "LayoutModel",
          "state": {
            "_view_name": "LayoutView",
            "grid_template_rows": null,
            "right": null,
            "justify_content": null,
            "_view_module": "@jupyter-widgets/base",
            "overflow": null,
            "_model_module_version": "1.2.0",
            "_view_count": null,
            "flex_flow": null,
            "width": null,
            "min_width": null,
            "border": null,
            "align_items": null,
            "bottom": null,
            "_model_module": "@jupyter-widgets/base",
            "top": null,
            "grid_column": null,
            "overflow_y": null,
            "overflow_x": null,
            "grid_auto_flow": null,
            "grid_area": null,
            "grid_template_columns": null,
            "flex": null,
            "_model_name": "LayoutModel",
            "justify_items": null,
            "grid_row": null,
            "max_height": null,
            "align_content": null,
            "visibility": null,
            "align_self": null,
            "height": null,
            "min_height": null,
            "padding": null,
            "grid_auto_rows": null,
            "grid_gap": null,
            "max_width": null,
            "order": null,
            "_view_module_version": "1.2.0",
            "grid_template_areas": null,
            "object_position": null,
            "object_fit": null,
            "grid_auto_columns": null,
            "margin": null,
            "display": null,
            "left": null
          }
        },
        "89259ee10b3f423a865ab873b2612c70": {
          "model_module": "@jupyter-widgets/controls",
          "model_name": "DescriptionStyleModel",
          "state": {
            "_view_name": "StyleView",
            "_model_name": "DescriptionStyleModel",
            "description_width": "",
            "_view_module": "@jupyter-widgets/base",
            "_model_module_version": "1.5.0",
            "_view_count": null,
            "_view_module_version": "1.2.0",
            "_model_module": "@jupyter-widgets/controls"
          }
        },
        "c71049cb181844bcaf27bb33020e9117": {
          "model_module": "@jupyter-widgets/base",
          "model_name": "LayoutModel",
          "state": {
            "_view_name": "LayoutView",
            "grid_template_rows": null,
            "right": null,
            "justify_content": null,
            "_view_module": "@jupyter-widgets/base",
            "overflow": null,
            "_model_module_version": "1.2.0",
            "_view_count": null,
            "flex_flow": null,
            "width": null,
            "min_width": null,
            "border": null,
            "align_items": null,
            "bottom": null,
            "_model_module": "@jupyter-widgets/base",
            "top": null,
            "grid_column": null,
            "overflow_y": null,
            "overflow_x": null,
            "grid_auto_flow": null,
            "grid_area": null,
            "grid_template_columns": null,
            "flex": null,
            "_model_name": "LayoutModel",
            "justify_items": null,
            "grid_row": null,
            "max_height": null,
            "align_content": null,
            "visibility": null,
            "align_self": null,
            "height": null,
            "min_height": null,
            "padding": null,
            "grid_auto_rows": null,
            "grid_gap": null,
            "max_width": null,
            "order": null,
            "_view_module_version": "1.2.0",
            "grid_template_areas": null,
            "object_position": null,
            "object_fit": null,
            "grid_auto_columns": null,
            "margin": null,
            "display": null,
            "left": null
          }
        }
      }
    }
  },
  "cells": [
    {
      "cell_type": "markdown",
      "metadata": {
        "id": "WTY7kA7DOzpV"
      },
      "source": [
        "# Mount Drive"
      ]
    },
    {
      "cell_type": "code",
      "metadata": {
        "colab": {
          "base_uri": "https://localhost:8080/"
        },
        "id": "4-7JU3Q7q_XT",
        "outputId": "860ac614-a235-4462-99a1-6d4be967b5dc"
      },
      "source": [
        "from google.colab import drive\n",
        "drive.mount('/content/drive')"
      ],
      "execution_count": null,
      "outputs": [
        {
          "output_type": "stream",
          "text": [
            "Drive already mounted at /content/drive; to attempt to forcibly remount, call drive.mount(\"/content/drive\", force_remount=True).\n"
          ],
          "name": "stdout"
        }
      ]
    },
    {
      "cell_type": "code",
      "metadata": {
        "colab": {
          "base_uri": "https://localhost:8080/"
        },
        "id": "DqqXI7Izk65p",
        "outputId": "7239aa28-2345-44be-9c4d-27ba168b051d"
      },
      "source": [
        "!pip install -U -q PyDrive\n",
        "!pip install httplib2==0.15.0\n",
        "import os\n",
        "from pydrive.auth import GoogleAuth\n",
        "from pydrive.drive import GoogleDrive\n",
        "from pydrive.files import GoogleDriveFileList\n",
        "from google.colab import auth\n",
        "from oauth2client.client import GoogleCredentials\n",
        "\n",
        "from getpass import getpass\n",
        "import urllib\n",
        "\n",
        "# 1. Authenticate and create the PyDrive client.\n",
        "auth.authenticate_user()\n",
        "gauth = GoogleAuth()\n",
        "gauth.credentials = GoogleCredentials.get_application_default()\n",
        "drive = GoogleDrive(gauth)\n",
        "\n",
        "# Cloning PAL_2021 to access modules.\n",
        "# Need password to access private repo.\n",
        "\n",
        "if 'CLIPPER' not in os.listdir():\n",
        "    cmd_string = 'git clone https://github.com/PAL-ML/CLIPPER.git'\n",
        "    os.system(cmd_string)"
      ],
      "execution_count": null,
      "outputs": [
        {
          "output_type": "stream",
          "text": [
            "Requirement already satisfied: httplib2==0.15.0 in /usr/local/lib/python3.7/dist-packages (0.15.0)\n"
          ],
          "name": "stdout"
        }
      ]
    },
    {
      "cell_type": "markdown",
      "metadata": {
        "id": "RGlVnbugxFK2"
      },
      "source": [
        "# Installation"
      ]
    },
    {
      "cell_type": "markdown",
      "metadata": {
        "id": "gmgIrfT8hDNE"
      },
      "source": [
        "## Install multi label metrics dependencies"
      ]
    },
    {
      "cell_type": "code",
      "metadata": {
        "colab": {
          "base_uri": "https://localhost:8080/"
        },
        "id": "b6xXPAFbe6Gp",
        "outputId": "3f31e599-01df-46ed-d67b-743f544fef23"
      },
      "source": [
        "! pip install scikit-learn==0.24"
      ],
      "execution_count": null,
      "outputs": [
        {
          "output_type": "stream",
          "text": [
            "Requirement already satisfied: scikit-learn==0.24 in /usr/local/lib/python3.7/dist-packages (0.24.0)\n",
            "Requirement already satisfied: joblib>=0.11 in /usr/local/lib/python3.7/dist-packages (from scikit-learn==0.24) (1.0.1)\n",
            "Requirement already satisfied: numpy>=1.13.3 in /usr/local/lib/python3.7/dist-packages (from scikit-learn==0.24) (1.19.5)\n",
            "Requirement already satisfied: threadpoolctl>=2.0.0 in /usr/local/lib/python3.7/dist-packages (from scikit-learn==0.24) (2.1.0)\n",
            "Requirement already satisfied: scipy>=0.19.1 in /usr/local/lib/python3.7/dist-packages (from scikit-learn==0.24) (1.4.1)\n"
          ],
          "name": "stdout"
        }
      ]
    },
    {
      "cell_type": "markdown",
      "metadata": {
        "id": "3rKe3HqM523g"
      },
      "source": [
        "## Install CLIP dependencies"
      ]
    },
    {
      "cell_type": "code",
      "metadata": {
        "colab": {
          "base_uri": "https://localhost:8080/"
        },
        "id": "poS-WNDixIhY",
        "outputId": "136f1624-4c2a-4976-aac6-8985ee64f942"
      },
      "source": [
        "import subprocess\n",
        "\n",
        "CUDA_version = [s for s in subprocess.check_output([\"nvcc\", \"--version\"]).decode(\"UTF-8\").split(\", \") if s.startswith(\"release\")][0].split(\" \")[-1]\n",
        "print(\"CUDA version:\", CUDA_version)\n",
        "\n",
        "if CUDA_version == \"10.0\":\n",
        "    torch_version_suffix = \"+cu100\"\n",
        "elif CUDA_version == \"10.1\":\n",
        "    torch_version_suffix = \"+cu101\"\n",
        "elif CUDA_version == \"10.2\":\n",
        "    torch_version_suffix = \"\"\n",
        "else:\n",
        "    torch_version_suffix = \"+cu110\""
      ],
      "execution_count": null,
      "outputs": [
        {
          "output_type": "stream",
          "text": [
            "CUDA version: 10.1\n"
          ],
          "name": "stdout"
        }
      ]
    },
    {
      "cell_type": "code",
      "metadata": {
        "colab": {
          "base_uri": "https://localhost:8080/"
        },
        "id": "uA-69W8M59nA",
        "outputId": "15f9365b-c1eb-4d5c-feae-c54516715841"
      },
      "source": [
        "! pip install torch==1.7.1{torch_version_suffix} torchvision==0.8.2{torch_version_suffix} -f https://download.pytorch.org/whl/torch_stable.html ftfy regex"
      ],
      "execution_count": null,
      "outputs": [
        {
          "output_type": "stream",
          "text": [
            "Looking in links: https://download.pytorch.org/whl/torch_stable.html\n",
            "Requirement already satisfied: torch==1.7.1+cu101 in /usr/local/lib/python3.7/dist-packages (1.7.1+cu101)\n",
            "Requirement already satisfied: torchvision==0.8.2+cu101 in /usr/local/lib/python3.7/dist-packages (0.8.2+cu101)\n",
            "Collecting ftfy\n",
            "\u001b[?25l  Downloading https://files.pythonhosted.org/packages/04/06/e5c80e2e0f979628d47345efba51f7ba386fe95963b11c594209085f5a9b/ftfy-5.9.tar.gz (66kB)\n",
            "\u001b[K     |████████████████████████████████| 71kB 5.1MB/s \n",
            "\u001b[?25hRequirement already satisfied: regex in /usr/local/lib/python3.7/dist-packages (2019.12.20)\n",
            "Requirement already satisfied: typing-extensions in /usr/local/lib/python3.7/dist-packages (from torch==1.7.1+cu101) (3.7.4.3)\n",
            "Requirement already satisfied: numpy in /usr/local/lib/python3.7/dist-packages (from torch==1.7.1+cu101) (1.19.5)\n",
            "Requirement already satisfied: pillow>=4.1.1 in /usr/local/lib/python3.7/dist-packages (from torchvision==0.8.2+cu101) (7.0.0)\n",
            "Requirement already satisfied: wcwidth in /usr/local/lib/python3.7/dist-packages (from ftfy) (0.2.5)\n",
            "Building wheels for collected packages: ftfy\n",
            "  Building wheel for ftfy (setup.py) ... \u001b[?25l\u001b[?25hdone\n",
            "  Created wheel for ftfy: filename=ftfy-5.9-cp37-none-any.whl size=46451 sha256=4a072669597f388a186db8d5e7f13e100b4f544423831af1003ab2a8b92e7347\n",
            "  Stored in directory: /root/.cache/pip/wheels/5e/2e/f0/b07196e8c929114998f0316894a61c752b63bfa3fdd50d2fc3\n",
            "Successfully built ftfy\n",
            "Installing collected packages: ftfy\n",
            "Successfully installed ftfy-5.9\n"
          ],
          "name": "stdout"
        }
      ]
    },
    {
      "cell_type": "code",
      "metadata": {
        "colab": {
          "base_uri": "https://localhost:8080/"
        },
        "id": "sYwBZS1N6A3d",
        "outputId": "fcfe6e86-9581-4f99-d9da-794138bf9889"
      },
      "source": [
        "! pip install ftfy regex\n",
        "! wget https://openaipublic.azureedge.net/clip/bpe_simple_vocab_16e6.txt.gz -O bpe_simple_vocab_16e6.txt.gz"
      ],
      "execution_count": null,
      "outputs": [
        {
          "output_type": "stream",
          "text": [
            "Requirement already satisfied: ftfy in /usr/local/lib/python3.7/dist-packages (5.9)\n",
            "Requirement already satisfied: regex in /usr/local/lib/python3.7/dist-packages (2019.12.20)\n",
            "Requirement already satisfied: wcwidth in /usr/local/lib/python3.7/dist-packages (from ftfy) (0.2.5)\n",
            "--2021-02-28 17:08:35--  https://openaipublic.azureedge.net/clip/bpe_simple_vocab_16e6.txt.gz\n",
            "Resolving openaipublic.azureedge.net (openaipublic.azureedge.net)... 13.107.246.19, 13.107.213.19, 2620:1ec:bdf::19, ...\n",
            "Connecting to openaipublic.azureedge.net (openaipublic.azureedge.net)|13.107.246.19|:443... connected.\n",
            "HTTP request sent, awaiting response... 200 OK\n",
            "Length: 1356917 (1.3M) [application/octet-stream]\n",
            "Saving to: ‘bpe_simple_vocab_16e6.txt.gz’\n",
            "\n",
            "bpe_simple_vocab_16 100%[===================>]   1.29M  --.-KB/s    in 0.05s   \n",
            "\n",
            "2021-02-28 17:08:35 (25.9 MB/s) - ‘bpe_simple_vocab_16e6.txt.gz’ saved [1356917/1356917]\n",
            "\n"
          ],
          "name": "stdout"
        }
      ]
    },
    {
      "cell_type": "code",
      "metadata": {
        "colab": {
          "base_uri": "https://localhost:8080/"
        },
        "id": "9oIcNBYB8lz3",
        "outputId": "20d8e059-58ae-4988-f189-4523e14badd2"
      },
      "source": [
        "!pip install git+https://github.com/Sri-vatsa/CLIP # using this fork because of visualization capabilities"
      ],
      "execution_count": null,
      "outputs": [
        {
          "output_type": "stream",
          "text": [
            "Collecting git+https://github.com/Sri-vatsa/CLIP\n",
            "  Cloning https://github.com/Sri-vatsa/CLIP to /tmp/pip-req-build-aqyk7epm\n",
            "  Running command git clone -q https://github.com/Sri-vatsa/CLIP /tmp/pip-req-build-aqyk7epm\n",
            "Requirement already satisfied: ftfy in /usr/local/lib/python3.7/dist-packages (from clip==1.0) (5.9)\n",
            "Requirement already satisfied: regex in /usr/local/lib/python3.7/dist-packages (from clip==1.0) (2019.12.20)\n",
            "Requirement already satisfied: tqdm in /usr/local/lib/python3.7/dist-packages (from clip==1.0) (4.41.1)\n",
            "Requirement already satisfied: torch~=1.7.1 in /usr/local/lib/python3.7/dist-packages (from clip==1.0) (1.7.1+cu101)\n",
            "Requirement already satisfied: torchvision~=0.8.2 in /usr/local/lib/python3.7/dist-packages (from clip==1.0) (0.8.2+cu101)\n",
            "Requirement already satisfied: wcwidth in /usr/local/lib/python3.7/dist-packages (from ftfy->clip==1.0) (0.2.5)\n",
            "Requirement already satisfied: numpy in /usr/local/lib/python3.7/dist-packages (from torch~=1.7.1->clip==1.0) (1.19.5)\n",
            "Requirement already satisfied: typing-extensions in /usr/local/lib/python3.7/dist-packages (from torch~=1.7.1->clip==1.0) (3.7.4.3)\n",
            "Requirement already satisfied: pillow>=4.1.1 in /usr/local/lib/python3.7/dist-packages (from torchvision~=0.8.2->clip==1.0) (7.0.0)\n",
            "Building wheels for collected packages: clip\n",
            "  Building wheel for clip (setup.py) ... \u001b[?25l\u001b[?25hdone\n",
            "  Created wheel for clip: filename=clip-1.0-cp37-none-any.whl size=1368623 sha256=dc31ebfe8a85d9f653c1015ebc577c5f4ceaf2d6766525932758a54af1f7eb44\n",
            "  Stored in directory: /tmp/pip-ephem-wheel-cache-ri7i94fu/wheels/cc/55/69/0d411dabbd5009fd069d47b47cf7839c54e595dc61725b307b\n",
            "Successfully built clip\n",
            "Installing collected packages: clip\n",
            "Successfully installed clip-1.0\n"
          ],
          "name": "stdout"
        }
      ]
    },
    {
      "cell_type": "markdown",
      "metadata": {
        "id": "OLU-gp7n8__E"
      },
      "source": [
        "## Install clustering dependencies"
      ]
    },
    {
      "cell_type": "code",
      "metadata": {
        "id": "6TLg9ozo9Hvc"
      },
      "source": [
        "!pip -q install umap-learn>=0.3.7"
      ],
      "execution_count": null,
      "outputs": []
    },
    {
      "cell_type": "markdown",
      "metadata": {
        "id": "9z1WQnXdLHy2"
      },
      "source": [
        "## Install dataset manager dependencies"
      ]
    },
    {
      "cell_type": "code",
      "metadata": {
        "colab": {
          "base_uri": "https://localhost:8080/"
        },
        "id": "J1vvMx7_LLSp",
        "outputId": "89f853db-55e0-4c7b-fee0-61fc4dcd8ebc"
      },
      "source": [
        "!pip install wget"
      ],
      "execution_count": null,
      "outputs": [
        {
          "output_type": "stream",
          "text": [
            "Collecting wget\n",
            "  Downloading https://files.pythonhosted.org/packages/47/6a/62e288da7bcda82b935ff0c6cfe542970f04e29c756b0e147251b2fb251f/wget-3.2.zip\n",
            "Building wheels for collected packages: wget\n",
            "  Building wheel for wget (setup.py) ... \u001b[?25l\u001b[?25hdone\n",
            "  Created wheel for wget: filename=wget-3.2-cp37-none-any.whl size=9681 sha256=0cf48f41f14c85bfd383a9d0e1d2f518d8480e7ba7c7f09ddef8b0c32ab4968b\n",
            "  Stored in directory: /root/.cache/pip/wheels/40/15/30/7d8f7cea2902b4db79e3fea550d7d7b85ecb27ef992b618f3f\n",
            "Successfully built wget\n",
            "Installing collected packages: wget\n",
            "Successfully installed wget-3.2\n"
          ],
          "name": "stdout"
        }
      ]
    },
    {
      "cell_type": "markdown",
      "metadata": {
        "id": "NzsubsEm72rr"
      },
      "source": [
        "# Imports"
      ]
    },
    {
      "cell_type": "code",
      "metadata": {
        "id": "KZI62a6G74kw",
        "colab": {
          "base_uri": "https://localhost:8080/"
        },
        "outputId": "f15fce66-3f7c-4de4-8a24-1bb646dbc35f"
      },
      "source": [
        "# ML Libraries\n",
        "import tensorflow as tf\n",
        "import tensorflow_hub as hub\n",
        "import torch\n",
        "import torch.nn as nn\n",
        "import torchvision.models as models\n",
        "import torchvision.transforms as transforms\n",
        "from tensorflow import keras\n",
        "\n",
        "\n",
        "# Data processing\n",
        "import PIL\n",
        "import base64\n",
        "import imageio\n",
        "import pandas as pd\n",
        "import numpy as np\n",
        "import json\n",
        "\n",
        "from PIL import Image\n",
        "import cv2\n",
        "from sklearn.feature_extraction.image import extract_patches_2d\n",
        "\n",
        "# Plotting\n",
        "import seaborn as sns\n",
        "import matplotlib.pyplot as plt\n",
        "import matplotlib.patches as patches\n",
        "\n",
        "from IPython.core.display import display, HTML\n",
        "from matplotlib import cm\n",
        "import matplotlib.image as mpimg\n",
        "\n",
        "# Models\n",
        "import clip\n",
        "\n",
        "# Datasets\n",
        "import tensorflow_datasets as tfds\n",
        "\n",
        "# Clustering\n",
        "# import umap\n",
        "\n",
        "from sklearn import metrics\n",
        "from sklearn.cluster import KMeans\n",
        "#from yellowbrick.cluster import KElbowVisualizer\n",
        "\n",
        "# Misc\n",
        "import progressbar\n",
        "import logging\n",
        "from abc import ABC, abstractmethod\n",
        "import time\n",
        "import urllib.request\n",
        "import os\n",
        "from sklearn.metrics import jaccard_score, hamming_loss, accuracy_score, f1_score\n",
        "from sklearn.preprocessing import MultiLabelBinarizer\n",
        "\n",
        "\n",
        "# Modules\n",
        "from CLIPPER.code.ExperimentModules import embedding_models\n",
        "from CLIPPER.code.ExperimentModules.dataset_manager import DatasetManager\n",
        "from CLIPPER.code.ExperimentModules.weight_imprinting_classifier import WeightImprintingClassifier\n",
        "from CLIPPER.code.ExperimentModules import simclr_data_augmentations\n",
        "from CLIPPER.code.ExperimentModules.utils import (save_npy, load_npy, \n",
        "                                                       get_folder_id, \n",
        "                                                       create_expt_dir, \n",
        "                                                       save_to_drive, \n",
        "                                                       load_all_from_drive_folder, \n",
        "                                                       download_file_by_name, \n",
        "                                                       delete_file_by_name)\n",
        "\n",
        "logging.getLogger('googleapicliet.discovery_cache').setLevel(logging.ERROR)"
      ],
      "execution_count": null,
      "outputs": [
        {
          "output_type": "stream",
          "text": [
            "/usr/local/lib/python3.7/dist-packages/sklearn/utils/deprecation.py:144: FutureWarning: The sklearn.metrics.classification module is  deprecated in version 0.22 and will be removed in version 0.24. The corresponding classes / functions should instead be imported from sklearn.metrics. Anything that cannot be imported from sklearn.metrics is now part of the private API.\n",
            "  warnings.warn(message, FutureWarning)\n"
          ],
          "name": "stderr"
        }
      ]
    },
    {
      "cell_type": "markdown",
      "metadata": {
        "id": "zU_gxQ0KbwMh"
      },
      "source": [
        "# Initialization & Constants"
      ]
    },
    {
      "cell_type": "markdown",
      "metadata": {
        "id": "ND-Q6dDoYmDu"
      },
      "source": [
        "## Dataset details"
      ]
    },
    {
      "cell_type": "code",
      "metadata": {
        "id": "bih5tBPdbx3u"
      },
      "source": [
        "IMG_HEIGHT = 112\n",
        "IMG_WIDTH = 112\n",
        "\n",
        "experiment_id = \"ImagenetR-Embeddings\"\n",
        "\n",
        "folder_name = experiment_id+\"-28-02-21\"\n",
        "\n",
        "# Change parentid to match that of experiments root folder in gdrive\n",
        "parentid = '1bK72W-Um20EQDEyChNhNJthUNbmoSEjD'"
      ],
      "execution_count": null,
      "outputs": []
    },
    {
      "cell_type": "code",
      "metadata": {
        "id": "ZBOFLDPL0RNK",
        "colab": {
          "base_uri": "https://localhost:8080/"
        },
        "outputId": "ae64bfdf-4f46-40d4-cb0a-11968f6745c0"
      },
      "source": [
        "# Initialize sepcific experiment folder in drive\n",
        "folderid = create_expt_dir(drive, parentid, folder_name)"
      ],
      "execution_count": null,
      "outputs": [
        {
          "output_type": "stream",
          "text": [
            "title: ImagenetR-Embeddings-28-02-21, id: 1rACsi_OuN_WITrsuZt7pGZYUrUA2u6xT\n",
            "Experiment folder already exists. WARNING: Following with this run might overwrite existing results stored.\n"
          ],
          "name": "stdout"
        }
      ]
    },
    {
      "cell_type": "markdown",
      "metadata": {
        "id": "5JCHA5Q8eiOo"
      },
      "source": [
        "## Embedding function"
      ]
    },
    {
      "cell_type": "code",
      "metadata": {
        "id": "oYmYbX2D8Mux"
      },
      "source": [
        "def run_data_through_model(\n",
        "    data, \n",
        "    embedder, \n",
        "    filename, \n",
        "    drive,\n",
        "    folderid,\n",
        "    total_num_images,\n",
        "    max_num_samples=1000,\n",
        "):\n",
        "    embedder.load_model()\n",
        "\n",
        "    embeddings = None\n",
        "    num_images_done = 0\n",
        "\n",
        "    while embeddings is None or num_images_done < total_num_images:\n",
        "        download_file_by_name(drive, folderid, filename)\n",
        "\n",
        "        if filename in os.listdir():\n",
        "            embeddings = np.load(filename)['data']\n",
        "            num_images_done = embeddings.shape[0]\n",
        "            if num_images_done == total_num_images:\n",
        "                print(\"All images done already.\")\n",
        "                break\n",
        "            else:\n",
        "                print(\"{}/{} images done already\".format(\n",
        "                    num_images_done, total_num_images)\n",
        "                )\n",
        "\n",
        "        print(\"Running for image indices {}-{}.\".format(\n",
        "            num_images_done, num_images_done+max_num_samples\n",
        "            )\n",
        "        )\n",
        "        if (num_images_done+max_num_samples) <= total_num_images:\n",
        "            batch = data[num_images_done:num_images_done+max_num_samples]\n",
        "        else:\n",
        "            batch = data[num_images_done:]\n",
        "\n",
        "        processed_batch = embedder.preprocess_data(batch)\n",
        "        embeddings_batch = embedder.embed_images(\n",
        "            processed_batch, batch_size=50\n",
        "            )\n",
        "        \n",
        "        if embeddings is None:\n",
        "            embeddings = embeddings_batch\n",
        "        else:\n",
        "            embeddings = np.concatenate(\n",
        "                [embeddings, embeddings_batch]\n",
        "                )\n",
        "            \n",
        "        delete_file_by_name(drive, folderid, filename)\n",
        "        embedder.save_embeddings_to_drive(\n",
        "            embeddings, \n",
        "            filename,\n",
        "            drive,\n",
        "            folderid\n",
        "            )\n",
        "        num_images_done = embeddings.shape[0]\n",
        "        print(\"{}/{} images done\".format(num_images_done, total_num_images))\n"
      ],
      "execution_count": null,
      "outputs": []
    },
    {
      "cell_type": "markdown",
      "metadata": {
        "id": "DObZLLjrVz_e"
      },
      "source": [
        "# Test data split"
      ]
    },
    {
      "cell_type": "markdown",
      "metadata": {
        "id": "2Sdn6HMixMH9"
      },
      "source": [
        "## Load Data"
      ]
    },
    {
      "cell_type": "code",
      "metadata": {
        "id": "BcP9Ir-IxQoX",
        "colab": {
          "base_uri": "https://localhost:8080/",
          "referenced_widgets": [
            "013712a3b94a4ebd8b165d25c80b980b",
            "605dc5589ef84fdca4b7f37753e5d5a6",
            "63dcd917ac3144a8b7f3f9961c0948de",
            "bc44d3e1ecd8435cbfd4a26c1fe80cd4",
            "54e35e16ec21404c8485de4db443f15f",
            "8169d8f4d7a74f738647db426948b652",
            "24dcb078befb4a1998f0387276ef99d6",
            "197fa54085124a7f8ae9b8bf17574fd9",
            "8da44753cb534e60a2e3a7b8b657f418",
            "064d111b6a7a45b99453b36d1285ee8c",
            "4adfeaa4aa924c59b8e9ec6a2ae3ed04",
            "848c64fc325b4b5bbb64f862ca35b794",
            "3a0288c6d8144aabb326e9f4d6c4c350",
            "b00df70404b54aab9c86655f092bc040",
            "8ed83b081b32439e8081dd90ac9d0601",
            "2d06c377aa504ad8865c4996980e4385",
            "db8ad7735fef4fb481f291a4ae988074",
            "efad738ed6e24a68b6c45abc49d31415",
            "676ce00661a740419782f5203e18556e",
            "e405616138e34f66b23e098ca99f5c3a",
            "12ef0d2a45d8479db7f50d3d9345d528",
            "af934922b6e844db8d8c408f6dbad056",
            "f0e4f2cd8f4f412fbfe5bf23d9f396e9",
            "76b2c268371a4df3be84fcabf295437a",
            "2e98436d741d4333bfc0c7ae83fbfaf9",
            "3eec5e39dc114815ab339f67f6fa63f8",
            "300f240393c341f9b0162b00ace8f92b",
            "50158b7332fa4a6aa825fdc08ea4582c",
            "2687ff5184544a1bac13e2c75e2baa5e",
            "c27df9e6b17340a7946ce80b60efb29c",
            "4e087f4476c44039bea5e2f4f9886aa8",
            "6f6c70e75d764159895c331cd9aa0d65",
            "3e66ab1878fc42a99d0892a39ba812ee",
            "6148ebdf762743098e349211a85e2398",
            "6c75235dafec486b99d8d5809ba1007b",
            "93ae14828a1843cfbbc78d38fef889d4",
            "1206141646134a739cfc99ac1d4ed227",
            "173d4daa7c9d4d0daab75d01df47798f",
            "b708675fc591406198789deedae80417",
            "ab3921bdde7647c2b6b0e5e013d71d61"
          ]
        },
        "outputId": "26671331-021c-466a-c2b9-2ca113671ca5"
      },
      "source": [
        "dm = DatasetManager()\n",
        "test_data_generator = dm.load_dataset('imagenet_r', split=\"test\")"
      ],
      "execution_count": null,
      "outputs": [
        {
          "output_type": "stream",
          "text": [
            "\u001b[1mDownloading and preparing dataset imagenet_r/0.1.0 (download: 2.04 GiB, generated: 2.03 GiB, total: 4.07 GiB) to /root/tensorflow_datasets/imagenet_r/0.1.0...\u001b[0m\n"
          ],
          "name": "stdout"
        },
        {
          "output_type": "display_data",
          "data": {
            "application/vnd.jupyter.widget-view+json": {
              "model_id": "013712a3b94a4ebd8b165d25c80b980b",
              "version_minor": 0,
              "version_major": 2
            },
            "text/plain": [
              "HBox(children=(FloatProgress(value=1.0, bar_style='info', description='Dl Completed...', max=1.0, style=Progre…"
            ]
          },
          "metadata": {
            "tags": []
          }
        },
        {
          "output_type": "display_data",
          "data": {
            "application/vnd.jupyter.widget-view+json": {
              "model_id": "8da44753cb534e60a2e3a7b8b657f418",
              "version_minor": 0,
              "version_major": 2
            },
            "text/plain": [
              "HBox(children=(FloatProgress(value=1.0, bar_style='info', description='Dl Size...', max=1.0, style=ProgressSty…"
            ]
          },
          "metadata": {
            "tags": []
          }
        },
        {
          "output_type": "display_data",
          "data": {
            "application/vnd.jupyter.widget-view+json": {
              "model_id": "db8ad7735fef4fb481f291a4ae988074",
              "version_minor": 0,
              "version_major": 2
            },
            "text/plain": [
              "HBox(children=(FloatProgress(value=1.0, bar_style='info', description='Extraction completed...', max=1.0, styl…"
            ]
          },
          "metadata": {
            "tags": []
          }
        },
        {
          "output_type": "stream",
          "text": [
            "\n",
            "\n",
            "\n",
            "\n",
            "\n",
            "\n"
          ],
          "name": "stdout"
        },
        {
          "output_type": "display_data",
          "data": {
            "application/vnd.jupyter.widget-view+json": {
              "model_id": "2e98436d741d4333bfc0c7ae83fbfaf9",
              "version_minor": 0,
              "version_major": 2
            },
            "text/plain": [
              "HBox(children=(FloatProgress(value=1.0, bar_style='info', max=1.0), HTML(value='')))"
            ]
          },
          "metadata": {
            "tags": []
          }
        },
        {
          "output_type": "stream",
          "text": [
            "\rShuffling and writing examples to /root/tensorflow_datasets/imagenet_r/0.1.0.incomplete9ZX5LG/imagenet_r-test.tfrecord\n"
          ],
          "name": "stdout"
        },
        {
          "output_type": "display_data",
          "data": {
            "application/vnd.jupyter.widget-view+json": {
              "model_id": "3e66ab1878fc42a99d0892a39ba812ee",
              "version_minor": 0,
              "version_major": 2
            },
            "text/plain": [
              "HBox(children=(FloatProgress(value=0.0, max=30000.0), HTML(value='')))"
            ]
          },
          "metadata": {
            "tags": []
          }
        },
        {
          "output_type": "stream",
          "text": [
            "\u001b[1mDataset imagenet_r downloaded and prepared to /root/tensorflow_datasets/imagenet_r/0.1.0. Subsequent calls will reuse this data.\u001b[0m\n"
          ],
          "name": "stdout"
        }
      ]
    },
    {
      "cell_type": "code",
      "metadata": {
        "id": "DhahWSBBXvqz",
        "colab": {
          "base_uri": "https://localhost:8080/"
        },
        "outputId": "0e19adc0-071f-4f80-b937-eaf39e540e90"
      },
      "source": [
        "_data = []\n",
        "_labels = []\n",
        "for i, example in enumerate(test_data_generator):\n",
        "    resized_image = cv2.resize(example['image'], (IMG_WIDTH, IMG_HEIGHT)).astype(np.uint8)\n",
        "    _data.append(resized_image)\n",
        "    _labels.append(example['label'])\n",
        "\n",
        "    del resized_image\n",
        "\n",
        "test_data = np.stack(_data)\n",
        "test_labels = np.array(_labels)\n",
        "\n",
        "del _data\n",
        "del _labels\n",
        "\n",
        "print('Images shape: ', test_data.shape)\n",
        "print('Labels length: ', len(test_labels))\n"
      ],
      "execution_count": null,
      "outputs": [
        {
          "output_type": "stream",
          "text": [
            "Images shape:  (30000, 112, 112, 3)\n",
            "Labels length:  30000\n"
          ],
          "name": "stdout"
        }
      ]
    },
    {
      "cell_type": "code",
      "metadata": {
        "colab": {
          "base_uri": "https://localhost:8080/"
        },
        "id": "fKe2H-bMV_u1",
        "outputId": "b074395b-7a6f-44d5-f3e4-9e54c715fc6a"
      },
      "source": [
        "# Save test labels\n",
        "test_labels_filename = 'test_labels.npz'\n",
        "\n",
        "if test_labels_filename not in os.listdir():\n",
        "    save_npy(test_labels_filename, test_labels)\n",
        "    save_to_drive(drive, folderid, test_labels_filename)"
      ],
      "execution_count": null,
      "outputs": [
        {
          "output_type": "stream",
          "text": [
            "Data saved to test_labels.npz\n",
            "Uploaded test_labels.npz to https://drive.google.com/drive/u/1/folders/1rACsi_OuN_WITrsuZt7pGZYUrUA2u6xT\n"
          ],
          "name": "stdout"
        }
      ]
    },
    {
      "cell_type": "code",
      "metadata": {
        "colab": {
          "base_uri": "https://localhost:8080/"
        },
        "id": "m07g1Q6GVliF",
        "outputId": "dbcbe4a6-7338-4273-ddb3-eacc15295b13"
      },
      "source": [
        "total_test_images = len(test_data)\n",
        "total_test_images"
      ],
      "execution_count": null,
      "outputs": [
        {
          "output_type": "execute_result",
          "data": {
            "text/plain": [
              "30000"
            ]
          },
          "metadata": {
            "tags": []
          },
          "execution_count": 15
        }
      ]
    },
    {
      "cell_type": "markdown",
      "metadata": {
        "id": "Exp4Y7jLGyp7"
      },
      "source": [
        "## Inception V3"
      ]
    },
    {
      "cell_type": "code",
      "metadata": {
        "id": "3NSK-prS5Q_2",
        "colab": {
          "base_uri": "https://localhost:8080/"
        },
        "outputId": "764c1d9a-9562-4e85-f00f-145a0b035530"
      },
      "source": [
        "max_num_samples = 5000 # Colab crashes with too many images\n",
        "inceptionv3_test_filename = 'inceptionv3_embeddings_test.npz'\n",
        "\n",
        "inceptionv3_test_embedder = embedding_models.InceptionV3EmbeddingWrapper()\n",
        "\n",
        "run_data_through_model(\n",
        "    test_data, \n",
        "    inceptionv3_test_embedder, \n",
        "    inceptionv3_test_filename,\n",
        "    drive,\n",
        "    folderid,\n",
        "    total_test_images,\n",
        "    max_num_samples\n",
        "    )"
      ],
      "execution_count": null,
      "outputs": [
        {
          "output_type": "stream",
          "text": [
            "Downloading data from https://storage.googleapis.com/tensorflow/keras-applications/inception_v3/inception_v3_weights_tf_dim_ordering_tf_kernels_notop.h5\n",
            "87916544/87910968 [==============================] - 0s 0us/step\n",
            "Downloading inceptionv3_embeddings_test.npz from GDrive\n",
            "All images done already.\n"
          ],
          "name": "stdout"
        }
      ]
    },
    {
      "cell_type": "markdown",
      "metadata": {
        "id": "KC66qPddG2gG"
      },
      "source": [
        "## Resnet 50"
      ]
    },
    {
      "cell_type": "code",
      "metadata": {
        "id": "svIjGLD8BS_O",
        "colab": {
          "base_uri": "https://localhost:8080/",
          "height": 121,
          "referenced_widgets": [
            "faa3df4e15ca4274b7bc1b23b55bef50",
            "a56239bc9de749c7a1a7ef0b985239ac",
            "6384c0087d12409e8ac71cc594013a3d",
            "4eae4a1350bc427faab59a4691bfb5bf",
            "70672a6dfec44a7b971f935fc1068789",
            "72d5d7b58fb04cac8443192c0492580b",
            "5647d6613d1b4d809cd0fc39e7a89122",
            "0626f6cabd314282b154a86b2eee474e"
          ]
        },
        "outputId": "aeea5120-e772-481d-e608-ad72201fe89e"
      },
      "source": [
        "max_num_samples = 1000\n",
        "resnet50_test_filename = 'resnet50_test_embeddings.npz'\n",
        "\n",
        "resnet50_test_embedder = embedding_models.Resnet50EmbeddingWrapper()\n",
        "\n",
        "run_data_through_model(\n",
        "    test_data, \n",
        "    resnet50_test_embedder, \n",
        "    resnet50_test_filename,\n",
        "    drive,\n",
        "    folderid,\n",
        "    total_test_images,\n",
        "    max_num_samples\n",
        "    )"
      ],
      "execution_count": null,
      "outputs": [
        {
          "output_type": "stream",
          "text": [
            "Downloading: \"https://download.pytorch.org/models/resnet50-19c8e357.pth\" to /root/.cache/torch/hub/checkpoints/resnet50-19c8e357.pth\n"
          ],
          "name": "stderr"
        },
        {
          "output_type": "display_data",
          "data": {
            "application/vnd.jupyter.widget-view+json": {
              "model_id": "faa3df4e15ca4274b7bc1b23b55bef50",
              "version_minor": 0,
              "version_major": 2
            },
            "text/plain": [
              "HBox(children=(FloatProgress(value=0.0, max=102502400.0), HTML(value='')))"
            ]
          },
          "metadata": {
            "tags": []
          }
        },
        {
          "output_type": "stream",
          "text": [
            "\n",
            "Downloading resnet50_test_embeddings.npz from GDrive\n",
            "All images done already.\n"
          ],
          "name": "stdout"
        }
      ]
    },
    {
      "cell_type": "markdown",
      "metadata": {
        "id": "yCn3CW3w_G3W"
      },
      "source": [
        "## MoCo Resnet 50"
      ]
    },
    {
      "cell_type": "code",
      "metadata": {
        "id": "TmQeAyek_G3X",
        "colab": {
          "base_uri": "https://localhost:8080/"
        },
        "outputId": "566afe10-83fc-4b5f-eb00-e1820f36ef3a"
      },
      "source": [
        "max_num_samples = 1000\n",
        "moco_resnet50_test_filename = 'moco_resnet50_embeddings_test.npz'\n",
        "\n",
        "moco_resnet50_test_embedder = embedding_models.MoCoResnet50EmbeddingWrapper()\n",
        "\n",
        "run_data_through_model(\n",
        "    test_data, \n",
        "    moco_resnet50_test_embedder, \n",
        "    moco_resnet50_test_filename,\n",
        "    drive,\n",
        "    folderid,\n",
        "    total_test_images,\n",
        "    max_num_samples\n",
        "    )"
      ],
      "execution_count": null,
      "outputs": [
        {
          "output_type": "stream",
          "text": [
            "Downloading moco_resnet50_embeddings_test.npz from GDrive\n",
            "All images done already.\n"
          ],
          "name": "stdout"
        }
      ]
    },
    {
      "cell_type": "markdown",
      "metadata": {
        "id": "-k7FFrtU_GgO"
      },
      "source": [
        "## PCL Resnet 50"
      ]
    },
    {
      "cell_type": "code",
      "metadata": {
        "id": "FppJPYz1_GgZ",
        "colab": {
          "base_uri": "https://localhost:8080/"
        },
        "outputId": "c35541df-1a38-4d7c-cb6a-858c4a83a1a2"
      },
      "source": [
        "max_num_samples = 1000\n",
        "pcl_resnet50_test_filename = 'pcl_resnet50_embeddings_test.npz'\n",
        "\n",
        "pcl_resnet50_test_embedder = embedding_models.PCLResnet50EmbeddingWrapper()\n",
        "\n",
        "run_data_through_model(\n",
        "    test_data, \n",
        "    pcl_resnet50_test_embedder, \n",
        "    pcl_resnet50_test_filename,\n",
        "    drive,\n",
        "    folderid,\n",
        "    total_test_images,\n",
        "    max_num_samples\n",
        "    )"
      ],
      "execution_count": null,
      "outputs": [
        {
          "output_type": "stream",
          "text": [
            "Downloading pcl_resnet50_embeddings_test.npz from GDrive\n",
            "All images done already.\n"
          ],
          "name": "stdout"
        }
      ]
    },
    {
      "cell_type": "markdown",
      "metadata": {
        "id": "Dy41hBsj_Hbr"
      },
      "source": [
        "## SwAV Resnet 50"
      ]
    },
    {
      "cell_type": "code",
      "metadata": {
        "id": "R8ncOHlr_Hb2",
        "colab": {
          "base_uri": "https://localhost:8080/",
          "height": 159,
          "referenced_widgets": [
            "2733a075610a49bb9d9c23b5034c16f0",
            "28b8a38a15ed445fb42dddef3908cfba",
            "06fd075523a84134bcfe65e1b56a09ac",
            "71305544a9db4ba5a51589fe3c4dd7d0",
            "97b83499e56a40a6bb7127eac265a0e2",
            "ded284d57502446c8299f9e46643eeff",
            "89259ee10b3f423a865ab873b2612c70",
            "c71049cb181844bcaf27bb33020e9117"
          ]
        },
        "outputId": "8cf9aac1-9890-4936-9805-92301470fe06"
      },
      "source": [
        "max_num_samples = 1000\n",
        "swav_resnet50_test_filename = 'swav_resnet50_embeddings_test.npz'\n",
        "swav_resnet50_test_embedder = embedding_models.SwAVResnet50EmbeddingWrapper()\n",
        "\n",
        "run_data_through_model(\n",
        "    test_data, \n",
        "    swav_resnet50_test_embedder, \n",
        "    swav_resnet50_test_filename,\n",
        "    drive,\n",
        "    folderid,\n",
        "    total_test_images,\n",
        "    max_num_samples\n",
        "    )"
      ],
      "execution_count": null,
      "outputs": [
        {
          "output_type": "stream",
          "text": [
            "Downloading: \"https://github.com/facebookresearch/swav/archive/master.zip\" to /root/.cache/torch/hub/master.zip\n",
            "Downloading: \"https://dl.fbaipublicfiles.com/deepcluster/swav_800ep_pretrain.pth.tar\" to /root/.cache/torch/hub/checkpoints/swav_800ep_pretrain.pth.tar\n"
          ],
          "name": "stderr"
        },
        {
          "output_type": "display_data",
          "data": {
            "application/vnd.jupyter.widget-view+json": {
              "model_id": "2733a075610a49bb9d9c23b5034c16f0",
              "version_minor": 0,
              "version_major": 2
            },
            "text/plain": [
              "HBox(children=(FloatProgress(value=0.0, max=113703565.0), HTML(value='')))"
            ]
          },
          "metadata": {
            "tags": []
          }
        },
        {
          "output_type": "stream",
          "text": [
            "\n",
            "Downloading swav_resnet50_embeddings_test.npz from GDrive\n",
            "All images done already.\n"
          ],
          "name": "stdout"
        }
      ]
    },
    {
      "cell_type": "markdown",
      "metadata": {
        "id": "MpvNJt3T_ymv"
      },
      "source": [
        "## SimCLR"
      ]
    },
    {
      "cell_type": "code",
      "metadata": {
        "id": "EkMkP19T_ymx",
        "colab": {
          "base_uri": "https://localhost:8080/"
        },
        "outputId": "b79a2e68-0113-407b-b23b-8c4253041db0"
      },
      "source": [
        "max_num_samples = 1000\n",
        "simclr_test_filename = 'simclr_embeddings_test.npz'\n",
        "\n",
        "simclr_test_embedder = embedding_models.SimCLREmbeddingWrapper()\n",
        "\n",
        "run_data_through_model(\n",
        "    test_data, \n",
        "    simclr_test_embedder, \n",
        "    simclr_test_filename,\n",
        "    drive,\n",
        "    folderid,\n",
        "    total_test_images,\n",
        "    max_num_samples\n",
        "    )"
      ],
      "execution_count": null,
      "outputs": [
        {
          "output_type": "stream",
          "text": [
            "WARNING:absl:Importing a function (__inference_sync_batch_normalization_19_layer_call_and_return_conditional_losses_16240) with ops with custom gradients. Will likely fail if a gradient is requested.\n",
            "WARNING:absl:Importing a function (__inference_sync_batch_normalization_53_layer_call_and_return_conditional_losses_23562) with ops with custom gradients. Will likely fail if a gradient is requested.\n",
            "WARNING:absl:Importing a function (__inference_sync_batch_normalization_47_layer_call_and_return_conditional_losses_22288) with ops with custom gradients. Will likely fail if a gradient is requested.\n",
            "WARNING:absl:Importing a function (__inference_sync_batch_normalization_6_layer_call_and_return_conditional_losses_30442) with ops with custom gradients. Will likely fail if a gradient is requested.\n",
            "WARNING:absl:Importing a function (__inference_sync_batch_normalization_9_layer_call_and_return_conditional_losses_30802) with ops with custom gradients. Will likely fail if a gradient is requested.\n",
            "WARNING:absl:Importing a function (__inference___call___28151) with ops with custom gradients. Will likely fail if a gradient is requested.\n",
            "WARNING:absl:Importing a function (__inference___call___28151) with ops with custom gradients. Will likely fail if a gradient is requested.\n",
            "WARNING:absl:Importing a function (__inference___call___28151) with ops with custom gradients. Will likely fail if a gradient is requested.\n",
            "WARNING:absl:Importing a function (__inference___call___28151) with ops with custom gradients. Will likely fail if a gradient is requested.\n",
            "WARNING:absl:Importing a function (__inference___call___28151) with ops with custom gradients. Will likely fail if a gradient is requested.\n",
            "WARNING:absl:Importing a function (__inference___call___28151) with ops with custom gradients. Will likely fail if a gradient is requested.\n",
            "WARNING:absl:Importing a function (__inference___call___28151) with ops with custom gradients. Will likely fail if a gradient is requested.\n",
            "WARNING:absl:Importing a function (__inference___call___28151) with ops with custom gradients. Will likely fail if a gradient is requested.\n",
            "WARNING:absl:Importing a function (__inference___call___28151) with ops with custom gradients. Will likely fail if a gradient is requested.\n",
            "WARNING:absl:Importing a function (__inference___call___28151) with ops with custom gradients. Will likely fail if a gradient is requested.\n",
            "WARNING:absl:Importing a function (__inference___call___28151) with ops with custom gradients. Will likely fail if a gradient is requested.\n",
            "WARNING:absl:Importing a function (__inference___call___28151) with ops with custom gradients. Will likely fail if a gradient is requested.\n",
            "WARNING:absl:Importing a function (__inference___call___28151) with ops with custom gradients. Will likely fail if a gradient is requested.\n",
            "WARNING:absl:Importing a function (__inference___call___28151) with ops with custom gradients. Will likely fail if a gradient is requested.\n",
            "WARNING:absl:Importing a function (__inference___call___28151) with ops with custom gradients. Will likely fail if a gradient is requested.\n",
            "WARNING:absl:Importing a function (__inference___call___28151) with ops with custom gradients. Will likely fail if a gradient is requested.\n",
            "WARNING:absl:Importing a function (__inference___call___28151) with ops with custom gradients. Will likely fail if a gradient is requested.\n",
            "WARNING:absl:Importing a function (__inference___call___28151) with ops with custom gradients. Will likely fail if a gradient is requested.\n",
            "WARNING:absl:Importing a function (__inference___call___28151) with ops with custom gradients. Will likely fail if a gradient is requested.\n",
            "WARNING:absl:Importing a function (__inference___call___28151) with ops with custom gradients. Will likely fail if a gradient is requested.\n",
            "WARNING:absl:Importing a function (__inference___call___28151) with ops with custom gradients. Will likely fail if a gradient is requested.\n",
            "WARNING:absl:Importing a function (__inference___call___28151) with ops with custom gradients. Will likely fail if a gradient is requested.\n",
            "WARNING:absl:Importing a function (__inference___call___28151) with ops with custom gradients. Will likely fail if a gradient is requested.\n",
            "WARNING:absl:Importing a function (__inference___call___28151) with ops with custom gradients. Will likely fail if a gradient is requested.\n",
            "WARNING:absl:Importing a function (__inference___call___28151) with ops with custom gradients. Will likely fail if a gradient is requested.\n",
            "WARNING:absl:Importing a function (__inference___call___28151) with ops with custom gradients. Will likely fail if a gradient is requested.\n",
            "WARNING:absl:Importing a function (__inference___call___28151) with ops with custom gradients. Will likely fail if a gradient is requested.\n",
            "WARNING:absl:Importing a function (__inference___call___28151) with ops with custom gradients. Will likely fail if a gradient is requested.\n",
            "WARNING:absl:Importing a function (__inference___call___28151) with ops with custom gradients. Will likely fail if a gradient is requested.\n",
            "WARNING:absl:Importing a function (__inference___call___28151) with ops with custom gradients. Will likely fail if a gradient is requested.\n",
            "WARNING:absl:Importing a function (__inference___call___28151) with ops with custom gradients. Will likely fail if a gradient is requested.\n",
            "WARNING:absl:Importing a function (__inference___call___28151) with ops with custom gradients. Will likely fail if a gradient is requested.\n",
            "WARNING:absl:Importing a function (__inference___call___28151) with ops with custom gradients. Will likely fail if a gradient is requested.\n",
            "WARNING:absl:Importing a function (__inference___call___28151) with ops with custom gradients. Will likely fail if a gradient is requested.\n",
            "WARNING:absl:Importing a function (__inference___call___28151) with ops with custom gradients. Will likely fail if a gradient is requested.\n",
            "WARNING:absl:Importing a function (__inference___call___28151) with ops with custom gradients. Will likely fail if a gradient is requested.\n",
            "WARNING:absl:Importing a function (__inference___call___28151) with ops with custom gradients. Will likely fail if a gradient is requested.\n",
            "WARNING:absl:Importing a function (__inference___call___28151) with ops with custom gradients. Will likely fail if a gradient is requested.\n",
            "WARNING:absl:Importing a function (__inference___call___28151) with ops with custom gradients. Will likely fail if a gradient is requested.\n",
            "WARNING:absl:Importing a function (__inference___call___28151) with ops with custom gradients. Will likely fail if a gradient is requested.\n",
            "WARNING:absl:Importing a function (__inference___call___28151) with ops with custom gradients. Will likely fail if a gradient is requested.\n",
            "WARNING:absl:Importing a function (__inference___call___28151) with ops with custom gradients. Will likely fail if a gradient is requested.\n",
            "WARNING:absl:Importing a function (__inference___call___28151) with ops with custom gradients. Will likely fail if a gradient is requested.\n",
            "WARNING:absl:Importing a function (__inference___call___28151) with ops with custom gradients. Will likely fail if a gradient is requested.\n",
            "WARNING:absl:Importing a function (__inference___call___28151) with ops with custom gradients. Will likely fail if a gradient is requested.\n",
            "WARNING:absl:Importing a function (__inference___call___28151) with ops with custom gradients. Will likely fail if a gradient is requested.\n",
            "WARNING:absl:Importing a function (__inference___call___28151) with ops with custom gradients. Will likely fail if a gradient is requested.\n",
            "WARNING:absl:Importing a function (__inference___call___28151) with ops with custom gradients. Will likely fail if a gradient is requested.\n",
            "WARNING:absl:Importing a function (__inference___call___28151) with ops with custom gradients. Will likely fail if a gradient is requested.\n",
            "WARNING:absl:Importing a function (__inference___call___28151) with ops with custom gradients. Will likely fail if a gradient is requested.\n",
            "WARNING:absl:Importing a function (__inference___call___28151) with ops with custom gradients. Will likely fail if a gradient is requested.\n",
            "WARNING:absl:Importing a function (__inference___call___28151) with ops with custom gradients. Will likely fail if a gradient is requested.\n",
            "WARNING:absl:Importing a function (__inference___call___28151) with ops with custom gradients. Will likely fail if a gradient is requested.\n",
            "WARNING:absl:Importing a function (__inference___call___28151) with ops with custom gradients. Will likely fail if a gradient is requested.\n",
            "WARNING:absl:Importing a function (__inference___call___28151) with ops with custom gradients. Will likely fail if a gradient is requested.\n",
            "WARNING:absl:Importing a function (__inference___call___28151) with ops with custom gradients. Will likely fail if a gradient is requested.\n",
            "WARNING:absl:Importing a function (__inference_sync_batch_normalization_45_layer_call_and_return_conditional_losses_35122) with ops with custom gradients. Will likely fail if a gradient is requested.\n",
            "WARNING:absl:Importing a function (__inference_sync_batch_normalization_46_layer_call_and_return_conditional_losses_22072) with ops with custom gradients. Will likely fail if a gradient is requested.\n",
            "WARNING:absl:Importing a function (__inference_sync_batch_normalization_46_layer_call_and_return_conditional_losses_35242) with ops with custom gradients. Will likely fail if a gradient is requested.\n",
            "WARNING:absl:Importing a function (__inference_sync_batch_normalization_30_layer_call_and_return_conditional_losses_33322) with ops with custom gradients. Will likely fail if a gradient is requested.\n",
            "WARNING:absl:Importing a function (__inference_sync_batch_normalization_2_layer_call_and_return_conditional_losses_29962) with ops with custom gradients. Will likely fail if a gradient is requested.\n",
            "WARNING:absl:Importing a function (__inference_sync_batch_normalization_17_layer_call_and_return_conditional_losses_15808) with ops with custom gradients. Will likely fail if a gradient is requested.\n",
            "WARNING:absl:Importing a function (__inference_sync_batch_normalization_35_layer_call_and_return_conditional_losses_33922) with ops with custom gradients. Will likely fail if a gradient is requested.\n",
            "WARNING:absl:Importing a function (__inference_sync_batch_normalization_20_layer_call_and_return_conditional_losses_32122) with ops with custom gradients. Will likely fail if a gradient is requested.\n",
            "WARNING:absl:Importing a function (__inference_sync_batch_normalization_44_layer_call_and_return_conditional_losses_21640) with ops with custom gradients. Will likely fail if a gradient is requested.\n",
            "WARNING:absl:Importing a function (__inference_sync_batch_normalization_42_layer_call_and_return_conditional_losses_34762) with ops with custom gradients. Will likely fail if a gradient is requested.\n",
            "WARNING:absl:Importing a function (__inference_sync_batch_normalization_1_layer_call_and_return_conditional_losses_29842) with ops with custom gradients. Will likely fail if a gradient is requested.\n",
            "WARNING:absl:Importing a function (__inference_sync_batch_normalization_34_layer_call_and_return_conditional_losses_33802) with ops with custom gradients. Will likely fail if a gradient is requested.\n",
            "WARNING:absl:Importing a function (__inference_sync_batch_normalization_55_layer_call_and_return_conditional_losses_23944) with ops with custom gradients. Will likely fail if a gradient is requested.\n",
            "WARNING:absl:Importing a function (__inference_sync_batch_normalization_39_layer_call_and_return_conditional_losses_20560) with ops with custom gradients. Will likely fail if a gradient is requested.\n",
            "WARNING:absl:Importing a function (__inference_sync_batch_normalization_36_layer_call_and_return_conditional_losses_19912) with ops with custom gradients. Will likely fail if a gradient is requested.\n",
            "WARNING:absl:Importing a function (__inference_sync_batch_normalization_21_layer_call_and_return_conditional_losses_32242) with ops with custom gradients. Will likely fail if a gradient is requested.\n",
            "WARNING:absl:Importing a function (__inference_sync_batch_normalization_4_layer_call_and_return_conditional_losses_30202) with ops with custom gradients. Will likely fail if a gradient is requested.\n",
            "WARNING:absl:Importing a function (__inference_sync_batch_normalization_49_layer_call_and_return_conditional_losses_35602) with ops with custom gradients. Will likely fail if a gradient is requested.\n",
            "WARNING:absl:Importing a function (__inference_sync_batch_normalization_38_layer_call_and_return_conditional_losses_34282) with ops with custom gradients. Will likely fail if a gradient is requested.\n",
            "WARNING:absl:Importing a function (__inference_sync_batch_normalization_34_layer_call_and_return_conditional_losses_19480) with ops with custom gradients. Will likely fail if a gradient is requested.\n",
            "WARNING:absl:Importing a function (__inference_sync_batch_normalization_9_layer_call_and_return_conditional_losses_14080) with ops with custom gradients. Will likely fail if a gradient is requested.\n",
            "WARNING:absl:Importing a function (__inference_sync_batch_normalization_52_layer_call_and_return_conditional_losses_35962) with ops with custom gradients. Will likely fail if a gradient is requested.\n",
            "WARNING:absl:Importing a function (__inference_sync_batch_normalization_53_layer_call_and_return_conditional_losses_29512) with ops with custom gradients. Will likely fail if a gradient is requested.\n",
            "WARNING:absl:Importing a function (__inference_sync_batch_normalization_55_layer_call_and_return_conditional_losses_29728) with ops with custom gradients. Will likely fail if a gradient is requested.\n",
            "WARNING:absl:Importing a function (__inference_sync_batch_normalization_49_layer_call_and_return_conditional_losses_22720) with ops with custom gradients. Will likely fail if a gradient is requested.\n",
            "WARNING:absl:Importing a function (__inference_sync_batch_normalization_22_layer_call_and_return_conditional_losses_16888) with ops with custom gradients. Will likely fail if a gradient is requested.\n",
            "WARNING:absl:Importing a function (__inference_sync_batch_normalization_29_layer_call_and_return_conditional_losses_33202) with ops with custom gradients. Will likely fail if a gradient is requested.\n",
            "WARNING:absl:Importing a function (__inference_sync_batch_normalization_43_layer_call_and_return_conditional_losses_34882) with ops with custom gradients. Will likely fail if a gradient is requested.\n",
            "WARNING:absl:Importing a function (__inference_sync_batch_normalization_3_layer_call_and_return_conditional_losses_12784) with ops with custom gradients. Will likely fail if a gradient is requested.\n",
            "WARNING:absl:Importing a function (__inference_sync_batch_normalization_23_layer_call_and_return_conditional_losses_32482) with ops with custom gradients. Will likely fail if a gradient is requested.\n",
            "WARNING:absl:Importing a function (__inference_sync_batch_normalization_44_layer_call_and_return_conditional_losses_35002) with ops with custom gradients. Will likely fail if a gradient is requested.\n",
            "WARNING:absl:Importing a function (__inference_sync_batch_normalization_25_layer_call_and_return_conditional_losses_17536) with ops with custom gradients. Will likely fail if a gradient is requested.\n",
            "WARNING:absl:Importing a function (__inference_sync_batch_normalization_14_layer_call_and_return_conditional_losses_15160) with ops with custom gradients. Will likely fail if a gradient is requested.\n",
            "WARNING:absl:Importing a function (__inference_sync_batch_normalization_42_layer_call_and_return_conditional_losses_21208) with ops with custom gradients. Will likely fail if a gradient is requested.\n",
            "WARNING:absl:Importing a function (__inference_sync_batch_normalization_28_layer_call_and_return_conditional_losses_33082) with ops with custom gradients. Will likely fail if a gradient is requested.\n",
            "WARNING:absl:Importing a function (__inference_sync_batch_normalization_51_layer_call_and_return_conditional_losses_23152) with ops with custom gradients. Will likely fail if a gradient is requested.\n",
            "WARNING:absl:Importing a function (__inference_sync_batch_normalization_layer_call_and_return_conditional_losses_12124) with ops with custom gradients. Will likely fail if a gradient is requested.\n",
            "WARNING:absl:Importing a function (__inference_sync_batch_normalization_40_layer_call_and_return_conditional_losses_20776) with ops with custom gradients. Will likely fail if a gradient is requested.\n",
            "WARNING:absl:Importing a function (__inference_sync_batch_normalization_35_layer_call_and_return_conditional_losses_19696) with ops with custom gradients. Will likely fail if a gradient is requested.\n",
            "WARNING:absl:Importing a function (__inference_sync_batch_normalization_41_layer_call_and_return_conditional_losses_34642) with ops with custom gradients. Will likely fail if a gradient is requested.\n",
            "WARNING:absl:Importing a function (__inference_sync_batch_normalization_18_layer_call_and_return_conditional_losses_16024) with ops with custom gradients. Will likely fail if a gradient is requested.\n",
            "WARNING:absl:Importing a function (__inference_sync_batch_normalization_23_layer_call_and_return_conditional_losses_17104) with ops with custom gradients. Will likely fail if a gradient is requested.\n",
            "WARNING:absl:Importing a function (__inference_sync_batch_normalization_8_layer_call_and_return_conditional_losses_30682) with ops with custom gradients. Will likely fail if a gradient is requested.\n",
            "WARNING:absl:Importing a function (__inference_sync_batch_normalization_3_layer_call_and_return_conditional_losses_30082) with ops with custom gradients. Will likely fail if a gradient is requested.\n",
            "WARNING:absl:Importing a function (__inference_sync_batch_normalization_12_layer_call_and_return_conditional_losses_31162) with ops with custom gradients. Will likely fail if a gradient is requested.\n",
            "WARNING:absl:Importing a function (__inference_sync_batch_normalization_27_layer_call_and_return_conditional_losses_32962) with ops with custom gradients. Will likely fail if a gradient is requested.\n",
            "WARNING:absl:Importing a function (__inference_sync_batch_normalization_6_layer_call_and_return_conditional_losses_13432) with ops with custom gradients. Will likely fail if a gradient is requested.\n",
            "WARNING:absl:Importing a function (__inference_sync_batch_normalization_11_layer_call_and_return_conditional_losses_14512) with ops with custom gradients. Will likely fail if a gradient is requested.\n",
            "WARNING:absl:Importing a function (__inference_sync_batch_normalization_layer_call_and_return_conditional_losses_29403) with ops with custom gradients. Will likely fail if a gradient is requested.\n",
            "WARNING:absl:Importing a function (__inference_sync_batch_normalization_45_layer_call_and_return_conditional_losses_21856) with ops with custom gradients. Will likely fail if a gradient is requested.\n",
            "WARNING:absl:Importing a function (__inference_sync_batch_normalization_39_layer_call_and_return_conditional_losses_34402) with ops with custom gradients. Will likely fail if a gradient is requested.\n",
            "WARNING:absl:Importing a function (__inference_sync_batch_normalization_19_layer_call_and_return_conditional_losses_32002) with ops with custom gradients. Will likely fail if a gradient is requested.\n",
            "WARNING:absl:Importing a function (__inference_sync_batch_normalization_29_layer_call_and_return_conditional_losses_18400) with ops with custom gradients. Will likely fail if a gradient is requested.\n",
            "WARNING:absl:Importing a function (__inference_sync_batch_normalization_4_layer_call_and_return_conditional_losses_13000) with ops with custom gradients. Will likely fail if a gradient is requested.\n",
            "WARNING:absl:Importing a function (__inference_sync_batch_normalization_1_layer_call_and_return_conditional_losses_12352) with ops with custom gradients. Will likely fail if a gradient is requested.\n",
            "WARNING:absl:Importing a function (__inference_sync_batch_normalization_54_layer_call_and_return_conditional_losses_23756) with ops with custom gradients. Will likely fail if a gradient is requested.\n",
            "WARNING:absl:Importing a function (__inference_sync_batch_normalization_41_layer_call_and_return_conditional_losses_20992) with ops with custom gradients. Will likely fail if a gradient is requested.\n",
            "WARNING:absl:Importing a function (__inference_sync_batch_normalization_20_layer_call_and_return_conditional_losses_16456) with ops with custom gradients. Will likely fail if a gradient is requested.\n",
            "WARNING:absl:Importing a function (__inference_sync_batch_normalization_40_layer_call_and_return_conditional_losses_34522) with ops with custom gradients. Will likely fail if a gradient is requested.\n",
            "WARNING:absl:Importing a function (__inference_sync_batch_normalization_32_layer_call_and_return_conditional_losses_33562) with ops with custom gradients. Will likely fail if a gradient is requested.\n",
            "WARNING:absl:Importing a function (__inference_sync_batch_normalization_13_layer_call_and_return_conditional_losses_14944) with ops with custom gradients. Will likely fail if a gradient is requested.\n",
            "WARNING:absl:Importing a function (__inference_sync_batch_normalization_33_layer_call_and_return_conditional_losses_33682) with ops with custom gradients. Will likely fail if a gradient is requested.\n",
            "WARNING:absl:Importing a function (__inference_sync_batch_normalization_30_layer_call_and_return_conditional_losses_18616) with ops with custom gradients. Will likely fail if a gradient is requested.\n",
            "WARNING:absl:Importing a function (__inference_sync_batch_normalization_17_layer_call_and_return_conditional_losses_31762) with ops with custom gradients. Will likely fail if a gradient is requested.\n",
            "WARNING:absl:Importing a function (__inference_sync_batch_normalization_7_layer_call_and_return_conditional_losses_30562) with ops with custom gradients. Will likely fail if a gradient is requested.\n",
            "WARNING:absl:Importing a function (__inference_sync_batch_normalization_48_layer_call_and_return_conditional_losses_35482) with ops with custom gradients. Will likely fail if a gradient is requested.\n",
            "WARNING:absl:Importing a function (__inference_sync_batch_normalization_12_layer_call_and_return_conditional_losses_14728) with ops with custom gradients. Will likely fail if a gradient is requested.\n",
            "WARNING:absl:Importing a function (__inference_sync_batch_normalization_5_layer_call_and_return_conditional_losses_30322) with ops with custom gradients. Will likely fail if a gradient is requested.\n",
            "WARNING:absl:Importing a function (__inference_sync_batch_normalization_13_layer_call_and_return_conditional_losses_31282) with ops with custom gradients. Will likely fail if a gradient is requested.\n",
            "WARNING:absl:Importing a function (__inference_sync_batch_normalization_15_layer_call_and_return_conditional_losses_15376) with ops with custom gradients. Will likely fail if a gradient is requested.\n",
            "WARNING:absl:Importing a function (__inference_sync_batch_normalization_18_layer_call_and_return_conditional_losses_31882) with ops with custom gradients. Will likely fail if a gradient is requested.\n",
            "WARNING:absl:Importing a function (__inference_sync_batch_normalization_21_layer_call_and_return_conditional_losses_16672) with ops with custom gradients. Will likely fail if a gradient is requested.\n",
            "WARNING:absl:Importing a function (__inference_sync_batch_normalization_54_layer_call_and_return_conditional_losses_29621) with ops with custom gradients. Will likely fail if a gradient is requested.\n",
            "WARNING:absl:Importing a function (__inference_sync_batch_normalization_48_layer_call_and_return_conditional_losses_22504) with ops with custom gradients. Will likely fail if a gradient is requested.\n",
            "WARNING:absl:Importing a function (__inference_sync_batch_normalization_31_layer_call_and_return_conditional_losses_18832) with ops with custom gradients. Will likely fail if a gradient is requested.\n",
            "WARNING:absl:Importing a function (__inference_sync_batch_normalization_31_layer_call_and_return_conditional_losses_33442) with ops with custom gradients. Will likely fail if a gradient is requested.\n",
            "WARNING:absl:Importing a function (__inference_sync_batch_normalization_16_layer_call_and_return_conditional_losses_31642) with ops with custom gradients. Will likely fail if a gradient is requested.\n",
            "WARNING:absl:Importing a function (__inference_sync_batch_normalization_10_layer_call_and_return_conditional_losses_14296) with ops with custom gradients. Will likely fail if a gradient is requested.\n",
            "WARNING:absl:Importing a function (__inference_sync_batch_normalization_24_layer_call_and_return_conditional_losses_32602) with ops with custom gradients. Will likely fail if a gradient is requested.\n",
            "WARNING:absl:Importing a function (__inference_sync_batch_normalization_5_layer_call_and_return_conditional_losses_13216) with ops with custom gradients. Will likely fail if a gradient is requested.\n",
            "WARNING:absl:Importing a function (__inference_sync_batch_normalization_16_layer_call_and_return_conditional_losses_15592) with ops with custom gradients. Will likely fail if a gradient is requested.\n",
            "WARNING:absl:Importing a function (__inference_sync_batch_normalization_26_layer_call_and_return_conditional_losses_32842) with ops with custom gradients. Will likely fail if a gradient is requested.\n",
            "WARNING:absl:Importing a function (__inference_sync_batch_normalization_28_layer_call_and_return_conditional_losses_18184) with ops with custom gradients. Will likely fail if a gradient is requested.\n",
            "WARNING:absl:Importing a function (__inference_sync_batch_normalization_22_layer_call_and_return_conditional_losses_32362) with ops with custom gradients. Will likely fail if a gradient is requested.\n",
            "WARNING:absl:Importing a function (__inference_sync_batch_normalization_47_layer_call_and_return_conditional_losses_35362) with ops with custom gradients. Will likely fail if a gradient is requested.\n",
            "WARNING:absl:Importing a function (__inference_sync_batch_normalization_38_layer_call_and_return_conditional_losses_20344) with ops with custom gradients. Will likely fail if a gradient is requested.\n",
            "WARNING:absl:Importing a function (__inference_sync_batch_normalization_25_layer_call_and_return_conditional_losses_32722) with ops with custom gradients. Will likely fail if a gradient is requested.\n",
            "WARNING:absl:Importing a function (__inference_sync_batch_normalization_51_layer_call_and_return_conditional_losses_35842) with ops with custom gradients. Will likely fail if a gradient is requested.\n",
            "WARNING:absl:Importing a function (__inference_sync_batch_normalization_50_layer_call_and_return_conditional_losses_35722) with ops with custom gradients. Will likely fail if a gradient is requested.\n",
            "WARNING:absl:Importing a function (__inference_sync_batch_normalization_2_layer_call_and_return_conditional_losses_12568) with ops with custom gradients. Will likely fail if a gradient is requested.\n",
            "WARNING:absl:Importing a function (__inference_sync_batch_normalization_8_layer_call_and_return_conditional_losses_13864) with ops with custom gradients. Will likely fail if a gradient is requested.\n",
            "WARNING:absl:Importing a function (__inference_sync_batch_normalization_52_layer_call_and_return_conditional_losses_23368) with ops with custom gradients. Will likely fail if a gradient is requested.\n",
            "WARNING:absl:Importing a function (__inference_sync_batch_normalization_27_layer_call_and_return_conditional_losses_17968) with ops with custom gradients. Will likely fail if a gradient is requested.\n",
            "WARNING:absl:Importing a function (__inference_sync_batch_normalization_33_layer_call_and_return_conditional_losses_19264) with ops with custom gradients. Will likely fail if a gradient is requested.\n",
            "WARNING:absl:Importing a function (__inference_sync_batch_normalization_26_layer_call_and_return_conditional_losses_17752) with ops with custom gradients. Will likely fail if a gradient is requested.\n",
            "WARNING:absl:Importing a function (__inference_sync_batch_normalization_7_layer_call_and_return_conditional_losses_13648) with ops with custom gradients. Will likely fail if a gradient is requested.\n",
            "WARNING:absl:Importing a function (__inference_sync_batch_normalization_11_layer_call_and_return_conditional_losses_31042) with ops with custom gradients. Will likely fail if a gradient is requested.\n",
            "WARNING:absl:Importing a function (__inference_sync_batch_normalization_15_layer_call_and_return_conditional_losses_31522) with ops with custom gradients. Will likely fail if a gradient is requested.\n",
            "WARNING:absl:Importing a function (__inference_sync_batch_normalization_10_layer_call_and_return_conditional_losses_30922) with ops with custom gradients. Will likely fail if a gradient is requested.\n",
            "WARNING:absl:Importing a function (__inference_sync_batch_normalization_37_layer_call_and_return_conditional_losses_20128) with ops with custom gradients. Will likely fail if a gradient is requested.\n",
            "WARNING:absl:Importing a function (__inference_sync_batch_normalization_37_layer_call_and_return_conditional_losses_34162) with ops with custom gradients. Will likely fail if a gradient is requested.\n",
            "WARNING:absl:Importing a function (__inference_sync_batch_normalization_43_layer_call_and_return_conditional_losses_21424) with ops with custom gradients. Will likely fail if a gradient is requested.\n",
            "WARNING:absl:Importing a function (__inference_sync_batch_normalization_14_layer_call_and_return_conditional_losses_31402) with ops with custom gradients. Will likely fail if a gradient is requested.\n",
            "WARNING:absl:Importing a function (__inference_sync_batch_normalization_24_layer_call_and_return_conditional_losses_17320) with ops with custom gradients. Will likely fail if a gradient is requested.\n",
            "WARNING:absl:Importing a function (__inference_sync_batch_normalization_36_layer_call_and_return_conditional_losses_34042) with ops with custom gradients. Will likely fail if a gradient is requested.\n",
            "WARNING:absl:Importing a function (__inference_sync_batch_normalization_32_layer_call_and_return_conditional_losses_19048) with ops with custom gradients. Will likely fail if a gradient is requested.\n",
            "WARNING:absl:Importing a function (__inference_sync_batch_normalization_50_layer_call_and_return_conditional_losses_22936) with ops with custom gradients. Will likely fail if a gradient is requested.\n"
          ],
          "name": "stderr"
        },
        {
          "output_type": "stream",
          "text": [
            "Downloading simclr_embeddings_test.npz from GDrive\n",
            "All images done already.\n"
          ],
          "name": "stdout"
        }
      ]
    },
    {
      "cell_type": "markdown",
      "metadata": {
        "id": "hpwXmr3i_yXt"
      },
      "source": [
        "## VGG16"
      ]
    },
    {
      "cell_type": "code",
      "metadata": {
        "id": "OdVItqYB_yX0",
        "colab": {
          "base_uri": "https://localhost:8080/"
        },
        "outputId": "deea7b64-5c65-4b4a-b6ef-dbd3270594ac"
      },
      "source": [
        "max_num_samples = 1000\n",
        "vgg16_test_filename = 'vgg16_embeddings_test.npz'\n",
        "\n",
        "vgg16_test_embedder = embedding_models.VGG16EmbeddingWrapper()\n",
        "\n",
        "run_data_through_model(\n",
        "    test_data, \n",
        "    vgg16_test_embedder, \n",
        "    vgg16_test_filename,\n",
        "    drive,\n",
        "    folderid,\n",
        "    total_test_images,\n",
        "    max_num_samples\n",
        "    )"
      ],
      "execution_count": null,
      "outputs": [
        {
          "output_type": "stream",
          "text": [
            "Downloading data from https://storage.googleapis.com/tensorflow/keras-applications/vgg16/vgg16_weights_tf_dim_ordering_tf_kernels.h5\n",
            "553467904/553467096 [==============================] - 4s 0us/step\n",
            "Downloading vgg16_embeddings_test.npz from GDrive\n",
            "All images done already.\n"
          ],
          "name": "stdout"
        }
      ]
    },
    {
      "cell_type": "markdown",
      "metadata": {
        "id": "CeOqwRRnAPQm"
      },
      "source": [
        "## CLIP"
      ]
    },
    {
      "cell_type": "code",
      "metadata": {
        "id": "D7NTLqP8APQu",
        "colab": {
          "base_uri": "https://localhost:8080/"
        },
        "outputId": "b990e2c1-a85f-4ded-b16d-58ee6c2006a0"
      },
      "source": [
        "max_num_samples = 100\n",
        "clip_test_filename = 'clip_embeddings_test.npz'\n",
        "\n",
        "clip_test_embedder = embedding_models.CLIPEmbeddingWrapper()\n",
        "\n",
        "run_data_through_model(\n",
        "    test_data, \n",
        "    clip_test_embedder, \n",
        "    clip_test_filename,\n",
        "    drive,\n",
        "    folderid,\n",
        "    total_test_images,\n",
        "    max_num_samples\n",
        "    )"
      ],
      "execution_count": null,
      "outputs": [
        {
          "output_type": "stream",
          "text": [
            "100%|███████████████████████████████████████| 354M/354M [00:09<00:00, 37.4MiB/s]\n"
          ],
          "name": "stderr"
        },
        {
          "output_type": "stream",
          "text": [
            "Downloading clip_embeddings_test.npz from GDrive\n",
            "12800/30000 images done already\n",
            "Running for image indices 12800-12900.\n"
          ],
          "name": "stdout"
        },
        {
          "output_type": "stream",
          "text": [
            "\r                                                                               \r\r [elapsed time: 0:00:00] |                                  | (ETA:  --:--:--) "
          ],
          "name": "stderr"
        },
        {
          "output_type": "stream",
          "text": [
            "Embedding images...\n"
          ],
          "name": "stdout"
        },
        {
          "output_type": "stream",
          "text": [
            " [elapsed time: 0:00:04] |**********************************| (ETA:  00:00:00) "
          ],
          "name": "stderr"
        },
        {
          "output_type": "stream",
          "text": [
            "Deleting clip_embeddings_test.npz from GDrive\n",
            "Data saved to clip_embeddings_test.npz\n",
            "Uploaded clip_embeddings_test.npz to https://drive.google.com/drive/u/1/folders/1rACsi_OuN_WITrsuZt7pGZYUrUA2u6xT\n",
            "12900/30000 images done\n",
            "Downloading clip_embeddings_test.npz from GDrive\n"
          ],
          "name": "stdout"
        },
        {
          "output_type": "stream",
          "text": [
            "\r                                                                               \r\r [elapsed time: 0:00:00] |                                  | (ETA:  --:--:--) "
          ],
          "name": "stderr"
        },
        {
          "output_type": "stream",
          "text": [
            "12900/30000 images done already\n",
            "Running for image indices 12900-13000.\n",
            "Embedding images...\n"
          ],
          "name": "stdout"
        },
        {
          "output_type": "stream",
          "text": [
            " [elapsed time: 0:00:00] |**********************************| (ETA:  00:00:00) "
          ],
          "name": "stderr"
        },
        {
          "output_type": "stream",
          "text": [
            "Deleting clip_embeddings_test.npz from GDrive\n",
            "Data saved to clip_embeddings_test.npz\n",
            "Uploaded clip_embeddings_test.npz to https://drive.google.com/drive/u/1/folders/1rACsi_OuN_WITrsuZt7pGZYUrUA2u6xT\n",
            "13000/30000 images done\n",
            "Downloading clip_embeddings_test.npz from GDrive\n"
          ],
          "name": "stdout"
        },
        {
          "output_type": "stream",
          "text": [
            "\r                                                                               \r\r [elapsed time: 0:00:00] |                                  | (ETA:  --:--:--) "
          ],
          "name": "stderr"
        },
        {
          "output_type": "stream",
          "text": [
            "13000/30000 images done already\n",
            "Running for image indices 13000-13100.\n",
            "Embedding images...\n"
          ],
          "name": "stdout"
        },
        {
          "output_type": "stream",
          "text": [
            " [elapsed time: 0:00:00] |**********************************| (ETA:  00:00:00) "
          ],
          "name": "stderr"
        },
        {
          "output_type": "stream",
          "text": [
            "Deleting clip_embeddings_test.npz from GDrive\n",
            "Data saved to clip_embeddings_test.npz\n",
            "Uploaded clip_embeddings_test.npz to https://drive.google.com/drive/u/1/folders/1rACsi_OuN_WITrsuZt7pGZYUrUA2u6xT\n",
            "13100/30000 images done\n",
            "Downloading clip_embeddings_test.npz from GDrive\n"
          ],
          "name": "stdout"
        },
        {
          "output_type": "stream",
          "text": [
            "\r                                                                               \r\r [elapsed time: 0:00:00] |                                  | (ETA:  --:--:--) "
          ],
          "name": "stderr"
        },
        {
          "output_type": "stream",
          "text": [
            "13100/30000 images done already\n",
            "Running for image indices 13100-13200.\n",
            "Embedding images...\n"
          ],
          "name": "stdout"
        },
        {
          "output_type": "stream",
          "text": [
            " [elapsed time: 0:00:00] |**********************************| (ETA:  00:00:00) "
          ],
          "name": "stderr"
        },
        {
          "output_type": "stream",
          "text": [
            "Deleting clip_embeddings_test.npz from GDrive\n",
            "Data saved to clip_embeddings_test.npz\n",
            "Uploaded clip_embeddings_test.npz to https://drive.google.com/drive/u/1/folders/1rACsi_OuN_WITrsuZt7pGZYUrUA2u6xT\n",
            "13200/30000 images done\n",
            "Downloading clip_embeddings_test.npz from GDrive\n"
          ],
          "name": "stdout"
        },
        {
          "output_type": "stream",
          "text": [
            "\r                                                                               \r\r [elapsed time: 0:00:00] |                                  | (ETA:  --:--:--) "
          ],
          "name": "stderr"
        },
        {
          "output_type": "stream",
          "text": [
            "13200/30000 images done already\n",
            "Running for image indices 13200-13300.\n",
            "Embedding images...\n"
          ],
          "name": "stdout"
        },
        {
          "output_type": "stream",
          "text": [
            " [elapsed time: 0:00:00] |**********************************| (ETA:  00:00:00) "
          ],
          "name": "stderr"
        },
        {
          "output_type": "stream",
          "text": [
            "Deleting clip_embeddings_test.npz from GDrive\n",
            "Data saved to clip_embeddings_test.npz\n",
            "Uploaded clip_embeddings_test.npz to https://drive.google.com/drive/u/1/folders/1rACsi_OuN_WITrsuZt7pGZYUrUA2u6xT\n",
            "13300/30000 images done\n",
            "Downloading clip_embeddings_test.npz from GDrive\n"
          ],
          "name": "stdout"
        },
        {
          "output_type": "stream",
          "text": [
            "\r                                                                               \r\r [elapsed time: 0:00:00] |                                  | (ETA:  --:--:--) "
          ],
          "name": "stderr"
        },
        {
          "output_type": "stream",
          "text": [
            "13300/30000 images done already\n",
            "Running for image indices 13300-13400.\n",
            "Embedding images...\n"
          ],
          "name": "stdout"
        },
        {
          "output_type": "stream",
          "text": [
            " [elapsed time: 0:00:00] |**********************************| (ETA:  00:00:00) "
          ],
          "name": "stderr"
        },
        {
          "output_type": "stream",
          "text": [
            "Deleting clip_embeddings_test.npz from GDrive\n",
            "Data saved to clip_embeddings_test.npz\n",
            "Uploaded clip_embeddings_test.npz to https://drive.google.com/drive/u/1/folders/1rACsi_OuN_WITrsuZt7pGZYUrUA2u6xT\n",
            "13400/30000 images done\n",
            "Downloading clip_embeddings_test.npz from GDrive\n"
          ],
          "name": "stdout"
        },
        {
          "output_type": "stream",
          "text": [
            "\r                                                                               \r\r [elapsed time: 0:00:00] |                                  | (ETA:  --:--:--) "
          ],
          "name": "stderr"
        },
        {
          "output_type": "stream",
          "text": [
            "13400/30000 images done already\n",
            "Running for image indices 13400-13500.\n",
            "Embedding images...\n"
          ],
          "name": "stdout"
        },
        {
          "output_type": "stream",
          "text": [
            " [elapsed time: 0:00:00] |**********************************| (ETA:  00:00:00) "
          ],
          "name": "stderr"
        },
        {
          "output_type": "stream",
          "text": [
            "Deleting clip_embeddings_test.npz from GDrive\n",
            "Data saved to clip_embeddings_test.npz\n",
            "Uploaded clip_embeddings_test.npz to https://drive.google.com/drive/u/1/folders/1rACsi_OuN_WITrsuZt7pGZYUrUA2u6xT\n",
            "13500/30000 images done\n",
            "Downloading clip_embeddings_test.npz from GDrive\n"
          ],
          "name": "stdout"
        },
        {
          "output_type": "stream",
          "text": [
            "\r                                                                               \r\r [elapsed time: 0:00:00] |                                  | (ETA:  --:--:--) "
          ],
          "name": "stderr"
        },
        {
          "output_type": "stream",
          "text": [
            "13500/30000 images done already\n",
            "Running for image indices 13500-13600.\n",
            "Embedding images...\n"
          ],
          "name": "stdout"
        },
        {
          "output_type": "stream",
          "text": [
            " [elapsed time: 0:00:00] |**********************************| (ETA:  00:00:00) "
          ],
          "name": "stderr"
        },
        {
          "output_type": "stream",
          "text": [
            "Deleting clip_embeddings_test.npz from GDrive\n",
            "Data saved to clip_embeddings_test.npz\n",
            "Uploaded clip_embeddings_test.npz to https://drive.google.com/drive/u/1/folders/1rACsi_OuN_WITrsuZt7pGZYUrUA2u6xT\n",
            "13600/30000 images done\n",
            "Downloading clip_embeddings_test.npz from GDrive\n"
          ],
          "name": "stdout"
        },
        {
          "output_type": "stream",
          "text": [
            "\r                                                                               \r\r [elapsed time: 0:00:00] |                                  | (ETA:  --:--:--) "
          ],
          "name": "stderr"
        },
        {
          "output_type": "stream",
          "text": [
            "13600/30000 images done already\n",
            "Running for image indices 13600-13700.\n",
            "Embedding images...\n"
          ],
          "name": "stdout"
        },
        {
          "output_type": "stream",
          "text": [
            " [elapsed time: 0:00:00] |**********************************| (ETA:  00:00:00) "
          ],
          "name": "stderr"
        },
        {
          "output_type": "stream",
          "text": [
            "Deleting clip_embeddings_test.npz from GDrive\n",
            "Data saved to clip_embeddings_test.npz\n",
            "Uploaded clip_embeddings_test.npz to https://drive.google.com/drive/u/1/folders/1rACsi_OuN_WITrsuZt7pGZYUrUA2u6xT\n",
            "13700/30000 images done\n",
            "Downloading clip_embeddings_test.npz from GDrive\n"
          ],
          "name": "stdout"
        },
        {
          "output_type": "stream",
          "text": [
            "\r                                                                               \r\r [elapsed time: 0:00:00] |                                  | (ETA:  --:--:--) "
          ],
          "name": "stderr"
        },
        {
          "output_type": "stream",
          "text": [
            "13700/30000 images done already\n",
            "Running for image indices 13700-13800.\n",
            "Embedding images...\n"
          ],
          "name": "stdout"
        },
        {
          "output_type": "stream",
          "text": [
            " [elapsed time: 0:00:00] |**********************************| (ETA:  00:00:00) "
          ],
          "name": "stderr"
        },
        {
          "output_type": "stream",
          "text": [
            "Deleting clip_embeddings_test.npz from GDrive\n",
            "Data saved to clip_embeddings_test.npz\n",
            "Uploaded clip_embeddings_test.npz to https://drive.google.com/drive/u/1/folders/1rACsi_OuN_WITrsuZt7pGZYUrUA2u6xT\n",
            "13800/30000 images done\n",
            "Downloading clip_embeddings_test.npz from GDrive\n"
          ],
          "name": "stdout"
        },
        {
          "output_type": "stream",
          "text": [
            "\r                                                                               \r\r [elapsed time: 0:00:00] |                                  | (ETA:  --:--:--) "
          ],
          "name": "stderr"
        },
        {
          "output_type": "stream",
          "text": [
            "13800/30000 images done already\n",
            "Running for image indices 13800-13900.\n",
            "Embedding images...\n"
          ],
          "name": "stdout"
        },
        {
          "output_type": "stream",
          "text": [
            " [elapsed time: 0:00:00] |**********************************| (ETA:  00:00:00) "
          ],
          "name": "stderr"
        },
        {
          "output_type": "stream",
          "text": [
            "Deleting clip_embeddings_test.npz from GDrive\n",
            "Data saved to clip_embeddings_test.npz\n",
            "Uploaded clip_embeddings_test.npz to https://drive.google.com/drive/u/1/folders/1rACsi_OuN_WITrsuZt7pGZYUrUA2u6xT\n",
            "13900/30000 images done\n",
            "Downloading clip_embeddings_test.npz from GDrive\n"
          ],
          "name": "stdout"
        },
        {
          "output_type": "stream",
          "text": [
            "\r                                                                               \r\r [elapsed time: 0:00:00] |                                  | (ETA:  --:--:--) "
          ],
          "name": "stderr"
        },
        {
          "output_type": "stream",
          "text": [
            "13900/30000 images done already\n",
            "Running for image indices 13900-14000.\n",
            "Embedding images...\n"
          ],
          "name": "stdout"
        },
        {
          "output_type": "stream",
          "text": [
            " [elapsed time: 0:00:00] |**********************************| (ETA:  00:00:00) "
          ],
          "name": "stderr"
        },
        {
          "output_type": "stream",
          "text": [
            "Deleting clip_embeddings_test.npz from GDrive\n",
            "Data saved to clip_embeddings_test.npz\n",
            "Uploaded clip_embeddings_test.npz to https://drive.google.com/drive/u/1/folders/1rACsi_OuN_WITrsuZt7pGZYUrUA2u6xT\n",
            "14000/30000 images done\n",
            "Downloading clip_embeddings_test.npz from GDrive\n"
          ],
          "name": "stdout"
        },
        {
          "output_type": "stream",
          "text": [
            "\r                                                                               \r\r [elapsed time: 0:00:00] |                                  | (ETA:  --:--:--) "
          ],
          "name": "stderr"
        },
        {
          "output_type": "stream",
          "text": [
            "14000/30000 images done already\n",
            "Running for image indices 14000-14100.\n",
            "Embedding images...\n"
          ],
          "name": "stdout"
        },
        {
          "output_type": "stream",
          "text": [
            " [elapsed time: 0:00:00] |**********************************| (ETA:  00:00:00) "
          ],
          "name": "stderr"
        },
        {
          "output_type": "stream",
          "text": [
            "Deleting clip_embeddings_test.npz from GDrive\n",
            "Data saved to clip_embeddings_test.npz\n",
            "Uploaded clip_embeddings_test.npz to https://drive.google.com/drive/u/1/folders/1rACsi_OuN_WITrsuZt7pGZYUrUA2u6xT\n",
            "14100/30000 images done\n",
            "Downloading clip_embeddings_test.npz from GDrive\n"
          ],
          "name": "stdout"
        },
        {
          "output_type": "stream",
          "text": [
            "\r                                                                               \r\r [elapsed time: 0:00:00] |                                  | (ETA:  --:--:--) "
          ],
          "name": "stderr"
        },
        {
          "output_type": "stream",
          "text": [
            "14100/30000 images done already\n",
            "Running for image indices 14100-14200.\n",
            "Embedding images...\n"
          ],
          "name": "stdout"
        },
        {
          "output_type": "stream",
          "text": [
            " [elapsed time: 0:00:00] |**********************************| (ETA:  00:00:00) "
          ],
          "name": "stderr"
        },
        {
          "output_type": "stream",
          "text": [
            "Deleting clip_embeddings_test.npz from GDrive\n",
            "Data saved to clip_embeddings_test.npz\n",
            "Uploaded clip_embeddings_test.npz to https://drive.google.com/drive/u/1/folders/1rACsi_OuN_WITrsuZt7pGZYUrUA2u6xT\n",
            "14200/30000 images done\n",
            "Downloading clip_embeddings_test.npz from GDrive\n"
          ],
          "name": "stdout"
        },
        {
          "output_type": "stream",
          "text": [
            "\r                                                                               \r\r [elapsed time: 0:00:00] |                                  | (ETA:  --:--:--) "
          ],
          "name": "stderr"
        },
        {
          "output_type": "stream",
          "text": [
            "14200/30000 images done already\n",
            "Running for image indices 14200-14300.\n",
            "Embedding images...\n"
          ],
          "name": "stdout"
        },
        {
          "output_type": "stream",
          "text": [
            " [elapsed time: 0:00:00] |**********************************| (ETA:  00:00:00) "
          ],
          "name": "stderr"
        },
        {
          "output_type": "stream",
          "text": [
            "Deleting clip_embeddings_test.npz from GDrive\n",
            "Data saved to clip_embeddings_test.npz\n",
            "Uploaded clip_embeddings_test.npz to https://drive.google.com/drive/u/1/folders/1rACsi_OuN_WITrsuZt7pGZYUrUA2u6xT\n",
            "14300/30000 images done\n",
            "Downloading clip_embeddings_test.npz from GDrive\n"
          ],
          "name": "stdout"
        },
        {
          "output_type": "stream",
          "text": [
            "\r                                                                               \r\r [elapsed time: 0:00:00] |                                  | (ETA:  --:--:--) "
          ],
          "name": "stderr"
        },
        {
          "output_type": "stream",
          "text": [
            "14300/30000 images done already\n",
            "Running for image indices 14300-14400.\n",
            "Embedding images...\n"
          ],
          "name": "stdout"
        },
        {
          "output_type": "stream",
          "text": [
            " [elapsed time: 0:00:00] |**********************************| (ETA:  00:00:00) "
          ],
          "name": "stderr"
        },
        {
          "output_type": "stream",
          "text": [
            "Deleting clip_embeddings_test.npz from GDrive\n",
            "Data saved to clip_embeddings_test.npz\n",
            "Uploaded clip_embeddings_test.npz to https://drive.google.com/drive/u/1/folders/1rACsi_OuN_WITrsuZt7pGZYUrUA2u6xT\n",
            "14400/30000 images done\n",
            "Downloading clip_embeddings_test.npz from GDrive\n"
          ],
          "name": "stdout"
        },
        {
          "output_type": "stream",
          "text": [
            "\r                                                                               \r\r [elapsed time: 0:00:00] |                                  | (ETA:  --:--:--) "
          ],
          "name": "stderr"
        },
        {
          "output_type": "stream",
          "text": [
            "14400/30000 images done already\n",
            "Running for image indices 14400-14500.\n",
            "Embedding images...\n"
          ],
          "name": "stdout"
        },
        {
          "output_type": "stream",
          "text": [
            " [elapsed time: 0:00:00] |**********************************| (ETA:  00:00:00) "
          ],
          "name": "stderr"
        },
        {
          "output_type": "stream",
          "text": [
            "Deleting clip_embeddings_test.npz from GDrive\n",
            "Data saved to clip_embeddings_test.npz\n",
            "Uploaded clip_embeddings_test.npz to https://drive.google.com/drive/u/1/folders/1rACsi_OuN_WITrsuZt7pGZYUrUA2u6xT\n",
            "14500/30000 images done\n",
            "Downloading clip_embeddings_test.npz from GDrive\n"
          ],
          "name": "stdout"
        },
        {
          "output_type": "stream",
          "text": [
            "\r                                                                               \r\r [elapsed time: 0:00:00] |                                  | (ETA:  --:--:--) "
          ],
          "name": "stderr"
        },
        {
          "output_type": "stream",
          "text": [
            "14500/30000 images done already\n",
            "Running for image indices 14500-14600.\n",
            "Embedding images...\n"
          ],
          "name": "stdout"
        },
        {
          "output_type": "stream",
          "text": [
            " [elapsed time: 0:00:00] |**********************************| (ETA:  00:00:00) "
          ],
          "name": "stderr"
        },
        {
          "output_type": "stream",
          "text": [
            "Deleting clip_embeddings_test.npz from GDrive\n",
            "Data saved to clip_embeddings_test.npz\n",
            "Uploaded clip_embeddings_test.npz to https://drive.google.com/drive/u/1/folders/1rACsi_OuN_WITrsuZt7pGZYUrUA2u6xT\n",
            "14600/30000 images done\n",
            "Downloading clip_embeddings_test.npz from GDrive\n"
          ],
          "name": "stdout"
        },
        {
          "output_type": "stream",
          "text": [
            "\r                                                                               \r\r [elapsed time: 0:00:00] |                                  | (ETA:  --:--:--) "
          ],
          "name": "stderr"
        },
        {
          "output_type": "stream",
          "text": [
            "14600/30000 images done already\n",
            "Running for image indices 14600-14700.\n",
            "Embedding images...\n"
          ],
          "name": "stdout"
        },
        {
          "output_type": "stream",
          "text": [
            " [elapsed time: 0:00:00] |**********************************| (ETA:  00:00:00) "
          ],
          "name": "stderr"
        },
        {
          "output_type": "stream",
          "text": [
            "Deleting clip_embeddings_test.npz from GDrive\n",
            "Data saved to clip_embeddings_test.npz\n",
            "Uploaded clip_embeddings_test.npz to https://drive.google.com/drive/u/1/folders/1rACsi_OuN_WITrsuZt7pGZYUrUA2u6xT\n",
            "14700/30000 images done\n",
            "Downloading clip_embeddings_test.npz from GDrive\n"
          ],
          "name": "stdout"
        },
        {
          "output_type": "stream",
          "text": [
            "\r                                                                               \r\r [elapsed time: 0:00:00] |                                  | (ETA:  --:--:--) "
          ],
          "name": "stderr"
        },
        {
          "output_type": "stream",
          "text": [
            "14700/30000 images done already\n",
            "Running for image indices 14700-14800.\n",
            "Embedding images...\n"
          ],
          "name": "stdout"
        },
        {
          "output_type": "stream",
          "text": [
            " [elapsed time: 0:00:00] |**********************************| (ETA:  00:00:00) "
          ],
          "name": "stderr"
        },
        {
          "output_type": "stream",
          "text": [
            "Deleting clip_embeddings_test.npz from GDrive\n",
            "Data saved to clip_embeddings_test.npz\n",
            "Uploaded clip_embeddings_test.npz to https://drive.google.com/drive/u/1/folders/1rACsi_OuN_WITrsuZt7pGZYUrUA2u6xT\n",
            "14800/30000 images done\n",
            "Downloading clip_embeddings_test.npz from GDrive\n"
          ],
          "name": "stdout"
        },
        {
          "output_type": "stream",
          "text": [
            "\r                                                                               \r\r [elapsed time: 0:00:00] |                                  | (ETA:  --:--:--) "
          ],
          "name": "stderr"
        },
        {
          "output_type": "stream",
          "text": [
            "14800/30000 images done already\n",
            "Running for image indices 14800-14900.\n",
            "Embedding images...\n"
          ],
          "name": "stdout"
        },
        {
          "output_type": "stream",
          "text": [
            " [elapsed time: 0:00:00] |**********************************| (ETA:  00:00:00) "
          ],
          "name": "stderr"
        },
        {
          "output_type": "stream",
          "text": [
            "Deleting clip_embeddings_test.npz from GDrive\n",
            "Data saved to clip_embeddings_test.npz\n",
            "Uploaded clip_embeddings_test.npz to https://drive.google.com/drive/u/1/folders/1rACsi_OuN_WITrsuZt7pGZYUrUA2u6xT\n",
            "14900/30000 images done\n",
            "Downloading clip_embeddings_test.npz from GDrive\n"
          ],
          "name": "stdout"
        },
        {
          "output_type": "stream",
          "text": [
            "\r                                                                               \r\r [elapsed time: 0:00:00] |                                  | (ETA:  --:--:--) "
          ],
          "name": "stderr"
        },
        {
          "output_type": "stream",
          "text": [
            "14900/30000 images done already\n",
            "Running for image indices 14900-15000.\n",
            "Embedding images...\n"
          ],
          "name": "stdout"
        },
        {
          "output_type": "stream",
          "text": [
            " [elapsed time: 0:00:00] |**********************************| (ETA:  00:00:00) "
          ],
          "name": "stderr"
        },
        {
          "output_type": "stream",
          "text": [
            "Deleting clip_embeddings_test.npz from GDrive\n",
            "Data saved to clip_embeddings_test.npz\n",
            "Uploaded clip_embeddings_test.npz to https://drive.google.com/drive/u/1/folders/1rACsi_OuN_WITrsuZt7pGZYUrUA2u6xT\n",
            "15000/30000 images done\n",
            "Downloading clip_embeddings_test.npz from GDrive\n"
          ],
          "name": "stdout"
        },
        {
          "output_type": "stream",
          "text": [
            "\r                                                                               \r\r [elapsed time: 0:00:00] |                                  | (ETA:  --:--:--) "
          ],
          "name": "stderr"
        },
        {
          "output_type": "stream",
          "text": [
            "15000/30000 images done already\n",
            "Running for image indices 15000-15100.\n",
            "Embedding images...\n"
          ],
          "name": "stdout"
        },
        {
          "output_type": "stream",
          "text": [
            " [elapsed time: 0:00:00] |**********************************| (ETA:  00:00:00) "
          ],
          "name": "stderr"
        },
        {
          "output_type": "stream",
          "text": [
            "Deleting clip_embeddings_test.npz from GDrive\n",
            "Data saved to clip_embeddings_test.npz\n",
            "Uploaded clip_embeddings_test.npz to https://drive.google.com/drive/u/1/folders/1rACsi_OuN_WITrsuZt7pGZYUrUA2u6xT\n",
            "15100/30000 images done\n",
            "Downloading clip_embeddings_test.npz from GDrive\n"
          ],
          "name": "stdout"
        },
        {
          "output_type": "stream",
          "text": [
            "\r                                                                               \r\r [elapsed time: 0:00:00] |                                  | (ETA:  --:--:--) "
          ],
          "name": "stderr"
        },
        {
          "output_type": "stream",
          "text": [
            "15100/30000 images done already\n",
            "Running for image indices 15100-15200.\n",
            "Embedding images...\n"
          ],
          "name": "stdout"
        },
        {
          "output_type": "stream",
          "text": [
            " [elapsed time: 0:00:00] |**********************************| (ETA:  00:00:00) "
          ],
          "name": "stderr"
        },
        {
          "output_type": "stream",
          "text": [
            "Deleting clip_embeddings_test.npz from GDrive\n",
            "Data saved to clip_embeddings_test.npz\n",
            "Uploaded clip_embeddings_test.npz to https://drive.google.com/drive/u/1/folders/1rACsi_OuN_WITrsuZt7pGZYUrUA2u6xT\n",
            "15200/30000 images done\n",
            "Downloading clip_embeddings_test.npz from GDrive\n"
          ],
          "name": "stdout"
        },
        {
          "output_type": "stream",
          "text": [
            "\r                                                                               \r\r [elapsed time: 0:00:00] |                                  | (ETA:  --:--:--) "
          ],
          "name": "stderr"
        },
        {
          "output_type": "stream",
          "text": [
            "15200/30000 images done already\n",
            "Running for image indices 15200-15300.\n",
            "Embedding images...\n"
          ],
          "name": "stdout"
        },
        {
          "output_type": "stream",
          "text": [
            " [elapsed time: 0:00:00] |**********************************| (ETA:  00:00:00) "
          ],
          "name": "stderr"
        },
        {
          "output_type": "stream",
          "text": [
            "Deleting clip_embeddings_test.npz from GDrive\n",
            "Data saved to clip_embeddings_test.npz\n",
            "Uploaded clip_embeddings_test.npz to https://drive.google.com/drive/u/1/folders/1rACsi_OuN_WITrsuZt7pGZYUrUA2u6xT\n",
            "15300/30000 images done\n",
            "Downloading clip_embeddings_test.npz from GDrive\n"
          ],
          "name": "stdout"
        },
        {
          "output_type": "stream",
          "text": [
            "\r                                                                               \r\r [elapsed time: 0:00:00] |                                  | (ETA:  --:--:--) "
          ],
          "name": "stderr"
        },
        {
          "output_type": "stream",
          "text": [
            "15300/30000 images done already\n",
            "Running for image indices 15300-15400.\n",
            "Embedding images...\n"
          ],
          "name": "stdout"
        },
        {
          "output_type": "stream",
          "text": [
            " [elapsed time: 0:00:00] |**********************************| (ETA:  00:00:00) "
          ],
          "name": "stderr"
        },
        {
          "output_type": "stream",
          "text": [
            "Deleting clip_embeddings_test.npz from GDrive\n",
            "Data saved to clip_embeddings_test.npz\n",
            "Uploaded clip_embeddings_test.npz to https://drive.google.com/drive/u/1/folders/1rACsi_OuN_WITrsuZt7pGZYUrUA2u6xT\n",
            "15400/30000 images done\n",
            "Downloading clip_embeddings_test.npz from GDrive\n"
          ],
          "name": "stdout"
        },
        {
          "output_type": "stream",
          "text": [
            "\r                                                                               \r\r [elapsed time: 0:00:00] |                                  | (ETA:  --:--:--) "
          ],
          "name": "stderr"
        },
        {
          "output_type": "stream",
          "text": [
            "15400/30000 images done already\n",
            "Running for image indices 15400-15500.\n",
            "Embedding images...\n"
          ],
          "name": "stdout"
        },
        {
          "output_type": "stream",
          "text": [
            " [elapsed time: 0:00:00] |**********************************| (ETA:  00:00:00) "
          ],
          "name": "stderr"
        },
        {
          "output_type": "stream",
          "text": [
            "Deleting clip_embeddings_test.npz from GDrive\n",
            "Data saved to clip_embeddings_test.npz\n",
            "Uploaded clip_embeddings_test.npz to https://drive.google.com/drive/u/1/folders/1rACsi_OuN_WITrsuZt7pGZYUrUA2u6xT\n",
            "15500/30000 images done\n",
            "Downloading clip_embeddings_test.npz from GDrive\n"
          ],
          "name": "stdout"
        },
        {
          "output_type": "stream",
          "text": [
            "\r                                                                               \r\r [elapsed time: 0:00:00] |                                  | (ETA:  --:--:--) "
          ],
          "name": "stderr"
        },
        {
          "output_type": "stream",
          "text": [
            "15500/30000 images done already\n",
            "Running for image indices 15500-15600.\n",
            "Embedding images...\n"
          ],
          "name": "stdout"
        },
        {
          "output_type": "stream",
          "text": [
            " [elapsed time: 0:00:00] |**********************************| (ETA:  00:00:00) "
          ],
          "name": "stderr"
        },
        {
          "output_type": "stream",
          "text": [
            "Deleting clip_embeddings_test.npz from GDrive\n",
            "Data saved to clip_embeddings_test.npz\n",
            "Uploaded clip_embeddings_test.npz to https://drive.google.com/drive/u/1/folders/1rACsi_OuN_WITrsuZt7pGZYUrUA2u6xT\n",
            "15600/30000 images done\n",
            "Downloading clip_embeddings_test.npz from GDrive\n"
          ],
          "name": "stdout"
        },
        {
          "output_type": "stream",
          "text": [
            "\r                                                                               \r\r [elapsed time: 0:00:00] |                                  | (ETA:  --:--:--) "
          ],
          "name": "stderr"
        },
        {
          "output_type": "stream",
          "text": [
            "15600/30000 images done already\n",
            "Running for image indices 15600-15700.\n",
            "Embedding images...\n"
          ],
          "name": "stdout"
        },
        {
          "output_type": "stream",
          "text": [
            " [elapsed time: 0:00:00] |**********************************| (ETA:  00:00:00) "
          ],
          "name": "stderr"
        },
        {
          "output_type": "stream",
          "text": [
            "Deleting clip_embeddings_test.npz from GDrive\n",
            "Data saved to clip_embeddings_test.npz\n",
            "Uploaded clip_embeddings_test.npz to https://drive.google.com/drive/u/1/folders/1rACsi_OuN_WITrsuZt7pGZYUrUA2u6xT\n",
            "15700/30000 images done\n",
            "Downloading clip_embeddings_test.npz from GDrive\n"
          ],
          "name": "stdout"
        },
        {
          "output_type": "stream",
          "text": [
            "\r                                                                               \r\r [elapsed time: 0:00:00] |                                  | (ETA:  --:--:--) "
          ],
          "name": "stderr"
        },
        {
          "output_type": "stream",
          "text": [
            "15700/30000 images done already\n",
            "Running for image indices 15700-15800.\n",
            "Embedding images...\n"
          ],
          "name": "stdout"
        },
        {
          "output_type": "stream",
          "text": [
            " [elapsed time: 0:00:00] |**********************************| (ETA:  00:00:00) "
          ],
          "name": "stderr"
        },
        {
          "output_type": "stream",
          "text": [
            "Deleting clip_embeddings_test.npz from GDrive\n",
            "Data saved to clip_embeddings_test.npz\n",
            "Uploaded clip_embeddings_test.npz to https://drive.google.com/drive/u/1/folders/1rACsi_OuN_WITrsuZt7pGZYUrUA2u6xT\n",
            "15800/30000 images done\n",
            "Downloading clip_embeddings_test.npz from GDrive\n"
          ],
          "name": "stdout"
        },
        {
          "output_type": "stream",
          "text": [
            "\r                                                                               \r\r [elapsed time: 0:00:00] |                                  | (ETA:  --:--:--) "
          ],
          "name": "stderr"
        },
        {
          "output_type": "stream",
          "text": [
            "15800/30000 images done already\n",
            "Running for image indices 15800-15900.\n",
            "Embedding images...\n"
          ],
          "name": "stdout"
        },
        {
          "output_type": "stream",
          "text": [
            " [elapsed time: 0:00:00] |**********************************| (ETA:  00:00:00) "
          ],
          "name": "stderr"
        },
        {
          "output_type": "stream",
          "text": [
            "Deleting clip_embeddings_test.npz from GDrive\n",
            "Data saved to clip_embeddings_test.npz\n",
            "Uploaded clip_embeddings_test.npz to https://drive.google.com/drive/u/1/folders/1rACsi_OuN_WITrsuZt7pGZYUrUA2u6xT\n",
            "15900/30000 images done\n",
            "Downloading clip_embeddings_test.npz from GDrive\n"
          ],
          "name": "stdout"
        },
        {
          "output_type": "stream",
          "text": [
            "\r                                                                               \r\r [elapsed time: 0:00:00] |                                  | (ETA:  --:--:--) "
          ],
          "name": "stderr"
        },
        {
          "output_type": "stream",
          "text": [
            "15900/30000 images done already\n",
            "Running for image indices 15900-16000.\n",
            "Embedding images...\n"
          ],
          "name": "stdout"
        },
        {
          "output_type": "stream",
          "text": [
            " [elapsed time: 0:00:00] |**********************************| (ETA:  00:00:00) "
          ],
          "name": "stderr"
        },
        {
          "output_type": "stream",
          "text": [
            "Deleting clip_embeddings_test.npz from GDrive\n",
            "Data saved to clip_embeddings_test.npz\n",
            "Uploaded clip_embeddings_test.npz to https://drive.google.com/drive/u/1/folders/1rACsi_OuN_WITrsuZt7pGZYUrUA2u6xT\n",
            "16000/30000 images done\n",
            "Downloading clip_embeddings_test.npz from GDrive\n"
          ],
          "name": "stdout"
        },
        {
          "output_type": "stream",
          "text": [
            "\r                                                                               \r\r [elapsed time: 0:00:00] |                                  | (ETA:  --:--:--) "
          ],
          "name": "stderr"
        },
        {
          "output_type": "stream",
          "text": [
            "16000/30000 images done already\n",
            "Running for image indices 16000-16100.\n",
            "Embedding images...\n"
          ],
          "name": "stdout"
        },
        {
          "output_type": "stream",
          "text": [
            " [elapsed time: 0:00:00] |**********************************| (ETA:  00:00:00) "
          ],
          "name": "stderr"
        },
        {
          "output_type": "stream",
          "text": [
            "Deleting clip_embeddings_test.npz from GDrive\n",
            "Data saved to clip_embeddings_test.npz\n",
            "Uploaded clip_embeddings_test.npz to https://drive.google.com/drive/u/1/folders/1rACsi_OuN_WITrsuZt7pGZYUrUA2u6xT\n",
            "16100/30000 images done\n",
            "Downloading clip_embeddings_test.npz from GDrive\n"
          ],
          "name": "stdout"
        },
        {
          "output_type": "stream",
          "text": [
            "\r                                                                               \r\r [elapsed time: 0:00:00] |                                  | (ETA:  --:--:--) "
          ],
          "name": "stderr"
        },
        {
          "output_type": "stream",
          "text": [
            "16100/30000 images done already\n",
            "Running for image indices 16100-16200.\n",
            "Embedding images...\n"
          ],
          "name": "stdout"
        },
        {
          "output_type": "stream",
          "text": [
            " [elapsed time: 0:00:00] |**********************************| (ETA:  00:00:00) "
          ],
          "name": "stderr"
        },
        {
          "output_type": "stream",
          "text": [
            "Deleting clip_embeddings_test.npz from GDrive\n",
            "Data saved to clip_embeddings_test.npz\n",
            "Uploaded clip_embeddings_test.npz to https://drive.google.com/drive/u/1/folders/1rACsi_OuN_WITrsuZt7pGZYUrUA2u6xT\n",
            "16200/30000 images done\n",
            "Downloading clip_embeddings_test.npz from GDrive\n"
          ],
          "name": "stdout"
        },
        {
          "output_type": "stream",
          "text": [
            "\r                                                                               \r\r [elapsed time: 0:00:00] |                                  | (ETA:  --:--:--) "
          ],
          "name": "stderr"
        },
        {
          "output_type": "stream",
          "text": [
            "16200/30000 images done already\n",
            "Running for image indices 16200-16300.\n",
            "Embedding images...\n"
          ],
          "name": "stdout"
        },
        {
          "output_type": "stream",
          "text": [
            " [elapsed time: 0:00:00] |**********************************| (ETA:  00:00:00) "
          ],
          "name": "stderr"
        },
        {
          "output_type": "stream",
          "text": [
            "Deleting clip_embeddings_test.npz from GDrive\n",
            "Data saved to clip_embeddings_test.npz\n",
            "Uploaded clip_embeddings_test.npz to https://drive.google.com/drive/u/1/folders/1rACsi_OuN_WITrsuZt7pGZYUrUA2u6xT\n",
            "16300/30000 images done\n",
            "Downloading clip_embeddings_test.npz from GDrive\n"
          ],
          "name": "stdout"
        },
        {
          "output_type": "stream",
          "text": [
            "\r                                                                               \r\r [elapsed time: 0:00:00] |                                  | (ETA:  --:--:--) "
          ],
          "name": "stderr"
        },
        {
          "output_type": "stream",
          "text": [
            "16300/30000 images done already\n",
            "Running for image indices 16300-16400.\n",
            "Embedding images...\n"
          ],
          "name": "stdout"
        },
        {
          "output_type": "stream",
          "text": [
            " [elapsed time: 0:00:00] |**********************************| (ETA:  00:00:00) "
          ],
          "name": "stderr"
        },
        {
          "output_type": "stream",
          "text": [
            "Deleting clip_embeddings_test.npz from GDrive\n",
            "Data saved to clip_embeddings_test.npz\n",
            "Uploaded clip_embeddings_test.npz to https://drive.google.com/drive/u/1/folders/1rACsi_OuN_WITrsuZt7pGZYUrUA2u6xT\n",
            "16400/30000 images done\n",
            "Downloading clip_embeddings_test.npz from GDrive\n"
          ],
          "name": "stdout"
        },
        {
          "output_type": "stream",
          "text": [
            "\r                                                                               \r\r [elapsed time: 0:00:00] |                                  | (ETA:  --:--:--) "
          ],
          "name": "stderr"
        },
        {
          "output_type": "stream",
          "text": [
            "16400/30000 images done already\n",
            "Running for image indices 16400-16500.\n",
            "Embedding images...\n"
          ],
          "name": "stdout"
        },
        {
          "output_type": "stream",
          "text": [
            " [elapsed time: 0:00:00] |**********************************| (ETA:  00:00:00) "
          ],
          "name": "stderr"
        },
        {
          "output_type": "stream",
          "text": [
            "Deleting clip_embeddings_test.npz from GDrive\n",
            "Data saved to clip_embeddings_test.npz\n",
            "Uploaded clip_embeddings_test.npz to https://drive.google.com/drive/u/1/folders/1rACsi_OuN_WITrsuZt7pGZYUrUA2u6xT\n",
            "16500/30000 images done\n",
            "Downloading clip_embeddings_test.npz from GDrive\n"
          ],
          "name": "stdout"
        },
        {
          "output_type": "stream",
          "text": [
            "\r                                                                               \r\r [elapsed time: 0:00:00] |                                  | (ETA:  --:--:--) "
          ],
          "name": "stderr"
        },
        {
          "output_type": "stream",
          "text": [
            "16500/30000 images done already\n",
            "Running for image indices 16500-16600.\n",
            "Embedding images...\n"
          ],
          "name": "stdout"
        },
        {
          "output_type": "stream",
          "text": [
            " [elapsed time: 0:00:00] |**********************************| (ETA:  00:00:00) "
          ],
          "name": "stderr"
        },
        {
          "output_type": "stream",
          "text": [
            "Deleting clip_embeddings_test.npz from GDrive\n",
            "Data saved to clip_embeddings_test.npz\n",
            "Uploaded clip_embeddings_test.npz to https://drive.google.com/drive/u/1/folders/1rACsi_OuN_WITrsuZt7pGZYUrUA2u6xT\n",
            "16600/30000 images done\n",
            "Downloading clip_embeddings_test.npz from GDrive\n"
          ],
          "name": "stdout"
        },
        {
          "output_type": "stream",
          "text": [
            "\r                                                                               \r\r [elapsed time: 0:00:00] |                                  | (ETA:  --:--:--) "
          ],
          "name": "stderr"
        },
        {
          "output_type": "stream",
          "text": [
            "16600/30000 images done already\n",
            "Running for image indices 16600-16700.\n",
            "Embedding images...\n"
          ],
          "name": "stdout"
        },
        {
          "output_type": "stream",
          "text": [
            " [elapsed time: 0:00:00] |**********************************| (ETA:  00:00:00) "
          ],
          "name": "stderr"
        },
        {
          "output_type": "stream",
          "text": [
            "Deleting clip_embeddings_test.npz from GDrive\n",
            "Data saved to clip_embeddings_test.npz\n",
            "Uploaded clip_embeddings_test.npz to https://drive.google.com/drive/u/1/folders/1rACsi_OuN_WITrsuZt7pGZYUrUA2u6xT\n",
            "16700/30000 images done\n",
            "Downloading clip_embeddings_test.npz from GDrive\n"
          ],
          "name": "stdout"
        },
        {
          "output_type": "stream",
          "text": [
            "\r                                                                               \r\r [elapsed time: 0:00:00] |                                  | (ETA:  --:--:--) "
          ],
          "name": "stderr"
        },
        {
          "output_type": "stream",
          "text": [
            "16700/30000 images done already\n",
            "Running for image indices 16700-16800.\n",
            "Embedding images...\n"
          ],
          "name": "stdout"
        },
        {
          "output_type": "stream",
          "text": [
            " [elapsed time: 0:00:00] |**********************************| (ETA:  00:00:00) "
          ],
          "name": "stderr"
        },
        {
          "output_type": "stream",
          "text": [
            "Deleting clip_embeddings_test.npz from GDrive\n",
            "Data saved to clip_embeddings_test.npz\n",
            "Uploaded clip_embeddings_test.npz to https://drive.google.com/drive/u/1/folders/1rACsi_OuN_WITrsuZt7pGZYUrUA2u6xT\n",
            "16800/30000 images done\n",
            "Downloading clip_embeddings_test.npz from GDrive\n"
          ],
          "name": "stdout"
        },
        {
          "output_type": "stream",
          "text": [
            "\r                                                                               \r\r [elapsed time: 0:00:00] |                                  | (ETA:  --:--:--) "
          ],
          "name": "stderr"
        },
        {
          "output_type": "stream",
          "text": [
            "16800/30000 images done already\n",
            "Running for image indices 16800-16900.\n",
            "Embedding images...\n"
          ],
          "name": "stdout"
        },
        {
          "output_type": "stream",
          "text": [
            " [elapsed time: 0:00:00] |**********************************| (ETA:  00:00:00) "
          ],
          "name": "stderr"
        },
        {
          "output_type": "stream",
          "text": [
            "Deleting clip_embeddings_test.npz from GDrive\n",
            "Data saved to clip_embeddings_test.npz\n",
            "Uploaded clip_embeddings_test.npz to https://drive.google.com/drive/u/1/folders/1rACsi_OuN_WITrsuZt7pGZYUrUA2u6xT\n",
            "16900/30000 images done\n",
            "Downloading clip_embeddings_test.npz from GDrive\n"
          ],
          "name": "stdout"
        },
        {
          "output_type": "stream",
          "text": [
            "\r                                                                               \r\r [elapsed time: 0:00:00] |                                  | (ETA:  --:--:--) "
          ],
          "name": "stderr"
        },
        {
          "output_type": "stream",
          "text": [
            "16900/30000 images done already\n",
            "Running for image indices 16900-17000.\n",
            "Embedding images...\n"
          ],
          "name": "stdout"
        },
        {
          "output_type": "stream",
          "text": [
            " [elapsed time: 0:00:00] |**********************************| (ETA:  00:00:00) "
          ],
          "name": "stderr"
        },
        {
          "output_type": "stream",
          "text": [
            "Deleting clip_embeddings_test.npz from GDrive\n",
            "Data saved to clip_embeddings_test.npz\n",
            "Uploaded clip_embeddings_test.npz to https://drive.google.com/drive/u/1/folders/1rACsi_OuN_WITrsuZt7pGZYUrUA2u6xT\n",
            "17000/30000 images done\n",
            "Downloading clip_embeddings_test.npz from GDrive\n"
          ],
          "name": "stdout"
        },
        {
          "output_type": "stream",
          "text": [
            "\r                                                                               \r\r [elapsed time: 0:00:00] |                                  | (ETA:  --:--:--) "
          ],
          "name": "stderr"
        },
        {
          "output_type": "stream",
          "text": [
            "17000/30000 images done already\n",
            "Running for image indices 17000-17100.\n",
            "Embedding images...\n"
          ],
          "name": "stdout"
        },
        {
          "output_type": "stream",
          "text": [
            " [elapsed time: 0:00:00] |**********************************| (ETA:  00:00:00) "
          ],
          "name": "stderr"
        },
        {
          "output_type": "stream",
          "text": [
            "Deleting clip_embeddings_test.npz from GDrive\n",
            "Data saved to clip_embeddings_test.npz\n",
            "Uploaded clip_embeddings_test.npz to https://drive.google.com/drive/u/1/folders/1rACsi_OuN_WITrsuZt7pGZYUrUA2u6xT\n",
            "17100/30000 images done\n",
            "Downloading clip_embeddings_test.npz from GDrive\n"
          ],
          "name": "stdout"
        },
        {
          "output_type": "stream",
          "text": [
            "\r                                                                               \r\r [elapsed time: 0:00:00] |                                  | (ETA:  --:--:--) "
          ],
          "name": "stderr"
        },
        {
          "output_type": "stream",
          "text": [
            "17100/30000 images done already\n",
            "Running for image indices 17100-17200.\n",
            "Embedding images...\n"
          ],
          "name": "stdout"
        },
        {
          "output_type": "stream",
          "text": [
            " [elapsed time: 0:00:00] |**********************************| (ETA:  00:00:00) "
          ],
          "name": "stderr"
        },
        {
          "output_type": "stream",
          "text": [
            "Deleting clip_embeddings_test.npz from GDrive\n",
            "Data saved to clip_embeddings_test.npz\n",
            "Uploaded clip_embeddings_test.npz to https://drive.google.com/drive/u/1/folders/1rACsi_OuN_WITrsuZt7pGZYUrUA2u6xT\n",
            "17200/30000 images done\n",
            "Downloading clip_embeddings_test.npz from GDrive\n",
            "17200/30000 images done already\n",
            "Running for image indices 17200-17300.\n"
          ],
          "name": "stdout"
        },
        {
          "output_type": "stream",
          "text": [
            " [elapsed time: 0:00:00] |**********************************| (ETA:  00:00:00) "
          ],
          "name": "stderr"
        },
        {
          "output_type": "stream",
          "text": [
            "Embedding images...\n",
            "Deleting clip_embeddings_test.npz from GDrive\n",
            "Data saved to clip_embeddings_test.npz\n",
            "Uploaded clip_embeddings_test.npz to https://drive.google.com/drive/u/1/folders/1rACsi_OuN_WITrsuZt7pGZYUrUA2u6xT\n",
            "17300/30000 images done\n",
            "Downloading clip_embeddings_test.npz from GDrive\n"
          ],
          "name": "stdout"
        },
        {
          "output_type": "stream",
          "text": [
            "\r                                                                               \r\r [elapsed time: 0:00:00] |                                  | (ETA:  --:--:--) "
          ],
          "name": "stderr"
        },
        {
          "output_type": "stream",
          "text": [
            "17300/30000 images done already\n",
            "Running for image indices 17300-17400.\n",
            "Embedding images...\n"
          ],
          "name": "stdout"
        },
        {
          "output_type": "stream",
          "text": [
            " [elapsed time: 0:00:00] |**********************************| (ETA:  00:00:00) "
          ],
          "name": "stderr"
        },
        {
          "output_type": "stream",
          "text": [
            "Deleting clip_embeddings_test.npz from GDrive\n",
            "Data saved to clip_embeddings_test.npz\n",
            "Uploaded clip_embeddings_test.npz to https://drive.google.com/drive/u/1/folders/1rACsi_OuN_WITrsuZt7pGZYUrUA2u6xT\n",
            "17400/30000 images done\n",
            "Downloading clip_embeddings_test.npz from GDrive\n"
          ],
          "name": "stdout"
        },
        {
          "output_type": "stream",
          "text": [
            "\r                                                                               \r\r [elapsed time: 0:00:00] |                                  | (ETA:  --:--:--) "
          ],
          "name": "stderr"
        },
        {
          "output_type": "stream",
          "text": [
            "17400/30000 images done already\n",
            "Running for image indices 17400-17500.\n",
            "Embedding images...\n"
          ],
          "name": "stdout"
        },
        {
          "output_type": "stream",
          "text": [
            " [elapsed time: 0:00:00] |**********************************| (ETA:  00:00:00) "
          ],
          "name": "stderr"
        },
        {
          "output_type": "stream",
          "text": [
            "Deleting clip_embeddings_test.npz from GDrive\n",
            "Data saved to clip_embeddings_test.npz\n",
            "Uploaded clip_embeddings_test.npz to https://drive.google.com/drive/u/1/folders/1rACsi_OuN_WITrsuZt7pGZYUrUA2u6xT\n",
            "17500/30000 images done\n",
            "Downloading clip_embeddings_test.npz from GDrive\n"
          ],
          "name": "stdout"
        },
        {
          "output_type": "stream",
          "text": [
            "\r                                                                               \r\r [elapsed time: 0:00:00] |                                  | (ETA:  --:--:--) "
          ],
          "name": "stderr"
        },
        {
          "output_type": "stream",
          "text": [
            "17500/30000 images done already\n",
            "Running for image indices 17500-17600.\n",
            "Embedding images...\n"
          ],
          "name": "stdout"
        },
        {
          "output_type": "stream",
          "text": [
            " [elapsed time: 0:00:00] |**********************************| (ETA:  00:00:00) "
          ],
          "name": "stderr"
        },
        {
          "output_type": "stream",
          "text": [
            "Deleting clip_embeddings_test.npz from GDrive\n",
            "Data saved to clip_embeddings_test.npz\n",
            "Uploaded clip_embeddings_test.npz to https://drive.google.com/drive/u/1/folders/1rACsi_OuN_WITrsuZt7pGZYUrUA2u6xT\n",
            "17600/30000 images done\n",
            "Downloading clip_embeddings_test.npz from GDrive\n"
          ],
          "name": "stdout"
        },
        {
          "output_type": "stream",
          "text": [
            "\r                                                                               \r\r [elapsed time: 0:00:00] |                                  | (ETA:  --:--:--) "
          ],
          "name": "stderr"
        },
        {
          "output_type": "stream",
          "text": [
            "17600/30000 images done already\n",
            "Running for image indices 17600-17700.\n",
            "Embedding images...\n"
          ],
          "name": "stdout"
        },
        {
          "output_type": "stream",
          "text": [
            " [elapsed time: 0:00:00] |**********************************| (ETA:  00:00:00) "
          ],
          "name": "stderr"
        },
        {
          "output_type": "stream",
          "text": [
            "Deleting clip_embeddings_test.npz from GDrive\n",
            "Data saved to clip_embeddings_test.npz\n",
            "Uploaded clip_embeddings_test.npz to https://drive.google.com/drive/u/1/folders/1rACsi_OuN_WITrsuZt7pGZYUrUA2u6xT\n",
            "17700/30000 images done\n",
            "Downloading clip_embeddings_test.npz from GDrive\n"
          ],
          "name": "stdout"
        },
        {
          "output_type": "stream",
          "text": [
            "\r                                                                               \r\r [elapsed time: 0:00:00] |                                  | (ETA:  --:--:--) "
          ],
          "name": "stderr"
        },
        {
          "output_type": "stream",
          "text": [
            "17700/30000 images done already\n",
            "Running for image indices 17700-17800.\n",
            "Embedding images...\n"
          ],
          "name": "stdout"
        },
        {
          "output_type": "stream",
          "text": [
            " [elapsed time: 0:00:00] |**********************************| (ETA:  00:00:00) "
          ],
          "name": "stderr"
        },
        {
          "output_type": "stream",
          "text": [
            "Deleting clip_embeddings_test.npz from GDrive\n",
            "Data saved to clip_embeddings_test.npz\n",
            "Uploaded clip_embeddings_test.npz to https://drive.google.com/drive/u/1/folders/1rACsi_OuN_WITrsuZt7pGZYUrUA2u6xT\n",
            "17800/30000 images done\n",
            "Downloading clip_embeddings_test.npz from GDrive\n"
          ],
          "name": "stdout"
        },
        {
          "output_type": "stream",
          "text": [
            "\r                                                                               \r\r [elapsed time: 0:00:00] |                                  | (ETA:  --:--:--) "
          ],
          "name": "stderr"
        },
        {
          "output_type": "stream",
          "text": [
            "17800/30000 images done already\n",
            "Running for image indices 17800-17900.\n",
            "Embedding images...\n"
          ],
          "name": "stdout"
        },
        {
          "output_type": "stream",
          "text": [
            " [elapsed time: 0:00:00] |**********************************| (ETA:  00:00:00) "
          ],
          "name": "stderr"
        },
        {
          "output_type": "stream",
          "text": [
            "Deleting clip_embeddings_test.npz from GDrive\n",
            "Data saved to clip_embeddings_test.npz\n",
            "Uploaded clip_embeddings_test.npz to https://drive.google.com/drive/u/1/folders/1rACsi_OuN_WITrsuZt7pGZYUrUA2u6xT\n",
            "17900/30000 images done\n",
            "Downloading clip_embeddings_test.npz from GDrive\n"
          ],
          "name": "stdout"
        },
        {
          "output_type": "stream",
          "text": [
            "\r                                                                               \r\r [elapsed time: 0:00:00] |                                  | (ETA:  --:--:--) "
          ],
          "name": "stderr"
        },
        {
          "output_type": "stream",
          "text": [
            "17900/30000 images done already\n",
            "Running for image indices 17900-18000.\n",
            "Embedding images...\n"
          ],
          "name": "stdout"
        },
        {
          "output_type": "stream",
          "text": [
            " [elapsed time: 0:00:00] |**********************************| (ETA:  00:00:00) "
          ],
          "name": "stderr"
        },
        {
          "output_type": "stream",
          "text": [
            "Deleting clip_embeddings_test.npz from GDrive\n",
            "Data saved to clip_embeddings_test.npz\n",
            "Uploaded clip_embeddings_test.npz to https://drive.google.com/drive/u/1/folders/1rACsi_OuN_WITrsuZt7pGZYUrUA2u6xT\n",
            "18000/30000 images done\n",
            "Downloading clip_embeddings_test.npz from GDrive\n"
          ],
          "name": "stdout"
        },
        {
          "output_type": "stream",
          "text": [
            "\r                                                                               \r\r [elapsed time: 0:00:00] |                                  | (ETA:  --:--:--) "
          ],
          "name": "stderr"
        },
        {
          "output_type": "stream",
          "text": [
            "18000/30000 images done already\n",
            "Running for image indices 18000-18100.\n",
            "Embedding images...\n"
          ],
          "name": "stdout"
        },
        {
          "output_type": "stream",
          "text": [
            " [elapsed time: 0:00:00] |**********************************| (ETA:  00:00:00) "
          ],
          "name": "stderr"
        },
        {
          "output_type": "stream",
          "text": [
            "Deleting clip_embeddings_test.npz from GDrive\n",
            "Data saved to clip_embeddings_test.npz\n",
            "Uploaded clip_embeddings_test.npz to https://drive.google.com/drive/u/1/folders/1rACsi_OuN_WITrsuZt7pGZYUrUA2u6xT\n",
            "18100/30000 images done\n",
            "Downloading clip_embeddings_test.npz from GDrive\n"
          ],
          "name": "stdout"
        },
        {
          "output_type": "stream",
          "text": [
            "\r                                                                               \r\r [elapsed time: 0:00:00] |                                  | (ETA:  --:--:--) "
          ],
          "name": "stderr"
        },
        {
          "output_type": "stream",
          "text": [
            "18100/30000 images done already\n",
            "Running for image indices 18100-18200.\n",
            "Embedding images...\n"
          ],
          "name": "stdout"
        },
        {
          "output_type": "stream",
          "text": [
            " [elapsed time: 0:00:00] |**********************************| (ETA:  00:00:00) "
          ],
          "name": "stderr"
        },
        {
          "output_type": "stream",
          "text": [
            "Deleting clip_embeddings_test.npz from GDrive\n",
            "Data saved to clip_embeddings_test.npz\n",
            "Uploaded clip_embeddings_test.npz to https://drive.google.com/drive/u/1/folders/1rACsi_OuN_WITrsuZt7pGZYUrUA2u6xT\n",
            "18200/30000 images done\n",
            "Downloading clip_embeddings_test.npz from GDrive\n"
          ],
          "name": "stdout"
        },
        {
          "output_type": "stream",
          "text": [
            "\r                                                                               \r\r [elapsed time: 0:00:00] |                                  | (ETA:  --:--:--) "
          ],
          "name": "stderr"
        },
        {
          "output_type": "stream",
          "text": [
            "18200/30000 images done already\n",
            "Running for image indices 18200-18300.\n",
            "Embedding images...\n"
          ],
          "name": "stdout"
        },
        {
          "output_type": "stream",
          "text": [
            " [elapsed time: 0:00:00] |**********************************| (ETA:  00:00:00) "
          ],
          "name": "stderr"
        },
        {
          "output_type": "stream",
          "text": [
            "Deleting clip_embeddings_test.npz from GDrive\n",
            "Data saved to clip_embeddings_test.npz\n",
            "Uploaded clip_embeddings_test.npz to https://drive.google.com/drive/u/1/folders/1rACsi_OuN_WITrsuZt7pGZYUrUA2u6xT\n",
            "18300/30000 images done\n",
            "Downloading clip_embeddings_test.npz from GDrive\n"
          ],
          "name": "stdout"
        },
        {
          "output_type": "stream",
          "text": [
            "\r                                                                               \r\r [elapsed time: 0:00:00] |                                  | (ETA:  --:--:--) "
          ],
          "name": "stderr"
        },
        {
          "output_type": "stream",
          "text": [
            "18300/30000 images done already\n",
            "Running for image indices 18300-18400.\n",
            "Embedding images...\n"
          ],
          "name": "stdout"
        },
        {
          "output_type": "stream",
          "text": [
            " [elapsed time: 0:00:00] |**********************************| (ETA:  00:00:00) "
          ],
          "name": "stderr"
        },
        {
          "output_type": "stream",
          "text": [
            "Deleting clip_embeddings_test.npz from GDrive\n",
            "Data saved to clip_embeddings_test.npz\n",
            "Uploaded clip_embeddings_test.npz to https://drive.google.com/drive/u/1/folders/1rACsi_OuN_WITrsuZt7pGZYUrUA2u6xT\n",
            "18400/30000 images done\n",
            "Downloading clip_embeddings_test.npz from GDrive\n"
          ],
          "name": "stdout"
        },
        {
          "output_type": "stream",
          "text": [
            "\r                                                                               \r\r [elapsed time: 0:00:00] |                                  | (ETA:  --:--:--) "
          ],
          "name": "stderr"
        },
        {
          "output_type": "stream",
          "text": [
            "18400/30000 images done already\n",
            "Running for image indices 18400-18500.\n",
            "Embedding images...\n"
          ],
          "name": "stdout"
        },
        {
          "output_type": "stream",
          "text": [
            " [elapsed time: 0:00:00] |**********************************| (ETA:  00:00:00) "
          ],
          "name": "stderr"
        },
        {
          "output_type": "stream",
          "text": [
            "Deleting clip_embeddings_test.npz from GDrive\n",
            "Data saved to clip_embeddings_test.npz\n",
            "Uploaded clip_embeddings_test.npz to https://drive.google.com/drive/u/1/folders/1rACsi_OuN_WITrsuZt7pGZYUrUA2u6xT\n",
            "18500/30000 images done\n",
            "Downloading clip_embeddings_test.npz from GDrive\n"
          ],
          "name": "stdout"
        },
        {
          "output_type": "stream",
          "text": [
            "\r                                                                               \r\r [elapsed time: 0:00:00] |                                  | (ETA:  --:--:--) "
          ],
          "name": "stderr"
        },
        {
          "output_type": "stream",
          "text": [
            "18500/30000 images done already\n",
            "Running for image indices 18500-18600.\n",
            "Embedding images...\n"
          ],
          "name": "stdout"
        },
        {
          "output_type": "stream",
          "text": [
            " [elapsed time: 0:00:00] |**********************************| (ETA:  00:00:00) "
          ],
          "name": "stderr"
        },
        {
          "output_type": "stream",
          "text": [
            "Deleting clip_embeddings_test.npz from GDrive\n",
            "Data saved to clip_embeddings_test.npz\n",
            "Uploaded clip_embeddings_test.npz to https://drive.google.com/drive/u/1/folders/1rACsi_OuN_WITrsuZt7pGZYUrUA2u6xT\n",
            "18600/30000 images done\n",
            "Downloading clip_embeddings_test.npz from GDrive\n"
          ],
          "name": "stdout"
        },
        {
          "output_type": "stream",
          "text": [
            "\r                                                                               \r\r [elapsed time: 0:00:00] |                                  | (ETA:  --:--:--) "
          ],
          "name": "stderr"
        },
        {
          "output_type": "stream",
          "text": [
            "18600/30000 images done already\n",
            "Running for image indices 18600-18700.\n",
            "Embedding images...\n"
          ],
          "name": "stdout"
        },
        {
          "output_type": "stream",
          "text": [
            " [elapsed time: 0:00:00] |**********************************| (ETA:  00:00:00) "
          ],
          "name": "stderr"
        },
        {
          "output_type": "stream",
          "text": [
            "Deleting clip_embeddings_test.npz from GDrive\n",
            "Data saved to clip_embeddings_test.npz\n",
            "Uploaded clip_embeddings_test.npz to https://drive.google.com/drive/u/1/folders/1rACsi_OuN_WITrsuZt7pGZYUrUA2u6xT\n",
            "18700/30000 images done\n"
          ],
          "name": "stdout"
        },
        {
          "output_type": "stream",
          "text": [
            "\r                                                                               \r\r [elapsed time: 0:00:00] |                                  | (ETA:  --:--:--) "
          ],
          "name": "stderr"
        },
        {
          "output_type": "stream",
          "text": [
            "Downloading clip_embeddings_test.npz from GDrive\n",
            "18700/30000 images done already\n",
            "Running for image indices 18700-18800.\n",
            "Embedding images...\n"
          ],
          "name": "stdout"
        },
        {
          "output_type": "stream",
          "text": [
            " [elapsed time: 0:00:00] |**********************************| (ETA:  00:00:00) "
          ],
          "name": "stderr"
        },
        {
          "output_type": "stream",
          "text": [
            "Deleting clip_embeddings_test.npz from GDrive\n",
            "Data saved to clip_embeddings_test.npz\n",
            "Uploaded clip_embeddings_test.npz to https://drive.google.com/drive/u/1/folders/1rACsi_OuN_WITrsuZt7pGZYUrUA2u6xT\n",
            "18800/30000 images done\n",
            "Downloading clip_embeddings_test.npz from GDrive\n"
          ],
          "name": "stdout"
        },
        {
          "output_type": "stream",
          "text": [
            "\r                                                                               \r\r [elapsed time: 0:00:00] |                                  | (ETA:  --:--:--) "
          ],
          "name": "stderr"
        },
        {
          "output_type": "stream",
          "text": [
            "18800/30000 images done already\n",
            "Running for image indices 18800-18900.\n",
            "Embedding images...\n"
          ],
          "name": "stdout"
        },
        {
          "output_type": "stream",
          "text": [
            " [elapsed time: 0:00:00] |**********************************| (ETA:  00:00:00) "
          ],
          "name": "stderr"
        },
        {
          "output_type": "stream",
          "text": [
            "Deleting clip_embeddings_test.npz from GDrive\n",
            "Data saved to clip_embeddings_test.npz\n",
            "Uploaded clip_embeddings_test.npz to https://drive.google.com/drive/u/1/folders/1rACsi_OuN_WITrsuZt7pGZYUrUA2u6xT\n",
            "18900/30000 images done\n",
            "Downloading clip_embeddings_test.npz from GDrive\n"
          ],
          "name": "stdout"
        },
        {
          "output_type": "stream",
          "text": [
            "\r                                                                               \r\r [elapsed time: 0:00:00] |                                  | (ETA:  --:--:--) "
          ],
          "name": "stderr"
        },
        {
          "output_type": "stream",
          "text": [
            "18900/30000 images done already\n",
            "Running for image indices 18900-19000.\n",
            "Embedding images...\n"
          ],
          "name": "stdout"
        },
        {
          "output_type": "stream",
          "text": [
            " [elapsed time: 0:00:00] |**********************************| (ETA:  00:00:00) "
          ],
          "name": "stderr"
        },
        {
          "output_type": "stream",
          "text": [
            "Deleting clip_embeddings_test.npz from GDrive\n",
            "Data saved to clip_embeddings_test.npz\n",
            "Uploaded clip_embeddings_test.npz to https://drive.google.com/drive/u/1/folders/1rACsi_OuN_WITrsuZt7pGZYUrUA2u6xT\n",
            "19000/30000 images done\n",
            "Downloading clip_embeddings_test.npz from GDrive\n"
          ],
          "name": "stdout"
        },
        {
          "output_type": "stream",
          "text": [
            "\r                                                                               \r\r [elapsed time: 0:00:00] |                                  | (ETA:  --:--:--) "
          ],
          "name": "stderr"
        },
        {
          "output_type": "stream",
          "text": [
            "19000/30000 images done already\n",
            "Running for image indices 19000-19100.\n",
            "Embedding images...\n"
          ],
          "name": "stdout"
        },
        {
          "output_type": "stream",
          "text": [
            " [elapsed time: 0:00:00] |**********************************| (ETA:  00:00:00) "
          ],
          "name": "stderr"
        },
        {
          "output_type": "stream",
          "text": [
            "Deleting clip_embeddings_test.npz from GDrive\n",
            "Data saved to clip_embeddings_test.npz\n",
            "Uploaded clip_embeddings_test.npz to https://drive.google.com/drive/u/1/folders/1rACsi_OuN_WITrsuZt7pGZYUrUA2u6xT\n",
            "19100/30000 images done\n",
            "Downloading clip_embeddings_test.npz from GDrive\n"
          ],
          "name": "stdout"
        },
        {
          "output_type": "stream",
          "text": [
            "\r                                                                               \r\r [elapsed time: 0:00:00] |                                  | (ETA:  --:--:--) "
          ],
          "name": "stderr"
        },
        {
          "output_type": "stream",
          "text": [
            "19100/30000 images done already\n",
            "Running for image indices 19100-19200.\n",
            "Embedding images...\n"
          ],
          "name": "stdout"
        },
        {
          "output_type": "stream",
          "text": [
            " [elapsed time: 0:00:00] |**********************************| (ETA:  00:00:00) "
          ],
          "name": "stderr"
        },
        {
          "output_type": "stream",
          "text": [
            "Deleting clip_embeddings_test.npz from GDrive\n",
            "Data saved to clip_embeddings_test.npz\n",
            "Uploaded clip_embeddings_test.npz to https://drive.google.com/drive/u/1/folders/1rACsi_OuN_WITrsuZt7pGZYUrUA2u6xT\n",
            "19200/30000 images done\n",
            "Downloading clip_embeddings_test.npz from GDrive\n"
          ],
          "name": "stdout"
        },
        {
          "output_type": "stream",
          "text": [
            "\r                                                                               \r\r [elapsed time: 0:00:00] |                                  | (ETA:  --:--:--) "
          ],
          "name": "stderr"
        },
        {
          "output_type": "stream",
          "text": [
            "19200/30000 images done already\n",
            "Running for image indices 19200-19300.\n",
            "Embedding images...\n"
          ],
          "name": "stdout"
        },
        {
          "output_type": "stream",
          "text": [
            " [elapsed time: 0:00:00] |**********************************| (ETA:  00:00:00) "
          ],
          "name": "stderr"
        },
        {
          "output_type": "stream",
          "text": [
            "Deleting clip_embeddings_test.npz from GDrive\n",
            "Data saved to clip_embeddings_test.npz\n",
            "Uploaded clip_embeddings_test.npz to https://drive.google.com/drive/u/1/folders/1rACsi_OuN_WITrsuZt7pGZYUrUA2u6xT\n",
            "19300/30000 images done\n",
            "Downloading clip_embeddings_test.npz from GDrive\n"
          ],
          "name": "stdout"
        },
        {
          "output_type": "stream",
          "text": [
            "\r                                                                               \r\r [elapsed time: 0:00:00] |                                  | (ETA:  --:--:--) "
          ],
          "name": "stderr"
        },
        {
          "output_type": "stream",
          "text": [
            "19300/30000 images done already\n",
            "Running for image indices 19300-19400.\n",
            "Embedding images...\n"
          ],
          "name": "stdout"
        },
        {
          "output_type": "stream",
          "text": [
            " [elapsed time: 0:00:00] |**********************************| (ETA:  00:00:00) "
          ],
          "name": "stderr"
        },
        {
          "output_type": "stream",
          "text": [
            "Deleting clip_embeddings_test.npz from GDrive\n",
            "Data saved to clip_embeddings_test.npz\n",
            "Uploaded clip_embeddings_test.npz to https://drive.google.com/drive/u/1/folders/1rACsi_OuN_WITrsuZt7pGZYUrUA2u6xT\n",
            "19400/30000 images done\n",
            "Downloading clip_embeddings_test.npz from GDrive\n"
          ],
          "name": "stdout"
        },
        {
          "output_type": "stream",
          "text": [
            "\r                                                                               \r\r [elapsed time: 0:00:00] |                                  | (ETA:  --:--:--) "
          ],
          "name": "stderr"
        },
        {
          "output_type": "stream",
          "text": [
            "19400/30000 images done already\n",
            "Running for image indices 19400-19500.\n",
            "Embedding images...\n"
          ],
          "name": "stdout"
        },
        {
          "output_type": "stream",
          "text": [
            " [elapsed time: 0:00:00] |**********************************| (ETA:  00:00:00) "
          ],
          "name": "stderr"
        },
        {
          "output_type": "stream",
          "text": [
            "Deleting clip_embeddings_test.npz from GDrive\n",
            "Data saved to clip_embeddings_test.npz\n",
            "Uploaded clip_embeddings_test.npz to https://drive.google.com/drive/u/1/folders/1rACsi_OuN_WITrsuZt7pGZYUrUA2u6xT\n",
            "19500/30000 images done\n",
            "Downloading clip_embeddings_test.npz from GDrive\n"
          ],
          "name": "stdout"
        },
        {
          "output_type": "stream",
          "text": [
            "\r                                                                               \r\r [elapsed time: 0:00:00] |                                  | (ETA:  --:--:--) "
          ],
          "name": "stderr"
        },
        {
          "output_type": "stream",
          "text": [
            "19500/30000 images done already\n",
            "Running for image indices 19500-19600.\n",
            "Embedding images...\n"
          ],
          "name": "stdout"
        },
        {
          "output_type": "stream",
          "text": [
            " [elapsed time: 0:00:00] |**********************************| (ETA:  00:00:00) "
          ],
          "name": "stderr"
        },
        {
          "output_type": "stream",
          "text": [
            "Deleting clip_embeddings_test.npz from GDrive\n",
            "Data saved to clip_embeddings_test.npz\n",
            "Uploaded clip_embeddings_test.npz to https://drive.google.com/drive/u/1/folders/1rACsi_OuN_WITrsuZt7pGZYUrUA2u6xT\n",
            "19600/30000 images done\n",
            "Downloading clip_embeddings_test.npz from GDrive\n"
          ],
          "name": "stdout"
        },
        {
          "output_type": "stream",
          "text": [
            "\r                                                                               \r\r [elapsed time: 0:00:00] |                                  | (ETA:  --:--:--) "
          ],
          "name": "stderr"
        },
        {
          "output_type": "stream",
          "text": [
            "19600/30000 images done already\n",
            "Running for image indices 19600-19700.\n",
            "Embedding images...\n"
          ],
          "name": "stdout"
        },
        {
          "output_type": "stream",
          "text": [
            " [elapsed time: 0:00:00] |**********************************| (ETA:  00:00:00) "
          ],
          "name": "stderr"
        },
        {
          "output_type": "stream",
          "text": [
            "Deleting clip_embeddings_test.npz from GDrive\n",
            "Data saved to clip_embeddings_test.npz\n",
            "Uploaded clip_embeddings_test.npz to https://drive.google.com/drive/u/1/folders/1rACsi_OuN_WITrsuZt7pGZYUrUA2u6xT\n",
            "19700/30000 images done\n",
            "Downloading clip_embeddings_test.npz from GDrive\n"
          ],
          "name": "stdout"
        },
        {
          "output_type": "stream",
          "text": [
            "\r                                                                               \r\r [elapsed time: 0:00:00] |                                  | (ETA:  --:--:--) "
          ],
          "name": "stderr"
        },
        {
          "output_type": "stream",
          "text": [
            "19700/30000 images done already\n",
            "Running for image indices 19700-19800.\n",
            "Embedding images...\n"
          ],
          "name": "stdout"
        },
        {
          "output_type": "stream",
          "text": [
            " [elapsed time: 0:00:00] |**********************************| (ETA:  00:00:00) "
          ],
          "name": "stderr"
        },
        {
          "output_type": "stream",
          "text": [
            "Deleting clip_embeddings_test.npz from GDrive\n",
            "Data saved to clip_embeddings_test.npz\n",
            "Uploaded clip_embeddings_test.npz to https://drive.google.com/drive/u/1/folders/1rACsi_OuN_WITrsuZt7pGZYUrUA2u6xT\n",
            "19800/30000 images done\n",
            "Downloading clip_embeddings_test.npz from GDrive\n"
          ],
          "name": "stdout"
        },
        {
          "output_type": "stream",
          "text": [
            "\r                                                                               \r\r [elapsed time: 0:00:00] |                                  | (ETA:  --:--:--) "
          ],
          "name": "stderr"
        },
        {
          "output_type": "stream",
          "text": [
            "19800/30000 images done already\n",
            "Running for image indices 19800-19900.\n",
            "Embedding images...\n"
          ],
          "name": "stdout"
        },
        {
          "output_type": "stream",
          "text": [
            " [elapsed time: 0:00:00] |**********************************| (ETA:  00:00:00) "
          ],
          "name": "stderr"
        },
        {
          "output_type": "stream",
          "text": [
            "Deleting clip_embeddings_test.npz from GDrive\n",
            "Data saved to clip_embeddings_test.npz\n",
            "Uploaded clip_embeddings_test.npz to https://drive.google.com/drive/u/1/folders/1rACsi_OuN_WITrsuZt7pGZYUrUA2u6xT\n",
            "19900/30000 images done\n",
            "Downloading clip_embeddings_test.npz from GDrive\n"
          ],
          "name": "stdout"
        },
        {
          "output_type": "stream",
          "text": [
            "\r                                                                               \r\r [elapsed time: 0:00:00] |                                  | (ETA:  --:--:--) "
          ],
          "name": "stderr"
        },
        {
          "output_type": "stream",
          "text": [
            "19900/30000 images done already\n",
            "Running for image indices 19900-20000.\n",
            "Embedding images...\n"
          ],
          "name": "stdout"
        },
        {
          "output_type": "stream",
          "text": [
            " [elapsed time: 0:00:00] |**********************************| (ETA:  00:00:00) "
          ],
          "name": "stderr"
        },
        {
          "output_type": "stream",
          "text": [
            "Deleting clip_embeddings_test.npz from GDrive\n",
            "Data saved to clip_embeddings_test.npz\n",
            "Uploaded clip_embeddings_test.npz to https://drive.google.com/drive/u/1/folders/1rACsi_OuN_WITrsuZt7pGZYUrUA2u6xT\n",
            "20000/30000 images done\n",
            "Downloading clip_embeddings_test.npz from GDrive\n"
          ],
          "name": "stdout"
        },
        {
          "output_type": "stream",
          "text": [
            "\r                                                                               \r\r [elapsed time: 0:00:00] |                                  | (ETA:  --:--:--) "
          ],
          "name": "stderr"
        },
        {
          "output_type": "stream",
          "text": [
            "20000/30000 images done already\n",
            "Running for image indices 20000-20100.\n",
            "Embedding images...\n"
          ],
          "name": "stdout"
        },
        {
          "output_type": "stream",
          "text": [
            " [elapsed time: 0:00:00] |**********************************| (ETA:  00:00:00) "
          ],
          "name": "stderr"
        },
        {
          "output_type": "stream",
          "text": [
            "Deleting clip_embeddings_test.npz from GDrive\n",
            "Data saved to clip_embeddings_test.npz\n",
            "Uploaded clip_embeddings_test.npz to https://drive.google.com/drive/u/1/folders/1rACsi_OuN_WITrsuZt7pGZYUrUA2u6xT\n",
            "20100/30000 images done\n",
            "Downloading clip_embeddings_test.npz from GDrive\n"
          ],
          "name": "stdout"
        },
        {
          "output_type": "stream",
          "text": [
            "\r                                                                               \r\r [elapsed time: 0:00:00] |                                  | (ETA:  --:--:--) "
          ],
          "name": "stderr"
        },
        {
          "output_type": "stream",
          "text": [
            "20100/30000 images done already\n",
            "Running for image indices 20100-20200.\n",
            "Embedding images...\n"
          ],
          "name": "stdout"
        },
        {
          "output_type": "stream",
          "text": [
            " [elapsed time: 0:00:00] |**********************************| (ETA:  00:00:00) "
          ],
          "name": "stderr"
        },
        {
          "output_type": "stream",
          "text": [
            "Deleting clip_embeddings_test.npz from GDrive\n",
            "Data saved to clip_embeddings_test.npz\n",
            "Uploaded clip_embeddings_test.npz to https://drive.google.com/drive/u/1/folders/1rACsi_OuN_WITrsuZt7pGZYUrUA2u6xT\n",
            "20200/30000 images done\n",
            "Downloading clip_embeddings_test.npz from GDrive\n"
          ],
          "name": "stdout"
        },
        {
          "output_type": "stream",
          "text": [
            "\r                                                                               \r\r [elapsed time: 0:00:00] |                                  | (ETA:  --:--:--) "
          ],
          "name": "stderr"
        },
        {
          "output_type": "stream",
          "text": [
            "20200/30000 images done already\n",
            "Running for image indices 20200-20300.\n",
            "Embedding images...\n"
          ],
          "name": "stdout"
        },
        {
          "output_type": "stream",
          "text": [
            " [elapsed time: 0:00:00] |**********************************| (ETA:  00:00:00) "
          ],
          "name": "stderr"
        },
        {
          "output_type": "stream",
          "text": [
            "Deleting clip_embeddings_test.npz from GDrive\n",
            "Data saved to clip_embeddings_test.npz\n",
            "Uploaded clip_embeddings_test.npz to https://drive.google.com/drive/u/1/folders/1rACsi_OuN_WITrsuZt7pGZYUrUA2u6xT\n",
            "20300/30000 images done\n",
            "Downloading clip_embeddings_test.npz from GDrive\n"
          ],
          "name": "stdout"
        },
        {
          "output_type": "stream",
          "text": [
            "\r                                                                               \r\r [elapsed time: 0:00:00] |                                  | (ETA:  --:--:--) "
          ],
          "name": "stderr"
        },
        {
          "output_type": "stream",
          "text": [
            "20300/30000 images done already\n",
            "Running for image indices 20300-20400.\n",
            "Embedding images...\n"
          ],
          "name": "stdout"
        },
        {
          "output_type": "stream",
          "text": [
            " [elapsed time: 0:00:00] |**********************************| (ETA:  00:00:00) "
          ],
          "name": "stderr"
        },
        {
          "output_type": "stream",
          "text": [
            "Deleting clip_embeddings_test.npz from GDrive\n",
            "Data saved to clip_embeddings_test.npz\n",
            "Uploaded clip_embeddings_test.npz to https://drive.google.com/drive/u/1/folders/1rACsi_OuN_WITrsuZt7pGZYUrUA2u6xT\n",
            "20400/30000 images done\n",
            "Downloading clip_embeddings_test.npz from GDrive\n"
          ],
          "name": "stdout"
        },
        {
          "output_type": "stream",
          "text": [
            "\r                                                                               \r\r [elapsed time: 0:00:00] |                                  | (ETA:  --:--:--) "
          ],
          "name": "stderr"
        },
        {
          "output_type": "stream",
          "text": [
            "20400/30000 images done already\n",
            "Running for image indices 20400-20500.\n",
            "Embedding images...\n"
          ],
          "name": "stdout"
        },
        {
          "output_type": "stream",
          "text": [
            " [elapsed time: 0:00:00] |**********************************| (ETA:  00:00:00) "
          ],
          "name": "stderr"
        },
        {
          "output_type": "stream",
          "text": [
            "Deleting clip_embeddings_test.npz from GDrive\n",
            "Data saved to clip_embeddings_test.npz\n",
            "Uploaded clip_embeddings_test.npz to https://drive.google.com/drive/u/1/folders/1rACsi_OuN_WITrsuZt7pGZYUrUA2u6xT\n",
            "20500/30000 images done\n",
            "Downloading clip_embeddings_test.npz from GDrive\n"
          ],
          "name": "stdout"
        },
        {
          "output_type": "stream",
          "text": [
            "\r                                                                               \r\r [elapsed time: 0:00:00] |                                  | (ETA:  --:--:--) "
          ],
          "name": "stderr"
        },
        {
          "output_type": "stream",
          "text": [
            "20500/30000 images done already\n",
            "Running for image indices 20500-20600.\n",
            "Embedding images...\n"
          ],
          "name": "stdout"
        },
        {
          "output_type": "stream",
          "text": [
            " [elapsed time: 0:00:00] |**********************************| (ETA:  00:00:00) "
          ],
          "name": "stderr"
        },
        {
          "output_type": "stream",
          "text": [
            "Deleting clip_embeddings_test.npz from GDrive\n",
            "Data saved to clip_embeddings_test.npz\n",
            "Uploaded clip_embeddings_test.npz to https://drive.google.com/drive/u/1/folders/1rACsi_OuN_WITrsuZt7pGZYUrUA2u6xT\n",
            "20600/30000 images done\n",
            "Downloading clip_embeddings_test.npz from GDrive\n"
          ],
          "name": "stdout"
        },
        {
          "output_type": "stream",
          "text": [
            "\r                                                                               \r\r [elapsed time: 0:00:00] |                                  | (ETA:  --:--:--) "
          ],
          "name": "stderr"
        },
        {
          "output_type": "stream",
          "text": [
            "20600/30000 images done already\n",
            "Running for image indices 20600-20700.\n",
            "Embedding images...\n"
          ],
          "name": "stdout"
        },
        {
          "output_type": "stream",
          "text": [
            " [elapsed time: 0:00:00] |**********************************| (ETA:  00:00:00) "
          ],
          "name": "stderr"
        },
        {
          "output_type": "stream",
          "text": [
            "Deleting clip_embeddings_test.npz from GDrive\n",
            "Data saved to clip_embeddings_test.npz\n",
            "Uploaded clip_embeddings_test.npz to https://drive.google.com/drive/u/1/folders/1rACsi_OuN_WITrsuZt7pGZYUrUA2u6xT\n",
            "20700/30000 images done\n",
            "Downloading clip_embeddings_test.npz from GDrive\n"
          ],
          "name": "stdout"
        },
        {
          "output_type": "stream",
          "text": [
            "\r                                                                               \r\r [elapsed time: 0:00:00] |                                  | (ETA:  --:--:--) "
          ],
          "name": "stderr"
        },
        {
          "output_type": "stream",
          "text": [
            "20700/30000 images done already\n",
            "Running for image indices 20700-20800.\n",
            "Embedding images...\n"
          ],
          "name": "stdout"
        },
        {
          "output_type": "stream",
          "text": [
            " [elapsed time: 0:00:00] |**********************************| (ETA:  00:00:00) "
          ],
          "name": "stderr"
        },
        {
          "output_type": "stream",
          "text": [
            "Deleting clip_embeddings_test.npz from GDrive\n",
            "Data saved to clip_embeddings_test.npz\n",
            "Uploaded clip_embeddings_test.npz to https://drive.google.com/drive/u/1/folders/1rACsi_OuN_WITrsuZt7pGZYUrUA2u6xT\n",
            "20800/30000 images done\n",
            "Downloading clip_embeddings_test.npz from GDrive\n"
          ],
          "name": "stdout"
        },
        {
          "output_type": "stream",
          "text": [
            "\r                                                                               \r\r [elapsed time: 0:00:00] |                                  | (ETA:  --:--:--) "
          ],
          "name": "stderr"
        },
        {
          "output_type": "stream",
          "text": [
            "20800/30000 images done already\n",
            "Running for image indices 20800-20900.\n",
            "Embedding images...\n"
          ],
          "name": "stdout"
        },
        {
          "output_type": "stream",
          "text": [
            " [elapsed time: 0:00:00] |**********************************| (ETA:  00:00:00) "
          ],
          "name": "stderr"
        },
        {
          "output_type": "stream",
          "text": [
            "Deleting clip_embeddings_test.npz from GDrive\n",
            "Data saved to clip_embeddings_test.npz\n",
            "Uploaded clip_embeddings_test.npz to https://drive.google.com/drive/u/1/folders/1rACsi_OuN_WITrsuZt7pGZYUrUA2u6xT\n",
            "20900/30000 images done\n",
            "Downloading clip_embeddings_test.npz from GDrive\n"
          ],
          "name": "stdout"
        },
        {
          "output_type": "stream",
          "text": [
            "\r                                                                               \r\r [elapsed time: 0:00:00] |                                  | (ETA:  --:--:--) "
          ],
          "name": "stderr"
        },
        {
          "output_type": "stream",
          "text": [
            "20900/30000 images done already\n",
            "Running for image indices 20900-21000.\n",
            "Embedding images...\n"
          ],
          "name": "stdout"
        },
        {
          "output_type": "stream",
          "text": [
            " [elapsed time: 0:00:00] |**********************************| (ETA:  00:00:00) "
          ],
          "name": "stderr"
        },
        {
          "output_type": "stream",
          "text": [
            "Deleting clip_embeddings_test.npz from GDrive\n",
            "Data saved to clip_embeddings_test.npz\n",
            "Uploaded clip_embeddings_test.npz to https://drive.google.com/drive/u/1/folders/1rACsi_OuN_WITrsuZt7pGZYUrUA2u6xT\n",
            "21000/30000 images done\n",
            "Downloading clip_embeddings_test.npz from GDrive\n"
          ],
          "name": "stdout"
        },
        {
          "output_type": "stream",
          "text": [
            "\r                                                                               \r\r [elapsed time: 0:00:00] |                                  | (ETA:  --:--:--) "
          ],
          "name": "stderr"
        },
        {
          "output_type": "stream",
          "text": [
            "21000/30000 images done already\n",
            "Running for image indices 21000-21100.\n",
            "Embedding images...\n"
          ],
          "name": "stdout"
        },
        {
          "output_type": "stream",
          "text": [
            " [elapsed time: 0:00:00] |**********************************| (ETA:  00:00:00) "
          ],
          "name": "stderr"
        },
        {
          "output_type": "stream",
          "text": [
            "Deleting clip_embeddings_test.npz from GDrive\n",
            "Data saved to clip_embeddings_test.npz\n",
            "Uploaded clip_embeddings_test.npz to https://drive.google.com/drive/u/1/folders/1rACsi_OuN_WITrsuZt7pGZYUrUA2u6xT\n",
            "21100/30000 images done\n",
            "Downloading clip_embeddings_test.npz from GDrive\n"
          ],
          "name": "stdout"
        },
        {
          "output_type": "stream",
          "text": [
            "\r                                                                               \r\r [elapsed time: 0:00:00] |                                  | (ETA:  --:--:--) "
          ],
          "name": "stderr"
        },
        {
          "output_type": "stream",
          "text": [
            "21100/30000 images done already\n",
            "Running for image indices 21100-21200.\n",
            "Embedding images...\n"
          ],
          "name": "stdout"
        },
        {
          "output_type": "stream",
          "text": [
            " [elapsed time: 0:00:00] |**********************************| (ETA:  00:00:00) "
          ],
          "name": "stderr"
        },
        {
          "output_type": "stream",
          "text": [
            "Deleting clip_embeddings_test.npz from GDrive\n",
            "Data saved to clip_embeddings_test.npz\n",
            "Uploaded clip_embeddings_test.npz to https://drive.google.com/drive/u/1/folders/1rACsi_OuN_WITrsuZt7pGZYUrUA2u6xT\n",
            "21200/30000 images done\n",
            "Downloading clip_embeddings_test.npz from GDrive\n"
          ],
          "name": "stdout"
        },
        {
          "output_type": "stream",
          "text": [
            "\r                                                                               \r\r [elapsed time: 0:00:00] |                                  | (ETA:  --:--:--) "
          ],
          "name": "stderr"
        },
        {
          "output_type": "stream",
          "text": [
            "21200/30000 images done already\n",
            "Running for image indices 21200-21300.\n",
            "Embedding images...\n"
          ],
          "name": "stdout"
        },
        {
          "output_type": "stream",
          "text": [
            " [elapsed time: 0:00:00] |**********************************| (ETA:  00:00:00) "
          ],
          "name": "stderr"
        },
        {
          "output_type": "stream",
          "text": [
            "Deleting clip_embeddings_test.npz from GDrive\n",
            "Data saved to clip_embeddings_test.npz\n",
            "Uploaded clip_embeddings_test.npz to https://drive.google.com/drive/u/1/folders/1rACsi_OuN_WITrsuZt7pGZYUrUA2u6xT\n",
            "21300/30000 images done\n",
            "Downloading clip_embeddings_test.npz from GDrive\n"
          ],
          "name": "stdout"
        },
        {
          "output_type": "stream",
          "text": [
            "\r                                                                               \r\r [elapsed time: 0:00:00] |                                  | (ETA:  --:--:--) "
          ],
          "name": "stderr"
        },
        {
          "output_type": "stream",
          "text": [
            "21300/30000 images done already\n",
            "Running for image indices 21300-21400.\n",
            "Embedding images...\n"
          ],
          "name": "stdout"
        },
        {
          "output_type": "stream",
          "text": [
            " [elapsed time: 0:00:00] |**********************************| (ETA:  00:00:00) "
          ],
          "name": "stderr"
        },
        {
          "output_type": "stream",
          "text": [
            "Deleting clip_embeddings_test.npz from GDrive\n",
            "Data saved to clip_embeddings_test.npz\n",
            "Uploaded clip_embeddings_test.npz to https://drive.google.com/drive/u/1/folders/1rACsi_OuN_WITrsuZt7pGZYUrUA2u6xT\n",
            "21400/30000 images done\n",
            "Downloading clip_embeddings_test.npz from GDrive\n"
          ],
          "name": "stdout"
        },
        {
          "output_type": "stream",
          "text": [
            "\r                                                                               \r\r [elapsed time: 0:00:00] |                                  | (ETA:  --:--:--) "
          ],
          "name": "stderr"
        },
        {
          "output_type": "stream",
          "text": [
            "21400/30000 images done already\n",
            "Running for image indices 21400-21500.\n",
            "Embedding images...\n"
          ],
          "name": "stdout"
        },
        {
          "output_type": "stream",
          "text": [
            " [elapsed time: 0:00:00] |**********************************| (ETA:  00:00:00) "
          ],
          "name": "stderr"
        },
        {
          "output_type": "stream",
          "text": [
            "Deleting clip_embeddings_test.npz from GDrive\n",
            "Data saved to clip_embeddings_test.npz\n",
            "Uploaded clip_embeddings_test.npz to https://drive.google.com/drive/u/1/folders/1rACsi_OuN_WITrsuZt7pGZYUrUA2u6xT\n",
            "21500/30000 images done\n",
            "Downloading clip_embeddings_test.npz from GDrive\n"
          ],
          "name": "stdout"
        },
        {
          "output_type": "stream",
          "text": [
            "\r                                                                               \r\r [elapsed time: 0:00:00] |                                  | (ETA:  --:--:--) "
          ],
          "name": "stderr"
        },
        {
          "output_type": "stream",
          "text": [
            "21500/30000 images done already\n",
            "Running for image indices 21500-21600.\n",
            "Embedding images...\n"
          ],
          "name": "stdout"
        },
        {
          "output_type": "stream",
          "text": [
            " [elapsed time: 0:00:00] |**********************************| (ETA:  00:00:00) "
          ],
          "name": "stderr"
        },
        {
          "output_type": "stream",
          "text": [
            "Deleting clip_embeddings_test.npz from GDrive\n",
            "Data saved to clip_embeddings_test.npz\n",
            "Uploaded clip_embeddings_test.npz to https://drive.google.com/drive/u/1/folders/1rACsi_OuN_WITrsuZt7pGZYUrUA2u6xT\n",
            "21600/30000 images done\n",
            "Downloading clip_embeddings_test.npz from GDrive\n"
          ],
          "name": "stdout"
        },
        {
          "output_type": "stream",
          "text": [
            "\r                                                                               \r\r [elapsed time: 0:00:00] |                                  | (ETA:  --:--:--) "
          ],
          "name": "stderr"
        },
        {
          "output_type": "stream",
          "text": [
            "21600/30000 images done already\n",
            "Running for image indices 21600-21700.\n",
            "Embedding images...\n"
          ],
          "name": "stdout"
        },
        {
          "output_type": "stream",
          "text": [
            " [elapsed time: 0:00:00] |**********************************| (ETA:  00:00:00) "
          ],
          "name": "stderr"
        },
        {
          "output_type": "stream",
          "text": [
            "Deleting clip_embeddings_test.npz from GDrive\n",
            "Data saved to clip_embeddings_test.npz\n",
            "Uploaded clip_embeddings_test.npz to https://drive.google.com/drive/u/1/folders/1rACsi_OuN_WITrsuZt7pGZYUrUA2u6xT\n",
            "21700/30000 images done\n",
            "Downloading clip_embeddings_test.npz from GDrive\n"
          ],
          "name": "stdout"
        },
        {
          "output_type": "stream",
          "text": [
            "\r                                                                               \r\r [elapsed time: 0:00:00] |                                  | (ETA:  --:--:--) "
          ],
          "name": "stderr"
        },
        {
          "output_type": "stream",
          "text": [
            "21700/30000 images done already\n",
            "Running for image indices 21700-21800.\n",
            "Embedding images...\n"
          ],
          "name": "stdout"
        },
        {
          "output_type": "stream",
          "text": [
            " [elapsed time: 0:00:00] |**********************************| (ETA:  00:00:00) "
          ],
          "name": "stderr"
        },
        {
          "output_type": "stream",
          "text": [
            "Deleting clip_embeddings_test.npz from GDrive\n",
            "Data saved to clip_embeddings_test.npz\n",
            "Uploaded clip_embeddings_test.npz to https://drive.google.com/drive/u/1/folders/1rACsi_OuN_WITrsuZt7pGZYUrUA2u6xT\n",
            "21800/30000 images done\n",
            "Downloading clip_embeddings_test.npz from GDrive\n"
          ],
          "name": "stdout"
        },
        {
          "output_type": "stream",
          "text": [
            "\r                                                                               \r\r [elapsed time: 0:00:00] |                                  | (ETA:  --:--:--) "
          ],
          "name": "stderr"
        },
        {
          "output_type": "stream",
          "text": [
            "21800/30000 images done already\n",
            "Running for image indices 21800-21900.\n",
            "Embedding images...\n"
          ],
          "name": "stdout"
        },
        {
          "output_type": "stream",
          "text": [
            " [elapsed time: 0:00:00] |**********************************| (ETA:  00:00:00) "
          ],
          "name": "stderr"
        },
        {
          "output_type": "stream",
          "text": [
            "Deleting clip_embeddings_test.npz from GDrive\n",
            "Data saved to clip_embeddings_test.npz\n",
            "Uploaded clip_embeddings_test.npz to https://drive.google.com/drive/u/1/folders/1rACsi_OuN_WITrsuZt7pGZYUrUA2u6xT\n",
            "21900/30000 images done\n",
            "Downloading clip_embeddings_test.npz from GDrive\n"
          ],
          "name": "stdout"
        },
        {
          "output_type": "stream",
          "text": [
            "\r                                                                               \r\r [elapsed time: 0:00:00] |                                  | (ETA:  --:--:--) "
          ],
          "name": "stderr"
        },
        {
          "output_type": "stream",
          "text": [
            "21900/30000 images done already\n",
            "Running for image indices 21900-22000.\n",
            "Embedding images...\n"
          ],
          "name": "stdout"
        },
        {
          "output_type": "stream",
          "text": [
            " [elapsed time: 0:00:00] |**********************************| (ETA:  00:00:00) "
          ],
          "name": "stderr"
        },
        {
          "output_type": "stream",
          "text": [
            "Deleting clip_embeddings_test.npz from GDrive\n",
            "Data saved to clip_embeddings_test.npz\n",
            "Uploaded clip_embeddings_test.npz to https://drive.google.com/drive/u/1/folders/1rACsi_OuN_WITrsuZt7pGZYUrUA2u6xT\n",
            "22000/30000 images done\n",
            "Downloading clip_embeddings_test.npz from GDrive\n"
          ],
          "name": "stdout"
        },
        {
          "output_type": "stream",
          "text": [
            "\r                                                                               \r\r [elapsed time: 0:00:00] |                                  | (ETA:  --:--:--) "
          ],
          "name": "stderr"
        },
        {
          "output_type": "stream",
          "text": [
            "22000/30000 images done already\n",
            "Running for image indices 22000-22100.\n",
            "Embedding images...\n"
          ],
          "name": "stdout"
        },
        {
          "output_type": "stream",
          "text": [
            " [elapsed time: 0:00:00] |**********************************| (ETA:  00:00:00) "
          ],
          "name": "stderr"
        },
        {
          "output_type": "stream",
          "text": [
            "Deleting clip_embeddings_test.npz from GDrive\n",
            "Data saved to clip_embeddings_test.npz\n",
            "Uploaded clip_embeddings_test.npz to https://drive.google.com/drive/u/1/folders/1rACsi_OuN_WITrsuZt7pGZYUrUA2u6xT\n",
            "22100/30000 images done\n",
            "Downloading clip_embeddings_test.npz from GDrive\n"
          ],
          "name": "stdout"
        },
        {
          "output_type": "stream",
          "text": [
            "\r                                                                               \r\r [elapsed time: 0:00:00] |                                  | (ETA:  --:--:--) "
          ],
          "name": "stderr"
        },
        {
          "output_type": "stream",
          "text": [
            "22100/30000 images done already\n",
            "Running for image indices 22100-22200.\n",
            "Embedding images...\n"
          ],
          "name": "stdout"
        },
        {
          "output_type": "stream",
          "text": [
            " [elapsed time: 0:00:00] |**********************************| (ETA:  00:00:00) "
          ],
          "name": "stderr"
        },
        {
          "output_type": "stream",
          "text": [
            "Deleting clip_embeddings_test.npz from GDrive\n",
            "Data saved to clip_embeddings_test.npz\n",
            "Uploaded clip_embeddings_test.npz to https://drive.google.com/drive/u/1/folders/1rACsi_OuN_WITrsuZt7pGZYUrUA2u6xT\n",
            "22200/30000 images done\n",
            "Downloading clip_embeddings_test.npz from GDrive\n"
          ],
          "name": "stdout"
        },
        {
          "output_type": "stream",
          "text": [
            "\r                                                                               \r\r [elapsed time: 0:00:00] |                                  | (ETA:  --:--:--) "
          ],
          "name": "stderr"
        },
        {
          "output_type": "stream",
          "text": [
            "22200/30000 images done already\n",
            "Running for image indices 22200-22300.\n",
            "Embedding images...\n"
          ],
          "name": "stdout"
        },
        {
          "output_type": "stream",
          "text": [
            " [elapsed time: 0:00:00] |**********************************| (ETA:  00:00:00) "
          ],
          "name": "stderr"
        },
        {
          "output_type": "stream",
          "text": [
            "Deleting clip_embeddings_test.npz from GDrive\n",
            "Data saved to clip_embeddings_test.npz\n",
            "Uploaded clip_embeddings_test.npz to https://drive.google.com/drive/u/1/folders/1rACsi_OuN_WITrsuZt7pGZYUrUA2u6xT\n",
            "22300/30000 images done\n",
            "Downloading clip_embeddings_test.npz from GDrive\n"
          ],
          "name": "stdout"
        },
        {
          "output_type": "stream",
          "text": [
            "\r                                                                               \r\r [elapsed time: 0:00:00] |                                  | (ETA:  --:--:--) "
          ],
          "name": "stderr"
        },
        {
          "output_type": "stream",
          "text": [
            "22300/30000 images done already\n",
            "Running for image indices 22300-22400.\n",
            "Embedding images...\n"
          ],
          "name": "stdout"
        },
        {
          "output_type": "stream",
          "text": [
            " [elapsed time: 0:00:00] |**********************************| (ETA:  00:00:00) "
          ],
          "name": "stderr"
        },
        {
          "output_type": "stream",
          "text": [
            "Deleting clip_embeddings_test.npz from GDrive\n",
            "Data saved to clip_embeddings_test.npz\n",
            "Uploaded clip_embeddings_test.npz to https://drive.google.com/drive/u/1/folders/1rACsi_OuN_WITrsuZt7pGZYUrUA2u6xT\n",
            "22400/30000 images done\n",
            "Downloading clip_embeddings_test.npz from GDrive\n"
          ],
          "name": "stdout"
        },
        {
          "output_type": "stream",
          "text": [
            "\r                                                                               \r\r [elapsed time: 0:00:00] |                                  | (ETA:  --:--:--) "
          ],
          "name": "stderr"
        },
        {
          "output_type": "stream",
          "text": [
            "22400/30000 images done already\n",
            "Running for image indices 22400-22500.\n",
            "Embedding images...\n"
          ],
          "name": "stdout"
        },
        {
          "output_type": "stream",
          "text": [
            " [elapsed time: 0:00:00] |**********************************| (ETA:  00:00:00) "
          ],
          "name": "stderr"
        },
        {
          "output_type": "stream",
          "text": [
            "Deleting clip_embeddings_test.npz from GDrive\n",
            "Data saved to clip_embeddings_test.npz\n",
            "Uploaded clip_embeddings_test.npz to https://drive.google.com/drive/u/1/folders/1rACsi_OuN_WITrsuZt7pGZYUrUA2u6xT\n",
            "22500/30000 images done\n",
            "Downloading clip_embeddings_test.npz from GDrive\n"
          ],
          "name": "stdout"
        },
        {
          "output_type": "stream",
          "text": [
            "\r                                                                               \r\r [elapsed time: 0:00:00] |                                  | (ETA:  --:--:--) "
          ],
          "name": "stderr"
        },
        {
          "output_type": "stream",
          "text": [
            "22500/30000 images done already\n",
            "Running for image indices 22500-22600.\n",
            "Embedding images...\n"
          ],
          "name": "stdout"
        },
        {
          "output_type": "stream",
          "text": [
            " [elapsed time: 0:00:00] |**********************************| (ETA:  00:00:00) "
          ],
          "name": "stderr"
        },
        {
          "output_type": "stream",
          "text": [
            "Deleting clip_embeddings_test.npz from GDrive\n",
            "Data saved to clip_embeddings_test.npz\n",
            "Uploaded clip_embeddings_test.npz to https://drive.google.com/drive/u/1/folders/1rACsi_OuN_WITrsuZt7pGZYUrUA2u6xT\n",
            "22600/30000 images done\n",
            "Downloading clip_embeddings_test.npz from GDrive\n"
          ],
          "name": "stdout"
        },
        {
          "output_type": "stream",
          "text": [
            "\r                                                                               \r\r [elapsed time: 0:00:00] |                                  | (ETA:  --:--:--) "
          ],
          "name": "stderr"
        },
        {
          "output_type": "stream",
          "text": [
            "22600/30000 images done already\n",
            "Running for image indices 22600-22700.\n",
            "Embedding images...\n"
          ],
          "name": "stdout"
        },
        {
          "output_type": "stream",
          "text": [
            " [elapsed time: 0:00:00] |**********************************| (ETA:  00:00:00) "
          ],
          "name": "stderr"
        },
        {
          "output_type": "stream",
          "text": [
            "Deleting clip_embeddings_test.npz from GDrive\n",
            "Data saved to clip_embeddings_test.npz\n",
            "Uploaded clip_embeddings_test.npz to https://drive.google.com/drive/u/1/folders/1rACsi_OuN_WITrsuZt7pGZYUrUA2u6xT\n",
            "22700/30000 images done\n",
            "Downloading clip_embeddings_test.npz from GDrive\n"
          ],
          "name": "stdout"
        },
        {
          "output_type": "stream",
          "text": [
            "\r                                                                               \r\r [elapsed time: 0:00:00] |                                  | (ETA:  --:--:--) "
          ],
          "name": "stderr"
        },
        {
          "output_type": "stream",
          "text": [
            "22700/30000 images done already\n",
            "Running for image indices 22700-22800.\n",
            "Embedding images...\n"
          ],
          "name": "stdout"
        },
        {
          "output_type": "stream",
          "text": [
            " [elapsed time: 0:00:00] |**********************************| (ETA:  00:00:00) "
          ],
          "name": "stderr"
        },
        {
          "output_type": "stream",
          "text": [
            "Deleting clip_embeddings_test.npz from GDrive\n",
            "Data saved to clip_embeddings_test.npz\n",
            "Uploaded clip_embeddings_test.npz to https://drive.google.com/drive/u/1/folders/1rACsi_OuN_WITrsuZt7pGZYUrUA2u6xT\n",
            "22800/30000 images done\n",
            "Downloading clip_embeddings_test.npz from GDrive\n"
          ],
          "name": "stdout"
        },
        {
          "output_type": "stream",
          "text": [
            "\r                                                                               \r\r [elapsed time: 0:00:00] |                                  | (ETA:  --:--:--) "
          ],
          "name": "stderr"
        },
        {
          "output_type": "stream",
          "text": [
            "22800/30000 images done already\n",
            "Running for image indices 22800-22900.\n",
            "Embedding images...\n"
          ],
          "name": "stdout"
        },
        {
          "output_type": "stream",
          "text": [
            " [elapsed time: 0:00:00] |**********************************| (ETA:  00:00:00) "
          ],
          "name": "stderr"
        },
        {
          "output_type": "stream",
          "text": [
            "Deleting clip_embeddings_test.npz from GDrive\n",
            "Data saved to clip_embeddings_test.npz\n",
            "Uploaded clip_embeddings_test.npz to https://drive.google.com/drive/u/1/folders/1rACsi_OuN_WITrsuZt7pGZYUrUA2u6xT\n",
            "22900/30000 images done\n",
            "Downloading clip_embeddings_test.npz from GDrive\n"
          ],
          "name": "stdout"
        },
        {
          "output_type": "stream",
          "text": [
            "\r                                                                               \r\r [elapsed time: 0:00:00] |                                  | (ETA:  --:--:--) "
          ],
          "name": "stderr"
        },
        {
          "output_type": "stream",
          "text": [
            "22900/30000 images done already\n",
            "Running for image indices 22900-23000.\n",
            "Embedding images...\n"
          ],
          "name": "stdout"
        },
        {
          "output_type": "stream",
          "text": [
            " [elapsed time: 0:00:00] |**********************************| (ETA:  00:00:00) "
          ],
          "name": "stderr"
        },
        {
          "output_type": "stream",
          "text": [
            "Deleting clip_embeddings_test.npz from GDrive\n",
            "Data saved to clip_embeddings_test.npz\n",
            "Uploaded clip_embeddings_test.npz to https://drive.google.com/drive/u/1/folders/1rACsi_OuN_WITrsuZt7pGZYUrUA2u6xT\n",
            "23000/30000 images done\n",
            "Downloading clip_embeddings_test.npz from GDrive\n"
          ],
          "name": "stdout"
        },
        {
          "output_type": "stream",
          "text": [
            "\r                                                                               \r\r [elapsed time: 0:00:00] |                                  | (ETA:  --:--:--) "
          ],
          "name": "stderr"
        },
        {
          "output_type": "stream",
          "text": [
            "23000/30000 images done already\n",
            "Running for image indices 23000-23100.\n",
            "Embedding images...\n"
          ],
          "name": "stdout"
        },
        {
          "output_type": "stream",
          "text": [
            " [elapsed time: 0:00:00] |**********************************| (ETA:  00:00:00) "
          ],
          "name": "stderr"
        },
        {
          "output_type": "stream",
          "text": [
            "Deleting clip_embeddings_test.npz from GDrive\n",
            "Data saved to clip_embeddings_test.npz\n",
            "Uploaded clip_embeddings_test.npz to https://drive.google.com/drive/u/1/folders/1rACsi_OuN_WITrsuZt7pGZYUrUA2u6xT\n",
            "23100/30000 images done\n",
            "Downloading clip_embeddings_test.npz from GDrive\n"
          ],
          "name": "stdout"
        },
        {
          "output_type": "stream",
          "text": [
            "\r                                                                               \r\r [elapsed time: 0:00:00] |                                  | (ETA:  --:--:--) "
          ],
          "name": "stderr"
        },
        {
          "output_type": "stream",
          "text": [
            "23100/30000 images done already\n",
            "Running for image indices 23100-23200.\n",
            "Embedding images...\n"
          ],
          "name": "stdout"
        },
        {
          "output_type": "stream",
          "text": [
            " [elapsed time: 0:00:00] |**********************************| (ETA:  00:00:00) "
          ],
          "name": "stderr"
        },
        {
          "output_type": "stream",
          "text": [
            "Deleting clip_embeddings_test.npz from GDrive\n",
            "Data saved to clip_embeddings_test.npz\n",
            "Uploaded clip_embeddings_test.npz to https://drive.google.com/drive/u/1/folders/1rACsi_OuN_WITrsuZt7pGZYUrUA2u6xT\n",
            "23200/30000 images done\n",
            "Downloading clip_embeddings_test.npz from GDrive\n"
          ],
          "name": "stdout"
        },
        {
          "output_type": "stream",
          "text": [
            "\r                                                                               \r\r [elapsed time: 0:00:00] |                                  | (ETA:  --:--:--) "
          ],
          "name": "stderr"
        },
        {
          "output_type": "stream",
          "text": [
            "23200/30000 images done already\n",
            "Running for image indices 23200-23300.\n",
            "Embedding images...\n"
          ],
          "name": "stdout"
        },
        {
          "output_type": "stream",
          "text": [
            " [elapsed time: 0:00:00] |**********************************| (ETA:  00:00:00) "
          ],
          "name": "stderr"
        },
        {
          "output_type": "stream",
          "text": [
            "Deleting clip_embeddings_test.npz from GDrive\n",
            "Data saved to clip_embeddings_test.npz\n",
            "Uploaded clip_embeddings_test.npz to https://drive.google.com/drive/u/1/folders/1rACsi_OuN_WITrsuZt7pGZYUrUA2u6xT\n",
            "23300/30000 images done\n",
            "Downloading clip_embeddings_test.npz from GDrive\n"
          ],
          "name": "stdout"
        },
        {
          "output_type": "stream",
          "text": [
            "\r                                                                               \r\r [elapsed time: 0:00:00] |                                  | (ETA:  --:--:--) "
          ],
          "name": "stderr"
        },
        {
          "output_type": "stream",
          "text": [
            "23300/30000 images done already\n",
            "Running for image indices 23300-23400.\n",
            "Embedding images...\n"
          ],
          "name": "stdout"
        },
        {
          "output_type": "stream",
          "text": [
            " [elapsed time: 0:00:00] |**********************************| (ETA:  00:00:00) "
          ],
          "name": "stderr"
        },
        {
          "output_type": "stream",
          "text": [
            "Deleting clip_embeddings_test.npz from GDrive\n",
            "Data saved to clip_embeddings_test.npz\n",
            "Uploaded clip_embeddings_test.npz to https://drive.google.com/drive/u/1/folders/1rACsi_OuN_WITrsuZt7pGZYUrUA2u6xT\n",
            "23400/30000 images done\n",
            "Downloading clip_embeddings_test.npz from GDrive\n"
          ],
          "name": "stdout"
        },
        {
          "output_type": "stream",
          "text": [
            "\r                                                                               \r\r [elapsed time: 0:00:00] |                                  | (ETA:  --:--:--) "
          ],
          "name": "stderr"
        },
        {
          "output_type": "stream",
          "text": [
            "23400/30000 images done already\n",
            "Running for image indices 23400-23500.\n",
            "Embedding images...\n"
          ],
          "name": "stdout"
        },
        {
          "output_type": "stream",
          "text": [
            " [elapsed time: 0:00:00] |**********************************| (ETA:  00:00:00) "
          ],
          "name": "stderr"
        },
        {
          "output_type": "stream",
          "text": [
            "Deleting clip_embeddings_test.npz from GDrive\n",
            "Data saved to clip_embeddings_test.npz\n",
            "Uploaded clip_embeddings_test.npz to https://drive.google.com/drive/u/1/folders/1rACsi_OuN_WITrsuZt7pGZYUrUA2u6xT\n",
            "23500/30000 images done\n",
            "Downloading clip_embeddings_test.npz from GDrive\n"
          ],
          "name": "stdout"
        },
        {
          "output_type": "stream",
          "text": [
            "\r                                                                               \r\r [elapsed time: 0:00:00] |                                  | (ETA:  --:--:--) "
          ],
          "name": "stderr"
        },
        {
          "output_type": "stream",
          "text": [
            "23500/30000 images done already\n",
            "Running for image indices 23500-23600.\n",
            "Embedding images...\n"
          ],
          "name": "stdout"
        },
        {
          "output_type": "stream",
          "text": [
            " [elapsed time: 0:00:00] |**********************************| (ETA:  00:00:00) "
          ],
          "name": "stderr"
        },
        {
          "output_type": "stream",
          "text": [
            "Deleting clip_embeddings_test.npz from GDrive\n",
            "Data saved to clip_embeddings_test.npz\n",
            "Uploaded clip_embeddings_test.npz to https://drive.google.com/drive/u/1/folders/1rACsi_OuN_WITrsuZt7pGZYUrUA2u6xT\n",
            "23600/30000 images done\n",
            "Downloading clip_embeddings_test.npz from GDrive\n"
          ],
          "name": "stdout"
        },
        {
          "output_type": "stream",
          "text": [
            "\r                                                                               \r\r [elapsed time: 0:00:00] |                                  | (ETA:  --:--:--) "
          ],
          "name": "stderr"
        },
        {
          "output_type": "stream",
          "text": [
            "23600/30000 images done already\n",
            "Running for image indices 23600-23700.\n",
            "Embedding images...\n"
          ],
          "name": "stdout"
        },
        {
          "output_type": "stream",
          "text": [
            " [elapsed time: 0:00:00] |**********************************| (ETA:  00:00:00) "
          ],
          "name": "stderr"
        },
        {
          "output_type": "stream",
          "text": [
            "Deleting clip_embeddings_test.npz from GDrive\n",
            "Data saved to clip_embeddings_test.npz\n",
            "Uploaded clip_embeddings_test.npz to https://drive.google.com/drive/u/1/folders/1rACsi_OuN_WITrsuZt7pGZYUrUA2u6xT\n",
            "23700/30000 images done\n",
            "Downloading clip_embeddings_test.npz from GDrive\n"
          ],
          "name": "stdout"
        },
        {
          "output_type": "stream",
          "text": [
            "\r                                                                               \r\r [elapsed time: 0:00:00] |                                  | (ETA:  --:--:--) "
          ],
          "name": "stderr"
        },
        {
          "output_type": "stream",
          "text": [
            "23700/30000 images done already\n",
            "Running for image indices 23700-23800.\n",
            "Embedding images...\n"
          ],
          "name": "stdout"
        },
        {
          "output_type": "stream",
          "text": [
            " [elapsed time: 0:00:00] |**********************************| (ETA:  00:00:00) "
          ],
          "name": "stderr"
        },
        {
          "output_type": "stream",
          "text": [
            "Deleting clip_embeddings_test.npz from GDrive\n",
            "Data saved to clip_embeddings_test.npz\n",
            "Uploaded clip_embeddings_test.npz to https://drive.google.com/drive/u/1/folders/1rACsi_OuN_WITrsuZt7pGZYUrUA2u6xT\n",
            "23800/30000 images done\n"
          ],
          "name": "stdout"
        },
        {
          "output_type": "stream",
          "text": [
            "\r                                                                               \r\r [elapsed time: 0:00:00] |                                  | (ETA:  --:--:--) "
          ],
          "name": "stderr"
        },
        {
          "output_type": "stream",
          "text": [
            "Downloading clip_embeddings_test.npz from GDrive\n",
            "23800/30000 images done already\n",
            "Running for image indices 23800-23900.\n",
            "Embedding images...\n"
          ],
          "name": "stdout"
        },
        {
          "output_type": "stream",
          "text": [
            " [elapsed time: 0:00:00] |**********************************| (ETA:  00:00:00) "
          ],
          "name": "stderr"
        },
        {
          "output_type": "stream",
          "text": [
            "Deleting clip_embeddings_test.npz from GDrive\n",
            "Data saved to clip_embeddings_test.npz\n",
            "Uploaded clip_embeddings_test.npz to https://drive.google.com/drive/u/1/folders/1rACsi_OuN_WITrsuZt7pGZYUrUA2u6xT\n",
            "23900/30000 images done\n",
            "Downloading clip_embeddings_test.npz from GDrive\n"
          ],
          "name": "stdout"
        },
        {
          "output_type": "stream",
          "text": [
            "\r                                                                               \r\r [elapsed time: 0:00:00] |                                  | (ETA:  --:--:--) "
          ],
          "name": "stderr"
        },
        {
          "output_type": "stream",
          "text": [
            "23900/30000 images done already\n",
            "Running for image indices 23900-24000.\n",
            "Embedding images...\n"
          ],
          "name": "stdout"
        },
        {
          "output_type": "stream",
          "text": [
            " [elapsed time: 0:00:00] |**********************************| (ETA:  00:00:00) "
          ],
          "name": "stderr"
        },
        {
          "output_type": "stream",
          "text": [
            "Deleting clip_embeddings_test.npz from GDrive\n",
            "Data saved to clip_embeddings_test.npz\n",
            "Uploaded clip_embeddings_test.npz to https://drive.google.com/drive/u/1/folders/1rACsi_OuN_WITrsuZt7pGZYUrUA2u6xT\n",
            "24000/30000 images done\n",
            "Downloading clip_embeddings_test.npz from GDrive\n"
          ],
          "name": "stdout"
        },
        {
          "output_type": "stream",
          "text": [
            "\r                                                                               \r\r [elapsed time: 0:00:00] |                                  | (ETA:  --:--:--) "
          ],
          "name": "stderr"
        },
        {
          "output_type": "stream",
          "text": [
            "24000/30000 images done already\n",
            "Running for image indices 24000-24100.\n",
            "Embedding images...\n"
          ],
          "name": "stdout"
        },
        {
          "output_type": "stream",
          "text": [
            " [elapsed time: 0:00:00] |**********************************| (ETA:  00:00:00) "
          ],
          "name": "stderr"
        },
        {
          "output_type": "stream",
          "text": [
            "Deleting clip_embeddings_test.npz from GDrive\n",
            "Data saved to clip_embeddings_test.npz\n",
            "Uploaded clip_embeddings_test.npz to https://drive.google.com/drive/u/1/folders/1rACsi_OuN_WITrsuZt7pGZYUrUA2u6xT\n",
            "24100/30000 images done\n",
            "Downloading clip_embeddings_test.npz from GDrive\n"
          ],
          "name": "stdout"
        },
        {
          "output_type": "stream",
          "text": [
            "\r                                                                               \r\r [elapsed time: 0:00:00] |                                  | (ETA:  --:--:--) "
          ],
          "name": "stderr"
        },
        {
          "output_type": "stream",
          "text": [
            "24100/30000 images done already\n",
            "Running for image indices 24100-24200.\n",
            "Embedding images...\n"
          ],
          "name": "stdout"
        },
        {
          "output_type": "stream",
          "text": [
            " [elapsed time: 0:00:00] |**********************************| (ETA:  00:00:00) "
          ],
          "name": "stderr"
        },
        {
          "output_type": "stream",
          "text": [
            "Deleting clip_embeddings_test.npz from GDrive\n",
            "Data saved to clip_embeddings_test.npz\n",
            "Uploaded clip_embeddings_test.npz to https://drive.google.com/drive/u/1/folders/1rACsi_OuN_WITrsuZt7pGZYUrUA2u6xT\n",
            "24200/30000 images done\n",
            "Downloading clip_embeddings_test.npz from GDrive\n"
          ],
          "name": "stdout"
        },
        {
          "output_type": "stream",
          "text": [
            "\r                                                                               \r\r [elapsed time: 0:00:00] |                                  | (ETA:  --:--:--) "
          ],
          "name": "stderr"
        },
        {
          "output_type": "stream",
          "text": [
            "24200/30000 images done already\n",
            "Running for image indices 24200-24300.\n",
            "Embedding images...\n"
          ],
          "name": "stdout"
        },
        {
          "output_type": "stream",
          "text": [
            " [elapsed time: 0:00:00] |**********************************| (ETA:  00:00:00) "
          ],
          "name": "stderr"
        },
        {
          "output_type": "stream",
          "text": [
            "Deleting clip_embeddings_test.npz from GDrive\n",
            "Data saved to clip_embeddings_test.npz\n",
            "Uploaded clip_embeddings_test.npz to https://drive.google.com/drive/u/1/folders/1rACsi_OuN_WITrsuZt7pGZYUrUA2u6xT\n",
            "24300/30000 images done\n",
            "Downloading clip_embeddings_test.npz from GDrive\n"
          ],
          "name": "stdout"
        },
        {
          "output_type": "stream",
          "text": [
            "\r                                                                               \r\r [elapsed time: 0:00:00] |                                  | (ETA:  --:--:--) "
          ],
          "name": "stderr"
        },
        {
          "output_type": "stream",
          "text": [
            "24300/30000 images done already\n",
            "Running for image indices 24300-24400.\n",
            "Embedding images...\n"
          ],
          "name": "stdout"
        },
        {
          "output_type": "stream",
          "text": [
            " [elapsed time: 0:00:00] |**********************************| (ETA:  00:00:00) "
          ],
          "name": "stderr"
        },
        {
          "output_type": "stream",
          "text": [
            "Deleting clip_embeddings_test.npz from GDrive\n",
            "Data saved to clip_embeddings_test.npz\n",
            "Uploaded clip_embeddings_test.npz to https://drive.google.com/drive/u/1/folders/1rACsi_OuN_WITrsuZt7pGZYUrUA2u6xT\n",
            "24400/30000 images done\n",
            "Downloading clip_embeddings_test.npz from GDrive\n"
          ],
          "name": "stdout"
        },
        {
          "output_type": "stream",
          "text": [
            "\r                                                                               \r\r [elapsed time: 0:00:00] |                                  | (ETA:  --:--:--) "
          ],
          "name": "stderr"
        },
        {
          "output_type": "stream",
          "text": [
            "24400/30000 images done already\n",
            "Running for image indices 24400-24500.\n",
            "Embedding images...\n"
          ],
          "name": "stdout"
        },
        {
          "output_type": "stream",
          "text": [
            " [elapsed time: 0:00:00] |**********************************| (ETA:  00:00:00) "
          ],
          "name": "stderr"
        },
        {
          "output_type": "stream",
          "text": [
            "Deleting clip_embeddings_test.npz from GDrive\n",
            "Data saved to clip_embeddings_test.npz\n",
            "Uploaded clip_embeddings_test.npz to https://drive.google.com/drive/u/1/folders/1rACsi_OuN_WITrsuZt7pGZYUrUA2u6xT\n",
            "24500/30000 images done\n",
            "Downloading clip_embeddings_test.npz from GDrive\n"
          ],
          "name": "stdout"
        },
        {
          "output_type": "stream",
          "text": [
            "\r                                                                               \r\r [elapsed time: 0:00:00] |                                  | (ETA:  --:--:--) "
          ],
          "name": "stderr"
        },
        {
          "output_type": "stream",
          "text": [
            "24500/30000 images done already\n",
            "Running for image indices 24500-24600.\n",
            "Embedding images...\n"
          ],
          "name": "stdout"
        },
        {
          "output_type": "stream",
          "text": [
            " [elapsed time: 0:00:00] |**********************************| (ETA:  00:00:00) "
          ],
          "name": "stderr"
        },
        {
          "output_type": "stream",
          "text": [
            "Deleting clip_embeddings_test.npz from GDrive\n",
            "Data saved to clip_embeddings_test.npz\n",
            "Uploaded clip_embeddings_test.npz to https://drive.google.com/drive/u/1/folders/1rACsi_OuN_WITrsuZt7pGZYUrUA2u6xT\n",
            "24600/30000 images done\n",
            "Downloading clip_embeddings_test.npz from GDrive\n"
          ],
          "name": "stdout"
        },
        {
          "output_type": "stream",
          "text": [
            "\r                                                                               \r\r [elapsed time: 0:00:00] |                                  | (ETA:  --:--:--) "
          ],
          "name": "stderr"
        },
        {
          "output_type": "stream",
          "text": [
            "24600/30000 images done already\n",
            "Running for image indices 24600-24700.\n",
            "Embedding images...\n"
          ],
          "name": "stdout"
        },
        {
          "output_type": "stream",
          "text": [
            " [elapsed time: 0:00:00] |**********************************| (ETA:  00:00:00) "
          ],
          "name": "stderr"
        },
        {
          "output_type": "stream",
          "text": [
            "Deleting clip_embeddings_test.npz from GDrive\n",
            "Data saved to clip_embeddings_test.npz\n",
            "Uploaded clip_embeddings_test.npz to https://drive.google.com/drive/u/1/folders/1rACsi_OuN_WITrsuZt7pGZYUrUA2u6xT\n",
            "24700/30000 images done\n",
            "Downloading clip_embeddings_test.npz from GDrive\n"
          ],
          "name": "stdout"
        },
        {
          "output_type": "stream",
          "text": [
            "\r                                                                               \r\r [elapsed time: 0:00:00] |                                  | (ETA:  --:--:--) "
          ],
          "name": "stderr"
        },
        {
          "output_type": "stream",
          "text": [
            "24700/30000 images done already\n",
            "Running for image indices 24700-24800.\n",
            "Embedding images...\n"
          ],
          "name": "stdout"
        },
        {
          "output_type": "stream",
          "text": [
            " [elapsed time: 0:00:00] |**********************************| (ETA:  00:00:00) "
          ],
          "name": "stderr"
        },
        {
          "output_type": "stream",
          "text": [
            "Deleting clip_embeddings_test.npz from GDrive\n",
            "Data saved to clip_embeddings_test.npz\n",
            "Uploaded clip_embeddings_test.npz to https://drive.google.com/drive/u/1/folders/1rACsi_OuN_WITrsuZt7pGZYUrUA2u6xT\n",
            "24800/30000 images done\n",
            "Downloading clip_embeddings_test.npz from GDrive\n"
          ],
          "name": "stdout"
        },
        {
          "output_type": "stream",
          "text": [
            "\r                                                                               \r\r [elapsed time: 0:00:00] |                                  | (ETA:  --:--:--) "
          ],
          "name": "stderr"
        },
        {
          "output_type": "stream",
          "text": [
            "24800/30000 images done already\n",
            "Running for image indices 24800-24900.\n",
            "Embedding images...\n"
          ],
          "name": "stdout"
        },
        {
          "output_type": "stream",
          "text": [
            " [elapsed time: 0:00:00] |**********************************| (ETA:  00:00:00) "
          ],
          "name": "stderr"
        },
        {
          "output_type": "stream",
          "text": [
            "Deleting clip_embeddings_test.npz from GDrive\n",
            "Data saved to clip_embeddings_test.npz\n",
            "Uploaded clip_embeddings_test.npz to https://drive.google.com/drive/u/1/folders/1rACsi_OuN_WITrsuZt7pGZYUrUA2u6xT\n",
            "24900/30000 images done\n",
            "Downloading clip_embeddings_test.npz from GDrive\n",
            "24900/30000 images done already\n",
            "Running for image indices 24900-25000.\n"
          ],
          "name": "stdout"
        },
        {
          "output_type": "stream",
          "text": [
            " [elapsed time: 0:00:00] |**********************************| (ETA:  00:00:00) "
          ],
          "name": "stderr"
        },
        {
          "output_type": "stream",
          "text": [
            "Embedding images...\n",
            "Deleting clip_embeddings_test.npz from GDrive\n",
            "Data saved to clip_embeddings_test.npz\n",
            "Uploaded clip_embeddings_test.npz to https://drive.google.com/drive/u/1/folders/1rACsi_OuN_WITrsuZt7pGZYUrUA2u6xT\n",
            "25000/30000 images done\n",
            "Downloading clip_embeddings_test.npz from GDrive\n"
          ],
          "name": "stdout"
        },
        {
          "output_type": "stream",
          "text": [
            "\r                                                                               \r\r [elapsed time: 0:00:00] |                                  | (ETA:  --:--:--) "
          ],
          "name": "stderr"
        },
        {
          "output_type": "stream",
          "text": [
            "25000/30000 images done already\n",
            "Running for image indices 25000-25100.\n",
            "Embedding images...\n"
          ],
          "name": "stdout"
        },
        {
          "output_type": "stream",
          "text": [
            " [elapsed time: 0:00:00] |**********************************| (ETA:  00:00:00) "
          ],
          "name": "stderr"
        },
        {
          "output_type": "stream",
          "text": [
            "Deleting clip_embeddings_test.npz from GDrive\n",
            "Data saved to clip_embeddings_test.npz\n",
            "Uploaded clip_embeddings_test.npz to https://drive.google.com/drive/u/1/folders/1rACsi_OuN_WITrsuZt7pGZYUrUA2u6xT\n",
            "25100/30000 images done\n",
            "Downloading clip_embeddings_test.npz from GDrive\n"
          ],
          "name": "stdout"
        },
        {
          "output_type": "stream",
          "text": [
            "\r                                                                               \r\r [elapsed time: 0:00:00] |                                  | (ETA:  --:--:--) "
          ],
          "name": "stderr"
        },
        {
          "output_type": "stream",
          "text": [
            "25100/30000 images done already\n",
            "Running for image indices 25100-25200.\n",
            "Embedding images...\n"
          ],
          "name": "stdout"
        },
        {
          "output_type": "stream",
          "text": [
            " [elapsed time: 0:00:00] |**********************************| (ETA:  00:00:00) "
          ],
          "name": "stderr"
        },
        {
          "output_type": "stream",
          "text": [
            "Deleting clip_embeddings_test.npz from GDrive\n",
            "Data saved to clip_embeddings_test.npz\n",
            "Uploaded clip_embeddings_test.npz to https://drive.google.com/drive/u/1/folders/1rACsi_OuN_WITrsuZt7pGZYUrUA2u6xT\n",
            "25200/30000 images done\n",
            "Downloading clip_embeddings_test.npz from GDrive\n"
          ],
          "name": "stdout"
        },
        {
          "output_type": "stream",
          "text": [
            "\r                                                                               \r\r [elapsed time: 0:00:00] |                                  | (ETA:  --:--:--) "
          ],
          "name": "stderr"
        },
        {
          "output_type": "stream",
          "text": [
            "25200/30000 images done already\n",
            "Running for image indices 25200-25300.\n",
            "Embedding images...\n"
          ],
          "name": "stdout"
        },
        {
          "output_type": "stream",
          "text": [
            " [elapsed time: 0:00:00] |**********************************| (ETA:  00:00:00) "
          ],
          "name": "stderr"
        },
        {
          "output_type": "stream",
          "text": [
            "Deleting clip_embeddings_test.npz from GDrive\n",
            "Data saved to clip_embeddings_test.npz\n",
            "Uploaded clip_embeddings_test.npz to https://drive.google.com/drive/u/1/folders/1rACsi_OuN_WITrsuZt7pGZYUrUA2u6xT\n",
            "25300/30000 images done\n",
            "Downloading clip_embeddings_test.npz from GDrive\n"
          ],
          "name": "stdout"
        },
        {
          "output_type": "stream",
          "text": [
            "\r                                                                               \r\r [elapsed time: 0:00:00] |                                  | (ETA:  --:--:--) "
          ],
          "name": "stderr"
        },
        {
          "output_type": "stream",
          "text": [
            "25300/30000 images done already\n",
            "Running for image indices 25300-25400.\n",
            "Embedding images...\n"
          ],
          "name": "stdout"
        },
        {
          "output_type": "stream",
          "text": [
            " [elapsed time: 0:00:00] |**********************************| (ETA:  00:00:00) "
          ],
          "name": "stderr"
        },
        {
          "output_type": "stream",
          "text": [
            "Deleting clip_embeddings_test.npz from GDrive\n",
            "Data saved to clip_embeddings_test.npz\n",
            "Uploaded clip_embeddings_test.npz to https://drive.google.com/drive/u/1/folders/1rACsi_OuN_WITrsuZt7pGZYUrUA2u6xT\n",
            "25400/30000 images done\n",
            "Downloading clip_embeddings_test.npz from GDrive\n"
          ],
          "name": "stdout"
        },
        {
          "output_type": "stream",
          "text": [
            "\r                                                                               \r\r [elapsed time: 0:00:00] |                                  | (ETA:  --:--:--) "
          ],
          "name": "stderr"
        },
        {
          "output_type": "stream",
          "text": [
            "25400/30000 images done already\n",
            "Running for image indices 25400-25500.\n",
            "Embedding images...\n"
          ],
          "name": "stdout"
        },
        {
          "output_type": "stream",
          "text": [
            " [elapsed time: 0:00:00] |**********************************| (ETA:  00:00:00) "
          ],
          "name": "stderr"
        },
        {
          "output_type": "stream",
          "text": [
            "Deleting clip_embeddings_test.npz from GDrive\n",
            "Data saved to clip_embeddings_test.npz\n",
            "Uploaded clip_embeddings_test.npz to https://drive.google.com/drive/u/1/folders/1rACsi_OuN_WITrsuZt7pGZYUrUA2u6xT\n",
            "25500/30000 images done\n",
            "Downloading clip_embeddings_test.npz from GDrive\n",
            "25500/30000 images done already\n",
            "Running for image indices 25500-25600.\n"
          ],
          "name": "stdout"
        },
        {
          "output_type": "stream",
          "text": [
            " [elapsed time: 0:00:00] |**********************************| (ETA:  00:00:00) "
          ],
          "name": "stderr"
        },
        {
          "output_type": "stream",
          "text": [
            "Embedding images...\n",
            "Deleting clip_embeddings_test.npz from GDrive\n",
            "Data saved to clip_embeddings_test.npz\n",
            "Uploaded clip_embeddings_test.npz to https://drive.google.com/drive/u/1/folders/1rACsi_OuN_WITrsuZt7pGZYUrUA2u6xT\n",
            "25600/30000 images done\n",
            "Downloading clip_embeddings_test.npz from GDrive\n"
          ],
          "name": "stdout"
        },
        {
          "output_type": "stream",
          "text": [
            "\r                                                                               \r\r [elapsed time: 0:00:00] |                                  | (ETA:  --:--:--) "
          ],
          "name": "stderr"
        },
        {
          "output_type": "stream",
          "text": [
            "25600/30000 images done already\n",
            "Running for image indices 25600-25700.\n",
            "Embedding images...\n"
          ],
          "name": "stdout"
        },
        {
          "output_type": "stream",
          "text": [
            " [elapsed time: 0:00:00] |**********************************| (ETA:  00:00:00) "
          ],
          "name": "stderr"
        },
        {
          "output_type": "stream",
          "text": [
            "Deleting clip_embeddings_test.npz from GDrive\n",
            "Data saved to clip_embeddings_test.npz\n",
            "Uploaded clip_embeddings_test.npz to https://drive.google.com/drive/u/1/folders/1rACsi_OuN_WITrsuZt7pGZYUrUA2u6xT\n",
            "25700/30000 images done\n",
            "Downloading clip_embeddings_test.npz from GDrive\n"
          ],
          "name": "stdout"
        },
        {
          "output_type": "stream",
          "text": [
            "\r                                                                               \r\r [elapsed time: 0:00:00] |                                  | (ETA:  --:--:--) "
          ],
          "name": "stderr"
        },
        {
          "output_type": "stream",
          "text": [
            "25700/30000 images done already\n",
            "Running for image indices 25700-25800.\n",
            "Embedding images...\n"
          ],
          "name": "stdout"
        },
        {
          "output_type": "stream",
          "text": [
            " [elapsed time: 0:00:00] |**********************************| (ETA:  00:00:00) "
          ],
          "name": "stderr"
        },
        {
          "output_type": "stream",
          "text": [
            "Deleting clip_embeddings_test.npz from GDrive\n",
            "Data saved to clip_embeddings_test.npz\n",
            "Uploaded clip_embeddings_test.npz to https://drive.google.com/drive/u/1/folders/1rACsi_OuN_WITrsuZt7pGZYUrUA2u6xT\n",
            "25800/30000 images done\n",
            "Downloading clip_embeddings_test.npz from GDrive\n"
          ],
          "name": "stdout"
        },
        {
          "output_type": "stream",
          "text": [
            "\r                                                                               \r\r [elapsed time: 0:00:00] |                                  | (ETA:  --:--:--) "
          ],
          "name": "stderr"
        },
        {
          "output_type": "stream",
          "text": [
            "25800/30000 images done already\n",
            "Running for image indices 25800-25900.\n",
            "Embedding images...\n"
          ],
          "name": "stdout"
        },
        {
          "output_type": "stream",
          "text": [
            " [elapsed time: 0:00:00] |**********************************| (ETA:  00:00:00) "
          ],
          "name": "stderr"
        },
        {
          "output_type": "stream",
          "text": [
            "Deleting clip_embeddings_test.npz from GDrive\n",
            "Data saved to clip_embeddings_test.npz\n",
            "Uploaded clip_embeddings_test.npz to https://drive.google.com/drive/u/1/folders/1rACsi_OuN_WITrsuZt7pGZYUrUA2u6xT\n",
            "25900/30000 images done\n",
            "Downloading clip_embeddings_test.npz from GDrive\n"
          ],
          "name": "stdout"
        },
        {
          "output_type": "stream",
          "text": [
            "\r                                                                               \r\r [elapsed time: 0:00:00] |                                  | (ETA:  --:--:--) "
          ],
          "name": "stderr"
        },
        {
          "output_type": "stream",
          "text": [
            "25900/30000 images done already\n",
            "Running for image indices 25900-26000.\n",
            "Embedding images...\n"
          ],
          "name": "stdout"
        },
        {
          "output_type": "stream",
          "text": [
            " [elapsed time: 0:00:00] |**********************************| (ETA:  00:00:00) "
          ],
          "name": "stderr"
        },
        {
          "output_type": "stream",
          "text": [
            "Deleting clip_embeddings_test.npz from GDrive\n",
            "Data saved to clip_embeddings_test.npz\n",
            "Uploaded clip_embeddings_test.npz to https://drive.google.com/drive/u/1/folders/1rACsi_OuN_WITrsuZt7pGZYUrUA2u6xT\n",
            "26000/30000 images done\n",
            "Downloading clip_embeddings_test.npz from GDrive\n"
          ],
          "name": "stdout"
        },
        {
          "output_type": "stream",
          "text": [
            "\r                                                                               \r\r [elapsed time: 0:00:00] |                                  | (ETA:  --:--:--) "
          ],
          "name": "stderr"
        },
        {
          "output_type": "stream",
          "text": [
            "26000/30000 images done already\n",
            "Running for image indices 26000-26100.\n",
            "Embedding images...\n"
          ],
          "name": "stdout"
        },
        {
          "output_type": "stream",
          "text": [
            " [elapsed time: 0:00:00] |**********************************| (ETA:  00:00:00) "
          ],
          "name": "stderr"
        },
        {
          "output_type": "stream",
          "text": [
            "Deleting clip_embeddings_test.npz from GDrive\n",
            "Data saved to clip_embeddings_test.npz\n",
            "Uploaded clip_embeddings_test.npz to https://drive.google.com/drive/u/1/folders/1rACsi_OuN_WITrsuZt7pGZYUrUA2u6xT\n",
            "26100/30000 images done\n",
            "Downloading clip_embeddings_test.npz from GDrive\n"
          ],
          "name": "stdout"
        },
        {
          "output_type": "stream",
          "text": [
            "\r                                                                               \r\r [elapsed time: 0:00:00] |                                  | (ETA:  --:--:--) "
          ],
          "name": "stderr"
        },
        {
          "output_type": "stream",
          "text": [
            "26100/30000 images done already\n",
            "Running for image indices 26100-26200.\n",
            "Embedding images...\n"
          ],
          "name": "stdout"
        },
        {
          "output_type": "stream",
          "text": [
            " [elapsed time: 0:00:00] |**********************************| (ETA:  00:00:00) "
          ],
          "name": "stderr"
        },
        {
          "output_type": "stream",
          "text": [
            "Deleting clip_embeddings_test.npz from GDrive\n",
            "Data saved to clip_embeddings_test.npz\n",
            "Uploaded clip_embeddings_test.npz to https://drive.google.com/drive/u/1/folders/1rACsi_OuN_WITrsuZt7pGZYUrUA2u6xT\n",
            "26200/30000 images done\n",
            "Downloading clip_embeddings_test.npz from GDrive\n"
          ],
          "name": "stdout"
        },
        {
          "output_type": "stream",
          "text": [
            "\r                                                                               \r\r [elapsed time: 0:00:00] |                                  | (ETA:  --:--:--) "
          ],
          "name": "stderr"
        },
        {
          "output_type": "stream",
          "text": [
            "26200/30000 images done already\n",
            "Running for image indices 26200-26300.\n",
            "Embedding images...\n"
          ],
          "name": "stdout"
        },
        {
          "output_type": "stream",
          "text": [
            " [elapsed time: 0:00:00] |**********************************| (ETA:  00:00:00) "
          ],
          "name": "stderr"
        },
        {
          "output_type": "stream",
          "text": [
            "Deleting clip_embeddings_test.npz from GDrive\n",
            "Data saved to clip_embeddings_test.npz\n",
            "Uploaded clip_embeddings_test.npz to https://drive.google.com/drive/u/1/folders/1rACsi_OuN_WITrsuZt7pGZYUrUA2u6xT\n",
            "26300/30000 images done\n",
            "Downloading clip_embeddings_test.npz from GDrive\n"
          ],
          "name": "stdout"
        },
        {
          "output_type": "stream",
          "text": [
            "\r                                                                               \r\r [elapsed time: 0:00:00] |                                  | (ETA:  --:--:--) "
          ],
          "name": "stderr"
        },
        {
          "output_type": "stream",
          "text": [
            "26300/30000 images done already\n",
            "Running for image indices 26300-26400.\n",
            "Embedding images...\n"
          ],
          "name": "stdout"
        },
        {
          "output_type": "stream",
          "text": [
            " [elapsed time: 0:00:00] |**********************************| (ETA:  00:00:00) "
          ],
          "name": "stderr"
        },
        {
          "output_type": "stream",
          "text": [
            "Deleting clip_embeddings_test.npz from GDrive\n",
            "Data saved to clip_embeddings_test.npz\n",
            "Uploaded clip_embeddings_test.npz to https://drive.google.com/drive/u/1/folders/1rACsi_OuN_WITrsuZt7pGZYUrUA2u6xT\n",
            "26400/30000 images done\n",
            "Downloading clip_embeddings_test.npz from GDrive\n"
          ],
          "name": "stdout"
        },
        {
          "output_type": "stream",
          "text": [
            "\r                                                                               \r\r [elapsed time: 0:00:00] |                                  | (ETA:  --:--:--) "
          ],
          "name": "stderr"
        },
        {
          "output_type": "stream",
          "text": [
            "26400/30000 images done already\n",
            "Running for image indices 26400-26500.\n",
            "Embedding images...\n"
          ],
          "name": "stdout"
        },
        {
          "output_type": "stream",
          "text": [
            " [elapsed time: 0:00:00] |**********************************| (ETA:  00:00:00) "
          ],
          "name": "stderr"
        },
        {
          "output_type": "stream",
          "text": [
            "Deleting clip_embeddings_test.npz from GDrive\n",
            "Data saved to clip_embeddings_test.npz\n",
            "Uploaded clip_embeddings_test.npz to https://drive.google.com/drive/u/1/folders/1rACsi_OuN_WITrsuZt7pGZYUrUA2u6xT\n",
            "26500/30000 images done\n",
            "Downloading clip_embeddings_test.npz from GDrive\n"
          ],
          "name": "stdout"
        },
        {
          "output_type": "stream",
          "text": [
            "\r                                                                               \r\r [elapsed time: 0:00:00] |                                  | (ETA:  --:--:--) "
          ],
          "name": "stderr"
        },
        {
          "output_type": "stream",
          "text": [
            "26500/30000 images done already\n",
            "Running for image indices 26500-26600.\n",
            "Embedding images...\n"
          ],
          "name": "stdout"
        },
        {
          "output_type": "stream",
          "text": [
            " [elapsed time: 0:00:00] |**********************************| (ETA:  00:00:00) "
          ],
          "name": "stderr"
        },
        {
          "output_type": "stream",
          "text": [
            "Deleting clip_embeddings_test.npz from GDrive\n",
            "Data saved to clip_embeddings_test.npz\n",
            "Uploaded clip_embeddings_test.npz to https://drive.google.com/drive/u/1/folders/1rACsi_OuN_WITrsuZt7pGZYUrUA2u6xT\n",
            "26600/30000 images done\n",
            "Downloading clip_embeddings_test.npz from GDrive\n"
          ],
          "name": "stdout"
        },
        {
          "output_type": "stream",
          "text": [
            "\r                                                                               \r\r [elapsed time: 0:00:00] |                                  | (ETA:  --:--:--) "
          ],
          "name": "stderr"
        },
        {
          "output_type": "stream",
          "text": [
            "26600/30000 images done already\n",
            "Running for image indices 26600-26700.\n",
            "Embedding images...\n"
          ],
          "name": "stdout"
        },
        {
          "output_type": "stream",
          "text": [
            " [elapsed time: 0:00:00] |**********************************| (ETA:  00:00:00) "
          ],
          "name": "stderr"
        },
        {
          "output_type": "stream",
          "text": [
            "Deleting clip_embeddings_test.npz from GDrive\n",
            "Data saved to clip_embeddings_test.npz\n",
            "Uploaded clip_embeddings_test.npz to https://drive.google.com/drive/u/1/folders/1rACsi_OuN_WITrsuZt7pGZYUrUA2u6xT\n",
            "26700/30000 images done\n",
            "Downloading clip_embeddings_test.npz from GDrive\n"
          ],
          "name": "stdout"
        },
        {
          "output_type": "stream",
          "text": [
            "\r                                                                               \r\r [elapsed time: 0:00:00] |                                  | (ETA:  --:--:--) "
          ],
          "name": "stderr"
        },
        {
          "output_type": "stream",
          "text": [
            "26700/30000 images done already\n",
            "Running for image indices 26700-26800.\n",
            "Embedding images...\n"
          ],
          "name": "stdout"
        },
        {
          "output_type": "stream",
          "text": [
            " [elapsed time: 0:00:00] |**********************************| (ETA:  00:00:00) "
          ],
          "name": "stderr"
        },
        {
          "output_type": "stream",
          "text": [
            "Deleting clip_embeddings_test.npz from GDrive\n",
            "Data saved to clip_embeddings_test.npz\n",
            "Uploaded clip_embeddings_test.npz to https://drive.google.com/drive/u/1/folders/1rACsi_OuN_WITrsuZt7pGZYUrUA2u6xT\n",
            "26800/30000 images done\n",
            "Downloading clip_embeddings_test.npz from GDrive\n"
          ],
          "name": "stdout"
        },
        {
          "output_type": "stream",
          "text": [
            "\r                                                                               \r\r [elapsed time: 0:00:00] |                                  | (ETA:  --:--:--) "
          ],
          "name": "stderr"
        },
        {
          "output_type": "stream",
          "text": [
            "26800/30000 images done already\n",
            "Running for image indices 26800-26900.\n",
            "Embedding images...\n"
          ],
          "name": "stdout"
        },
        {
          "output_type": "stream",
          "text": [
            " [elapsed time: 0:00:00] |**********************************| (ETA:  00:00:00) "
          ],
          "name": "stderr"
        },
        {
          "output_type": "stream",
          "text": [
            "Deleting clip_embeddings_test.npz from GDrive\n",
            "Data saved to clip_embeddings_test.npz\n",
            "Uploaded clip_embeddings_test.npz to https://drive.google.com/drive/u/1/folders/1rACsi_OuN_WITrsuZt7pGZYUrUA2u6xT\n",
            "26900/30000 images done\n",
            "Downloading clip_embeddings_test.npz from GDrive\n"
          ],
          "name": "stdout"
        },
        {
          "output_type": "stream",
          "text": [
            "\r                                                                               \r\r [elapsed time: 0:00:00] |                                  | (ETA:  --:--:--) "
          ],
          "name": "stderr"
        },
        {
          "output_type": "stream",
          "text": [
            "26900/30000 images done already\n",
            "Running for image indices 26900-27000.\n",
            "Embedding images...\n"
          ],
          "name": "stdout"
        },
        {
          "output_type": "stream",
          "text": [
            " [elapsed time: 0:00:00] |**********************************| (ETA:  00:00:00) "
          ],
          "name": "stderr"
        },
        {
          "output_type": "stream",
          "text": [
            "Deleting clip_embeddings_test.npz from GDrive\n",
            "Data saved to clip_embeddings_test.npz\n",
            "Uploaded clip_embeddings_test.npz to https://drive.google.com/drive/u/1/folders/1rACsi_OuN_WITrsuZt7pGZYUrUA2u6xT\n",
            "27000/30000 images done\n",
            "Downloading clip_embeddings_test.npz from GDrive\n"
          ],
          "name": "stdout"
        },
        {
          "output_type": "stream",
          "text": [
            "\r                                                                               \r\r [elapsed time: 0:00:00] |                                  | (ETA:  --:--:--) "
          ],
          "name": "stderr"
        },
        {
          "output_type": "stream",
          "text": [
            "27000/30000 images done already\n",
            "Running for image indices 27000-27100.\n",
            "Embedding images...\n"
          ],
          "name": "stdout"
        },
        {
          "output_type": "stream",
          "text": [
            " [elapsed time: 0:00:00] |**********************************| (ETA:  00:00:00) "
          ],
          "name": "stderr"
        },
        {
          "output_type": "stream",
          "text": [
            "Deleting clip_embeddings_test.npz from GDrive\n",
            "Data saved to clip_embeddings_test.npz\n",
            "Uploaded clip_embeddings_test.npz to https://drive.google.com/drive/u/1/folders/1rACsi_OuN_WITrsuZt7pGZYUrUA2u6xT\n",
            "27100/30000 images done\n",
            "Downloading clip_embeddings_test.npz from GDrive\n"
          ],
          "name": "stdout"
        },
        {
          "output_type": "stream",
          "text": [
            "\r                                                                               \r\r [elapsed time: 0:00:00] |                                  | (ETA:  --:--:--) "
          ],
          "name": "stderr"
        },
        {
          "output_type": "stream",
          "text": [
            "27100/30000 images done already\n",
            "Running for image indices 27100-27200.\n",
            "Embedding images...\n"
          ],
          "name": "stdout"
        },
        {
          "output_type": "stream",
          "text": [
            " [elapsed time: 0:00:00] |**********************************| (ETA:  00:00:00) "
          ],
          "name": "stderr"
        },
        {
          "output_type": "stream",
          "text": [
            "Deleting clip_embeddings_test.npz from GDrive\n",
            "Data saved to clip_embeddings_test.npz\n",
            "Uploaded clip_embeddings_test.npz to https://drive.google.com/drive/u/1/folders/1rACsi_OuN_WITrsuZt7pGZYUrUA2u6xT\n",
            "27200/30000 images done\n",
            "Downloading clip_embeddings_test.npz from GDrive\n"
          ],
          "name": "stdout"
        },
        {
          "output_type": "stream",
          "text": [
            "\r                                                                               \r\r [elapsed time: 0:00:00] |                                  | (ETA:  --:--:--) "
          ],
          "name": "stderr"
        },
        {
          "output_type": "stream",
          "text": [
            "27200/30000 images done already\n",
            "Running for image indices 27200-27300.\n",
            "Embedding images...\n"
          ],
          "name": "stdout"
        },
        {
          "output_type": "stream",
          "text": [
            " [elapsed time: 0:00:00] |**********************************| (ETA:  00:00:00) "
          ],
          "name": "stderr"
        },
        {
          "output_type": "stream",
          "text": [
            "Deleting clip_embeddings_test.npz from GDrive\n",
            "Data saved to clip_embeddings_test.npz\n",
            "Uploaded clip_embeddings_test.npz to https://drive.google.com/drive/u/1/folders/1rACsi_OuN_WITrsuZt7pGZYUrUA2u6xT\n",
            "27300/30000 images done\n",
            "Downloading clip_embeddings_test.npz from GDrive\n"
          ],
          "name": "stdout"
        },
        {
          "output_type": "stream",
          "text": [
            "\r                                                                               \r\r [elapsed time: 0:00:00] |                                  | (ETA:  --:--:--) "
          ],
          "name": "stderr"
        },
        {
          "output_type": "stream",
          "text": [
            "27300/30000 images done already\n",
            "Running for image indices 27300-27400.\n",
            "Embedding images...\n"
          ],
          "name": "stdout"
        },
        {
          "output_type": "stream",
          "text": [
            " [elapsed time: 0:00:00] |**********************************| (ETA:  00:00:00) "
          ],
          "name": "stderr"
        },
        {
          "output_type": "stream",
          "text": [
            "Deleting clip_embeddings_test.npz from GDrive\n",
            "Data saved to clip_embeddings_test.npz\n",
            "Uploaded clip_embeddings_test.npz to https://drive.google.com/drive/u/1/folders/1rACsi_OuN_WITrsuZt7pGZYUrUA2u6xT\n",
            "27400/30000 images done\n",
            "Downloading clip_embeddings_test.npz from GDrive\n"
          ],
          "name": "stdout"
        },
        {
          "output_type": "stream",
          "text": [
            "\r                                                                               \r\r [elapsed time: 0:00:00] |                                  | (ETA:  --:--:--) "
          ],
          "name": "stderr"
        },
        {
          "output_type": "stream",
          "text": [
            "27400/30000 images done already\n",
            "Running for image indices 27400-27500.\n",
            "Embedding images...\n"
          ],
          "name": "stdout"
        },
        {
          "output_type": "stream",
          "text": [
            " [elapsed time: 0:00:00] |**********************************| (ETA:  00:00:00) "
          ],
          "name": "stderr"
        },
        {
          "output_type": "stream",
          "text": [
            "Deleting clip_embeddings_test.npz from GDrive\n",
            "Data saved to clip_embeddings_test.npz\n",
            "Uploaded clip_embeddings_test.npz to https://drive.google.com/drive/u/1/folders/1rACsi_OuN_WITrsuZt7pGZYUrUA2u6xT\n",
            "27500/30000 images done\n",
            "Downloading clip_embeddings_test.npz from GDrive\n"
          ],
          "name": "stdout"
        },
        {
          "output_type": "stream",
          "text": [
            "\r                                                                               \r\r [elapsed time: 0:00:00] |                                  | (ETA:  --:--:--) "
          ],
          "name": "stderr"
        },
        {
          "output_type": "stream",
          "text": [
            "27500/30000 images done already\n",
            "Running for image indices 27500-27600.\n",
            "Embedding images...\n"
          ],
          "name": "stdout"
        },
        {
          "output_type": "stream",
          "text": [
            " [elapsed time: 0:00:00] |**********************************| (ETA:  00:00:00) "
          ],
          "name": "stderr"
        },
        {
          "output_type": "stream",
          "text": [
            "Deleting clip_embeddings_test.npz from GDrive\n",
            "Data saved to clip_embeddings_test.npz\n",
            "Uploaded clip_embeddings_test.npz to https://drive.google.com/drive/u/1/folders/1rACsi_OuN_WITrsuZt7pGZYUrUA2u6xT\n",
            "27600/30000 images done\n",
            "Downloading clip_embeddings_test.npz from GDrive\n"
          ],
          "name": "stdout"
        },
        {
          "output_type": "stream",
          "text": [
            "\r                                                                               \r\r [elapsed time: 0:00:00] |                                  | (ETA:  --:--:--) "
          ],
          "name": "stderr"
        },
        {
          "output_type": "stream",
          "text": [
            "27600/30000 images done already\n",
            "Running for image indices 27600-27700.\n",
            "Embedding images...\n"
          ],
          "name": "stdout"
        },
        {
          "output_type": "stream",
          "text": [
            " [elapsed time: 0:00:00] |**********************************| (ETA:  00:00:00) "
          ],
          "name": "stderr"
        },
        {
          "output_type": "stream",
          "text": [
            "Deleting clip_embeddings_test.npz from GDrive\n",
            "Data saved to clip_embeddings_test.npz\n",
            "Uploaded clip_embeddings_test.npz to https://drive.google.com/drive/u/1/folders/1rACsi_OuN_WITrsuZt7pGZYUrUA2u6xT\n",
            "27700/30000 images done\n",
            "Downloading clip_embeddings_test.npz from GDrive\n"
          ],
          "name": "stdout"
        },
        {
          "output_type": "stream",
          "text": [
            "\r                                                                               \r\r [elapsed time: 0:00:00] |                                  | (ETA:  --:--:--) "
          ],
          "name": "stderr"
        },
        {
          "output_type": "stream",
          "text": [
            "27700/30000 images done already\n",
            "Running for image indices 27700-27800.\n",
            "Embedding images...\n"
          ],
          "name": "stdout"
        },
        {
          "output_type": "stream",
          "text": [
            " [elapsed time: 0:00:00] |**********************************| (ETA:  00:00:00) "
          ],
          "name": "stderr"
        },
        {
          "output_type": "stream",
          "text": [
            "Deleting clip_embeddings_test.npz from GDrive\n",
            "Data saved to clip_embeddings_test.npz\n",
            "Uploaded clip_embeddings_test.npz to https://drive.google.com/drive/u/1/folders/1rACsi_OuN_WITrsuZt7pGZYUrUA2u6xT\n",
            "27800/30000 images done\n",
            "Downloading clip_embeddings_test.npz from GDrive\n"
          ],
          "name": "stdout"
        },
        {
          "output_type": "stream",
          "text": [
            "\r                                                                               \r\r [elapsed time: 0:00:00] |                                  | (ETA:  --:--:--) "
          ],
          "name": "stderr"
        },
        {
          "output_type": "stream",
          "text": [
            "27800/30000 images done already\n",
            "Running for image indices 27800-27900.\n",
            "Embedding images...\n"
          ],
          "name": "stdout"
        },
        {
          "output_type": "stream",
          "text": [
            " [elapsed time: 0:00:00] |**********************************| (ETA:  00:00:00) "
          ],
          "name": "stderr"
        },
        {
          "output_type": "stream",
          "text": [
            "Deleting clip_embeddings_test.npz from GDrive\n",
            "Data saved to clip_embeddings_test.npz\n",
            "Uploaded clip_embeddings_test.npz to https://drive.google.com/drive/u/1/folders/1rACsi_OuN_WITrsuZt7pGZYUrUA2u6xT\n",
            "27900/30000 images done\n",
            "Downloading clip_embeddings_test.npz from GDrive\n"
          ],
          "name": "stdout"
        },
        {
          "output_type": "stream",
          "text": [
            "\r                                                                               \r\r [elapsed time: 0:00:00] |                                  | (ETA:  --:--:--) "
          ],
          "name": "stderr"
        },
        {
          "output_type": "stream",
          "text": [
            "27900/30000 images done already\n",
            "Running for image indices 27900-28000.\n",
            "Embedding images...\n"
          ],
          "name": "stdout"
        },
        {
          "output_type": "stream",
          "text": [
            " [elapsed time: 0:00:00] |**********************************| (ETA:  00:00:00) "
          ],
          "name": "stderr"
        },
        {
          "output_type": "stream",
          "text": [
            "Deleting clip_embeddings_test.npz from GDrive\n",
            "Data saved to clip_embeddings_test.npz\n",
            "Uploaded clip_embeddings_test.npz to https://drive.google.com/drive/u/1/folders/1rACsi_OuN_WITrsuZt7pGZYUrUA2u6xT\n",
            "28000/30000 images done\n",
            "Downloading clip_embeddings_test.npz from GDrive\n"
          ],
          "name": "stdout"
        },
        {
          "output_type": "stream",
          "text": [
            "\r                                                                               \r\r [elapsed time: 0:00:00] |                                  | (ETA:  --:--:--) "
          ],
          "name": "stderr"
        },
        {
          "output_type": "stream",
          "text": [
            "28000/30000 images done already\n",
            "Running for image indices 28000-28100.\n",
            "Embedding images...\n"
          ],
          "name": "stdout"
        },
        {
          "output_type": "stream",
          "text": [
            " [elapsed time: 0:00:00] |**********************************| (ETA:  00:00:00) "
          ],
          "name": "stderr"
        },
        {
          "output_type": "stream",
          "text": [
            "Deleting clip_embeddings_test.npz from GDrive\n",
            "Data saved to clip_embeddings_test.npz\n",
            "Uploaded clip_embeddings_test.npz to https://drive.google.com/drive/u/1/folders/1rACsi_OuN_WITrsuZt7pGZYUrUA2u6xT\n",
            "28100/30000 images done\n",
            "Downloading clip_embeddings_test.npz from GDrive\n"
          ],
          "name": "stdout"
        },
        {
          "output_type": "stream",
          "text": [
            "\r                                                                               \r\r [elapsed time: 0:00:00] |                                  | (ETA:  --:--:--) "
          ],
          "name": "stderr"
        },
        {
          "output_type": "stream",
          "text": [
            "28100/30000 images done already\n",
            "Running for image indices 28100-28200.\n",
            "Embedding images...\n"
          ],
          "name": "stdout"
        },
        {
          "output_type": "stream",
          "text": [
            " [elapsed time: 0:00:00] |**********************************| (ETA:  00:00:00) "
          ],
          "name": "stderr"
        },
        {
          "output_type": "stream",
          "text": [
            "Deleting clip_embeddings_test.npz from GDrive\n",
            "Data saved to clip_embeddings_test.npz\n",
            "Uploaded clip_embeddings_test.npz to https://drive.google.com/drive/u/1/folders/1rACsi_OuN_WITrsuZt7pGZYUrUA2u6xT\n",
            "28200/30000 images done\n",
            "Downloading clip_embeddings_test.npz from GDrive\n"
          ],
          "name": "stdout"
        },
        {
          "output_type": "stream",
          "text": [
            "\r                                                                               \r\r [elapsed time: 0:00:00] |                                  | (ETA:  --:--:--) "
          ],
          "name": "stderr"
        },
        {
          "output_type": "stream",
          "text": [
            "28200/30000 images done already\n",
            "Running for image indices 28200-28300.\n",
            "Embedding images...\n"
          ],
          "name": "stdout"
        },
        {
          "output_type": "stream",
          "text": [
            " [elapsed time: 0:00:00] |**********************************| (ETA:  00:00:00) "
          ],
          "name": "stderr"
        },
        {
          "output_type": "stream",
          "text": [
            "Deleting clip_embeddings_test.npz from GDrive\n",
            "Data saved to clip_embeddings_test.npz\n",
            "Uploaded clip_embeddings_test.npz to https://drive.google.com/drive/u/1/folders/1rACsi_OuN_WITrsuZt7pGZYUrUA2u6xT\n",
            "28300/30000 images done\n",
            "Downloading clip_embeddings_test.npz from GDrive\n"
          ],
          "name": "stdout"
        },
        {
          "output_type": "stream",
          "text": [
            "\r                                                                               \r\r [elapsed time: 0:00:00] |                                  | (ETA:  --:--:--) "
          ],
          "name": "stderr"
        },
        {
          "output_type": "stream",
          "text": [
            "28300/30000 images done already\n",
            "Running for image indices 28300-28400.\n",
            "Embedding images...\n"
          ],
          "name": "stdout"
        },
        {
          "output_type": "stream",
          "text": [
            " [elapsed time: 0:00:00] |**********************************| (ETA:  00:00:00) "
          ],
          "name": "stderr"
        },
        {
          "output_type": "stream",
          "text": [
            "Deleting clip_embeddings_test.npz from GDrive\n",
            "Data saved to clip_embeddings_test.npz\n",
            "Uploaded clip_embeddings_test.npz to https://drive.google.com/drive/u/1/folders/1rACsi_OuN_WITrsuZt7pGZYUrUA2u6xT\n",
            "28400/30000 images done\n",
            "Downloading clip_embeddings_test.npz from GDrive\n"
          ],
          "name": "stdout"
        },
        {
          "output_type": "stream",
          "text": [
            "\r                                                                               \r\r [elapsed time: 0:00:00] |                                  | (ETA:  --:--:--) "
          ],
          "name": "stderr"
        },
        {
          "output_type": "stream",
          "text": [
            "28400/30000 images done already\n",
            "Running for image indices 28400-28500.\n",
            "Embedding images...\n"
          ],
          "name": "stdout"
        },
        {
          "output_type": "stream",
          "text": [
            " [elapsed time: 0:00:00] |**********************************| (ETA:  00:00:00) "
          ],
          "name": "stderr"
        },
        {
          "output_type": "stream",
          "text": [
            "Deleting clip_embeddings_test.npz from GDrive\n",
            "Data saved to clip_embeddings_test.npz\n",
            "Uploaded clip_embeddings_test.npz to https://drive.google.com/drive/u/1/folders/1rACsi_OuN_WITrsuZt7pGZYUrUA2u6xT\n",
            "28500/30000 images done\n",
            "Downloading clip_embeddings_test.npz from GDrive\n"
          ],
          "name": "stdout"
        },
        {
          "output_type": "stream",
          "text": [
            "\r                                                                               \r\r [elapsed time: 0:00:00] |                                  | (ETA:  --:--:--) "
          ],
          "name": "stderr"
        },
        {
          "output_type": "stream",
          "text": [
            "28500/30000 images done already\n",
            "Running for image indices 28500-28600.\n",
            "Embedding images...\n"
          ],
          "name": "stdout"
        },
        {
          "output_type": "stream",
          "text": [
            " [elapsed time: 0:00:00] |**********************************| (ETA:  00:00:00) "
          ],
          "name": "stderr"
        },
        {
          "output_type": "stream",
          "text": [
            "Deleting clip_embeddings_test.npz from GDrive\n",
            "Data saved to clip_embeddings_test.npz\n",
            "Uploaded clip_embeddings_test.npz to https://drive.google.com/drive/u/1/folders/1rACsi_OuN_WITrsuZt7pGZYUrUA2u6xT\n",
            "28600/30000 images done\n",
            "Downloading clip_embeddings_test.npz from GDrive\n",
            "28600/30000 images done already\n",
            "Running for image indices 28600-28700.\n"
          ],
          "name": "stdout"
        },
        {
          "output_type": "stream",
          "text": [
            " [elapsed time: 0:00:00] |**********************************| (ETA:  00:00:00) "
          ],
          "name": "stderr"
        },
        {
          "output_type": "stream",
          "text": [
            "Embedding images...\n",
            "Deleting clip_embeddings_test.npz from GDrive\n",
            "Data saved to clip_embeddings_test.npz\n",
            "Uploaded clip_embeddings_test.npz to https://drive.google.com/drive/u/1/folders/1rACsi_OuN_WITrsuZt7pGZYUrUA2u6xT\n",
            "28700/30000 images done\n",
            "Downloading clip_embeddings_test.npz from GDrive\n"
          ],
          "name": "stdout"
        },
        {
          "output_type": "stream",
          "text": [
            "\r                                                                               \r\r [elapsed time: 0:00:00] |                                  | (ETA:  --:--:--) "
          ],
          "name": "stderr"
        },
        {
          "output_type": "stream",
          "text": [
            "28700/30000 images done already\n",
            "Running for image indices 28700-28800.\n",
            "Embedding images...\n"
          ],
          "name": "stdout"
        },
        {
          "output_type": "stream",
          "text": [
            " [elapsed time: 0:00:00] |**********************************| (ETA:  00:00:00) "
          ],
          "name": "stderr"
        },
        {
          "output_type": "stream",
          "text": [
            "Deleting clip_embeddings_test.npz from GDrive\n",
            "Data saved to clip_embeddings_test.npz\n",
            "Uploaded clip_embeddings_test.npz to https://drive.google.com/drive/u/1/folders/1rACsi_OuN_WITrsuZt7pGZYUrUA2u6xT\n",
            "28800/30000 images done\n",
            "Downloading clip_embeddings_test.npz from GDrive\n"
          ],
          "name": "stdout"
        },
        {
          "output_type": "stream",
          "text": [
            "\r                                                                               \r\r [elapsed time: 0:00:00] |                                  | (ETA:  --:--:--) "
          ],
          "name": "stderr"
        },
        {
          "output_type": "stream",
          "text": [
            "28800/30000 images done already\n",
            "Running for image indices 28800-28900.\n",
            "Embedding images...\n"
          ],
          "name": "stdout"
        },
        {
          "output_type": "stream",
          "text": [
            " [elapsed time: 0:00:00] |**********************************| (ETA:  00:00:00) "
          ],
          "name": "stderr"
        },
        {
          "output_type": "stream",
          "text": [
            "Deleting clip_embeddings_test.npz from GDrive\n",
            "Data saved to clip_embeddings_test.npz\n",
            "Uploaded clip_embeddings_test.npz to https://drive.google.com/drive/u/1/folders/1rACsi_OuN_WITrsuZt7pGZYUrUA2u6xT\n",
            "28900/30000 images done\n",
            "Downloading clip_embeddings_test.npz from GDrive\n",
            "28900/30000 images done already\n",
            "Running for image indices 28900-29000.\n"
          ],
          "name": "stdout"
        },
        {
          "output_type": "stream",
          "text": [
            " [elapsed time: 0:00:00] |**********************************| (ETA:  00:00:00) "
          ],
          "name": "stderr"
        },
        {
          "output_type": "stream",
          "text": [
            "Embedding images...\n",
            "Deleting clip_embeddings_test.npz from GDrive\n",
            "Data saved to clip_embeddings_test.npz\n",
            "Uploaded clip_embeddings_test.npz to https://drive.google.com/drive/u/1/folders/1rACsi_OuN_WITrsuZt7pGZYUrUA2u6xT\n",
            "29000/30000 images done\n",
            "Downloading clip_embeddings_test.npz from GDrive\n"
          ],
          "name": "stdout"
        },
        {
          "output_type": "stream",
          "text": [
            "\r                                                                               \r\r [elapsed time: 0:00:00] |                                  | (ETA:  --:--:--) "
          ],
          "name": "stderr"
        },
        {
          "output_type": "stream",
          "text": [
            "29000/30000 images done already\n",
            "Running for image indices 29000-29100.\n",
            "Embedding images...\n"
          ],
          "name": "stdout"
        },
        {
          "output_type": "stream",
          "text": [
            " [elapsed time: 0:00:00] |**********************************| (ETA:  00:00:00) "
          ],
          "name": "stderr"
        },
        {
          "output_type": "stream",
          "text": [
            "Deleting clip_embeddings_test.npz from GDrive\n",
            "Data saved to clip_embeddings_test.npz\n",
            "Uploaded clip_embeddings_test.npz to https://drive.google.com/drive/u/1/folders/1rACsi_OuN_WITrsuZt7pGZYUrUA2u6xT\n",
            "29100/30000 images done\n",
            "Downloading clip_embeddings_test.npz from GDrive\n"
          ],
          "name": "stdout"
        },
        {
          "output_type": "stream",
          "text": [
            "\r                                                                               \r\r [elapsed time: 0:00:00] |                                  | (ETA:  --:--:--) "
          ],
          "name": "stderr"
        },
        {
          "output_type": "stream",
          "text": [
            "29100/30000 images done already\n",
            "Running for image indices 29100-29200.\n",
            "Embedding images...\n"
          ],
          "name": "stdout"
        },
        {
          "output_type": "stream",
          "text": [
            " [elapsed time: 0:00:00] |**********************************| (ETA:  00:00:00) "
          ],
          "name": "stderr"
        },
        {
          "output_type": "stream",
          "text": [
            "Deleting clip_embeddings_test.npz from GDrive\n",
            "Data saved to clip_embeddings_test.npz\n",
            "Uploaded clip_embeddings_test.npz to https://drive.google.com/drive/u/1/folders/1rACsi_OuN_WITrsuZt7pGZYUrUA2u6xT\n",
            "29200/30000 images done\n",
            "Downloading clip_embeddings_test.npz from GDrive\n",
            "29200/30000 images done already\n",
            "Running for image indices 29200-29300.\n"
          ],
          "name": "stdout"
        },
        {
          "output_type": "stream",
          "text": [
            " [elapsed time: 0:00:00] |**********************************| (ETA:  00:00:00) "
          ],
          "name": "stderr"
        },
        {
          "output_type": "stream",
          "text": [
            "Embedding images...\n",
            "Deleting clip_embeddings_test.npz from GDrive\n",
            "Data saved to clip_embeddings_test.npz\n",
            "Uploaded clip_embeddings_test.npz to https://drive.google.com/drive/u/1/folders/1rACsi_OuN_WITrsuZt7pGZYUrUA2u6xT\n",
            "29300/30000 images done\n",
            "Downloading clip_embeddings_test.npz from GDrive\n"
          ],
          "name": "stdout"
        },
        {
          "output_type": "stream",
          "text": [
            "\r                                                                               \r\r [elapsed time: 0:00:00] |                                  | (ETA:  --:--:--) "
          ],
          "name": "stderr"
        },
        {
          "output_type": "stream",
          "text": [
            "29300/30000 images done already\n",
            "Running for image indices 29300-29400.\n",
            "Embedding images...\n"
          ],
          "name": "stdout"
        },
        {
          "output_type": "stream",
          "text": [
            " [elapsed time: 0:00:00] |**********************************| (ETA:  00:00:00) "
          ],
          "name": "stderr"
        },
        {
          "output_type": "stream",
          "text": [
            "Deleting clip_embeddings_test.npz from GDrive\n",
            "Data saved to clip_embeddings_test.npz\n",
            "Uploaded clip_embeddings_test.npz to https://drive.google.com/drive/u/1/folders/1rACsi_OuN_WITrsuZt7pGZYUrUA2u6xT\n",
            "29400/30000 images done\n",
            "Downloading clip_embeddings_test.npz from GDrive\n"
          ],
          "name": "stdout"
        },
        {
          "output_type": "stream",
          "text": [
            "\r                                                                               \r\r [elapsed time: 0:00:00] |                                  | (ETA:  --:--:--) "
          ],
          "name": "stderr"
        },
        {
          "output_type": "stream",
          "text": [
            "29400/30000 images done already\n",
            "Running for image indices 29400-29500.\n",
            "Embedding images...\n"
          ],
          "name": "stdout"
        },
        {
          "output_type": "stream",
          "text": [
            " [elapsed time: 0:00:00] |**********************************| (ETA:  00:00:00) "
          ],
          "name": "stderr"
        },
        {
          "output_type": "stream",
          "text": [
            "Deleting clip_embeddings_test.npz from GDrive\n",
            "Data saved to clip_embeddings_test.npz\n",
            "Uploaded clip_embeddings_test.npz to https://drive.google.com/drive/u/1/folders/1rACsi_OuN_WITrsuZt7pGZYUrUA2u6xT\n",
            "29500/30000 images done\n",
            "Downloading clip_embeddings_test.npz from GDrive\n"
          ],
          "name": "stdout"
        },
        {
          "output_type": "stream",
          "text": [
            "\r                                                                               \r\r [elapsed time: 0:00:00] |                                  | (ETA:  --:--:--) "
          ],
          "name": "stderr"
        },
        {
          "output_type": "stream",
          "text": [
            "29500/30000 images done already\n",
            "Running for image indices 29500-29600.\n",
            "Embedding images...\n"
          ],
          "name": "stdout"
        },
        {
          "output_type": "stream",
          "text": [
            " [elapsed time: 0:00:00] |**********************************| (ETA:  00:00:00) "
          ],
          "name": "stderr"
        },
        {
          "output_type": "stream",
          "text": [
            "Deleting clip_embeddings_test.npz from GDrive\n",
            "Data saved to clip_embeddings_test.npz\n",
            "Uploaded clip_embeddings_test.npz to https://drive.google.com/drive/u/1/folders/1rACsi_OuN_WITrsuZt7pGZYUrUA2u6xT\n",
            "29600/30000 images done\n",
            "Downloading clip_embeddings_test.npz from GDrive\n"
          ],
          "name": "stdout"
        },
        {
          "output_type": "stream",
          "text": [
            "\r                                                                               \r\r [elapsed time: 0:00:00] |                                  | (ETA:  --:--:--) "
          ],
          "name": "stderr"
        },
        {
          "output_type": "stream",
          "text": [
            "29600/30000 images done already\n",
            "Running for image indices 29600-29700.\n",
            "Embedding images...\n"
          ],
          "name": "stdout"
        },
        {
          "output_type": "stream",
          "text": [
            " [elapsed time: 0:00:00] |**********************************| (ETA:  00:00:00) "
          ],
          "name": "stderr"
        },
        {
          "output_type": "stream",
          "text": [
            "Deleting clip_embeddings_test.npz from GDrive\n",
            "Data saved to clip_embeddings_test.npz\n",
            "Uploaded clip_embeddings_test.npz to https://drive.google.com/drive/u/1/folders/1rACsi_OuN_WITrsuZt7pGZYUrUA2u6xT\n",
            "29700/30000 images done\n",
            "Downloading clip_embeddings_test.npz from GDrive\n"
          ],
          "name": "stdout"
        },
        {
          "output_type": "stream",
          "text": [
            "\r                                                                               \r\r [elapsed time: 0:00:00] |                                  | (ETA:  --:--:--) "
          ],
          "name": "stderr"
        },
        {
          "output_type": "stream",
          "text": [
            "29700/30000 images done already\n",
            "Running for image indices 29700-29800.\n",
            "Embedding images...\n"
          ],
          "name": "stdout"
        },
        {
          "output_type": "stream",
          "text": [
            " [elapsed time: 0:00:00] |**********************************| (ETA:  00:00:00) "
          ],
          "name": "stderr"
        },
        {
          "output_type": "stream",
          "text": [
            "Deleting clip_embeddings_test.npz from GDrive\n",
            "Data saved to clip_embeddings_test.npz\n",
            "Uploaded clip_embeddings_test.npz to https://drive.google.com/drive/u/1/folders/1rACsi_OuN_WITrsuZt7pGZYUrUA2u6xT\n",
            "29800/30000 images done\n",
            "Downloading clip_embeddings_test.npz from GDrive\n"
          ],
          "name": "stdout"
        },
        {
          "output_type": "stream",
          "text": [
            "\r                                                                               \r\r [elapsed time: 0:00:00] |                                  | (ETA:  --:--:--) "
          ],
          "name": "stderr"
        },
        {
          "output_type": "stream",
          "text": [
            "29800/30000 images done already\n",
            "Running for image indices 29800-29900.\n",
            "Embedding images...\n"
          ],
          "name": "stdout"
        },
        {
          "output_type": "stream",
          "text": [
            " [elapsed time: 0:00:00] |**********************************| (ETA:  00:00:00) "
          ],
          "name": "stderr"
        },
        {
          "output_type": "stream",
          "text": [
            "Deleting clip_embeddings_test.npz from GDrive\n",
            "Data saved to clip_embeddings_test.npz\n",
            "Uploaded clip_embeddings_test.npz to https://drive.google.com/drive/u/1/folders/1rACsi_OuN_WITrsuZt7pGZYUrUA2u6xT\n",
            "29900/30000 images done\n",
            "Downloading clip_embeddings_test.npz from GDrive\n"
          ],
          "name": "stdout"
        },
        {
          "output_type": "stream",
          "text": [
            "\r                                                                               \r\r [elapsed time: 0:00:00] |                                  | (ETA:  --:--:--) "
          ],
          "name": "stderr"
        },
        {
          "output_type": "stream",
          "text": [
            "29900/30000 images done already\n",
            "Running for image indices 29900-30000.\n",
            "Embedding images...\n"
          ],
          "name": "stdout"
        },
        {
          "output_type": "stream",
          "text": [
            " [elapsed time: 0:00:00] |**********************************| (ETA:  00:00:00) "
          ],
          "name": "stderr"
        },
        {
          "output_type": "stream",
          "text": [
            "Deleting clip_embeddings_test.npz from GDrive\n",
            "Data saved to clip_embeddings_test.npz\n",
            "Uploaded clip_embeddings_test.npz to https://drive.google.com/drive/u/1/folders/1rACsi_OuN_WITrsuZt7pGZYUrUA2u6xT\n",
            "30000/30000 images done\n"
          ],
          "name": "stdout"
        }
      ]
    }
  ]
}