{
  "nbformat": 4,
  "nbformat_minor": 0,
  "metadata": {
    "accelerator": "GPU",
    "colab": {
      "name": "new-repo-CLIP_MiniImagenet_ZS_eval.ipynb",
      "provenance": [],
      "collapsed_sections": [
        "RGlVnbugxFK2",
        "gmgIrfT8hDNE",
        "3rKe3HqM523g",
        "zU_gxQ0KbwMh",
        "UxTa8MVsvQCN",
        "Kk4B8eq2hiBb",
        "iLbRqaYxzbr7",
        "g8CNr6I4rU5d",
        "g73bz0lqrU5e",
        "lLW-8vrbrU5f",
        "vrit1GAzrU5u",
        "B5G7GsGDrU5u",
        "YnvVBO2brU5u",
        "RlIMyHeVfFEE",
        "7HPn06QE39N8",
        "M9dYlVFDF_vs",
        "sBhFDrzlfTHf",
        "6u112WKcfTHg"
      ],
      "toc_visible": true
    },
    "kernelspec": {
      "display_name": "Python 3",
      "name": "python3"
    }
  },
  "cells": [
    {
      "cell_type": "markdown",
      "metadata": {
        "id": "2wCVCAfpyE0A"
      },
      "source": [
        "# Mount Drive"
      ]
    },
    {
      "cell_type": "code",
      "metadata": {
        "colab": {
          "base_uri": "https://localhost:8080/"
        },
        "id": "4-7JU3Q7q_XT",
        "outputId": "73fb4aa1-1566-4310-b654-1a25398bc1a1"
      },
      "source": [
        "from google.colab import drive\n",
        "drive.mount('/content/drive')"
      ],
      "execution_count": null,
      "outputs": [
        {
          "output_type": "stream",
          "text": [
            "Mounted at /content/drive\n"
          ],
          "name": "stdout"
        }
      ]
    },
    {
      "cell_type": "code",
      "metadata": {
        "colab": {
          "base_uri": "https://localhost:8080/"
        },
        "id": "vXAPOzOK4mTl",
        "outputId": "f2077a3c-5779-4d69-8e7b-d83d88e0ee47"
      },
      "source": [
        "!pip install -U -q PyDrive\n",
        "!pip install httplib2==0.15.0\n",
        "import os\n",
        "from pydrive.auth import GoogleAuth\n",
        "from pydrive.drive import GoogleDrive\n",
        "from pydrive.files import GoogleDriveFileList\n",
        "from google.colab import auth\n",
        "from oauth2client.client import GoogleCredentials\n",
        "\n",
        "from getpass import getpass\n",
        "import urllib\n",
        "\n",
        "# 1. Authenticate and create the PyDrive client.\n",
        "auth.authenticate_user()\n",
        "gauth = GoogleAuth()\n",
        "gauth.credentials = GoogleCredentials.get_application_default()\n",
        "drive = GoogleDrive(gauth)\n",
        "\n",
        "# Cloning CLIPPER to access modules.\n",
        "if 'CLIPPER' not in os.listdir():\n",
        "    cmd_string = 'git clone https://github.com/PAL-ML/CLIPPER.git'\n",
        "    os.system(cmd_string)"
      ],
      "execution_count": null,
      "outputs": [
        {
          "output_type": "stream",
          "text": [
            "Collecting httplib2==0.15.0\n",
            "\u001b[?25l  Downloading https://files.pythonhosted.org/packages/be/83/5e006e25403871ffbbf587c7aa4650158c947d46e89f2d50dcaf018464de/httplib2-0.15.0-py3-none-any.whl (94kB)\n",
            "\r\u001b[K     |███▌                            | 10kB 18.4MB/s eta 0:00:01\r\u001b[K     |███████                         | 20kB 22.7MB/s eta 0:00:01\r\u001b[K     |██████████▍                     | 30kB 26.1MB/s eta 0:00:01\r\u001b[K     |█████████████▉                  | 40kB 21.3MB/s eta 0:00:01\r\u001b[K     |█████████████████▎              | 51kB 12.4MB/s eta 0:00:01\r\u001b[K     |████████████████████▊           | 61kB 10.4MB/s eta 0:00:01\r\u001b[K     |████████████████████████▏       | 71kB 11.3MB/s eta 0:00:01\r\u001b[K     |███████████████████████████▋    | 81kB 12.2MB/s eta 0:00:01\r\u001b[K     |███████████████████████████████ | 92kB 13.2MB/s eta 0:00:01\r\u001b[K     |████████████████████████████████| 102kB 7.2MB/s \n",
            "\u001b[?25hInstalling collected packages: httplib2\n",
            "  Found existing installation: httplib2 0.17.4\n",
            "    Uninstalling httplib2-0.17.4:\n",
            "      Successfully uninstalled httplib2-0.17.4\n",
            "Successfully installed httplib2-0.15.0\n",
            "Github User name: ashadhaz\n",
            "Password: ··········\n"
          ],
          "name": "stdout"
        }
      ]
    },
    {
      "cell_type": "markdown",
      "metadata": {
        "id": "RGlVnbugxFK2"
      },
      "source": [
        "# Installation"
      ]
    },
    {
      "cell_type": "markdown",
      "metadata": {
        "id": "gmgIrfT8hDNE"
      },
      "source": [
        "## Install multi label metrics dependencies"
      ]
    },
    {
      "cell_type": "code",
      "metadata": {
        "colab": {
          "base_uri": "https://localhost:8080/"
        },
        "id": "b6xXPAFbe6Gp",
        "outputId": "578de3ae-daaa-4791-971a-7e18f0534a71"
      },
      "source": [
        "! pip install scikit-learn==0.24"
      ],
      "execution_count": null,
      "outputs": [
        {
          "output_type": "stream",
          "text": [
            "Collecting scikit-learn==0.24\n",
            "\u001b[?25l  Downloading https://files.pythonhosted.org/packages/b1/ed/ab51a8da34d2b3f4524b21093081e7f9e2ddf1c9eac9f795dcf68ad0a57d/scikit_learn-0.24.0-cp37-cp37m-manylinux2010_x86_64.whl (22.3MB)\n",
            "\u001b[K     |████████████████████████████████| 22.3MB 6.2MB/s \n",
            "\u001b[?25hRequirement already satisfied: joblib>=0.11 in /usr/local/lib/python3.7/dist-packages (from scikit-learn==0.24) (1.0.1)\n",
            "Requirement already satisfied: numpy>=1.13.3 in /usr/local/lib/python3.7/dist-packages (from scikit-learn==0.24) (1.19.5)\n",
            "Requirement already satisfied: scipy>=0.19.1 in /usr/local/lib/python3.7/dist-packages (from scikit-learn==0.24) (1.4.1)\n",
            "Collecting threadpoolctl>=2.0.0\n",
            "  Downloading https://files.pythonhosted.org/packages/f7/12/ec3f2e203afa394a149911729357aa48affc59c20e2c1c8297a60f33f133/threadpoolctl-2.1.0-py3-none-any.whl\n",
            "Installing collected packages: threadpoolctl, scikit-learn\n",
            "  Found existing installation: scikit-learn 0.22.2.post1\n",
            "    Uninstalling scikit-learn-0.22.2.post1:\n",
            "      Successfully uninstalled scikit-learn-0.22.2.post1\n",
            "Successfully installed scikit-learn-0.24.0 threadpoolctl-2.1.0\n"
          ],
          "name": "stdout"
        }
      ]
    },
    {
      "cell_type": "markdown",
      "metadata": {
        "id": "3rKe3HqM523g"
      },
      "source": [
        "## Install CLIP dependencies"
      ]
    },
    {
      "cell_type": "code",
      "metadata": {
        "colab": {
          "base_uri": "https://localhost:8080/"
        },
        "id": "poS-WNDixIhY",
        "outputId": "1af8106b-170b-47a4-8a3d-b9b72f3eb4c1"
      },
      "source": [
        "import subprocess\n",
        "\n",
        "CUDA_version = [s for s in subprocess.check_output([\"nvcc\", \"--version\"]).decode(\"UTF-8\").split(\", \") if s.startswith(\"release\")][0].split(\" \")[-1]\n",
        "print(\"CUDA version:\", CUDA_version)\n",
        "\n",
        "if CUDA_version == \"10.0\":\n",
        "    torch_version_suffix = \"+cu100\"\n",
        "elif CUDA_version == \"10.1\":\n",
        "    torch_version_suffix = \"+cu101\"\n",
        "elif CUDA_version == \"10.2\":\n",
        "    torch_version_suffix = \"\"\n",
        "else:\n",
        "    torch_version_suffix = \"+cu110\""
      ],
      "execution_count": null,
      "outputs": [
        {
          "output_type": "stream",
          "text": [
            "CUDA version: 11.0\n"
          ],
          "name": "stdout"
        }
      ]
    },
    {
      "cell_type": "code",
      "metadata": {
        "id": "uA-69W8M59nA",
        "colab": {
          "base_uri": "https://localhost:8080/"
        },
        "outputId": "c4a78060-efb2-43ad-947b-79961ed53b6f"
      },
      "source": [
        "! pip install torch==1.7.1{torch_version_suffix} torchvision==0.8.2{torch_version_suffix} -f https://download.pytorch.org/whl/torch_stable.html ftfy regex"
      ],
      "execution_count": null,
      "outputs": [
        {
          "output_type": "stream",
          "text": [
            "Looking in links: https://download.pytorch.org/whl/torch_stable.html\n",
            "Collecting torch==1.7.1+cu110\n",
            "\u001b[?25l  Downloading https://download.pytorch.org/whl/cu110/torch-1.7.1%2Bcu110-cp37-cp37m-linux_x86_64.whl (1156.8MB)\n",
            "\u001b[K     |███████████████████████         | 834.1MB 1.3MB/s eta 0:04:10tcmalloc: large alloc 1147494400 bytes == 0x557841182000 @  0x7f91e162a615 0x557808685cdc 0x55780876552a 0x557808688afd 0x557808779fed 0x5578086fc988 0x5578086f74ae 0x55780868a3ea 0x5578086fc7f0 0x5578086f74ae 0x55780868a3ea 0x5578086f932a 0x55780877ae36 0x5578086f8853 0x55780877ae36 0x5578086f8853 0x55780877ae36 0x5578086f8853 0x55780877ae36 0x5578087fd3e1 0x55780875d6a9 0x5578086c8cc4 0x557808689559 0x5578086fd4f8 0x55780868a30a 0x5578086f83b5 0x5578086f77ad 0x55780868a3ea 0x5578086f83b5 0x55780868a30a 0x5578086f83b5\n",
            "\u001b[K     |█████████████████████████████▏  | 1055.7MB 1.2MB/s eta 0:01:26tcmalloc: large alloc 1434370048 bytes == 0x5578857d8000 @  0x7f91e162a615 0x557808685cdc 0x55780876552a 0x557808688afd 0x557808779fed 0x5578086fc988 0x5578086f74ae 0x55780868a3ea 0x5578086fc7f0 0x5578086f74ae 0x55780868a3ea 0x5578086f932a 0x55780877ae36 0x5578086f8853 0x55780877ae36 0x5578086f8853 0x55780877ae36 0x5578086f8853 0x55780877ae36 0x5578087fd3e1 0x55780875d6a9 0x5578086c8cc4 0x557808689559 0x5578086fd4f8 0x55780868a30a 0x5578086f83b5 0x5578086f77ad 0x55780868a3ea 0x5578086f83b5 0x55780868a30a 0x5578086f83b5\n",
            "\u001b[K     |████████████████████████████████| 1156.7MB 1.4MB/s eta 0:00:01tcmalloc: large alloc 1445945344 bytes == 0x5578dafc4000 @  0x7f91e162a615 0x557808685cdc 0x55780876552a 0x557808688afd 0x557808779fed 0x5578086fc988 0x5578086f74ae 0x55780868a3ea 0x5578086f860e 0x5578086f74ae 0x55780868a3ea 0x5578086f860e 0x5578086f74ae 0x55780868a3ea 0x5578086f860e 0x5578086f74ae 0x55780868a3ea 0x5578086f860e 0x5578086f74ae 0x55780868a3ea 0x5578086f860e 0x55780868a30a 0x5578086f860e 0x5578086f74ae 0x55780868a3ea 0x5578086f932a 0x5578086f74ae 0x55780868a3ea 0x5578086f932a 0x5578086f74ae 0x55780868aa81\n",
            "\u001b[K     |████████████████████████████████| 1156.8MB 16kB/s \n",
            "\u001b[?25hCollecting torchvision==0.8.2+cu110\n",
            "\u001b[?25l  Downloading https://download.pytorch.org/whl/cu110/torchvision-0.8.2%2Bcu110-cp37-cp37m-linux_x86_64.whl (12.9MB)\n",
            "\u001b[K     |████████████████████████████████| 12.9MB 226kB/s \n",
            "\u001b[?25hCollecting ftfy\n",
            "\u001b[?25l  Downloading https://files.pythonhosted.org/packages/ce/b5/5da463f9c7823e0e575e9908d004e2af4b36efa8d02d3d6dad57094fcb11/ftfy-6.0.1.tar.gz (63kB)\n",
            "\u001b[K     |████████████████████████████████| 71kB 5.4MB/s \n",
            "\u001b[?25hRequirement already satisfied: regex in /usr/local/lib/python3.7/dist-packages (2019.12.20)\n",
            "Requirement already satisfied: typing-extensions in /usr/local/lib/python3.7/dist-packages (from torch==1.7.1+cu110) (3.7.4.3)\n",
            "Requirement already satisfied: numpy in /usr/local/lib/python3.7/dist-packages (from torch==1.7.1+cu110) (1.19.5)\n",
            "Requirement already satisfied: pillow>=4.1.1 in /usr/local/lib/python3.7/dist-packages (from torchvision==0.8.2+cu110) (7.1.2)\n",
            "Requirement already satisfied: wcwidth in /usr/local/lib/python3.7/dist-packages (from ftfy) (0.2.5)\n",
            "Building wheels for collected packages: ftfy\n",
            "  Building wheel for ftfy (setup.py) ... \u001b[?25l\u001b[?25hdone\n",
            "  Created wheel for ftfy: filename=ftfy-6.0.1-cp37-none-any.whl size=41573 sha256=509b122da500a19b7ad622026bbba5e51c6e28bdca2918bda31981489a4b8dbf\n",
            "  Stored in directory: /root/.cache/pip/wheels/ae/73/c7/9056e14b04919e5c262fe80b54133b1a88d73683d05d7ac65c\n",
            "Successfully built ftfy\n",
            "\u001b[31mERROR: torchtext 0.9.1 has requirement torch==1.8.1, but you'll have torch 1.7.1+cu110 which is incompatible.\u001b[0m\n",
            "Installing collected packages: torch, torchvision, ftfy\n",
            "  Found existing installation: torch 1.8.1+cu101\n",
            "    Uninstalling torch-1.8.1+cu101:\n",
            "      Successfully uninstalled torch-1.8.1+cu101\n",
            "  Found existing installation: torchvision 0.9.1+cu101\n",
            "    Uninstalling torchvision-0.9.1+cu101:\n",
            "      Successfully uninstalled torchvision-0.9.1+cu101\n",
            "Successfully installed ftfy-6.0.1 torch-1.7.1+cu110 torchvision-0.8.2+cu110\n"
          ],
          "name": "stdout"
        }
      ]
    },
    {
      "cell_type": "code",
      "metadata": {
        "id": "sYwBZS1N6A3d",
        "colab": {
          "base_uri": "https://localhost:8080/"
        },
        "outputId": "2592a44b-90ef-4970-aaf6-9b6cb461229c"
      },
      "source": [
        "! pip install ftfy regex\n",
        "! wget https://openaipublic.azureedge.net/clip/bpe_simple_vocab_16e6.txt.gz -O bpe_simple_vocab_16e6.txt.gz"
      ],
      "execution_count": null,
      "outputs": [
        {
          "output_type": "stream",
          "text": [
            "Requirement already satisfied: ftfy in /usr/local/lib/python3.7/dist-packages (6.0.1)\n",
            "Requirement already satisfied: regex in /usr/local/lib/python3.7/dist-packages (2019.12.20)\n",
            "Requirement already satisfied: wcwidth in /usr/local/lib/python3.7/dist-packages (from ftfy) (0.2.5)\n",
            "--2021-05-19 03:09:00--  https://openaipublic.azureedge.net/clip/bpe_simple_vocab_16e6.txt.gz\n",
            "Resolving openaipublic.azureedge.net (openaipublic.azureedge.net)... 13.107.246.69, 13.107.213.69, 2620:1ec:bdf::69, ...\n",
            "Connecting to openaipublic.azureedge.net (openaipublic.azureedge.net)|13.107.246.69|:443... connected.\n",
            "HTTP request sent, awaiting response... 200 OK\n",
            "Length: 1356917 (1.3M) [application/octet-stream]\n",
            "Saving to: ‘bpe_simple_vocab_16e6.txt.gz’\n",
            "\n",
            "bpe_simple_vocab_16 100%[===================>]   1.29M  --.-KB/s    in 0.04s   \n",
            "\n",
            "2021-05-19 03:09:00 (31.6 MB/s) - ‘bpe_simple_vocab_16e6.txt.gz’ saved [1356917/1356917]\n",
            "\n"
          ],
          "name": "stdout"
        }
      ]
    },
    {
      "cell_type": "code",
      "metadata": {
        "id": "9oIcNBYB8lz3",
        "colab": {
          "base_uri": "https://localhost:8080/"
        },
        "outputId": "9b422c8c-fe8c-43f9-f10a-68e500dead54"
      },
      "source": [
        "!pip install git+https://github.com/Sri-vatsa/CLIP # using this fork because of visualization capabilities"
      ],
      "execution_count": null,
      "outputs": [
        {
          "output_type": "stream",
          "text": [
            "Collecting git+https://github.com/Sri-vatsa/CLIP\n",
            "  Cloning https://github.com/Sri-vatsa/CLIP to /tmp/pip-req-build-0_7bzyo8\n",
            "  Running command git clone -q https://github.com/Sri-vatsa/CLIP /tmp/pip-req-build-0_7bzyo8\n",
            "Requirement already satisfied: ftfy in /usr/local/lib/python3.7/dist-packages (from clip==1.0) (6.0.1)\n",
            "Requirement already satisfied: regex in /usr/local/lib/python3.7/dist-packages (from clip==1.0) (2019.12.20)\n",
            "Requirement already satisfied: tqdm in /usr/local/lib/python3.7/dist-packages (from clip==1.0) (4.41.1)\n",
            "Requirement already satisfied: torch~=1.7.1 in /usr/local/lib/python3.7/dist-packages (from clip==1.0) (1.7.1+cu110)\n",
            "Requirement already satisfied: torchvision~=0.8.2 in /usr/local/lib/python3.7/dist-packages (from clip==1.0) (0.8.2+cu110)\n",
            "Requirement already satisfied: wcwidth in /usr/local/lib/python3.7/dist-packages (from ftfy->clip==1.0) (0.2.5)\n",
            "Requirement already satisfied: numpy in /usr/local/lib/python3.7/dist-packages (from torch~=1.7.1->clip==1.0) (1.19.5)\n",
            "Requirement already satisfied: typing-extensions in /usr/local/lib/python3.7/dist-packages (from torch~=1.7.1->clip==1.0) (3.7.4.3)\n",
            "Requirement already satisfied: pillow>=4.1.1 in /usr/local/lib/python3.7/dist-packages (from torchvision~=0.8.2->clip==1.0) (7.1.2)\n",
            "Building wheels for collected packages: clip\n",
            "  Building wheel for clip (setup.py) ... \u001b[?25l\u001b[?25hdone\n",
            "  Created wheel for clip: filename=clip-1.0-cp37-none-any.whl size=1368623 sha256=fccf419df259503dfaa1ec179e324b273a193c2ab48c703a14e8795f7b356415\n",
            "  Stored in directory: /tmp/pip-ephem-wheel-cache-ip3eiaqj/wheels/cc/55/69/0d411dabbd5009fd069d47b47cf7839c54e595dc61725b307b\n",
            "Successfully built clip\n",
            "Installing collected packages: clip\n",
            "Successfully installed clip-1.0\n"
          ],
          "name": "stdout"
        }
      ]
    },
    {
      "cell_type": "markdown",
      "metadata": {
        "id": "OLU-gp7n8__E"
      },
      "source": [
        "## Install clustering dependencies"
      ]
    },
    {
      "cell_type": "code",
      "metadata": {
        "id": "6TLg9ozo9Hvc"
      },
      "source": [
        "!pip -q install umap-learn>=0.3.7"
      ],
      "execution_count": null,
      "outputs": []
    },
    {
      "cell_type": "markdown",
      "metadata": {
        "id": "9z1WQnXdLHy2"
      },
      "source": [
        "## Install dataset manager dependencies"
      ]
    },
    {
      "cell_type": "code",
      "metadata": {
        "id": "J1vvMx7_LLSp",
        "colab": {
          "base_uri": "https://localhost:8080/"
        },
        "outputId": "5afd71d1-8692-4bee-f69b-a58c13f145bf"
      },
      "source": [
        "!pip install wget"
      ],
      "execution_count": null,
      "outputs": [
        {
          "output_type": "stream",
          "text": [
            "Collecting wget\n",
            "  Downloading https://files.pythonhosted.org/packages/47/6a/62e288da7bcda82b935ff0c6cfe542970f04e29c756b0e147251b2fb251f/wget-3.2.zip\n",
            "Building wheels for collected packages: wget\n",
            "  Building wheel for wget (setup.py) ... \u001b[?25l\u001b[?25hdone\n",
            "  Created wheel for wget: filename=wget-3.2-cp37-none-any.whl size=9681 sha256=d90fc15aee31696b5711efbf9aa51917d54e5405931540a60d804c56912378a1\n",
            "  Stored in directory: /root/.cache/pip/wheels/40/15/30/7d8f7cea2902b4db79e3fea550d7d7b85ecb27ef992b618f3f\n",
            "Successfully built wget\n",
            "Installing collected packages: wget\n",
            "Successfully installed wget-3.2\n"
          ],
          "name": "stdout"
        }
      ]
    },
    {
      "cell_type": "markdown",
      "metadata": {
        "id": "NzsubsEm72rr"
      },
      "source": [
        "# Imports"
      ]
    },
    {
      "cell_type": "code",
      "metadata": {
        "id": "KZI62a6G74kw"
      },
      "source": [
        "# ML Libraries\n",
        "import tensorflow as tf\n",
        "import tensorflow_hub as hub\n",
        "import torch\n",
        "import torch.nn as nn\n",
        "import torchvision.models as models\n",
        "import torchvision.transforms as transforms\n",
        "import keras\n",
        "\n",
        "# Data processing\n",
        "import PIL\n",
        "import base64\n",
        "import imageio\n",
        "import pandas as pd\n",
        "import numpy as np\n",
        "import json\n",
        "\n",
        "from PIL import Image\n",
        "import cv2\n",
        "import imgaug.augmenters as iaa\n",
        "\n",
        "# Plotting\n",
        "import seaborn as sns\n",
        "import matplotlib.pyplot as plt\n",
        "\n",
        "from IPython.core.display import display, HTML\n",
        "from matplotlib import cm\n",
        "\n",
        "# Models\n",
        "import clip\n",
        "\n",
        "# Datasets\n",
        "import tensorflow_datasets as tfds\n",
        "\n",
        "# Misc\n",
        "import progressbar\n",
        "import logging\n",
        "from abc import ABC, abstractmethod\n",
        "import time\n",
        "import urllib.request\n",
        "import os\n",
        "import itertools\n",
        "from tqdm import tqdm\n",
        "\n",
        "# Modules\n",
        "from CLIPPER.code.ExperimentModules import embedding_models\n",
        "from CLIPPER.code.ExperimentModules import simclr_data_augmentations\n",
        "from CLIPPER.code.ExperimentModules.dataset_manager import DatasetManager\n",
        "from CLIPPER.code.ExperimentModules.clip_few_shot import CLIPFewShotClassifier\n",
        "from CLIPPER.code.ExperimentModules.utils import (save_npy, load_npy, \n",
        "                                                       get_folder_id, \n",
        "                                                       create_expt_dir, \n",
        "                                                       save_to_drive, \n",
        "                                                       load_all_from_drive_folder, \n",
        "                                                       download_file_by_name, \n",
        "                                                       delete_file_by_name)\n",
        "\n",
        "logging.getLogger('googleapicliet.discovery_cache').setLevel(logging.ERROR)"
      ],
      "execution_count": null,
      "outputs": []
    },
    {
      "cell_type": "markdown",
      "metadata": {
        "id": "zU_gxQ0KbwMh"
      },
      "source": [
        "# Initialization & Constants\n",
        "\n",
        "**Edited**"
      ]
    },
    {
      "cell_type": "code",
      "metadata": {
        "id": "bih5tBPdbx3u",
        "colab": {
          "base_uri": "https://localhost:8080/"
        },
        "outputId": "e2fa6258-3186-41f8-c54b-147d3c0d48ec"
      },
      "source": [
        "dataset_name = 'MiniImagenet'\n",
        "folder_name = \"MiniImagenet-Embeddings-28-02-21\"\n",
        "\n",
        "# Change parentid to match that of experiments root folder in gdrive\n",
        "parentid = '1bK72W-Um20EQDEyChNhNJthUNbmoSEjD'\n",
        "\n",
        "# Filepaths\n",
        "train_labels_filename = \"train_labels.npz\"\n",
        "test_labels_filename = \"test_labels.npz\"\n",
        "\n",
        "train_embeddings_filename_suffix = \"_embeddings_train.npz\"\n",
        "test_embeddings_filename_suffix = \"_embeddings_test.npz\"\n",
        "\n",
        "\n",
        "# Initialize sepcific experiment folder in drive\n",
        "folderid = create_expt_dir(drive, parentid, folder_name)"
      ],
      "execution_count": null,
      "outputs": [
        {
          "output_type": "stream",
          "text": [
            "title: MiniImagenet-Embeddings-28-02-21, id: 1oXR6SbK6rQeP1steSaQnCwh4cLgKjccs\n",
            "Experiment folder already exists. WARNING: Following with this run might overwrite existing results stored.\n"
          ],
          "name": "stdout"
        }
      ]
    },
    {
      "cell_type": "markdown",
      "metadata": {
        "id": "UxTa8MVsvQCN"
      },
      "source": [
        "# Load data"
      ]
    },
    {
      "cell_type": "code",
      "metadata": {
        "id": "n6S124Jfwuu5",
        "colab": {
          "base_uri": "https://localhost:8080/"
        },
        "outputId": "4c4a6af6-675d-4383-c9b6-d17f9e053ad8"
      },
      "source": [
        "def get_ndarray_from_drive(drive, folderid, filename):\n",
        "    download_file_by_name(drive, folderid, filename)\n",
        "    return np.load(filename)['data']\n",
        "\n",
        "# train_labels = get_ndarray_from_drive(drive, folderid, train_labels_filename)\n",
        "# val_labels = get_ndarray_from_drive(drive, folderid, val_labels_filename)\n",
        "test_labels = get_ndarray_from_drive(drive, folderid, test_labels_filename)"
      ],
      "execution_count": null,
      "outputs": [
        {
          "output_type": "stream",
          "text": [
            "Downloading test_labels.npz from GDrive\n",
            "Downloading test_labels.npz from GDrive\n",
            "Downloading test_labels.npz from GDrive\n",
            "Downloading test_labels.npz from GDrive\n",
            "Downloading test_labels.npz from GDrive\n",
            "Downloading test_labels.npz from GDrive\n"
          ],
          "name": "stdout"
        }
      ]
    },
    {
      "cell_type": "code",
      "metadata": {
        "id": "4p2JpaGHmqbl",
        "colab": {
          "base_uri": "https://localhost:8080/"
        },
        "outputId": "f31eb85e-0580-411a-b2bd-b888d679e0d3"
      },
      "source": [
        "dm = DatasetManager()\n",
        "\n",
        "test_data_generator = dm.load_dataset('mini_imagenet', split='test')\n",
        "\n",
        "class_names = dm.get_class_names()\n",
        "print(class_names)"
      ],
      "execution_count": null,
      "outputs": [
        {
          "output_type": "stream",
          "text": [
            "Downloading...\n",
            "From: https://drive.google.com/uc?id=1SRCYvMStAFfU68e2EatbLgEdKZ46rpeK\n",
            "To: /content/mini-imagenet.zip\n",
            "196MB [00:01, 124MB/s] \n"
          ],
          "name": "stderr"
        },
        {
          "output_type": "stream",
          "text": [
            "Unzipping test images...\n",
            "Unzipping train images...\n",
            "Unzipping val images...\n",
            "Completed unzipping all files...\n",
            "Found 12000 files belonging to 20 classes.\n",
            "['n01930112', 'n01981276', 'n02099601', 'n02110063', 'n02110341', 'n02116738', 'n02129165', 'n02219486', 'n02443484', 'n02871525', 'n03127925', 'n03146219', 'n03272010', 'n03544143', 'n03775546', 'n04146614', 'n04149813', 'n04418357', 'n04522168', 'n07613480']\n"
          ],
          "name": "stdout"
        }
      ]
    },
    {
      "cell_type": "markdown",
      "metadata": {
        "id": "Kk4B8eq2hiBb"
      },
      "source": [
        "# Label dicts"
      ]
    },
    {
      "cell_type": "code",
      "metadata": {
        "id": "9B5fqyKXX3KR",
        "colab": {
          "base_uri": "https://localhost:8080/"
        },
        "outputId": "89faf95f-fd6a-4fe3-8d7c-cbd22b11ec4f"
      },
      "source": [
        "!wget https://s3.amazonaws.com/deep-learning-models/image-models/imagenet_class_index.json"
      ],
      "execution_count": null,
      "outputs": [
        {
          "output_type": "stream",
          "text": [
            "--2021-05-19 03:09:44--  https://s3.amazonaws.com/deep-learning-models/image-models/imagenet_class_index.json\n",
            "Resolving s3.amazonaws.com (s3.amazonaws.com)... 52.216.131.29\n",
            "Connecting to s3.amazonaws.com (s3.amazonaws.com)|52.216.131.29|:443... connected.\n",
            "HTTP request sent, awaiting response... 200 OK\n",
            "Length: 35363 (35K) [application/octet-stream]\n",
            "Saving to: ‘imagenet_class_index.json’\n",
            "\n",
            "imagenet_class_inde 100%[===================>]  34.53K  --.-KB/s    in 0.06s   \n",
            "\n",
            "2021-05-19 03:09:44 (541 KB/s) - ‘imagenet_class_index.json’ saved [35363/35363]\n",
            "\n"
          ],
          "name": "stdout"
        }
      ]
    },
    {
      "cell_type": "markdown",
      "metadata": {
        "id": "7YAvkifyhzKo"
      },
      "source": [
        "### Miniimagenet classes"
      ]
    },
    {
      "cell_type": "code",
      "metadata": {
        "id": "8hsO80N1YKUF"
      },
      "source": [
        "with open(\"imagenet_class_index.json\") as f:\n",
        "  class_idx = json.load(f)\n",
        "  idx2label_dict = {str(k): class_idx[str(k)][1] for k in range(len(class_idx))}\n",
        "  class2id_dict = {class_idx[str(k)][0]: (str(k), class_idx[str(k)][1]) for k in range(len(class_idx))}"
      ],
      "execution_count": null,
      "outputs": []
    },
    {
      "cell_type": "code",
      "metadata": {
        "id": "GJcWZmn-1EME"
      },
      "source": [
        "imagenet_classes = [\"tench\", \"goldfish\", \"great white shark\", \"tiger shark\", \"hammerhead shark\", \"electric ray\", \"stingray\", \"rooster\", \"hen\", \"ostrich\", \"brambling\", \"goldfinch\", \"house finch\", \"junco\", \"indigo bunting\", \"American robin\", \"bulbul\", \"jay\", \"magpie\", \"chickadee\", \"American dipper\", \"kite (bird of prey)\", \"bald eagle\", \"vulture\", \"great grey owl\", \"fire salamander\", \"smooth newt\", \"newt\", \"spotted salamander\", \"axolotl\", \"American bullfrog\", \"tree frog\", \"tailed frog\", \"loggerhead sea turtle\", \"leatherback sea turtle\", \"mud turtle\", \"terrapin\", \"box turtle\", \"banded gecko\", \"green iguana\", \"Carolina anole\", \"desert grassland whiptail lizard\", \"agama\", \"frilled-necked lizard\", \"alligator lizard\", \"Gila monster\", \"European green lizard\", \"chameleon\", \"Komodo dragon\", \"Nile crocodile\", \"American alligator\", \"triceratops\", \"worm snake\", \"ring-necked snake\", \"eastern hog-nosed snake\", \"smooth green snake\", \"kingsnake\", \"garter snake\", \"water snake\", \"vine snake\", \"night snake\", \"boa constrictor\", \"African rock python\", \"Indian cobra\", \"green mamba\", \"sea snake\", \"Saharan horned viper\", \"eastern diamondback rattlesnake\", \"sidewinder rattlesnake\", \"trilobite\", \"harvestman\", \"scorpion\", \"yellow garden spider\", \"barn spider\", \"European garden spider\", \"southern black widow\", \"tarantula\", \"wolf spider\", \"tick\", \"centipede\", \"black grouse\", \"ptarmigan\", \"ruffed grouse\", \"prairie grouse\", \"peafowl\", \"quail\", \"partridge\", \"african grey parrot\", \"macaw\", \"sulphur-crested cockatoo\", \"lorikeet\", \"coucal\", \"bee eater\", \"hornbill\", \"hummingbird\", \"jacamar\", \"toucan\", \"duck\", \"red-breasted merganser\", \"goose\", \"black swan\", \"tusker\", \"echidna\", \"platypus\", \"wallaby\", \"koala\", \"wombat\", \"jellyfish\", \"sea anemone\", \"brain coral\", \"flatworm\", \"nematode\", \"conch\", \"snail\", \"slug\", \"sea slug\", \"chiton\", \"chambered nautilus\", \"Dungeness crab\", \"rock crab\", \"fiddler crab\", \"red king crab\", \"American lobster\", \"spiny lobster\", \"crayfish\", \"hermit crab\", \"isopod\", \"white stork\", \"black stork\", \"spoonbill\", \"flamingo\", \"little blue heron\", \"great egret\", \"bittern bird\", \"crane bird\", \"limpkin\", \"common gallinule\", \"American coot\", \"bustard\", \"ruddy turnstone\", \"dunlin\", \"common redshank\", \"dowitcher\", \"oystercatcher\", \"pelican\", \"king penguin\", \"albatross\", \"grey whale\", \"killer whale\", \"dugong\", \"sea lion\", \"Chihuahua\", \"Japanese Chin\", \"Maltese\", \"Pekingese\", \"Shih Tzu\", \"King Charles Spaniel\", \"Papillon\", \"toy terrier\", \"Rhodesian Ridgeback\", \"Afghan Hound\", \"Basset Hound\", \"Beagle\", \"Bloodhound\", \"Bluetick Coonhound\", \"Black and Tan Coonhound\", \"Treeing Walker Coonhound\", \"English foxhound\", \"Redbone Coonhound\", \"borzoi\", \"Irish Wolfhound\", \"Italian Greyhound\", \"Whippet\", \"Ibizan Hound\", \"Norwegian Elkhound\", \"Otterhound\", \"Saluki\", \"Scottish Deerhound\", \"Weimaraner\", \"Staffordshire Bull Terrier\", \"American Staffordshire Terrier\", \"Bedlington Terrier\", \"Border Terrier\", \"Kerry Blue Terrier\", \"Irish Terrier\", \"Norfolk Terrier\", \"Norwich Terrier\", \"Yorkshire Terrier\", \"Wire Fox Terrier\", \"Lakeland Terrier\", \"Sealyham Terrier\", \"Airedale Terrier\", \"Cairn Terrier\", \"Australian Terrier\", \"Dandie Dinmont Terrier\", \"Boston Terrier\", \"Miniature Schnauzer\", \"Giant Schnauzer\", \"Standard Schnauzer\", \"Scottish Terrier\", \"Tibetan Terrier\", \"Australian Silky Terrier\", \"Soft-coated Wheaten Terrier\", \"West Highland White Terrier\", \"Lhasa Apso\", \"Flat-Coated Retriever\", \"Curly-coated Retriever\", \"Golden Retriever\", \"Labrador Retriever\", \"Chesapeake Bay Retriever\", \"German Shorthaired Pointer\", \"Vizsla\", \"English Setter\", \"Irish Setter\", \"Gordon Setter\", \"Brittany dog\", \"Clumber Spaniel\", \"English Springer Spaniel\", \"Welsh Springer Spaniel\", \"Cocker Spaniel\", \"Sussex Spaniel\", \"Irish Water Spaniel\", \"Kuvasz\", \"Schipperke\", \"Groenendael dog\", \"Malinois\", \"Briard\", \"Australian Kelpie\", \"Komondor\", \"Old English Sheepdog\", \"Shetland Sheepdog\", \"collie\", \"Border Collie\", \"Bouvier des Flandres dog\", \"Rottweiler\", \"German Shepherd Dog\", \"Dobermann\", \"Miniature Pinscher\", \"Greater Swiss Mountain Dog\", \"Bernese Mountain Dog\", \"Appenzeller Sennenhund\", \"Entlebucher Sennenhund\", \"Boxer\", \"Bullmastiff\", \"Tibetan Mastiff\", \"French Bulldog\", \"Great Dane\", \"St. Bernard\", \"husky\", \"Alaskan Malamute\", \"Siberian Husky\", \"Dalmatian\", \"Affenpinscher\", \"Basenji\", \"pug\", \"Leonberger\", \"Newfoundland dog\", \"Great Pyrenees dog\", \"Samoyed\", \"Pomeranian\", \"Chow Chow\", \"Keeshond\", \"brussels griffon\", \"Pembroke Welsh Corgi\", \"Cardigan Welsh Corgi\", \"Toy Poodle\", \"Miniature Poodle\", \"Standard Poodle\", \"Mexican hairless dog (xoloitzcuintli)\", \"grey wolf\", \"Alaskan tundra wolf\", \"red wolf or maned wolf\", \"coyote\", \"dingo\", \"dhole\", \"African wild dog\", \"hyena\", \"red fox\", \"kit fox\", \"Arctic fox\", \"grey fox\", \"tabby cat\", \"tiger cat\", \"Persian cat\", \"Siamese cat\", \"Egyptian Mau\", \"cougar\", \"lynx\", \"leopard\", \"snow leopard\", \"jaguar\", \"lion\", \"tiger\", \"cheetah\", \"brown bear\", \"American black bear\", \"polar bear\", \"sloth bear\", \"mongoose\", \"meerkat\", \"tiger beetle\", \"ladybug\", \"ground beetle\", \"longhorn beetle\", \"leaf beetle\", \"dung beetle\", \"rhinoceros beetle\", \"weevil\", \"fly\", \"bee\", \"ant\", \"grasshopper\", \"cricket insect\", \"stick insect\", \"cockroach\", \"praying mantis\", \"cicada\", \"leafhopper\", \"lacewing\", \"dragonfly\", \"damselfly\", \"red admiral butterfly\", \"ringlet butterfly\", \"monarch butterfly\", \"small white butterfly\", \"sulphur butterfly\", \"gossamer-winged butterfly\", \"starfish\", \"sea urchin\", \"sea cucumber\", \"cottontail rabbit\", \"hare\", \"Angora rabbit\", \"hamster\", \"porcupine\", \"fox squirrel\", \"marmot\", \"beaver\", \"guinea pig\", \"common sorrel horse\", \"zebra\", \"pig\", \"wild boar\", \"warthog\", \"hippopotamus\", \"ox\", \"water buffalo\", \"bison\", \"ram (adult male sheep)\", \"bighorn sheep\", \"Alpine ibex\", \"hartebeest\", \"impala (antelope)\", \"gazelle\", \"arabian camel\", \"llama\", \"weasel\", \"mink\", \"European polecat\", \"black-footed ferret\", \"otter\", \"skunk\", \"badger\", \"armadillo\", \"three-toed sloth\", \"orangutan\", \"gorilla\", \"chimpanzee\", \"gibbon\", \"siamang\", \"guenon\", \"patas monkey\", \"baboon\", \"macaque\", \"langur\", \"black-and-white colobus\", \"proboscis monkey\", \"marmoset\", \"white-headed capuchin\", \"howler monkey\", \"titi monkey\", \"Geoffroy's spider monkey\", \"common squirrel monkey\", \"ring-tailed lemur\", \"indri\", \"Asian elephant\", \"African bush elephant\", \"red panda\", \"giant panda\", \"snoek fish\", \"eel\", \"silver salmon\", \"rock beauty fish\", \"clownfish\", \"sturgeon\", \"gar fish\", \"lionfish\", \"pufferfish\", \"abacus\", \"abaya\", \"academic gown\", \"accordion\", \"acoustic guitar\", \"aircraft carrier\", \"airliner\", \"airship\", \"altar\", \"ambulance\", \"amphibious vehicle\", \"analog clock\", \"apiary\", \"apron\", \"trash can\", \"assault rifle\", \"backpack\", \"bakery\", \"balance beam\", \"balloon\", \"ballpoint pen\", \"Band-Aid\", \"banjo\", \"baluster / handrail\", \"barbell\", \"barber chair\", \"barbershop\", \"barn\", \"barometer\", \"barrel\", \"wheelbarrow\", \"baseball\", \"basketball\", \"bassinet\", \"bassoon\", \"swimming cap\", \"bath towel\", \"bathtub\", \"station wagon\", \"lighthouse\", \"beaker\", \"military hat (bearskin or shako)\", \"beer bottle\", \"beer glass\", \"bell tower\", \"baby bib\", \"tandem bicycle\", \"bikini\", \"ring binder\", \"binoculars\", \"birdhouse\", \"boathouse\", \"bobsleigh\", \"bolo tie\", \"poke bonnet\", \"bookcase\", \"bookstore\", \"bottle cap\", \"hunting bow\", \"bow tie\", \"brass memorial plaque\", \"bra\", \"breakwater\", \"breastplate\", \"broom\", \"bucket\", \"buckle\", \"bulletproof vest\", \"high-speed train\", \"butcher shop\", \"taxicab\", \"cauldron\", \"candle\", \"cannon\", \"canoe\", \"can opener\", \"cardigan\", \"car mirror\", \"carousel\", \"tool kit\", \"cardboard box / carton\", \"car wheel\", \"automated teller machine\", \"cassette\", \"cassette player\", \"castle\", \"catamaran\", \"CD player\", \"cello\", \"mobile phone\", \"chain\", \"chain-link fence\", \"chain mail\", \"chainsaw\", \"storage chest\", \"chiffonier\", \"bell or wind chime\", \"china cabinet\", \"Christmas stocking\", \"church\", \"movie theater\", \"cleaver\", \"cliff dwelling\", \"cloak\", \"clogs\", \"cocktail shaker\", \"coffee mug\", \"coffeemaker\", \"spiral or coil\", \"combination lock\", \"computer keyboard\", \"candy store\", \"container ship\", \"convertible\", \"corkscrew\", \"cornet\", \"cowboy boot\", \"cowboy hat\", \"cradle\", \"construction crane\", \"crash helmet\", \"crate\", \"infant bed\", \"Crock Pot\", \"croquet ball\", \"crutch\", \"cuirass\", \"dam\", \"desk\", \"desktop computer\", \"rotary dial telephone\", \"diaper\", \"digital clock\", \"digital watch\", \"dining table\", \"dishcloth\", \"dishwasher\", \"disc brake\", \"dock\", \"dog sled\", \"dome\", \"doormat\", \"drilling rig\", \"drum\", \"drumstick\", \"dumbbell\", \"Dutch oven\", \"electric fan\", \"electric guitar\", \"electric locomotive\", \"entertainment center\", \"envelope\", \"espresso machine\", \"face powder\", \"feather boa\", \"filing cabinet\", \"fireboat\", \"fire truck\", \"fire screen\", \"flagpole\", \"flute\", \"folding chair\", \"football helmet\", \"forklift\", \"fountain\", \"fountain pen\", \"four-poster bed\", \"freight car\", \"French horn\", \"frying pan\", \"fur coat\", \"garbage truck\", \"gas mask or respirator\", \"gas pump\", \"goblet\", \"go-kart\", \"golf ball\", \"golf cart\", \"gondola\", \"gong\", \"gown\", \"grand piano\", \"greenhouse\", \"radiator grille\", \"grocery store\", \"guillotine\", \"hair clip\", \"hair spray\", \"half-track\", \"hammer\", \"hamper\", \"hair dryer\", \"hand-held computer\", \"handkerchief\", \"hard disk drive\", \"harmonica\", \"harp\", \"combine harvester\", \"hatchet\", \"holster\", \"home theater\", \"honeycomb\", \"hook\", \"hoop skirt\", \"gymnastic horizontal bar\", \"horse-drawn vehicle\", \"hourglass\", \"iPod\", \"clothes iron\", \"carved pumpkin\", \"jeans\", \"jeep\", \"T-shirt\", \"jigsaw puzzle\", \"rickshaw\", \"joystick\", \"kimono\", \"knee pad\", \"knot\", \"lab coat\", \"ladle\", \"lampshade\", \"laptop computer\", \"lawn mower\", \"lens cap\", \"letter opener\", \"library\", \"lifeboat\", \"lighter\", \"limousine\", \"ocean liner\", \"lipstick\", \"slip-on shoe\", \"lotion\", \"music speaker\", \"loupe magnifying glass\", \"sawmill\", \"magnetic compass\", \"messenger bag\", \"mailbox\", \"tights\", \"one-piece bathing suit\", \"manhole cover\", \"maraca\", \"marimba\", \"mask\", \"matchstick\", \"maypole\", \"maze\", \"measuring cup\", \"medicine cabinet\", \"megalith\", \"microphone\", \"microwave oven\", \"military uniform\", \"milk can\", \"minibus\", \"miniskirt\", \"minivan\", \"missile\", \"mitten\", \"mixing bowl\", \"mobile home\", \"ford model t\", \"modem\", \"monastery\", \"monitor\", \"moped\", \"mortar and pestle\", \"graduation cap\", \"mosque\", \"mosquito net\", \"vespa\", \"mountain bike\", \"tent\", \"computer mouse\", \"mousetrap\", \"moving van\", \"muzzle\", \"metal nail\", \"neck brace\", \"necklace\", \"baby pacifier\", \"notebook computer\", \"obelisk\", \"oboe\", \"ocarina\", \"odometer\", \"oil filter\", \"pipe organ\", \"oscilloscope\", \"overskirt\", \"bullock cart\", \"oxygen mask\", \"product packet / packaging\", \"paddle\", \"paddle wheel\", \"padlock\", \"paintbrush\", \"pajamas\", \"palace\", \"pan flute\", \"paper towel\", \"parachute\", \"parallel bars\", \"park bench\", \"parking meter\", \"railroad car\", \"patio\", \"payphone\", \"pedestal\", \"pencil case\", \"pencil sharpener\", \"perfume\", \"Petri dish\", \"photocopier\", \"plectrum\", \"Pickelhaube\", \"picket fence\", \"pickup truck\", \"pier\", \"piggy bank\", \"pill bottle\", \"pillow\", \"ping-pong ball\", \"pinwheel\", \"pirate ship\", \"drink pitcher\", \"block plane\", \"planetarium\", \"plastic bag\", \"plate rack\", \"farm plow\", \"plunger\", \"Polaroid camera\", \"pole\", \"police van\", \"poncho\", \"pool table\", \"soda bottle\", \"plant pot\", \"potter's wheel\", \"power drill\", \"prayer rug\", \"printer\", \"prison\", \"missile\", \"projector\", \"hockey puck\", \"punching bag\", \"purse\", \"quill\", \"quilt\", \"race car\", \"racket\", \"radiator\", \"radio\", \"radio telescope\", \"rain barrel\", \"recreational vehicle\", \"fishing casting reel\", \"reflex camera\", \"refrigerator\", \"remote control\", \"restaurant\", \"revolver\", \"rifle\", \"rocking chair\", \"rotisserie\", \"eraser\", \"rugby ball\", \"ruler measuring stick\", \"sneaker\", \"safe\", \"safety pin\", \"salt shaker\", \"sandal\", \"sarong\", \"saxophone\", \"scabbard\", \"weighing scale\", \"school bus\", \"schooner\", \"scoreboard\", \"CRT monitor\", \"screw\", \"screwdriver\", \"seat belt\", \"sewing machine\", \"shield\", \"shoe store\", \"shoji screen / room divider\", \"shopping basket\", \"shopping cart\", \"shovel\", \"shower cap\", \"shower curtain\", \"ski\", \"balaclava ski mask\", \"sleeping bag\", \"slide rule\", \"sliding door\", \"slot machine\", \"snorkel\", \"snowmobile\", \"snowplow\", \"soap dispenser\", \"soccer ball\", \"sock\", \"solar thermal collector\", \"sombrero\", \"soup bowl\", \"keyboard space bar\", \"space heater\", \"space shuttle\", \"spatula\", \"motorboat\", \"spider web\", \"spindle\", \"sports car\", \"spotlight\", \"stage\", \"steam locomotive\", \"through arch bridge\", \"steel drum\", \"stethoscope\", \"scarf\", \"stone wall\", \"stopwatch\", \"stove\", \"strainer\", \"tram\", \"stretcher\", \"couch\", \"stupa\", \"submarine\", \"suit\", \"sundial\", \"sunglasses\", \"sunglasses\", \"sunscreen\", \"suspension bridge\", \"mop\", \"sweatshirt\", \"swim trunks / shorts\", \"swing\", \"electrical switch\", \"syringe\", \"table lamp\", \"tank\", \"tape player\", \"teapot\", \"teddy bear\", \"television\", \"tennis ball\", \"thatched roof\", \"front curtain\", \"thimble\", \"threshing machine\", \"throne\", \"tile roof\", \"toaster\", \"tobacco shop\", \"toilet seat\", \"torch\", \"totem pole\", \"tow truck\", \"toy store\", \"tractor\", \"semi-trailer truck\", \"tray\", \"trench coat\", \"tricycle\", \"trimaran\", \"tripod\", \"triumphal arch\", \"trolleybus\", \"trombone\", \"hot tub\", \"turnstile\", \"typewriter keyboard\", \"umbrella\", \"unicycle\", \"upright piano\", \"vacuum cleaner\", \"vase\", \"vaulted or arched ceiling\", \"velvet fabric\", \"vending machine\", \"vestment\", \"viaduct\", \"violin\", \"volleyball\", \"waffle iron\", \"wall clock\", \"wallet\", \"wardrobe\", \"military aircraft\", \"sink\", \"washing machine\", \"water bottle\", \"water jug\", \"water tower\", \"whiskey jug\", \"whistle\", \"hair wig\", \"window screen\", \"window shade\", \"Windsor tie\", \"wine bottle\", \"airplane wing\", \"wok\", \"wooden spoon\", \"wool\", \"split-rail fence\", \"shipwreck\", \"sailboat\", \"yurt\", \"website\", \"comic book\", \"crossword\", \"traffic or street sign\", \"traffic light\", \"dust jacket\", \"menu\", \"plate\", \"guacamole\", \"consomme\", \"hot pot\", \"trifle\", \"ice cream\", \"popsicle\", \"baguette\", \"bagel\", \"pretzel\", \"cheeseburger\", \"hot dog\", \"mashed potatoes\", \"cabbage\", \"broccoli\", \"cauliflower\", \"zucchini\", \"spaghetti squash\", \"acorn squash\", \"butternut squash\", \"cucumber\", \"artichoke\", \"bell pepper\", \"cardoon\", \"mushroom\", \"Granny Smith apple\", \"strawberry\", \"orange\", \"lemon\", \"fig\", \"pineapple\", \"banana\", \"jackfruit\", \"cherimoya (custard apple)\", \"pomegranate\", \"hay\", \"carbonara\", \"chocolate syrup\", \"dough\", \"meatloaf\", \"pizza\", \"pot pie\", \"burrito\", \"red wine\", \"espresso\", \"tea cup\", \"eggnog\", \"mountain\", \"bubble\", \"cliff\", \"coral reef\", \"geyser\", \"lakeshore\", \"promontory\", \"sandbar\", \"beach\", \"valley\", \"volcano\", \"baseball player\", \"bridegroom\", \"scuba diver\", \"rapeseed\", \"daisy\", \"yellow lady's slipper\", \"corn\", \"acorn\", \"rose hip\", \"horse chestnut seed\", \"coral fungus\", \"agaric\", \"gyromitra\", \"stinkhorn mushroom\", \"earth star fungus\", \"hen of the woods mushroom\", \"bolete\", \"corn cob\", \"toilet paper\"]"
      ],
      "execution_count": null,
      "outputs": []
    },
    {
      "cell_type": "code",
      "metadata": {
        "id": "ULrpYB8186eK",
        "colab": {
          "base_uri": "https://localhost:8080/"
        },
        "outputId": "76b74808-4265-4572-9cde-75fd33a94625"
      },
      "source": [
        "class2id_dict"
      ],
      "execution_count": null,
      "outputs": [
        {
          "output_type": "execute_result",
          "data": {
            "text/plain": [
              "{'n01440764': ('0', 'tench'),\n",
              " 'n01443537': ('1', 'goldfish'),\n",
              " 'n01484850': ('2', 'great_white_shark'),\n",
              " 'n01491361': ('3', 'tiger_shark'),\n",
              " 'n01494475': ('4', 'hammerhead'),\n",
              " 'n01496331': ('5', 'electric_ray'),\n",
              " 'n01498041': ('6', 'stingray'),\n",
              " 'n01514668': ('7', 'cock'),\n",
              " 'n01514859': ('8', 'hen'),\n",
              " 'n01518878': ('9', 'ostrich'),\n",
              " 'n01530575': ('10', 'brambling'),\n",
              " 'n01531178': ('11', 'goldfinch'),\n",
              " 'n01532829': ('12', 'house_finch'),\n",
              " 'n01534433': ('13', 'junco'),\n",
              " 'n01537544': ('14', 'indigo_bunting'),\n",
              " 'n01558993': ('15', 'robin'),\n",
              " 'n01560419': ('16', 'bulbul'),\n",
              " 'n01580077': ('17', 'jay'),\n",
              " 'n01582220': ('18', 'magpie'),\n",
              " 'n01592084': ('19', 'chickadee'),\n",
              " 'n01601694': ('20', 'water_ouzel'),\n",
              " 'n01608432': ('21', 'kite'),\n",
              " 'n01614925': ('22', 'bald_eagle'),\n",
              " 'n01616318': ('23', 'vulture'),\n",
              " 'n01622779': ('24', 'great_grey_owl'),\n",
              " 'n01629819': ('25', 'European_fire_salamander'),\n",
              " 'n01630670': ('26', 'common_newt'),\n",
              " 'n01631663': ('27', 'eft'),\n",
              " 'n01632458': ('28', 'spotted_salamander'),\n",
              " 'n01632777': ('29', 'axolotl'),\n",
              " 'n01641577': ('30', 'bullfrog'),\n",
              " 'n01644373': ('31', 'tree_frog'),\n",
              " 'n01644900': ('32', 'tailed_frog'),\n",
              " 'n01664065': ('33', 'loggerhead'),\n",
              " 'n01665541': ('34', 'leatherback_turtle'),\n",
              " 'n01667114': ('35', 'mud_turtle'),\n",
              " 'n01667778': ('36', 'terrapin'),\n",
              " 'n01669191': ('37', 'box_turtle'),\n",
              " 'n01675722': ('38', 'banded_gecko'),\n",
              " 'n01677366': ('39', 'common_iguana'),\n",
              " 'n01682714': ('40', 'American_chameleon'),\n",
              " 'n01685808': ('41', 'whiptail'),\n",
              " 'n01687978': ('42', 'agama'),\n",
              " 'n01688243': ('43', 'frilled_lizard'),\n",
              " 'n01689811': ('44', 'alligator_lizard'),\n",
              " 'n01692333': ('45', 'Gila_monster'),\n",
              " 'n01693334': ('46', 'green_lizard'),\n",
              " 'n01694178': ('47', 'African_chameleon'),\n",
              " 'n01695060': ('48', 'Komodo_dragon'),\n",
              " 'n01697457': ('49', 'African_crocodile'),\n",
              " 'n01698640': ('50', 'American_alligator'),\n",
              " 'n01704323': ('51', 'triceratops'),\n",
              " 'n01728572': ('52', 'thunder_snake'),\n",
              " 'n01728920': ('53', 'ringneck_snake'),\n",
              " 'n01729322': ('54', 'hognose_snake'),\n",
              " 'n01729977': ('55', 'green_snake'),\n",
              " 'n01734418': ('56', 'king_snake'),\n",
              " 'n01735189': ('57', 'garter_snake'),\n",
              " 'n01737021': ('58', 'water_snake'),\n",
              " 'n01739381': ('59', 'vine_snake'),\n",
              " 'n01740131': ('60', 'night_snake'),\n",
              " 'n01742172': ('61', 'boa_constrictor'),\n",
              " 'n01744401': ('62', 'rock_python'),\n",
              " 'n01748264': ('63', 'Indian_cobra'),\n",
              " 'n01749939': ('64', 'green_mamba'),\n",
              " 'n01751748': ('65', 'sea_snake'),\n",
              " 'n01753488': ('66', 'horned_viper'),\n",
              " 'n01755581': ('67', 'diamondback'),\n",
              " 'n01756291': ('68', 'sidewinder'),\n",
              " 'n01768244': ('69', 'trilobite'),\n",
              " 'n01770081': ('70', 'harvestman'),\n",
              " 'n01770393': ('71', 'scorpion'),\n",
              " 'n01773157': ('72', 'black_and_gold_garden_spider'),\n",
              " 'n01773549': ('73', 'barn_spider'),\n",
              " 'n01773797': ('74', 'garden_spider'),\n",
              " 'n01774384': ('75', 'black_widow'),\n",
              " 'n01774750': ('76', 'tarantula'),\n",
              " 'n01775062': ('77', 'wolf_spider'),\n",
              " 'n01776313': ('78', 'tick'),\n",
              " 'n01784675': ('79', 'centipede'),\n",
              " 'n01795545': ('80', 'black_grouse'),\n",
              " 'n01796340': ('81', 'ptarmigan'),\n",
              " 'n01797886': ('82', 'ruffed_grouse'),\n",
              " 'n01798484': ('83', 'prairie_chicken'),\n",
              " 'n01806143': ('84', 'peacock'),\n",
              " 'n01806567': ('85', 'quail'),\n",
              " 'n01807496': ('86', 'partridge'),\n",
              " 'n01817953': ('87', 'African_grey'),\n",
              " 'n01818515': ('88', 'macaw'),\n",
              " 'n01819313': ('89', 'sulphur-crested_cockatoo'),\n",
              " 'n01820546': ('90', 'lorikeet'),\n",
              " 'n01824575': ('91', 'coucal'),\n",
              " 'n01828970': ('92', 'bee_eater'),\n",
              " 'n01829413': ('93', 'hornbill'),\n",
              " 'n01833805': ('94', 'hummingbird'),\n",
              " 'n01843065': ('95', 'jacamar'),\n",
              " 'n01843383': ('96', 'toucan'),\n",
              " 'n01847000': ('97', 'drake'),\n",
              " 'n01855032': ('98', 'red-breasted_merganser'),\n",
              " 'n01855672': ('99', 'goose'),\n",
              " 'n01860187': ('100', 'black_swan'),\n",
              " 'n01871265': ('101', 'tusker'),\n",
              " 'n01872401': ('102', 'echidna'),\n",
              " 'n01873310': ('103', 'platypus'),\n",
              " 'n01877812': ('104', 'wallaby'),\n",
              " 'n01882714': ('105', 'koala'),\n",
              " 'n01883070': ('106', 'wombat'),\n",
              " 'n01910747': ('107', 'jellyfish'),\n",
              " 'n01914609': ('108', 'sea_anemone'),\n",
              " 'n01917289': ('109', 'brain_coral'),\n",
              " 'n01924916': ('110', 'flatworm'),\n",
              " 'n01930112': ('111', 'nematode'),\n",
              " 'n01943899': ('112', 'conch'),\n",
              " 'n01944390': ('113', 'snail'),\n",
              " 'n01945685': ('114', 'slug'),\n",
              " 'n01950731': ('115', 'sea_slug'),\n",
              " 'n01955084': ('116', 'chiton'),\n",
              " 'n01968897': ('117', 'chambered_nautilus'),\n",
              " 'n01978287': ('118', 'Dungeness_crab'),\n",
              " 'n01978455': ('119', 'rock_crab'),\n",
              " 'n01980166': ('120', 'fiddler_crab'),\n",
              " 'n01981276': ('121', 'king_crab'),\n",
              " 'n01983481': ('122', 'American_lobster'),\n",
              " 'n01984695': ('123', 'spiny_lobster'),\n",
              " 'n01985128': ('124', 'crayfish'),\n",
              " 'n01986214': ('125', 'hermit_crab'),\n",
              " 'n01990800': ('126', 'isopod'),\n",
              " 'n02002556': ('127', 'white_stork'),\n",
              " 'n02002724': ('128', 'black_stork'),\n",
              " 'n02006656': ('129', 'spoonbill'),\n",
              " 'n02007558': ('130', 'flamingo'),\n",
              " 'n02009229': ('131', 'little_blue_heron'),\n",
              " 'n02009912': ('132', 'American_egret'),\n",
              " 'n02011460': ('133', 'bittern'),\n",
              " 'n02012849': ('134', 'crane'),\n",
              " 'n02013706': ('135', 'limpkin'),\n",
              " 'n02017213': ('136', 'European_gallinule'),\n",
              " 'n02018207': ('137', 'American_coot'),\n",
              " 'n02018795': ('138', 'bustard'),\n",
              " 'n02025239': ('139', 'ruddy_turnstone'),\n",
              " 'n02027492': ('140', 'red-backed_sandpiper'),\n",
              " 'n02028035': ('141', 'redshank'),\n",
              " 'n02033041': ('142', 'dowitcher'),\n",
              " 'n02037110': ('143', 'oystercatcher'),\n",
              " 'n02051845': ('144', 'pelican'),\n",
              " 'n02056570': ('145', 'king_penguin'),\n",
              " 'n02058221': ('146', 'albatross'),\n",
              " 'n02066245': ('147', 'grey_whale'),\n",
              " 'n02071294': ('148', 'killer_whale'),\n",
              " 'n02074367': ('149', 'dugong'),\n",
              " 'n02077923': ('150', 'sea_lion'),\n",
              " 'n02085620': ('151', 'Chihuahua'),\n",
              " 'n02085782': ('152', 'Japanese_spaniel'),\n",
              " 'n02085936': ('153', 'Maltese_dog'),\n",
              " 'n02086079': ('154', 'Pekinese'),\n",
              " 'n02086240': ('155', 'Shih-Tzu'),\n",
              " 'n02086646': ('156', 'Blenheim_spaniel'),\n",
              " 'n02086910': ('157', 'papillon'),\n",
              " 'n02087046': ('158', 'toy_terrier'),\n",
              " 'n02087394': ('159', 'Rhodesian_ridgeback'),\n",
              " 'n02088094': ('160', 'Afghan_hound'),\n",
              " 'n02088238': ('161', 'basset'),\n",
              " 'n02088364': ('162', 'beagle'),\n",
              " 'n02088466': ('163', 'bloodhound'),\n",
              " 'n02088632': ('164', 'bluetick'),\n",
              " 'n02089078': ('165', 'black-and-tan_coonhound'),\n",
              " 'n02089867': ('166', 'Walker_hound'),\n",
              " 'n02089973': ('167', 'English_foxhound'),\n",
              " 'n02090379': ('168', 'redbone'),\n",
              " 'n02090622': ('169', 'borzoi'),\n",
              " 'n02090721': ('170', 'Irish_wolfhound'),\n",
              " 'n02091032': ('171', 'Italian_greyhound'),\n",
              " 'n02091134': ('172', 'whippet'),\n",
              " 'n02091244': ('173', 'Ibizan_hound'),\n",
              " 'n02091467': ('174', 'Norwegian_elkhound'),\n",
              " 'n02091635': ('175', 'otterhound'),\n",
              " 'n02091831': ('176', 'Saluki'),\n",
              " 'n02092002': ('177', 'Scottish_deerhound'),\n",
              " 'n02092339': ('178', 'Weimaraner'),\n",
              " 'n02093256': ('179', 'Staffordshire_bullterrier'),\n",
              " 'n02093428': ('180', 'American_Staffordshire_terrier'),\n",
              " 'n02093647': ('181', 'Bedlington_terrier'),\n",
              " 'n02093754': ('182', 'Border_terrier'),\n",
              " 'n02093859': ('183', 'Kerry_blue_terrier'),\n",
              " 'n02093991': ('184', 'Irish_terrier'),\n",
              " 'n02094114': ('185', 'Norfolk_terrier'),\n",
              " 'n02094258': ('186', 'Norwich_terrier'),\n",
              " 'n02094433': ('187', 'Yorkshire_terrier'),\n",
              " 'n02095314': ('188', 'wire-haired_fox_terrier'),\n",
              " 'n02095570': ('189', 'Lakeland_terrier'),\n",
              " 'n02095889': ('190', 'Sealyham_terrier'),\n",
              " 'n02096051': ('191', 'Airedale'),\n",
              " 'n02096177': ('192', 'cairn'),\n",
              " 'n02096294': ('193', 'Australian_terrier'),\n",
              " 'n02096437': ('194', 'Dandie_Dinmont'),\n",
              " 'n02096585': ('195', 'Boston_bull'),\n",
              " 'n02097047': ('196', 'miniature_schnauzer'),\n",
              " 'n02097130': ('197', 'giant_schnauzer'),\n",
              " 'n02097209': ('198', 'standard_schnauzer'),\n",
              " 'n02097298': ('199', 'Scotch_terrier'),\n",
              " 'n02097474': ('200', 'Tibetan_terrier'),\n",
              " 'n02097658': ('201', 'silky_terrier'),\n",
              " 'n02098105': ('202', 'soft-coated_wheaten_terrier'),\n",
              " 'n02098286': ('203', 'West_Highland_white_terrier'),\n",
              " 'n02098413': ('204', 'Lhasa'),\n",
              " 'n02099267': ('205', 'flat-coated_retriever'),\n",
              " 'n02099429': ('206', 'curly-coated_retriever'),\n",
              " 'n02099601': ('207', 'golden_retriever'),\n",
              " 'n02099712': ('208', 'Labrador_retriever'),\n",
              " 'n02099849': ('209', 'Chesapeake_Bay_retriever'),\n",
              " 'n02100236': ('210', 'German_short-haired_pointer'),\n",
              " 'n02100583': ('211', 'vizsla'),\n",
              " 'n02100735': ('212', 'English_setter'),\n",
              " 'n02100877': ('213', 'Irish_setter'),\n",
              " 'n02101006': ('214', 'Gordon_setter'),\n",
              " 'n02101388': ('215', 'Brittany_spaniel'),\n",
              " 'n02101556': ('216', 'clumber'),\n",
              " 'n02102040': ('217', 'English_springer'),\n",
              " 'n02102177': ('218', 'Welsh_springer_spaniel'),\n",
              " 'n02102318': ('219', 'cocker_spaniel'),\n",
              " 'n02102480': ('220', 'Sussex_spaniel'),\n",
              " 'n02102973': ('221', 'Irish_water_spaniel'),\n",
              " 'n02104029': ('222', 'kuvasz'),\n",
              " 'n02104365': ('223', 'schipperke'),\n",
              " 'n02105056': ('224', 'groenendael'),\n",
              " 'n02105162': ('225', 'malinois'),\n",
              " 'n02105251': ('226', 'briard'),\n",
              " 'n02105412': ('227', 'kelpie'),\n",
              " 'n02105505': ('228', 'komondor'),\n",
              " 'n02105641': ('229', 'Old_English_sheepdog'),\n",
              " 'n02105855': ('230', 'Shetland_sheepdog'),\n",
              " 'n02106030': ('231', 'collie'),\n",
              " 'n02106166': ('232', 'Border_collie'),\n",
              " 'n02106382': ('233', 'Bouvier_des_Flandres'),\n",
              " 'n02106550': ('234', 'Rottweiler'),\n",
              " 'n02106662': ('235', 'German_shepherd'),\n",
              " 'n02107142': ('236', 'Doberman'),\n",
              " 'n02107312': ('237', 'miniature_pinscher'),\n",
              " 'n02107574': ('238', 'Greater_Swiss_Mountain_dog'),\n",
              " 'n02107683': ('239', 'Bernese_mountain_dog'),\n",
              " 'n02107908': ('240', 'Appenzeller'),\n",
              " 'n02108000': ('241', 'EntleBucher'),\n",
              " 'n02108089': ('242', 'boxer'),\n",
              " 'n02108422': ('243', 'bull_mastiff'),\n",
              " 'n02108551': ('244', 'Tibetan_mastiff'),\n",
              " 'n02108915': ('245', 'French_bulldog'),\n",
              " 'n02109047': ('246', 'Great_Dane'),\n",
              " 'n02109525': ('247', 'Saint_Bernard'),\n",
              " 'n02109961': ('248', 'Eskimo_dog'),\n",
              " 'n02110063': ('249', 'malamute'),\n",
              " 'n02110185': ('250', 'Siberian_husky'),\n",
              " 'n02110341': ('251', 'dalmatian'),\n",
              " 'n02110627': ('252', 'affenpinscher'),\n",
              " 'n02110806': ('253', 'basenji'),\n",
              " 'n02110958': ('254', 'pug'),\n",
              " 'n02111129': ('255', 'Leonberg'),\n",
              " 'n02111277': ('256', 'Newfoundland'),\n",
              " 'n02111500': ('257', 'Great_Pyrenees'),\n",
              " 'n02111889': ('258', 'Samoyed'),\n",
              " 'n02112018': ('259', 'Pomeranian'),\n",
              " 'n02112137': ('260', 'chow'),\n",
              " 'n02112350': ('261', 'keeshond'),\n",
              " 'n02112706': ('262', 'Brabancon_griffon'),\n",
              " 'n02113023': ('263', 'Pembroke'),\n",
              " 'n02113186': ('264', 'Cardigan'),\n",
              " 'n02113624': ('265', 'toy_poodle'),\n",
              " 'n02113712': ('266', 'miniature_poodle'),\n",
              " 'n02113799': ('267', 'standard_poodle'),\n",
              " 'n02113978': ('268', 'Mexican_hairless'),\n",
              " 'n02114367': ('269', 'timber_wolf'),\n",
              " 'n02114548': ('270', 'white_wolf'),\n",
              " 'n02114712': ('271', 'red_wolf'),\n",
              " 'n02114855': ('272', 'coyote'),\n",
              " 'n02115641': ('273', 'dingo'),\n",
              " 'n02115913': ('274', 'dhole'),\n",
              " 'n02116738': ('275', 'African_hunting_dog'),\n",
              " 'n02117135': ('276', 'hyena'),\n",
              " 'n02119022': ('277', 'red_fox'),\n",
              " 'n02119789': ('278', 'kit_fox'),\n",
              " 'n02120079': ('279', 'Arctic_fox'),\n",
              " 'n02120505': ('280', 'grey_fox'),\n",
              " 'n02123045': ('281', 'tabby'),\n",
              " 'n02123159': ('282', 'tiger_cat'),\n",
              " 'n02123394': ('283', 'Persian_cat'),\n",
              " 'n02123597': ('284', 'Siamese_cat'),\n",
              " 'n02124075': ('285', 'Egyptian_cat'),\n",
              " 'n02125311': ('286', 'cougar'),\n",
              " 'n02127052': ('287', 'lynx'),\n",
              " 'n02128385': ('288', 'leopard'),\n",
              " 'n02128757': ('289', 'snow_leopard'),\n",
              " 'n02128925': ('290', 'jaguar'),\n",
              " 'n02129165': ('291', 'lion'),\n",
              " 'n02129604': ('292', 'tiger'),\n",
              " 'n02130308': ('293', 'cheetah'),\n",
              " 'n02132136': ('294', 'brown_bear'),\n",
              " 'n02133161': ('295', 'American_black_bear'),\n",
              " 'n02134084': ('296', 'ice_bear'),\n",
              " 'n02134418': ('297', 'sloth_bear'),\n",
              " 'n02137549': ('298', 'mongoose'),\n",
              " 'n02138441': ('299', 'meerkat'),\n",
              " 'n02165105': ('300', 'tiger_beetle'),\n",
              " 'n02165456': ('301', 'ladybug'),\n",
              " 'n02167151': ('302', 'ground_beetle'),\n",
              " 'n02168699': ('303', 'long-horned_beetle'),\n",
              " 'n02169497': ('304', 'leaf_beetle'),\n",
              " 'n02172182': ('305', 'dung_beetle'),\n",
              " 'n02174001': ('306', 'rhinoceros_beetle'),\n",
              " 'n02177972': ('307', 'weevil'),\n",
              " 'n02190166': ('308', 'fly'),\n",
              " 'n02206856': ('309', 'bee'),\n",
              " 'n02219486': ('310', 'ant'),\n",
              " 'n02226429': ('311', 'grasshopper'),\n",
              " 'n02229544': ('312', 'cricket'),\n",
              " 'n02231487': ('313', 'walking_stick'),\n",
              " 'n02233338': ('314', 'cockroach'),\n",
              " 'n02236044': ('315', 'mantis'),\n",
              " 'n02256656': ('316', 'cicada'),\n",
              " 'n02259212': ('317', 'leafhopper'),\n",
              " 'n02264363': ('318', 'lacewing'),\n",
              " 'n02268443': ('319', 'dragonfly'),\n",
              " 'n02268853': ('320', 'damselfly'),\n",
              " 'n02276258': ('321', 'admiral'),\n",
              " 'n02277742': ('322', 'ringlet'),\n",
              " 'n02279972': ('323', 'monarch'),\n",
              " 'n02280649': ('324', 'cabbage_butterfly'),\n",
              " 'n02281406': ('325', 'sulphur_butterfly'),\n",
              " 'n02281787': ('326', 'lycaenid'),\n",
              " 'n02317335': ('327', 'starfish'),\n",
              " 'n02319095': ('328', 'sea_urchin'),\n",
              " 'n02321529': ('329', 'sea_cucumber'),\n",
              " 'n02325366': ('330', 'wood_rabbit'),\n",
              " 'n02326432': ('331', 'hare'),\n",
              " 'n02328150': ('332', 'Angora'),\n",
              " 'n02342885': ('333', 'hamster'),\n",
              " 'n02346627': ('334', 'porcupine'),\n",
              " 'n02356798': ('335', 'fox_squirrel'),\n",
              " 'n02361337': ('336', 'marmot'),\n",
              " 'n02363005': ('337', 'beaver'),\n",
              " 'n02364673': ('338', 'guinea_pig'),\n",
              " 'n02389026': ('339', 'sorrel'),\n",
              " 'n02391049': ('340', 'zebra'),\n",
              " 'n02395406': ('341', 'hog'),\n",
              " 'n02396427': ('342', 'wild_boar'),\n",
              " 'n02397096': ('343', 'warthog'),\n",
              " 'n02398521': ('344', 'hippopotamus'),\n",
              " 'n02403003': ('345', 'ox'),\n",
              " 'n02408429': ('346', 'water_buffalo'),\n",
              " 'n02410509': ('347', 'bison'),\n",
              " 'n02412080': ('348', 'ram'),\n",
              " 'n02415577': ('349', 'bighorn'),\n",
              " 'n02417914': ('350', 'ibex'),\n",
              " 'n02422106': ('351', 'hartebeest'),\n",
              " 'n02422699': ('352', 'impala'),\n",
              " 'n02423022': ('353', 'gazelle'),\n",
              " 'n02437312': ('354', 'Arabian_camel'),\n",
              " 'n02437616': ('355', 'llama'),\n",
              " 'n02441942': ('356', 'weasel'),\n",
              " 'n02442845': ('357', 'mink'),\n",
              " 'n02443114': ('358', 'polecat'),\n",
              " 'n02443484': ('359', 'black-footed_ferret'),\n",
              " 'n02444819': ('360', 'otter'),\n",
              " 'n02445715': ('361', 'skunk'),\n",
              " 'n02447366': ('362', 'badger'),\n",
              " 'n02454379': ('363', 'armadillo'),\n",
              " 'n02457408': ('364', 'three-toed_sloth'),\n",
              " 'n02480495': ('365', 'orangutan'),\n",
              " 'n02480855': ('366', 'gorilla'),\n",
              " 'n02481823': ('367', 'chimpanzee'),\n",
              " 'n02483362': ('368', 'gibbon'),\n",
              " 'n02483708': ('369', 'siamang'),\n",
              " 'n02484975': ('370', 'guenon'),\n",
              " 'n02486261': ('371', 'patas'),\n",
              " 'n02486410': ('372', 'baboon'),\n",
              " 'n02487347': ('373', 'macaque'),\n",
              " 'n02488291': ('374', 'langur'),\n",
              " 'n02488702': ('375', 'colobus'),\n",
              " 'n02489166': ('376', 'proboscis_monkey'),\n",
              " 'n02490219': ('377', 'marmoset'),\n",
              " 'n02492035': ('378', 'capuchin'),\n",
              " 'n02492660': ('379', 'howler_monkey'),\n",
              " 'n02493509': ('380', 'titi'),\n",
              " 'n02493793': ('381', 'spider_monkey'),\n",
              " 'n02494079': ('382', 'squirrel_monkey'),\n",
              " 'n02497673': ('383', 'Madagascar_cat'),\n",
              " 'n02500267': ('384', 'indri'),\n",
              " 'n02504013': ('385', 'Indian_elephant'),\n",
              " 'n02504458': ('386', 'African_elephant'),\n",
              " 'n02509815': ('387', 'lesser_panda'),\n",
              " 'n02510455': ('388', 'giant_panda'),\n",
              " 'n02514041': ('389', 'barracouta'),\n",
              " 'n02526121': ('390', 'eel'),\n",
              " 'n02536864': ('391', 'coho'),\n",
              " 'n02606052': ('392', 'rock_beauty'),\n",
              " 'n02607072': ('393', 'anemone_fish'),\n",
              " 'n02640242': ('394', 'sturgeon'),\n",
              " 'n02641379': ('395', 'gar'),\n",
              " 'n02643566': ('396', 'lionfish'),\n",
              " 'n02655020': ('397', 'puffer'),\n",
              " 'n02666196': ('398', 'abacus'),\n",
              " 'n02667093': ('399', 'abaya'),\n",
              " 'n02669723': ('400', 'academic_gown'),\n",
              " 'n02672831': ('401', 'accordion'),\n",
              " 'n02676566': ('402', 'acoustic_guitar'),\n",
              " 'n02687172': ('403', 'aircraft_carrier'),\n",
              " 'n02690373': ('404', 'airliner'),\n",
              " 'n02692877': ('405', 'airship'),\n",
              " 'n02699494': ('406', 'altar'),\n",
              " 'n02701002': ('407', 'ambulance'),\n",
              " 'n02704792': ('408', 'amphibian'),\n",
              " 'n02708093': ('409', 'analog_clock'),\n",
              " 'n02727426': ('410', 'apiary'),\n",
              " 'n02730930': ('411', 'apron'),\n",
              " 'n02747177': ('412', 'ashcan'),\n",
              " 'n02749479': ('413', 'assault_rifle'),\n",
              " 'n02769748': ('414', 'backpack'),\n",
              " 'n02776631': ('415', 'bakery'),\n",
              " 'n02777292': ('416', 'balance_beam'),\n",
              " 'n02782093': ('417', 'balloon'),\n",
              " 'n02783161': ('418', 'ballpoint'),\n",
              " 'n02786058': ('419', 'Band_Aid'),\n",
              " 'n02787622': ('420', 'banjo'),\n",
              " 'n02788148': ('421', 'bannister'),\n",
              " 'n02790996': ('422', 'barbell'),\n",
              " 'n02791124': ('423', 'barber_chair'),\n",
              " 'n02791270': ('424', 'barbershop'),\n",
              " 'n02793495': ('425', 'barn'),\n",
              " 'n02794156': ('426', 'barometer'),\n",
              " 'n02795169': ('427', 'barrel'),\n",
              " 'n02797295': ('428', 'barrow'),\n",
              " 'n02799071': ('429', 'baseball'),\n",
              " 'n02802426': ('430', 'basketball'),\n",
              " 'n02804414': ('431', 'bassinet'),\n",
              " 'n02804610': ('432', 'bassoon'),\n",
              " 'n02807133': ('433', 'bathing_cap'),\n",
              " 'n02808304': ('434', 'bath_towel'),\n",
              " 'n02808440': ('435', 'bathtub'),\n",
              " 'n02814533': ('436', 'beach_wagon'),\n",
              " 'n02814860': ('437', 'beacon'),\n",
              " 'n02815834': ('438', 'beaker'),\n",
              " 'n02817516': ('439', 'bearskin'),\n",
              " 'n02823428': ('440', 'beer_bottle'),\n",
              " 'n02823750': ('441', 'beer_glass'),\n",
              " 'n02825657': ('442', 'bell_cote'),\n",
              " 'n02834397': ('443', 'bib'),\n",
              " 'n02835271': ('444', 'bicycle-built-for-two'),\n",
              " 'n02837789': ('445', 'bikini'),\n",
              " 'n02840245': ('446', 'binder'),\n",
              " 'n02841315': ('447', 'binoculars'),\n",
              " 'n02843684': ('448', 'birdhouse'),\n",
              " 'n02859443': ('449', 'boathouse'),\n",
              " 'n02860847': ('450', 'bobsled'),\n",
              " 'n02865351': ('451', 'bolo_tie'),\n",
              " 'n02869837': ('452', 'bonnet'),\n",
              " 'n02870880': ('453', 'bookcase'),\n",
              " 'n02871525': ('454', 'bookshop'),\n",
              " 'n02877765': ('455', 'bottlecap'),\n",
              " 'n02879718': ('456', 'bow'),\n",
              " 'n02883205': ('457', 'bow_tie'),\n",
              " 'n02892201': ('458', 'brass'),\n",
              " 'n02892767': ('459', 'brassiere'),\n",
              " 'n02894605': ('460', 'breakwater'),\n",
              " 'n02895154': ('461', 'breastplate'),\n",
              " 'n02906734': ('462', 'broom'),\n",
              " 'n02909870': ('463', 'bucket'),\n",
              " 'n02910353': ('464', 'buckle'),\n",
              " 'n02916936': ('465', 'bulletproof_vest'),\n",
              " 'n02917067': ('466', 'bullet_train'),\n",
              " 'n02927161': ('467', 'butcher_shop'),\n",
              " 'n02930766': ('468', 'cab'),\n",
              " 'n02939185': ('469', 'caldron'),\n",
              " 'n02948072': ('470', 'candle'),\n",
              " 'n02950826': ('471', 'cannon'),\n",
              " 'n02951358': ('472', 'canoe'),\n",
              " 'n02951585': ('473', 'can_opener'),\n",
              " 'n02963159': ('474', 'cardigan'),\n",
              " 'n02965783': ('475', 'car_mirror'),\n",
              " 'n02966193': ('476', 'carousel'),\n",
              " 'n02966687': ('477', \"carpenter's_kit\"),\n",
              " 'n02971356': ('478', 'carton'),\n",
              " 'n02974003': ('479', 'car_wheel'),\n",
              " 'n02977058': ('480', 'cash_machine'),\n",
              " 'n02978881': ('481', 'cassette'),\n",
              " 'n02979186': ('482', 'cassette_player'),\n",
              " 'n02980441': ('483', 'castle'),\n",
              " 'n02981792': ('484', 'catamaran'),\n",
              " 'n02988304': ('485', 'CD_player'),\n",
              " 'n02992211': ('486', 'cello'),\n",
              " 'n02992529': ('487', 'cellular_telephone'),\n",
              " 'n02999410': ('488', 'chain'),\n",
              " 'n03000134': ('489', 'chainlink_fence'),\n",
              " 'n03000247': ('490', 'chain_mail'),\n",
              " 'n03000684': ('491', 'chain_saw'),\n",
              " 'n03014705': ('492', 'chest'),\n",
              " 'n03016953': ('493', 'chiffonier'),\n",
              " 'n03017168': ('494', 'chime'),\n",
              " 'n03018349': ('495', 'china_cabinet'),\n",
              " 'n03026506': ('496', 'Christmas_stocking'),\n",
              " 'n03028079': ('497', 'church'),\n",
              " 'n03032252': ('498', 'cinema'),\n",
              " 'n03041632': ('499', 'cleaver'),\n",
              " 'n03042490': ('500', 'cliff_dwelling'),\n",
              " 'n03045698': ('501', 'cloak'),\n",
              " 'n03047690': ('502', 'clog'),\n",
              " 'n03062245': ('503', 'cocktail_shaker'),\n",
              " 'n03063599': ('504', 'coffee_mug'),\n",
              " 'n03063689': ('505', 'coffeepot'),\n",
              " 'n03065424': ('506', 'coil'),\n",
              " 'n03075370': ('507', 'combination_lock'),\n",
              " 'n03085013': ('508', 'computer_keyboard'),\n",
              " 'n03089624': ('509', 'confectionery'),\n",
              " 'n03095699': ('510', 'container_ship'),\n",
              " 'n03100240': ('511', 'convertible'),\n",
              " 'n03109150': ('512', 'corkscrew'),\n",
              " 'n03110669': ('513', 'cornet'),\n",
              " 'n03124043': ('514', 'cowboy_boot'),\n",
              " 'n03124170': ('515', 'cowboy_hat'),\n",
              " 'n03125729': ('516', 'cradle'),\n",
              " 'n03126707': ('517', 'crane'),\n",
              " 'n03127747': ('518', 'crash_helmet'),\n",
              " 'n03127925': ('519', 'crate'),\n",
              " 'n03131574': ('520', 'crib'),\n",
              " 'n03133878': ('521', 'Crock_Pot'),\n",
              " 'n03134739': ('522', 'croquet_ball'),\n",
              " 'n03141823': ('523', 'crutch'),\n",
              " 'n03146219': ('524', 'cuirass'),\n",
              " 'n03160309': ('525', 'dam'),\n",
              " 'n03179701': ('526', 'desk'),\n",
              " 'n03180011': ('527', 'desktop_computer'),\n",
              " 'n03187595': ('528', 'dial_telephone'),\n",
              " 'n03188531': ('529', 'diaper'),\n",
              " 'n03196217': ('530', 'digital_clock'),\n",
              " 'n03197337': ('531', 'digital_watch'),\n",
              " 'n03201208': ('532', 'dining_table'),\n",
              " 'n03207743': ('533', 'dishrag'),\n",
              " 'n03207941': ('534', 'dishwasher'),\n",
              " 'n03208938': ('535', 'disk_brake'),\n",
              " 'n03216828': ('536', 'dock'),\n",
              " 'n03218198': ('537', 'dogsled'),\n",
              " 'n03220513': ('538', 'dome'),\n",
              " 'n03223299': ('539', 'doormat'),\n",
              " 'n03240683': ('540', 'drilling_platform'),\n",
              " 'n03249569': ('541', 'drum'),\n",
              " 'n03250847': ('542', 'drumstick'),\n",
              " 'n03255030': ('543', 'dumbbell'),\n",
              " 'n03259280': ('544', 'Dutch_oven'),\n",
              " 'n03271574': ('545', 'electric_fan'),\n",
              " 'n03272010': ('546', 'electric_guitar'),\n",
              " 'n03272562': ('547', 'electric_locomotive'),\n",
              " 'n03290653': ('548', 'entertainment_center'),\n",
              " 'n03291819': ('549', 'envelope'),\n",
              " 'n03297495': ('550', 'espresso_maker'),\n",
              " 'n03314780': ('551', 'face_powder'),\n",
              " 'n03325584': ('552', 'feather_boa'),\n",
              " 'n03337140': ('553', 'file'),\n",
              " 'n03344393': ('554', 'fireboat'),\n",
              " 'n03345487': ('555', 'fire_engine'),\n",
              " 'n03347037': ('556', 'fire_screen'),\n",
              " 'n03355925': ('557', 'flagpole'),\n",
              " 'n03372029': ('558', 'flute'),\n",
              " 'n03376595': ('559', 'folding_chair'),\n",
              " 'n03379051': ('560', 'football_helmet'),\n",
              " 'n03384352': ('561', 'forklift'),\n",
              " 'n03388043': ('562', 'fountain'),\n",
              " 'n03388183': ('563', 'fountain_pen'),\n",
              " 'n03388549': ('564', 'four-poster'),\n",
              " 'n03393912': ('565', 'freight_car'),\n",
              " 'n03394916': ('566', 'French_horn'),\n",
              " 'n03400231': ('567', 'frying_pan'),\n",
              " 'n03404251': ('568', 'fur_coat'),\n",
              " 'n03417042': ('569', 'garbage_truck'),\n",
              " 'n03424325': ('570', 'gasmask'),\n",
              " 'n03425413': ('571', 'gas_pump'),\n",
              " 'n03443371': ('572', 'goblet'),\n",
              " 'n03444034': ('573', 'go-kart'),\n",
              " 'n03445777': ('574', 'golf_ball'),\n",
              " 'n03445924': ('575', 'golfcart'),\n",
              " 'n03447447': ('576', 'gondola'),\n",
              " 'n03447721': ('577', 'gong'),\n",
              " 'n03450230': ('578', 'gown'),\n",
              " 'n03452741': ('579', 'grand_piano'),\n",
              " 'n03457902': ('580', 'greenhouse'),\n",
              " 'n03459775': ('581', 'grille'),\n",
              " 'n03461385': ('582', 'grocery_store'),\n",
              " 'n03467068': ('583', 'guillotine'),\n",
              " 'n03476684': ('584', 'hair_slide'),\n",
              " 'n03476991': ('585', 'hair_spray'),\n",
              " 'n03478589': ('586', 'half_track'),\n",
              " 'n03481172': ('587', 'hammer'),\n",
              " 'n03482405': ('588', 'hamper'),\n",
              " 'n03483316': ('589', 'hand_blower'),\n",
              " 'n03485407': ('590', 'hand-held_computer'),\n",
              " 'n03485794': ('591', 'handkerchief'),\n",
              " 'n03492542': ('592', 'hard_disc'),\n",
              " 'n03494278': ('593', 'harmonica'),\n",
              " 'n03495258': ('594', 'harp'),\n",
              " 'n03496892': ('595', 'harvester'),\n",
              " 'n03498962': ('596', 'hatchet'),\n",
              " 'n03527444': ('597', 'holster'),\n",
              " 'n03529860': ('598', 'home_theater'),\n",
              " 'n03530642': ('599', 'honeycomb'),\n",
              " 'n03532672': ('600', 'hook'),\n",
              " 'n03534580': ('601', 'hoopskirt'),\n",
              " 'n03535780': ('602', 'horizontal_bar'),\n",
              " 'n03538406': ('603', 'horse_cart'),\n",
              " 'n03544143': ('604', 'hourglass'),\n",
              " 'n03584254': ('605', 'iPod'),\n",
              " 'n03584829': ('606', 'iron'),\n",
              " 'n03590841': ('607', \"jack-o'-lantern\"),\n",
              " 'n03594734': ('608', 'jean'),\n",
              " 'n03594945': ('609', 'jeep'),\n",
              " 'n03595614': ('610', 'jersey'),\n",
              " 'n03598930': ('611', 'jigsaw_puzzle'),\n",
              " 'n03599486': ('612', 'jinrikisha'),\n",
              " 'n03602883': ('613', 'joystick'),\n",
              " 'n03617480': ('614', 'kimono'),\n",
              " 'n03623198': ('615', 'knee_pad'),\n",
              " 'n03627232': ('616', 'knot'),\n",
              " 'n03630383': ('617', 'lab_coat'),\n",
              " 'n03633091': ('618', 'ladle'),\n",
              " 'n03637318': ('619', 'lampshade'),\n",
              " 'n03642806': ('620', 'laptop'),\n",
              " 'n03649909': ('621', 'lawn_mower'),\n",
              " 'n03657121': ('622', 'lens_cap'),\n",
              " 'n03658185': ('623', 'letter_opener'),\n",
              " 'n03661043': ('624', 'library'),\n",
              " 'n03662601': ('625', 'lifeboat'),\n",
              " 'n03666591': ('626', 'lighter'),\n",
              " 'n03670208': ('627', 'limousine'),\n",
              " 'n03673027': ('628', 'liner'),\n",
              " 'n03676483': ('629', 'lipstick'),\n",
              " 'n03680355': ('630', 'Loafer'),\n",
              " 'n03690938': ('631', 'lotion'),\n",
              " 'n03691459': ('632', 'loudspeaker'),\n",
              " 'n03692522': ('633', 'loupe'),\n",
              " 'n03697007': ('634', 'lumbermill'),\n",
              " 'n03706229': ('635', 'magnetic_compass'),\n",
              " 'n03709823': ('636', 'mailbag'),\n",
              " 'n03710193': ('637', 'mailbox'),\n",
              " 'n03710637': ('638', 'maillot'),\n",
              " 'n03710721': ('639', 'maillot'),\n",
              " 'n03717622': ('640', 'manhole_cover'),\n",
              " 'n03720891': ('641', 'maraca'),\n",
              " 'n03721384': ('642', 'marimba'),\n",
              " 'n03724870': ('643', 'mask'),\n",
              " 'n03729826': ('644', 'matchstick'),\n",
              " 'n03733131': ('645', 'maypole'),\n",
              " 'n03733281': ('646', 'maze'),\n",
              " 'n03733805': ('647', 'measuring_cup'),\n",
              " 'n03742115': ('648', 'medicine_chest'),\n",
              " 'n03743016': ('649', 'megalith'),\n",
              " 'n03759954': ('650', 'microphone'),\n",
              " 'n03761084': ('651', 'microwave'),\n",
              " 'n03763968': ('652', 'military_uniform'),\n",
              " 'n03764736': ('653', 'milk_can'),\n",
              " 'n03769881': ('654', 'minibus'),\n",
              " 'n03770439': ('655', 'miniskirt'),\n",
              " 'n03770679': ('656', 'minivan'),\n",
              " 'n03773504': ('657', 'missile'),\n",
              " 'n03775071': ('658', 'mitten'),\n",
              " 'n03775546': ('659', 'mixing_bowl'),\n",
              " 'n03776460': ('660', 'mobile_home'),\n",
              " 'n03777568': ('661', 'Model_T'),\n",
              " 'n03777754': ('662', 'modem'),\n",
              " 'n03781244': ('663', 'monastery'),\n",
              " 'n03782006': ('664', 'monitor'),\n",
              " 'n03785016': ('665', 'moped'),\n",
              " 'n03786901': ('666', 'mortar'),\n",
              " 'n03787032': ('667', 'mortarboard'),\n",
              " 'n03788195': ('668', 'mosque'),\n",
              " 'n03788365': ('669', 'mosquito_net'),\n",
              " 'n03791053': ('670', 'motor_scooter'),\n",
              " 'n03792782': ('671', 'mountain_bike'),\n",
              " 'n03792972': ('672', 'mountain_tent'),\n",
              " 'n03793489': ('673', 'mouse'),\n",
              " 'n03794056': ('674', 'mousetrap'),\n",
              " 'n03796401': ('675', 'moving_van'),\n",
              " 'n03803284': ('676', 'muzzle'),\n",
              " 'n03804744': ('677', 'nail'),\n",
              " 'n03814639': ('678', 'neck_brace'),\n",
              " 'n03814906': ('679', 'necklace'),\n",
              " 'n03825788': ('680', 'nipple'),\n",
              " 'n03832673': ('681', 'notebook'),\n",
              " 'n03837869': ('682', 'obelisk'),\n",
              " 'n03838899': ('683', 'oboe'),\n",
              " 'n03840681': ('684', 'ocarina'),\n",
              " 'n03841143': ('685', 'odometer'),\n",
              " 'n03843555': ('686', 'oil_filter'),\n",
              " 'n03854065': ('687', 'organ'),\n",
              " 'n03857828': ('688', 'oscilloscope'),\n",
              " 'n03866082': ('689', 'overskirt'),\n",
              " 'n03868242': ('690', 'oxcart'),\n",
              " 'n03868863': ('691', 'oxygen_mask'),\n",
              " 'n03871628': ('692', 'packet'),\n",
              " 'n03873416': ('693', 'paddle'),\n",
              " 'n03874293': ('694', 'paddlewheel'),\n",
              " 'n03874599': ('695', 'padlock'),\n",
              " 'n03876231': ('696', 'paintbrush'),\n",
              " 'n03877472': ('697', 'pajama'),\n",
              " 'n03877845': ('698', 'palace'),\n",
              " 'n03884397': ('699', 'panpipe'),\n",
              " 'n03887697': ('700', 'paper_towel'),\n",
              " 'n03888257': ('701', 'parachute'),\n",
              " 'n03888605': ('702', 'parallel_bars'),\n",
              " 'n03891251': ('703', 'park_bench'),\n",
              " 'n03891332': ('704', 'parking_meter'),\n",
              " 'n03895866': ('705', 'passenger_car'),\n",
              " 'n03899768': ('706', 'patio'),\n",
              " 'n03902125': ('707', 'pay-phone'),\n",
              " 'n03903868': ('708', 'pedestal'),\n",
              " 'n03908618': ('709', 'pencil_box'),\n",
              " 'n03908714': ('710', 'pencil_sharpener'),\n",
              " 'n03916031': ('711', 'perfume'),\n",
              " 'n03920288': ('712', 'Petri_dish'),\n",
              " 'n03924679': ('713', 'photocopier'),\n",
              " 'n03929660': ('714', 'pick'),\n",
              " 'n03929855': ('715', 'pickelhaube'),\n",
              " 'n03930313': ('716', 'picket_fence'),\n",
              " 'n03930630': ('717', 'pickup'),\n",
              " 'n03933933': ('718', 'pier'),\n",
              " 'n03935335': ('719', 'piggy_bank'),\n",
              " 'n03937543': ('720', 'pill_bottle'),\n",
              " 'n03938244': ('721', 'pillow'),\n",
              " 'n03942813': ('722', 'ping-pong_ball'),\n",
              " 'n03944341': ('723', 'pinwheel'),\n",
              " 'n03947888': ('724', 'pirate'),\n",
              " 'n03950228': ('725', 'pitcher'),\n",
              " 'n03954731': ('726', 'plane'),\n",
              " 'n03956157': ('727', 'planetarium'),\n",
              " 'n03958227': ('728', 'plastic_bag'),\n",
              " 'n03961711': ('729', 'plate_rack'),\n",
              " 'n03967562': ('730', 'plow'),\n",
              " 'n03970156': ('731', 'plunger'),\n",
              " 'n03976467': ('732', 'Polaroid_camera'),\n",
              " 'n03976657': ('733', 'pole'),\n",
              " 'n03977966': ('734', 'police_van'),\n",
              " 'n03980874': ('735', 'poncho'),\n",
              " 'n03982430': ('736', 'pool_table'),\n",
              " 'n03983396': ('737', 'pop_bottle'),\n",
              " 'n03991062': ('738', 'pot'),\n",
              " 'n03992509': ('739', \"potter's_wheel\"),\n",
              " 'n03995372': ('740', 'power_drill'),\n",
              " 'n03998194': ('741', 'prayer_rug'),\n",
              " 'n04004767': ('742', 'printer'),\n",
              " 'n04005630': ('743', 'prison'),\n",
              " 'n04008634': ('744', 'projectile'),\n",
              " 'n04009552': ('745', 'projector'),\n",
              " 'n04019541': ('746', 'puck'),\n",
              " 'n04023962': ('747', 'punching_bag'),\n",
              " 'n04026417': ('748', 'purse'),\n",
              " 'n04033901': ('749', 'quill'),\n",
              " 'n04033995': ('750', 'quilt'),\n",
              " 'n04037443': ('751', 'racer'),\n",
              " 'n04039381': ('752', 'racket'),\n",
              " 'n04040759': ('753', 'radiator'),\n",
              " 'n04041544': ('754', 'radio'),\n",
              " 'n04044716': ('755', 'radio_telescope'),\n",
              " 'n04049303': ('756', 'rain_barrel'),\n",
              " 'n04065272': ('757', 'recreational_vehicle'),\n",
              " 'n04067472': ('758', 'reel'),\n",
              " 'n04069434': ('759', 'reflex_camera'),\n",
              " 'n04070727': ('760', 'refrigerator'),\n",
              " 'n04074963': ('761', 'remote_control'),\n",
              " 'n04081281': ('762', 'restaurant'),\n",
              " 'n04086273': ('763', 'revolver'),\n",
              " 'n04090263': ('764', 'rifle'),\n",
              " 'n04099969': ('765', 'rocking_chair'),\n",
              " 'n04111531': ('766', 'rotisserie'),\n",
              " 'n04116512': ('767', 'rubber_eraser'),\n",
              " 'n04118538': ('768', 'rugby_ball'),\n",
              " 'n04118776': ('769', 'rule'),\n",
              " 'n04120489': ('770', 'running_shoe'),\n",
              " 'n04125021': ('771', 'safe'),\n",
              " 'n04127249': ('772', 'safety_pin'),\n",
              " 'n04131690': ('773', 'saltshaker'),\n",
              " 'n04133789': ('774', 'sandal'),\n",
              " 'n04136333': ('775', 'sarong'),\n",
              " 'n04141076': ('776', 'sax'),\n",
              " 'n04141327': ('777', 'scabbard'),\n",
              " 'n04141975': ('778', 'scale'),\n",
              " 'n04146614': ('779', 'school_bus'),\n",
              " 'n04147183': ('780', 'schooner'),\n",
              " 'n04149813': ('781', 'scoreboard'),\n",
              " 'n04152593': ('782', 'screen'),\n",
              " 'n04153751': ('783', 'screw'),\n",
              " 'n04154565': ('784', 'screwdriver'),\n",
              " 'n04162706': ('785', 'seat_belt'),\n",
              " 'n04179913': ('786', 'sewing_machine'),\n",
              " 'n04192698': ('787', 'shield'),\n",
              " 'n04200800': ('788', 'shoe_shop'),\n",
              " 'n04201297': ('789', 'shoji'),\n",
              " 'n04204238': ('790', 'shopping_basket'),\n",
              " 'n04204347': ('791', 'shopping_cart'),\n",
              " 'n04208210': ('792', 'shovel'),\n",
              " 'n04209133': ('793', 'shower_cap'),\n",
              " 'n04209239': ('794', 'shower_curtain'),\n",
              " 'n04228054': ('795', 'ski'),\n",
              " 'n04229816': ('796', 'ski_mask'),\n",
              " 'n04235860': ('797', 'sleeping_bag'),\n",
              " 'n04238763': ('798', 'slide_rule'),\n",
              " 'n04239074': ('799', 'sliding_door'),\n",
              " 'n04243546': ('800', 'slot'),\n",
              " 'n04251144': ('801', 'snorkel'),\n",
              " 'n04252077': ('802', 'snowmobile'),\n",
              " 'n04252225': ('803', 'snowplow'),\n",
              " 'n04254120': ('804', 'soap_dispenser'),\n",
              " 'n04254680': ('805', 'soccer_ball'),\n",
              " 'n04254777': ('806', 'sock'),\n",
              " 'n04258138': ('807', 'solar_dish'),\n",
              " 'n04259630': ('808', 'sombrero'),\n",
              " 'n04263257': ('809', 'soup_bowl'),\n",
              " 'n04264628': ('810', 'space_bar'),\n",
              " 'n04265275': ('811', 'space_heater'),\n",
              " 'n04266014': ('812', 'space_shuttle'),\n",
              " 'n04270147': ('813', 'spatula'),\n",
              " 'n04273569': ('814', 'speedboat'),\n",
              " 'n04275548': ('815', 'spider_web'),\n",
              " 'n04277352': ('816', 'spindle'),\n",
              " 'n04285008': ('817', 'sports_car'),\n",
              " 'n04286575': ('818', 'spotlight'),\n",
              " 'n04296562': ('819', 'stage'),\n",
              " 'n04310018': ('820', 'steam_locomotive'),\n",
              " 'n04311004': ('821', 'steel_arch_bridge'),\n",
              " 'n04311174': ('822', 'steel_drum'),\n",
              " 'n04317175': ('823', 'stethoscope'),\n",
              " 'n04325704': ('824', 'stole'),\n",
              " 'n04326547': ('825', 'stone_wall'),\n",
              " 'n04328186': ('826', 'stopwatch'),\n",
              " 'n04330267': ('827', 'stove'),\n",
              " 'n04332243': ('828', 'strainer'),\n",
              " 'n04335435': ('829', 'streetcar'),\n",
              " 'n04336792': ('830', 'stretcher'),\n",
              " 'n04344873': ('831', 'studio_couch'),\n",
              " 'n04346328': ('832', 'stupa'),\n",
              " 'n04347754': ('833', 'submarine'),\n",
              " 'n04350905': ('834', 'suit'),\n",
              " 'n04355338': ('835', 'sundial'),\n",
              " 'n04355933': ('836', 'sunglass'),\n",
              " 'n04356056': ('837', 'sunglasses'),\n",
              " 'n04357314': ('838', 'sunscreen'),\n",
              " 'n04366367': ('839', 'suspension_bridge'),\n",
              " 'n04367480': ('840', 'swab'),\n",
              " 'n04370456': ('841', 'sweatshirt'),\n",
              " 'n04371430': ('842', 'swimming_trunks'),\n",
              " 'n04371774': ('843', 'swing'),\n",
              " 'n04372370': ('844', 'switch'),\n",
              " 'n04376876': ('845', 'syringe'),\n",
              " 'n04380533': ('846', 'table_lamp'),\n",
              " 'n04389033': ('847', 'tank'),\n",
              " 'n04392985': ('848', 'tape_player'),\n",
              " 'n04398044': ('849', 'teapot'),\n",
              " 'n04399382': ('850', 'teddy'),\n",
              " 'n04404412': ('851', 'television'),\n",
              " 'n04409515': ('852', 'tennis_ball'),\n",
              " 'n04417672': ('853', 'thatch'),\n",
              " 'n04418357': ('854', 'theater_curtain'),\n",
              " 'n04423845': ('855', 'thimble'),\n",
              " 'n04428191': ('856', 'thresher'),\n",
              " 'n04429376': ('857', 'throne'),\n",
              " 'n04435653': ('858', 'tile_roof'),\n",
              " 'n04442312': ('859', 'toaster'),\n",
              " 'n04443257': ('860', 'tobacco_shop'),\n",
              " 'n04447861': ('861', 'toilet_seat'),\n",
              " 'n04456115': ('862', 'torch'),\n",
              " 'n04458633': ('863', 'totem_pole'),\n",
              " 'n04461696': ('864', 'tow_truck'),\n",
              " 'n04462240': ('865', 'toyshop'),\n",
              " 'n04465501': ('866', 'tractor'),\n",
              " 'n04467665': ('867', 'trailer_truck'),\n",
              " 'n04476259': ('868', 'tray'),\n",
              " 'n04479046': ('869', 'trench_coat'),\n",
              " 'n04482393': ('870', 'tricycle'),\n",
              " 'n04483307': ('871', 'trimaran'),\n",
              " 'n04485082': ('872', 'tripod'),\n",
              " 'n04486054': ('873', 'triumphal_arch'),\n",
              " 'n04487081': ('874', 'trolleybus'),\n",
              " 'n04487394': ('875', 'trombone'),\n",
              " 'n04493381': ('876', 'tub'),\n",
              " 'n04501370': ('877', 'turnstile'),\n",
              " 'n04505470': ('878', 'typewriter_keyboard'),\n",
              " 'n04507155': ('879', 'umbrella'),\n",
              " 'n04509417': ('880', 'unicycle'),\n",
              " 'n04515003': ('881', 'upright'),\n",
              " 'n04517823': ('882', 'vacuum'),\n",
              " 'n04522168': ('883', 'vase'),\n",
              " 'n04523525': ('884', 'vault'),\n",
              " 'n04525038': ('885', 'velvet'),\n",
              " 'n04525305': ('886', 'vending_machine'),\n",
              " 'n04532106': ('887', 'vestment'),\n",
              " 'n04532670': ('888', 'viaduct'),\n",
              " 'n04536866': ('889', 'violin'),\n",
              " 'n04540053': ('890', 'volleyball'),\n",
              " 'n04542943': ('891', 'waffle_iron'),\n",
              " 'n04548280': ('892', 'wall_clock'),\n",
              " 'n04548362': ('893', 'wallet'),\n",
              " 'n04550184': ('894', 'wardrobe'),\n",
              " 'n04552348': ('895', 'warplane'),\n",
              " 'n04553703': ('896', 'washbasin'),\n",
              " 'n04554684': ('897', 'washer'),\n",
              " 'n04557648': ('898', 'water_bottle'),\n",
              " 'n04560804': ('899', 'water_jug'),\n",
              " 'n04562935': ('900', 'water_tower'),\n",
              " 'n04579145': ('901', 'whiskey_jug'),\n",
              " 'n04579432': ('902', 'whistle'),\n",
              " 'n04584207': ('903', 'wig'),\n",
              " 'n04589890': ('904', 'window_screen'),\n",
              " 'n04590129': ('905', 'window_shade'),\n",
              " 'n04591157': ('906', 'Windsor_tie'),\n",
              " 'n04591713': ('907', 'wine_bottle'),\n",
              " 'n04592741': ('908', 'wing'),\n",
              " 'n04596742': ('909', 'wok'),\n",
              " 'n04597913': ('910', 'wooden_spoon'),\n",
              " 'n04599235': ('911', 'wool'),\n",
              " 'n04604644': ('912', 'worm_fence'),\n",
              " 'n04606251': ('913', 'wreck'),\n",
              " 'n04612504': ('914', 'yawl'),\n",
              " 'n04613696': ('915', 'yurt'),\n",
              " 'n06359193': ('916', 'web_site'),\n",
              " 'n06596364': ('917', 'comic_book'),\n",
              " 'n06785654': ('918', 'crossword_puzzle'),\n",
              " 'n06794110': ('919', 'street_sign'),\n",
              " 'n06874185': ('920', 'traffic_light'),\n",
              " 'n07248320': ('921', 'book_jacket'),\n",
              " 'n07565083': ('922', 'menu'),\n",
              " 'n07579787': ('923', 'plate'),\n",
              " 'n07583066': ('924', 'guacamole'),\n",
              " 'n07584110': ('925', 'consomme'),\n",
              " 'n07590611': ('926', 'hot_pot'),\n",
              " 'n07613480': ('927', 'trifle'),\n",
              " 'n07614500': ('928', 'ice_cream'),\n",
              " 'n07615774': ('929', 'ice_lolly'),\n",
              " 'n07684084': ('930', 'French_loaf'),\n",
              " 'n07693725': ('931', 'bagel'),\n",
              " 'n07695742': ('932', 'pretzel'),\n",
              " 'n07697313': ('933', 'cheeseburger'),\n",
              " 'n07697537': ('934', 'hotdog'),\n",
              " 'n07711569': ('935', 'mashed_potato'),\n",
              " 'n07714571': ('936', 'head_cabbage'),\n",
              " 'n07714990': ('937', 'broccoli'),\n",
              " 'n07715103': ('938', 'cauliflower'),\n",
              " 'n07716358': ('939', 'zucchini'),\n",
              " 'n07716906': ('940', 'spaghetti_squash'),\n",
              " 'n07717410': ('941', 'acorn_squash'),\n",
              " 'n07717556': ('942', 'butternut_squash'),\n",
              " 'n07718472': ('943', 'cucumber'),\n",
              " 'n07718747': ('944', 'artichoke'),\n",
              " 'n07720875': ('945', 'bell_pepper'),\n",
              " 'n07730033': ('946', 'cardoon'),\n",
              " 'n07734744': ('947', 'mushroom'),\n",
              " 'n07742313': ('948', 'Granny_Smith'),\n",
              " 'n07745940': ('949', 'strawberry'),\n",
              " 'n07747607': ('950', 'orange'),\n",
              " 'n07749582': ('951', 'lemon'),\n",
              " 'n07753113': ('952', 'fig'),\n",
              " 'n07753275': ('953', 'pineapple'),\n",
              " 'n07753592': ('954', 'banana'),\n",
              " 'n07754684': ('955', 'jackfruit'),\n",
              " 'n07760859': ('956', 'custard_apple'),\n",
              " 'n07768694': ('957', 'pomegranate'),\n",
              " 'n07802026': ('958', 'hay'),\n",
              " 'n07831146': ('959', 'carbonara'),\n",
              " 'n07836838': ('960', 'chocolate_sauce'),\n",
              " 'n07860988': ('961', 'dough'),\n",
              " 'n07871810': ('962', 'meat_loaf'),\n",
              " 'n07873807': ('963', 'pizza'),\n",
              " 'n07875152': ('964', 'potpie'),\n",
              " 'n07880968': ('965', 'burrito'),\n",
              " 'n07892512': ('966', 'red_wine'),\n",
              " 'n07920052': ('967', 'espresso'),\n",
              " 'n07930864': ('968', 'cup'),\n",
              " 'n07932039': ('969', 'eggnog'),\n",
              " 'n09193705': ('970', 'alp'),\n",
              " 'n09229709': ('971', 'bubble'),\n",
              " 'n09246464': ('972', 'cliff'),\n",
              " 'n09256479': ('973', 'coral_reef'),\n",
              " 'n09288635': ('974', 'geyser'),\n",
              " 'n09332890': ('975', 'lakeside'),\n",
              " 'n09399592': ('976', 'promontory'),\n",
              " 'n09421951': ('977', 'sandbar'),\n",
              " 'n09428293': ('978', 'seashore'),\n",
              " 'n09468604': ('979', 'valley'),\n",
              " 'n09472597': ('980', 'volcano'),\n",
              " 'n09835506': ('981', 'ballplayer'),\n",
              " 'n10148035': ('982', 'groom'),\n",
              " 'n10565667': ('983', 'scuba_diver'),\n",
              " 'n11879895': ('984', 'rapeseed'),\n",
              " 'n11939491': ('985', 'daisy'),\n",
              " 'n12057211': ('986', \"yellow_lady's_slipper\"),\n",
              " 'n12144580': ('987', 'corn'),\n",
              " 'n12267677': ('988', 'acorn'),\n",
              " 'n12620546': ('989', 'hip'),\n",
              " 'n12768682': ('990', 'buckeye'),\n",
              " 'n12985857': ('991', 'coral_fungus'),\n",
              " 'n12998815': ('992', 'agaric'),\n",
              " 'n13037406': ('993', 'gyromitra'),\n",
              " 'n13040303': ('994', 'stinkhorn'),\n",
              " 'n13044778': ('995', 'earthstar'),\n",
              " 'n13052670': ('996', 'hen-of-the-woods'),\n",
              " 'n13054560': ('997', 'bolete'),\n",
              " 'n13133613': ('998', 'ear'),\n",
              " 'n15075141': ('999', 'toilet_tissue')}"
            ]
          },
          "metadata": {
            "tags": []
          },
          "execution_count": 16
        }
      ]
    },
    {
      "cell_type": "code",
      "metadata": {
        "id": "LkuKAW9c9DDA",
        "colab": {
          "base_uri": "https://localhost:8080/"
        },
        "outputId": "26e9d109-4761-4424-b9ea-bcffe2fa9202"
      },
      "source": [
        "class_ids = dm.get_class_names()\n",
        "tfds_id2real_id_map = {k: int(class2id_dict[class_ids[k]][0]) for k in range(len(class_ids))}\n",
        "tfds_id2real_id_map"
      ],
      "execution_count": null,
      "outputs": [
        {
          "output_type": "execute_result",
          "data": {
            "text/plain": [
              "{0: 111,\n",
              " 1: 121,\n",
              " 2: 207,\n",
              " 3: 249,\n",
              " 4: 251,\n",
              " 5: 275,\n",
              " 6: 291,\n",
              " 7: 310,\n",
              " 8: 359,\n",
              " 9: 454,\n",
              " 10: 519,\n",
              " 11: 524,\n",
              " 12: 546,\n",
              " 13: 604,\n",
              " 14: 659,\n",
              " 15: 779,\n",
              " 16: 781,\n",
              " 17: 854,\n",
              " 18: 883,\n",
              " 19: 927}"
            ]
          },
          "metadata": {
            "tags": []
          },
          "execution_count": 17
        }
      ]
    },
    {
      "cell_type": "code",
      "metadata": {
        "id": "W5YCkTjtaXtJ",
        "colab": {
          "base_uri": "https://localhost:8080/"
        },
        "outputId": "ba933f9f-c6e9-4962-cac1-931d1dd5a73f"
      },
      "source": [
        "class_ids"
      ],
      "execution_count": null,
      "outputs": [
        {
          "output_type": "execute_result",
          "data": {
            "text/plain": [
              "['n01930112',\n",
              " 'n01981276',\n",
              " 'n02099601',\n",
              " 'n02110063',\n",
              " 'n02110341',\n",
              " 'n02116738',\n",
              " 'n02129165',\n",
              " 'n02219486',\n",
              " 'n02443484',\n",
              " 'n02871525',\n",
              " 'n03127925',\n",
              " 'n03146219',\n",
              " 'n03272010',\n",
              " 'n03544143',\n",
              " 'n03775546',\n",
              " 'n04146614',\n",
              " 'n04149813',\n",
              " 'n04418357',\n",
              " 'n04522168',\n",
              " 'n07613480']"
            ]
          },
          "metadata": {
            "tags": []
          },
          "execution_count": 18
        }
      ]
    },
    {
      "cell_type": "code",
      "metadata": {
        "id": "JvbxOolqNvOh",
        "colab": {
          "base_uri": "https://localhost:8080/"
        },
        "outputId": "1c49f1ee-bdb4-4f82-9cda-d8906b1d80ff"
      },
      "source": [
        "class_names = [imagenet_classes[int(class2id_dict[x][0])] for x in class_ids]\n",
        "class_names"
      ],
      "execution_count": null,
      "outputs": [
        {
          "output_type": "execute_result",
          "data": {
            "text/plain": [
              "['nematode',\n",
              " 'red king crab',\n",
              " 'Golden Retriever',\n",
              " 'Alaskan Malamute',\n",
              " 'Dalmatian',\n",
              " 'African wild dog',\n",
              " 'lion',\n",
              " 'ant',\n",
              " 'black-footed ferret',\n",
              " 'bookstore',\n",
              " 'crate',\n",
              " 'cuirass',\n",
              " 'electric guitar',\n",
              " 'hourglass',\n",
              " 'mixing bowl',\n",
              " 'school bus',\n",
              " 'scoreboard',\n",
              " 'front curtain',\n",
              " 'vase',\n",
              " 'trifle']"
            ]
          },
          "metadata": {
            "tags": []
          },
          "execution_count": 19
        }
      ]
    },
    {
      "cell_type": "markdown",
      "metadata": {
        "id": "iLbRqaYxzbr7"
      },
      "source": [
        "# Create label dictionary"
      ]
    },
    {
      "cell_type": "code",
      "metadata": {
        "id": "Emz85fNX0Vif",
        "colab": {
          "base_uri": "https://localhost:8080/"
        },
        "outputId": "2747c847-be2a-49ca-fae8-426e00576de3"
      },
      "source": [
        "unique_labels = np.unique(test_labels)\n",
        "print(len(unique_labels))"
      ],
      "execution_count": null,
      "outputs": [
        {
          "output_type": "stream",
          "text": [
            "20\n"
          ],
          "name": "stdout"
        }
      ]
    },
    {
      "cell_type": "code",
      "metadata": {
        "id": "0TubS-RLzeVM"
      },
      "source": [
        "label_dictionary = {la:[] for la in unique_labels}\n",
        "\n",
        "for i in range(len(test_labels)):\n",
        "    la = test_labels[i]\n",
        "\n",
        "    label_dictionary[la].append(i)"
      ],
      "execution_count": null,
      "outputs": []
    },
    {
      "cell_type": "markdown",
      "metadata": {
        "id": "xP6ftkDCvKul"
      },
      "source": [
        "# CLIP zero shot eval"
      ]
    },
    {
      "cell_type": "markdown",
      "metadata": {
        "id": "fJIGo_R86GQi"
      },
      "source": [
        "## Function definitions"
      ]
    },
    {
      "cell_type": "code",
      "metadata": {
        "id": "pv68q8TH6tvG"
      },
      "source": [
        "def start_progress_bar(bar_len):\n",
        "    widgets = [\n",
        "        ' [', \n",
        "        progressbar.Timer(format= 'elapsed time: %(elapsed)s'), \n",
        "        '] ', \n",
        "        progressbar.Bar('*'),' (', \n",
        "        progressbar.ETA(), ') ', \n",
        "        ]\n",
        "    pbar = progressbar.ProgressBar(\n",
        "        max_value=bar_len, widgets=widgets\n",
        "        ).start()\n",
        "\n",
        "    return pbar"
      ],
      "execution_count": null,
      "outputs": []
    },
    {
      "cell_type": "code",
      "metadata": {
        "id": "DtoopzLRStTO"
      },
      "source": [
        "def prepare_indices(\n",
        "    num_ways,\n",
        "    num_shot,\n",
        "    num_eval,\n",
        "    num_episodes,\n",
        "    label_dictionary,\n",
        "    labels,\n",
        "    shuffle=False\n",
        "):\n",
        "    eval_indices = []\n",
        "    train_indices = []\n",
        "    wi_y = []\n",
        "    eval_y = []\n",
        "\n",
        "    label_dictionary = {la:label_dictionary[la] for la in label_dictionary if len(label_dictionary[la]) >= (num_shot+num_eval)}\n",
        "    unique_labels = list(label_dictionary.keys())\n",
        "\n",
        "    pbar = start_progress_bar(num_episodes)\n",
        "\n",
        "    for s in range(num_episodes):\n",
        "        # Setting random seed for replicability\n",
        "        np.random.seed(s)\n",
        "\n",
        "        _train_indices = []\n",
        "        _eval_indices = []\n",
        "\n",
        "        selected_labels = np.random.choice(unique_labels, size=num_ways, replace=False)\n",
        "        for la in selected_labels:\n",
        "            la_indices = label_dictionary[la]\n",
        "            select = np.random.choice(la_indices, size = num_shot+num_eval, replace=False)\n",
        "            tr_idx = list(select[:num_shot])\n",
        "            ev_idx = list(select[num_shot:])\n",
        "\n",
        "            _train_indices = _train_indices + tr_idx\n",
        "            _eval_indices = _eval_indices + ev_idx\n",
        "\n",
        "        if shuffle:\n",
        "            np.random.shuffle(_train_indices)\n",
        "            np.random.shuffle(_eval_indices)\n",
        "\n",
        "        train_indices.append(_train_indices)\n",
        "        eval_indices.append(_eval_indices)\n",
        "\n",
        "        _wi_y = test_labels[_train_indices]\n",
        "        _eval_y = test_labels[_eval_indices]\n",
        "\n",
        "        wi_y.append(_wi_y)\n",
        "        eval_y.append(_eval_y)\n",
        "\n",
        "        pbar.update(s+1)\n",
        "        \n",
        "    return train_indices, eval_indices, wi_y, eval_y"
      ],
      "execution_count": null,
      "outputs": []
    },
    {
      "cell_type": "code",
      "metadata": {
        "id": "4M5aHABX7k8a"
      },
      "source": [
        "def embed_images(\n",
        "    embedding_model, \n",
        "    train_indices, \n",
        "    num_augmentations,\n",
        "    trivial=False\n",
        "    ):\n",
        "\n",
        "    def augment_image(image, num_augmentations, trivial):\n",
        "        \"\"\" Perform SimCLR augmentations on the image\n",
        "        \"\"\"\n",
        "\n",
        "        if np.max(image) > 1:\n",
        "            image = image/255\n",
        "\n",
        "        augmented_images = [image]\n",
        "\n",
        "        # augmentations = iaa.Sequential([\n",
        "        #     iaa.Affine(\n",
        "        #         translate_percent={'x':(-0.1, 0.1), 'y':(-0.1, 0.1)}, \n",
        "        #         rotate=(-15, 15),\n",
        "        #         shear=(-15, 15),\n",
        "        #     ),\n",
        "        #     iaa.Fliplr(0.5) \n",
        "        # ])\n",
        "\n",
        "        def _run_filters(image):\n",
        "            width = image.shape[1]\n",
        "            height = image.shape[0]\n",
        "            image_aug = simclr_data_augmentations.random_crop_with_resize(\n",
        "                image,\n",
        "                height,\n",
        "                width\n",
        "                )\n",
        "            image_aug = tf.image.random_flip_left_right(image_aug)\n",
        "            image_aug = simclr_data_augmentations.random_color_jitter(image_aug)\n",
        "            image_aug = simclr_data_augmentations.random_blur(\n",
        "                image_aug,\n",
        "                height,\n",
        "                width\n",
        "                )\n",
        "            image_aug = tf.reshape(image_aug, [image.shape[0], image.shape[1], 3])\n",
        "            image_aug = tf.clip_by_value(image_aug, 0., 1.)\n",
        "\n",
        "            return image_aug.numpy()\n",
        "\n",
        "        for _ in range(num_augmentations):\n",
        "            # aug_image = augmentations(image=image)\n",
        "\n",
        "            if trivial:\n",
        "                aug_image = image\n",
        "            else:\n",
        "                aug_image = _run_filters(image)\n",
        "            augmented_images.append(aug_image)\n",
        "\n",
        "        augmented_images = np.stack(augmented_images)\n",
        "        return augmented_images\n",
        "\n",
        "    embedding_model.load_model()\n",
        "\n",
        "    unique_indices = np.unique(np.array(train_indices))\n",
        "\n",
        "    ds = dm.load_dataset('mini_imagenet', split='test')\n",
        "    embeddings = []\n",
        "    IMAGE_IDX = 0\n",
        "    pbar = start_progress_bar(unique_indices.size+1)\n",
        "    num_done=0\n",
        "    for idx, item in enumerate(ds):\n",
        "        if idx in unique_indices:\n",
        "            image = item[IMAGE_IDX][0]\n",
        "            if num_augmentations > 0:\n",
        "                aug_images = augment_image(image, num_augmentations, trivial)\n",
        "            else:\n",
        "                aug_images = image\n",
        "            \n",
        "            processed_images = embedding_model.preprocess_data(aug_images)\n",
        "            embedding = embedding_model.embed_images(processed_images)\n",
        "            embeddings.append(embedding)\n",
        "            \n",
        "            num_done += 1\n",
        "            pbar.update(num_done+1)\n",
        "\n",
        "    embeddings = np.stack(embeddings)\n",
        "\n",
        "    return unique_indices, embeddings"
      ],
      "execution_count": null,
      "outputs": []
    },
    {
      "cell_type": "code",
      "metadata": {
        "id": "tyW-G0AD5_rn"
      },
      "source": [
        "def evaluate_model_for_episode(\n",
        "    model,\n",
        "    eval_x,\n",
        "    eval_y,\n",
        "    label_mapping,\n",
        "    filtered_classes,\n",
        "    metrics=['hamming', 'jaccard', 'subset_accuracy', 'ap', 'map', 'c_f1', 'o_f1', 'c_precision', 'o_precision', 'c_recall', 'o_recall', 'top1_accuracy', 'top5_accuracy', 'classwise_accuracy', 'c_accuracy'],\n",
        "    multi_label=True\n",
        "):\n",
        "    zs_weights = model.zeroshot_classifier(filtered_classes)\n",
        "    logits = model.predict_scores(eval_x, zs_weights).tolist()\n",
        "    \n",
        "    pred_y = model.predict_label(eval_x, zs_weights)\n",
        "    pred_y = [label_mapping[l] for l in pred_y]\n",
        "\n",
        "    met = model.evaluate_single_label_metrics(\n",
        "            eval_x, eval_y, label_mapping, zs_weights, metrics\n",
        "            )\n",
        "\n",
        "    return pred_y, met, logits"
      ],
      "execution_count": null,
      "outputs": []
    },
    {
      "cell_type": "code",
      "metadata": {
        "id": "l2cWOf7SQF66"
      },
      "source": [
        "def get_label_mapping_n_class_names(eval_y, class_names):\n",
        "  label_mapping = {}\n",
        "  unique_labels = np.unique(eval_y)\n",
        "  filtered_classes = [class_names[x] for x in unique_labels]\n",
        "\n",
        "  num_classes = len(unique_labels)\n",
        "  for c in range(num_classes):\n",
        "    label_mapping[c] = unique_labels[c]\n",
        "\n",
        "  return label_mapping, filtered_classes"
      ],
      "execution_count": null,
      "outputs": []
    },
    {
      "cell_type": "code",
      "metadata": {
        "id": "-H9Kex59foo1"
      },
      "source": [
        "# chenni change\n",
        "def run_episode_through_model(\n",
        "    indices_and_embeddings,\n",
        "    train_indices, \n",
        "    eval_indices, \n",
        "    wi_y, \n",
        "    eval_y,\n",
        "    class_names,\n",
        "    num_augmentations=0,\n",
        "    train_epochs=None,\n",
        "    train_batch_size=5,\n",
        "    metrics=['hamming', 'jaccard', 'subset_accuracy', 'ap', 'map', 'c_f1', 'o_f1', 'c_precision', 'o_precision', 'c_recall', 'o_recall', 'top1_accuracy', 'top5_accuracy', 'classwise_accuracy', 'c_accuracy'],\n",
        "    embeddings=None,\n",
        "    multi_label=True\n",
        "):\n",
        "    metrics_values = {m:[] for m in metrics}\n",
        "    indices_and_embeddings\n",
        "    eval_x = embeddings[eval_indices]\n",
        "    ep_logits = []\n",
        "    \n",
        "    label_mapping, filtered_classes = get_label_mapping_n_class_names(eval_y, class_names)\n",
        "\n",
        "    clip_fs_parameters = {\n",
        "        \"num_classes\": num_ways,\n",
        "        \"input_dims\": eval_x.shape[-1],\n",
        "        \"multi_label\": multi_label\n",
        "    }\n",
        "\n",
        "    clip_fs_cls = CLIPFewShotClassifier(clip_fs_parameters)\n",
        "    \n",
        "    pred_labels, metrics_values, logits = evaluate_model_for_episode(\n",
        "            clip_fs_cls,\n",
        "            eval_x,\n",
        "            eval_y,\n",
        "            label_mapping,\n",
        "            filtered_classes,\n",
        "            metrics=metrics,\n",
        "            multi_label=False\n",
        "    )\n",
        "    ep_logits = logits\n",
        "#cc\n",
        "    return metrics_values, ep_logits"
      ],
      "execution_count": null,
      "outputs": []
    },
    {
      "cell_type": "code",
      "metadata": {
        "id": "mUpPZ6ti6IEp"
      },
      "source": [
        "def run_evaluations(\n",
        "    indices_and_embeddings,\n",
        "    train_indices, \n",
        "    eval_indices, \n",
        "    wi_y, \n",
        "    eval_y, \n",
        "    num_episodes, \n",
        "    num_ways,\n",
        "    class_names,\n",
        "    verbose=True,\n",
        "    normalize=True,\n",
        "    train_epochs=None,\n",
        "    train_batch_size=5,\n",
        "    metrics=['accuracy', 'ap', 'map', 'c_f1', 'o_f1', 'c_precision', 'o_precision', 'c_recall', 'o_recall', 'top1_accuracy', 'top5_accuracy', 'classwise_accuracy', 'c_accuracy'],\n",
        "    embeddings=None,\n",
        "    num_augmentations=0,\n",
        "    multi_label=True\n",
        "):\n",
        "    metrics_values = {m:[] for m in metrics}\n",
        "\n",
        "    all_logits = []\n",
        "\n",
        "    if verbose:\n",
        "        pbar = start_progress_bar(num_episodes)\n",
        "\n",
        "    for idx_ep in range(num_episodes):\n",
        "        _train_indices = train_indices[idx_ep]\n",
        "        _eval_indices = eval_indices[idx_ep]\n",
        "        _wi_y = [label for label in wi_y[idx_ep]]\n",
        "        _eval_y = [label for label in eval_y[idx_ep]]\n",
        "\n",
        "        met, ep_logits = run_episode_through_model(\n",
        "            indices_and_embeddings,\n",
        "            _train_indices, \n",
        "            _eval_indices, \n",
        "            _wi_y, \n",
        "            _eval_y,\n",
        "            class_names,\n",
        "            num_augmentations=num_augmentations,\n",
        "            train_epochs=train_epochs,\n",
        "            train_batch_size=train_batch_size,\n",
        "            embeddings=embeddings,\n",
        "            metrics=metrics,\n",
        "            multi_label=multi_label\n",
        "        )\n",
        "\n",
        "        all_logits.append(ep_logits)\n",
        "\n",
        "        for m in metrics:\n",
        "            metrics_values[m].append(met[m])\n",
        "\n",
        "        if verbose:\n",
        "            pbar.update(idx_ep+1)\n",
        "\n",
        "    return metrics_values, all_logits"
      ],
      "execution_count": null,
      "outputs": []
    },
    {
      "cell_type": "code",
      "metadata": {
        "id": "pVO25nDT88qK"
      },
      "source": [
        "def get_best_metric(mt, metric_name, optimal='max'):\n",
        "    if optimal=='max':\n",
        "        opt_value = np.max(np.mean(np.array(mt[metric_name]), axis=0))\n",
        "    if optimal=='min':\n",
        "        opt_value = np.min(np.mean(np.array(mt[metric_name]), axis=0))\n",
        "\n",
        "    return opt_value"
      ],
      "execution_count": null,
      "outputs": []
    },
    {
      "cell_type": "markdown",
      "metadata": {
        "id": "g8CNr6I4rU5d"
      },
      "source": [
        "# 5 way 5 shot"
      ]
    },
    {
      "cell_type": "markdown",
      "metadata": {
        "id": "g73bz0lqrU5e"
      },
      "source": [
        "## Picking indices"
      ]
    },
    {
      "cell_type": "code",
      "metadata": {
        "id": "Fm6j-e0brU5f",
        "colab": {
          "base_uri": "https://localhost:8080/"
        },
        "outputId": "14c742b4-ee5a-482a-a9d8-eb913d3144ba"
      },
      "source": [
        "num_ways = 5\n",
        "num_shot = 5\n",
        "num_eval = 15\n",
        "shuffle = False\n",
        "num_episodes = 100\n",
        "\n",
        "train_indices, eval_indices, wi_y, eval_y = prepare_indices(\n",
        "    num_ways, num_shot, num_eval, num_episodes, label_dictionary, test_labels, shuffle\n",
        ")"
      ],
      "execution_count": null,
      "outputs": [
        {
          "output_type": "stream",
          "text": [
            " [elapsed time: 0:00:00] |*************************         | (ETA:   0:00:00) "
          ],
          "name": "stderr"
        }
      ]
    },
    {
      "cell_type": "code",
      "metadata": {
        "id": "X5Ov81G5BUJe",
        "colab": {
          "base_uri": "https://localhost:8080/"
        },
        "outputId": "1df951ee-403a-4b77-fdd2-c5c87c548352"
      },
      "source": [
        "embedding_model = embedding_models.CLIPEmbeddingWrapper()\n",
        "num_augmentations = 0\n",
        "trivial=False\n",
        "\n",
        "indices, embeddings = embed_images(\n",
        "    embedding_model, \n",
        "    train_indices, \n",
        "    num_augmentations,\n",
        "    trivial=trivial\n",
        "    )"
      ],
      "execution_count": null,
      "outputs": [
        {
          "output_type": "stream",
          "text": [
            "100%|███████████████████████████████████████| 354M/354M [00:05<00:00, 65.5MiB/s]\n",
            " [elapsed time: 0:00:00] |                                  | (ETA:  --:--:--) "
          ],
          "name": "stderr"
        },
        {
          "output_type": "stream",
          "text": [
            "Found 12000 files belonging to 20 classes.\n"
          ],
          "name": "stdout"
        },
        {
          "output_type": "stream",
          "text": [
            " [elapsed time: 0:00:52] |**********************************| (ETA:  00:00:00) "
          ],
          "name": "stderr"
        }
      ]
    },
    {
      "cell_type": "markdown",
      "metadata": {
        "id": "lLW-8vrbrU5f"
      },
      "source": [
        "## CLIP"
      ]
    },
    {
      "cell_type": "code",
      "metadata": {
        "id": "ghmre8xB5Tft",
        "colab": {
          "base_uri": "https://localhost:8080/"
        },
        "outputId": "be9ab83a-be79-4172-aed3-48263f60f705"
      },
      "source": [
        "clip_embeddings_test_fn = \"clip\" + test_embeddings_filename_suffix\n",
        "clip_embeddings_test = get_ndarray_from_drive(drive, folderid, clip_embeddings_test_fn)"
      ],
      "execution_count": null,
      "outputs": [
        {
          "output_type": "stream",
          "text": [
            "Downloading clip_embeddings_test.npz from GDrive\n"
          ],
          "name": "stdout"
        }
      ]
    },
    {
      "cell_type": "code",
      "metadata": {
        "id": "XGTJsU6yN0S0",
        "colab": {
          "base_uri": "https://localhost:8080/"
        },
        "outputId": "fd09980c-6775-4f73-f9a2-bca66a484652"
      },
      "source": [
        "import warnings\n",
        "\n",
        "warnings.filterwarnings('ignore')\n",
        "\n",
        "if trivial:\n",
        "  #cc\n",
        "    results_filename = \"new_metrics\"+dataset_name+\"_0t\"+str(num_ways)+\"w\"+str(num_shot)+\"s\"+str(num_augmentations)+\"a_trivial_clip_zs_metrics_with_logits.json\"\n",
        "else:\n",
        "  #cc\n",
        "    results_filename = \"new_metrics\"+dataset_name+\"_0t\"+str(num_ways)+\"w\"+str(num_shot)+\"s\"+str(num_augmentations)+\"a_clip_zs_metrics_with_logits.json\"\n",
        "\n",
        "auth.authenticate_user()\n",
        "gauth = GoogleAuth()\n",
        "gauth.credentials = GoogleCredentials.get_application_default()\n",
        "drive = GoogleDrive(gauth)\n",
        "download_file_by_name(drive, folderid, results_filename)\n",
        "if results_filename in os.listdir():\n",
        "    with open(results_filename, 'r') as f:\n",
        "      #cc\n",
        "        json_loaded = json.load(f)\n",
        "        #cc\n",
        "        clip_metrics_over_train_epochs = json_loaded['metrics']\n",
        "        #cc\n",
        "        logits_over_train_epochs = json_loaded[\"logits\"]\n",
        "else:\n",
        "    clip_metrics_over_train_epochs = []  \n",
        "    logits_over_train_epochs = []   \n",
        "\n",
        "train_epochs_arr = [0]\n",
        "multi_label=False\n",
        "# metrics_vals = ['hamming', 'jaccard', 'f1_score'] # ['accuracy', 'f1_score']\n",
        "\n",
        "for idx, train_epochs in enumerate(train_epochs_arr):\n",
        "    if idx < len(clip_metrics_over_train_epochs):\n",
        "        continue\n",
        "    print(train_epochs)\n",
        "    #cc\n",
        "    clip_metrics_thresholds, all_logits = run_evaluations(\n",
        "        (indices, embeddings),\n",
        "        train_indices,\n",
        "        eval_indices,\n",
        "        wi_y,\n",
        "        eval_y,\n",
        "        num_episodes,\n",
        "        num_ways,\n",
        "        class_names,\n",
        "        train_epochs=train_epochs,\n",
        "        num_augmentations=num_augmentations,\n",
        "        embeddings=clip_embeddings_test\n",
        "    )\n",
        "    clip_metrics_over_train_epochs.append(clip_metrics_thresholds)\n",
        "    #cc\n",
        "    logits_over_train_epochs.append(all_logits)\n",
        "\n",
        "#cc\n",
        "    fin_list = []\n",
        "    #cc the whole for loop\n",
        "    for a1 in wi_y:\n",
        "      fin_a1_list = []\n",
        "      for a2 in a1:\n",
        "        new_val = str(a2)\n",
        "        fin_a1_list.append(new_val)\n",
        "      fin_list.append(fin_a1_list)\n",
        "\n",
        "    with open(results_filename, 'w') as f:\n",
        "      #cc\n",
        "        results = {'metrics': clip_metrics_over_train_epochs,\n",
        "                   \"logits\": logits_over_train_epochs,\n",
        "                   \"true_labels\": fin_list}\n",
        "        json.dump(results, f)\n",
        "    auth.authenticate_user()\n",
        "    gauth = GoogleAuth()\n",
        "    gauth.credentials = GoogleCredentials.get_application_default()\n",
        "    drive = GoogleDrive(gauth)\n",
        "    #delete_file_by_name(drive, folderid, results_filename)\n",
        "    #save_to_drive(drive, folderid, results_filename)"
      ],
      "execution_count": null,
      "outputs": [
        {
          "output_type": "stream",
          "text": [
            "\r                                                                               \r\r [elapsed time: 0:00:00] |                                  | (ETA:  --:--:--) "
          ],
          "name": "stderr"
        },
        {
          "output_type": "stream",
          "text": [
            "0\n"
          ],
          "name": "stdout"
        },
        {
          "output_type": "stream",
          "text": [
            " [elapsed time: 0:10:16] |**********************************| (ETA:  00:00:00) "
          ],
          "name": "stderr"
        }
      ]
    },
    {
      "cell_type": "code",
      "metadata": {
        "id": "V8uyo_T8rU5h"
      },
      "source": [
        "if trivial:\n",
        "    PLOT_DIR = \"NewMetrics_clip_zs_Sigmoid_MiniImagenet\" + \"_0t\" + str(num_ways) + \"w\" + str(num_shot) + \"s\" + str(num_augmentations) + \"a_trivial_plots\"\n",
        "else:\n",
        "    PLOT_DIR = \"NewMetrics_clip_zs_Sigmoid_MiniImagenet\" + \"_0t\" + str(num_ways) + \"w\" + str(num_shot) + \"s\" + str(num_augmentations) + \"a_plots\"\n",
        "os.mkdir(PLOT_DIR)"
      ],
      "execution_count": null,
      "outputs": []
    },
    {
      "cell_type": "code",
      "metadata": {
        "id": "QTID6tl2rFhn",
        "colab": {
          "base_uri": "https://localhost:8080/"
        },
        "outputId": "e0b36ca5-ca3a-4288-f976-aeb6e3b87536"
      },
      "source": [
        "# chenni change whole block\n",
        "all_metrics = ['accuracy', 'ap', 'map', 'c_f1', 'o_f1', 'c_precision', 'o_precision', 'c_recall', 'o_recall', 'top1_accuracy', 'top5_accuracy', 'classwise_accuracy', 'c_accuracy']\n",
        "\n",
        "final_dict = {}\n",
        "for ind_metric in all_metrics:\n",
        "  vals = []\n",
        "  final_array = []\n",
        "  for mt in clip_metrics_over_train_epochs:\n",
        "      ret_val = get_best_metric(mt,ind_metric,\"max\")\n",
        "      vals.append(ret_val)\n",
        "\n",
        "  final_array.append(vals)\n",
        "  final_dict[ind_metric] = final_array\n",
        "\n",
        "if trivial:\n",
        "    graph_filename = \"new_metrics\"+dataset_name+\"_0t\"+str(num_ways)+\"w\"+str(num_shot)+\"s\"+str(num_augmentations)+\"a_trivial_clip_zs_metrics_graphs.json\"\n",
        "else:\n",
        "    graph_filename = \"new_metrics\"+dataset_name+\"_0t\"+str(num_ways)+\"w\"+str(num_shot)+\"s\"+str(num_augmentations)+\"a_clip_zs_metrics_graphs.json\"\n",
        "\n",
        "with open(graph_filename, 'w') as f:\n",
        "        json.dump(final_dict, f)\n",
        "\n",
        "auth.authenticate_user()\n",
        "gauth = GoogleAuth()\n",
        "gauth.credentials = GoogleCredentials.get_application_default()\n",
        "drive = GoogleDrive(gauth)\n",
        "delete_file_by_name(drive, folderid, graph_filename)\n",
        "save_to_drive(drive, folderid, graph_filename)"
      ],
      "execution_count": null,
      "outputs": [
        {
          "output_type": "stream",
          "text": [
            "Uploaded new_metricsMiniImagenet_0t5w5s0a_clip_zs_metrics_graphs.json to https://drive.google.com/drive/u/1/folders/1oXR6SbK6rQeP1steSaQnCwh4cLgKjccs\n"
          ],
          "name": "stdout"
        }
      ]
    },
    {
      "cell_type": "code",
      "metadata": {
        "id": "FRc9bHsURFDX",
        "colab": {
          "base_uri": "https://localhost:8080/"
        },
        "outputId": "338e918f-87e4-440f-ebff-29e94e5245d0"
      },
      "source": [
        "zip_dirname = PLOT_DIR + \".zip\"\n",
        "zip_source = PLOT_DIR\n",
        "! zip -r $zip_dirname $zip_source\n",
        "\n",
        "auth.authenticate_user()\n",
        "gauth = GoogleAuth()\n",
        "gauth.credentials = GoogleCredentials.get_application_default()\n",
        "drive = GoogleDrive(gauth)\n",
        "save_to_drive(drive, folderid, zip_dirname)"
      ],
      "execution_count": null,
      "outputs": [
        {
          "output_type": "stream",
          "text": [
            "  adding: NewMetrics_clip_zs_Sigmoid_MiniImagenet5w5s0a_plots/ (stored 0%)\n",
            "Uploaded NewMetrics_clip_zs_Sigmoid_MiniImagenet5w5s0a_plots.zip to https://drive.google.com/drive/u/1/folders/1oXR6SbK6rQeP1steSaQnCwh4cLgKjccs\n"
          ],
          "name": "stdout"
        }
      ]
    },
    {
      "cell_type": "markdown",
      "metadata": {
        "id": "vrit1GAzrU5u"
      },
      "source": [
        "# 20 way 5 shot"
      ]
    },
    {
      "cell_type": "markdown",
      "metadata": {
        "id": "B5G7GsGDrU5u"
      },
      "source": [
        "## Picking indices"
      ]
    },
    {
      "cell_type": "code",
      "metadata": {
        "colab": {
          "base_uri": "https://localhost:8080/"
        },
        "id": "yvDuWsZerU5u",
        "outputId": "761271a0-d28a-4e8f-8f03-445f8915f3f3"
      },
      "source": [
        "num_ways = 20\n",
        "num_shot = 5\n",
        "num_eval = 5\n",
        "shuffle = False\n",
        "num_episodes = 100\n",
        "\n",
        "train_indices, eval_indices, wi_y, eval_y = prepare_indices(\n",
        "    num_ways, num_shot, num_eval, num_episodes, label_dictionary, test_labels, shuffle\n",
        ")"
      ],
      "execution_count": null,
      "outputs": [
        {
          "output_type": "stream",
          "text": [
            " [elapsed time: 0:00:00] |****************************      | (ETA:   0:00:00) "
          ],
          "name": "stderr"
        }
      ]
    },
    {
      "cell_type": "code",
      "metadata": {
        "id": "eLK5V-xFE6V9",
        "colab": {
          "base_uri": "https://localhost:8080/"
        },
        "outputId": "9c556496-eda0-41eb-9a3d-9e4859c09b2b"
      },
      "source": [
        "embedding_model = embedding_models.CLIPEmbeddingWrapper()\n",
        "num_augmentations = 0\n",
        "trivial=False\n",
        "\n",
        "indices, embeddings = embed_images(\n",
        "    embedding_model, \n",
        "    train_indices, \n",
        "    num_augmentations,\n",
        "    trivial=trivial\n",
        "    )"
      ],
      "execution_count": null,
      "outputs": [
        {
          "output_type": "stream",
          "text": [
            "\r                                                                               \r\r [elapsed time: 0:00:00] |                                  | (ETA:  --:--:--) "
          ],
          "name": "stderr"
        },
        {
          "output_type": "stream",
          "text": [
            "Found 12000 files belonging to 20 classes.\n"
          ],
          "name": "stdout"
        },
        {
          "output_type": "stream",
          "text": [
            " [elapsed time: 0:02:54] |********************************* | (ETA:   0:00:00) "
          ],
          "name": "stderr"
        }
      ]
    },
    {
      "cell_type": "markdown",
      "metadata": {
        "id": "YnvVBO2brU5u"
      },
      "source": [
        "## CLIP"
      ]
    },
    {
      "cell_type": "code",
      "metadata": {
        "colab": {
          "base_uri": "https://localhost:8080/"
        },
        "id": "EHwC6CiqrU5u",
        "outputId": "4163bf1e-93e5-452f-f027-259078e653e3"
      },
      "source": [
        "clip_embeddings_test_fn = \"clip\" + test_embeddings_filename_suffix\n",
        "clip_embeddings_test = get_ndarray_from_drive(drive, folderid, clip_embeddings_test_fn)"
      ],
      "execution_count": null,
      "outputs": [
        {
          "output_type": "stream",
          "text": [
            "Downloading clip_embeddings_test.npz from GDrive\n"
          ],
          "name": "stdout"
        }
      ]
    },
    {
      "cell_type": "code",
      "metadata": {
        "id": "BHkvWSCtFJnO",
        "colab": {
          "base_uri": "https://localhost:8080/"
        },
        "outputId": "bac316ab-2f5f-4474-9085-4eb2e4c25cf9"
      },
      "source": [
        "import warnings\n",
        "\n",
        "warnings.filterwarnings('ignore')\n",
        "\n",
        "if trivial:\n",
        "  #cc\n",
        "    results_filename = \"new_metrics\"+dataset_name+\"_0t\"+str(num_ways)+\"w\"+str(num_shot)+\"s\"+str(num_augmentations)+\"a_trivial_clip_zs_metrics_with_logits.json\"\n",
        "else:\n",
        "  #cc\n",
        "    results_filename = \"new_metrics\"+dataset_name+\"_0t\"+str(num_ways)+\"w\"+str(num_shot)+\"s\"+str(num_augmentations)+\"a_metrics_clip_zs_with_logits.json\"\n",
        "\n",
        "auth.authenticate_user()\n",
        "gauth = GoogleAuth()\n",
        "gauth.credentials = GoogleCredentials.get_application_default()\n",
        "drive = GoogleDrive(gauth)\n",
        "download_file_by_name(drive, folderid, results_filename)\n",
        "if results_filename in os.listdir():\n",
        "    with open(results_filename, 'r') as f:\n",
        "      #cc\n",
        "        json_loaded = json.load(f)\n",
        "        #cc\n",
        "        clip_metrics_over_train_epochs = json_loaded['metrics']\n",
        "        #cc\n",
        "        logits_over_train_epochs = json_loaded[\"logits\"]\n",
        "else:\n",
        "    clip_metrics_over_train_epochs = []  \n",
        "    #cc  \n",
        "    logits_over_train_epochs = []   \n",
        "\n",
        "train_epochs_arr = [0]\n",
        "multi_label=False\n",
        "# metrics_vals = ['hamming', 'jaccard', 'f1_score'] # ['accuracy', 'f1_score']\n",
        "\n",
        "for idx, train_epochs in enumerate(train_epochs_arr):\n",
        "    if idx < len(clip_metrics_over_train_epochs):\n",
        "        continue\n",
        "    print(train_epochs)\n",
        "    #cc\n",
        "    clip_metrics_thresholds, all_logits = run_evaluations(\n",
        "        (indices, embeddings),\n",
        "        train_indices,\n",
        "        eval_indices,\n",
        "        wi_y,\n",
        "        eval_y,\n",
        "        num_episodes,\n",
        "        num_ways,\n",
        "        class_names,\n",
        "        train_epochs=train_epochs,\n",
        "        num_augmentations=num_augmentations,\n",
        "        embeddings=clip_embeddings_test\n",
        "    )\n",
        "    clip_metrics_over_train_epochs.append(clip_metrics_thresholds)\n",
        "    #cc\n",
        "    logits_over_train_epochs.append(all_logits)\n",
        "\n",
        "#cc\n",
        "    fin_list = []\n",
        "    #cc the whole for loop\n",
        "    for a1 in wi_y:\n",
        "      fin_a1_list = []\n",
        "      for a2 in a1:\n",
        "        new_val = str(a2)\n",
        "        fin_a1_list.append(new_val)\n",
        "      fin_list.append(fin_a1_list)\n",
        "\n",
        "    with open(results_filename, 'w') as f:\n",
        "      #cc\n",
        "        results = {'metrics': clip_metrics_over_train_epochs,\n",
        "                   \"logits\": logits_over_train_epochs,\n",
        "                   \"true_labels\": fin_list}\n",
        "        json.dump(results, f)\n",
        "    auth.authenticate_user()\n",
        "    gauth = GoogleAuth()\n",
        "    gauth.credentials = GoogleCredentials.get_application_default()\n",
        "    drive = GoogleDrive(gauth)\n",
        "    delete_file_by_name(drive, folderid, results_filename)\n",
        "    save_to_drive(drive, folderid, results_filename)"
      ],
      "execution_count": null,
      "outputs": [
        {
          "output_type": "stream",
          "text": [
            "\r                                                                               \r\r [elapsed time: 0:00:00] |                                  | (ETA:  --:--:--) "
          ],
          "name": "stderr"
        },
        {
          "output_type": "stream",
          "text": [
            "0\n"
          ],
          "name": "stdout"
        },
        {
          "output_type": "stream",
          "text": [
            " [elapsed time: 0:10:35] |**********************************| (ETA:  00:00:00) "
          ],
          "name": "stderr"
        },
        {
          "output_type": "stream",
          "text": [
            "Uploaded new_metricsMiniImagenet_0t20w5s0a_metrics_clip_zs_with_logits.json to https://drive.google.com/drive/u/1/folders/1oXR6SbK6rQeP1steSaQnCwh4cLgKjccs\n"
          ],
          "name": "stdout"
        }
      ]
    },
    {
      "cell_type": "code",
      "metadata": {
        "id": "w7-911OnFJnP"
      },
      "source": [
        "if trivial:\n",
        "    PLOT_DIR = \"NewMetrics_clip_zs_Sigmoid_MiniImagenet\" + \"_0t\" + str(num_ways) + \"w\" + str(num_shot) + \"s\" + str(num_augmentations) + \"a_trivial_plots\"\n",
        "else:\n",
        "    PLOT_DIR = \"NewMetrics_clip_zs_Sigmoid_MiniImagenet\" + \"_0t\" + str(num_ways) + \"w\" + str(num_shot) + \"s\" + str(num_augmentations) + \"a_plots\"\n",
        "os.mkdir(PLOT_DIR)"
      ],
      "execution_count": null,
      "outputs": []
    },
    {
      "cell_type": "code",
      "metadata": {
        "id": "8Sht4dvfFJnP",
        "colab": {
          "base_uri": "https://localhost:8080/"
        },
        "outputId": "1475b981-46c1-4833-b19e-a7d83d0fdb7e"
      },
      "source": [
        "all_metrics = ['accuracy', 'ap', 'map', 'c_f1', 'o_f1', 'c_precision', 'o_precision', 'c_recall', 'o_recall', 'top1_accuracy', 'top5_accuracy', 'classwise_accuracy', 'c_accuracy']\n",
        "\n",
        "final_dict = {}\n",
        "for ind_metric in all_metrics:\n",
        "  vals = []\n",
        "  final_array = []\n",
        "  for mt in clip_metrics_over_train_epochs:\n",
        "      ret_val = get_best_metric(mt,ind_metric,\"max\")\n",
        "      vals.append(ret_val)\n",
        "\n",
        "  final_array.append(vals)\n",
        "  final_dict[ind_metric] = final_array\n",
        "\n",
        "if trivial:\n",
        "    graph_filename = \"new_metrics\"+dataset_name+\"_0t\"+str(num_ways)+\"w\"+str(num_shot)+\"s\"+str(num_augmentations)+\"a_trivial_clip_zs_metrics_graphs.json\"\n",
        "else:\n",
        "    graph_filename = \"new_metrics\"+dataset_name+\"_0t\"+str(num_ways)+\"w\"+str(num_shot)+\"s\"+str(num_augmentations)+\"a_clip_zs_metrics_graphs.json\"\n",
        "\n",
        "with open(graph_filename, 'w') as f:\n",
        "        json.dump(final_dict, f)\n",
        "\n",
        "auth.authenticate_user()\n",
        "gauth = GoogleAuth()\n",
        "gauth.credentials = GoogleCredentials.get_application_default()\n",
        "drive = GoogleDrive(gauth)\n",
        "delete_file_by_name(drive, folderid, graph_filename)\n",
        "save_to_drive(drive, folderid, graph_filename)"
      ],
      "execution_count": null,
      "outputs": [
        {
          "output_type": "stream",
          "text": [
            "Uploaded new_metricsMiniImagenet_0t20w5s0a_clip_zs_metrics_graphs.json to https://drive.google.com/drive/u/1/folders/1oXR6SbK6rQeP1steSaQnCwh4cLgKjccs\n"
          ],
          "name": "stdout"
        }
      ]
    },
    {
      "cell_type": "code",
      "metadata": {
        "id": "EWMwEGMLFJnQ",
        "colab": {
          "base_uri": "https://localhost:8080/"
        },
        "outputId": "b932dbb9-0d9a-46f1-b30d-359236aca0ec"
      },
      "source": [
        "zip_dirname = PLOT_DIR + \".zip\"\n",
        "zip_source = PLOT_DIR\n",
        "! zip -r $zip_dirname $zip_source\n",
        "\n",
        "auth.authenticate_user()\n",
        "gauth = GoogleAuth()\n",
        "gauth.credentials = GoogleCredentials.get_application_default()\n",
        "drive = GoogleDrive(gauth)\n",
        "save_to_drive(drive, folderid, zip_dirname)"
      ],
      "execution_count": null,
      "outputs": [
        {
          "output_type": "stream",
          "text": [
            "  adding: NewMetrics_clip_zs_Sigmoid_MiniImagenet20w5s0a_plots/ (stored 0%)\n",
            "Uploaded NewMetrics_clip_zs_Sigmoid_MiniImagenet20w5s0a_plots.zip to https://drive.google.com/drive/u/1/folders/1oXR6SbK6rQeP1steSaQnCwh4cLgKjccs\n"
          ],
          "name": "stdout"
        }
      ]
    },
    {
      "cell_type": "markdown",
      "metadata": {
        "id": "RlIMyHeVfFEE"
      },
      "source": [
        "# 5 way 1 shot"
      ]
    },
    {
      "cell_type": "markdown",
      "metadata": {
        "id": "7HPn06QE39N8"
      },
      "source": [
        "## Picking indices"
      ]
    },
    {
      "cell_type": "code",
      "metadata": {
        "colab": {
          "base_uri": "https://localhost:8080/"
        },
        "id": "jup3-49v_iuU",
        "outputId": "9faf374f-ba3c-4a44-aff7-85b1755fc1d9"
      },
      "source": [
        "num_ways = 5\n",
        "num_shot = 1\n",
        "num_eval = 19\n",
        "shuffle = False\n",
        "num_episodes = 100\n",
        "\n",
        "train_indices, eval_indices, wi_y, eval_y = prepare_indices(\n",
        "    num_ways, num_shot, num_eval, num_episodes, label_dictionary, test_labels, shuffle\n",
        ")"
      ],
      "execution_count": null,
      "outputs": [
        {
          "output_type": "stream",
          "text": [
            "\r                                                                               \r\r [elapsed time: 0:00:00] |                                  | (ETA:  --:--:--) "
          ],
          "name": "stderr"
        }
      ]
    },
    {
      "cell_type": "code",
      "metadata": {
        "id": "1GTEuYo1Fo27",
        "colab": {
          "base_uri": "https://localhost:8080/"
        },
        "outputId": "5b740f54-0a62-49c5-d502-88512df5193e"
      },
      "source": [
        "embedding_model = embedding_models.CLIPEmbeddingWrapper()\n",
        "num_augmentations = 0\n",
        "trivial=False\n",
        "\n",
        "indices, embeddings = embed_images(\n",
        "    embedding_model, \n",
        "    train_indices, \n",
        "    num_augmentations,\n",
        "    trivial=trivial\n",
        "    )"
      ],
      "execution_count": null,
      "outputs": [
        {
          "output_type": "stream",
          "text": [
            "\r                                                                               \r\r [elapsed time: 0:00:00] |                                  | (ETA:  --:--:--) "
          ],
          "name": "stderr"
        },
        {
          "output_type": "stream",
          "text": [
            "Found 12000 files belonging to 20 classes.\n"
          ],
          "name": "stdout"
        },
        {
          "output_type": "stream",
          "text": [
            " [elapsed time: 0:01:14] |**********************************| (ETA:  00:00:00) "
          ],
          "name": "stderr"
        }
      ]
    },
    {
      "cell_type": "markdown",
      "metadata": {
        "id": "M9dYlVFDF_vs"
      },
      "source": [
        "## CLIP"
      ]
    },
    {
      "cell_type": "code",
      "metadata": {
        "colab": {
          "base_uri": "https://localhost:8080/"
        },
        "id": "2y6RpvnEF_vs",
        "outputId": "718af104-750d-42b8-ea79-91d1a2017b5a"
      },
      "source": [
        "clip_embeddings_test_fn = \"clip\" + test_embeddings_filename_suffix\n",
        "clip_embeddings_test = get_ndarray_from_drive(drive, folderid, clip_embeddings_test_fn)"
      ],
      "execution_count": null,
      "outputs": [
        {
          "output_type": "stream",
          "text": [
            "Downloading clip_embeddings_test.npz from GDrive\n"
          ],
          "name": "stdout"
        }
      ]
    },
    {
      "cell_type": "code",
      "metadata": {
        "id": "z6CQnw11FTIx",
        "colab": {
          "base_uri": "https://localhost:8080/"
        },
        "outputId": "c1feac05-4d79-4fc7-a0b9-0c500d7dee18"
      },
      "source": [
        "import warnings\n",
        "\n",
        "warnings.filterwarnings('ignore')\n",
        "\n",
        "if trivial:\n",
        "  #cc\n",
        "    results_filename = \"new_metrics\"+dataset_name+\"_0t\"+str(num_ways)+\"w\"+str(num_shot)+\"s\"+str(num_augmentations)+\"a_trivial_clip_zs_metrics_with_logits.json\"\n",
        "else:\n",
        "  #cc\n",
        "    results_filename = \"new_metrics\"+dataset_name+\"_0t\"+str(num_ways)+\"w\"+str(num_shot)+\"s\"+str(num_augmentations)+\"a_clip_zs_metrics_with_logits.json\"\n",
        "\n",
        "auth.authenticate_user()\n",
        "gauth = GoogleAuth()\n",
        "gauth.credentials = GoogleCredentials.get_application_default()\n",
        "drive = GoogleDrive(gauth)\n",
        "download_file_by_name(drive, folderid, results_filename)\n",
        "if results_filename in os.listdir():\n",
        "    with open(results_filename, 'r') as f:\n",
        "      #cc\n",
        "        json_loaded = json.load(f)\n",
        "        #cc\n",
        "        clip_metrics_over_train_epochs = json_loaded['metrics']\n",
        "        #cc\n",
        "        logits_over_train_epochs = json_loaded[\"logits\"]\n",
        "else:\n",
        "    clip_metrics_over_train_epochs = []  \n",
        "    #cc  \n",
        "    logits_over_train_epochs = []   \n",
        "\n",
        "train_epochs_arr = [0]\n",
        "multi_label=False\n",
        "# metrics_vals = ['hamming', 'jaccard', 'f1_score'] # ['accuracy', 'f1_score']\n",
        "\n",
        "for idx, train_epochs in enumerate(train_epochs_arr):\n",
        "    if idx < len(clip_metrics_over_train_epochs):\n",
        "        continue\n",
        "    print(train_epochs)\n",
        "    #cc\n",
        "    clip_metrics_thresholds, all_logits = run_evaluations(\n",
        "        (indices, embeddings),\n",
        "        train_indices,\n",
        "        eval_indices,\n",
        "        wi_y,\n",
        "        eval_y,\n",
        "        num_episodes,\n",
        "        num_ways,\n",
        "        class_names,\n",
        "        train_epochs=train_epochs,\n",
        "        num_augmentations=num_augmentations,\n",
        "        embeddings=clip_embeddings_test\n",
        "    )\n",
        "    clip_metrics_over_train_epochs.append(clip_metrics_thresholds)\n",
        "    #cc\n",
        "    logits_over_train_epochs.append(all_logits)\n",
        "\n",
        "#cc\n",
        "    fin_list = []\n",
        "    #cc the whole for loop\n",
        "    for a1 in wi_y:\n",
        "      fin_a1_list = []\n",
        "      for a2 in a1:\n",
        "        new_val = str(a2)\n",
        "        fin_a1_list.append(new_val)\n",
        "      fin_list.append(fin_a1_list)\n",
        "\n",
        "    with open(results_filename, 'w') as f:\n",
        "      #cc\n",
        "        results = {'metrics': clip_metrics_over_train_epochs,\n",
        "                   \"logits\": logits_over_train_epochs,\n",
        "                   \"true_labels\": fin_list}\n",
        "        json.dump(results, f)\n",
        "    auth.authenticate_user()\n",
        "    gauth = GoogleAuth()\n",
        "    gauth.credentials = GoogleCredentials.get_application_default()\n",
        "    drive = GoogleDrive(gauth)\n",
        "    delete_file_by_name(drive, folderid, results_filename)\n",
        "    save_to_drive(drive, folderid, results_filename)"
      ],
      "execution_count": null,
      "outputs": [
        {
          "output_type": "stream",
          "text": [
            "\r                                                                               \r\r [elapsed time: 0:00:00] |                                  | (ETA:  --:--:--) "
          ],
          "name": "stderr"
        },
        {
          "output_type": "stream",
          "text": [
            "0\n"
          ],
          "name": "stdout"
        },
        {
          "output_type": "stream",
          "text": [
            " [elapsed time: 0:10:26] |**********************************| (ETA:  00:00:00) "
          ],
          "name": "stderr"
        },
        {
          "output_type": "stream",
          "text": [
            "Uploaded new_metricsMiniImagenet_0t5w1s0a_clip_zs_metrics_with_logits.json to https://drive.google.com/drive/u/1/folders/1oXR6SbK6rQeP1steSaQnCwh4cLgKjccs\n"
          ],
          "name": "stdout"
        }
      ]
    },
    {
      "cell_type": "code",
      "metadata": {
        "id": "qGo3102kFTIy"
      },
      "source": [
        "if trivial:\n",
        "    PLOT_DIR = \"NewMetrics_clip_zs_Sigmoid_MiniImagenet\" + \"_0t\" + str(num_ways) + \"w\" + str(num_shot) + \"s\" + str(num_augmentations) + \"a_trivial_plots\"\n",
        "else:\n",
        "    PLOT_DIR = \"NewMetrics_clip_zs_Sigmoid_MiniImagenet\" + \"_0t\" + str(num_ways) + \"w\" + str(num_shot) + \"s\" + str(num_augmentations) + \"a_plots\"\n",
        "os.mkdir(PLOT_DIR)"
      ],
      "execution_count": null,
      "outputs": []
    },
    {
      "cell_type": "code",
      "metadata": {
        "id": "2bOX_AWEFTIz",
        "colab": {
          "base_uri": "https://localhost:8080/"
        },
        "outputId": "ce6099f3-5c07-4a23-b56e-ac93789bebfe"
      },
      "source": [
        "all_metrics = ['accuracy', 'ap', 'map', 'c_f1', 'o_f1', 'c_precision', 'o_precision', 'c_recall', 'o_recall', 'top1_accuracy', 'top5_accuracy', 'classwise_accuracy', 'c_accuracy']\n",
        "\n",
        "final_dict = {}\n",
        "for ind_metric in all_metrics:\n",
        "  vals = []\n",
        "  final_array = []\n",
        "  for mt in clip_metrics_over_train_epochs:\n",
        "      ret_val = get_best_metric(mt,ind_metric,\"max\")\n",
        "      vals.append(ret_val)\n",
        "\n",
        "  final_array.append(vals)\n",
        "  final_dict[ind_metric] = final_array\n",
        "\n",
        "if trivial:\n",
        "    graph_filename = \"new_metrics\"+dataset_name+\"_0t\"+str(num_ways)+\"w\"+str(num_shot)+\"s\"+str(num_augmentations)+\"a_trivial_clip_zs_metrics_graphs.json\"\n",
        "else:\n",
        "    graph_filename = \"new_metrics\"+dataset_name+\"_0t\"+str(num_ways)+\"w\"+str(num_shot)+\"s\"+str(num_augmentations)+\"a_clip_zs_metrics_graphs.json\"\n",
        "\n",
        "with open(graph_filename, 'w') as f:\n",
        "        json.dump(final_dict, f)\n",
        "\n",
        "auth.authenticate_user()\n",
        "gauth = GoogleAuth()\n",
        "gauth.credentials = GoogleCredentials.get_application_default()\n",
        "drive = GoogleDrive(gauth)\n",
        "delete_file_by_name(drive, folderid, graph_filename)\n",
        "save_to_drive(drive, folderid, graph_filename)"
      ],
      "execution_count": null,
      "outputs": [
        {
          "output_type": "stream",
          "text": [
            "Uploaded new_metricsMiniImagenet_0t5w1s0a_clip_zs_metrics_graphs.json to https://drive.google.com/drive/u/1/folders/1oXR6SbK6rQeP1steSaQnCwh4cLgKjccs\n"
          ],
          "name": "stdout"
        }
      ]
    },
    {
      "cell_type": "code",
      "metadata": {
        "id": "XZjpIIX6FTIz",
        "colab": {
          "base_uri": "https://localhost:8080/"
        },
        "outputId": "399e3122-c3d3-485c-ab67-ec606d50765c"
      },
      "source": [
        "zip_dirname = PLOT_DIR + \".zip\"\n",
        "zip_source = PLOT_DIR\n",
        "! zip -r $zip_dirname $zip_source\n",
        "\n",
        "auth.authenticate_user()\n",
        "gauth = GoogleAuth()\n",
        "gauth.credentials = GoogleCredentials.get_application_default()\n",
        "drive = GoogleDrive(gauth)\n",
        "save_to_drive(drive, folderid, zip_dirname)"
      ],
      "execution_count": null,
      "outputs": [
        {
          "output_type": "stream",
          "text": [
            "  adding: NewMetrics_clip_zs_Sigmoid_MiniImagenet5w1s0a_plots/ (stored 0%)\n",
            "Uploaded NewMetrics_clip_zs_Sigmoid_MiniImagenet5w1s0a_plots.zip to https://drive.google.com/drive/u/1/folders/1oXR6SbK6rQeP1steSaQnCwh4cLgKjccs\n"
          ],
          "name": "stdout"
        }
      ]
    },
    {
      "cell_type": "markdown",
      "metadata": {
        "id": "sBhFDrzlfTHf"
      },
      "source": [
        "# 20 way 1 shot"
      ]
    },
    {
      "cell_type": "markdown",
      "metadata": {
        "id": "6u112WKcfTHg"
      },
      "source": [
        "## Picking indices"
      ]
    },
    {
      "cell_type": "code",
      "metadata": {
        "colab": {
          "base_uri": "https://localhost:8080/"
        },
        "id": "-th0mOYQfTHg",
        "outputId": "1cf411fa-4d85-4767-909d-d209d931495e"
      },
      "source": [
        "num_ways = 20\n",
        "num_shot = 1\n",
        "num_eval = 10\n",
        "shuffle = False\n",
        "num_episodes = 100\n",
        "\n",
        "train_indices, eval_indices, wi_y, eval_y = prepare_indices(\n",
        "    num_ways, num_shot, num_eval, num_episodes, label_dictionary, test_labels, shuffle\n",
        ")"
      ],
      "execution_count": null,
      "outputs": [
        {
          "output_type": "stream",
          "text": [
            " [elapsed time: 0:00:00] |*******************************   | (ETA:   0:00:00) "
          ],
          "name": "stderr"
        }
      ]
    },
    {
      "cell_type": "code",
      "metadata": {
        "id": "n-wHhnx9F2v2",
        "colab": {
          "base_uri": "https://localhost:8080/"
        },
        "outputId": "5848eda5-d71b-40f3-db21-a3749bfb0057"
      },
      "source": [
        "embedding_model = embedding_models.CLIPEmbeddingWrapper()\n",
        "num_augmentations = 0\n",
        "trivial=False\n",
        "\n",
        "indices, embeddings = embed_images(\n",
        "    embedding_model, \n",
        "    train_indices, \n",
        "    num_augmentations,\n",
        "    trivial=trivial\n",
        "    )"
      ],
      "execution_count": null,
      "outputs": [
        {
          "output_type": "stream",
          "text": [
            "\r                                                                               \r\r [elapsed time: 0:00:00] |                                  | (ETA:  --:--:--) "
          ],
          "name": "stderr"
        },
        {
          "output_type": "stream",
          "text": [
            "Found 12000 files belonging to 20 classes.\n"
          ],
          "name": "stdout"
        },
        {
          "output_type": "stream",
          "text": [
            " [elapsed time: 0:01:05] |**********************************| (ETA:  00:00:00) "
          ],
          "name": "stderr"
        }
      ]
    },
    {
      "cell_type": "markdown",
      "metadata": {
        "id": "Sph7dLY0fTHh"
      },
      "source": [
        "## CLIP"
      ]
    },
    {
      "cell_type": "code",
      "metadata": {
        "colab": {
          "base_uri": "https://localhost:8080/"
        },
        "id": "0wBzaqB3fTHh",
        "outputId": "38b6f7e8-5278-4fdc-c221-1248359fec16"
      },
      "source": [
        "clip_embeddings_test_fn = \"clip\" + test_embeddings_filename_suffix\n",
        "clip_embeddings_test = get_ndarray_from_drive(drive, folderid, clip_embeddings_test_fn)"
      ],
      "execution_count": null,
      "outputs": [
        {
          "output_type": "stream",
          "text": [
            "Downloading clip_embeddings_test.npz from GDrive\n"
          ],
          "name": "stdout"
        }
      ]
    },
    {
      "cell_type": "code",
      "metadata": {
        "id": "NMTxo_ZaFXxM",
        "colab": {
          "base_uri": "https://localhost:8080/"
        },
        "outputId": "f8880a6b-7641-4efb-807e-cdcca25fd926"
      },
      "source": [
        "import warnings\n",
        "\n",
        "warnings.filterwarnings('ignore')\n",
        "\n",
        "if trivial:\n",
        "  #cc\n",
        "    results_filename = \"new_metrics\"+dataset_name+\"_0t\"+str(num_ways)+\"w\"+str(num_shot)+\"s\"+str(num_augmentations)+\"a_trivial_clip_zs_metrics_with_logits.json\"\n",
        "else:\n",
        "  #cc\n",
        "    results_filename = \"new_metrics\"+dataset_name+\"_0t\"+str(num_ways)+\"w\"+str(num_shot)+\"s\"+str(num_augmentations)+\"a_clip_zs_metrics_with_logits.json\"\n",
        "\n",
        "auth.authenticate_user()\n",
        "gauth = GoogleAuth()\n",
        "gauth.credentials = GoogleCredentials.get_application_default()\n",
        "drive = GoogleDrive(gauth)\n",
        "download_file_by_name(drive, folderid, results_filename)\n",
        "if results_filename in os.listdir():\n",
        "    with open(results_filename, 'r') as f:\n",
        "      #cc\n",
        "        json_loaded = json.load(f)\n",
        "        #cc\n",
        "        clip_metrics_over_train_epochs = json_loaded['metrics']\n",
        "        #cc\n",
        "        logits_over_train_epochs = json_loaded[\"logits\"]\n",
        "else:\n",
        "    clip_metrics_over_train_epochs = []  \n",
        "    #cc  \n",
        "    logits_over_train_epochs = []   \n",
        "\n",
        "train_epochs_arr = [0]\n",
        "multi_label=False\n",
        "# metrics_vals = ['hamming', 'jaccard', 'f1_score'] # ['accuracy', 'f1_score']\n",
        "\n",
        "for idx, train_epochs in enumerate(train_epochs_arr):\n",
        "    if idx < len(clip_metrics_over_train_epochs):\n",
        "        continue\n",
        "    print(train_epochs)\n",
        "    #cc\n",
        "    clip_metrics_thresholds, all_logits = run_evaluations(\n",
        "        (indices, embeddings),\n",
        "        train_indices,\n",
        "        eval_indices,\n",
        "        wi_y,\n",
        "        eval_y,\n",
        "        num_episodes,\n",
        "        num_ways,\n",
        "        class_names,\n",
        "        train_epochs=train_epochs,\n",
        "        num_augmentations=num_augmentations,\n",
        "        embeddings=clip_embeddings_test\n",
        "    )\n",
        "    clip_metrics_over_train_epochs.append(clip_metrics_thresholds)\n",
        "    #cc\n",
        "    logits_over_train_epochs.append(all_logits)\n",
        "\n",
        "#cc\n",
        "    fin_list = []\n",
        "    #cc the whole for loop\n",
        "    for a1 in wi_y:\n",
        "      fin_a1_list = []\n",
        "      for a2 in a1:\n",
        "        new_val = str(a2)\n",
        "        fin_a1_list.append(new_val)\n",
        "      fin_list.append(fin_a1_list)\n",
        "\n",
        "    with open(results_filename, 'w') as f:\n",
        "      #cc\n",
        "        results = {'metrics': clip_metrics_over_train_epochs,\n",
        "                   \"logits\": logits_over_train_epochs,\n",
        "                   \"true_labels\": fin_list}\n",
        "        json.dump(results, f)\n",
        "    auth.authenticate_user()\n",
        "    gauth = GoogleAuth()\n",
        "    gauth.credentials = GoogleCredentials.get_application_default()\n",
        "    drive = GoogleDrive(gauth)\n",
        "    delete_file_by_name(drive, folderid, results_filename)\n",
        "    save_to_drive(drive, folderid, results_filename)"
      ],
      "execution_count": null,
      "outputs": [
        {
          "output_type": "stream",
          "text": [
            "\r                                                                               \r\r [elapsed time: 0:00:00] |                                  | (ETA:  --:--:--) "
          ],
          "name": "stderr"
        },
        {
          "output_type": "stream",
          "text": [
            "0\n"
          ],
          "name": "stdout"
        },
        {
          "output_type": "stream",
          "text": [
            " [elapsed time: 0:10:33] |**********************************| (ETA:  00:00:00) "
          ],
          "name": "stderr"
        },
        {
          "output_type": "stream",
          "text": [
            "Uploaded new_metricsMiniImagenet_0t20w1s0a_clip_zs_metrics_with_logits.json to https://drive.google.com/drive/u/1/folders/1oXR6SbK6rQeP1steSaQnCwh4cLgKjccs\n"
          ],
          "name": "stdout"
        }
      ]
    },
    {
      "cell_type": "code",
      "metadata": {
        "id": "jeskwalZFXxN"
      },
      "source": [
        "if trivial:\n",
        "    PLOT_DIR = \"NewMetrics_clip_zs_Sigmoid_MiniImagenet\" + \"_0t\" + str(num_ways) + \"w\" + str(num_shot) + \"s\" + str(num_augmentations) + \"a_trivial_plots\"\n",
        "else:\n",
        "    PLOT_DIR = \"NewMetrics_clip_zs_Sigmoid_MiniImagenet\" + \"_0t\" + str(num_ways) + \"w\" + str(num_shot) + \"s\" + str(num_augmentations) + \"a_plots\"\n",
        "os.mkdir(PLOT_DIR)"
      ],
      "execution_count": null,
      "outputs": []
    },
    {
      "cell_type": "code",
      "metadata": {
        "id": "_TYQpdqDFXxO",
        "colab": {
          "base_uri": "https://localhost:8080/"
        },
        "outputId": "b18f91a5-4287-411f-83c2-3da47e2b435b"
      },
      "source": [
        "all_metrics = ['accuracy', 'ap', 'map', 'c_f1', 'o_f1', 'c_precision', 'o_precision', 'c_recall', 'o_recall', 'top1_accuracy', 'top5_accuracy', 'classwise_accuracy', 'c_accuracy']\n",
        "\n",
        "final_dict = {}\n",
        "for ind_metric in all_metrics:\n",
        "  vals = []\n",
        "  final_array = []\n",
        "  for mt in clip_metrics_over_train_epochs:\n",
        "      ret_val = get_best_metric(mt,ind_metric,\"max\")\n",
        "      vals.append(ret_val)\n",
        "\n",
        "  final_array.append(vals)\n",
        "  final_dict[ind_metric] = final_array\n",
        "\n",
        "if trivial:\n",
        "    graph_filename = \"new_metrics\"+dataset_name+\"_0t\"+str(num_ways)+\"w\"+str(num_shot)+\"s\"+str(num_augmentations)+\"a_trivial_clip_zs_metrics_graphs.json\"\n",
        "else:\n",
        "    graph_filename = \"new_metrics\"+dataset_name+\"_0t\"+str(num_ways)+\"w\"+str(num_shot)+\"s\"+str(num_augmentations)+\"a_clip_zs_metrics_graphs.json\"\n",
        "\n",
        "with open(graph_filename, 'w') as f:\n",
        "        json.dump(final_dict, f)\n",
        "\n",
        "auth.authenticate_user()\n",
        "gauth = GoogleAuth()\n",
        "gauth.credentials = GoogleCredentials.get_application_default()\n",
        "drive = GoogleDrive(gauth)\n",
        "delete_file_by_name(drive, folderid, graph_filename)\n",
        "save_to_drive(drive, folderid, graph_filename)"
      ],
      "execution_count": null,
      "outputs": [
        {
          "output_type": "stream",
          "text": [
            "Uploaded new_metricsMiniImagenet_0t20w1s0a_clip_zs_metrics_graphs.json to https://drive.google.com/drive/u/1/folders/1oXR6SbK6rQeP1steSaQnCwh4cLgKjccs\n"
          ],
          "name": "stdout"
        }
      ]
    },
    {
      "cell_type": "code",
      "metadata": {
        "id": "4dkyC88hFXxO",
        "colab": {
          "base_uri": "https://localhost:8080/"
        },
        "outputId": "6701ecb2-7458-468e-9898-ec0731736ae2"
      },
      "source": [
        "zip_dirname = PLOT_DIR + \".zip\"\n",
        "zip_source = PLOT_DIR\n",
        "! zip -r $zip_dirname $zip_source\n",
        "\n",
        "auth.authenticate_user()\n",
        "gauth = GoogleAuth()\n",
        "gauth.credentials = GoogleCredentials.get_application_default()\n",
        "drive = GoogleDrive(gauth)\n",
        "save_to_drive(drive, folderid, zip_dirname)"
      ],
      "execution_count": null,
      "outputs": [
        {
          "output_type": "stream",
          "text": [
            "  adding: NewMetrics_clip_zs_Sigmoid_MiniImagenet20w1s0a_plots/ (stored 0%)\n",
            "Uploaded NewMetrics_clip_zs_Sigmoid_MiniImagenet20w1s0a_plots.zip to https://drive.google.com/drive/u/1/folders/1oXR6SbK6rQeP1steSaQnCwh4cLgKjccs\n"
          ],
          "name": "stdout"
        }
      ]
    }
  ]
}